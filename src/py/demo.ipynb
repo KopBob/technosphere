{
 "cells": [
  {
   "cell_type": "code",
   "execution_count": 1,
   "metadata": {
    "collapsed": true
   },
   "outputs": [],
   "source": [
    "from copy import deepcopy\n",
    "\n",
    "import dateutil as dt\n",
    "\n",
    "import scipy.stats as st\n",
    "import numpy as np\n",
    "import matplotlib.pyplot as plt\n",
    "import pandas as pd\n",
    "\n",
    "%matplotlib inline"
   ]
  },
  {
   "cell_type": "code",
   "execution_count": 2,
   "metadata": {
    "collapsed": true
   },
   "outputs": [],
   "source": [
    "TICKET_TYPES_LIST = (\n",
    "    (0, 'adult'),\n",
    "    (1, 'childish'),\n",
    "    (2, 'concessionary'),\n",
    ")\n",
    "\n",
    "TICKET_TYPES_DICT = dict(TICKET_TYPES_LIST)"
   ]
  },
  {
   "cell_type": "code",
   "execution_count": 3,
   "metadata": {
    "collapsed": true
   },
   "outputs": [],
   "source": [
    "class LogEntry(object):\n",
    "    def __init__(self, date, ticket_type_id, action, user_id, convert_to_tzlocal=False):\n",
    "        self.date = dt.parser.parse(date)\n",
    "        if convert_to_tzlocal:\n",
    "            self.date = self.date.astimezone(tz.tzlocal())\n",
    "        self.ticket_type = TICKET_TYPES_DICT.get(int(ticket_type_id))\n",
    "        self.action = int(action)\n",
    "        self.user_id = int(user_id)\n",
    "        \n",
    "    def __cmp__(self, other):\n",
    "        if self.date < other.date:\n",
    "            return -1\n",
    "        elif self.date == other.date:\n",
    "            return 0\n",
    "        else:\n",
    "            return 1\n",
    "\n",
    "    def __log(self):\n",
    "        return \"%s;%s;%s;%s\" % (self.date, self.ticket_type, self.action, self.user_id)\n",
    "\n",
    "    def __repr__(self):\n",
    "        return self.__log()\n",
    "\n",
    "    def __unicode__(self):\n",
    "        return self.__log()"
   ]
  },
  {
   "cell_type": "code",
   "execution_count": 4,
   "metadata": {
    "collapsed": false
   },
   "outputs": [],
   "source": [
    "def generate_time():\n",
    "    enter_day = np.random.randint(10, 25)\n",
    "    exit_day = np.random.randint(enter_day, 31 + 1)\n",
    "\n",
    "    # print enter_day, exit_day\n",
    "\n",
    "    enter_hour = np.random.randint(10, 21 + 1)\n",
    "    exit_hour = np.random.randint(enter_hour + 1, 23 + 1)\n",
    "\n",
    "    # print enter_hour, exit_hour\n",
    "\n",
    "    enter_minutes = np.random.randint(10, 40 + 1)\n",
    "    exit_minutes = np.random.randint(enter_hour + 1, 59 + 1)\n",
    "\n",
    "    # print enter_minutes, exit_minutes\n",
    "\n",
    "    enter_seconds = np.random.randint(10, 40 + 1)\n",
    "    exit_seconds = np.random.randint(enter_hour + 1, 59 + 1)\n",
    "\n",
    "    # print enter_seconds, exit_seconds\n",
    "\n",
    "    enter_time_zone = np.random.randint(0, 9 + 1)\n",
    "    enter_time_zone_direction = '+' if np.random.randint(0, 2) else '-'\n",
    "    exit_time_zone = np.random.randint(0, 9 + 1)\n",
    "    exit_time_zone_direction = '+' if np.random.randint(0, 2) else '-'\n",
    "\n",
    "    # print enter_time_zone, enter_time_zone_direction\n",
    "    # print exit_time_zone, exit_time_zone_direction\n",
    "\n",
    "    enter_time_str = \"2015-07-%s %s:%s:%s %s0%s00\" % (enter_day, enter_hour, enter_minutes, enter_seconds,\n",
    "                                      '-', enter_time_zone)\n",
    "    exit_time_str = \"2015-07-%s %s:%s:%s %s0%s00\" % (exit_day, exit_hour, exit_minutes, exit_seconds,\n",
    "                                      '+', exit_time_zone)\n",
    "\n",
    "    return enter_time_str, exit_time_str"
   ]
  },
  {
   "cell_type": "code",
   "execution_count": 5,
   "metadata": {
    "collapsed": true
   },
   "outputs": [],
   "source": [
    "def generate_visitor(user_id=None):\n",
    "    enter_time_str, exit_time_str = generate_time()\n",
    "    ticket_type_id = np.random.randint(0, 3)\n",
    "\n",
    "    enter_log = LogEntry(enter_time_str, ticket_type_id, 1, user_id)\n",
    "    exit_log = LogEntry(exit_time_str, ticket_type_id, 0, user_id)\n",
    "\n",
    "    return enter_log, exit_log"
   ]
  },
  {
   "cell_type": "code",
   "execution_count": 6,
   "metadata": {
    "collapsed": false
   },
   "outputs": [],
   "source": [
    "enters, exits = zip(*[generate_visitor(i) for i in range(0, 1000)])\n",
    "data = list(enters + exits)\n",
    "data = sorted(data)"
   ]
  },
  {
   "cell_type": "code",
   "execution_count": 7,
   "metadata": {
    "collapsed": false
   },
   "outputs": [],
   "source": [
    "test_data = [\n",
    "    '2015-07-10 11:30:28 +0300;0;1;390',\n",
    "    '2015-07-10 11:32:28 +0300;0;1;391',\n",
    "    '2015-07-10 11:33:28 +0300;0;0;390',\n",
    "    '2015-07-10 11:34:28 +0300;0;0;391',\n",
    "    '2015-07-10 11:35:28 +0300;0;1;392',\n",
    "    '2015-07-10 11:36:28 +0300;0;1;393',\n",
    "    '2015-07-10 11:37:28 +0300;0;0;392',\n",
    "    '2015-07-10 11:38:28 +0300;0;0;393',\n",
    "] \n",
    "test_data = [LogEntry(*d.split(';')) for d in test_data]"
   ]
  },
  {
   "cell_type": "code",
   "execution_count": 8,
   "metadata": {
    "collapsed": false
   },
   "outputs": [
    {
     "data": {
      "text/plain": [
       "[2015-07-10 11:30:28+03:00;adult;1;390,\n",
       " 2015-07-10 11:32:28+03:00;adult;1;391,\n",
       " 2015-07-10 11:33:28+03:00;adult;0;390,\n",
       " 2015-07-10 11:34:28+03:00;adult;0;391,\n",
       " 2015-07-10 11:35:28+03:00;adult;1;392,\n",
       " 2015-07-10 11:36:28+03:00;adult;1;393,\n",
       " 2015-07-10 11:37:28+03:00;adult;0;392,\n",
       " 2015-07-10 11:38:28+03:00;adult;0;393]"
      ]
     },
     "execution_count": 8,
     "metadata": {},
     "output_type": "execute_result"
    }
   ],
   "source": [
    "test_data"
   ]
  },
  {
   "cell_type": "code",
   "execution_count": 9,
   "metadata": {
    "collapsed": false
   },
   "outputs": [],
   "source": [
    "def compute_popular_time_intervals(logs):\n",
    "    max_visitors  = -1\n",
    "    curr_visitors = 0; curr_date = None\n",
    "    prev_visitors = 0; prev_date = None\n",
    "\n",
    "    tickets_distribution = {y:0 for _,y in TICKET_TYPES_DICT.iteritems()}\n",
    "\n",
    "    intervals = []\n",
    "    \n",
    "    for log in sorted(logs):\n",
    "        action    = 1 if log.action else -1\n",
    "        curr_date = log.date\n",
    "\n",
    "        curr_visitors += action\n",
    "\n",
    "        if curr_visitors > max_visitors:\n",
    "            max_visitors = curr_visitors\n",
    "            print log, \" action = \", log.action, \" max = \", max_visitors\n",
    "            del intervals[:]\n",
    "\n",
    "        if prev_visitors > curr_visitors:\n",
    "            if prev_visitors == max_visitors:\n",
    "                interval = ((prev_date, curr_date),\n",
    "                            deepcopy(tickets_distribution))\n",
    "                intervals.append(interval)\n",
    "                \n",
    "        prev_visitors = curr_visitors\n",
    "        prev_date     = curr_date\n",
    "\n",
    "        tickets_distribution[log.ticket_type] += action\n",
    "        \n",
    "    if prev_visitors == max_visitors:\n",
    "        interval = ((prev_date, None),\n",
    "                     deepcopy(tickets_distribution))\n",
    "        intervals.append(interval)\n",
    "    \n",
    "    return intervals"
   ]
  },
  {
   "cell_type": "code",
   "execution_count": 10,
   "metadata": {
    "collapsed": false
   },
   "outputs": [
    {
     "name": "stdout",
     "output_type": "stream",
     "text": [
      "2015-07-10 11:30:28+03:00;adult;1;390  action =  1  max =  1\n",
      "2015-07-10 11:32:28+03:00;adult;1;391  action =  1  max =  2\n",
      "Interval #1\n",
      "   from 2015-07-10 11:32:28+03:00\n",
      "   to   2015-07-10 11:33:28+03:00\n",
      "    childish = 0.0% (0)\n",
      "    adult = 100.0% (2)\n",
      "    concessionary = 0.0% (0)\n",
      "Interval #2\n",
      "   from 2015-07-10 11:36:28+03:00\n",
      "   to   2015-07-10 11:37:28+03:00\n",
      "    childish = 0.0% (0)\n",
      "    adult = 100.0% (2)\n",
      "    concessionary = 0.0% (0)\n"
     ]
    }
   ],
   "source": [
    "intervals = compute_popular_time_intervals(test_data)\n",
    "\n",
    "for i, (time_interval, tickets_distribution)  in enumerate(intervals):\n",
    "    print \"Interval #%s\" % (i + 1)\n",
    "    \n",
    "    from_date = time_interval[0]\n",
    "    from_date = from_date.astimezone(dt.tz.tzlocal()) if from_date else from_date\n",
    "    \n",
    "    to_date = time_interval[1]\n",
    "    to_date = to_date.astimezone(dt.tz.tzlocal()) if to_date else to_date\n",
    "    print \"   from %s\" % from_date\n",
    "    print \"   to   %s\" % to_date\n",
    "    \n",
    "    visitors_amount = sum(tickets_distribution.values())\n",
    "    for key, val in tickets_distribution.items():\n",
    "        print \"    %s = %s%% (%s)\" % (key, round(val/float(visitors_amount)*100, 2), val)\n",
    "\n"
   ]
  },
  {
   "cell_type": "code",
   "execution_count": null,
   "metadata": {
    "collapsed": false
   },
   "outputs": [],
   "source": []
  },
  {
   "cell_type": "code",
   "execution_count": 11,
   "metadata": {
    "collapsed": false
   },
   "outputs": [
    {
     "data": {
      "text/plain": [
       "'H'"
      ]
     },
     "execution_count": 11,
     "metadata": {},
     "output_type": "execute_result"
    }
   ],
   "source": [
    "\"Hello\"[:1:2]"
   ]
  },
  {
   "cell_type": "code",
   "execution_count": 12,
   "metadata": {
    "collapsed": false
   },
   "outputs": [
    {
     "data": {
      "text/plain": [
       "True"
      ]
     },
     "execution_count": 12,
     "metadata": {},
     "output_type": "execute_result"
    }
   ],
   "source": [
    "bool(1 <= 2<=3)"
   ]
  },
  {
   "cell_type": "code",
   "execution_count": null,
   "metadata": {
    "collapsed": false
   },
   "outputs": [],
   "source": []
  },
  {
   "cell_type": "code",
   "execution_count": 13,
   "metadata": {
    "collapsed": false
   },
   "outputs": [
    {
     "data": {
      "text/plain": [
       "2.2"
      ]
     },
     "execution_count": 13,
     "metadata": {},
     "output_type": "execute_result"
    }
   ],
   "source": [
    "2.2"
   ]
  },
  {
   "cell_type": "code",
   "execution_count": null,
   "metadata": {
    "collapsed": true
   },
   "outputs": [],
   "source": []
  }
 ],
 "metadata": {
  "kernelspec": {
   "display_name": "Python 2",
   "language": "python",
   "name": "python2"
  },
  "language_info": {
   "codemirror_mode": {
    "name": "ipython",
    "version": 2
   },
   "file_extension": ".py",
   "mimetype": "text/x-python",
   "name": "python",
   "nbconvert_exporter": "python",
   "pygments_lexer": "ipython2",
   "version": "2.7.10"
  }
 },
 "nbformat": 4,
 "nbformat_minor": 0
}
