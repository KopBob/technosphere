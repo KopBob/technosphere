{
 "cells": [
  {
   "cell_type": "markdown",
   "metadata": {},
   "source": [
    "# ДЗ по мат. стату"
   ]
  },
  {
   "cell_type": "markdown",
   "metadata": {},
   "source": [
    "**Выполнил: Копин Борис Александрович**"
   ]
  },
  {
   "cell_type": "markdown",
   "metadata": {},
   "source": [
    " **Задание**: Вам необходимо реализовать на языке R функции вычисления доверительных интервалов для параметров нормального распределения для случаев, рассмотренных на занятии."
   ]
  },
  {
   "cell_type": "markdown",
   "metadata": {},
   "source": [
    "1) Вычисление доверительного интервала для среднего:\n",
    "* Дисперсия известна\n",
    "* Дисперсия неизвестна\n",
    "\n",
    "2) Вычисление доверительного интервала для дисперсии:\n",
    "* Мат. ожидаение известно\n",
    "* Мат. ожидаение неизвестно\n",
    "\n",
    "3) Вычисление доверительных интервалов для разницы мат. ожиданий двух выборок. По умолчанию следует проверять равенство дисперсий при помощи подхода с использованием F-теста, а далее в зависимости от результата:\n",
    "* либо с предположением о неравенстве дисперсий,\n",
    "* либо с альтернативой.\n",
    "\n",
    "Также должна присутствовать возможность задать предположение о равенстве дисперсий через параметры функции явно."
   ]
  },
  {
   "cell_type": "markdown",
   "metadata": {},
   "source": [
    "# Практическая часть"
   ]
  },
  {
   "cell_type": "markdown",
   "metadata": {},
   "source": [
    "## Функция 1"
   ]
  },
  {
   "cell_type": "code",
   "execution_count": 3,
   "metadata": {
    "collapsed": true
   },
   "outputs": [],
   "source": [
    "expectation.respect.to.variance <- function(sample, variance, alpha) {\n",
    "    sample.mean <- mean(sample)\n",
    "    .T <- (qnorm(1 - alpha/2, mean=0, sd=1) * variance) / sqrt(length(sample))\n",
    "    \n",
    "    left_bound <- sample.mean - .T\n",
    "    right_bound <- sample.mean + .T\n",
    "    return(c(left_bound, right_bound))\n",
    "}\n"
   ]
  },
  {
   "cell_type": "code",
   "execution_count": 4,
   "metadata": {
    "collapsed": true
   },
   "outputs": [],
   "source": [
    "expectation.respect.to.unknown.variance <- function(sample, alpha) {\n",
    "    .n <- length(sample)\n",
    "    .mean <- mean(sample)\n",
    "    \n",
    "    .S <- sqrt((1/(.n-1)) * sum((sample - .mean)**2))\n",
    "\n",
    "    .T <- (qt(1 - alpha/2, .n-1) * .S) / sqrt(.n)\n",
    "    \n",
    "    left_bound <- .mean - .T\n",
    "    right_bound <- .mean + .T\n",
    "    return(c(left_bound, right_bound))\n",
    "}"
   ]
  },
  {
   "cell_type": "code",
   "execution_count": 5,
   "metadata": {
    "collapsed": true
   },
   "outputs": [],
   "source": [
    "func1 <- function(sample, alpha, sigma) {\n",
    "    if(!missing(sigma)) {\n",
    "        ### Случай 1: Неизвестное мат. ожидание\n",
    "        ### при известной дисперсии\n",
    "        return (expectation.respect.to.variance(sample, sigma, alpha))\n",
    "    } else {\n",
    "        ### Случай 3: Неизвестное мат. ожидание\n",
    "        ### при неизвестной дисперсии\n",
    "        return (expectation.respect.to.unknown.variance(sample, alpha))\n",
    "    }\n",
    "}"
   ]
  },
  {
   "cell_type": "code",
   "execution_count": 6,
   "metadata": {
    "collapsed": false
   },
   "outputs": [
    {
     "name": "stdout",
     "output_type": "stream",
     "text": [
      "[1] -0.1860721  0.1896151\n",
      "[1] -0.184167  0.187710\n"
     ]
    }
   ],
   "source": [
    "{\n",
    "    n <- 1000\n",
    "    sigma <- 3\n",
    "    mu <- 0\n",
    "    alpha <- 0.05\n",
    "    sample <- rnorm(n, mean=mu, sd=sigma)\n",
    "    \n",
    "    print(func1(sample = sample, alpha = alpha))\n",
    "    print(func1(sample = sample, alpha = alpha, sigma))\n",
    "}"
   ]
  },
  {
   "cell_type": "markdown",
   "metadata": {},
   "source": [
    "## Функция 2"
   ]
  },
  {
   "cell_type": "code",
   "execution_count": 7,
   "metadata": {
    "collapsed": true
   },
   "outputs": [],
   "source": [
    "variance.respect.to.expectation <- function(sample, expectation, alpha) {\n",
    "    .n <- length(sample)\n",
    "    .T <- sum((sample - expectation)**2)\n",
    "\n",
    "    left_bound <- sqrt(.T/qchisq(1 - alpha/2, .n))\n",
    "    right_bound <- sqrt(.T/qchisq(alpha/2, .n))\n",
    "    return(c(left_bound, right_bound))\n",
    "}"
   ]
  },
  {
   "cell_type": "code",
   "execution_count": 8,
   "metadata": {
    "collapsed": true
   },
   "outputs": [],
   "source": [
    "variance.respect.to.unknown.mean <- function(sample, alpha) {\n",
    "    .n <- length(sample)\n",
    "    .T <- sum((sample[1:.n-1] - mean(sample[1:.n-1]))**2)\n",
    "\n",
    "    left_bound <- sqrt(.T/qchisq(1 - alpha/2, .n-1))\n",
    "    right_bound <- sqrt(.T/qchisq(alpha/2, .n-1))\n",
    "\n",
    "    return(c(left_bound, right_bound))\n",
    "}"
   ]
  },
  {
   "cell_type": "code",
   "execution_count": 9,
   "metadata": {
    "collapsed": true
   },
   "outputs": [],
   "source": [
    "func2 <- function(sample, alpha, mu) {\n",
    "    if(!missing(mu)) {\n",
    "        ### Случай 2: Неизвестная дисперсия\n",
    "        ### при известном мат. ожидании\n",
    "        return (variance.respect.to.expectation(sample, mu, alpha))\n",
    "    } else {\n",
    "        ### Случай 4: Неизвестная дисперсия\n",
    "        ### при известном мат. ожидании\n",
    "        return (variance.respect.to.unknown.mean(sample, alpha))\n",
    "    }\n",
    "}"
   ]
  },
  {
   "cell_type": "code",
   "execution_count": 10,
   "metadata": {
    "collapsed": false
   },
   "outputs": [
    {
     "name": "stdout",
     "output_type": "stream",
     "text": [
      "[1] 2.948739 3.219148\n",
      "[1] 2.948029 3.218232\n"
     ]
    }
   ],
   "source": [
    "{\n",
    "    n <- 1000\n",
    "    sigma <- 3\n",
    "    mu <- 0\n",
    "    alpha <- 0.05\n",
    "    sample <- rnorm(n, mean=mu, sd=sigma)\n",
    "    \n",
    "    print(func2(sample = sample, alpha = alpha))\n",
    "    print(func2(sample = sample, alpha = alpha, mu))\n",
    "}"
   ]
  },
  {
   "cell_type": "markdown",
   "metadata": {},
   "source": [
    "## Функция 3"
   ]
  },
  {
   "cell_type": "code",
   "execution_count": 11,
   "metadata": {
    "collapsed": true
   },
   "outputs": [],
   "source": [
    "fisher.test <- function(sample1, sample2) {\n",
    "    .n1 <- length(sample1)\n",
    "    .mean1 <- mean(sample1)\n",
    "    .s1 <- (1/(.n1-1)*sum((sample1 - .mean1)**2))\n",
    "    \n",
    "    .n2 <- length(sample2)\n",
    "    .mean2 <- mean(sample2)\n",
    "    .s2 <- (1/(.n2-1)*sum((sample2 - .mean2)**2))\n",
    "    \n",
    "    return(df(.s1/.s2, .n1-1, .n2-1))\n",
    "}"
   ]
  },
  {
   "cell_type": "code",
   "execution_count": 12,
   "metadata": {
    "collapsed": true
   },
   "outputs": [],
   "source": [
    "expectations.subs.respect.to.variances <- function(sample1, variance1, sample2, variance2, alpha) {\n",
    "    .n1 <- length(sample1)\n",
    "    .mean1 <- mean(sample1)\n",
    "    \n",
    "    .n2 <- length(sample2)\n",
    "    .mean2 <- mean(sample2)\n",
    "    \n",
    "    .S <- sqrt(variance1**2/.n1 + variance2**2/.n2)\n",
    "\n",
    "    .T <- qnorm(1 - alpha/2) * .S\n",
    "    \n",
    "    left_bound <- .mean1 - .mean2 - .T\n",
    "    right_bound <- .mean1 - .mean2 + .T\n",
    "    return(c(left_bound, right_bound))\n",
    "}"
   ]
  },
  {
   "cell_type": "code",
   "execution_count": 13,
   "metadata": {
    "collapsed": true
   },
   "outputs": [],
   "source": [
    "expectations.subs.respect.to.same.unknown.variances <- function(sample1, sample2, alpha) {\n",
    "    .n1 <- length(sample1)\n",
    "    .mean1 <- mean(sample1)\n",
    "    \n",
    "    .n2 <- length(sample2)\n",
    "    .mean2 <- mean(sample2)\n",
    "    \n",
    "    .S1 <- sqrt((sum((sample1 - .mean1)**2) + sum((sample2 - .mean2)**2))/(.n1 + .n2 - 2))\n",
    "    .S2 <- sqrt(1/.n1 + 1/.n2)\n",
    "\n",
    "    .T.left <- qt(1 - alpha/2, .n1 + .n2 -2) * .S1 * .S2\n",
    "    .T.right <- qt(alpha/2, .n1 + .n2 -2) * .S1 * .S2\n",
    "    \n",
    "    left_bound <- .mean1 - .mean2 - .T.left\n",
    "    right_bound <- .mean1 - .mean2 - .T.right\n",
    "    return(c(left_bound, right_bound))\n",
    "}"
   ]
  },
  {
   "cell_type": "code",
   "execution_count": 14,
   "metadata": {
    "collapsed": true
   },
   "outputs": [],
   "source": [
    "expectations.subs.respect.to.unknown.variances <- function(sample1, sample2, alpha) {\n",
    "    .n1 <- length(sample1)\n",
    "    .mean1 <- mean(sample1)\n",
    "    .s1 <- (1/(.n1-1)*sum((sample1 - .mean1)**2))\n",
    "    \n",
    "    .n2 <- length(sample2)\n",
    "    .mean2 <- mean(sample2)\n",
    "    .s2 <- (1/(.n2-1)*sum((sample2 - .mean2)**2))\n",
    "    \n",
    "    .t <- .s1/.n1 + .s2/.n2\n",
    "    .T <- sqrt(.t)\n",
    "    \n",
    "    .k <- (.t**2) / ( (.s1/.n1)**2/(.n1 - 1) + (.s2/.n2)**2/(.n2 - 1) )\n",
    "\n",
    "    .T.left <- qt(1 - alpha/2, .k) * .T\n",
    "    .T.right <- qt(alpha/2, .k) * .T\n",
    "    \n",
    "    left_bound <- .mean1 - .mean2 - .T.left\n",
    "    right_bound <- .mean1 - .mean2 - .T.right\n",
    "    return(c(left_bound, right_bound))\n",
    "}"
   ]
  },
  {
   "cell_type": "code",
   "execution_count": 15,
   "metadata": {
    "collapsed": false
   },
   "outputs": [],
   "source": [
    "func3 <- function(sample1, sample2, sigma1, sigma2, alpha, explicit=FALSE, threshold = 0.05) {\n",
    "    # при неизвестных дисперсиях\n",
    "    if(!missing(sigma1) & !missing(sigma2)) {\n",
    "        ### Случай 1: Неизвестная разница мат. ожиданий\n",
    "        ### при известных дисперсиях\n",
    "        print(\"Случай 1.\")\n",
    "        expectations.subs.respect.to.variances(sample1 = sample1,\n",
    "                                               variance1 = sigma1,\n",
    "                                               sample2 = sample2,\n",
    "                                               variance2 = sigma2,\n",
    "                                               alpha = alpha)\n",
    "    } else {\n",
    "        hipotesis <- explicit\n",
    "        \n",
    "        if (!hipotesis) {\n",
    "            # проверяем равенство дисперсий Ф-тестом\n",
    "            print(\"проверяем равенство дисперсий Ф-тестом\")\n",
    "            hipotesis <- (fisher.test(sample1 = sample1, sample2 = sample2) > threshold)\n",
    "        }\n",
    "\n",
    "        if (hipotesis) {\n",
    "            ### Случай 2: Неизвестная разница мат. ожиданий\n",
    "            ### при неизвестных, но равных дисперсиях\n",
    "            print(\"Случай 2.\")\n",
    "            expectations.subs.respect.to.same.unknown.variances(sample1 = sample1,\n",
    "                                                                sample2 = sample2,\n",
    "                                                                alpha = alpha)\n",
    "        } else {\n",
    "            ### Случай 3: Неизвестная разница мат. ожиданий\n",
    "            ### при неизвестных, но не равных дисперсиях\n",
    "            print(\"Случай 3.\")\n",
    "            expectations.subs.respect.to.unknown.variances(sample1 = sample1,\n",
    "                                                           sample2 = sample2,\n",
    "                                                           alpha = alpha)\n",
    "        }\n",
    "    }\n",
    "    \n",
    "    \n",
    "}"
   ]
  },
  {
   "cell_type": "code",
   "execution_count": 16,
   "metadata": {
    "collapsed": false
   },
   "outputs": [
    {
     "name": "stdout",
     "output_type": "stream",
     "text": [
      "[1] \"проверяем равенство дисперсий Ф-тестом\"\n",
      "[1] \"Случай 3.\"\n",
      "[1] -0.4484157  0.2877726\n",
      "[1] \"Случай 1.\"\n",
      "[1] -0.4417211  0.2810779\n"
     ]
    }
   ],
   "source": [
    "{\n",
    "    n <- 1000\n",
    "    alpha <- 0.05\n",
    "\n",
    "    sigma1 <- 3\n",
    "    sigma2 <- 5\n",
    "\n",
    "    mu1 <- 0\n",
    "    sample1 <- rnorm(n, mean=mu1, sd=sigma1)\n",
    "\n",
    "    mu2 <- 0\n",
    "    sample2 <- rnorm(n, mean=mu2, sd=sigma2)\n",
    "    \n",
    "    print(func3(sample1 = sample1, sample2 = sample2, alpha = alpha))\n",
    "    print(func3(sample1 = sample1, sample2 = sample2,\n",
    "                sigma1 = sigma1, sigma2 = sigma2, alpha = alpha))\n",
    "}"
   ]
  },
  {
   "cell_type": "markdown",
   "metadata": {},
   "source": []
  },
  {
   "cell_type": "markdown",
   "metadata": {},
   "source": [
    "# Исследовательская часть"
   ]
  },
  {
   "cell_type": "code",
   "execution_count": 290,
   "metadata": {
    "collapsed": true
   },
   "outputs": [],
   "source": [
    "n <- 1000\n",
    "sigma <- 3\n",
    "mu <- 0\n",
    "alpha <- 0.05\n",
    "sample <- rnorm(n, mean=mu, sd=sigma)"
   ]
  },
  {
   "cell_type": "markdown",
   "metadata": {},
   "source": [
    "## Одновыборочный случай"
   ]
  },
  {
   "cell_type": "markdown",
   "metadata": {},
   "source": [
    "### Случай 1: Неизвестное мат. ожидание при известной дисперсии"
   ]
  },
  {
   "cell_type": "markdown",
   "metadata": {},
   "source": [
    "Доверительный интервал для $\\mu$:\n",
    "$(\\ \\bar{X} - \\frac{Z_{1-\\alpha/2}*\\sigma}{\\sqrt{n}}\\ ,\\ \\bar{X} + \\frac{Z_{1-\\alpha/2}*\\sigma}{\\sqrt{n}}\\ )$"
   ]
  },
  {
   "cell_type": "code",
   "execution_count": 291,
   "metadata": {
    "collapsed": false
   },
   "outputs": [
    {
     "data": {
      "text/html": [
       "<ol class=list-inline>\n",
       "\t<li>TRUE</li>\n",
       "\t<li>TRUE</li>\n",
       "</ol>\n"
      ],
      "text/latex": [
       "\\begin{enumerate*}\n",
       "\\item TRUE\n",
       "\\item TRUE\n",
       "\\end{enumerate*}\n"
      ],
      "text/markdown": [
       "1. TRUE\n",
       "2. TRUE\n",
       "\n",
       "\n"
      ],
      "text/plain": [
       "[1] TRUE TRUE"
      ]
     },
     "execution_count": 291,
     "metadata": {},
     "output_type": "execute_result"
    },
    {
     "data": {
      "text/html": [
       "<ol class=list-inline>\n",
       "\t<li>-0.18333035215967</li>\n",
       "\t<li>0.188546667223067</li>\n",
       "</ol>\n"
      ],
      "text/latex": [
       "\\begin{enumerate*}\n",
       "\\item -0.18333035215967\n",
       "\\item 0.188546667223067\n",
       "\\end{enumerate*}\n"
      ],
      "text/markdown": [
       "1. -0.18333035215967\n",
       "2. 0.188546667223067\n",
       "\n",
       "\n"
      ],
      "text/plain": [
       "[1] -0.1833304  0.1885467"
      ]
     },
     "execution_count": 291,
     "metadata": {},
     "output_type": "execute_result"
    }
   ],
   "source": [
    "confidence.interval <- expectation.respect.to.variance(sample = sample, variance = sigma, alpha = alpha) \n",
    "c(confidence.interval[1] < mu, mu < confidence.interval[2])\n",
    "confidence.interval"
   ]
  },
  {
   "cell_type": "markdown",
   "metadata": {},
   "source": [
    "### Случай 2: Неизвестная дисперсия при известном мат. ожидании"
   ]
  },
  {
   "cell_type": "markdown",
   "metadata": {},
   "source": [
    "Доверительный интервал для $\\sigma$: $(\\sqrt{\\frac{\\sum_{i=1}^{n}(X_i-\\mu)^2}{\\chi^2_{1-\\alpha/2, n}}},\\sqrt{\\ \\frac{\\sum_{i=1}^{n}(X_i-\\mu)^2}{\\chi^2_{\\alpha/2, n}}})$"
   ]
  },
  {
   "cell_type": "code",
   "execution_count": 292,
   "metadata": {
    "collapsed": false
   },
   "outputs": [
    {
     "data": {
      "text/html": [
       "<ol class=list-inline>\n",
       "\t<li>TRUE</li>\n",
       "\t<li>TRUE</li>\n",
       "</ol>\n"
      ],
      "text/latex": [
       "\\begin{enumerate*}\n",
       "\\item TRUE\n",
       "\\item TRUE\n",
       "\\end{enumerate*}\n"
      ],
      "text/markdown": [
       "1. TRUE\n",
       "2. TRUE\n",
       "\n",
       "\n"
      ],
      "text/plain": [
       "[1] TRUE TRUE"
      ]
     },
     "execution_count": 292,
     "metadata": {},
     "output_type": "execute_result"
    },
    {
     "data": {
      "text/html": [
       "<ol class=list-inline>\n",
       "\t<li>2.82048553439016</li>\n",
       "\t<li>3.07899845830605</li>\n",
       "</ol>\n"
      ],
      "text/latex": [
       "\\begin{enumerate*}\n",
       "\\item 2.82048553439016\n",
       "\\item 3.07899845830605\n",
       "\\end{enumerate*}\n"
      ],
      "text/markdown": [
       "1. 2.82048553439016\n",
       "2. 3.07899845830605\n",
       "\n",
       "\n"
      ],
      "text/plain": [
       "[1] 2.820486 3.078998"
      ]
     },
     "execution_count": 292,
     "metadata": {},
     "output_type": "execute_result"
    }
   ],
   "source": [
    "confidence.interval <- variance.respect.to.expectation(sample = sample, expectation = mu, alpha = 0.05) \n",
    "c(confidence.interval[1] < sigma, sigma < confidence.interval[2])\n",
    "confidence.interval"
   ]
  },
  {
   "cell_type": "markdown",
   "metadata": {},
   "source": [
    "### Случай 3: Неизвестная дисперсия при неизвестном мат. ожидании"
   ]
  },
  {
   "cell_type": "markdown",
   "metadata": {},
   "source": [
    "Доверительный интервал для $\\sigma$, $\\mu$ как выборочное среднее:\n",
    "$(\\sqrt{\\frac{\\sum_{i=1}^{n}(X_i-\\bar{X})^2}{\\chi^2_{1-\\alpha/2, n-1}}},\\sqrt{\\ \\frac{\\sum_{i=1}^{n}(X_i-\\bar{X})^2}{\\chi^2_{\\alpha/2, n-1}}})$"
   ]
  },
  {
   "cell_type": "code",
   "execution_count": 293,
   "metadata": {
    "collapsed": false
   },
   "outputs": [
    {
     "data": {
      "text/html": [
       "<ol class=list-inline>\n",
       "\t<li>TRUE</li>\n",
       "\t<li>TRUE</li>\n",
       "</ol>\n"
      ],
      "text/latex": [
       "\\begin{enumerate*}\n",
       "\\item TRUE\n",
       "\\item TRUE\n",
       "\\end{enumerate*}\n"
      ],
      "text/markdown": [
       "1. TRUE\n",
       "2. TRUE\n",
       "\n",
       "\n"
      ],
      "text/plain": [
       "[1] TRUE TRUE"
      ]
     },
     "execution_count": 293,
     "metadata": {},
     "output_type": "execute_result"
    },
    {
     "data": {
      "text/html": [
       "<ol class=list-inline>\n",
       "\t<li>2.82129822871303</li>\n",
       "\t<li>3.08002092352174</li>\n",
       "</ol>\n"
      ],
      "text/latex": [
       "\\begin{enumerate*}\n",
       "\\item 2.82129822871303\n",
       "\\item 3.08002092352174\n",
       "\\end{enumerate*}\n"
      ],
      "text/markdown": [
       "1. 2.82129822871303\n",
       "2. 3.08002092352174\n",
       "\n",
       "\n"
      ],
      "text/plain": [
       "[1] 2.821298 3.080021"
      ]
     },
     "execution_count": 293,
     "metadata": {},
     "output_type": "execute_result"
    }
   ],
   "source": [
    "confidence.interval <- variance.respect.to.sample.mean(sample = sample, alpha = alpha) \n",
    "c(confidence.interval[1] < sigma, sigma < confidence.interval[2])\n",
    "confidence.interval"
   ]
  },
  {
   "cell_type": "markdown",
   "metadata": {},
   "source": [
    "### Случай 4: Неизвестное мат. ожидание при неизвестной дисперсии"
   ]
  },
  {
   "cell_type": "markdown",
   "metadata": {},
   "source": [
    "Доверительный интервал для $\\mu$, где $\\sigma$ как выборочная дисперсия: $(\\bar{X} - \\frac{t_{1-\\alpha/2, n-1}*S}{\\sqrt{n}}, \\frac{t_{1-\\alpha/2, n-1}*S}{\\sqrt{n}} + \\bar{X} )$, где ${S}={\\sqrt{\\frac{1}{n-1}*\\sum_{i=1}^{n}(X_i-\\bar{X})^2}}$"
   ]
  },
  {
   "cell_type": "code",
   "execution_count": 294,
   "metadata": {
    "collapsed": false
   },
   "outputs": [
    {
     "data": {
      "text/html": [
       "<ol class=list-inline>\n",
       "\t<li>TRUE</li>\n",
       "\t<li>TRUE</li>\n",
       "</ol>\n"
      ],
      "text/latex": [
       "\\begin{enumerate*}\n",
       "\\item TRUE\n",
       "\\item TRUE\n",
       "\\end{enumerate*}\n"
      ],
      "text/markdown": [
       "1. TRUE\n",
       "2. TRUE\n",
       "\n",
       "\n"
      ],
      "text/plain": [
       "[1] TRUE TRUE"
      ]
     },
     "execution_count": 294,
     "metadata": {},
     "output_type": "execute_result"
    },
    {
     "data": {
      "text/html": [
       "<ol class=list-inline>\n",
       "\t<li>-0.180174640174243</li>\n",
       "\t<li>0.18539095523764</li>\n",
       "</ol>\n"
      ],
      "text/latex": [
       "\\begin{enumerate*}\n",
       "\\item -0.180174640174243\n",
       "\\item 0.18539095523764\n",
       "\\end{enumerate*}\n"
      ],
      "text/markdown": [
       "1. -0.180174640174243\n",
       "2. 0.18539095523764\n",
       "\n",
       "\n"
      ],
      "text/plain": [
       "[1] -0.1801746  0.1853910"
      ]
     },
     "execution_count": 294,
     "metadata": {},
     "output_type": "execute_result"
    }
   ],
   "source": [
    "confidence.interval <- expectation.respect.to.unknown.variance(sample = sample, alpha = alpha) \n",
    "c(confidence.interval[1] < mu, mu < confidence.interval[2])\n",
    "confidence.interval"
   ]
  },
  {
   "cell_type": "markdown",
   "metadata": {},
   "source": [
    "## Двувыборочный случай"
   ]
  },
  {
   "cell_type": "code",
   "execution_count": 295,
   "metadata": {
    "collapsed": true
   },
   "outputs": [],
   "source": [
    "mu1 <- 0\n",
    "sigma1 <- 3\n",
    "sample1 <- rnorm(n, mean=mu1, sd=sigma1)\n",
    "\n",
    "mu2 <- 0\n",
    "sigma2 <- 3\n",
    "sample2 <- rnorm(n, mean=mu2, sd=sigma2)"
   ]
  },
  {
   "cell_type": "markdown",
   "metadata": {},
   "source": [
    "### Случай 1: Неизвестная разница мат. ожиданий при известных дисперсиях"
   ]
  },
  {
   "cell_type": "markdown",
   "metadata": {},
   "source": [
    "Тогда получаем доверительный интервал для $\\mu_1$ - $\\mu_2$  в интервале: $$(\\ \\bar{X}-\\bar{Y}-Z_{1-\\alpha/2}*\\sqrt{\\sigma_1^2/n_1+\\sigma_2^2/n_2},\\ \\bar{X}-\\bar{Y}+Z_{1-\\alpha/2}*\\sqrt{\\sigma_1^2/n_1+\\sigma_2^2/n_2}\\ )$$"
   ]
  },
  {
   "cell_type": "code",
   "execution_count": 296,
   "metadata": {
    "collapsed": false
   },
   "outputs": [
    {
     "data": {
      "text/html": [
       "<ol class=list-inline>\n",
       "\t<li>TRUE</li>\n",
       "\t<li>TRUE</li>\n",
       "</ol>\n"
      ],
      "text/latex": [
       "\\begin{enumerate*}\n",
       "\\item TRUE\n",
       "\\item TRUE\n",
       "\\end{enumerate*}\n"
      ],
      "text/markdown": [
       "1. TRUE\n",
       "2. TRUE\n",
       "\n",
       "\n"
      ],
      "text/plain": [
       "[1] TRUE TRUE"
      ]
     },
     "execution_count": 296,
     "metadata": {},
     "output_type": "execute_result"
    },
    {
     "data": {
      "text/html": [
       "<ol class=list-inline>\n",
       "\t<li>-0.399094728454918</li>\n",
       "\t<li>0.126818795891031</li>\n",
       "</ol>\n"
      ],
      "text/latex": [
       "\\begin{enumerate*}\n",
       "\\item -0.399094728454918\n",
       "\\item 0.126818795891031\n",
       "\\end{enumerate*}\n"
      ],
      "text/markdown": [
       "1. -0.399094728454918\n",
       "2. 0.126818795891031\n",
       "\n",
       "\n"
      ],
      "text/plain": [
       "[1] -0.3990947  0.1268188"
      ]
     },
     "execution_count": 296,
     "metadata": {},
     "output_type": "execute_result"
    }
   ],
   "source": [
    "confidence.interval <- expectations.subs.respect.to.variances(sample1 = sample1, variance1 = sigma1,\n",
    "                                                              sample2 = sample2, variance2 = sigma2,\n",
    "                                                              alpha = alpha) \n",
    "c(confidence.interval[1] < mu1-mu2, mu1-mu2 < confidence.interval[2])\n",
    "confidence.interval"
   ]
  },
  {
   "cell_type": "markdown",
   "metadata": {},
   "source": [
    "### Случай 2: Неизвестная разница мат. ожиданий при неизвестных, но равных дисперсиях"
   ]
  },
  {
   "cell_type": "markdown",
   "metadata": {},
   "source": [
    "Тогда получаем доверительный интервал для $\\mu_1$ - $\\mu_2$  в интервале: $$(\\bar{X} - \\bar{Y} - t_{1-\\alpha/2, n_1 + n_2 - 2}*S*\\sqrt{1/n_1 + 1/n_2}, \\bar{X} - \\bar{Y} - t_{\\alpha/2, n_1 + n_2 - 2}*S*\\sqrt{1/n_1 + 1/n_2})$$, при\n",
    "$$S=\\sqrt{\\frac{\\sum_{i=1}^{n1}(X_i-\\bar{X})^2 + \\sum_{i=1}^{n2}(Y_i-\\bar{Y})^2}{n1+n2-2}}$$"
   ]
  },
  {
   "cell_type": "code",
   "execution_count": 297,
   "metadata": {
    "collapsed": true
   },
   "outputs": [],
   "source": [
    "sigma <- 3\n",
    "\n",
    "mu1 <- 0\n",
    "sample1 <- rnorm(n, mean=mu1, sd=sigma)\n",
    "\n",
    "mu2 <- 0\n",
    "sample2 <- rnorm(n, mean=mu2, sd=sigma)"
   ]
  },
  {
   "cell_type": "code",
   "execution_count": 298,
   "metadata": {
    "collapsed": false
   },
   "outputs": [
    {
     "data": {
      "text/html": [
       "<ol class=list-inline>\n",
       "\t<li>TRUE</li>\n",
       "\t<li>TRUE</li>\n",
       "</ol>\n"
      ],
      "text/latex": [
       "\\begin{enumerate*}\n",
       "\\item TRUE\n",
       "\\item TRUE\n",
       "\\end{enumerate*}\n"
      ],
      "text/markdown": [
       "1. TRUE\n",
       "2. TRUE\n",
       "\n",
       "\n"
      ],
      "text/plain": [
       "[1] TRUE TRUE"
      ]
     },
     "execution_count": 298,
     "metadata": {},
     "output_type": "execute_result"
    },
    {
     "data": {
      "text/html": [
       "<ol class=list-inline>\n",
       "\t<li>-0.297238879700147</li>\n",
       "\t<li>0.219395621815621</li>\n",
       "</ol>\n"
      ],
      "text/latex": [
       "\\begin{enumerate*}\n",
       "\\item -0.297238879700147\n",
       "\\item 0.219395621815621\n",
       "\\end{enumerate*}\n"
      ],
      "text/markdown": [
       "1. -0.297238879700147\n",
       "2. 0.219395621815621\n",
       "\n",
       "\n"
      ],
      "text/plain": [
       "[1] -0.2972389  0.2193956"
      ]
     },
     "execution_count": 298,
     "metadata": {},
     "output_type": "execute_result"
    }
   ],
   "source": [
    "confidence.interval <- expectations.subs.respect.to.same.variances(sample1 = sample1, sample2 = sample2, alpha = alpha) \n",
    "c(confidence.interval[1] < mu1-mu2, mu1-mu2 < confidence.interval[2])\n",
    "confidence.interval"
   ]
  },
  {
   "cell_type": "markdown",
   "metadata": {},
   "source": [
    "### Случай 3: Неизвестная разница мат. ожиданий при неизвестных, но не равных дисперсиях"
   ]
  },
  {
   "cell_type": "markdown",
   "metadata": {},
   "source": [
    "Тогда получаем доверительный интервал для $\\mu_1$ - $\\mu_2$  в интервале:\n",
    "$$(\\bar{X} - \\bar{Y} - t_{1-\\alpha/2, k}*T, \\bar{X} - \\bar{Y} - t_{\\alpha/2, k}*T)$$\n",
    "$$T = \\sqrt{s_1^2/n_1+s_2^2/n_2}$$\n",
    "$$k=\\frac{(s_1^2/n_1+s_2^2/n_2)^2}{(s_1^2/n_1)^2/(n_1-1)+(s_2^2/n_2)^2/(n_2-1)}$$\n",
    "$$s_1^2=\\frac{1}{n_1-1}*\\sum_{i=1}^{n_1}(X_i-\\bar{X})^2$$\n",
    "$$s_2^2=\\frac{1}{n_2-1}*\\sum_{i=1}^{n_2}(Y_i-\\bar{Y})^2$$"
   ]
  },
  {
   "cell_type": "code",
   "execution_count": 299,
   "metadata": {
    "collapsed": true
   },
   "outputs": [],
   "source": [
    "sigma1 <- 3\n",
    "sigma2 <- 5\n",
    "\n",
    "mu1 <- 0\n",
    "sample1 <- rnorm(n, mean=mu1, sd=sigma1)\n",
    "\n",
    "mu2 <- 0\n",
    "sample2 <- rnorm(n, mean=mu2, sd=sigma2)"
   ]
  },
  {
   "cell_type": "code",
   "execution_count": 300,
   "metadata": {
    "collapsed": false
   },
   "outputs": [
    {
     "data": {
      "text/html": [
       "<ol class=list-inline>\n",
       "\t<li>TRUE</li>\n",
       "\t<li>TRUE</li>\n",
       "</ol>\n"
      ],
      "text/latex": [
       "\\begin{enumerate*}\n",
       "\\item TRUE\n",
       "\\item TRUE\n",
       "\\end{enumerate*}\n"
      ],
      "text/markdown": [
       "1. TRUE\n",
       "2. TRUE\n",
       "\n",
       "\n"
      ],
      "text/plain": [
       "[1] TRUE TRUE"
      ]
     },
     "execution_count": 300,
     "metadata": {},
     "output_type": "execute_result"
    },
    {
     "data": {
      "text/html": [
       "<ol class=list-inline>\n",
       "\t<li>-0.134469471993763</li>\n",
       "\t<li>0.579383585834592</li>\n",
       "</ol>\n"
      ],
      "text/latex": [
       "\\begin{enumerate*}\n",
       "\\item -0.134469471993763\n",
       "\\item 0.579383585834592\n",
       "\\end{enumerate*}\n"
      ],
      "text/markdown": [
       "1. -0.134469471993763\n",
       "2. 0.579383585834592\n",
       "\n",
       "\n"
      ],
      "text/plain": [
       "[1] -0.1344695  0.5793836"
      ]
     },
     "execution_count": 300,
     "metadata": {},
     "output_type": "execute_result"
    }
   ],
   "source": [
    "confidence.interval <- expectations.subs.respect.to.unknown.variances(sample1 = sample1, sample2 = sample2, alpha = alpha) \n",
    "c(confidence.interval[1] < mu1-mu2, mu1-mu2 < confidence.interval[2])\n",
    "confidence.interval"
   ]
  },
  {
   "cell_type": "markdown",
   "metadata": {},
   "source": [
    "### Проверка гипотез про равенство дисперсий"
   ]
  },
  {
   "cell_type": "markdown",
   "metadata": {},
   "source": [
    "Сначала считаем выборочные дисперсии:\n",
    "$$s_1^2=\\frac{1}{n_1-1}*\\sum_{i=1}^{n_1}(X_i-\\bar{X})^2$$\n",
    "$$s_2^2=\\frac{1}{n_2-1}*\\sum_{i=1}^{n_2}(Y_i-\\bar{Y})^2$$"
   ]
  },
  {
   "cell_type": "markdown",
   "metadata": {},
   "source": [
    "Далее строим статистику: $$F=s_1^2/s_2^2 \\sim F(n-1, m-1)$$"
   ]
  },
  {
   "cell_type": "code",
   "execution_count": 301,
   "metadata": {
    "collapsed": true
   },
   "outputs": [],
   "source": [
    "sigma1 <- 3\n",
    "sigma2 <- 3\n",
    "\n",
    "mu1 <- 0\n",
    "sample1 <- rnorm(n, mean=mu1, sd=sigma1)\n",
    "\n",
    "mu2 <- 0\n",
    "sample2 <- rnorm(n, mean=mu2, sd=sigma2)"
   ]
  },
  {
   "cell_type": "code",
   "execution_count": 302,
   "metadata": {
    "collapsed": false
   },
   "outputs": [
    {
     "data": {
      "text/html": [
       "TRUE"
      ],
      "text/latex": [
       "TRUE"
      ],
      "text/markdown": [
       "TRUE"
      ],
      "text/plain": [
       "[1] TRUE"
      ]
     },
     "execution_count": 302,
     "metadata": {},
     "output_type": "execute_result"
    }
   ],
   "source": [
    "fisher.test(sample1 = sample1, sample2 = sample2) > 0.05"
   ]
  },
  {
   "cell_type": "code",
   "execution_count": 303,
   "metadata": {
    "collapsed": false
   },
   "outputs": [
    {
     "data": {
      "text/html": [
       "TRUE"
      ],
      "text/latex": [
       "TRUE"
      ],
      "text/markdown": [
       "TRUE"
      ],
      "text/plain": [
       "[1] TRUE"
      ]
     },
     "execution_count": 303,
     "metadata": {},
     "output_type": "execute_result"
    }
   ],
   "source": [
    "sigma1 <- 4\n",
    "sigma2 <- 4\n",
    "\n",
    "mu1 <- 0\n",
    "sample1 <- rnorm(n, mean=mu1, sd=sigma1)\n",
    "\n",
    "mu2 <- 0\n",
    "sample2 <- rnorm(n, mean=mu2, sd=sigma2)\n",
    "\n",
    "fisher.test(sample1 = sample1, sample2 = sample2) > 0.05"
   ]
  },
  {
   "cell_type": "markdown",
   "metadata": {},
   "source": [
    "## Refferences:\n",
    "* центральная статистика - https://en.wikipedia.org/wiki/Pivotal_quantity\n",
    "* нормальное распределение - https://ru.wikipedia.org/wiki/%D0%9D%D0%BE%D1%80%D0%BC%D0%B0%D0%BB%D1%8C%D0%BD%D0%BE%D0%B5_%D1%80%D0%B0%D1%81%D0%BF%D1%80%D0%B5%D0%B4%D0%B5%D0%BB%D0%B5%D0%BD%D0%B8%D0%B5\n",
    "* Хи-квадрат https://ru.wikipedia.org/wiki/%D0%A0%D0%B0%D1%81%D0%BF%D1%80%D0%B5%D0%B4%D0%B5%D0%BB%D0%B5%D0%BD%D0%B8%D0%B5_%D1%85%D0%B8-%D0%BA%D0%B2%D0%B0%D0%B4%D1%80%D0%B0%D1%82\n",
    "* Chi-Squared Distribution - https://stat.ethz.ch/R-manual/R-devel/library/stats/html/Chisquare.html\n",
    "* The Student t Distribution - https://stat.ethz.ch/R-manual/R-devel/library/stats/html/TDist.html\n",
    "* Распределение фишера - https://stat.ethz.ch/R-manual/R-devel/library/stats/html/Fdist.html\n",
    "* The Normal Distribution - https://stat.ethz.ch/R-manual/R-devel/library/stats/html/Normal.html"
   ]
  },
  {
   "cell_type": "code",
   "execution_count": null,
   "metadata": {
    "collapsed": true
   },
   "outputs": [],
   "source": []
  }
 ],
 "metadata": {
  "kernelspec": {
   "display_name": "R",
   "language": "R",
   "name": "ir"
  },
  "language_info": {
   "codemirror_mode": "r",
   "file_extension": ".r",
   "mimetype": "text/x-r-source",
   "name": "R",
   "pygments_lexer": "r",
   "version": "3.2.2"
  }
 },
 "nbformat": 4,
 "nbformat_minor": 0
}
