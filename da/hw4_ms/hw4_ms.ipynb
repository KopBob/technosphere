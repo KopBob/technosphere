{
 "cells": [
  {
   "cell_type": "markdown",
   "metadata": {},
   "source": []
  },
  {
   "cell_type": "markdown",
   "metadata": {},
   "source": [
    "Задание: **Вам необходимо реализовать на языке R функции вычисления доверительных интервалов для параметров нормального распределения для случаев, рассмотренных на занятии. **"
   ]
  },
  {
   "cell_type": "markdown",
   "metadata": {},
   "source": [
    "1) Вычисление доверительного интервала для среднего:\n",
    "* Дисперсия известна\n",
    "* Дисперсия неизвестна\n",
    "\n",
    "2) Вычисление доверительного интервала для дисперсии:\n",
    "* Мат. ожидаение известно\n",
    "* Мат. ожидаение неизвестно\n",
    "\n",
    "3) Вычисление доверительных интервалов для разницы мат. ожиданий двух выборок. По умолчанию следует проверять равенство дисперсий при помощи подхода с использованием F-теста, а далее в зависимости от результата:\n",
    "* либо с предположением о неравенстве дисперсий,\n",
    "* либо с альтернативой.\n",
    "\n",
    "Также должна присутствовать возможность задать предположение о равенстве дисперсий через параметры функции явно."
   ]
  },
  {
   "cell_type": "markdown",
   "metadata": {},
   "source": [
    "## Функция 1"
   ]
  },
  {
   "cell_type": "code",
   "execution_count": null,
   "metadata": {
    "collapsed": true
   },
   "outputs": [],
   "source": [
    "expectation.respect.to.variance <- function(sample, variance, alpha) {\n",
    "    sample.mean <- mean(sample)\n",
    "    .T <- (qnorm(1 - alpha/2, mean=0, sd=1) * variance) / sqrt(length(sample))\n",
    "    \n",
    "    left_bound <- sample.mean - .T\n",
    "    right_bound <- sample.mean + .T\n",
    "    return(c(left_bound, right_bound))\n",
    "}\n"
   ]
  },
  {
   "cell_type": "code",
   "execution_count": null,
   "metadata": {
    "collapsed": true
   },
   "outputs": [],
   "source": [
    "expectation.respect.to.unknown.variance <- function(sample, alpha) {\n",
    "    .n <- length(sample)\n",
    "    .mean <- mean(sample)\n",
    "    \n",
    "    .S <- sqrt((1/(.n-1)) * sum((sample - .mean)**2))\n",
    "\n",
    "    .T <- (qt(1 - alpha/2, .n-1) * .S) / sqrt(.n)\n",
    "    \n",
    "    left_bound <- .mean - .T\n",
    "    right_bound <- .mean + .T\n",
    "    return(c(left_bound, right_bound))\n",
    "}"
   ]
  },
  {
   "cell_type": "code",
   "execution_count": 205,
   "metadata": {
    "collapsed": true
   },
   "outputs": [],
   "source": [
    "func1 <- function(sample, alpha, sigma) {\n",
    "    if(!missing(sigma)) {\n",
    "        ### Случай 1: Неизвестное мат. ожидание\n",
    "        ### при известной дисперсии\n",
    "        return (expectation.respect.to.variance(sample, variance, alpha))\n",
    "    } else {\n",
    "        ### Случай 3: Неизвестное мат. ожидание\n",
    "        ### при неизвестной дисперсии\n",
    "        return (expectation.respect.to.unknown.variance(sample, alpha))\n",
    "    }\n",
    "}"
   ]
  },
  {
   "cell_type": "markdown",
   "metadata": {},
   "source": [
    "## Функция 2"
   ]
  },
  {
   "cell_type": "code",
   "execution_count": null,
   "metadata": {
    "collapsed": true
   },
   "outputs": [],
   "source": [
    "variance.respect.to.expectation <- function(sample, expectation, alpha) {\n",
    "    .n <- length(sample)\n",
    "    .T <- sum((sample - expectation)**2)\n",
    "\n",
    "    left_bound <- sqrt(.T/qchisq(1 - alpha/2, .n))\n",
    "    right_bound <- sqrt(.T/qchisq(alpha/2, .n))\n",
    "    return(c(left_bound, right_bound))\n",
    "}"
   ]
  },
  {
   "cell_type": "code",
   "execution_count": null,
   "metadata": {
    "collapsed": true
   },
   "outputs": [],
   "source": [
    "variance.respect.to.unknown.mean <- function(sample, alpha) {\n",
    "    .n <- length(sample)\n",
    "    .T <- sum((sample[1:.n-1] - mean(sample[1:.n-1]))**2)\n",
    "\n",
    "    left_bound <- sqrt(.T/qchisq(1 - alpha/2, .n-1))\n",
    "    right_bound <- sqrt(.T/qchisq(alpha/2, .n-1))\n",
    "\n",
    "    return(c(left_bound, right_bound))\n",
    "}"
   ]
  },
  {
   "cell_type": "code",
   "execution_count": null,
   "metadata": {
    "collapsed": true
   },
   "outputs": [],
   "source": [
    "func2 <- function(sample, alpha, mu) {\n",
    "    if(!missing(sigma)) {\n",
    "        ### Случай 2: Неизвестная дисперсия\n",
    "        ### при известном мат. ожидании\n",
    "        return (variance.respect.to.expectation(sample, mu, alpha))\n",
    "    } else {\n",
    "        ### Случай 4: Неизвестная дисперсия\n",
    "        ### при известном мат. ожидании\n",
    "        return (variance.respect.to.unknown.mean(sample, alpha))\n",
    "    }\n",
    "}"
   ]
  },
  {
   "cell_type": "markdown",
   "metadata": {},
   "source": [
    "## Функция 3"
   ]
  },
  {
   "cell_type": "code",
   "execution_count": null,
   "metadata": {
    "collapsed": true
   },
   "outputs": [],
   "source": [
    "fisher.test <- function(sample1, sample2) {\n",
    "    .n1 <- length(sample1)\n",
    "    .mean1 <- mean(sample1)\n",
    "    .s1 <- (1/(.n1-1)*sum((sample1 - .mean1)**2))\n",
    "    \n",
    "    .n2 <- length(sample2)\n",
    "    .mean2 <- mean(sample2)\n",
    "    .s2 <- (1/(.n2-1)*sum((sample2 - .mean2)**2))\n",
    "    \n",
    "    return(df(.s1/.s2, .n1-1, .n2-1))\n",
    "}"
   ]
  },
  {
   "cell_type": "code",
   "execution_count": null,
   "metadata": {
    "collapsed": true
   },
   "outputs": [],
   "source": [
    "expectations.subs.respect.to.variances <- function(sample1, variance1, sample2, variance2, alpha) {\n",
    "    .n1 <- length(sample1)\n",
    "    .mean1 <- mean(sample1)\n",
    "    \n",
    "    .n2 <- length(sample2)\n",
    "    .mean2 <- mean(sample2)\n",
    "    \n",
    "    .S <- sqrt(variance1**2/.n1 + variance2**2/.n2)\n",
    "\n",
    "    .T <- qnorm(1 - alpha/2) * .S\n",
    "    \n",
    "    left_bound <- .mean1 - .mean2 - .T\n",
    "    right_bound <- .mean1 - .mean2 + .T\n",
    "    return(c(left_bound, right_bound))\n",
    "}"
   ]
  },
  {
   "cell_type": "code",
   "execution_count": null,
   "metadata": {
    "collapsed": true
   },
   "outputs": [],
   "source": [
    "expectations.subs.respect.to.same.unknown.variances <- function(sample1, sample2, alpha) {\n",
    "    .n1 <- length(sample1)\n",
    "    .mean1 <- mean(sample1)\n",
    "    \n",
    "    .n2 <- length(sample2)\n",
    "    .mean2 <- mean(sample2)\n",
    "    \n",
    "    .S1 <- sqrt((sum((sample1 - .mean1)**2) + sum((sample2 - .mean2)**2))/(.n1 + .n2 - 2))\n",
    "    .S2 <- sqrt(1/.n1 + 1/.n2)\n",
    "\n",
    "    .T.left <- qt(1 - alpha/2, .n1 + .n2 -2) * .S1 * .S2\n",
    "    .T.right <- qt(alpha/2, .n1 + .n2 -2) * .S1 * .S2\n",
    "    \n",
    "    left_bound <- .mean1 - .mean2 - .T.left\n",
    "    right_bound <- .mean1 - .mean2 - .T.right\n",
    "    return(c(left_bound, right_bound))\n",
    "}"
   ]
  },
  {
   "cell_type": "code",
   "execution_count": null,
   "metadata": {
    "collapsed": true
   },
   "outputs": [],
   "source": [
    "expectations.subs.respect.to.unknown.variances <- function(sample1, sample2, alpha) {\n",
    "    .n1 <- length(sample1)\n",
    "    .mean1 <- mean(sample1)\n",
    "    .s1 <- (1/(.n1-1)*sum((sample1 - .mean1)**2))\n",
    "    \n",
    "    .n2 <- length(sample2)\n",
    "    .mean2 <- mean(sample2)\n",
    "    .s2 <- (1/(.n2-1)*sum((sample2 - .mean2)**2))\n",
    "    \n",
    "    .t <- .s1/.n1 + .s2/.n2\n",
    "    .T <- sqrt(.t)\n",
    "    \n",
    "    .k <- (.t**2) / ( (.s1/.n1)**2/(.n1 - 1) + (.s2/.n2)**2/(.n2 - 1) )\n",
    "\n",
    "    .T.left <- qt(1 - alpha/2, .k) * .T\n",
    "    .T.right <- qt(alpha/2, .k) * .T\n",
    "    \n",
    "    left_bound <- .mean1 - .mean2 - .T.left\n",
    "    right_bound <- .mean1 - .mean2 - .T.right\n",
    "    return(c(left_bound, right_bound))\n",
    "}"
   ]
  },
  {
   "cell_type": "code",
   "execution_count": 200,
   "metadata": {
    "collapsed": false
   },
   "outputs": [],
   "source": [
    "func3 <- function(sample1, sample2, sigma1, sigma2, alpha, threshold = 0.05) {\n",
    "    \n",
    "    \n",
    "    # при неизвестных дисперсиях\n",
    "    if(missing(sigma1) & missing(sigma1)) {\n",
    "        ### Случай 1: Неизвестная разница мат. ожиданий\n",
    "        ### при известных дисперсиях\n",
    "        expectations.subs.respect.to.variances(sample1 = sample1,\n",
    "                                               variance1 = sigma1,\n",
    "                                               sample2 = sample2,\n",
    "                                               variance2 = sigma2,\n",
    "                                               alpha = alpha)\n",
    "    } else {\n",
    "        # проверяем равенство дисперсий Ф-тестом\n",
    "        is.sigma.same <- (fisher.test(sample1 = sample1, sample2 = sample2) > threshold)\n",
    "        \n",
    "        if (is.sigma.same) {\n",
    "            ### Случай 2: Неизвестная разница мат. ожиданий\n",
    "            ### при неизвестных, но равных дисперсиях\n",
    "            expectations.subs.respect.to.same.unknown.variances(sample1 = sample1,\n",
    "                                                                sample2 = sample2,\n",
    "                                                                alpha = alpha)\n",
    "        } else {\n",
    "            ### Случай 3: Неизвестная разница мат. ожиданий\n",
    "            ### при неизвестных, но не равных дисперсиях\n",
    "            expectations.subs.respect.to.unknown.variances(sample1 = sample1,\n",
    "                                                           sample2 = sample2,\n",
    "                                                           alpha = alpha)\n",
    "        }\n",
    "    }\n",
    "    \n",
    "    \n",
    "}"
   ]
  },
  {
   "cell_type": "code",
   "execution_count": 215,
   "metadata": {
    "collapsed": false
   },
   "outputs": [
    {
     "data": {
      "text/html": [
       "FALSE"
      ],
      "text/latex": [
       "FALSE"
      ],
      "text/markdown": [
       "FALSE"
      ],
      "text/plain": [
       "[1] FALSE"
      ]
     },
     "execution_count": 215,
     "metadata": {},
     "output_type": "execute_result"
    }
   ],
   "source": [
    "1 & 0"
   ]
  },
  {
   "cell_type": "code",
   "execution_count": 49,
   "metadata": {
    "collapsed": true
   },
   "outputs": [],
   "source": [
    "n <- 1000\n",
    "sigma <- 3\n",
    "mu <- 0\n",
    "alpha <- 0.05\n",
    "sample <- rnorm(n, mean=mu, sd=sigma)"
   ]
  },
  {
   "cell_type": "markdown",
   "metadata": {},
   "source": [
    "## Одновыборочный случай"
   ]
  },
  {
   "cell_type": "markdown",
   "metadata": {},
   "source": [
    "### Случай 1: Неизвестное мат. ожидание при известной дисперсии"
   ]
  },
  {
   "cell_type": "markdown",
   "metadata": {},
   "source": [
    "Доверительный интервал для $\\mu$:\n",
    "$(\\ \\bar{X} - \\frac{Z_{1-\\alpha/2}*\\sigma}{\\sqrt{n}}\\ ,\\ \\bar{X} + \\frac{Z_{1-\\alpha/2}*\\sigma}{\\sqrt{n}}\\ )$"
   ]
  },
  {
   "cell_type": "code",
   "execution_count": 87,
   "metadata": {
    "collapsed": false
   },
   "outputs": [],
   "source": [
    "expectation.respect.to.variance <- function(sample, variance, alpha) {\n",
    "    sample.mean <- mean(sample)\n",
    "    .T <- (qnorm(1 - alpha/2, mean=0, sd=1) * variance) / sqrt(length(sample))\n",
    "    \n",
    "    left_bound <- sample.mean - .T\n",
    "    right_bound <- sample.mean + .T\n",
    "    return(c(left_bound, right_bound))\n",
    "}\n"
   ]
  },
  {
   "cell_type": "code",
   "execution_count": 88,
   "metadata": {
    "collapsed": false
   },
   "outputs": [
    {
     "data": {
      "text/html": [
       "<ol class=list-inline>\n",
       "\t<li>TRUE</li>\n",
       "\t<li>TRUE</li>\n",
       "</ol>\n"
      ],
      "text/latex": [
       "\\begin{enumerate*}\n",
       "\\item TRUE\n",
       "\\item TRUE\n",
       "\\end{enumerate*}\n"
      ],
      "text/markdown": [
       "1. TRUE\n",
       "2. TRUE\n",
       "\n",
       "\n"
      ],
      "text/plain": [
       "[1] TRUE TRUE"
      ]
     },
     "execution_count": 88,
     "metadata": {},
     "output_type": "execute_result"
    }
   ],
   "source": [
    "confidence.interval <- expectation.respect.to.variance(sample = sample, variance = sigma, alpha = alpha) \n",
    "c(confidence.interval[1] < mu, mu < confidence.interval[2])"
   ]
  },
  {
   "cell_type": "markdown",
   "metadata": {},
   "source": [
    "### Случай 2: Неизвестная дисперсия при известном мат. ожидании"
   ]
  },
  {
   "cell_type": "markdown",
   "metadata": {},
   "source": [
    "Доверительный интервал для $\\sigma$: $(\\sqrt{\\frac{\\sum_{i=1}^{n}(X_i-\\mu)^2}{\\chi^2_{1-\\alpha/2, n}}},\\sqrt{\\ \\frac{\\sum_{i=1}^{n}(X_i-\\mu)^2}{\\chi^2_{\\alpha/2, n}}})$"
   ]
  },
  {
   "cell_type": "code",
   "execution_count": 94,
   "metadata": {
    "collapsed": true
   },
   "outputs": [],
   "source": [
    "variance.respect.to.expectation <- function(sample, expectation, alpha) {\n",
    "    .n <- length(sample)\n",
    "    .T <- sum((sample - expectation)**2)\n",
    "\n",
    "    left_bound <- sqrt(.T/qchisq(1 - alpha/2, .n))\n",
    "    right_bound <- sqrt(.T/qchisq(alpha/2, .n))\n",
    "    return(c(left_bound, right_bound))\n",
    "}"
   ]
  },
  {
   "cell_type": "code",
   "execution_count": 98,
   "metadata": {
    "collapsed": false
   },
   "outputs": [
    {
     "data": {
      "text/html": [
       "<ol class=list-inline>\n",
       "\t<li>FALSE</li>\n",
       "\t<li>TRUE</li>\n",
       "</ol>\n"
      ],
      "text/latex": [
       "\\begin{enumerate*}\n",
       "\\item FALSE\n",
       "\\item TRUE\n",
       "\\end{enumerate*}\n"
      ],
      "text/markdown": [
       "1. FALSE\n",
       "2. TRUE\n",
       "\n",
       "\n"
      ],
      "text/plain": [
       "[1] FALSE  TRUE"
      ]
     },
     "execution_count": 98,
     "metadata": {},
     "output_type": "execute_result"
    },
    {
     "data": {
      "text/html": [
       "<ol class=list-inline>\n",
       "\t<li>3.0168020229423</li>\n",
       "\t<li>3.29330842665085</li>\n",
       "</ol>\n"
      ],
      "text/latex": [
       "\\begin{enumerate*}\n",
       "\\item 3.0168020229423\n",
       "\\item 3.29330842665085\n",
       "\\end{enumerate*}\n"
      ],
      "text/markdown": [
       "1. 3.0168020229423\n",
       "2. 3.29330842665085\n",
       "\n",
       "\n"
      ],
      "text/plain": [
       "[1] 3.016802 3.293308"
      ]
     },
     "execution_count": 98,
     "metadata": {},
     "output_type": "execute_result"
    }
   ],
   "source": [
    "confidence.interval <- variance.respect.to.expectation(sample = sample, expectation = mu, alpha = 0.05) \n",
    "c(confidence.interval[1] < sigma, sigma < confidence.interval[2])\n",
    "confidence.interval"
   ]
  },
  {
   "cell_type": "markdown",
   "metadata": {},
   "source": [
    "### Случай 3: Неизвестная дисперсия при неизвестном мат. ожидании"
   ]
  },
  {
   "cell_type": "markdown",
   "metadata": {},
   "source": [
    "Доверительный интервал для $\\sigma$, $\\mu$ как выборочное среднее:\n",
    "$(\\sqrt{\\frac{\\sum_{i=1}^{n}(X_i-\\bar{X})^2}{\\chi^2_{1-\\alpha/2, n-1}}},\\sqrt{\\ \\frac{\\sum_{i=1}^{n}(X_i-\\bar{X})^2}{\\chi^2_{\\alpha/2, n-1}}})$"
   ]
  },
  {
   "cell_type": "code",
   "execution_count": 103,
   "metadata": {
    "collapsed": true
   },
   "outputs": [],
   "source": [
    "variance.respect.to.sample.mean <- function(sample, alpha) {\n",
    "    .n <- length(sample)\n",
    "    .T <- sum((sample[1:.n-1] - mean(sample[1:.n-1]))**2)\n",
    "\n",
    "    left_bound <- sqrt(.T/qchisq(1 - alpha/2, .n-1))\n",
    "    right_bound <- sqrt(.T/qchisq(alpha/2, .n-1))\n",
    "\n",
    "    return(c(left_bound, right_bound))\n",
    "}"
   ]
  },
  {
   "cell_type": "code",
   "execution_count": 104,
   "metadata": {
    "collapsed": false
   },
   "outputs": [
    {
     "data": {
      "text/html": [
       "<ol class=list-inline>\n",
       "\t<li>FALSE</li>\n",
       "\t<li>TRUE</li>\n",
       "</ol>\n"
      ],
      "text/latex": [
       "\\begin{enumerate*}\n",
       "\\item FALSE\n",
       "\\item TRUE\n",
       "\\end{enumerate*}\n"
      ],
      "text/markdown": [
       "1. FALSE\n",
       "2. TRUE\n",
       "\n",
       "\n"
      ],
      "text/plain": [
       "[1] FALSE  TRUE"
      ]
     },
     "execution_count": 104,
     "metadata": {},
     "output_type": "execute_result"
    },
    {
     "data": {
      "text/html": [
       "<ol class=list-inline>\n",
       "\t<li>3.01156713957067</li>\n",
       "\t<li>3.28773814411651</li>\n",
       "</ol>\n"
      ],
      "text/latex": [
       "\\begin{enumerate*}\n",
       "\\item 3.01156713957067\n",
       "\\item 3.28773814411651\n",
       "\\end{enumerate*}\n"
      ],
      "text/markdown": [
       "1. 3.01156713957067\n",
       "2. 3.28773814411651\n",
       "\n",
       "\n"
      ],
      "text/plain": [
       "[1] 3.011567 3.287738"
      ]
     },
     "execution_count": 104,
     "metadata": {},
     "output_type": "execute_result"
    }
   ],
   "source": [
    "confidence.interval <- variance.respect.to.sample.mean(sample = sample, alpha = alpha) \n",
    "c(confidence.interval[1] < sigma, sigma < confidence.interval[2])\n",
    "confidence.interval"
   ]
  },
  {
   "cell_type": "markdown",
   "metadata": {},
   "source": [
    "### Случай 4: Неизвестное мат. ожидание при неизвестной дисперсии"
   ]
  },
  {
   "cell_type": "markdown",
   "metadata": {},
   "source": [
    "Доверительный интервал для $\\mu$, где $\\sigma$ как выборочная дисперсия: $(\\bar{X} - \\frac{t_{1-\\alpha/2, n-1}*S}{\\sqrt{n}}, \\frac{t_{1-\\alpha/2, n-1}*S}{\\sqrt{n}} + \\bar{X} )$, где ${S}={\\sqrt{\\frac{1}{n-1}*\\sum_{i=1}^{n}(X_i-\\bar{X})^2}}$"
   ]
  },
  {
   "cell_type": "code",
   "execution_count": 77,
   "metadata": {
    "collapsed": true
   },
   "outputs": [],
   "source": [
    "expectation.respect.to.unkown.variance <- function(sample, alpha) {\n",
    "    .n <- length(sample)\n",
    "    .mean <- mean(sample)\n",
    "    \n",
    "    .S <- sqrt((1/(.n-1)) * sum((sample - .mean)**2))\n",
    "\n",
    "    .T <- (qt(1 - alpha/2, .n-1) * .S) / sqrt(.n)\n",
    "    \n",
    "    left_bound <- .mean - .T\n",
    "    right_bound <- .mean + .T\n",
    "    return(c(left_bound, right_bound))\n",
    "}"
   ]
  },
  {
   "cell_type": "code",
   "execution_count": 78,
   "metadata": {
    "collapsed": false
   },
   "outputs": [
    {
     "data": {
      "text/html": [
       "<ol class=list-inline>\n",
       "\t<li>TRUE</li>\n",
       "\t<li>TRUE</li>\n",
       "</ol>\n"
      ],
      "text/latex": [
       "\\begin{enumerate*}\n",
       "\\item TRUE\n",
       "\\item TRUE\n",
       "\\end{enumerate*}\n"
      ],
      "text/markdown": [
       "1. TRUE\n",
       "2. TRUE\n",
       "\n",
       "\n"
      ],
      "text/plain": [
       "[1] TRUE TRUE"
      ]
     },
     "execution_count": 78,
     "metadata": {},
     "output_type": "execute_result"
    },
    {
     "data": {
      "text/html": [
       "<ol class=list-inline>\n",
       "\t<li>-0.35473471604432</li>\n",
       "\t<li>0.0357739986334643</li>\n",
       "</ol>\n"
      ],
      "text/latex": [
       "\\begin{enumerate*}\n",
       "\\item -0.35473471604432\n",
       "\\item 0.0357739986334643\n",
       "\\end{enumerate*}\n"
      ],
      "text/markdown": [
       "1. -0.35473471604432\n",
       "2. 0.0357739986334643\n",
       "\n",
       "\n"
      ],
      "text/plain": [
       "[1] -0.3547347  0.0357740"
      ]
     },
     "execution_count": 78,
     "metadata": {},
     "output_type": "execute_result"
    }
   ],
   "source": [
    "confidence.interval <- expectation.respect.to.unkown.variance(sample = sample, alpha = alpha) \n",
    "c(confidence.interval[1] < mu, mu < confidence.interval[2])\n",
    "confidence.interval"
   ]
  },
  {
   "cell_type": "markdown",
   "metadata": {},
   "source": [
    "## Двувыборочный случай"
   ]
  },
  {
   "cell_type": "code",
   "execution_count": 85,
   "metadata": {
    "collapsed": true
   },
   "outputs": [],
   "source": [
    "mu1 <- 0\n",
    "sigma1 <- 3\n",
    "sample1 <- rnorm(n, mean=mu1, sd=sigma1)\n",
    "\n",
    "mu2 <- 0\n",
    "sigma2 <- 3\n",
    "sample2 <- rnorm(n, mean=mu2, sd=sigma2)"
   ]
  },
  {
   "cell_type": "markdown",
   "metadata": {},
   "source": [
    "### Случай 1: Неизвестная разница мат. ожиданий при известных дисперсиях"
   ]
  },
  {
   "cell_type": "markdown",
   "metadata": {},
   "source": [
    "Тогда получаем доверительный интервал для $\\mu_1$ - $\\mu_2$  в интервале: $$(\\ \\bar{X}-\\bar{Y}-Z_{1-\\alpha/2}*\\sqrt{\\sigma_1^2/n_1+\\sigma_2^2/n_2},\\ \\bar{X}-\\bar{Y}+Z_{1-\\alpha/2}*\\sqrt{\\sigma_1^2/n_1+\\sigma_2^2/n_2}\\ )$$"
   ]
  },
  {
   "cell_type": "code",
   "execution_count": 41,
   "metadata": {
    "collapsed": true
   },
   "outputs": [],
   "source": [
    "expectations.subs.respect.to.variances <- function(sample1, variance1, sample2, variance2, alpha) {\n",
    "    .n1 <- length(sample1)\n",
    "    .mean1 <- mean(sample1)\n",
    "    \n",
    "    .n2 <- length(sample2)\n",
    "    .mean2 <- mean(sample2)\n",
    "    \n",
    "    .S <- sqrt(variance1**2/.n1 + variance2**2/.n2)\n",
    "\n",
    "    .T <- qnorm(1 - alpha/2) * .S\n",
    "    \n",
    "    left_bound <- .mean1 - .mean2 - .T\n",
    "    right_bound <- .mean1 - .mean2 + .T\n",
    "    return(c(left_bound, right_bound))\n",
    "}"
   ]
  },
  {
   "cell_type": "code",
   "execution_count": 86,
   "metadata": {
    "collapsed": false
   },
   "outputs": [
    {
     "data": {
      "text/html": [
       "<ol class=list-inline>\n",
       "\t<li>TRUE</li>\n",
       "\t<li>TRUE</li>\n",
       "</ol>\n"
      ],
      "text/latex": [
       "\\begin{enumerate*}\n",
       "\\item TRUE\n",
       "\\item TRUE\n",
       "\\end{enumerate*}\n"
      ],
      "text/markdown": [
       "1. TRUE\n",
       "2. TRUE\n",
       "\n",
       "\n"
      ],
      "text/plain": [
       "[1] TRUE TRUE"
      ]
     },
     "execution_count": 86,
     "metadata": {},
     "output_type": "execute_result"
    },
    {
     "data": {
      "text/html": [
       "<ol class=list-inline>\n",
       "\t<li>-0.375501404996469</li>\n",
       "\t<li>0.150412119349479</li>\n",
       "</ol>\n"
      ],
      "text/latex": [
       "\\begin{enumerate*}\n",
       "\\item -0.375501404996469\n",
       "\\item 0.150412119349479\n",
       "\\end{enumerate*}\n"
      ],
      "text/markdown": [
       "1. -0.375501404996469\n",
       "2. 0.150412119349479\n",
       "\n",
       "\n"
      ],
      "text/plain": [
       "[1] -0.3755014  0.1504121"
      ]
     },
     "execution_count": 86,
     "metadata": {},
     "output_type": "execute_result"
    }
   ],
   "source": [
    "confidence.interval <- expectations.subs.respect.to.variances(sample1 = sample1, variance1 = sigma1,\n",
    "                                                              sample2 = sample2, variance2 = sigma2,\n",
    "                                                              alpha = alpha) \n",
    "c(confidence.interval[1] < mu1-mu2, mu1-mu2 < confidence.interval[2])\n",
    "confidence.interval"
   ]
  },
  {
   "cell_type": "markdown",
   "metadata": {},
   "source": [
    "### Случай 2: Неизвестная разница мат. ожиданий при неизвестных, но равных дисперсиях"
   ]
  },
  {
   "cell_type": "markdown",
   "metadata": {},
   "source": [
    "Тогда получаем доверительный интервал для $\\mu_1$ - $\\mu_2$  в интервале: $$(\\bar{X} - \\bar{Y} - t_{1-\\alpha/2, n_1 + n_2 - 2}*S*\\sqrt{1/n_1 + 1/n_2}, \\bar{X} - \\bar{Y} - t_{\\alpha/2, n_1 + n_2 - 2}*S*\\sqrt{1/n_1 + 1/n_2})$$, при\n",
    "$$S=\\sqrt{\\frac{\\sum_{i=1}^{n1}(X_i-\\bar{X})^2 + \\sum_{i=1}^{n2}(Y_i-\\bar{Y})^2}{n1+n2-2}}$$"
   ]
  },
  {
   "cell_type": "code",
   "execution_count": 111,
   "metadata": {
    "collapsed": true
   },
   "outputs": [],
   "source": [
    "expectations.subs.respect.to.same.variances <- function(sample1, sample2, alpha) {\n",
    "    .n1 <- length(sample1)\n",
    "    .mean1 <- mean(sample1)\n",
    "    \n",
    "    .n2 <- length(sample2)\n",
    "    .mean2 <- mean(sample2)\n",
    "    \n",
    "    .S1 <- sqrt((sum((sample1 - .mean1)**2) + sum((sample2 - .mean2)**2))/(.n1 + .n2 - 2))\n",
    "    .S2 <- sqrt(1/.n1 + 1/.n2)\n",
    "\n",
    "    .T.left <- qt(1 - alpha/2, .n1 + .n2 -2) * .S1 * .S2\n",
    "    .T.right <- qt(alpha/2, .n1 + .n2 -2) * .S1 * .S2\n",
    "    \n",
    "    left_bound <- .mean1 - .mean2 - .T.left\n",
    "    right_bound <- .mean1 - .mean2 - .T.right\n",
    "    return(c(left_bound, right_bound))\n",
    "}"
   ]
  },
  {
   "cell_type": "code",
   "execution_count": 112,
   "metadata": {
    "collapsed": true
   },
   "outputs": [],
   "source": [
    "sigma <- 3\n",
    "\n",
    "mu1 <- 0\n",
    "sample1 <- rnorm(n, mean=mu1, sd=sigma)\n",
    "\n",
    "mu2 <- 0\n",
    "sample2 <- rnorm(n, mean=mu2, sd=sigma)"
   ]
  },
  {
   "cell_type": "code",
   "execution_count": 113,
   "metadata": {
    "collapsed": false
   },
   "outputs": [
    {
     "data": {
      "text/html": [
       "<ol class=list-inline>\n",
       "\t<li>TRUE</li>\n",
       "\t<li>TRUE</li>\n",
       "</ol>\n"
      ],
      "text/latex": [
       "\\begin{enumerate*}\n",
       "\\item TRUE\n",
       "\\item TRUE\n",
       "\\end{enumerate*}\n"
      ],
      "text/markdown": [
       "1. TRUE\n",
       "2. TRUE\n",
       "\n",
       "\n"
      ],
      "text/plain": [
       "[1] TRUE TRUE"
      ]
     },
     "execution_count": 113,
     "metadata": {},
     "output_type": "execute_result"
    },
    {
     "data": {
      "text/html": [
       "<ol class=list-inline>\n",
       "\t<li>-0.258823149857487</li>\n",
       "\t<li>0.267668333018121</li>\n",
       "</ol>\n"
      ],
      "text/latex": [
       "\\begin{enumerate*}\n",
       "\\item -0.258823149857487\n",
       "\\item 0.267668333018121\n",
       "\\end{enumerate*}\n"
      ],
      "text/markdown": [
       "1. -0.258823149857487\n",
       "2. 0.267668333018121\n",
       "\n",
       "\n"
      ],
      "text/plain": [
       "[1] -0.2588231  0.2676683"
      ]
     },
     "execution_count": 113,
     "metadata": {},
     "output_type": "execute_result"
    }
   ],
   "source": [
    "confidence.interval <- expectations.subs.respect.to.same.variances(sample1 = sample1, sample2 = sample2, alpha = alpha) \n",
    "c(confidence.interval[1] < mu1-mu2, mu1-mu2 < confidence.interval[2])\n",
    "confidence.interval"
   ]
  },
  {
   "cell_type": "markdown",
   "metadata": {},
   "source": [
    "### Случай 3: Неизвестная разница мат. ожиданий при неизвестных, но не равных дисперсиях"
   ]
  },
  {
   "cell_type": "markdown",
   "metadata": {},
   "source": [
    "Тогда получаем доверительный интервал для $\\mu_1$ - $\\mu_2$  в интервале:\n",
    "$$(\\bar{X} - \\bar{Y} - t_{1-\\alpha/2, k}*T, \\bar{X} - \\bar{Y} - t_{\\alpha/2, k}*T)$$\n",
    "$$T = \\sqrt{s_1^2/n_1+s_2^2/n_2}$$\n",
    "$$k=\\frac{(s_1^2/n_1+s_2^2/n_2)^2}{(s_1^2/n_1)^2/(n_1-1)+(s_2^2/n_2)^2/(n_2-1)}$$\n",
    "$$s_1^2=\\frac{1}{n_1-1}*\\sum_{i=1}^{n_1}(X_i-\\bar{X})^2$$\n",
    "$$s_2^2=\\frac{1}{n_2-1}*\\sum_{i=1}^{n_2}(Y_i-\\bar{Y})^2$$"
   ]
  },
  {
   "cell_type": "code",
   "execution_count": 119,
   "metadata": {
    "collapsed": true
   },
   "outputs": [],
   "source": [
    "expectations.subs.respect.to.unknown.variances <- function(sample1, sample2, alpha) {\n",
    "    .n1 <- length(sample1)\n",
    "    .mean1 <- mean(sample1)\n",
    "    .s1 <- (1/(.n1-1)*sum((sample1 - .mean1)**2))\n",
    "    \n",
    "    .n2 <- length(sample2)\n",
    "    .mean2 <- mean(sample2)\n",
    "    .s2 <- (1/(.n2-1)*sum((sample2 - .mean2)**2))\n",
    "    \n",
    "    .t <- .s1/.n1 + .s2/.n2\n",
    "    .T <- sqrt(.t)\n",
    "    \n",
    "    .k <- (.t**2) / ( (.s1/.n1)**2/(.n1 - 1) + (.s2/.n2)**2/(.n2 - 1) )\n",
    "\n",
    "    .T.left <- qt(1 - alpha/2, .k) * .T\n",
    "    .T.right <- qt(alpha/2, .k) * .T\n",
    "    \n",
    "    left_bound <- .mean1 - .mean2 - .T.left\n",
    "    right_bound <- .mean1 - .mean2 - .T.right\n",
    "    return(c(left_bound, right_bound))\n",
    "}"
   ]
  },
  {
   "cell_type": "code",
   "execution_count": 121,
   "metadata": {
    "collapsed": true
   },
   "outputs": [],
   "source": [
    "sigma1 <- 3\n",
    "sigma2 <- 5\n",
    "\n",
    "mu1 <- 0\n",
    "sample1 <- rnorm(n, mean=mu1, sd=sigma1)\n",
    "\n",
    "mu2 <- 0\n",
    "sample2 <- rnorm(n, mean=mu2, sd=sigma2)"
   ]
  },
  {
   "cell_type": "code",
   "execution_count": 122,
   "metadata": {
    "collapsed": false
   },
   "outputs": [
    {
     "data": {
      "text/html": [
       "<ol class=list-inline>\n",
       "\t<li>TRUE</li>\n",
       "\t<li>TRUE</li>\n",
       "</ol>\n"
      ],
      "text/latex": [
       "\\begin{enumerate*}\n",
       "\\item TRUE\n",
       "\\item TRUE\n",
       "\\end{enumerate*}\n"
      ],
      "text/markdown": [
       "1. TRUE\n",
       "2. TRUE\n",
       "\n",
       "\n"
      ],
      "text/plain": [
       "[1] TRUE TRUE"
      ]
     },
     "execution_count": 122,
     "metadata": {},
     "output_type": "execute_result"
    },
    {
     "data": {
      "text/html": [
       "<ol class=list-inline>\n",
       "\t<li>-0.474618805976217</li>\n",
       "\t<li>0.245397788676968</li>\n",
       "</ol>\n"
      ],
      "text/latex": [
       "\\begin{enumerate*}\n",
       "\\item -0.474618805976217\n",
       "\\item 0.245397788676968\n",
       "\\end{enumerate*}\n"
      ],
      "text/markdown": [
       "1. -0.474618805976217\n",
       "2. 0.245397788676968\n",
       "\n",
       "\n"
      ],
      "text/plain": [
       "[1] -0.4746188  0.2453978"
      ]
     },
     "execution_count": 122,
     "metadata": {},
     "output_type": "execute_result"
    }
   ],
   "source": [
    "confidence.interval <- expectations.subs.respect.to.unknown.variances(sample1 = sample1, sample2 = sample2, alpha = alpha) \n",
    "c(confidence.interval[1] < mu1-mu2, mu1-mu2 < confidence.interval[2])\n",
    "confidence.interval"
   ]
  },
  {
   "cell_type": "markdown",
   "metadata": {},
   "source": [
    "### Проверка гипотез про равенство дисперсий"
   ]
  },
  {
   "cell_type": "markdown",
   "metadata": {},
   "source": [
    "Сначала считаем выборочные дисперсии:\n",
    "$$s_1^2=\\frac{1}{n_1-1}*\\sum_{i=1}^{n_1}(X_i-\\bar{X})^2$$\n",
    "$$s_2^2=\\frac{1}{n_2-1}*\\sum_{i=1}^{n_2}(Y_i-\\bar{Y})^2$$"
   ]
  },
  {
   "cell_type": "markdown",
   "metadata": {},
   "source": [
    "Далее строим статистику: $$F=s_1^2/s_2^2 \\sim F(n-1, m-1)$$"
   ]
  },
  {
   "cell_type": "code",
   "execution_count": 137,
   "metadata": {
    "collapsed": true
   },
   "outputs": [],
   "source": [
    "fisher.test <- function(sample1, sample2) {\n",
    "    .n1 <- length(sample1)\n",
    "    .mean1 <- mean(sample1)\n",
    "    .s1 <- (1/(.n1-1)*sum((sample1 - .mean1)**2))\n",
    "    \n",
    "    .n2 <- length(sample2)\n",
    "    .mean2 <- mean(sample2)\n",
    "    .s2 <- (1/(.n2-1)*sum((sample2 - .mean2)**2))\n",
    "    \n",
    "    return(df(.s1/.s2, .n1-1, .n2-1))\n",
    "}"
   ]
  },
  {
   "cell_type": "code",
   "execution_count": 154,
   "metadata": {
    "collapsed": true
   },
   "outputs": [],
   "source": [
    "sigma1 <- 3\n",
    "sigma2 <- 3\n",
    "\n",
    "mu1 <- 0\n",
    "sample1 <- rnorm(n, mean=mu1, sd=sigma1)\n",
    "\n",
    "mu2 <- 0\n",
    "sample2 <- rnorm(n, mean=mu2, sd=sigma2)"
   ]
  },
  {
   "cell_type": "code",
   "execution_count": 155,
   "metadata": {
    "collapsed": false
   },
   "outputs": [
    {
     "data": {
      "text/html": [
       "TRUE"
      ],
      "text/latex": [
       "TRUE"
      ],
      "text/markdown": [
       "TRUE"
      ],
      "text/plain": [
       "[1] TRUE"
      ]
     },
     "execution_count": 155,
     "metadata": {},
     "output_type": "execute_result"
    }
   ],
   "source": [
    "fisher.test(sample1 = sample1, sample2 = sample2) > 0.05"
   ]
  },
  {
   "cell_type": "code",
   "execution_count": 192,
   "metadata": {
    "collapsed": false
   },
   "outputs": [
    {
     "data": {
      "text/html": [
       "TRUE"
      ],
      "text/latex": [
       "TRUE"
      ],
      "text/markdown": [
       "TRUE"
      ],
      "text/plain": [
       "[1] TRUE"
      ]
     },
     "execution_count": 192,
     "metadata": {},
     "output_type": "execute_result"
    }
   ],
   "source": [
    "sigma1 <- 4\n",
    "sigma2 <- 4\n",
    "\n",
    "mu1 <- 0\n",
    "sample1 <- rnorm(n, mean=mu1, sd=sigma1)\n",
    "\n",
    "mu2 <- 0\n",
    "sample2 <- rnorm(n, mean=mu2, sd=sigma2)\n",
    "\n",
    "fisher.test(sample1 = sample1, sample2 = sample2) > 0.05"
   ]
  },
  {
   "cell_type": "markdown",
   "metadata": {},
   "source": [
    "## Refferences:\n",
    "* центральная статистика - https://en.wikipedia.org/wiki/Pivotal_quantity\n",
    "* нормальное распределение - https://ru.wikipedia.org/wiki/%D0%9D%D0%BE%D1%80%D0%BC%D0%B0%D0%BB%D1%8C%D0%BD%D0%BE%D0%B5_%D1%80%D0%B0%D1%81%D0%BF%D1%80%D0%B5%D0%B4%D0%B5%D0%BB%D0%B5%D0%BD%D0%B8%D0%B5\n",
    "* https://stat.ethz.ch/R-manual/R-devel/library/stats/html/Normal.html\n",
    "\n",
    "\n",
    "* Хи-квадрат https://ru.wikipedia.org/wiki/%D0%A0%D0%B0%D1%81%D0%BF%D1%80%D0%B5%D0%B4%D0%B5%D0%BB%D0%B5%D0%BD%D0%B8%D0%B5_%D1%85%D0%B8-%D0%BA%D0%B2%D0%B0%D0%B4%D1%80%D0%B0%D1%82\n",
    "* The (non-central) Chi-Squared Distribution - https://stat.ethz.ch/R-manual/R-devel/library/stats/html/Chisquare.html\n",
    "\n",
    "* Student\n",
    "* The Student t Distribution - https://stat.ethz.ch/R-manual/R-devel/library/stats/html/TDist.html\n",
    "\n",
    "* Распределение фишера - https://stat.ethz.ch/R-manual/R-devel/library/stats/html/Fdist.html\n",
    "\n",
    "\n",
    "* The Normal Distribution - https://stat.ethz.ch/R-manual/R-devel/library/stats/html/Normal.html"
   ]
  },
  {
   "cell_type": "code",
   "execution_count": null,
   "metadata": {
    "collapsed": true
   },
   "outputs": [],
   "source": []
  }
 ],
 "metadata": {
  "kernelspec": {
   "display_name": "R",
   "language": "R",
   "name": "ir"
  },
  "language_info": {
   "codemirror_mode": "r",
   "file_extension": ".r",
   "mimetype": "text/x-r-source",
   "name": "R",
   "pygments_lexer": "r",
   "version": "3.2.2"
  }
 },
 "nbformat": 4,
 "nbformat_minor": 0
}
