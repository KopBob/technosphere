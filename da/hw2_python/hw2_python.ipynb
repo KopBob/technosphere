{
 "cells": [
  {
   "cell_type": "markdown",
   "metadata": {},
   "source": [
    "## Введение в анализ данных. ДЗ 2. Python.\n",
    "\n",
    "ФИО: Копин Борис Александрович"
   ]
  },
  {
   "cell_type": "code",
   "execution_count": 357,
   "metadata": {
    "collapsed": false
   },
   "outputs": [],
   "source": [
    "import math\n",
    "\n",
    "import pandas as pd\n",
    "import numpy as np\n",
    "from matplotlib.pylab import plt\n",
    "import matplotlib\n",
    "matplotlib.style.use('ggplot')\n",
    "\n",
    "%matplotlib inline"
   ]
  },
  {
   "cell_type": "markdown",
   "metadata": {},
   "source": [
    "Список вакансии с “The Official Website of the City of New York” https://data.cityofnewyork.us/Business/NYC-Jobs/kpav-sd4t\n",
    "\n",
    "Посчитать распределение имеющихся вакансий по зарплате (считать, что если для вакансии указан диапазон зарплат, реальная зарплата будет равна среднему минимальной и максимальной границ). Нанести на карту информацию с имеющихся предложениях о работе с цветовой маркировкой размера предлагаемой заработной платы. \n",
    "\n",
    "example - http://nbviewer.ipython.org/github/lmart999/GIS/blob/master/SF_GIS_Crime.ipynb"
   ]
  },
  {
   "cell_type": "code",
   "execution_count": 358,
   "metadata": {
    "collapsed": false
   },
   "outputs": [],
   "source": [
    "# https://data.cityofnewyork.us/api/views/kpav-sd4t/rows.csv?accessType=DOWNLOAD\n",
    "data = pd.read_csv('./NYC_Jobs.csv')"
   ]
  },
  {
   "cell_type": "code",
   "execution_count": 359,
   "metadata": {
    "collapsed": false,
    "scrolled": true
   },
   "outputs": [
    {
     "data": {
      "text/html": [
       "<div>\n",
       "<table border=\"1\" class=\"dataframe\">\n",
       "  <thead>\n",
       "    <tr style=\"text-align: right;\">\n",
       "      <th></th>\n",
       "      <th>job_id</th>\n",
       "      <th>agency</th>\n",
       "      <th>posting_type</th>\n",
       "      <th>#_of_positions</th>\n",
       "      <th>business_title</th>\n",
       "      <th>civil_service_title</th>\n",
       "      <th>title_code_no</th>\n",
       "      <th>level</th>\n",
       "      <th>salary_range_from</th>\n",
       "      <th>salary_range_to</th>\n",
       "      <th>...</th>\n",
       "      <th>additional_information</th>\n",
       "      <th>to_apply</th>\n",
       "      <th>hours/shift</th>\n",
       "      <th>work_location_1</th>\n",
       "      <th>recruitment_contact</th>\n",
       "      <th>residency_requirement</th>\n",
       "      <th>posting_date</th>\n",
       "      <th>post_until</th>\n",
       "      <th>posting_updated</th>\n",
       "      <th>process_date</th>\n",
       "    </tr>\n",
       "  </thead>\n",
       "  <tbody>\n",
       "    <tr>\n",
       "      <th>0</th>\n",
       "      <td>132719</td>\n",
       "      <td>DEPT OF ENVIRONMENT PROTECTION</td>\n",
       "      <td>External</td>\n",
       "      <td>2</td>\n",
       "      <td>Stationary Engineer (Electric)</td>\n",
       "      <td>STATIONARY ENGINEER (ELECTRIC)</td>\n",
       "      <td>91645</td>\n",
       "      <td>00</td>\n",
       "      <td>94983</td>\n",
       "      <td>94983</td>\n",
       "      <td>...</td>\n",
       "      <td>Appointments are subject to OMB approval  For ...</td>\n",
       "      <td>Click the ''Apply Now'' button</td>\n",
       "      <td></td>\n",
       "      <td>3701 Jerome Ave, Bx NY 10467</td>\n",
       "      <td>NaN</td>\n",
       "      <td>New York City residency is generally required ...</td>\n",
       "      <td>10/08/2013 00:00:00</td>\n",
       "      <td>NaN</td>\n",
       "      <td>10/08/2013 00:00:00</td>\n",
       "      <td>10/27/2015 00:00:00</td>\n",
       "    </tr>\n",
       "    <tr>\n",
       "      <th>1</th>\n",
       "      <td>132719</td>\n",
       "      <td>DEPT OF ENVIRONMENT PROTECTION</td>\n",
       "      <td>Internal</td>\n",
       "      <td>2</td>\n",
       "      <td>Stationary Engineer (Electric)</td>\n",
       "      <td>STATIONARY ENGINEER (ELECTRIC)</td>\n",
       "      <td>91645</td>\n",
       "      <td>00</td>\n",
       "      <td>94983</td>\n",
       "      <td>94983</td>\n",
       "      <td>...</td>\n",
       "      <td>Appointments are subject to OMB approval  For ...</td>\n",
       "      <td>Click the ''Apply Now'' button</td>\n",
       "      <td></td>\n",
       "      <td>3701 Jerome Ave, Bx NY 10467</td>\n",
       "      <td>NaN</td>\n",
       "      <td>New York City residency is generally required ...</td>\n",
       "      <td>10/08/2013 00:00:00</td>\n",
       "      <td>NaN</td>\n",
       "      <td>10/08/2013 00:00:00</td>\n",
       "      <td>10/27/2015 00:00:00</td>\n",
       "    </tr>\n",
       "    <tr>\n",
       "      <th>2</th>\n",
       "      <td>132786</td>\n",
       "      <td>DEPT OF ENVIRONMENT PROTECTION</td>\n",
       "      <td>External</td>\n",
       "      <td>1</td>\n",
       "      <td>Director, Strategic Sourcing</td>\n",
       "      <td>ADMINISTRATIVE PROJECT MANAGER</td>\n",
       "      <td>83008</td>\n",
       "      <td>M2</td>\n",
       "      <td>54740</td>\n",
       "      <td>146276</td>\n",
       "      <td>...</td>\n",
       "      <td></td>\n",
       "      <td>Click the ''APPLY NOW'' button.</td>\n",
       "      <td>35 Hours per Week/Day</td>\n",
       "      <td>59-17 Junction Blouvard, Flushing NY</td>\n",
       "      <td>NaN</td>\n",
       "      <td>New York City Residency is not required for th...</td>\n",
       "      <td>10/08/2013 00:00:00</td>\n",
       "      <td>NaN</td>\n",
       "      <td>11/08/2013 00:00:00</td>\n",
       "      <td>10/27/2015 00:00:00</td>\n",
       "    </tr>\n",
       "    <tr>\n",
       "      <th>3</th>\n",
       "      <td>132786</td>\n",
       "      <td>DEPT OF ENVIRONMENT PROTECTION</td>\n",
       "      <td>Internal</td>\n",
       "      <td>1</td>\n",
       "      <td>Director, Strategic Sourcing</td>\n",
       "      <td>ADMINISTRATIVE PROJECT MANAGER</td>\n",
       "      <td>83008</td>\n",
       "      <td>M2</td>\n",
       "      <td>54740</td>\n",
       "      <td>146276</td>\n",
       "      <td>...</td>\n",
       "      <td></td>\n",
       "      <td>Click the ''APPLY NOW'' button.</td>\n",
       "      <td>35 Hours per Week/Day</td>\n",
       "      <td>59-17 Junction Blouvard, Flushing NY</td>\n",
       "      <td>NaN</td>\n",
       "      <td>New York City Residency is not required for th...</td>\n",
       "      <td>10/08/2013 00:00:00</td>\n",
       "      <td>NaN</td>\n",
       "      <td>11/08/2013 00:00:00</td>\n",
       "      <td>10/27/2015 00:00:00</td>\n",
       "    </tr>\n",
       "    <tr>\n",
       "      <th>4</th>\n",
       "      <td>133921</td>\n",
       "      <td>NYC HOUSING AUTHORITY</td>\n",
       "      <td>Internal</td>\n",
       "      <td>50</td>\n",
       "      <td>Temporary Painter</td>\n",
       "      <td>PAINTER</td>\n",
       "      <td>91830</td>\n",
       "      <td>00</td>\n",
       "      <td>35</td>\n",
       "      <td>35</td>\n",
       "      <td>...</td>\n",
       "      <td>SPECIAL NOTE:    1.  This is a temporary assig...</td>\n",
       "      <td>Click the ''Apply Now'' button.</td>\n",
       "      <td></td>\n",
       "      <td></td>\n",
       "      <td>NaN</td>\n",
       "      <td>NYCHA has no residency requirement.</td>\n",
       "      <td>01/09/2014 00:00:00</td>\n",
       "      <td>NaN</td>\n",
       "      <td>01/08/2014 00:00:00</td>\n",
       "      <td>10/27/2015 00:00:00</td>\n",
       "    </tr>\n",
       "  </tbody>\n",
       "</table>\n",
       "<p>5 rows × 26 columns</p>\n",
       "</div>"
      ],
      "text/plain": [
       "   job_id                          agency posting_type  #_of_positions  \\\n",
       "0  132719  DEPT OF ENVIRONMENT PROTECTION     External               2   \n",
       "1  132719  DEPT OF ENVIRONMENT PROTECTION     Internal               2   \n",
       "2  132786  DEPT OF ENVIRONMENT PROTECTION     External               1   \n",
       "3  132786  DEPT OF ENVIRONMENT PROTECTION     Internal               1   \n",
       "4  133921           NYC HOUSING AUTHORITY     Internal              50   \n",
       "\n",
       "                   business_title             civil_service_title  \\\n",
       "0  Stationary Engineer (Electric)  STATIONARY ENGINEER (ELECTRIC)   \n",
       "1  Stationary Engineer (Electric)  STATIONARY ENGINEER (ELECTRIC)   \n",
       "2    Director, Strategic Sourcing  ADMINISTRATIVE PROJECT MANAGER   \n",
       "3    Director, Strategic Sourcing  ADMINISTRATIVE PROJECT MANAGER   \n",
       "4               Temporary Painter                         PAINTER   \n",
       "\n",
       "  title_code_no level  salary_range_from  salary_range_to  \\\n",
       "0         91645    00              94983            94983   \n",
       "1         91645    00              94983            94983   \n",
       "2         83008    M2              54740           146276   \n",
       "3         83008    M2              54740           146276   \n",
       "4         91830    00                 35               35   \n",
       "\n",
       "          ...                                      additional_information  \\\n",
       "0         ...           Appointments are subject to OMB approval  For ...   \n",
       "1         ...           Appointments are subject to OMB approval  For ...   \n",
       "2         ...                                                               \n",
       "3         ...                                                               \n",
       "4         ...           SPECIAL NOTE:    1.  This is a temporary assig...   \n",
       "\n",
       "                          to_apply            hours/shift  \\\n",
       "0   Click the ''Apply Now'' button                          \n",
       "1   Click the ''Apply Now'' button                          \n",
       "2  Click the ''APPLY NOW'' button.  35 Hours per Week/Day   \n",
       "3  Click the ''APPLY NOW'' button.  35 Hours per Week/Day   \n",
       "4  Click the ''Apply Now'' button.                          \n",
       "\n",
       "                        work_location_1 recruitment_contact  \\\n",
       "0          3701 Jerome Ave, Bx NY 10467                 NaN   \n",
       "1          3701 Jerome Ave, Bx NY 10467                 NaN   \n",
       "2  59-17 Junction Blouvard, Flushing NY                 NaN   \n",
       "3  59-17 Junction Blouvard, Flushing NY                 NaN   \n",
       "4                                                       NaN   \n",
       "\n",
       "                               residency_requirement         posting_date  \\\n",
       "0  New York City residency is generally required ...  10/08/2013 00:00:00   \n",
       "1  New York City residency is generally required ...  10/08/2013 00:00:00   \n",
       "2  New York City Residency is not required for th...  10/08/2013 00:00:00   \n",
       "3  New York City Residency is not required for th...  10/08/2013 00:00:00   \n",
       "4                NYCHA has no residency requirement.  01/09/2014 00:00:00   \n",
       "\n",
       "  post_until      posting_updated         process_date  \n",
       "0        NaN  10/08/2013 00:00:00  10/27/2015 00:00:00  \n",
       "1        NaN  10/08/2013 00:00:00  10/27/2015 00:00:00  \n",
       "2        NaN  11/08/2013 00:00:00  10/27/2015 00:00:00  \n",
       "3        NaN  11/08/2013 00:00:00  10/27/2015 00:00:00  \n",
       "4        NaN  01/08/2014 00:00:00  10/27/2015 00:00:00  \n",
       "\n",
       "[5 rows x 26 columns]"
      ]
     },
     "execution_count": 359,
     "metadata": {},
     "output_type": "execute_result"
    }
   ],
   "source": [
    "data.columns = [c.lower().replace(' ', '_') for c in data.columns]\n",
    "data.head()\n"
   ]
  },
  {
   "cell_type": "code",
   "execution_count": 360,
   "metadata": {
    "collapsed": false
   },
   "outputs": [
    {
     "data": {
      "text/plain": [
       "Index([u'job_id', u'agency', u'posting_type', u'#_of_positions',\n",
       "       u'business_title', u'civil_service_title', u'title_code_no', u'level',\n",
       "       u'salary_range_from', u'salary_range_to', u'salary_frequency',\n",
       "       u'work_location', u'division/work_unit', u'job_description',\n",
       "       u'minimum_qual_requirements', u'preferred_skills',\n",
       "       u'additional_information', u'to_apply', u'hours/shift',\n",
       "       u'work_location_1', u'recruitment_contact', u'residency_requirement',\n",
       "       u'posting_date', u'post_until', u'posting_updated', u'process_date'],\n",
       "      dtype='object')"
      ]
     },
     "execution_count": 360,
     "metadata": {},
     "output_type": "execute_result"
    }
   ],
   "source": [
    "data.columns"
   ]
  },
  {
   "cell_type": "code",
   "execution_count": 361,
   "metadata": {
    "collapsed": false
   },
   "outputs": [
    {
     "data": {
      "text/html": [
       "<div>\n",
       "<table border=\"1\" class=\"dataframe\">\n",
       "  <thead>\n",
       "    <tr style=\"text-align: right;\">\n",
       "      <th></th>\n",
       "      <th>work_location</th>\n",
       "      <th>work_location_1</th>\n",
       "    </tr>\n",
       "  </thead>\n",
       "  <tbody>\n",
       "    <tr>\n",
       "      <th>count</th>\n",
       "      <td>3429</td>\n",
       "      <td>3429</td>\n",
       "    </tr>\n",
       "    <tr>\n",
       "      <th>unique</th>\n",
       "      <td>161</td>\n",
       "      <td>289</td>\n",
       "    </tr>\n",
       "    <tr>\n",
       "      <th>top</th>\n",
       "      <td>42-09 28th Street</td>\n",
       "      <td></td>\n",
       "    </tr>\n",
       "    <tr>\n",
       "      <th>freq</th>\n",
       "      <td>498</td>\n",
       "      <td>1164</td>\n",
       "    </tr>\n",
       "  </tbody>\n",
       "</table>\n",
       "</div>"
      ],
      "text/plain": [
       "            work_location work_location_1\n",
       "count                3429            3429\n",
       "unique                161             289\n",
       "top     42-09 28th Street                \n",
       "freq                  498            1164"
      ]
     },
     "execution_count": 361,
     "metadata": {},
     "output_type": "execute_result"
    }
   ],
   "source": [
    "data[['work_location', 'work_location_1']].describe()"
   ]
  },
  {
   "cell_type": "code",
   "execution_count": 362,
   "metadata": {
    "collapsed": true
   },
   "outputs": [],
   "source": [
    "data[u'salary_mean'] = (data.salary_range_from + data.salary_range_to)/2.0"
   ]
  },
  {
   "cell_type": "code",
   "execution_count": 363,
   "metadata": {
    "collapsed": false
   },
   "outputs": [
    {
     "data": {
      "text/plain": [
       "array(['Annual', 'Hourly', 'Daily'], dtype=object)"
      ]
     },
     "execution_count": 363,
     "metadata": {},
     "output_type": "execute_result"
    }
   ],
   "source": [
    "data.salary_frequency.unique()"
   ]
  },
  {
   "cell_type": "code",
   "execution_count": 364,
   "metadata": {
    "collapsed": true
   },
   "outputs": [],
   "source": [
    "ANNUAL = 'Annual'\n",
    "HOURLY = 'Hourly'\n",
    "DAIL = 'Daily'"
   ]
  },
  {
   "cell_type": "code",
   "execution_count": null,
   "metadata": {
    "collapsed": true
   },
   "outputs": [],
   "source": []
  },
  {
   "cell_type": "code",
   "execution_count": 365,
   "metadata": {
    "collapsed": true
   },
   "outputs": [],
   "source": [
    "def compute_bins(min, max, bin_step):\n",
    "    lower = int(math.ceil(min / bin_step) * bin_step)\n",
    "    upper = int(max) + bin_step\n",
    "    \n",
    "    return range(lower, upper, bin_step)"
   ]
  },
  {
   "cell_type": "code",
   "execution_count": 431,
   "metadata": {
    "collapsed": true
   },
   "outputs": [],
   "source": [
    "def plot_salary_dist(df, title, bin_step, limit_rate):\n",
    "    max_salary = max(df.salary_range_to)\n",
    "    \n",
    "    plt.figure(figsize=(15, 15))\n",
    "    \n",
    "    for i, col in enumerate([df.salary_range_from, df.salary_mean, df.salary_range_to]):\n",
    "        plt.subplot(3, 1, i + 1)\n",
    "        bins = compute_bins(min(col), max(col), bin_step=bin_step)\n",
    "        col.plot(kind='hist', bins=bins)\n",
    "        plt.xticks(bins)\n",
    "        plt.xlim([0, math.ceil(max_salary / float(limit_rate)) * limit_rate])\n",
    "\n",
    "    plt.subplot(3, 1, 1); plt.ylabel(u'Min')\n",
    "    plt.title(title, fontsize=24)\n",
    "    \n",
    "    plt.subplot(3, 1, 2); plt.ylabel(u'Mean')\n",
    "    plt.subplot(3, 1, 3); plt.ylabel(u'Max')\n",
    "    \n",
    "def plot_all_in_one(df, bin_step, title):\n",
    "    plt.figure(figsize=(15, 7))\n",
    "    plt.title(title, fontsize=24)\n",
    "    \n",
    "    plt.legend( ('Men', 'Women'))\n",
    "\n",
    "    bins = compute_bins(min(df.salary_mean), max(df.salary_mean), bin_step=bin_step)\n",
    "    plt.hist([df.salary_range_from, df.salary_mean, df.salary_range_to], bins=bins, label=['Min', 'Mean', 'Max'])\n",
    "    plt.legend()\n",
    "    plt.xticks(bins)"
   ]
  },
  {
   "cell_type": "markdown",
   "metadata": {},
   "source": [
    "## Annual salary"
   ]
  },
  {
   "cell_type": "code",
   "execution_count": 432,
   "metadata": {
    "collapsed": true
   },
   "outputs": [],
   "source": [
    "annual_df = data[(data.salary_frequency == ANNUAL)]"
   ]
  },
  {
   "cell_type": "code",
   "execution_count": 433,
   "metadata": {
    "collapsed": false
   },
   "outputs": [
    {
     "data": {
      "text/html": [
       "<div>\n",
       "<table border=\"1\" class=\"dataframe\">\n",
       "  <thead>\n",
       "    <tr style=\"text-align: right;\">\n",
       "      <th></th>\n",
       "      <th>salary_range_from</th>\n",
       "      <th>salary_mean</th>\n",
       "      <th>salary_range_to</th>\n",
       "    </tr>\n",
       "  </thead>\n",
       "  <tbody>\n",
       "    <tr>\n",
       "      <th>count</th>\n",
       "      <td>3146.000000</td>\n",
       "      <td>3146.000000</td>\n",
       "      <td>3146.000000</td>\n",
       "    </tr>\n",
       "    <tr>\n",
       "      <th>mean</th>\n",
       "      <td>59837.723776</td>\n",
       "      <td>74669.029243</td>\n",
       "      <td>89500.334711</td>\n",
       "    </tr>\n",
       "    <tr>\n",
       "      <th>std</th>\n",
       "      <td>19524.934356</td>\n",
       "      <td>23607.625747</td>\n",
       "      <td>32707.075043</td>\n",
       "    </tr>\n",
       "    <tr>\n",
       "      <th>min</th>\n",
       "      <td>25997.000000</td>\n",
       "      <td>28272.000000</td>\n",
       "      <td>29437.000000</td>\n",
       "    </tr>\n",
       "    <tr>\n",
       "      <th>25%</th>\n",
       "      <td>47873.000000</td>\n",
       "      <td>57857.750000</td>\n",
       "      <td>65823.000000</td>\n",
       "    </tr>\n",
       "    <tr>\n",
       "      <th>50%</th>\n",
       "      <td>56667.000000</td>\n",
       "      <td>72313.000000</td>\n",
       "      <td>83555.000000</td>\n",
       "    </tr>\n",
       "    <tr>\n",
       "      <th>75%</th>\n",
       "      <td>68239.000000</td>\n",
       "      <td>90000.000000</td>\n",
       "      <td>105000.000000</td>\n",
       "    </tr>\n",
       "    <tr>\n",
       "      <th>max</th>\n",
       "      <td>200000.000000</td>\n",
       "      <td>200000.000000</td>\n",
       "      <td>212881.000000</td>\n",
       "    </tr>\n",
       "  </tbody>\n",
       "</table>\n",
       "</div>"
      ],
      "text/plain": [
       "       salary_range_from    salary_mean  salary_range_to\n",
       "count        3146.000000    3146.000000      3146.000000\n",
       "mean        59837.723776   74669.029243     89500.334711\n",
       "std         19524.934356   23607.625747     32707.075043\n",
       "min         25997.000000   28272.000000     29437.000000\n",
       "25%         47873.000000   57857.750000     65823.000000\n",
       "50%         56667.000000   72313.000000     83555.000000\n",
       "75%         68239.000000   90000.000000    105000.000000\n",
       "max        200000.000000  200000.000000    212881.000000"
      ]
     },
     "execution_count": 433,
     "metadata": {},
     "output_type": "execute_result"
    }
   ],
   "source": [
    "annual_df[['salary_range_from', 'salary_mean', 'salary_range_to']] .describe()"
   ]
  },
  {
   "cell_type": "code",
   "execution_count": 434,
   "metadata": {
    "collapsed": false
   },
   "outputs": [
    {
     "data": {
      "image/png": "[encoded data removed]",
      "text/plain": [
       "<matplotlib.figure.Figure at 0x12d8872d0>"
      ]
     },
     "metadata": {},
     "output_type": "display_data"
    }
   ],
   "source": [
    "plot_all_in_one(annual_df, 15000, u'Annual salary')"
   ]
  },
  {
   "cell_type": "code",
   "execution_count": 436,
   "metadata": {
    "collapsed": false
   },
   "outputs": [
    {
     "data": {
      "image/png": "[encoded data removed]",
      "text/plain": [
       "<matplotlib.figure.Figure at 0x12dc00f90>"
      ]
     },
     "metadata": {},
     "output_type": "display_data"
    }
   ],
   "source": [
    "plot_salary_dist(annual_df, u'Annual salary', 15000, 250000)"
   ]
  },
  {
   "cell_type": "markdown",
   "metadata": {},
   "source": [
    "## Hourly"
   ]
  },
  {
   "cell_type": "code",
   "execution_count": 437,
   "metadata": {
    "collapsed": true
   },
   "outputs": [],
   "source": [
    "hourly_df = data[(data.salary_frequency == HOURLY)]"
   ]
  },
  {
   "cell_type": "code",
   "execution_count": 438,
   "metadata": {
    "collapsed": false,
    "scrolled": true
   },
   "outputs": [
    {
     "data": {
      "text/html": [
       "<div>\n",
       "<table border=\"1\" class=\"dataframe\">\n",
       "  <thead>\n",
       "    <tr style=\"text-align: right;\">\n",
       "      <th></th>\n",
       "      <th>salary_range_from</th>\n",
       "      <th>salary_mean</th>\n",
       "      <th>salary_range_to</th>\n",
       "    </tr>\n",
       "  </thead>\n",
       "  <tbody>\n",
       "    <tr>\n",
       "      <th>count</th>\n",
       "      <td>255.000000</td>\n",
       "      <td>255.000000</td>\n",
       "      <td>255.000000</td>\n",
       "    </tr>\n",
       "    <tr>\n",
       "      <th>mean</th>\n",
       "      <td>25.580392</td>\n",
       "      <td>28.588235</td>\n",
       "      <td>31.596078</td>\n",
       "    </tr>\n",
       "    <tr>\n",
       "      <th>std</th>\n",
       "      <td>17.147818</td>\n",
       "      <td>17.566999</td>\n",
       "      <td>18.624913</td>\n",
       "    </tr>\n",
       "    <tr>\n",
       "      <th>min</th>\n",
       "      <td>0.000000</td>\n",
       "      <td>9.000000</td>\n",
       "      <td>10.000000</td>\n",
       "    </tr>\n",
       "    <tr>\n",
       "      <th>25%</th>\n",
       "      <td>14.000000</td>\n",
       "      <td>15.000000</td>\n",
       "      <td>16.000000</td>\n",
       "    </tr>\n",
       "    <tr>\n",
       "      <th>50%</th>\n",
       "      <td>19.000000</td>\n",
       "      <td>23.500000</td>\n",
       "      <td>27.000000</td>\n",
       "    </tr>\n",
       "    <tr>\n",
       "      <th>75%</th>\n",
       "      <td>33.000000</td>\n",
       "      <td>35.250000</td>\n",
       "      <td>38.000000</td>\n",
       "    </tr>\n",
       "    <tr>\n",
       "      <th>max</th>\n",
       "      <td>71.000000</td>\n",
       "      <td>77.500000</td>\n",
       "      <td>87.000000</td>\n",
       "    </tr>\n",
       "  </tbody>\n",
       "</table>\n",
       "</div>"
      ],
      "text/plain": [
       "       salary_range_from  salary_mean  salary_range_to\n",
       "count         255.000000   255.000000       255.000000\n",
       "mean           25.580392    28.588235        31.596078\n",
       "std            17.147818    17.566999        18.624913\n",
       "min             0.000000     9.000000        10.000000\n",
       "25%            14.000000    15.000000        16.000000\n",
       "50%            19.000000    23.500000        27.000000\n",
       "75%            33.000000    35.250000        38.000000\n",
       "max            71.000000    77.500000        87.000000"
      ]
     },
     "execution_count": 438,
     "metadata": {},
     "output_type": "execute_result"
    }
   ],
   "source": [
    "hourly_df[['salary_range_from', 'salary_mean', 'salary_range_to']].describe()"
   ]
  },
  {
   "cell_type": "code",
   "execution_count": 452,
   "metadata": {
    "collapsed": false
   },
   "outputs": [
    {
     "data": {
      "image/png": "[encoded data removed]",
      "text/plain": [
       "<matplotlib.figure.Figure at 0x130cd2e10>"
      ]
     },
     "metadata": {},
     "output_type": "display_data"
    }
   ],
   "source": [
    "plot_all_in_one(hourly_df, 5, u'Hourly salary')"
   ]
  },
  {
   "cell_type": "code",
   "execution_count": 451,
   "metadata": {
    "collapsed": false,
    "scrolled": false
   },
   "outputs": [
    {
     "data": {
      "image/png": "[encoded data removed]",
      "text/plain": [
       "<matplotlib.figure.Figure at 0x12fb952d0>"
      ]
     },
     "metadata": {},
     "output_type": "display_data"
    }
   ],
   "source": [
    "plot_salary_dist(hourly_df, u'Hourly salary', 5, 100)"
   ]
  },
  {
   "cell_type": "markdown",
   "metadata": {},
   "source": [
    "## Daily Salary"
   ]
  },
  {
   "cell_type": "code",
   "execution_count": 442,
   "metadata": {
    "collapsed": true
   },
   "outputs": [],
   "source": [
    "daily_df = data[(data.salary_frequency == DAILY)]"
   ]
  },
  {
   "cell_type": "code",
   "execution_count": 443,
   "metadata": {
    "collapsed": false,
    "scrolled": true
   },
   "outputs": [
    {
     "data": {
      "text/html": [
       "<div>\n",
       "<table border=\"1\" class=\"dataframe\">\n",
       "  <thead>\n",
       "    <tr style=\"text-align: right;\">\n",
       "      <th></th>\n",
       "      <th>salary_range_from</th>\n",
       "      <th>salary_mean</th>\n",
       "      <th>salary_range_to</th>\n",
       "    </tr>\n",
       "  </thead>\n",
       "  <tbody>\n",
       "    <tr>\n",
       "      <th>count</th>\n",
       "      <td>28.000000</td>\n",
       "      <td>28.000000</td>\n",
       "      <td>28.000000</td>\n",
       "    </tr>\n",
       "    <tr>\n",
       "      <th>mean</th>\n",
       "      <td>305.357143</td>\n",
       "      <td>313.964286</td>\n",
       "      <td>322.571429</td>\n",
       "    </tr>\n",
       "    <tr>\n",
       "      <th>std</th>\n",
       "      <td>67.767147</td>\n",
       "      <td>63.283742</td>\n",
       "      <td>60.190702</td>\n",
       "    </tr>\n",
       "    <tr>\n",
       "      <th>min</th>\n",
       "      <td>198.000000</td>\n",
       "      <td>198.000000</td>\n",
       "      <td>198.000000</td>\n",
       "    </tr>\n",
       "    <tr>\n",
       "      <th>25%</th>\n",
       "      <td>251.000000</td>\n",
       "      <td>271.500000</td>\n",
       "      <td>292.000000</td>\n",
       "    </tr>\n",
       "    <tr>\n",
       "      <th>50%</th>\n",
       "      <td>298.500000</td>\n",
       "      <td>299.750000</td>\n",
       "      <td>310.000000</td>\n",
       "    </tr>\n",
       "    <tr>\n",
       "      <th>75%</th>\n",
       "      <td>356.000000</td>\n",
       "      <td>364.000000</td>\n",
       "      <td>364.000000</td>\n",
       "    </tr>\n",
       "    <tr>\n",
       "      <th>max</th>\n",
       "      <td>450.000000</td>\n",
       "      <td>450.000000</td>\n",
       "      <td>450.000000</td>\n",
       "    </tr>\n",
       "  </tbody>\n",
       "</table>\n",
       "</div>"
      ],
      "text/plain": [
       "       salary_range_from  salary_mean  salary_range_to\n",
       "count          28.000000    28.000000        28.000000\n",
       "mean          305.357143   313.964286       322.571429\n",
       "std            67.767147    63.283742        60.190702\n",
       "min           198.000000   198.000000       198.000000\n",
       "25%           251.000000   271.500000       292.000000\n",
       "50%           298.500000   299.750000       310.000000\n",
       "75%           356.000000   364.000000       364.000000\n",
       "max           450.000000   450.000000       450.000000"
      ]
     },
     "execution_count": 443,
     "metadata": {},
     "output_type": "execute_result"
    }
   ],
   "source": [
    "daily_df[['salary_range_from', 'salary_mean', 'salary_range_to']].describe()"
   ]
  },
  {
   "cell_type": "code",
   "execution_count": 448,
   "metadata": {
    "collapsed": false
   },
   "outputs": [
    {
     "data": {
      "image/png": "[encoded data removed]",
      "text/plain": [
       "<matplotlib.figure.Figure at 0x12fbaa190>"
      ]
     },
     "metadata": {},
     "output_type": "display_data"
    }
   ],
   "source": [
    "plot_all_in_one(daily_df, 30, u'Daily salary')"
   ]
  },
  {
   "cell_type": "code",
   "execution_count": 450,
   "metadata": {
    "collapsed": false
   },
   "outputs": [
    {
     "data": {
      "image/png": "[encoded data removed]",
      "text/plain": [
       "<matplotlib.figure.Figure at 0x12fe3cb10>"
      ]
     },
     "metadata": {},
     "output_type": "display_data"
    }
   ],
   "source": [
    "plot_salary_dist(daily_df, u'Daily salary', 30, 700)"
   ]
  },
  {
   "cell_type": "code",
   "execution_count": null,
   "metadata": {
    "collapsed": true
   },
   "outputs": [],
   "source": []
  },
  {
   "cell_type": "code",
   "execution_count": null,
   "metadata": {
    "collapsed": true
   },
   "outputs": [],
   "source": []
  }
 ],
 "metadata": {
  "kernelspec": {
   "display_name": "Python 2",
   "language": "python",
   "name": "python2"
  },
  "language_info": {
   "codemirror_mode": {
    "name": "ipython",
    "version": 2
   },
   "file_extension": ".py",
   "mimetype": "text/x-python",
   "name": "python",
   "nbconvert_exporter": "python",
   "pygments_lexer": "ipython2",
   "version": "2.7.10"
  }
 },
 "nbformat": 4,
 "nbformat_minor": 0
}
