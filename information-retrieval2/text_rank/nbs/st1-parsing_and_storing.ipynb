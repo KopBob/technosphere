{
 "cells": [
  {
   "cell_type": "code",
   "execution_count": 1,
   "metadata": {
    "collapsed": true
   },
   "outputs": [],
   "source": [
    "!subl ."
   ]
  },
  {
   "cell_type": "code",
   "execution_count": 74,
   "metadata": {
    "collapsed": true
   },
   "outputs": [],
   "source": [
    "import os\n",
    "# Get pure files paths\n",
    "files_paths = []\n",
    "for root, dirs, files in os.walk(\"../data/\"):\n",
    "    path = root.split('/')\n",
    "\n",
    "    for f in files:\n",
    "        if \"DS_Store\" not in f:\n",
    "            path_to_file = path + [f]\n",
    "            files_paths.append('/'.join(path_to_file))\n",
    "\n",
    "# get url form files\n",
    "files_urls = []\n",
    "for f in files_paths:\n",
    "    with open(f, 'r') as fin:\n",
    "        first_line = fin.readline().strip()\n",
    "        files_urls.append(first_line)\n",
    "        \n",
    "import pandas as pd\n",
    "\n",
    "\n",
    "# creade document registry\n",
    "doc_registry_dt = pd.DataFrame(\n",
    "    zip(files_paths, files_urls, map(lambda x: '_'.join(x.split('/')[-2:]), files_paths)),\n",
    "    columns=[\"pure_path\", \"url\", \"id\"])\n",
    "\n",
    "from os import listdir\n",
    "from os.path import isfile, join\n",
    "onlyfiles = [f for f in listdir(\"../parsed/\") if isfile(join(\"../parsed/\", f))]\n",
    "parsed = ['../data/' + '/'.join(f.replace('html-', '').replace('txt-', '').split('_')) for f in onlyfiles]\n",
    "doc_registry_dt.loc[doc_registry_dt.pure_path.isin(parsed), \"is_parsed\"] = True"
   ]
  },
  {
   "cell_type": "code",
   "execution_count": 75,
   "metadata": {
    "collapsed": false
   },
   "outputs": [],
   "source": [
    "doc_registry_dt = doc_registry_dt.set_index(\"id\")"
   ]
  },
  {
   "cell_type": "code",
   "execution_count": 76,
   "metadata": {
    "collapsed": false
   },
   "outputs": [],
   "source": [
    "import multiprocessing\n",
    "import time\n"
   ]
  },
  {
   "cell_type": "code",
   "execution_count": 77,
   "metadata": {
    "collapsed": false
   },
   "outputs": [],
   "source": [
    "import os\n",
    "\n",
    "files_paths = []\n",
    "for root, dirs, files in os.walk(\"../processed\"):\n",
    "    path = root.split('/')\n",
    "\n",
    "    for f in files:\n",
    "        if \"DS_Store\" not in f:\n",
    "            path_to_file = path + [f]\n",
    "            files_paths.append('/'.join(path_to_file))"
   ]
  },
  {
   "cell_type": "code",
   "execution_count": 78,
   "metadata": {
    "collapsed": false
   },
   "outputs": [],
   "source": [
    "files_paths_ids = [f.split('/')[-1].replace('html-', '').replace('txt-', '') for f in files_paths]"
   ]
  },
  {
   "cell_type": "code",
   "execution_count": 79,
   "metadata": {
    "collapsed": false
   },
   "outputs": [],
   "source": [
    "doc_registry_dt.loc[files_paths_ids, \"processed_name\"] = files_paths"
   ]
  },
  {
   "cell_type": "code",
   "execution_count": 80,
   "metadata": {
    "collapsed": true
   },
   "outputs": [],
   "source": [
    "from bs4 import BeautifulSoup"
   ]
  },
  {
   "cell_type": "code",
   "execution_count": 81,
   "metadata": {
    "collapsed": true
   },
   "outputs": [],
   "source": [
    "import zlib"
   ]
  },
  {
   "cell_type": "code",
   "execution_count": 82,
   "metadata": {
    "collapsed": true
   },
   "outputs": [],
   "source": [
    "from collections import Counter"
   ]
  },
  {
   "cell_type": "code",
   "execution_count": 83,
   "metadata": {
    "collapsed": false
   },
   "outputs": [],
   "source": [
    "# Extract title + meta\n",
    "# Extract body\n",
    "def head_and_title_extractor(bs):\n",
    "    title = bs.title.get_text() if bs.title else ''\n",
    "    meat = bs.findAll(attrs={\"name\":\"description\"}) \n",
    "    meat = ' '.join([m['content'] for m in meat if 'content' in m])\n",
    "    \n",
    "    head = title + ' ' + meat\n",
    "    \n",
    "    for s in bs([\"script\", \"style\"]):\n",
    "        s.extract()\n",
    "    \n",
    "    body = bs.body.get_text() if bs.body else bs.get_text()\n",
    "    \n",
    "    return {\n",
    "        \"head\": head,\n",
    "        \"body\": body\n",
    "    }\n",
    "\n",
    "def files_paths_mapper(in_path):\n",
    "    with open(in_path, 'rb') as fin:\n",
    "        file_content = zlib.decompress(fin.read())\n",
    "        \n",
    "    bs = BeautifulSoup(file_content.decode('utf-8'), \"lxml\")\n",
    "    data = head_and_title_extractor(bs)\n",
    "    \n",
    "    file_text = data[\"head\"] + u\"!@#$%^&*()\" + data[\"body\"]\n",
    "    file_name = in_path.split('/')[-1].replace('html-', '').replace('txt-', '')\n",
    "    file_text_compressed = zlib.compress(file_text.encode('utf-8'))\n",
    "    \n",
    "    out_path = \"../parsed/%s\" % file_name\n",
    "    with open(out_path, \"wb\") as fout:\n",
    "        fout.write(file_text_compressed)\n",
    "    \n",
    "    return out_path"
   ]
  },
  {
   "cell_type": "code",
   "execution_count": 84,
   "metadata": {
    "collapsed": true
   },
   "outputs": [],
   "source": [
    "import sys\n",
    "import multiprocessing"
   ]
  },
  {
   "cell_type": "code",
   "execution_count": 85,
   "metadata": {
    "collapsed": false
   },
   "outputs": [
    {
     "data": {
      "text/html": [
       "<div>\n",
       "<table border=\"1\" class=\"dataframe\">\n",
       "  <thead>\n",
       "    <tr style=\"text-align: right;\">\n",
       "      <th></th>\n",
       "      <th>pure_path</th>\n",
       "      <th>url</th>\n",
       "      <th>is_parsed</th>\n",
       "      <th>processed_name</th>\n",
       "    </tr>\n",
       "    <tr>\n",
       "      <th>id</th>\n",
       "      <th></th>\n",
       "      <th></th>\n",
       "      <th></th>\n",
       "      <th></th>\n",
       "    </tr>\n",
       "  </thead>\n",
       "  <tbody>\n",
       "    <tr>\n",
       "      <th>94_4190889394909492417</th>\n",
       "      <td>../data/94/4190889394909492417</td>\n",
       "      <td>http://amb-it.ru/files/orbits_5_manual.pdf</td>\n",
       "      <td>NaN</td>\n",
       "      <td>NaN</td>\n",
       "    </tr>\n",
       "  </tbody>\n",
       "</table>\n",
       "</div>"
      ],
      "text/plain": [
       "                                             pure_path  \\\n",
       "id                                                       \n",
       "94_4190889394909492417  ../data/94/4190889394909492417   \n",
       "\n",
       "                                                               url is_parsed  \\\n",
       "id                                                                             \n",
       "94_4190889394909492417  http://amb-it.ru/files/orbits_5_manual.pdf       NaN   \n",
       "\n",
       "                       processed_name  \n",
       "id                                     \n",
       "94_4190889394909492417            NaN  "
      ]
     },
     "execution_count": 85,
     "metadata": {},
     "output_type": "execute_result"
    }
   ],
   "source": [
    "doc_registry_dt[doc_registry_dt.is_parsed != True]"
   ]
  },
  {
   "cell_type": "code",
   "execution_count": 86,
   "metadata": {
    "collapsed": false
   },
   "outputs": [],
   "source": [
    "target_files = [o.processed_name for i, o in doc_registry_dt.iterrows() if o.is_parsed != True]"
   ]
  },
  {
   "cell_type": "code",
   "execution_count": 68,
   "metadata": {
    "collapsed": true
   },
   "outputs": [],
   "source": [
    "p1 = multiprocessing.Pool(processes=8)"
   ]
  },
  {
   "cell_type": "code",
   "execution_count": 69,
   "metadata": {
    "collapsed": true
   },
   "outputs": [],
   "source": [
    "mapper_gen = p1.imap_unordered(files_paths_mapper, target_files[1:], chunksize=15)"
   ]
  },
  {
   "cell_type": "code",
   "execution_count": 70,
   "metadata": {
    "collapsed": false
   },
   "outputs": [
    {
     "data": {
      "text/plain": [
       "4"
      ]
     },
     "execution_count": 70,
     "metadata": {},
     "output_type": "execute_result"
    }
   ],
   "source": [
    "len(target_files)"
   ]
  },
  {
   "cell_type": "code",
   "execution_count": 71,
   "metadata": {
    "collapsed": false
   },
   "outputs": [
    {
     "data": {
      "text/plain": [
       "[nan,\n",
       " '../processed/html-94_4222366858785676180',\n",
       " '../processed/html-94_4250955059307453532',\n",
       " '../processed/html-94_4276264688099783549']"
      ]
     },
     "execution_count": 71,
     "metadata": {},
     "output_type": "execute_result"
    }
   ],
   "source": [
    "target_files"
   ]
  },
  {
   "cell_type": "code",
   "execution_count": 72,
   "metadata": {
    "collapsed": false
   },
   "outputs": [
    {
     "name": "stdout",
     "output_type": "stream",
     "text": [
      "\r",
      "  0 /4 ../parsed/94_4222366858785676180\r",
      "  1 /4 ../parsed/94_4250955059307453532\r",
      "  2 /4 ../parsed/94_4276264688099783549"
     ]
    }
   ],
   "source": [
    "for i, path in enumerate(mapper_gen):\n",
    "    sys.stdout.write(\"\\r \"  + \" %s /%s %s\" % (i, len(target_files), path))\n",
    "    "
   ]
  },
  {
   "cell_type": "code",
   "execution_count": 73,
   "metadata": {
    "collapsed": true
   },
   "outputs": [],
   "source": [
    "p1.close()"
   ]
  },
  {
   "cell_type": "code",
   "execution_count": null,
   "metadata": {
    "collapsed": false
   },
   "outputs": [],
   "source": []
  },
  {
   "cell_type": "code",
   "execution_count": null,
   "metadata": {
    "collapsed": true
   },
   "outputs": [],
   "source": [
    "import sys"
   ]
  },
  {
   "cell_type": "code",
   "execution_count": null,
   "metadata": {
    "collapsed": false,
    "scrolled": false
   },
   "outputs": [],
   "source": [
    "for i, path in enumerate(mapper_gen):\n",
    "    sys.stdout.write('\\r' + \"%s | %s\" % (i, path))"
   ]
  },
  {
   "cell_type": "code",
   "execution_count": null,
   "metadata": {
    "collapsed": true
   },
   "outputs": [],
   "source": []
  },
  {
   "cell_type": "code",
   "execution_count": null,
   "metadata": {
    "collapsed": true
   },
   "outputs": [],
   "source": [
    "!open ."
   ]
  },
  {
   "cell_type": "code",
   "execution_count": null,
   "metadata": {
    "collapsed": true
   },
   "outputs": [],
   "source": []
  },
  {
   "cell_type": "code",
   "execution_count": null,
   "metadata": {
    "collapsed": false
   },
   "outputs": [],
   "source": [
    "desc"
   ]
  },
  {
   "cell_type": "code",
   "execution_count": null,
   "metadata": {
    "collapsed": false
   },
   "outputs": [],
   "source": [
    "desc = b.findAll(attrs={\"name\":\"description\"}) \n",
    "print desc[0]['content']"
   ]
  },
  {
   "cell_type": "code",
   "execution_count": null,
   "metadata": {
    "collapsed": true
   },
   "outputs": [],
   "source": []
  },
  {
   "cell_type": "code",
   "execution_count": null,
   "metadata": {
    "collapsed": false
   },
   "outputs": [],
   "source": [
    "p1.close()\n",
    "p1 = multiprocessing.Pool(processes=7)\n",
    "\n",
    "def get_title(bs):\n",
    "    if bs.title:\n",
    "        return bs.title.get_text()\n",
    "    else:\n",
    "        return ''\n",
    "\n",
    "def get_text(bs):\n",
    "    return bs.get_text()\n",
    "\n",
    "def get_bs(path_to_file):\n",
    "    with open(path_to_file, 'rb') as fin:\n",
    "        file_content = zlib.decompress(fin.read())\n",
    "        \n",
    "    return BeautifulSoup(file_content, \"lxml\")\n",
    "\n",
    "\n",
    "title_gen = p1.imap(get_bs, files_paths[:200], chunksize=10)"
   ]
  },
  {
   "cell_type": "code",
   "execution_count": null,
   "metadata": {
    "collapsed": false
   },
   "outputs": [],
   "source": [
    "p3.close()\n",
    "p3 = multiprocessing.Pool(processes=7)\n",
    "\n",
    "def get_counter(text):\n",
    "    tokens = text.split()\n",
    "    \n",
    "    return Counter(tokens)\n",
    "\n",
    "counter_gen = p3.imap(get_counter, title_gen)"
   ]
  },
  {
   "cell_type": "code",
   "execution_count": null,
   "metadata": {
    "collapsed": false
   },
   "outputs": [],
   "source": [
    "sum(1 for _ in counter_gen)"
   ]
  },
  {
   "cell_type": "code",
   "execution_count": null,
   "metadata": {
    "collapsed": false,
    "scrolled": true
   },
   "outputs": [],
   "source": [
    "c = reduce(lambda x, y: x + y, counter_gen)"
   ]
  },
  {
   "cell_type": "code",
   "execution_count": null,
   "metadata": {
    "collapsed": false
   },
   "outputs": [],
   "source": [
    "c.most_common()[:100]"
   ]
  },
  {
   "cell_type": "code",
   "execution_count": null,
   "metadata": {
    "collapsed": false
   },
   "outputs": [],
   "source": [
    "start = time.time()\n",
    "ss = sum(v for v in bs_gen)\n",
    "end = time.time()\n",
    "print(ss, end - start)"
   ]
  },
  {
   "cell_type": "code",
   "execution_count": null,
   "metadata": {
    "collapsed": false
   },
   "outputs": [],
   "source": []
  },
  {
   "cell_type": "code",
   "execution_count": null,
   "metadata": {
    "collapsed": true
   },
   "outputs": [],
   "source": [
    "bs_gen.close()"
   ]
  },
  {
   "cell_type": "code",
   "execution_count": null,
   "metadata": {
    "collapsed": false
   },
   "outputs": [],
   "source": [
    "bs_gen.next()a"
   ]
  },
  {
   "cell_type": "code",
   "execution_count": null,
   "metadata": {
    "collapsed": false
   },
   "outputs": [],
   "source": []
  },
  {
   "cell_type": "code",
   "execution_count": null,
   "metadata": {
    "collapsed": false
   },
   "outputs": [],
   "source": [
    "\n",
    "\n",
    "counter_gen = p.imap(get_counter, bs_gen, chunksize=10)\n",
    "\n",
    "# reduced = reduce(lambda x, y: x + y, counter_gen, Counter())\n",
    "# p.close()"
   ]
  },
  {
   "cell_type": "code",
   "execution_count": null,
   "metadata": {
    "collapsed": true
   },
   "outputs": [],
   "source": [
    "bs_gen = p.imap(get_bs, files_paths[:100], chunksize=10)"
   ]
  },
  {
   "cell_type": "code",
   "execution_count": null,
   "metadata": {
    "collapsed": false
   },
   "outputs": [],
   "source": [
    "bs_gen.next()"
   ]
  },
  {
   "cell_type": "code",
   "execution_count": null,
   "metadata": {
    "collapsed": true
   },
   "outputs": [],
   "source": [
    "b = get_bs('../processed/html-0_-1013796998353508831')"
   ]
  },
  {
   "cell_type": "code",
   "execution_count": null,
   "metadata": {
    "collapsed": false
   },
   "outputs": [],
   "source": [
    "b."
   ]
  },
  {
   "cell_type": "code",
   "execution_count": null,
   "metadata": {
    "collapsed": false
   },
   "outputs": [],
   "source": [
    "!head '../processed/html-0_-1013796998353508831'"
   ]
  },
  {
   "cell_type": "code",
   "execution_count": null,
   "metadata": {
    "collapsed": false
   },
   "outputs": [],
   "source": [
    "counter_gen.next()"
   ]
  },
  {
   "cell_type": "code",
   "execution_count": null,
   "metadata": {
    "collapsed": false
   },
   "outputs": [],
   "source": [
    "reduced.keys()[:100]"
   ]
  },
  {
   "cell_type": "code",
   "execution_count": null,
   "metadata": {
    "collapsed": true
   },
   "outputs": [],
   "source": []
  }
 ],
 "metadata": {
  "anaconda-cloud": {},
  "kernelspec": {
   "display_name": "Python [Root]",
   "language": "python",
   "name": "Python [Root]"
  },
  "language_info": {
   "codemirror_mode": {
    "name": "ipython",
    "version": 2
   },
   "file_extension": ".py",
   "mimetype": "text/x-python",
   "name": "python",
   "nbconvert_exporter": "python",
   "pygments_lexer": "ipython2",
   "version": "2.7.12"
  }
 },
 "nbformat": 4,
 "nbformat_minor": 0
}
