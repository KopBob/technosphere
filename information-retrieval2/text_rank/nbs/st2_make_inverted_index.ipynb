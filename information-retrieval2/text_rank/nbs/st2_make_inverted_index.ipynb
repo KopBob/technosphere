{
 "cells": [
  {
   "cell_type": "code",
   "execution_count": 1,
   "metadata": {
    "collapsed": false
   },
   "outputs": [],
   "source": [
    "%load_ext autoreload"
   ]
  },
  {
   "cell_type": "code",
   "execution_count": 2,
   "metadata": {
    "collapsed": true
   },
   "outputs": [],
   "source": [
    "%autoreload 2"
   ]
  },
  {
   "cell_type": "code",
   "execution_count": 3,
   "metadata": {
    "collapsed": true
   },
   "outputs": [],
   "source": [
    "class Document(object):\n",
    "    def __init__(self, url, title_text, body_text):\n",
    "        self.url = url\n",
    "        self.title_text = title_text\n",
    "        self.body_text = body_text"
   ]
  },
  {
   "cell_type": "code",
   "execution_count": 4,
   "metadata": {
    "collapsed": true
   },
   "outputs": [],
   "source": [
    "import os\n",
    "# Get pure files paths\n",
    "files_paths = []\n",
    "for root, dirs, files in os.walk(\"../data/\"):\n",
    "    path = root.split('/')\n",
    "\n",
    "    for f in files:\n",
    "        if \"DS_Store\" not in f:\n",
    "            path_to_file = path + [f]\n",
    "            files_paths.append('/'.join(path_to_file))\n",
    "\n",
    "# get url form files\n",
    "files_urls = []\n",
    "for f in files_paths:\n",
    "    with open(f, 'r') as fin:\n",
    "        first_line = fin.readline().strip()\n",
    "        files_urls.append(first_line)\n",
    "        \n",
    "import pandas as pd\n",
    "\n",
    "\n",
    "# creade document registry\n",
    "doc_registry_dt = pd.DataFrame(\n",
    "    zip(files_paths, files_urls, map(lambda x: '_'.join(x.split('/')[-2:]), files_paths)),\n",
    "    columns=[\"pure_path\", \"url\", \"id\"])\n",
    "\n",
    "from os import listdir\n",
    "from os.path import isfile, join\n",
    "onlyfiles = [f for f in listdir(\"../parsed/\") if isfile(join(\"../parsed/\", f))]\n",
    "parsed = ['../data/' + '/'.join(f.replace('html-', '').replace('txt-', '').split('_')) for f in onlyfiles]\n",
    "doc_registry_dt.loc[doc_registry_dt.pure_path.isin(parsed), \"is_parsed\"] = True"
   ]
  },
  {
   "cell_type": "code",
   "execution_count": null,
   "metadata": {
    "collapsed": true
   },
   "outputs": [],
   "source": []
  },
  {
   "cell_type": "code",
   "execution_count": null,
   "metadata": {
    "collapsed": false
   },
   "outputs": [],
   "source": []
  },
  {
   "cell_type": "code",
   "execution_count": 5,
   "metadata": {
    "collapsed": true
   },
   "outputs": [],
   "source": [
    "import zlib"
   ]
  },
  {
   "cell_type": "code",
   "execution_count": 6,
   "metadata": {
    "collapsed": true
   },
   "outputs": [],
   "source": [
    "import sys"
   ]
  },
  {
   "cell_type": "code",
   "execution_count": 7,
   "metadata": {
    "collapsed": false
   },
   "outputs": [],
   "source": [
    "def gen_docs():\n",
    "    for i, (pure_path, url, doc_id, is_parsed) in doc_registry_dt.iterrows():\n",
    "        if is_parsed != True:\n",
    "            continue\n",
    "        sys.stdout.write('\\r ' + \"%s / %s\" % (i, doc_registry_dt.shape[0]))\n",
    "        with open(\"../parsed/\" + doc_id, 'r') as fin:\n",
    "            file_content = zlib.decompress(fin.read())\n",
    "            text_parts = file_content.split(\"!@#$%^&*()\")\n",
    "            title_text = text_parts[0]\n",
    "            body_text = text_parts[1]\n",
    "\n",
    "        doc = Document(url, unicode(title_text.decode('utf-8')), unicode(body_text.decode('utf-8')))\n",
    "        yield doc"
   ]
  },
  {
   "cell_type": "code",
   "execution_count": 8,
   "metadata": {
    "collapsed": true
   },
   "outputs": [],
   "source": [
    "from engine.src import indexer"
   ]
  },
  {
   "cell_type": "code",
   "execution_count": 9,
   "metadata": {
    "collapsed": true
   },
   "outputs": [],
   "source": [
    "dexter = indexer.Indexer(\"../storage/\", flush_threshold=10000)"
   ]
  },
  {
   "cell_type": "code",
   "execution_count": 10,
   "metadata": {
    "collapsed": false,
    "scrolled": false
   },
   "outputs": [
    {
     "name": "stdout",
     "output_type": "stream",
     "text": [
      " 27187 / 27188"
     ]
    }
   ],
   "source": [
    "dexter.index(gen_docs())"
   ]
  },
  {
   "cell_type": "code",
   "execution_count": 11,
   "metadata": {
    "collapsed": false
   },
   "outputs": [],
   "source": [
    "import numpy as np"
   ]
  },
  {
   "cell_type": "code",
   "execution_count": 12,
   "metadata": {
    "collapsed": false
   },
   "outputs": [
    {
     "name": "stdout",
     "output_type": "stream",
     "text": [
      "hello\n"
     ]
    }
   ],
   "source": [
    "print(\"hello\")"
   ]
  },
  {
   "cell_type": "code",
   "execution_count": 13,
   "metadata": {
    "collapsed": true
   },
   "outputs": [],
   "source": [
    "from __future__ import print_function"
   ]
  },
  {
   "cell_type": "code",
   "execution_count": 14,
   "metadata": {
    "collapsed": true
   },
   "outputs": [],
   "source": [
    "from collections import defaultdict"
   ]
  },
  {
   "cell_type": "code",
   "execution_count": 18,
   "metadata": {
    "collapsed": false
   },
   "outputs": [],
   "source": [
    "avgdl = np.mean([l for _, (_, l) in dexter.buff_documents_registry.items()])"
   ]
  },
  {
   "cell_type": "code",
   "execution_count": 19,
   "metadata": {
    "collapsed": true
   },
   "outputs": [],
   "source": [
    "k1 = 1.2\n",
    "b = 0.75"
   ]
  },
  {
   "cell_type": "code",
   "execution_count": 20,
   "metadata": {
    "collapsed": false,
    "scrolled": false
   },
   "outputs": [
    {
     "name": "stdout",
     "output_type": "stream",
     "text": [
      "путин\n",
      "о\n",
      "чурках\n"
     ]
    },
    {
     "data": {
      "text/plain": [
       "[(7488, 20.774709497417845),\n",
       " (22800, 20.214894801903206),\n",
       " (787, 19.779392641249725),\n",
       " (632, 19.700259171938178),\n",
       " (11584, 19.008835138718844),\n",
       " (15387, 18.927578670214601),\n",
       " (8541, 18.881672702022879),\n",
       " (11222, 18.59097019548836),\n",
       " (19282, 18.438067423004696),\n",
       " (27152, 18.192401886425724)]"
      ]
     },
     "execution_count": 20,
     "metadata": {},
     "output_type": "execute_result"
    }
   ],
   "source": [
    "doc_score = defaultdict(float)\n",
    "for w in [u\"путин\", u\"о\", u\"чурках\"]:\n",
    "    print(w)\n",
    "    D = len(dexter.buff_documents_registry.keys())\n",
    "    df_t_D = len(dexter.buff_inverted_index[w])\n",
    "    idf = np.log(D/(1 + float(df_t_D)))\n",
    "\n",
    "    for doc, tf, is_in_title in dexter.buff_inverted_index[w]:\n",
    "        dl = dexter.buff_documents_registry[doc][1]\n",
    "#         score = idf * ((tf*(10 + is_in_title) * (k1 + 1)) / (tf*(10 + is_in_title) + k1*(1 - b + b*(dl/avgdl))))\n",
    "        doc_score[doc] += (1 + np.log(tf))*idf\n",
    "#         print(doc, (1 + np.log(tf))*idf)\n",
    "sorted(doc_score.items(), key=lambda x: x[1], reverse=True)[:10]"
   ]
  },
  {
   "cell_type": "code",
   "execution_count": null,
   "metadata": {
    "collapsed": false
   },
   "outputs": [],
   "source": [
    "sorted(doc_score.items(), key=lambda x: x[1], reverse=True)"
   ]
  },
  {
   "cell_type": "code",
   "execution_count": 56,
   "metadata": {
    "collapsed": true
   },
   "outputs": [],
   "source": [
    "avgdl = np.mean([l for _, (_, l) in dexter.buff_documents_registry.items()])\n",
    "k1 = 1.2\n",
    "b = 0.75\n",
    "def score_q(query):\n",
    "    doc_score = defaultdict(float)\n",
    "    for w in query.lower().split():\n",
    "        D = len(dexter.buff_documents_registry.keys())\n",
    "        df_t_D = len(dexter.buff_inverted_index[w])\n",
    "        idf = np.log(D/(1 + float(df_t_D)))\n",
    "\n",
    "        for doc, tf, is_in_title in dexter.buff_inverted_index[w]:\n",
    "            dl = dexter.buff_documents_registry[doc][1]\n",
    "            score = idf * ((tf*(1 + is_in_title) * (k1 + 1)) / (tf*(10 + is_in_title) + k1*(1 - b + b*(dl/avgdl))))\n",
    "            doc_score[doc] +=  (1 + np.log(tf))*idf\n",
    "#             print(doc, (1 + np.log(tf))*idf)\n",
    "    return sorted(doc_score.items(), key=lambda x: x[1], reverse=True)"
   ]
  },
  {
   "cell_type": "code",
   "execution_count": 57,
   "metadata": {
    "collapsed": false
   },
   "outputs": [],
   "source": [
    "queries_df = pd.read_csv('../../hw3/queries.numerate.txt',\n",
    "                         sep=str('\\t'),\n",
    "                         encoding=\"utf-8\",\n",
    "                         header=None, names=[\"num\", 'query'], index_col=\"num\")\n",
    "urls_df = pd.read_csv('../../hw3/urls.numerate.txt',\n",
    "                      sep=str('\\t'),\n",
    "                      encoding=\"utf-8\",\n",
    "                      header=None, names=[\"num\", 'url'], index_col=\"num\")\n",
    "dexter_doc_df = pd.DataFrame(\n",
    "    [(doc_id, url) for doc_id, (url, _) in dexter.buff_documents_registry.items()],\n",
    "    columns=[\"doc_id\", \"url\"])\n",
    "dexter_doc_df = dexter_doc_df.set_index(\"doc_id\")\n",
    "docs_df = dexter_doc_df.merge(urls_df.reset_index(), how=\"outer\", left_on=\"url\", right_on=\"url\")"
   ]
  },
  {
   "cell_type": "code",
   "execution_count": 58,
   "metadata": {
    "collapsed": false
   },
   "outputs": [
    {
     "data": {
      "text/plain": [
       "(339, 1)"
      ]
     },
     "execution_count": 58,
     "metadata": {},
     "output_type": "execute_result"
    }
   ],
   "source": [
    "queries_df.shape"
   ]
  },
  {
   "cell_type": "code",
   "execution_count": null,
   "metadata": {
    "collapsed": true
   },
   "outputs": [],
   "source": []
  },
  {
   "cell_type": "code",
   "execution_count": 71,
   "metadata": {
    "collapsed": true
   },
   "outputs": [],
   "source": [
    "subm = pd.read_csv('../../hw3/sample.csv')\n",
    "subm_g = subm.groupby(\"QueryId\")"
   ]
  },
  {
   "cell_type": "code",
   "execution_count": 62,
   "metadata": {
    "collapsed": false
   },
   "outputs": [],
   "source": [
    "res = score_q(queries_df.loc[2].query)"
   ]
  },
  {
   "cell_type": "code",
   "execution_count": 69,
   "metadata": {
    "collapsed": false
   },
   "outputs": [],
   "source": [
    "tt = subm.groupby(\"QueryId\").get_group(2).DocumentId.tolist()"
   ]
  },
  {
   "cell_type": "code",
   "execution_count": 70,
   "metadata": {
    "collapsed": false
   },
   "outputs": [
    {
     "data": {
      "text/plain": [
       "[(18978, 41.909052764378806),\n",
       " (4194, 39.946928447490905),\n",
       " (3094, 38.679424156175081),\n",
       " (1342, 25.631083468103121),\n",
       " (25268, 18.900626480180414),\n",
       " (24647, 16.860443588608057),\n",
       " (26324, 14.70960726334509),\n",
       " (3019, 12.805558985266154),\n",
       " (1336, 11.388276107136925),\n",
       " (22123, 11.310398021983305)]"
      ]
     },
     "execution_count": 70,
     "metadata": {},
     "output_type": "execute_result"
    }
   ],
   "source": [
    "[r[0] for r in res if r[0] in tt][:10]"
   ]
  },
  {
   "cell_type": "code",
   "execution_count": null,
   "metadata": {
    "collapsed": true
   },
   "outputs": [],
   "source": [
    "import sys"
   ]
  },
  {
   "cell_type": "code",
   "execution_count": 72,
   "metadata": {
    "collapsed": false
   },
   "outputs": [],
   "source": [
    "submit = []\n",
    "for i, (q_num, row) in enumerate(queries_df.iterrows()):\n",
    "    sys.stdout.write(\"\\r  \" + \"%s | %s\" % (q_num, queries_df.shape[0]) )\n",
    "    target_docs = subm_g.get_group(q_num).DocumentId.tolist()\n",
    "    q = row.query\n",
    "    res = score_q(q)\n",
    "    doc_nums = [int(docs_df.loc[doc_id].num) for doc_id, score in res if not pd.isnull(docs_df.loc[doc_id].num)]\n",
    "    for doc_num in [d for d in doc_nums if d in target_docs]:\n",
    "#     for doc_num in [int(docs_df.loc[doc_id].num) for doc_id, score in res[:10] if not pd.isnull(docs_df.loc[doc_id].num)]:\n",
    "        submit.append((q_num, doc_num))"
   ]
  },
  {
   "cell_type": "code",
   "execution_count": 73,
   "metadata": {
    "collapsed": true
   },
   "outputs": [],
   "source": [
    "submit_df = pd.DataFrame(submit, columns=[\"QueryId\", \"DocumentId\"])"
   ]
  },
  {
   "cell_type": "code",
   "execution_count": 74,
   "metadata": {
    "collapsed": false
   },
   "outputs": [],
   "source": [
    "submit_df.to_csv(\"../submission3.csv\", index=False)"
   ]
  },
  {
   "cell_type": "code",
   "execution_count": 75,
   "metadata": {
    "collapsed": true
   },
   "outputs": [],
   "source": [
    "import io"
   ]
  },
  {
   "cell_type": "code",
   "execution_count": 80,
   "metadata": {
    "collapsed": false
   },
   "outputs": [],
   "source": [
    "import json\n",
    "with io.open('buff_documents_registry.json', 'wb') as fp:\n",
    "    json.dump(dexter.buff_documents_registry, fp, indent=4)"
   ]
  },
  {
   "cell_type": "code",
   "execution_count": 79,
   "metadata": {
    "collapsed": true
   },
   "outputs": [],
   "source": [
    "!subl ./buff_documents_registry.json"
   ]
  },
  {
   "cell_type": "code",
   "execution_count": 82,
   "metadata": {
    "collapsed": false
   },
   "outputs": [],
   "source": [
    "import json\n",
    "with io.open('buff_inverted_index.json', 'wb') as fp:\n",
    "    json.dump(dexter.buff_inverted_index, fp, indent=2)"
   ]
  },
  {
   "cell_type": "code",
   "execution_count": null,
   "metadata": {
    "collapsed": false
   },
   "outputs": [],
   "source": [
    "res = score_q(queries_df.loc[2].query)\n",
    "[int(docs_df.loc[doc_id].num) for doc_id, score in res[:10]]"
   ]
  },
  {
   "cell_type": "code",
   "execution_count": null,
   "metadata": {
    "collapsed": false
   },
   "outputs": [],
   "source": []
  },
  {
   "cell_type": "code",
   "execution_count": null,
   "metadata": {
    "collapsed": false
   },
   "outputs": [],
   "source": []
  },
  {
   "cell_type": "code",
   "execution_count": null,
   "metadata": {
    "collapsed": false
   },
   "outputs": [],
   "source": [
    "docs_df = dexter_doc_df.merge(urls_df.reset_index(), how=\"outer\", left_on=\"url\", right_on=\"url\")"
   ]
  },
  {
   "cell_type": "code",
   "execution_count": null,
   "metadata": {
    "collapsed": false
   },
   "outputs": [],
   "source": [
    "docs_df.loc[res[0][0]]"
   ]
  },
  {
   "cell_type": "code",
   "execution_count": null,
   "metadata": {
    "collapsed": false
   },
   "outputs": [],
   "source": [
    "urls_df"
   ]
  },
  {
   "cell_type": "code",
   "execution_count": null,
   "metadata": {
    "collapsed": true
   },
   "outputs": [],
   "source": []
  }
 ],
 "metadata": {
  "anaconda-cloud": {},
  "kernelspec": {
   "display_name": "Python [Root]",
   "language": "python",
   "name": "Python [Root]"
  },
  "language_info": {
   "codemirror_mode": {
    "name": "ipython",
    "version": 2
   },
   "file_extension": ".py",
   "mimetype": "text/x-python",
   "name": "python",
   "nbconvert_exporter": "python",
   "pygments_lexer": "ipython2",
   "version": "2.7.12"
  }
 },
 "nbformat": 4,
 "nbformat_minor": 0
}
