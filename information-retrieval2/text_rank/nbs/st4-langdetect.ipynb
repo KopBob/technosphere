{
 "cells": [
  {
   "cell_type": "code",
   "execution_count": 2,
   "metadata": {
    "collapsed": false
   },
   "outputs": [
    {
     "name": "stdout",
     "output_type": "stream",
     "text": [
      "Collecting langdetect\n",
      "  Downloading langdetect-1.0.7.zip (998kB)\n",
      "\u001b[K    100% |████████████████████████████████| 1.0MB 579kB/s \n",
      "\u001b[?25hRequirement already satisfied: six in /Users/bkopin/anaconda/lib/python2.7/site-packages (from langdetect)\n",
      "Building wheels for collected packages: langdetect\n",
      "  Running setup.py bdist_wheel for langdetect ... \u001b[?25l-\b \b\\\b \bdone\n",
      "\u001b[?25h  Stored in directory: /Users/bkopin/Library/Caches/pip/wheels/6f/8c/3b/ffa8151e27effd7de2a7d3194650d78fe6e4d4a3c175a74867\n",
      "Successfully built langdetect\n",
      "Installing collected packages: langdetect\n",
      "Successfully installed langdetect-1.0.7\n"
     ]
    }
   ],
   "source": [
    "!pip install langdetect"
   ]
  },
  {
   "cell_type": "code",
   "execution_count": 5,
   "metadata": {
    "collapsed": true
   },
   "outputs": [],
   "source": [
    "!open ."
   ]
  },
  {
   "cell_type": "code",
   "execution_count": 3,
   "metadata": {
    "collapsed": false
   },
   "outputs": [],
   "source": [
    "from langdetect import detect"
   ]
  },
  {
   "cell_type": "code",
   "execution_count": 6,
   "metadata": {
    "collapsed": true
   },
   "outputs": [],
   "source": [
    "import zlib"
   ]
  },
  {
   "cell_type": "code",
   "execution_count": 13,
   "metadata": {
    "collapsed": true
   },
   "outputs": [],
   "source": [
    "from os import listdir\n",
    "from os.path import isfile, join"
   ]
  },
  {
   "cell_type": "code",
   "execution_count": 23,
   "metadata": {
    "collapsed": true
   },
   "outputs": [],
   "source": [
    "parsed_files = [join(\"../parsed/\", f) for f in listdir(\"../parsed/\") if isfile(join(\"../parsed/\", f))]"
   ]
  },
  {
   "cell_type": "code",
   "execution_count": 24,
   "metadata": {
    "collapsed": true
   },
   "outputs": [],
   "source": [
    "from collections import defaultdict"
   ]
  },
  {
   "cell_type": "code",
   "execution_count": null,
   "metadata": {
    "collapsed": false
   },
   "outputs": [],
   "source": []
  },
  {
   "cell_type": "code",
   "execution_count": 25,
   "metadata": {
    "collapsed": true
   },
   "outputs": [],
   "source": [
    "import multiprocessing"
   ]
  },
  {
   "cell_type": "code",
   "execution_count": null,
   "metadata": {
    "collapsed": true
   },
   "outputs": [],
   "source": []
  },
  {
   "cell_type": "code",
   "execution_count": 35,
   "metadata": {
    "collapsed": false
   },
   "outputs": [],
   "source": [
    "from langdetect import detect, lang_detect_exception"
   ]
  },
  {
   "cell_type": "code",
   "execution_count": null,
   "metadata": {
    "collapsed": true
   },
   "outputs": [],
   "source": [
    "def lang_detector(f)L\n",
    "    with open(f) as fin:\n",
    "        text = zlib.decompress(fin.read())\n",
    "        try:\n",
    "            d[detect(text.decode('utf-8')[:1000])].append(f)\n",
    "        except lang_detect_exception.LangDetectException:\n",
    "            d[None].append(f)"
   ]
  },
  {
   "cell_type": "code",
   "execution_count": 37,
   "metadata": {
    "collapsed": false
   },
   "outputs": [],
   "source": [
    "d = defaultdict(lambda: list())\n",
    "for f in parsed_files[:1000]:\n",
    "    with open(f) as fin:\n",
    "        text = zlib.decompress(fin.read())\n",
    "        try:\n",
    "            d[detect(text.decode('utf-8')[:1000])].append(f)\n",
    "        except lang_detect_exception.LangDetectException:\n",
    "            d[None].append(f)"
   ]
  },
  {
   "cell_type": "code",
   "execution_count": 38,
   "metadata": {
    "collapsed": false
   },
   "outputs": [
    {
     "data": {
      "text/plain": [
       "[(u'ru', 925),\n",
       " (u'en', 21),\n",
       " (u'af', 1),\n",
       " (u'vi', 11),\n",
       " (u'de', 1),\n",
       " (None, 6),\n",
       " (u'uk', 31),\n",
       " (u'et', 4)]"
      ]
     },
     "execution_count": 38,
     "metadata": {},
     "output_type": "execute_result"
    }
   ],
   "source": [
    "[(k, len(v)) for k, v in d.items()]"
   ]
  },
  {
   "cell_type": "code",
   "execution_count": 39,
   "metadata": {
    "collapsed": true
   },
   "outputs": [],
   "source": [
    "def read_file(f):\n",
    "    with open(f) as fin:\n",
    "        text = zlib.decompress(fin.read())\n",
    "        return text"
   ]
  },
  {
   "cell_type": "code",
   "execution_count": 47,
   "metadata": {
    "collapsed": false
   },
   "outputs": [
    {
     "name": "stdout",
     "output_type": "stream",
     "text": [
      "When Bain isn't safehouse. смотреть онлайн | Бесплатные фильмы, сериалы и видео онлайн !@#$%^&*()]> When Bain isn't safehouse. смотреть онлайн | Бесплатные фильмы, сериалы и видео онлайн Смотреть Контакты О сайте xitfilms.ru фильмы - зеркало нашей жизни Смотреть видео онлайн When Bain isn't safehouse. EAT IT or WEAR IT ft. LPS NIKKI TIKKI La Mesa CA-What we do to get the lights to change Mitchel Can't Ride A Bike!!! 24 САКИС РУВАС Namagapas Skating. Davy Knowles at the Mint~Ain't Much of Nothing and What You're Made Of don't miss your shot! ,on Call of Duty BO3 Can We Get A Re-Fill Ladies Lmao Как остановить однофазный электросчетчик НИК 2102 02 М2В неодимовым магнито�\n"
     ]
    }
   ],
   "source": [
    "print(' '.join(read_file(d[u'et'][2])[:1000].split()))"
   ]
  },
  {
   "cell_type": "code",
   "execution_count": 12,
   "metadata": {
    "collapsed": false
   },
   "outputs": [
    {
     "data": {
      "text/plain": [
       "u'ru'"
      ]
     },
     "execution_count": 12,
     "metadata": {},
     "output_type": "execute_result"
    }
   ],
   "source": [
    "detect(text.decode('utf-8')[:1000])"
   ]
  },
  {
   "cell_type": "code",
   "execution_count": null,
   "metadata": {
    "collapsed": true
   },
   "outputs": [],
   "source": []
  }
 ],
 "metadata": {
  "anaconda-cloud": {},
  "kernelspec": {
   "display_name": "Python [Root]",
   "language": "python",
   "name": "Python [Root]"
  },
  "language_info": {
   "codemirror_mode": {
    "name": "ipython",
    "version": 2
   },
   "file_extension": ".py",
   "mimetype": "text/x-python",
   "name": "python",
   "nbconvert_exporter": "python",
   "pygments_lexer": "ipython2",
   "version": "2.7.12"
  }
 },
 "nbformat": 4,
 "nbformat_minor": 0
}
