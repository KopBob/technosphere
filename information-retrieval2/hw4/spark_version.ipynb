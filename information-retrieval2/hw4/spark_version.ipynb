{
 "cells": [
  {
   "cell_type": "code",
   "execution_count": 1,
   "metadata": {
    "collapsed": false
   },
   "outputs": [
    {
     "data": {
      "text/plain": [
       "<pyspark.context.SparkContext at 0x100676850>"
      ]
     },
     "execution_count": 1,
     "metadata": {},
     "output_type": "execute_result"
    }
   ],
   "source": [
    "sc"
   ]
  },
  {
   "cell_type": "code",
   "execution_count": 2,
   "metadata": {
    "collapsed": true
   },
   "outputs": [],
   "source": [
    "# from __future__ import print_function\n",
    "\n",
    "import re\n",
    "import sys\n",
    "from operator import add"
   ]
  },
  {
   "cell_type": "code",
   "execution_count": 87,
   "metadata": {
    "collapsed": true
   },
   "outputs": [],
   "source": [
    "base_path = \"./1_10/\"\n",
    "# base_path = \"./lenta.ru/1_1000/\""
   ]
  },
  {
   "cell_type": "markdown",
   "metadata": {},
   "source": [
    "# 1. Parse documents"
   ]
  },
  {
   "cell_type": "code",
   "execution_count": 88,
   "metadata": {
    "collapsed": true
   },
   "outputs": [],
   "source": [
    "import pandas as pd\n",
    "urls_df = pd.read_csv(base_path + 'urls.txt', sep=str('\\t'), header=None)\n",
    "urls_df.columns = [\"doc_id\", \"url\"]\n",
    "urls_df = urls_df.set_index(\"doc_id\")\n",
    "doc_urls_dict = urls_df.to_dict()[\"url\"]"
   ]
  },
  {
   "cell_type": "code",
   "execution_count": 89,
   "metadata": {
    "collapsed": false,
    "scrolled": true
   },
   "outputs": [],
   "source": [
    "from base64 import b64decode\n",
    "import zlib\n",
    "from bs4 import BeautifulSoup\n",
    "\n",
    "doc_urls_dict_bc = sc.broadcast(doc_urls_dict)\n",
    "\n",
    "def parse_doc_line(line):\n",
    "    doc_id, doc_base64 = line.split('\\t')\n",
    "    doc_gzip = b64decode(doc_base64)\n",
    "    doc_html = zlib.decompress(doc_gzip).decode('utf-8')\n",
    "    \n",
    "    return int(doc_id), doc_html\n",
    "\n",
    "def extract_links(doc):\n",
    "    doc_id, doc_html = doc\n",
    "    \n",
    "    doc_links = []\n",
    "    boc_bs = BeautifulSoup(doc_html, 'lxml')\n",
    "    for a in boc_bs.find_all('a', href=True):\n",
    "        href = a['href']\n",
    "        if href.startswith('mailto'):\n",
    "            continue\n",
    "        if href.startswith('/'):\n",
    "            href = 'http://lenta.ru' + href\n",
    "        if not href.startswith('http') and not href.startswith('www'):\n",
    "            pass\n",
    "        else:\n",
    "            doc_links.append(href.strip())\n",
    "            \n",
    "    return doc_urls_dict_bc.value[doc_id].strip(), doc_links\n",
    "\n",
    "\n",
    "lines = sc.textFile(base_path + \"docs*\")\n",
    "docs = lines.map(lambda line: parse_doc_line(line))\n",
    "doc_links = docs.map(lambda doc: extract_links(doc))\n",
    "doc_links = doc_links.filter(lambda x: len(x[1]))\n",
    "adjacency_list = doc_links.flatMapValues(lambda x: x)\n",
    "to_save = adjacency_list.map(lambda urls: \"%s\\t%s\" % urls)\n",
    "to_save = to_save.distinct()\n",
    "out_path_stage1 = './out_stage1/%s' % base_path.replace('/', '_').replace('.', '_')\n",
    "to_save.saveAsTextFile(out_path_stage1)"
   ]
  },
  {
   "cell_type": "markdown",
   "metadata": {},
   "source": [
    "# 2. Page Rank"
   ]
  },
  {
   "cell_type": "code",
   "execution_count": 90,
   "metadata": {
    "collapsed": false
   },
   "outputs": [],
   "source": [
    "N = sc.textFile(base_path + \"docs*\").count()\n",
    "gamma = 0.85"
   ]
  },
  {
   "cell_type": "code",
   "execution_count": 91,
   "metadata": {
    "collapsed": false
   },
   "outputs": [
    {
     "data": {
      "text/plain": [
       "56455"
      ]
     },
     "execution_count": 91,
     "metadata": {},
     "output_type": "execute_result"
    }
   ],
   "source": [
    "N"
   ]
  },
  {
   "cell_type": "code",
   "execution_count": 92,
   "metadata": {
    "collapsed": true
   },
   "outputs": [],
   "source": [
    "def compute_contribs(urls, rank):\n",
    "    num_urls = len(urls)\n",
    "    for url in urls:\n",
    "        yield (url, rank / num_urls)\n",
    "\n",
    "def parse_neighbors(urls):\n",
    "    parts = urls.split('\\t')\n",
    "    return parts[0], parts[1]"
   ]
  },
  {
   "cell_type": "code",
   "execution_count": null,
   "metadata": {
    "collapsed": true
   },
   "outputs": [],
   "source": []
  },
  {
   "cell_type": "code",
   "execution_count": 93,
   "metadata": {
    "collapsed": false
   },
   "outputs": [],
   "source": [
    "lines = sc.textFile(out_path_stage1 + '/part-*')\n",
    "doc_links = lines.map(lambda urls: parse_neighbors(urls)).distinct().groupByKey().cache()"
   ]
  },
  {
   "cell_type": "code",
   "execution_count": 94,
   "metadata": {
    "collapsed": true
   },
   "outputs": [],
   "source": [
    "ranks = doc_links.map(lambda url_neighbors: (url_neighbors[0], 1/float(N)))"
   ]
  },
  {
   "cell_type": "code",
   "execution_count": 95,
   "metadata": {
    "collapsed": false,
    "scrolled": true
   },
   "outputs": [],
   "source": [
    "for iteration in range(4):\n",
    "    contribs = doc_links.join(ranks)\\\n",
    "                    .flatMap(lambda url_urls_rank: compute_contribs(url_urls_rank[1][0], url_urls_rank[1][1]))\n",
    "\n",
    "    ranks = contribs.reduceByKey(add).mapValues(lambda sum_contrib: sum_contrib * gamma + (1 - gamma)/float(N))"
   ]
  },
  {
   "cell_type": "code",
   "execution_count": 96,
   "metadata": {
    "collapsed": false,
    "scrolled": false
   },
   "outputs": [],
   "source": [
    "ranks_sorted = ranks.sortBy(lambda a: a[1], ascending=False)"
   ]
  },
  {
   "cell_type": "code",
   "execution_count": 97,
   "metadata": {
    "collapsed": false
   },
   "outputs": [],
   "source": [
    "# out_path_stage2 = './out_stage2/%s' % base_path.replace('/', '_').replace('.', '_')\n",
    "# to_save = ranks_sorted.map(lambda x: \"%s\\t%s\" % x)\n",
    "# to_save.saveAsTextFile(out_path_stage2)"
   ]
  },
  {
   "cell_type": "code",
   "execution_count": 115,
   "metadata": {
    "collapsed": false
   },
   "outputs": [
    {
     "name": "stdout",
     "output_type": "stream",
     "text": [
      "http://ads.adfox.ru/202433/goDefaultLink?p1=biozy&p2=v has rank: 4.2482341664e-05.\n",
      "http://lenta.ru/rubrics/sport/ has rank: 4.21980741976e-05.\n",
      "http://dom.lenta.ru has rank: 4.21980741976e-05.\n",
      "http://lenta.ru/rubrics/russia/ has rank: 4.21980741976e-05.\n",
      "http://motor.ru has rank: 4.21980741976e-05.\n",
      "http://lenta.ru/rubrics/forces/ has rank: 4.21980741976e-05.\n",
      "http://orphus.ru has rank: 4.21980741976e-05.\n",
      "http://lenta.ru/rubrics/life/ has rank: 4.21980741976e-05.\n",
      "http://lenta.ru/info/ has rank: 4.21980741976e-05.\n",
      "http://lenta.ru/parts/photo/ has rank: 4.21980741976e-05.\n",
      "http://lenta.ru/rubrics/media/ has rank: 4.21980741976e-05.\n",
      "http://lenta.ru/rubrics/ussr/ has rank: 4.21980741976e-05.\n",
      "http://lenta.ru/parts/video/ has rank: 4.21980741976e-05.\n",
      "http://dom.lenta.ru/ has rank: 4.21980741976e-05.\n",
      "http://lenta.ru/rubrics/science/ has rank: 4.21980741976e-05.\n",
      "http://motor.ru/ has rank: 4.21980741976e-05.\n",
      "http://lenta.ru/rubrics/economics/ has rank: 4.21980741976e-05.\n",
      "http://vk.com/lentaru has rank: 4.21980741976e-05.\n",
      "http://lenta.ru/rubrics/weapons/ has rank: 4.21980741976e-05.\n",
      "http://lenta.ru/rubrics/culture/ has rank: 4.21980741976e-05.\n",
      "http://lenta.ru/rss has rank: 4.21980741976e-05.\n",
      "http://lenta.ru/rubrics/realty/ has rank: 4.21980741976e-05.\n",
      "http://lenta.ru/rubrics/world/ has rank: 4.21980741976e-05.\n",
      "http://twitter.com/lentaruofficial has rank: 4.21980741976e-05.\n",
      "http://lenta.ru/rubrics/ww1/ has rank: 4.21980741976e-05.\n",
      "http://facebook.com/lenta.ru has rank: 4.21980741976e-05.\n",
      "http://lenta.ru/specprojects/ has rank: 4.21980741976e-05.\n",
      "http://lenta.ru/ has rank: 4.21980741976e-05.\n",
      "http://lenta.ru/parts/text/ has rank: 4.21980741976e-05.\n",
      "http://reklama.rambler.ru/sites/lenta/ has rank: 4.21980741976e-05.\n"
     ]
    }
   ],
   "source": [
    "for (link, rank) in ranks_sorted.take(30):\n",
    "    print(\"%s has rank: %s.\" % (link, rank))"
   ]
  },
  {
   "cell_type": "markdown",
   "metadata": {},
   "source": [
    "# 3 HIST"
   ]
  },
  {
   "cell_type": "code",
   "execution_count": 129,
   "metadata": {
    "collapsed": true
   },
   "outputs": [],
   "source": [
    "import math"
   ]
  },
  {
   "cell_type": "code",
   "execution_count": 130,
   "metadata": {
    "collapsed": true
   },
   "outputs": [],
   "source": [
    "lines = sc.textFile(out_path_stage1 + '/part-*')\n",
    "doc_links = lines.map(lambda urls: parse_neighbors(urls)).distinct().groupByKey().cache()\n",
    "lines = sc.textFile(out_path_stage1 + '/part-*')\n",
    "invert_doc_links = lines.map(lambda urls: parse_neighbors(urls)[::-1]).distinct().groupByKey().cache()"
   ]
  },
  {
   "cell_type": "code",
   "execution_count": null,
   "metadata": {
    "collapsed": false
   },
   "outputs": [],
   "source": []
  },
  {
   "cell_type": "code",
   "execution_count": 131,
   "metadata": {
    "collapsed": true
   },
   "outputs": [],
   "source": [
    "auth_score = invert_doc_links.map(lambda url_neighbors: (url_neighbors[0], 1/math.sqrt(N)))\n",
    "hub_score = doc_links.map(lambda url_neighbors: (url_neighbors[0], 1/math.sqrt(N)))"
   ]
  },
  {
   "cell_type": "code",
   "execution_count": 132,
   "metadata": {
    "collapsed": false,
    "scrolled": false
   },
   "outputs": [],
   "source": [
    "for _ in range(1):\n",
    "    # update all authority values first\n",
    "    hub_contribs = invert_doc_links\\\n",
    "                        .join(auth_score)\\\n",
    "                        .flatMap(lambda url_urls_rank:\\\n",
    "                                 compute_contribs(url_urls_rank[1][0], url_urls_rank[1][1]))\n",
    "\n",
    "    hub_score = hub_contribs\\\n",
    "                    .reduceByKey(add)\\\n",
    "                    .mapValues(lambda x: x)\n",
    "\n",
    "    hub_norm = math.sqrt(hub_score.map(lambda x: x[1]**2).sum())\n",
    "    hub_norm_bc = sc.broadcast(hub_norm)\n",
    "    hub_score = hub_score.map(lambda x: (x[0], x[1]/hub_norm_bc.value))\n",
    "\n",
    "    # then update all hub values\n",
    "    auth_contribs = doc_links\\\n",
    "                    .join(hub_score)\\\n",
    "                    .flatMap(lambda url_urls_rank:\\\n",
    "                                 compute_contribs(url_urls_rank[1][0], url_urls_rank[1][1]))\n",
    "\n",
    "    auth_score = auth_contribs\\\n",
    "                    .reduceByKey(add)\\\n",
    "                    .mapValues(lambda x: x)\n",
    "\n",
    "    auth_norm = math.sqrt(auth_score.map(lambda x: x[1]**2).sum())\n",
    "    auth_norm_bc = sc.broadcast(auth_norm)\n",
    "    auth_score = auth_score.map(lambda x: (x[0], x[1]/auth_norm_bc.value))"
   ]
  },
  {
   "cell_type": "code",
   "execution_count": null,
   "metadata": {
    "collapsed": false,
    "scrolled": false
   },
   "outputs": [],
   "source": []
  },
  {
   "cell_type": "code",
   "execution_count": 133,
   "metadata": {
    "collapsed": false
   },
   "outputs": [],
   "source": [
    "auth_score_sorted = auth_score.sortBy(lambda a: a[1], ascending=False)\n",
    "hub_score_sorted = hub_score.sortBy(lambda a: a[1], ascending=False)"
   ]
  },
  {
   "cell_type": "code",
   "execution_count": 134,
   "metadata": {
    "collapsed": false
   },
   "outputs": [
    {
     "name": "stdout",
     "output_type": "stream",
     "text": [
      "http://lenta.ru/lib has hub: 0.471454349149.\n",
      "http://lenta.ru/2009/03/31/ has hub: 0.0578326952318.\n",
      "http://lenta.ru/2008/05/29 has hub: 0.0577821205397.\n",
      "http://lenta.ru/2009/01/23 has hub: 0.0577284294997.\n",
      "http://lenta.ru/2009/03/18 has hub: 0.0574488477191.\n",
      "http://lenta.ru/2009/05/13 has hub: 0.0574219332306.\n",
      "http://lenta.ru/2010/03/23/ has hub: 0.0574060937419.\n",
      "http://lenta.ru/2009/06/02 has hub: 0.0573672235107.\n",
      "http://lenta.ru/news/2009/02/11/ has hub: 0.056633267469.\n",
      "http://lenta.ru/2008/07/02 has hub: 0.0561851248401.\n",
      "http://lenta.ru/2011/04/20 has hub: 0.0558182336089.\n",
      "http://lenta.ru/2009/07/10 has hub: 0.055598437454.\n",
      "http://lenta.ru/2008/09/25 has hub: 0.0555979221885.\n",
      "http://lenta.ru/2008/10/09 has hub: 0.0549042424073.\n",
      "http://lenta.ru/2008/08/08/ has hub: 0.0548080221404.\n",
      "http://lenta.ru/2010/06/30 has hub: 0.0547290512639.\n",
      "http://lenta.ru/2010/04/06 has hub: 0.0541940427941.\n",
      "http://lenta.ru/2008/04/16/ has hub: 0.0541677801821.\n",
      "http://lenta.ru/2008/02/22 has hub: 0.053988487679.\n",
      "http://lenta.ru/2009/07/16/ has hub: 0.0539146194185.\n",
      "http://lenta.ru/2011/11/03 has hub: 0.0536833679169.\n",
      "http://lenta.ru/2008/06/27/ has hub: 0.0531677137472.\n",
      "http://lenta.ru/2008/03/17 has hub: 0.0523644230555.\n",
      "http://lenta.ru/2009/02/17 has hub: 0.0523460211367.\n",
      "http://lenta.ru/2008/10/15 has hub: 0.0522515290769.\n",
      "http://lenta.ru/2010/07/08/ has hub: 0.0520846937168.\n",
      "http://lenta.ru/news/2009/01/30/ has hub: 0.0520522483894.\n",
      "http://lenta.ru/news/2008/11/27 has hub: 0.0516141792681.\n",
      "http://lenta.ru/2012/04/24 has hub: 0.0513103287855.\n",
      "http://lenta.ru/2009/06/03 has hub: 0.0510803432571.\n"
     ]
    }
   ],
   "source": [
    "for (link, rank) in hub_score_sorted.take(30):\n",
    "    print(\"%s has hub: %s.\" % (link, rank))"
   ]
  },
  {
   "cell_type": "code",
   "execution_count": 135,
   "metadata": {
    "collapsed": false
   },
   "outputs": [
    {
     "name": "stdout",
     "output_type": "stream",
     "text": [
      "http://lenta.ru/rubrics/russia/ has authority: 0.143536839393.\n",
      "http://vk.com/lentaru has authority: 0.143536839393.\n",
      "http://facebook.com/lenta.ru has authority: 0.143536839393.\n",
      "http://lenta.ru/specprojects/ has authority: 0.143536839393.\n",
      "http://lenta.ru/rubrics/culture/ has authority: 0.143536839393.\n",
      "http://lenta.ru/rubrics/media/ has authority: 0.143536839393.\n",
      "http://lenta.ru/rss has authority: 0.143536839393.\n",
      "http://lenta.ru/rubrics/science/ has authority: 0.143536839393.\n",
      "http://motor.ru/ has authority: 0.143536839393.\n",
      "http://lenta.ru/parts/photo/ has authority: 0.143536839393.\n",
      "http://lenta.ru/rubrics/world/ has authority: 0.143536839393.\n",
      "http://dom.lenta.ru/ has authority: 0.143536839393.\n",
      "http://lenta.ru/rubrics/ussr/ has authority: 0.143536839393.\n",
      "http://lenta.ru/parts/text/ has authority: 0.143536839393.\n",
      "http://lenta.ru/rubrics/economics/ has authority: 0.143536839393.\n",
      "http://lenta.ru/rubrics/sport/ has authority: 0.143536839393.\n",
      "http://lenta.ru/rubrics/life/ has authority: 0.143536839393.\n",
      "http://lenta.ru/info/ has authority: 0.143536839393.\n",
      "http://lenta.ru/ has authority: 0.143536839393.\n",
      "http://twitter.com/lentaruofficial has authority: 0.143536839393.\n",
      "http://reklama.rambler.ru/sites/lenta/ has authority: 0.143536839393.\n",
      "http://orphus.ru has authority: 0.143536839393.\n",
      "http://lenta.ru/rubrics/realty/ has authority: 0.143483565862.\n",
      "http://lenta.ru/rubrics/motor/ has authority: 0.143483565862.\n",
      "http://dom.lenta.ru has authority: 0.143483565862.\n",
      "http://motor.ru has authority: 0.143483565862.\n",
      "http://lenta.ru/parts/infographics/ has authority: 0.143469678009.\n",
      "http://lenta.ru/parts/video/ has authority: 0.143469678009.\n",
      "http://lenta.ru/rubrics/weapons/ has authority: 0.143469678009.\n",
      "http://lenta.ru/rubrics/ww1/ has authority: 0.14328804314.\n"
     ]
    }
   ],
   "source": [
    "for (link, rank) in auth_score_sorted.take(30):\n",
    "    print(\"%s has authority: %s.\" % (link, rank))"
   ]
  },
  {
   "cell_type": "code",
   "execution_count": null,
   "metadata": {
    "collapsed": true
   },
   "outputs": [],
   "source": []
  },
  {
   "cell_type": "code",
   "execution_count": null,
   "metadata": {
    "collapsed": true
   },
   "outputs": [],
   "source": []
  }
 ],
 "metadata": {
  "anaconda-cloud": {},
  "kernelspec": {
   "display_name": "Python [Root]",
   "language": "python",
   "name": "Python [Root]"
  },
  "language_info": {
   "codemirror_mode": {
    "name": "ipython",
    "version": 2
   },
   "file_extension": ".py",
   "mimetype": "text/x-python",
   "name": "python",
   "nbconvert_exporter": "python",
   "pygments_lexer": "ipython2",
   "version": "2.7.12"
  }
 },
 "nbformat": 4,
 "nbformat_minor": 0
}
