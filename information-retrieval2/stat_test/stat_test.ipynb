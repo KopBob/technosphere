{
 "cells": [
  {
   "cell_type": "code",
   "execution_count": null,
   "metadata": {
    "collapsed": true
   },
   "outputs": [],
   "source": [
    "# Дано: файлы с1.txt и c2.txt, содержащие клики пользователей со сплита 1 и 2 соответственно"
   ]
  },
  {
   "cell_type": "code",
   "execution_count": null,
   "metadata": {
    "collapsed": true
   },
   "outputs": [],
   "source": [
    "# Формат: каждая строка соответствует одной сессии и содержит десять цифр: нулей или\n",
    "# единиц, обозначающих был ли клик в документ или нет в порядке возрастания ранга\n",
    "# документа в поисковой выдаче.\n",
    "# Например, начало с1.txt:\n",
    "# 1 1 1 0 0 0 0 0 0 0\n",
    "# 0 0 0 0 0 0 0 0 0 0\n",
    "# 1 0 0 0 0 0 0 0 0 0\n",
    "# Означает следующее. Представлена информация о трех поисковых сессиях. Сессия 1 –\n",
    "# пользователь просмотрел (кликнул) в документы 1, 2, 3. В сессию 2 кликов не было, а в\n",
    "# сессии 3 был клик только в первый документ. "
   ]
  },
  {
   "cell_type": "code",
   "execution_count": null,
   "metadata": {
    "collapsed": true
   },
   "outputs": [],
   "source": [
    "# Задача: методом бутстрепинга проверить гипотезу H0 о том, что CTR на двух сплитах можно\n",
    "# объяснить шумами. Выполнить данный подсчет для любой другой кликовой метрики,\n",
    "# например: количество отказов (доля сессий без кликов), доля кликов в первый результат,\n",
    "# позиция последнего клика, среднее количество кликов на сессию и т.д."
   ]
  },
  {
   "cell_type": "code",
   "execution_count": 4,
   "metadata": {
    "collapsed": true
   },
   "outputs": [],
   "source": [
    "# Как считать метрику: Обычно кликовые метрики считают следующим образом: выбирают\n",
    "# за определенный промежуток времени сессии (например за 1 минуту) и считают метрику.\n",
    "# Например, за 1 минуту на сплит пришло 100 запросов, из них 20 сессий без кликов, тогда\n",
    "# CTR равен (100-20)/100 = 0,8. В вашем случае информации о времени нет, поэтому возможно\n",
    "# просто разбить сессии на группы по 100 или по 1000 сессий, превратить каждую группу в\n",
    "# точки метрики, CTR или другую. Количество сессий в одном сплите 1 000 000, тогда взяв в\n",
    "# группу, например, 1000 сессий, получим (1 000 000/1000) = 1000 значений CTR.\n",
    "# Как проверять гипотезу: Считать t-статистику, и проверять условие t > t*, где t* = 1,96 для\n",
    "# α=5%.\n",
    "# Что делать с бутстрепингом: На каждом шаге семплированием получать новое множество\n",
    "# значений метрики (аналогично, как делали на семинаре для множества побед и ничьих),\n",
    "# проверять гипотезу и считать количество итераций, на которых гипотеза H0 может быть\n",
    "# отвергнута. По результату посчитать ASL(уровень значимости) как count/N, где count —\n",
    "# количество итераций при которых гипотезу H0 была отвергнута, а N общее количество\n",
    "# итераций.\n",
    "\n",
    "# В этой статье доступно описана схема эксперимента на двух сплитах и как считать t\n",
    "# статистику\n",
    "# http://www.exp-platform.com/Documents/GuideControlledExperiments.pdf\n",
    "\n",
    "# Про бутстрепинг можно почитать\n",
    "# http://goanna.cs.rmit.edu.au/~aht/tiger/p525-sakai.pdf\n",
    "# http://www.stat.cmu.edu/~cshalizi/402/lectures/08-bootstrap/lecture-08.pdf"
   ]
  },
  {
   "cell_type": "code",
   "execution_count": 5,
   "metadata": {
    "collapsed": true
   },
   "outputs": [],
   "source": [
    "import pandas as pd\n",
    "import numpy as np"
   ]
  },
  {
   "cell_type": "code",
   "execution_count": 10,
   "metadata": {
    "collapsed": false
   },
   "outputs": [],
   "source": [
    "c1 = pd.read_csv(\"./c1.txt\", sep=\" \", header=None)\n",
    "c2 = pd.read_csv(\"./c2.txt\", sep=\" \", header=None)"
   ]
  },
  {
   "cell_type": "code",
   "execution_count": 47,
   "metadata": {
    "collapsed": false
   },
   "outputs": [],
   "source": [
    "compute_ctr = lambda c: (c.sum(axis=1) > 0)\\\n",
    "                            .as_matrix()\\\n",
    "                            .reshape((len(c1)/1000), 1000)\\\n",
    "                            .mean(axis=1)\n",
    "compute_last_click_pos = lambda c: (c1 * c1.columns).max(axis=1)\\\n",
    "                            .as_matrix()\\\n",
    "                            .reshape((len(c1)/1000), 1000)\\\n",
    "                            .mean(axis=1)"
   ]
  },
  {
   "cell_type": "code",
   "execution_count": 80,
   "metadata": {
    "collapsed": true
   },
   "outputs": [],
   "source": [
    "ctr1 = compute_ctr(c1)\n",
    "ctr2 = compute_ctr(c2)\n",
    "\n",
    "last1 = compute_last_click_pos(c1)\n",
    "last2 = compute_last_click_pos(c2)"
   ]
  },
  {
   "cell_type": "code",
   "execution_count": 110,
   "metadata": {
    "collapsed": false
   },
   "outputs": [],
   "source": [
    "def t_test(x1, x2, alpha=0.05, verbose=False) :\n",
    "    x1_n = float(x1.shape[0]); x2_n = float(x2.shape[0])\n",
    "    x1_E = np.mean(x1); x2_E = np.mean(x2)\n",
    "    x1_S = np.var(x1, ddof=1); x2_S = np.var(x2, ddof=1)\n",
    "    S = ((x1_n - 1)*x1_S + (x2_n - 1) * x2_S)/(x1_n + x2_n - 2)\n",
    "    stat = ((x1_E - x2_E)/(S ** 0.5))*((x1_n * x2_n/(x1_n + x2_n)) ** 0.5)\n",
    "    if verbose:\n",
    "        print(stat)\n",
    "    return bool(stat > 1.96)"
   ]
  },
  {
   "cell_type": "code",
   "execution_count": 111,
   "metadata": {
    "collapsed": false
   },
   "outputs": [
    {
     "name": "stdout",
     "output_type": "stream",
     "text": [
      "44.926939829\n"
     ]
    },
    {
     "data": {
      "text/plain": [
       "True"
      ]
     },
     "execution_count": 111,
     "metadata": {},
     "output_type": "execute_result"
    }
   ],
   "source": [
    "t_test(ctr1, ctr2, verbose=True)\n",
    "# [OUT]: True => отвергаем H0"
   ]
  },
  {
   "cell_type": "code",
   "execution_count": 112,
   "metadata": {
    "collapsed": false
   },
   "outputs": [
    {
     "name": "stdout",
     "output_type": "stream",
     "text": [
      "0.0\n"
     ]
    },
    {
     "data": {
      "text/plain": [
       "False"
      ]
     },
     "execution_count": 112,
     "metadata": {},
     "output_type": "execute_result"
    }
   ],
   "source": [
    "t_test(last1, last2, verbose=True)\n",
    "# [OUT]: False => принимаем H0"
   ]
  },
  {
   "cell_type": "code",
   "execution_count": 105,
   "metadata": {
    "collapsed": true
   },
   "outputs": [],
   "source": [
    "def bootstrap(x1, x2, k_iterations=5000, n_samples=25000):\n",
    "    x1_inds = range(x1.shape[0]); x2_inds = range(x2.shape[0])\n",
    "\n",
    "    t_res_sum = 0.0\n",
    "    for _ in range(k_iterations):\n",
    "        x1_sample = x1[np.random.choice(x1_inds, n_samples, replace=True)]\n",
    "        x2_sample = x2[np.random.choice(x2_inds, n_samples, replace=True)]\n",
    "        \n",
    "        t_res_sum += t_test(x1_sample, x2_sample)\n",
    "\n",
    "    return t_res_sum/k_iterations"
   ]
  },
  {
   "cell_type": "code",
   "execution_count": 106,
   "metadata": {
    "collapsed": false
   },
   "outputs": [
    {
     "data": {
      "text/plain": [
       "1.0"
      ]
     },
     "execution_count": 106,
     "metadata": {},
     "output_type": "execute_result"
    }
   ],
   "source": [
    "# H0: CRT на двух сплитах можно объяснить шумами\n",
    "bootstrap(ctr1, ctr2)\n",
    "# [OUT]: 1.0 => отвергаем H0"
   ]
  },
  {
   "cell_type": "code",
   "execution_count": 107,
   "metadata": {
    "collapsed": false
   },
   "outputs": [
    {
     "data": {
      "text/plain": [
       "0.023"
      ]
     },
     "execution_count": 107,
     "metadata": {},
     "output_type": "execute_result"
    }
   ],
   "source": [
    "# H0: last click pos на двух сплитах можно объяснить шумами\n",
    "bootstrap(last1, last2)\n",
    "# [OUT]: 0.023 => принимаем H0"
   ]
  }
 ],
 "metadata": {
  "anaconda-cloud": {},
  "kernelspec": {
   "display_name": "Python [Root]",
   "language": "python",
   "name": "Python [Root]"
  },
  "language_info": {
   "codemirror_mode": {
    "name": "ipython",
    "version": 2
   },
   "file_extension": ".py",
   "mimetype": "text/x-python",
   "name": "python",
   "nbconvert_exporter": "python",
   "pygments_lexer": "ipython2",
   "version": "2.7.12"
  }
 },
 "nbformat": 4,
 "nbformat_minor": 1
}
