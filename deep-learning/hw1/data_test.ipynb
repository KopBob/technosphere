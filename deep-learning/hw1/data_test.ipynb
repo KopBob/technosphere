{
 "cells": [
  {
   "cell_type": "code",
   "execution_count": 1,
   "metadata": {},
   "outputs": [],
   "source": [
    "%load_ext autoreload\n",
    "%autoreload 2\n",
    "%matplotlib inline"
   ]
  },
  {
   "cell_type": "code",
   "execution_count": 2,
   "metadata": {},
   "outputs": [],
   "source": [
    "import os\n",
    "import re\n",
    "\n",
    "import numpy as np\n",
    "from scipy import misc\n",
    "\n",
    "from matplotlib import pyplot as plt"
   ]
  },
  {
   "cell_type": "code",
   "execution_count": 3,
   "metadata": {},
   "outputs": [
    {
     "ename": "ImportError",
     "evalue": "No module named nn.MLP",
     "output_type": "error",
     "traceback": [
      "\u001b[0;31m---------------------------------------------------------------------------\u001b[0m",
      "\u001b[0;31mImportError\u001b[0m                               Traceback (most recent call last)",
      "\u001b[0;32m<ipython-input-3-f29f09c9a9ff>\u001b[0m in \u001b[0;36m<module>\u001b[0;34m()\u001b[0m\n\u001b[0;32m----> 1\u001b[0;31m \u001b[0;32mfrom\u001b[0m \u001b[0mnn\u001b[0m\u001b[0;34m.\u001b[0m\u001b[0mMLP\u001b[0m \u001b[0;32mimport\u001b[0m \u001b[0mMLP\u001b[0m\u001b[0;34m,\u001b[0m \u001b[0msigmoid\u001b[0m\u001b[0;34m,\u001b[0m \u001b[0md_sigmoid\u001b[0m\u001b[0;34m,\u001b[0m \u001b[0md_identity\u001b[0m\u001b[0;34m,\u001b[0m \u001b[0midentity\u001b[0m\u001b[0;34m,\u001b[0m \u001b[0mtanh\u001b[0m\u001b[0;34m,\u001b[0m \u001b[0md_tanh\u001b[0m\u001b[0;34m\u001b[0m\u001b[0m\n\u001b[0m\u001b[1;32m      2\u001b[0m \u001b[0;32mfrom\u001b[0m \u001b[0mnn\u001b[0m\u001b[0;34m.\u001b[0m\u001b[0mMLP\u001b[0m \u001b[0;32mimport\u001b[0m \u001b[0mxeuclidian\u001b[0m\u001b[0;34m,\u001b[0m \u001b[0md_xeuclidian\u001b[0m\u001b[0;34m,\u001b[0m \u001b[0mlog_Bernoulli_likelihood\u001b[0m\u001b[0;34m,\u001b[0m \u001b[0md_log_Bernoulli_likelihood\u001b[0m\u001b[0;34m\u001b[0m\u001b[0m\n\u001b[1;32m      3\u001b[0m \u001b[0;32mfrom\u001b[0m \u001b[0mnn\u001b[0m\u001b[0;34m.\u001b[0m\u001b[0mNorms\u001b[0m \u001b[0;32mimport\u001b[0m \u001b[0ml2\u001b[0m\u001b[0;34m,\u001b[0m \u001b[0md_l2\u001b[0m\u001b[0;34m\u001b[0m\u001b[0m\n",
      "\u001b[0;31mImportError\u001b[0m: No module named nn.MLP"
     ]
    }
   ],
   "source": [
    "from nn.MLP import MLP, sigmoid, d_sigmoid, d_identity, identity, tanh, d_tanh\n",
    "from nn.MLP import xeuclidian, d_xeuclidian, log_Bernoulli_likelihood, d_log_Bernoulli_likelihood\n",
    "from nn.Norms import l2, d_l2"
   ]
  },
  {
   "cell_type": "code",
   "execution_count": 4,
   "metadata": {},
   "outputs": [],
   "source": [
    "train_input = np.empty((0, 841))\n",
    "cv_input = np.empty((0, 841))\n",
    "test_input = np.empty((0, 841))\n",
    "train_output = np.empty((0, 26))\n",
    "cv_output = np.empty((0, 26))\n",
    "test_output = np.empty((0, 26))"
   ]
  },
  {
   "cell_type": "code",
   "execution_count": 5,
   "metadata": {},
   "outputs": [],
   "source": [
    "for f in os.listdir('./test_data/big_alphabet_29x29/'):\n",
    "    v = np.array(misc.imread('./test_data/big_alphabet_29x29/' + f, flatten=True)).flatten() / 255.0\n",
    "    parts = re.split('[-\\.]', f)\n",
    "    i = int(parts[1])\n",
    "    o = np.zeros(26)\n",
    "    o[i] = 1.0\n",
    "    if len(parts) == 5 and parts[2] in ['7', '8']:\n",
    "        cv_input = np.vstack([cv_input, v])\n",
    "        cv_output = np.vstack([cv_output, o])\n",
    "    elif len(parts) == 5 and parts[2] in ['5', '6']:\n",
    "        test_input = np.vstack([cv_input, v])\n",
    "        test_output = np.vstack([cv_output, o])\n",
    "    else:\n",
    "        train_input = np.vstack([train_input, v])\n",
    "        train_output = np.vstack([train_output, o])"
   ]
  },
  {
   "cell_type": "code",
   "execution_count": null,
   "metadata": {},
   "outputs": [],
   "source": [
    ""
   ]
  },
  {
   "cell_type": "code",
   "execution_count": 6,
   "metadata": {},
   "outputs": [
    {
     "data": {
      "text/plain": [
       "(156, 841)"
      ]
     },
     "execution_count": 6,
     "output_type": "execute_result",
     "metadata": {}
    }
   ],
   "source": [
    "train_input.shape"
   ]
  },
  {
   "cell_type": "code",
   "execution_count": 7,
   "metadata": {},
   "outputs": [
    {
     "data": {
      "text/plain": [
       "<matplotlib.image.AxesImage at 0x101978c90>"
      ]
     },
     "execution_count": 7,
     "output_type": "execute_result",
     "metadata": {}
    },
    {
     "data": {
      "image/png": "[encoded data removed]"
     },
     "output_type": "display_data",
     "metadata": {}
    }
   ],
   "source": [
    "plt.imshow(train_input[0].reshape((29,29)), cmap=\"gray\")"
   ]
  },
  {
   "cell_type": "code",
   "execution_count": 8,
   "metadata": {},
   "outputs": [],
   "source": [
    "from src.network import Network"
   ]
  },
  {
   "cell_type": "code",
   "execution_count": 78,
   "metadata": {},
   "outputs": [],
   "source": [
    "from src.activation_funcs import logistic, identy\n",
    "from src.cost_funcs import cross_entropy, quadratic"
   ]
  },
  {
   "cell_type": "code",
   "execution_count": 77,
   "metadata": {},
   "outputs": [
    {
     "data": {
      "text/plain": [
       "array([ 0.,  0.,  0.,  0.,  0.,  0.,  0.,  0.,  0.,  0.,  0.,  0.,  0.,\n",
       "        0.,  0.,  1.,  0.,  0.,  0.,  0.,  0.,  0.,  0.,  0.,  0.,  0.])"
      ]
     },
     "execution_count": 77,
     "output_type": "execute_result",
     "metadata": {}
    }
   ],
   "source": [
    "train_output[7]"
   ]
  },
  {
   "cell_type": "code",
   "execution_count": 16,
   "metadata": {},
   "outputs": [],
   "source": [
    "d_features = train_input.shape[1]\n",
    "m_classes = train_output.shape[1]"
   ]
  },
  {
   "cell_type": "code",
   "execution_count": 34,
   "metadata": {},
   "outputs": [
    {
     "data": {
      "text/plain": [
       "841"
      ]
     },
     "execution_count": 34,
     "output_type": "execute_result",
     "metadata": {}
    }
   ],
   "source": [
    "d_features"
   ]
  },
  {
   "cell_type": "code",
   "execution_count": 94,
   "metadata": {},
   "outputs": [],
   "source": [
    "sizes = [d_features, 60, m_classes]\n",
    "act_funcs = [logistic, logistic]\n",
    "nn = Network(sizes, act_funcs, cost_func=cross_entropy, epochs=10, eta=0.001)"
   ]
  },
  {
   "cell_type": "code",
   "execution_count": 95,
   "metadata": {},
   "outputs": [
    {
     "data": {
      "text/plain": [
       "<src.network.Network at 0x10b42ab90>"
      ]
     },
     "execution_count": 95,
     "output_type": "execute_result",
     "metadata": {}
    }
   ],
   "source": [
    "nn.fit(train_input, train_output, cv_input, cv_output)"
   ]
  },
  {
   "cell_type": "code",
   "execution_count": 96,
   "metadata": {},
   "outputs": [
    {
     "data": {
      "text/plain": [
       "<matplotlib.image.AxesImage at 0x10ae54410>"
      ]
     },
     "execution_count": 96,
     "output_type": "execute_result",
     "metadata": {}
    },
    {
     "data": {
      "image/png": "[encoded data removed]"
     },
     "output_type": "display_data",
     "metadata": {}
    }
   ],
   "source": [
    "plt.imshow(nn._weights[1][30, :].reshape((29,29)), cmap=\"gray\")"
   ]
  },
  {
   "cell_type": "code",
   "execution_count": 97,
   "metadata": {},
   "outputs": [
    {
     "data": {
      "text/plain": [
       "array([[ 0.14940548,  0.98113397,  0.28477328, ...,  0.9990335 ,\n",
       "         0.0239952 ,  0.13937314],\n",
       "       [ 0.10420313,  0.9955792 ,  0.15263516, ...,  0.99793971,\n",
       "         0.02690051,  0.25906225],\n",
       "       [ 0.00497005,  0.9848499 ,  0.70450413, ...,  0.99848746,\n",
       "         0.3558151 ,  0.19001512],\n",
       "       ..., \n",
       "       [ 0.0042902 ,  0.99811149,  0.44182183, ...,  0.99937072,\n",
       "         0.02885551,  0.07856391],\n",
       "       [ 0.0026066 ,  0.99898531,  0.35050701, ...,  0.99919243,\n",
       "         0.04489029,  0.0581961 ],\n",
       "       [ 0.00265648,  0.9985544 ,  0.62687819, ...,  0.99964902,\n",
       "         0.29885306,  0.04837486]])"
      ]
     },
     "execution_count": 97,
     "output_type": "execute_result",
     "metadata": {}
    }
   ],
   "source": [
    "nn.predict_proba(test_input)"
   ]
  },
  {
   "cell_type": "code",
   "execution_count": 98,
   "metadata": {},
   "outputs": [
    {
     "data": {
      "text/plain": [
       "array([15, 15, 15, 15, 15, 15, 15, 15, 15, 15, 15, 15, 15, 15, 15, 15, 15,\n",
       "       15, 15, 15, 15, 15, 15, 15, 15, 15, 15, 15, 15, 15, 15, 15, 15, 15,\n",
       "       15, 15, 21, 21, 15, 15, 15, 15, 15, 15, 15, 15, 15, 15, 21, 15, 15])"
      ]
     },
     "execution_count": 98,
     "output_type": "execute_result",
     "metadata": {}
    }
   ],
   "source": [
    "y_pred = np.argmax(nn.predict_proba(test_input), axis=1)\n",
    "y_pred"
   ]
  },
  {
   "cell_type": "code",
   "execution_count": 99,
   "metadata": {},
   "outputs": [
    {
     "data": {
      "text/plain": [
       "array([ 0,  0,  1,  1, 10, 10, 11, 11, 12, 12, 13, 13, 14, 14, 15, 15, 16,\n",
       "       16, 17, 17, 18, 18, 19, 19,  2,  2, 20, 20, 21, 21, 22, 22, 23, 23,\n",
       "       24, 24, 25, 25,  3,  3,  4,  4,  5,  5,  6,  6,  7,  7,  8,  8,  9])"
      ]
     },
     "execution_count": 99,
     "output_type": "execute_result",
     "metadata": {}
    }
   ],
   "source": [
    "y_test = np.argmax(test_output, axis=1)\n",
    "y_test"
   ]
  },
  {
   "cell_type": "code",
   "execution_count": 100,
   "metadata": {},
   "outputs": [
    {
     "data": {
      "text/plain": [
       "[<matplotlib.lines.Line2D at 0x10b860590>]"
      ]
     },
     "execution_count": 100,
     "output_type": "execute_result",
     "metadata": {}
    },
    {
     "data": {
      "image/png": "[encoded data removed]"
     },
     "output_type": "display_data",
     "metadata": {}
    }
   ],
   "source": [
    "plt.plot(range(len(nn.scores)), nn.scores)"
   ]
  },
  {
   "cell_type": "code",
   "execution_count": null,
   "metadata": {},
   "outputs": [],
   "source": [
    ""
   ]
  },
  {
   "cell_type": "code",
   "execution_count": null,
   "metadata": {},
   "outputs": [],
   "source": [
    ""
   ]
  },
  {
   "cell_type": "code",
   "execution_count": 24,
   "metadata": {},
   "outputs": [],
   "source": [
    "nn = MLP(841, (100, 26),\n",
    "                       activation_functions=[sigmoid, sigmoid],\n",
    "                       rng=(lambda n: np.random.normal(0, 0.01, n)))"
   ]
  },
  {
   "cell_type": "code",
   "execution_count": 25,
   "metadata": {},
   "outputs": [
    {
     "name": "stdout",
     "output_type": "stream",
     "text": [
      "Iteration: 99 (0.05673 s), train/cv cost: 4.22052433538 / 4.22173899493"
     ]
    }
   ],
   "source": [
    "train_cost, cv_cost = \\\n",
    "    nn.train_backprop(train_input, train_output,\n",
    "                      d_f_list=[d_sigmoid, d_sigmoid],\n",
    "                      goal=log_Bernoulli_likelihood,\n",
    "                      d_goal=d_log_Bernoulli_likelihood,\n",
    "                      batch_size=None,\n",
    "                      max_iter=100,\n",
    "                      learning_rate=0.1,\n",
    "                      momentum_rate=0.9,\n",
    "                      neural_local_gain=(0.005, 0.995, 0.001, 1000),\n",
    "                      stop_threshold=0.05,\n",
    "                      cv_input_data=cv_input,\n",
    "                      cv_output_data=cv_output,\n",
    "                      #regularization_rate=0.1,\n",
    "                      #regularization_norm=l2,\n",
    "                      #d_regularization_norm=d_l2\n",
    "                      verbose=True\n",
    "                      )"
   ]
  },
  {
   "cell_type": "code",
   "execution_count": 26,
   "metadata": {},
   "outputs": [
    {
     "name": "stdout",
     "output_type": "stream",
     "text": [
      "114 / 156\n"
     ]
    }
   ],
   "source": [
    "t = np.argmax(train_output, axis=1)\n",
    "y = np.argmax(nn.compute_output(train_input), axis=1)\n",
    "\n",
    "print('%s / %s' % (sum(t == y), train_output.shape[0]))"
   ]
  },
  {
   "cell_type": "code",
   "execution_count": 27,
   "metadata": {},
   "outputs": [
    {
     "name": "stdout",
     "output_type": "stream",
     "text": [
      "34 / 51\n"
     ]
    }
   ],
   "source": [
    "t = np.argmax(test_output, axis=1)\n",
    "y = np.argmax(nn.compute_output(test_input), axis=1)\n",
    "\n",
    "print('%s / %s' % (sum(t == y), test_output.shape[0]))"
   ]
  },
  {
   "cell_type": "code",
   "execution_count": null,
   "metadata": {},
   "outputs": [],
   "source": [
    ""
   ]
  }
 ],
 "metadata": {
  "kernelspec": {
   "display_name": "Python 2",
   "language": "python",
   "name": "python2"
  },
  "language_info": {
   "codemirror_mode": {
    "name": "ipython",
    "version": 2.0
   },
   "file_extension": ".py",
   "mimetype": "text/x-python",
   "name": "python",
   "nbconvert_exporter": "python",
   "pygments_lexer": "ipython2",
   "version": "2.7.10"
  }
 },
 "nbformat": 4,
 "nbformat_minor": 0
}