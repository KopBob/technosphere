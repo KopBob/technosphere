{
 "cells": [
  {
   "cell_type": "code",
   "execution_count": 476,
   "metadata": {
    "collapsed": false
   },
   "outputs": [
    {
     "name": "stdout",
     "output_type": "stream",
     "text": [
      "The autoreload extension is already loaded. To reload it, use:\n",
      "  %reload_ext autoreload\n"
     ]
    }
   ],
   "source": [
    "%load_ext autoreload\n",
    "%autoreload 2\n",
    "%matplotlib inline"
   ]
  },
  {
   "cell_type": "code",
   "execution_count": 477,
   "metadata": {
    "collapsed": true
   },
   "outputs": [],
   "source": [
    "import numpy as np\n",
    "from matplotlib import pyplot as plt\n"
   ]
  },
  {
   "cell_type": "code",
   "execution_count": 478,
   "metadata": {
    "collapsed": true
   },
   "outputs": [],
   "source": [
    "from src.network import Network"
   ]
  },
  {
   "cell_type": "code",
   "execution_count": 479,
   "metadata": {
    "collapsed": false
   },
   "outputs": [],
   "source": [
    "from sklearn import datasets\n",
    "from sklearn import cross_validation as cv\n",
    "from sklearn.preprocessing import LabelBinarizer\n",
    "from sklearn import metrics"
   ]
  },
  {
   "cell_type": "code",
   "execution_count": 480,
   "metadata": {
    "collapsed": true
   },
   "outputs": [],
   "source": [
    "# https://github.com/torch/nn\n",
    "# http://neuralnetworksanddeeplearning.com/chap1.html\n",
    "# http://stats.stackexchange.com/questions/154879/a-list-of-cost-functions-used-in-neural-networks-alongside-applications\n",
    "# https://theclevermachine.wordpress.com/2014/09/06/derivation-error-backpropagation-gradient-descent-for-neural-networks/"
   ]
  },
  {
   "cell_type": "code",
   "execution_count": 481,
   "metadata": {
    "collapsed": true
   },
   "outputs": [],
   "source": [
    "# cost_funcs = ('quadratic', 'cross-entropy', 'exponentional' )\n",
    "# activation_func = ('sigmoid', 'hyperbolic tang', 'soft-max?')\n",
    "# mode = ('online', 'batch', 'full-batch')\n",
    "\n",
    "# Network(cost_func)\n",
    "# add_input_layer(size)\n",
    "# add_hidden_layer(size, activation_func)\n",
    "# add_hidden_layer(size, activation_func)"
   ]
  },
  {
   "cell_type": "code",
   "execution_count": 482,
   "metadata": {
    "collapsed": false
   },
   "outputs": [],
   "source": [
    "iris = datasets.load_iris()\n",
    "\n",
    "x_data = iris.data\n",
    "label_binarizer = LabelBinarizer()\n",
    "y_data = label_binarizer.fit_transform(iris.target)\n",
    "\n",
    "\n",
    "x_train, x_data2, y_train, y_data2 = cv.train_test_split(x_data, y_data,\n",
    "                                                       test_size=0.5, random_state=288)\n",
    "\n",
    "x_train2, x_test, y_train2, y_test = cv.train_test_split(x_data2, y_data2,\n",
    "                                                       test_size=0.4, random_state=288)\n",
    "\n",
    "d_features = x_train.shape[1]\n",
    "m_classes = len(label_binarizer.classes_)"
   ]
  },
  {
   "cell_type": "code",
   "execution_count": 483,
   "metadata": {
    "collapsed": false
   },
   "outputs": [
    {
     "data": {
      "text/plain": [
       "((75, 4), (75, 3), (30, 4), (30, 3))"
      ]
     },
     "execution_count": 483,
     "metadata": {},
     "output_type": "execute_result"
    }
   ],
   "source": [
    "x_train.shape, y_train.shape, x_test.shape, y_test.shape"
   ]
  },
  {
   "cell_type": "code",
   "execution_count": 484,
   "metadata": {
    "collapsed": false
   },
   "outputs": [],
   "source": [
    "sizes = [d_features, 10, m_classes]\n",
    "act_funcs = ['logistic', 'softmax']\n",
    "nn = Network(sizes, act_funcs, cost_func='multiclass_cross_entropy', epochs=100)"
   ]
  },
  {
   "cell_type": "code",
   "execution_count": 485,
   "metadata": {
    "collapsed": false,
    "scrolled": false
   },
   "outputs": [
    {
     "data": {
      "text/plain": [
       "<src.network.Network at 0x110f11990>"
      ]
     },
     "execution_count": 485,
     "metadata": {},
     "output_type": "execute_result"
    }
   ],
   "source": [
    "nn.fit(x_train, y_train, x_train2, y_train2)"
   ]
  },
  {
   "cell_type": "code",
   "execution_count": 486,
   "metadata": {
    "collapsed": false
   },
   "outputs": [
    {
     "data": {
      "text/plain": [
       "[<matplotlib.lines.Line2D at 0x1121bfe50>]"
      ]
     },
     "execution_count": 486,
     "metadata": {},
     "output_type": "execute_result"
    },
    {
     "data": {
      "image/png": "[encoded data removed]",
      "text/plain": [
       "<matplotlib.figure.Figure at 0x111f1ed10>"
      ]
     },
     "metadata": {},
     "output_type": "display_data"
    }
   ],
   "source": [
    "plt.plot(range(len(nn.scores)), nn.scores)"
   ]
  },
  {
   "cell_type": "code",
   "execution_count": 487,
   "metadata": {
    "collapsed": true
   },
   "outputs": [],
   "source": [
    "y_pred = nn.predict(x_test)\n",
    "y_true = np.argmax(y_test, axis=1)"
   ]
  },
  {
   "cell_type": "code",
   "execution_count": null,
   "metadata": {
    "collapsed": true
   },
   "outputs": [],
   "source": []
  },
  {
   "cell_type": "code",
   "execution_count": 488,
   "metadata": {
    "collapsed": false
   },
   "outputs": [
    {
     "name": "stdout",
     "output_type": "stream",
     "text": [
      "0.962962962963\n",
      "0.966666666667\n",
      "0.966769865841\n",
      "0.962450592885\n",
      "[ 1.          1.          0.88888889]\n",
      "[ 1.   0.9  1. ]\n",
      "[ 1.          0.97826087  0.90909091]\n"
     ]
    }
   ],
   "source": [
    "print metrics.precision_score(y_true, y_pred, average='macro')  \n",
    "\n",
    "print metrics.recall_score(y_true, y_pred, average='micro')\n",
    "\n",
    "\n",
    "print metrics.f1_score(y_true, y_pred, average='weighted')  \n",
    "\n",
    "print metrics.fbeta_score(y_true, y_pred, average='macro', beta=0.5)  \n",
    "\n",
    "res = metrics.precision_recall_fscore_support(y_true, y_pred, beta=0.5, average=None)\n",
    "print res[0]\n",
    "print res[1]\n",
    "print res[2]"
   ]
  },
  {
   "cell_type": "code",
   "execution_count": 489,
   "metadata": {
    "collapsed": false
   },
   "outputs": [
    {
     "data": {
      "text/plain": [
       "4.6390681356927033"
      ]
     },
     "execution_count": 489,
     "metadata": {},
     "output_type": "execute_result"
    }
   ],
   "source": [
    "multiclass_cross_entropy_cost_func(y_test, nn.predict_proba(x_test))"
   ]
  }
 ],
 "metadata": {
  "kernelspec": {
   "display_name": "Python 2",
   "language": "python",
   "name": "python2"
  },
  "language_info": {
   "codemirror_mode": {
    "name": "ipython",
    "version": 2
   },
   "file_extension": ".py",
   "mimetype": "text/x-python",
   "name": "python",
   "nbconvert_exporter": "python",
   "pygments_lexer": "ipython2",
   "version": "2.7.10"
  }
 },
 "nbformat": 4,
 "nbformat_minor": 0
}
