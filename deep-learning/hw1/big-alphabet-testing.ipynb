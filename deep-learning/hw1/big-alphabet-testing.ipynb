{
 "cells": [
  {
   "cell_type": "code",
   "execution_count": 1,
   "metadata": {
    "collapsed": false
   },
   "outputs": [],
   "source": [
    "%load_ext autoreload\n",
    "%autoreload 2\n",
    "%matplotlib inline"
   ]
  },
  {
   "cell_type": "code",
   "execution_count": 2,
   "metadata": {
    "collapsed": true
   },
   "outputs": [],
   "source": [
    "import numpy as np\n",
    "\n",
    "import matplotlib.pyplot as plt"
   ]
  },
  {
   "cell_type": "code",
   "execution_count": 3,
   "metadata": {
    "collapsed": false
   },
   "outputs": [
    {
     "data": {
      "text/plain": [
       "['test', 'train', 'cv']"
      ]
     },
     "execution_count": 3,
     "metadata": {},
     "output_type": "execute_result"
    }
   ],
   "source": [
    "big_alphabet = np.load(\"./data/big-alphabet_29x29_train-test-cv.npz\")\n",
    "big_alphabet.keys()"
   ]
  },
  {
   "cell_type": "code",
   "execution_count": 4,
   "metadata": {
    "collapsed": true
   },
   "outputs": [],
   "source": [
    "from src.misc import transform_data"
   ]
  },
  {
   "cell_type": "code",
   "execution_count": 5,
   "metadata": {
    "collapsed": true
   },
   "outputs": [],
   "source": [
    "train_data = transform_data(big_alphabet[\"train\"])\n",
    "cv_data = transform_data(big_alphabet[\"cv\"])\n",
    "test_data = transform_data(big_alphabet[\"test\"])"
   ]
  },
  {
   "cell_type": "code",
   "execution_count": 6,
   "metadata": {
    "collapsed": false
   },
   "outputs": [],
   "source": [
    "from src.NNMiniBatch import NNMiniBatch"
   ]
  },
  {
   "cell_type": "code",
   "execution_count": 7,
   "metadata": {
    "collapsed": true
   },
   "outputs": [],
   "source": [
    "from src.functions.activation_objs import IdentyFunc, TanhFunc, LogisticFunc, SoftmaxFunc, ReLuFunc\n",
    "from src.functions.cost_objs import QuadraticCost, CrossEntropyCost, MulticlassCrossEntropyCost"
   ]
  },
  {
   "cell_type": "code",
   "execution_count": 8,
   "metadata": {
    "collapsed": true
   },
   "outputs": [],
   "source": [
    "#batch"
   ]
  },
  {
   "cell_type": "code",
   "execution_count": 9,
   "metadata": {
    "collapsed": true
   },
   "outputs": [],
   "source": [
    "sizes = [841, 100, 26]\n",
    "activation_functions = [TanhFunc, LogisticFunc]\n",
    "cost_function = CrossEntropyCost"
   ]
  },
  {
   "cell_type": "code",
   "execution_count": 10,
   "metadata": {
    "collapsed": false
   },
   "outputs": [
    {
     "name": "stdout",
     "output_type": "stream",
     "text": [
      "w_sizes [(100, 841), (26, 100)]\n",
      "b_sizes [(1, 100), (1, 26)]\n"
     ]
    }
   ],
   "source": [
    "nn = NNMiniBatch(sizes = sizes,\n",
    "                 activation_functions = activation_functions,\n",
    "                 cost_function = cost_function,\n",
    "                 epochs = 1300,\n",
    "                 eta = 1.2,\n",
    "                 mini_batch_size = None,\n",
    "                 mode = \"batch\",\n",
    "                 stop_rate=0.001)"
   ]
  },
  {
   "cell_type": "code",
   "execution_count": 11,
   "metadata": {
    "collapsed": false
   },
   "outputs": [
    {
     "name": "stdout",
     "output_type": "stream",
     "text": [
      "Epoch 658: 52 / 52 | 0.757381353464 | 0.000999058580688"
     ]
    }
   ],
   "source": [
    "scores_diff, scores = nn.sgd(train_data, cv_data);"
   ]
  },
  {
   "cell_type": "code",
   "execution_count": 12,
   "metadata": {
    "collapsed": false
   },
   "outputs": [
    {
     "data": {
      "image/png": "[encoded data removed]",
      "text/plain": [
       "<matplotlib.figure.Figure at 0x108e41e90>"
      ]
     },
     "metadata": {},
     "output_type": "display_data"
    }
   ],
   "source": [
    "plt.plot(range(len(scores)), scores);"
   ]
  },
  {
   "cell_type": "code",
   "execution_count": 13,
   "metadata": {
    "collapsed": true
   },
   "outputs": [],
   "source": [
    "#online "
   ]
  },
  {
   "cell_type": "code",
   "execution_count": 9,
   "metadata": {
    "collapsed": true
   },
   "outputs": [],
   "source": [
    "sizes = [841, 100, 26]\n",
    "activation_functions = [TanhFunc, IdentyFunc]\n",
    "cost_function = QuadraticCost"
   ]
  },
  {
   "cell_type": "code",
   "execution_count": 10,
   "metadata": {
    "collapsed": false
   },
   "outputs": [
    {
     "name": "stdout",
     "output_type": "stream",
     "text": [
      "w_sizes [(100, 841), (26, 100)]\n",
      "b_sizes [(1, 100), (1, 26)]\n"
     ]
    }
   ],
   "source": [
    "nn = NNMiniBatch(sizes = sizes,\n",
    "                 activation_functions = activation_functions,\n",
    "                 cost_function = cost_function,\n",
    "                 epochs = 100,\n",
    "                 eta = 0.04,\n",
    "                 mini_batch_size = None,\n",
    "                 mode = \"online\",\n",
    "                 stop_rate=0.002)"
   ]
  },
  {
   "cell_type": "code",
   "execution_count": 11,
   "metadata": {
    "collapsed": false,
    "scrolled": false
   },
   "outputs": [
    {
     "name": "stdout",
     "output_type": "stream",
     "text": [
      "Epoch 99: 52 / 52 | 0.0863713737618 | 0.00735689617357"
     ]
    }
   ],
   "source": [
    "scores_diff, scores = nn.sgd(train_data, cv_data);"
   ]
  },
  {
   "cell_type": "code",
   "execution_count": 12,
   "metadata": {
    "collapsed": false
   },
   "outputs": [
    {
     "data": {
      "image/png": "[encoded data removed]",
      "text/plain": [
       "<matplotlib.figure.Figure at 0x1157d4f10>"
      ]
     },
     "metadata": {},
     "output_type": "display_data"
    }
   ],
   "source": [
    "plt.plot(range(len(scores)), scores);"
   ]
  },
  {
   "cell_type": "code",
   "execution_count": 13,
   "metadata": {
    "collapsed": false
   },
   "outputs": [],
   "source": [
    "x_test, y_test = zip(*test_data)\n",
    "x_test = np.array(x_test)\n",
    "y_test = np.array(y_test)"
   ]
  },
  {
   "cell_type": "code",
   "execution_count": 14,
   "metadata": {
    "collapsed": true
   },
   "outputs": [],
   "source": [
    "y_pred = np.argmax(nn.feedforward(x_test), axis=1)\n",
    "y_true = np.argmax(y_test, axis=1)"
   ]
  },
  {
   "cell_type": "code",
   "execution_count": 15,
   "metadata": {
    "collapsed": false
   },
   "outputs": [
    {
     "data": {
      "text/plain": [
       "(51, 51)"
      ]
     },
     "execution_count": 15,
     "metadata": {},
     "output_type": "execute_result"
    }
   ],
   "source": [
    "np.sum(y_pred == y_true), len(y_true)"
   ]
  },
  {
   "cell_type": "code",
   "execution_count": 76,
   "metadata": {
    "collapsed": true
   },
   "outputs": [],
   "source": [
    "import numpy as np"
   ]
  },
  {
   "cell_type": "code",
   "execution_count": 79,
   "metadata": {
    "collapsed": false
   },
   "outputs": [
    {
     "data": {
      "text/plain": [
       "(100,)"
      ]
     },
     "execution_count": 79,
     "metadata": {},
     "output_type": "execute_result"
    }
   ],
   "source": [
    "(np.sum(nn.z[1], axis=0)/np.float64(nn.z[1].shape[0])).shape"
   ]
  },
  {
   "cell_type": "code",
   "execution_count": 21,
   "metadata": {
    "collapsed": true
   },
   "outputs": [],
   "source": [
    "# sf"
   ]
  },
  {
   "cell_type": "code",
   "execution_count": 42,
   "metadata": {
    "collapsed": true
   },
   "outputs": [],
   "source": [
    "sizes = [841, 100, 26]\n",
    "activation_functions = [ReLuFunc, SoftmaxFunc]\n",
    "cost_function = CrossEntropyCost"
   ]
  },
  {
   "cell_type": "code",
   "execution_count": 52,
   "metadata": {
    "collapsed": false
   },
   "outputs": [
    {
     "name": "stdout",
     "output_type": "stream",
     "text": [
      "w_sizes [(100, 841), (26, 100)]\n",
      "b_sizes [(1, 100), (1, 26)]\n"
     ]
    }
   ],
   "source": [
    "nn = NNMiniBatch(sizes = sizes,\n",
    "                 activation_functions = activation_functions,\n",
    "                 cost_function = cost_function,\n",
    "                 epochs = 1000,\n",
    "                 eta = 0.1,\n",
    "                 mini_batch_size = None,\n",
    "                 mode = \"batch\",\n",
    "                 stop_rate=0)"
   ]
  },
  {
   "cell_type": "code",
   "execution_count": 53,
   "metadata": {
    "collapsed": false
   },
   "outputs": [
    {
     "name": "stdout",
     "output_type": "stream",
     "text": [
      "Epoch 999: 50 / 52 | 3.49709788406 | 0.00143647747536"
     ]
    }
   ],
   "source": [
    "scores_diff, scores = nn.sgd(train_data, cv_data);"
   ]
  },
  {
   "cell_type": "code",
   "execution_count": 54,
   "metadata": {
    "collapsed": false
   },
   "outputs": [
    {
     "data": {
      "image/png": "[encoded data removed]",
      "text/plain": [
       "<matplotlib.figure.Figure at 0x108d1b350>"
      ]
     },
     "metadata": {},
     "output_type": "display_data"
    }
   ],
   "source": [
    "plt.plot(range(len(scores)), scores);"
   ]
  },
  {
   "cell_type": "code",
   "execution_count": 56,
   "metadata": {
    "collapsed": false
   },
   "outputs": [
    {
     "data": {
      "text/plain": [
       "array([[ 0.07980509,  0.03043239,  0.02432992, ...,  0.04829862,\n",
       "         0.04026055,  0.03560971],\n",
       "       [ 0.07587914,  0.03150162,  0.02613662, ...,  0.04644997,\n",
       "         0.03942209,  0.03708407],\n",
       "       [ 0.03362146,  0.0742263 ,  0.0437486 , ...,  0.03182203,\n",
       "         0.02413692,  0.03759936],\n",
       "       ..., \n",
       "       [ 0.04410659,  0.02086378,  0.02774495, ...,  0.04675966,\n",
       "         0.06440346,  0.04461759],\n",
       "       [ 0.03873603,  0.02722675,  0.03614035, ...,  0.04685887,\n",
       "         0.05223186,  0.04573605],\n",
       "       [ 0.04060562,  0.02658775,  0.03000956, ...,  0.04738729,\n",
       "         0.05727309,  0.04122849]])"
      ]
     },
     "execution_count": 56,
     "metadata": {},
     "output_type": "execute_result"
    }
   ],
   "source": [
    "nn.z[-1]"
   ]
  },
  {
   "cell_type": "code",
   "execution_count": null,
   "metadata": {
    "collapsed": true
   },
   "outputs": [],
   "source": []
  }
 ],
 "metadata": {
  "kernelspec": {
   "display_name": "Python 2",
   "language": "python",
   "name": "python2"
  },
  "language_info": {
   "codemirror_mode": {
    "name": "ipython",
    "version": 2
   },
   "file_extension": ".py",
   "mimetype": "text/x-python",
   "name": "python",
   "nbconvert_exporter": "python",
   "pygments_lexer": "ipython2",
   "version": "2.7.10"
  }
 },
 "nbformat": 4,
 "nbformat_minor": 0
}
