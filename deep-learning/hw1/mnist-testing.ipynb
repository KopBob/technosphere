{
 "cells": [
  {
   "cell_type": "code",
   "execution_count": 33,
   "metadata": {
    "collapsed": false
   },
   "outputs": [
    {
     "name": "stdout",
     "output_type": "stream",
     "text": [
      "The autoreload extension is already loaded. To reload it, use:\n",
      "  %reload_ext autoreload\n"
     ]
    }
   ],
   "source": [
    "%load_ext autoreload\n",
    "%autoreload 2\n",
    "%matplotlib inline"
   ]
  },
  {
   "cell_type": "code",
   "execution_count": 34,
   "metadata": {
    "collapsed": true
   },
   "outputs": [],
   "source": [
    "import numpy as np\n",
    "\n",
    "import matplotlib.pyplot as plt"
   ]
  },
  {
   "cell_type": "code",
   "execution_count": 35,
   "metadata": {
    "collapsed": false
   },
   "outputs": [
    {
     "data": {
      "text/plain": [
       "['test', 'train', 'cv']"
      ]
     },
     "execution_count": 35,
     "metadata": {},
     "output_type": "execute_result"
    }
   ],
   "source": [
    "mnist = np.load(\"./data/mnist_28x28_train-test-cv.npz\")\n",
    "mnist.keys()"
   ]
  },
  {
   "cell_type": "code",
   "execution_count": 36,
   "metadata": {
    "collapsed": true
   },
   "outputs": [],
   "source": [
    "from src.misc import transform_data"
   ]
  },
  {
   "cell_type": "code",
   "execution_count": 37,
   "metadata": {
    "collapsed": true
   },
   "outputs": [],
   "source": [
    "train_data = transform_data(mnist[\"train\"])\n",
    "cv_data = transform_data(mnist[\"cv\"])\n",
    "test_data = transform_data(mnist[\"test\"])"
   ]
  },
  {
   "cell_type": "code",
   "execution_count": 38,
   "metadata": {
    "collapsed": true
   },
   "outputs": [],
   "source": [
    "from src.NNMiniBatch import NNMiniBatch"
   ]
  },
  {
   "cell_type": "code",
   "execution_count": 39,
   "metadata": {
    "collapsed": true
   },
   "outputs": [],
   "source": [
    "from src.functions.activation_objs import IdentyFunc, TanhFunc, LogisticFunc, SoftmaxFunc, ReLuFunc\n",
    "from src.functions.cost_objs import QuadraticCost, CrossEntropyCost, MulticlassCrossEntropyCost"
   ]
  },
  {
   "cell_type": "code",
   "execution_count": 40,
   "metadata": {
    "collapsed": false
   },
   "outputs": [
    {
     "data": {
      "text/plain": [
       "784"
      ]
     },
     "execution_count": 40,
     "metadata": {},
     "output_type": "execute_result"
    }
   ],
   "source": [
    "28*28"
   ]
  },
  {
   "cell_type": "code",
   "execution_count": 54,
   "metadata": {
    "collapsed": true
   },
   "outputs": [],
   "source": [
    "sizes = [784, 90, 10]\n",
    "activation_functions = [ReLuFunc, LogisticFunc]\n",
    "cost_function = CrossEntropyCost"
   ]
  },
  {
   "cell_type": "code",
   "execution_count": 55,
   "metadata": {
    "collapsed": false
   },
   "outputs": [
    {
     "name": "stdout",
     "output_type": "stream",
     "text": [
      "w_sizes [(90, 784), (10, 90)]\n",
      "b_sizes [(1, 90), (1, 10)]\n"
     ]
    }
   ],
   "source": [
    "nn = NNMiniBatch(sizes = sizes,\n",
    "                 activation_functions = activation_functions,\n",
    "                 cost_function = cost_function,\n",
    "                 epochs = 2,\n",
    "                 eta = 0.1,\n",
    "                 l1_rate=0.01,\n",
    "                 mini_batch_size = None,\n",
    "                 mode = \"online\")"
   ]
  },
  {
   "cell_type": "code",
   "execution_count": 56,
   "metadata": {
    "collapsed": false
   },
   "outputs": [
    {
     "name": "stdout",
     "output_type": "stream",
     "text": [
      "Epoch 1: 991 / 10000 |"
     ]
    },
    {
     "name": "stderr",
     "output_type": "stream",
     "text": [
      "src/functions/cost_objs.py:18: RuntimeWarning: divide by zero encountered in log\n",
      "  return -np.sum(y * np.log(z) + (1 - y) * np.log(1 - z))  # ??\n",
      "src/functions/cost_objs.py:18: RuntimeWarning: invalid value encountered in multiply\n",
      "  return -np.sum(y * np.log(z) + (1 - y) * np.log(1 - z))  # ??\n"
     ]
    }
   ],
   "source": [
    "nn.sgd(train_data, cv_data);"
   ]
  },
  {
   "cell_type": "code",
   "execution_count": null,
   "metadata": {
    "collapsed": true
   },
   "outputs": [],
   "source": []
  }
 ],
 "metadata": {
  "kernelspec": {
   "display_name": "Python 2",
   "language": "python",
   "name": "python2"
  },
  "language_info": {
   "codemirror_mode": {
    "name": "ipython",
    "version": 2
   },
   "file_extension": ".py",
   "mimetype": "text/x-python",
   "name": "python",
   "nbconvert_exporter": "python",
   "pygments_lexer": "ipython2",
   "version": "2.7.10"
  }
 },
 "nbformat": 4,
 "nbformat_minor": 0
}
