{
 "cells": [
  {
   "cell_type": "code",
   "execution_count": 138,
   "metadata": {
    "collapsed": false
   },
   "outputs": [
    {
     "name": "stdout",
     "output_type": "stream",
     "text": [
      "The autoreload extension is already loaded. To reload it, use:\n",
      "  %reload_ext autoreload\n"
     ]
    }
   ],
   "source": [
    "%load_ext autoreload\n",
    "%autoreload 2\n",
    "%matplotlib inline"
   ]
  },
  {
   "cell_type": "code",
   "execution_count": 139,
   "metadata": {
    "collapsed": true
   },
   "outputs": [],
   "source": [
    "import numpy as np\n",
    "from sklearn.preprocessing import LabelBinarizer"
   ]
  },
  {
   "cell_type": "code",
   "execution_count": 140,
   "metadata": {
    "collapsed": true
   },
   "outputs": [],
   "source": [
    "lb = LabelBinarizer()"
   ]
  },
  {
   "cell_type": "code",
   "execution_count": 141,
   "metadata": {
    "collapsed": true
   },
   "outputs": [],
   "source": [
    "big_alphabet = np.load(\"./data/big-alphabet_29x29_train-test-cv.npz\")\n",
    "big_alphabet_train_data = big_alphabet[\"train\"]\n",
    "big_alphabet_test_data = big_alphabet[\"test\"]\n",
    "big_alphabet_cv_data = big_alphabet[\"cv\"]"
   ]
  },
  {
   "cell_type": "code",
   "execution_count": 225,
   "metadata": {
    "collapsed": true
   },
   "outputs": [],
   "source": [
    "from src.misc import convert2readable"
   ]
  },
  {
   "cell_type": "code",
   "execution_count": 226,
   "metadata": {
    "collapsed": false
   },
   "outputs": [
    {
     "data": {
      "text/plain": [
       "((841, 1), (26, 1))"
      ]
     },
     "execution_count": 226,
     "metadata": {},
     "output_type": "execute_result"
    }
   ],
   "source": [
    "x_train, y_train = zip(*big_alphabet_train_data)\n",
    "y_train = lb.fit_transform(y_train)\n",
    "\n",
    "x_train = convert2readable(np.array(x_train), norm=True)\n",
    "y_train = convert2readable(np.array(y_train))\n",
    "\n",
    "train_data = zip(x_train, y_train)\n",
    "\n",
    "train_data[0][0].shape, train_data[0][1].shape"
   ]
  },
  {
   "cell_type": "code",
   "execution_count": null,
   "metadata": {
    "collapsed": true
   },
   "outputs": [],
   "source": []
  },
  {
   "cell_type": "code",
   "execution_count": 227,
   "metadata": {
    "collapsed": true
   },
   "outputs": [],
   "source": [
    "x_cv, y_cv = zip(*big_alphabet_cv_data)\n",
    "y_cv = lb.fit_transform(y_cv)\n",
    "\n",
    "x_cv = convert2readable(np.array(x_cv), norm=True)\n",
    "y_cv = convert2readable(np.array(y_cv))\n",
    "\n",
    "cv_data = zip(x_cv, y_cv)"
   ]
  },
  {
   "cell_type": "code",
   "execution_count": 228,
   "metadata": {
    "collapsed": false
   },
   "outputs": [],
   "source": [
    "cv_data = zip(x_cv, y_cv)"
   ]
  },
  {
   "cell_type": "code",
   "execution_count": 230,
   "metadata": {
    "collapsed": false
   },
   "outputs": [],
   "source": [
    "from src.NNOnline import NN\n",
    "from src.functions.activation_funcs import logistic_activation, identy_activation, softmax_activation\n",
    "from src.functions.cost_funcs import quadratic_cost, cross_entropy_cost, multiclass_cross_entropy_cost"
   ]
  },
  {
   "cell_type": "code",
   "execution_count": 231,
   "metadata": {
    "collapsed": false
   },
   "outputs": [
    {
     "name": "stdout",
     "output_type": "stream",
     "text": [
      "W_sizes [(100, 841), (26, 100)]\n",
      "b_sizes [(100, 1), (26, 1)]\n"
     ]
    }
   ],
   "source": [
    "nn = NN([841, 100, 26], [logistic_activation, identy_activation], quadratic_cost,\n",
    "        epochs=1000, regularization=None, eta=0.01)"
   ]
  },
  {
   "cell_type": "code",
   "execution_count": 232,
   "metadata": {
    "collapsed": false
   },
   "outputs": [
    {
     "name": "stdout",
     "output_type": "stream",
     "text": [
      "Epoch 999: 52 / 52"
     ]
    }
   ],
   "source": [
    "nn.GD(train_data, cv_data)"
   ]
  },
  {
   "cell_type": "code",
   "execution_count": 233,
   "metadata": {
    "collapsed": false
   },
   "outputs": [
    {
     "name": "stdout",
     "output_type": "stream",
     "text": [
      "b\n",
      "[ 0.37514173  0.3316885   0.3355596   0.36586419  0.28138532  0.35274656\n",
      "  0.41894568  0.2930368   0.30972595  0.33388608  0.30032964  0.30126319\n",
      "  0.33619385  0.31971519  0.3130388   0.37239366  0.36976743  0.33581357\n",
      "  0.36602996  0.31476541  0.35532858  0.29152671  0.33050481  0.34406018\n",
      "  0.33625303  0.41385354  0.3758083   0.36518412  0.30015023  0.31446866\n",
      "  0.30295853  0.28797731  0.42583224  0.36913553  0.39372386  0.33391904\n",
      "  0.29653358  0.38031918  0.31316417  0.28957188  0.28363947  0.37853762\n",
      "  0.25598035  0.28359925  0.43158562  0.31384188  0.33094863  0.34623066\n",
      "  0.34210406  0.32237518  0.3111223   0.30244117  0.36047768  0.3200231\n",
      "  0.34500208  0.35697017  0.34420725  0.36305363  0.31521935  0.36717529\n",
      "  0.34442402  0.41664908  0.36238135  0.38554127  0.40476481  0.33491993\n",
      "  0.38422316  0.32186518  0.40618723  0.40929578  0.33298599  0.34671439\n",
      "  0.31438236  0.28184071  0.30124609  0.37166235  0.38098605  0.36243872\n",
      "  0.32605456  0.28550293  0.34492794  0.34631382  0.36641885  0.32696181\n",
      "  0.39886559  0.33756297  0.34532479  0.32269662  0.29439622  0.36189317\n",
      "  0.44108241  0.43325278  0.30706493  0.40589698  0.44714227  0.33694574\n",
      "  0.40024927  0.30548559  0.33442973  0.40431352]\n",
      "[ 0.95311115  1.01170921  0.95747889  0.96579433  0.88979769  0.95264917\n",
      "  0.94696418  0.97422547  0.97530067  0.98354312  0.99933698  1.02323458\n",
      "  0.92924632  0.95654251  1.00124688  0.98402928  0.90222199  1.02836549\n",
      "  0.98851887  0.92036367  0.98258814  0.94373898  0.85512397  0.98493033\n",
      "  1.01457521  0.92648828]\n",
      "w\n",
      "[[ 0.06758297  0.08154446  0.12217814 ..., -0.03938076 -0.08315206\n",
      "  -0.12773111]\n",
      " [-0.00683464 -0.01874371 -0.16365969 ..., -0.06709486 -0.0798331\n",
      "   0.08210532]\n",
      " [ 0.07276686 -0.01008118  0.10752676 ...,  0.06093395 -0.09413482\n",
      "   0.00644457]\n",
      " ..., \n",
      " [-0.1149237  -0.22369945 -0.05098901 ..., -0.16658516 -0.04421967\n",
      "  -0.03520739]\n",
      " [-0.10174811  0.18616252 -0.03216996 ...,  0.06103559  0.07981405\n",
      "  -0.04257872]\n",
      " [-0.07116784 -0.20049133 -0.23586349 ..., -0.10746309 -0.0972481\n",
      "   0.11485995]]\n",
      "[[-0.762056   -0.25125044  0.55856424 ...,  0.42976482  0.42623211\n",
      "   0.2666831 ]\n",
      " [ 0.50731558 -0.31497563 -0.05935993 ...,  0.09952551 -0.05603569\n",
      "  -0.17474004]\n",
      " [-0.32419865  0.06139934  0.05933288 ...,  0.48461594 -0.08008197\n",
      "  -0.16991983]\n",
      " ..., \n",
      " [ 0.34002556  0.19658246  0.42826775 ..., -0.13320877  0.52496053\n",
      "   0.04791008]\n",
      " [-0.66765817  0.02785864  0.00990565 ..., -0.5808049  -0.21561177\n",
      "  -0.50403406]\n",
      " [ 0.5724625   0.21597601 -0.31637499 ...,  0.49329    -0.30661293\n",
      "   0.1226571 ]]\n",
      "err\n",
      "(100, 1) [-0.00899032  0.02359473 -0.03715307  0.00880969  0.0096479  -0.02962196\n",
      "  0.01222395  0.04849237 -0.00221505  0.00229261  0.03213659 -0.01325985\n",
      "  0.00913976 -0.04714103 -0.04619097 -0.00733882  0.0154772   0.01591866\n",
      "  0.01312965 -0.02429246 -0.04836108  0.04917188 -0.00336488  0.00294582\n",
      "  0.0259625  -0.03215239  0.00857231 -0.03573065 -0.00247759  0.01085326\n",
      "  0.00093108 -0.01228537 -0.00831382  0.02116115  0.01386492 -0.01974575\n",
      "  0.01181426  0.00859854  0.01740189  0.01792553  0.00797158  0.00451983\n",
      " -0.0145615   0.01124975 -0.00020962  0.01224437  0.00973524 -0.07044629\n",
      " -0.00483004 -0.01048698  0.02568953 -0.04897886  0.01681838  0.01565601\n",
      " -0.01655018 -0.04585641 -0.01821378 -0.01368368  0.00482899  0.03404278\n",
      " -0.00184987 -0.01537166 -0.02469371 -0.02450792 -0.00668393 -0.03681587\n",
      "  0.02628693  0.04678916 -0.01836756 -0.00986867 -0.02050512  0.01414418\n",
      " -0.03667912  0.03042847  0.00629582  0.03215507  0.00699228  0.00562128\n",
      "  0.00726562  0.04431978  0.00622642  0.03291894  0.03421255 -0.00497267\n",
      " -0.03013185  0.01576018 -0.0042731   0.02561837 -0.00443585  0.01901912\n",
      "  0.04645456  0.00503565  0.02247586  0.00175778 -0.05883521 -0.00941337\n",
      " -0.00825239  0.03873159 -0.02908254 -0.03641494]\n",
      "(26, 1) [ 0.00425202 -0.01455382  0.11357563 -0.10155072 -0.01058425  0.0479211\n",
      "  0.00948449 -0.01310629  0.0486737  -0.03887955 -0.00216787 -0.21206942\n",
      " -0.02733986  0.04252348 -0.00831188  0.04320158  0.02361703  0.01511299\n",
      " -0.00969912  0.00273952 -0.05284525  0.06143477  0.05585112 -0.01881138\n",
      "  0.00578448  0.09324003]\n"
     ]
    }
   ],
   "source": [
    "print \"b\"\n",
    "for b in nn.b[1:]:\n",
    "    print b.ravel()\n",
    "print \"w\"\n",
    "for w in nn.W[1:]:\n",
    "    print w\n",
    "print \"err\"\n",
    "for err in nn.err[1:]:\n",
    "    print err.shape, err.ravel()"
   ]
  },
  {
   "cell_type": "code",
   "execution_count": null,
   "metadata": {
    "collapsed": true
   },
   "outputs": [],
   "source": []
  }
 ],
 "metadata": {
  "kernelspec": {
   "display_name": "Python 2",
   "language": "python",
   "name": "python2"
  },
  "language_info": {
   "codemirror_mode": {
    "name": "ipython",
    "version": 2
   },
   "file_extension": ".py",
   "mimetype": "text/x-python",
   "name": "python",
   "nbconvert_exporter": "python",
   "pygments_lexer": "ipython2",
   "version": "2.7.10"
  }
 },
 "nbformat": 4,
 "nbformat_minor": 0
}
