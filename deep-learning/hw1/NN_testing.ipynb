{
 "cells": [
  {
   "cell_type": "code",
   "execution_count": 138,
   "metadata": {
    "collapsed": false
   },
   "outputs": [
    {
     "name": "stdout",
     "output_type": "stream",
     "text": [
      "The autoreload extension is already loaded. To reload it, use:\n",
      "  %reload_ext autoreload\n"
     ]
    }
   ],
   "source": [
    "%load_ext autoreload\n",
    "%autoreload 2\n",
    "%matplotlib inline"
   ]
  },
  {
   "cell_type": "code",
   "execution_count": 139,
   "metadata": {
    "collapsed": true
   },
   "outputs": [],
   "source": [
    "import numpy as np\n",
    "from sklearn.preprocessing import LabelBinarizer"
   ]
  },
  {
   "cell_type": "code",
   "execution_count": 140,
   "metadata": {
    "collapsed": true
   },
   "outputs": [],
   "source": [
    "lb = LabelBinarizer()"
   ]
  },
  {
   "cell_type": "code",
   "execution_count": 141,
   "metadata": {
    "collapsed": true
   },
   "outputs": [],
   "source": [
    "big_alphabet = np.load(\"./data/big-alphabet_29x29_train-test-cv.npz\")\n",
    "big_alphabet_train_data = big_alphabet[\"train\"]\n",
    "big_alphabet_test_data = big_alphabet[\"test\"]\n",
    "big_alphabet_cv_data = big_alphabet[\"cv\"]"
   ]
  },
  {
   "cell_type": "code",
   "execution_count": 225,
   "metadata": {
    "collapsed": true
   },
   "outputs": [],
   "source": [
    "from src.misc import convert2readable"
   ]
  },
  {
   "cell_type": "code",
   "execution_count": 226,
   "metadata": {
    "collapsed": false
   },
   "outputs": [
    {
     "data": {
      "text/plain": [
       "((841, 1), (26, 1))"
      ]
     },
     "execution_count": 226,
     "metadata": {},
     "output_type": "execute_result"
    }
   ],
   "source": [
    "x_train, y_train = zip(*big_alphabet_train_data)\n",
    "y_train = lb.fit_transform(y_train)\n",
    "\n",
    "x_train = convert2readable(np.array(x_train), norm=True)\n",
    "y_train = convert2readable(np.array(y_train))\n",
    "\n",
    "train_data = zip(x_train, y_train)\n",
    "\n",
    "train_data[0][0].shape, train_data[0][1].shape"
   ]
  },
  {
   "cell_type": "code",
   "execution_count": null,
   "metadata": {
    "collapsed": true
   },
   "outputs": [],
   "source": []
  },
  {
   "cell_type": "code",
   "execution_count": 227,
   "metadata": {
    "collapsed": true
   },
   "outputs": [],
   "source": [
    "x_cv, y_cv = zip(*big_alphabet_cv_data)\n",
    "y_cv = lb.fit_transform(y_cv)\n",
    "\n",
    "x_cv = convert2readable(np.array(x_cv), norm=True)\n",
    "y_cv = convert2readable(np.array(y_cv))\n",
    "\n",
    "cv_data = zip(x_cv, y_cv)"
   ]
  },
  {
   "cell_type": "code",
   "execution_count": 228,
   "metadata": {
    "collapsed": false
   },
   "outputs": [],
   "source": [
    "cv_data = zip(x_cv, y_cv)"
   ]
  },
  {
   "cell_type": "code",
   "execution_count": 258,
   "metadata": {
    "collapsed": false
   },
   "outputs": [],
   "source": [
    "from src.NNOnline import NN\n",
    "from src.functions.activation_funcs import logistic_activation, identy_activation, softmax_activation\n",
    "from src.functions.cost_funcs import quadratic_cost, cross_entropy_cost, multiclass_cross_entropy_cost"
   ]
  },
  {
   "cell_type": "code",
   "execution_count": null,
   "metadata": {
    "collapsed": true
   },
   "outputs": [],
   "source": []
  },
  {
   "cell_type": "code",
   "execution_count": 270,
   "metadata": {
    "collapsed": false
   },
   "outputs": [
    {
     "name": "stdout",
     "output_type": "stream",
     "text": [
      "W_sizes [(120, 841), (26, 120)]\n",
      "b_sizes [(120, 1), (26, 1)]\n"
     ]
    }
   ],
   "source": [
    "nn = NN([841, 120, 26], [logistic_activation, softmax_activation], multiclass_cross_entropy_cost,\n",
    "        epochs=1000, regularization=None, eta=0.001)"
   ]
  },
  {
   "cell_type": "code",
   "execution_count": 271,
   "metadata": {
    "collapsed": false
   },
   "outputs": [
    {
     "name": "stdout",
     "output_type": "stream",
     "text": [
      "Epoch 999: 5 / 52"
     ]
    }
   ],
   "source": [
    "nn.GD(train_data, cv_data)"
   ]
  },
  {
   "cell_type": "code",
   "execution_count": 261,
   "metadata": {
    "collapsed": false
   },
   "outputs": [
    {
     "name": "stdout",
     "output_type": "stream",
     "text": [
      "b\n",
      "[ 0.9998041   0.9998107   1.00034662  0.99998759  1.0000834   1.00056244\n",
      "  1.00016678  1.0004397   0.99978006  0.99994746  0.99924617  0.99964422\n",
      "  1.00015374  1.00033419  0.99975619  1.00008526  1.00004192  1.00023101\n",
      "  1.00006751  1.00004536  0.99964418  1.00000139  0.99971122  1.00020395\n",
      "  0.99978841  1.00006937  0.99958073  1.00011186  0.99973648  0.99975599\n",
      "  0.99976942  0.99978995  1.00015959  0.99939641  1.00015178  0.99952151\n",
      "  0.99989061  0.9993682   0.99969086  1.00023172  0.99945203  1.00019129\n",
      "  0.99976947  0.99986537  0.99967153  1.00025523  0.99978208  0.99991346\n",
      "  1.00004771  1.00035492  0.9995957   0.99947586  1.0001294   0.99981836\n",
      "  0.99947305  0.99973735  0.99999849  0.99947721  0.99988697  0.99990512\n",
      "  0.99959734  1.00004627  0.99987831  0.99980212  1.00010301  0.99960366\n",
      "  0.99960692  1.00038592  1.00031317  0.99981375  0.99998498  1.00029482\n",
      "  1.00054427  1.00013928  0.9999284   0.99996058  0.99996546  1.00039766\n",
      "  0.99966122  1.00019375  0.99981275  0.99982024  0.99970799  1.00085149\n",
      "  0.99939183  1.00019581  0.9999755   0.99920733  1.00006387  0.99989365\n",
      "  0.99993491  0.99999163  0.99972246  0.99928903  0.99974535  1.00013212\n",
      "  1.00088092  0.99985271  0.99999971  1.00033715]\n",
      "[ 1.00056553  0.99783264  1.00035031  0.99885437  1.00017144  0.99945732\n",
      "  1.00032549  0.99885214  0.98621122  1.00023649  0.99918698  1.00054082\n",
      "  1.00048218  1.00042577  1.00054514  1.00049145  0.99945075  1.00029917\n",
      "  0.99690086  1.00051332  0.99902035  0.99934191  1.00008822  1.00054849\n",
      "  1.00055124  1.00041536]\n",
      "w\n",
      "[[-0.16683656 -0.10805485  0.06437056 ..., -0.23662303 -0.0178817\n",
      "   0.04416125]\n",
      " [ 0.09182284  0.11753406  0.11747681 ..., -0.07287895  0.03859499\n",
      "  -0.05344959]\n",
      " [-0.06288783  0.03369247  0.08305037 ...,  0.08082037 -0.06745528\n",
      "   0.01746158]\n",
      " ..., \n",
      " [-0.01022244 -0.19007548  0.01353931 ..., -0.02113292 -0.03767189\n",
      "  -0.14934932]\n",
      " [-0.07886102  0.09433601 -0.05382657 ..., -0.05722722 -0.01679164\n",
      "  -0.02304653]\n",
      " [-0.05405934  0.06431858 -0.00750508 ...,  0.14654173 -0.05509533\n",
      "  -0.14455645]]\n",
      "[[ 0.10203856 -0.13684229 -0.14498655 ...,  0.05692356 -0.07548123\n",
      "  -0.01125888]\n",
      " [ 0.07567498 -0.06541834  0.0114808  ..., -0.00127821  0.10926603\n",
      "   0.18694832]\n",
      " [-0.03483252 -0.04006402  0.16234256 ..., -0.15260271 -0.04434631\n",
      "   0.03649676]\n",
      " ..., \n",
      " [-0.06866736  0.02925775 -0.00251892 ...,  0.06815629 -0.04082205\n",
      "   0.04042871]\n",
      " [-0.0553865   0.2676696  -0.03043842 ..., -0.0845189   0.07576706\n",
      "   0.00514876]\n",
      " [ 0.07545851 -0.13966736 -0.00098271 ...,  0.04100169  0.01273743\n",
      "   0.04855804]]\n",
      "err\n",
      "(100, 1) [ -1.56391660e-04   8.77651528e-04   7.99719504e-06  -1.91197683e-04\n",
      "  -5.88935887e-04  -2.55177710e-04  -2.87295234e-04  -4.68406027e-04\n",
      "  -1.00588079e-04  -3.12436390e-04   1.05009889e-03   3.98629655e-05\n",
      "   1.92024112e-04  -4.93620287e-04  -2.32482716e-04   3.44472460e-04\n",
      "  -1.85518165e-04  -1.35646487e-04   3.13180992e-04  -3.37680036e-04\n",
      "  -9.70089620e-05  -3.30625195e-04  -2.98015272e-05   2.55610551e-04\n",
      "  -9.90277177e-05  -4.00839556e-04   2.86898150e-04  -6.74613917e-05\n",
      "  -8.69337803e-06   3.36961597e-06   1.29374153e-03   3.55765237e-04\n",
      "  -3.48596939e-04   7.63269731e-04   6.42033240e-04   9.54289022e-04\n",
      "   4.42022233e-04  -6.83371566e-04  -8.59630809e-04  -1.86283281e-04\n",
      "   2.44547564e-04   1.75615758e-04  -3.65941919e-05   3.86254643e-04\n",
      "   2.43657629e-04   2.95848342e-04  -3.64919127e-04   5.85857873e-04\n",
      "   2.69769508e-05  -9.96483325e-06  -2.11918865e-04   3.17534743e-04\n",
      "   6.37879092e-05  -3.43748799e-04  -5.55511079e-04   7.69571149e-04\n",
      "   5.62750478e-05  -4.02827642e-04   2.48675174e-04   2.98947226e-04\n",
      "   3.67718153e-04  -4.00490359e-04  -2.30521864e-05  -4.06441050e-04\n",
      "  -6.95395319e-04   7.52185765e-04  -2.79789414e-05  -8.57382209e-04\n",
      "   1.49222600e-04  -3.98740921e-04   4.97142691e-04   3.63441547e-04\n",
      "  -2.22361596e-05   4.60321013e-05   1.69692171e-04   6.15565734e-04\n",
      "  -1.78509618e-04   1.92951952e-04   2.15216728e-05   1.94537329e-04\n",
      "  -6.05008137e-04   2.13002473e-04   1.41774808e-04  -8.05657876e-04\n",
      "   1.19614927e-03   1.77148525e-04  -1.95417844e-04   1.27812897e-03\n",
      "  -2.54430856e-04   6.71007572e-04  -4.12071276e-05   1.13185546e-03\n",
      "   1.07456549e-03   2.01129445e-04   3.64817068e-04  -4.60802346e-04\n",
      "   6.34430420e-06  -2.57519592e-04   5.24875458e-06  -3.53240282e-04]\n",
      "(26, 1) [ 0.00058982  0.0034059   0.00102006  0.00268437  0.00133222  0.00216313\n",
      "  0.00085483  0.00270391  0.00784444  0.00108895  0.00237509  0.00028842\n",
      "  0.00069163  0.00091693 -0.02265343  0.00014654  0.00228788  0.00097943\n",
      "  0.00416042  0.00019262  0.00257227  0.00225041  0.0013524   0.00035738\n",
      "  0.00056032  0.00096599]\n"
     ]
    }
   ],
   "source": [
    "print \"b\"\n",
    "for b in nn.b[1:]:\n",
    "    print b.ravel()\n",
    "print \"w\"\n",
    "for w in nn.W[1:]:\n",
    "    print w\n",
    "print \"err\"\n",
    "for err in nn.err[1:]:\n",
    "    print err.shape, err.ravel()"
   ]
  },
  {
   "cell_type": "code",
   "execution_count": 263,
   "metadata": {
    "collapsed": false
   },
   "outputs": [
    {
     "data": {
      "text/plain": [
       "1.0"
      ]
     },
     "execution_count": 263,
     "metadata": {},
     "output_type": "execute_result"
    }
   ],
   "source": [
    "nn.z[-1]"
   ]
  },
  {
   "cell_type": "code",
   "execution_count": null,
   "metadata": {
    "collapsed": true
   },
   "outputs": [],
   "source": [
    "a = np.array([\n",
    "        []\n",
    "    ])"
   ]
  }
 ],
 "metadata": {
  "kernelspec": {
   "display_name": "Python 2",
   "language": "python",
   "name": "python2"
  },
  "language_info": {
   "codemirror_mode": {
    "name": "ipython",
    "version": 2
   },
   "file_extension": ".py",
   "mimetype": "text/x-python",
   "name": "python",
   "nbconvert_exporter": "python",
   "pygments_lexer": "ipython2",
   "version": "2.7.10"
  }
 },
 "nbformat": 4,
 "nbformat_minor": 0
}
