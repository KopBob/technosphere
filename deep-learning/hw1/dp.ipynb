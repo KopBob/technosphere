{
 "cells": [
  {
   "cell_type": "code",
   "execution_count": 1,
   "metadata": {
    "collapsed": true
   },
   "outputs": [],
   "source": [
    "%load_ext autoreload\n",
    "%autoreload 2\n",
    "%matplotlib inline"
   ]
  },
  {
   "cell_type": "code",
   "execution_count": 39,
   "metadata": {
    "collapsed": true
   },
   "outputs": [],
   "source": [
    "import numpy as np\n",
    "\n",
    "import os\n",
    "import re\n",
    "\n",
    "import numpy as np\n",
    "from scipy import misc\n",
    "\n",
    "from matplotlib import pyplot as plt\n"
   ]
  },
  {
   "cell_type": "code",
   "execution_count": 100,
   "metadata": {
    "collapsed": true
   },
   "outputs": [],
   "source": [
    "from src.dp_network import Network\n",
    "from src.mnist_loader import load_data_wrapper, load_data"
   ]
  },
  {
   "cell_type": "code",
   "execution_count": null,
   "metadata": {
    "collapsed": false
   },
   "outputs": [],
   "source": []
  },
  {
   "cell_type": "code",
   "execution_count": 166,
   "metadata": {
    "collapsed": false
   },
   "outputs": [],
   "source": [
    "training_data, validation_data, test_data = load_data_wrapper()"
   ]
  },
  {
   "cell_type": "code",
   "execution_count": 171,
   "metadata": {
    "collapsed": false
   },
   "outputs": [
    {
     "data": {
      "text/plain": [
       "7"
      ]
     },
     "execution_count": 171,
     "metadata": {},
     "output_type": "execute_result"
    }
   ],
   "source": [
    "test_data[0][1]"
   ]
  },
  {
   "cell_type": "code",
   "execution_count": 13,
   "metadata": {
    "collapsed": false
   },
   "outputs": [],
   "source": [
    "net = Network([784, 30, 10])"
   ]
  },
  {
   "cell_type": "code",
   "execution_count": 14,
   "metadata": {
    "collapsed": false
   },
   "outputs": [
    {
     "name": "stdout",
     "output_type": "stream",
     "text": [
      "Epoch 0: 9054 / 10000\n",
      "Epoch 1: 9253 / 10000\n",
      "Epoch 2: 9334 / 10000\n",
      "Epoch 3: 9394 / 10000\n",
      "Epoch 4: 9380 / 10000\n",
      "Epoch 5: 9397 / 10000\n",
      "Epoch 6: 9422 / 10000\n",
      "Epoch 7: 9432 / 10000\n",
      "Epoch 8: 9429 / 10000\n",
      "Epoch 9: 9454 / 10000\n",
      "Epoch 10: 9457 / 10000\n",
      "Epoch 11: 9459 / 10000\n",
      "Epoch 12: 9485 / 10000\n",
      "Epoch 13: 9472 / 10000\n",
      "Epoch 14: 9477 / 10000\n",
      "Epoch 15: 9464 / 10000\n",
      "Epoch 16: 9498 / 10000\n",
      "Epoch 17: 9482 / 10000\n",
      "Epoch 18: 9479 / 10000\n",
      "Epoch 19: 9447 / 10000\n",
      "Epoch 20: 9478 / 10000\n",
      "Epoch 21: 9479 / 10000\n",
      "Epoch 22: 9479 / 10000\n",
      "Epoch 23: 9500 / 10000\n",
      "Epoch 24: 9490 / 10000\n",
      "Epoch 25: 9491 / 10000\n",
      "Epoch 26: 9497 / 10000\n",
      "Epoch 27: 9493 / 10000\n",
      "Epoch 28: 9482 / 10000\n",
      "Epoch 29: 9497 / 10000\n"
     ]
    }
   ],
   "source": [
    "net.SGD(training_data, 30, 10, 3.0, test_data=test_data)"
   ]
  },
  {
   "cell_type": "code",
   "execution_count": 206,
   "metadata": {
    "collapsed": true
   },
   "outputs": [],
   "source": [
    "train_input = np.empty((841,0))\n",
    "cv_input = np.empty((841,0))\n",
    "test_input = np.empty((841,0))\n",
    "train_output = np.empty((26, 0))\n",
    "cv_output = np.empty((26, 0))\n",
    "test_output = np.empty((26, 0))"
   ]
  },
  {
   "cell_type": "code",
   "execution_count": null,
   "metadata": {
    "collapsed": false,
    "scrolled": true
   },
   "outputs": [],
   "source": []
  },
  {
   "cell_type": "code",
   "execution_count": 207,
   "metadata": {
    "collapsed": false
   },
   "outputs": [],
   "source": [
    "v = None\n",
    "o = None\n",
    "for f in os.listdir('./test_data/big_alphabet_29x29/'):\n",
    "    v = np.array(misc.imread('./test_data/big_alphabet_29x29/' + f, flatten=True)).flatten() / 255.0\n",
    "    v = v[:, np.newaxis]\n",
    "    parts = re.split('[-\\.]', f)\n",
    "    i = int(parts[1])\n",
    "    o = np.zeros((26,1))\n",
    "    o[i] = 1.0\n",
    "    if len(parts) == 5 and parts[2] in ['7', '8']:\n",
    "        cv_input = np.hstack([cv_input, v])\n",
    "        cv_output = np.hstack([cv_output, o])\n",
    "    elif len(parts) == 5 and parts[2] in ['5', '6']:\n",
    "        test_input = np.hstack([cv_input, v])\n",
    "        test_output = np.hstack([cv_output, o])\n",
    "    else:\n",
    "        train_input = np.hstack([train_input, v])\n",
    "        train_output = np.hstack([train_output, o])"
   ]
  },
  {
   "cell_type": "code",
   "execution_count": 208,
   "metadata": {
    "collapsed": false
   },
   "outputs": [],
   "source": [
    "def pack_data(input, output):\n",
    "    data_input = [input[:, i][:, np.newaxis] for i in range(input.shape[1])]\n",
    "    data_output = [output[:, i][:, np.newaxis] for i in range(output.shape[1])]\n",
    "    return zip(data_input, data_output)\n",
    "\n",
    "def pack_test(input, output):\n",
    "    data_input = [input[:, i][:, np.newaxis] for i in range(input.shape[1])]\n",
    "    data_output = [np.argmax(output[:, i]) for i in range(output.shape[1])]\n",
    "    return zip(data_input, data_output)"
   ]
  },
  {
   "cell_type": "code",
   "execution_count": 209,
   "metadata": {
    "collapsed": false
   },
   "outputs": [],
   "source": [
    "training_data = pack_data(train_input, train_output)\n",
    "cv_data = pack_data(cv_input, cv_output)\n",
    "test_data = pack_test(test_input, test_output)"
   ]
  },
  {
   "cell_type": "code",
   "execution_count": 210,
   "metadata": {
    "collapsed": false
   },
   "outputs": [
    {
     "data": {
      "text/plain": [
       "13"
      ]
     },
     "execution_count": 210,
     "metadata": {},
     "output_type": "execute_result"
    }
   ],
   "source": [
    "test_data[10][1]"
   ]
  },
  {
   "cell_type": "code",
   "execution_count": 211,
   "metadata": {
    "collapsed": false
   },
   "outputs": [
    {
     "data": {
      "text/plain": [
       "156"
      ]
     },
     "execution_count": 211,
     "metadata": {},
     "output_type": "execute_result"
    }
   ],
   "source": [
    "len(training_data)"
   ]
  },
  {
   "cell_type": "code",
   "execution_count": 216,
   "metadata": {
    "collapsed": false
   },
   "outputs": [],
   "source": [
    "net = Network([841, 26*5, 26])"
   ]
  },
  {
   "cell_type": "code",
   "execution_count": 221,
   "metadata": {
    "collapsed": false
   },
   "outputs": [
    {
     "name": "stdout",
     "output_type": "stream",
     "text": [
      "Epoch 0: 1 / 51\n",
      "Epoch 1: 1 / 51\n",
      "Epoch 2: 1 / 51\n",
      "Epoch 3: 1 / 51\n",
      "Epoch 4: 1 / 51\n",
      "Epoch 5: 1 / 51\n",
      "Epoch 6: 1 / 51\n",
      "Epoch 7: 1 / 51\n",
      "Epoch 8: 2 / 51\n",
      "Epoch 9: 2 / 51\n"
     ]
    }
   ],
   "source": [
    "net.SGD(training_data, 10, 100, 0.1, test_data=test_data)"
   ]
  },
  {
   "cell_type": "code",
   "execution_count": null,
   "metadata": {
    "collapsed": false
   },
   "outputs": [],
   "source": []
  },
  {
   "cell_type": "code",
   "execution_count": null,
   "metadata": {
    "collapsed": true
   },
   "outputs": [],
   "source": []
  }
 ],
 "metadata": {
  "kernelspec": {
   "display_name": "Python 2",
   "language": "python",
   "name": "python2"
  },
  "language_info": {
   "codemirror_mode": {
    "name": "ipython",
    "version": 2
   },
   "file_extension": ".py",
   "mimetype": "text/x-python",
   "name": "python",
   "nbconvert_exporter": "python",
   "pygments_lexer": "ipython2",
   "version": "2.7.10"
  }
 },
 "nbformat": 4,
 "nbformat_minor": 0
}
