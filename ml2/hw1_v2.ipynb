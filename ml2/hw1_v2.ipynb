{
 "cells": [
  {
   "cell_type": "code",
   "execution_count": 1,
   "metadata": {
    "collapsed": false
   },
   "outputs": [],
   "source": [
    "%load_ext autoreload\n",
    "%autoreload 2\n",
    "%matplotlib inline"
   ]
  },
  {
   "cell_type": "code",
   "execution_count": 2,
   "metadata": {
    "collapsed": false
   },
   "outputs": [
    {
     "name": "stdout",
     "output_type": "stream",
     "text": [
      "Populating the interactive namespace from numpy and matplotlib\n"
     ]
    }
   ],
   "source": [
    "%pylab inline\n",
    "pylab.rcParams['figure.figsize'] = (10, 6)"
   ]
  },
  {
   "cell_type": "code",
   "execution_count": 3,
   "metadata": {
    "collapsed": true
   },
   "outputs": [],
   "source": [
    "import time\n",
    "import pandas as pd\n",
    "import numpy as np\n",
    "from sklearn import cross_validation as cv\n",
    "from sklearn.metrics import mean_squared_error, f1_score\n",
    "from sklearn.tree import DecisionTreeRegressor\n",
    "from sklearn import datasets\n",
    "from sklearn.cross_validation import KFold\n",
    "from matplotlib import pyplot as plt\n",
    "\n",
    "from joblib import Parallel, delayed\n",
    "\n",
    "plt.style.use('ggplot')"
   ]
  },
  {
   "cell_type": "code",
   "execution_count": 4,
   "metadata": {
    "collapsed": true
   },
   "outputs": [],
   "source": [
    "df = pd.read_csv(\"./spam.train.txt\", delim_whitespace=True, header=None)\n",
    "x_data = df.ix[:, 1:].as_matrix(); y_data = df.ix[:, 0].as_matrix()\n",
    "x_train, x_data2, y_train, y_data2 = cv.train_test_split(x_data, y_data,\n",
    "                                                       test_size=0.5, random_state=288)\n",
    "\n",
    "x_train2, x_test, y_train2, y_test = cv.train_test_split(x_data2, y_data2,\n",
    "                                                       test_size=0.4, random_state=288)"
   ]
  },
  {
   "cell_type": "code",
   "execution_count": null,
   "metadata": {
    "collapsed": true
   },
   "outputs": [],
   "source": []
  },
  {
   "cell_type": "code",
   "execution_count": 5,
   "metadata": {
    "collapsed": false
   },
   "outputs": [
    {
     "data": {
      "text/plain": [
       "(3546, 2128, 1419)"
      ]
     },
     "execution_count": 5,
     "metadata": {},
     "output_type": "execute_result"
    }
   ],
   "source": [
    "len(y_train), len(y_train2), len(y_test)"
   ]
  },
  {
   "cell_type": "code",
   "execution_count": 6,
   "metadata": {
    "collapsed": true
   },
   "outputs": [],
   "source": [
    "from sklearn.ensemble import GradientBoostingClassifier, AdaBoostClassifier, RandomForestClassifier\n",
    "from sklearn.ensemble import GradientBoostingRegressor, AdaBoostRegressor, RandomForestClassifier\n",
    "from sklearn.svm import SVC\n",
    "from sklearn.svm import SVR"
   ]
  },
  {
   "cell_type": "code",
   "execution_count": null,
   "metadata": {
    "collapsed": true
   },
   "outputs": [],
   "source": []
  },
  {
   "cell_type": "code",
   "execution_count": 7,
   "metadata": {
    "collapsed": true
   },
   "outputs": [],
   "source": [
    "from sklearn.grid_search import GridSearchCV\n",
    "from sklearn.metrics import mean_squared_error"
   ]
  },
  {
   "cell_type": "code",
   "execution_count": 8,
   "metadata": {
    "collapsed": true
   },
   "outputs": [],
   "source": [
    "def search_params(estimator, params, x_train, y_train, scoring=\"mean_squared_error\", cv=5):\n",
    "    gsc = GridSearchCV(estimator, params, cv=cv, scoring=scoring, n_jobs=-1)\n",
    "    gsc.fit(x_train, y_train)\n",
    "    print(\"Best parameters set found on development set:\")\n",
    "    print(gsc.best_params_)\n",
    "    print(\"Grid scores on development set:\")\n",
    "    for params, mean_score, scores in gsc.grid_scores_:\n",
    "        print(\"%0.3f (+/-%0.03f) for %r\"\n",
    "              % (mean_score, scores.std() * 2, params))\n",
    "    print()\n",
    "    scores = [a.mean_validation_score for a in gsc.grid_scores_]\n",
    "    return gsc.best_estimator_, gsc.best_params_ , scores"
   ]
  },
  {
   "cell_type": "markdown",
   "metadata": {},
   "source": [
    "### GradientBoostingClassifier"
   ]
  },
  {
   "cell_type": "markdown",
   "metadata": {},
   "source": [
    "##### n_estimators"
   ]
  },
  {
   "cell_type": "code",
   "execution_count": null,
   "metadata": {
    "collapsed": false
   },
   "outputs": [],
   "source": [
    "n_estimators_grid = [10, 15, 30, 60, 70, 100, 200, 350]\n",
    "gbc, _, gbc_scores = search_params(GradientBoostingRegressor(), {\"n_estimators\": n_estimators_grid},\n",
    "                                   x_train, y_train)"
   ]
  },
  {
   "cell_type": "code",
   "execution_count": null,
   "metadata": {
    "collapsed": false
   },
   "outputs": [],
   "source": [
    "plt.plot(n_estimators_grid, gbc_scores)\n",
    "plt.title(\"GradientBoostingClassifier\")\n",
    "plt.ylabel(\"f1\")\n",
    "plt.xlabel(\"n_estimators\");"
   ]
  },
  {
   "cell_type": "markdown",
   "metadata": {},
   "source": [
    "##### learning_rate"
   ]
  },
  {
   "cell_type": "code",
   "execution_count": null,
   "metadata": {
    "collapsed": false
   },
   "outputs": [],
   "source": [
    "learning_rate_grid = [0.01, 0.05, 0.1, 0.3, 0.6, 1.0, 2.0, 6.0]\n",
    "gbc, _, gbc_scores = search_params(GradientBoostingRegressor(n_estimators=250), {\"learning_rate\": learning_rate_grid},\n",
    "                                   x_train, y_train)"
   ]
  },
  {
   "cell_type": "code",
   "execution_count": null,
   "metadata": {
    "collapsed": false,
    "scrolled": true
   },
   "outputs": [],
   "source": [
    "plt.plot(learning_rate_grid, gbc_scores)\n",
    "plt.title = \"GradientBoostingClassifier\"\n",
    "plt.ylabel = \"f1\"\n",
    "plt.xlabel = \"learning_rate\""
   ]
  },
  {
   "cell_type": "code",
   "execution_count": null,
   "metadata": {
    "collapsed": true
   },
   "outputs": [],
   "source": [
    "gbc_params = {\n",
    "    \"n_estimators\": 170,\n",
    "    \"learning_rate\": 0.6\n",
    "}\n",
    "\n",
    "gbr_params = {\n",
    "    \"n_estimators\": 250,\n",
    "    \"learning_rate\": 0.1\n",
    "}"
   ]
  },
  {
   "cell_type": "markdown",
   "metadata": {},
   "source": [
    "### AdaBoostClassifier"
   ]
  },
  {
   "cell_type": "markdown",
   "metadata": {},
   "source": [
    "##### n_estimators"
   ]
  },
  {
   "cell_type": "code",
   "execution_count": null,
   "metadata": {
    "collapsed": false
   },
   "outputs": [],
   "source": [
    "n_estimators_grid = [10, 15, 30, 60, 70, 100, 200, 350]\n",
    "abc, _, abc_scores = search_params(AdaBoostRegressor(), {\"n_estimators\": n_estimators_grid},\n",
    "                                   x_train, y_train)"
   ]
  },
  {
   "cell_type": "code",
   "execution_count": null,
   "metadata": {
    "collapsed": false
   },
   "outputs": [],
   "source": [
    "plt.plot(n_estimators_grid, abc_scores)\n",
    "plt.title(\"GradientBoostingClassifier\")\n",
    "plt.ylabel(\"f1\")\n",
    "plt.xlabel(\"n_estimators\")"
   ]
  },
  {
   "cell_type": "markdown",
   "metadata": {},
   "source": [
    "##### learning_rate"
   ]
  },
  {
   "cell_type": "code",
   "execution_count": null,
   "metadata": {
    "collapsed": false
   },
   "outputs": [],
   "source": [
    "learning_rate_grid = [0.01, 0.05, 0.1, 0.3, 0.6, 1.0]\n",
    "learning_rate_grid = [0.0001, 0.001, 0.01, 0.1]\n",
    "abc, _, abc_scores = search_params(AdaBoostRegressor(n_estimators=250), {\"learning_rate\": learning_rate_grid},\n",
    "                                   x_train, y_train)"
   ]
  },
  {
   "cell_type": "code",
   "execution_count": null,
   "metadata": {
    "collapsed": false
   },
   "outputs": [],
   "source": [
    "plt.plot(learning_rate_grid, abc_scores)\n",
    "plt.ylabel = \"f1\"\n",
    "plt.xlabel = \"n_estimators\""
   ]
  },
  {
   "cell_type": "code",
   "execution_count": null,
   "metadata": {
    "collapsed": true
   },
   "outputs": [],
   "source": [
    "abc_params = {\n",
    "    \"n_estimators\": 200,\n",
    "    \"learning_rate\": 0.6\n",
    "}\n",
    "\n",
    "abr_params = {\n",
    "    \"n_estimators\": 250,\n",
    "    \"learning_rate\": 0.01\n",
    "}"
   ]
  },
  {
   "cell_type": "markdown",
   "metadata": {},
   "source": [
    "### Linear SVM"
   ]
  },
  {
   "cell_type": "code",
   "execution_count": null,
   "metadata": {
    "collapsed": false
   },
   "outputs": [],
   "source": [
    "mean_squared_error(y_test, LinearSVR().fit(x_train, y_train).predict(x_test))"
   ]
  },
  {
   "cell_type": "code",
   "execution_count": null,
   "metadata": {
    "collapsed": true
   },
   "outputs": [],
   "source": [
    "from sklearn.svm import LinearSVR\n",
    "from sklearn.grid_search import GridSearchCV"
   ]
  },
  {
   "cell_type": "code",
   "execution_count": null,
   "metadata": {
    "collapsed": false
   },
   "outputs": [],
   "source": [
    "\n",
    "C_grid = [0.1, 1.0, 10.0, 100.0, 300, 400, 700, 1000.0]\n",
    "\n",
    "gsc = GridSearchCV(LinearSVR(), {\"C\": C_grid}, cv=5, scoring=\"mean_squared_error\")\n",
    "gsc.fit(x_train, y_train)\n",
    "print(\"Best parameters set found on development set:\")\n",
    "print(gsc.best_params_)\n",
    "print(\"Grid scores on development set:\")\n",
    "for params, mean_score, scores in gsc.grid_scores_:\n",
    "    print(\"%0.3f (+/-%0.03f) for %r\"\n",
    "          % (mean_score, scores.std() * 2, params))\n",
    "print()\n",
    "scores = [a.mean_validation_score for a in gsc.grid_scores_]\n",
    "plt.plot(C_grid, scores)\n",
    "plt.ylabel = \"f1\"\n",
    "plt.xlabel = \"C\""
   ]
  },
  {
   "cell_type": "code",
   "execution_count": null,
   "metadata": {
    "collapsed": false
   },
   "outputs": [],
   "source": [
    "gamma_grid = [0.001, 0.01, 0.1, 0.6, 1.0, 3.0]\n",
    "\n",
    "gsc = GridSearchCV(LinearSVR(C=0.1), {\"epsilon\": gamma_grid}, cv=5, scoring=\"mean_squared_error\")\n",
    "gsc.fit(x_train, y_train)\n",
    "print(\"Best parameters set found on development set:\")\n",
    "print(gsc.best_params_)\n",
    "print(\"Grid scores on development set:\")\n",
    "for params, mean_score, scores in gsc.grid_scores_:\n",
    "    print(\"%0.3f (+/-%0.03f) for %r\"\n",
    "          % (mean_score, scores.std() * 2, params))\n",
    "print()\n",
    "scores = [a.mean_validation_score for a in gsc.grid_scores_]\n",
    "plt.plot(gamma_grid, scores)\n",
    "plt.ylabel = \"f1\"\n",
    "plt.xlabel = \"C\""
   ]
  },
  {
   "cell_type": "code",
   "execution_count": null,
   "metadata": {
    "collapsed": true
   },
   "outputs": [],
   "source": [
    "svr_params = {\n",
    "    \"C\": 0.1,\n",
    "    \"epsilon\": 0.1\n",
    "}"
   ]
  },
  {
   "cell_type": "code",
   "execution_count": null,
   "metadata": {
    "collapsed": false
   },
   "outputs": [],
   "source": [
    "mean_squared_error(y_test, LinearSVR(**svr_params).fit(x_train, y_train).predict(x_test))"
   ]
  },
  {
   "cell_type": "markdown",
   "metadata": {},
   "source": [
    "### RBF SVM"
   ]
  },
  {
   "cell_type": "code",
   "execution_count": null,
   "metadata": {
    "collapsed": false
   },
   "outputs": [],
   "source": [
    "C_grid = [0.1, 1.0, 10.0, 100.0, 300, 400, 700, 1000.0]\n",
    "svc, _, svc_scores = search_params(SVR(), {\"C\": C_grid},\n",
    "                                   x_train, y_train)\n",
    "plt.plot(C_grid, svc_scores)\n",
    "plt.ylabel = \"f1\"\n",
    "plt.xlabel = \"C\""
   ]
  },
  {
   "cell_type": "code",
   "execution_count": null,
   "metadata": {
    "collapsed": false
   },
   "outputs": [],
   "source": [
    "gamma_grid = [0.001, 0.01, 0.1, 0.6, 1.0, 3.0]\n",
    "svc, _, svc_scores = search_params(SVR(C=300), {\"gamma\": gamma_grid},\n",
    "                                   x_train, y_train)\n",
    "plt.plot(gamma_grid, svc_scores)\n",
    "plt.ylabel = \"f1\"\n",
    "plt.xlabel = \"gamma\""
   ]
  },
  {
   "cell_type": "code",
   "execution_count": null,
   "metadata": {
    "collapsed": true
   },
   "outputs": [],
   "source": [
    "svc_params = {\n",
    "    \"C\": 800,\n",
    "    \"gamma\": 1.0\n",
    "}"
   ]
  },
  {
   "cell_type": "code",
   "execution_count": null,
   "metadata": {
    "collapsed": true
   },
   "outputs": [],
   "source": [
    "svr_params = {\n",
    "    \"C\": 300,\n",
    "    \"gamma\": 0.6\n",
    "}"
   ]
  },
  {
   "cell_type": "code",
   "execution_count": null,
   "metadata": {
    "collapsed": true
   },
   "outputs": [],
   "source": []
  },
  {
   "cell_type": "code",
   "execution_count": null,
   "metadata": {
    "collapsed": false
   },
   "outputs": [],
   "source": [
    "from sklearn.metrics import f1_score, accuracy_score, mean_squared_error"
   ]
  },
  {
   "cell_type": "code",
   "execution_count": null,
   "metadata": {
    "collapsed": false
   },
   "outputs": [],
   "source": [
    "gbc = GradientBoostingRegressor(**gbr_params)\n",
    "gbc.fit(x_train, y_train)\n",
    "np.abs(mean_squared_error(y_test, gbc.predict(x_test)))"
   ]
  },
  {
   "cell_type": "code",
   "execution_count": null,
   "metadata": {
    "collapsed": false
   },
   "outputs": [],
   "source": [
    "abc = AdaBoostRegressor(**abr_params)\n",
    "abc.fit(x_train, y_train)\n",
    "np.abs(mean_squared_error(y_test, abc.predict(x_test)))"
   ]
  },
  {
   "cell_type": "code",
   "execution_count": null,
   "metadata": {
    "collapsed": false
   },
   "outputs": [],
   "source": [
    "svc = SVR(**svr_params)\n",
    "svc.fit(x_train, y_train)\n",
    "np.abs(mean_squared_error(y_test, svc.predict(x_test)))"
   ]
  },
  {
   "cell_type": "markdown",
   "metadata": {},
   "source": [
    "Weighted Voting"
   ]
  },
  {
   "cell_type": "code",
   "execution_count": null,
   "metadata": {
    "collapsed": true
   },
   "outputs": [],
   "source": [
    "x_gbc = gbc.predict(x_train2)\n",
    "x_abc = abc.predict(x_train2)\n",
    "x_svc = svc.predict(x_train2)"
   ]
  },
  {
   "cell_type": "code",
   "execution_count": null,
   "metadata": {
    "collapsed": false
   },
   "outputs": [],
   "source": [
    "np.vstack([x_gbc, x_abc, x_svc]).t"
   ]
  },
  {
   "cell_type": "code",
   "execution_count": null,
   "metadata": {
    "collapsed": false
   },
   "outputs": [],
   "source": [
    "x_composition = np.vstack([x_gbc, x_abc, x_svc]).T"
   ]
  },
  {
   "cell_type": "code",
   "execution_count": null,
   "metadata": {
    "collapsed": false,
    "scrolled": true
   },
   "outputs": [],
   "source": [
    "x_composition.shape, y_train2.shape"
   ]
  },
  {
   "cell_type": "code",
   "execution_count": null,
   "metadata": {
    "collapsed": true
   },
   "outputs": [],
   "source": [
    "from sklearn.linear_model import LogisticRegression\n",
    "from sklearn.svm import LinearSVC"
   ]
  },
  {
   "cell_type": "code",
   "execution_count": null,
   "metadata": {
    "collapsed": false
   },
   "outputs": [],
   "source": [
    "lr_l1 = LinearSVC(penalty='l1', dual=False)"
   ]
  },
  {
   "cell_type": "code",
   "execution_count": null,
   "metadata": {
    "collapsed": false,
    "scrolled": true
   },
   "outputs": [],
   "source": [
    "lr_l1.fit(x_composition, y_train2)"
   ]
  },
  {
   "cell_type": "code",
   "execution_count": null,
   "metadata": {
    "collapsed": false
   },
   "outputs": [],
   "source": [
    "weights = np.array(lr_l1.coef_/np.sum(lr_l1.coef_))"
   ]
  },
  {
   "cell_type": "code",
   "execution_count": null,
   "metadata": {
    "collapsed": false
   },
   "outputs": [],
   "source": []
  },
  {
   "cell_type": "code",
   "execution_count": null,
   "metadata": {
    "collapsed": false
   },
   "outputs": [],
   "source": [
    "y_pred = predict([gbc, abc, svc], weights, x_test)"
   ]
  },
  {
   "cell_type": "code",
   "execution_count": null,
   "metadata": {
    "collapsed": false
   },
   "outputs": [],
   "source": [
    "mean_squared_error(y_test, y_pred)"
   ]
  },
  {
   "cell_type": "code",
   "execution_count": null,
   "metadata": {
    "collapsed": true
   },
   "outputs": [],
   "source": []
  },
  {
   "cell_type": "code",
   "execution_count": null,
   "metadata": {
    "collapsed": true
   },
   "outputs": [],
   "source": []
  },
  {
   "cell_type": "code",
   "execution_count": null,
   "metadata": {
    "collapsed": false
   },
   "outputs": [],
   "source": []
  },
  {
   "cell_type": "code",
   "execution_count": null,
   "metadata": {
    "collapsed": false
   },
   "outputs": [],
   "source": []
  },
  {
   "cell_type": "code",
   "execution_count": null,
   "metadata": {
    "collapsed": false
   },
   "outputs": [],
   "source": [
    "from sklearn.svm import LinearSVC, LinearSVR"
   ]
  },
  {
   "cell_type": "code",
   "execution_count": null,
   "metadata": {
    "collapsed": true
   },
   "outputs": [],
   "source": [
    "def predict(estimators, weights, x):\n",
    "    x_comp = np.vstack([e.predict(x) for e in estimators]).T\n",
    "    return np.sum(x_comp*weights, axis=1).ravel()"
   ]
  },
  {
   "cell_type": "code",
   "execution_count": null,
   "metadata": {
    "collapsed": true
   },
   "outputs": [],
   "source": [
    "svr_params2 = {\n",
    "    \"C\": 0.1,\n",
    "    \"epsilon\": 0.1\n",
    "}"
   ]
  },
  {
   "cell_type": "code",
   "execution_count": null,
   "metadata": {
    "collapsed": false
   },
   "outputs": [],
   "source": [
    "# svr = SVR(**svr_params)\n",
    "svr = LinearSVR(**svr_params2)\n",
    "svr.fit(x_train, y_train)\n",
    "x_svr = svr.predict(x_train2)\n",
    "\n",
    "lsvc = LinearSVC(penalty='l1', dual=False)\n",
    "\n",
    "def learn_composition(n_estimators):\n",
    "    gbr = GradientBoostingRegressor(n_estimators=n_estimators, learning_rate=0.1)\n",
    "    gbr.fit(x_train, y_train)\n",
    "    abr = AdaBoostRegressor(n_estimators=n_estimators, learning_rate=0.01)\n",
    "    abr.fit(x_train, y_train)\n",
    "    \n",
    "    x_gbr = gbr.predict(x_train2)\n",
    "    x_abr = abr.predict(x_train2)\n",
    "    \n",
    "    x_comp = np.vstack([x_gbr, x_abr, x_svr]).T\n",
    "    \n",
    "    lsvc.fit(x_comp, y_train2)\n",
    "    weights = np.array(lsvc.coef_/np.sum(lsvc.coef_))\n",
    "    \n",
    "    y_pred = predict([gbr, abr, svr], weights, x_test)\n",
    "    \n",
    "    return mean_squared_error(y_test, y_pred)\n",
    "    "
   ]
  },
  {
   "cell_type": "code",
   "execution_count": null,
   "metadata": {
    "collapsed": false
   },
   "outputs": [],
   "source": [
    "n_estimators_grid = [2, 10, 50, 100, 150, 200, 250, 300]\n",
    "scores = Parallel(n_jobs=8)(delayed(learn_composition)(n_estimators) for n_estimators in n_estimators_grid)"
   ]
  },
  {
   "cell_type": "code",
   "execution_count": null,
   "metadata": {
    "collapsed": false
   },
   "outputs": [],
   "source": [
    "plt.plot(n_estimators_grid, scores)\n",
    "plt.ylabel = \"mse\"\n",
    "plt.xlabel = \"n_estimators_grid\""
   ]
  },
  {
   "cell_type": "code",
   "execution_count": null,
   "metadata": {
    "collapsed": true
   },
   "outputs": [],
   "source": [
    "def score_gbr(n_estimators):\n",
    "    gbr = GradientBoostingRegressor(n_estimators=n_estimators, learning_rate=0.1)\n",
    "    gbr.fit(x_train, y_train)\n",
    "    y_pred = gbr.predict(x_test)\n",
    "    return mean_squared_error(y_test, y_pred)\n",
    "\n",
    "def score_abr(n_estimators):\n",
    "    abr = AdaBoostRegressor(n_estimators=n_estimators, learning_rate=0.01)\n",
    "    abr.fit(x_train, y_train)\n",
    "    y_pred = abr.predict(x_test)\n",
    "    return mean_squared_error(y_test, y_pred)"
   ]
  },
  {
   "cell_type": "code",
   "execution_count": null,
   "metadata": {
    "collapsed": true
   },
   "outputs": [],
   "source": [
    "gbr_scores = Parallel(n_jobs=-1)(delayed(score_gbr)(n_estimators) for n_estimators in n_estimators_grid)"
   ]
  },
  {
   "cell_type": "code",
   "execution_count": null,
   "metadata": {
    "collapsed": true
   },
   "outputs": [],
   "source": [
    "abr_scores = Parallel(n_jobs=-1)(delayed(score_abr)(n_estimators) for n_estimators in n_estimators_grid)"
   ]
  },
  {
   "cell_type": "code",
   "execution_count": null,
   "metadata": {
    "collapsed": true
   },
   "outputs": [],
   "source": [
    "svr_mse = mean_squared_error(y_test, svr.predict(x_test))"
   ]
  },
  {
   "cell_type": "code",
   "execution_count": null,
   "metadata": {
    "collapsed": false
   },
   "outputs": [],
   "source": [
    "plt.figure(figsize=(12,10))\n",
    "plt.plot(n_estimators_grid, scores, 'g', label=\"Composition\")\n",
    "plt.plot(n_estimators_grid, gbr_scores, 'b', label=\"GradientBoosting\")\n",
    "plt.plot(n_estimators_grid, abr_scores, 'r', label=\"AdaBoost\")\n",
    "plt.plot(n_estimators_grid, [svr_mse]*len(n_estimators_grid), 'black', label=\"SVM\")\n",
    "plt.ylabel = \"mse\"\n",
    "plt.xlabel = \"n_estimators_grid\"\n",
    "plt.legend(loc='upper right')"
   ]
  },
  {
   "cell_type": "code",
   "execution_count": null,
   "metadata": {
    "collapsed": true
   },
   "outputs": [],
   "source": [
    "from src.my_composition import MyComposition"
   ]
  },
  {
   "cell_type": "code",
   "execution_count": null,
   "metadata": {
    "collapsed": false
   },
   "outputs": [],
   "source": [
    "my = MyComposition()\n",
    "my.fit(x_train, y_train, x_train2, y_train2)\n",
    "mean_squared_error(y_test, my.predict(x_test))"
   ]
  },
  {
   "cell_type": "code",
   "execution_count": null,
   "metadata": {
    "collapsed": false
   },
   "outputs": [],
   "source": [
    "tmp2 = my.estimators_[2]\n",
    "len(tmp2.feature_importances_)"
   ]
  },
  {
   "cell_type": "code",
   "execution_count": null,
   "metadata": {
    "collapsed": true
   },
   "outputs": [],
   "source": [
    "def predict_on_fsubset(features, x_train, y_train, x_train2, y_train2, x_test, y_test):\n",
    "    start = time.time()\n",
    "    # clf = AdaBoostClassifier(**ada_best_params)\n",
    "    clf = MyComposition()\n",
    "    clf.fit(x_train[:, features], y_train, x_train2[:, features], y_train2)\n",
    "    y_pred = clf.predict(x_test[:, features])\n",
    "    score = mean_squared_error(y_test, y_pred)\n",
    "\n",
    "    end = time.time()\n",
    "    return clf, score, end - start"
   ]
  },
  {
   "cell_type": "code",
   "execution_count": null,
   "metadata": {
    "collapsed": true
   },
   "outputs": [],
   "source": [
    "def fset2scores(fset, x_train, x_test, y_train, y_test):\n",
    "    fpacks = [fset[:i] for i in range(1, len(fset) + 1)]\n",
    "    res = Parallel(n_jobs=-1)(delayed(predict_on_fsubset)(pack, x_train, y_train, x_train2, y_train2, x_test, y_test) for pack in fpacks)\n",
    "\n",
    "    clfs, scores, times = zip(*res)\n",
    "    return clfs, scores, times"
   ]
  },
  {
   "cell_type": "code",
   "execution_count": null,
   "metadata": {
    "collapsed": true
   },
   "outputs": [],
   "source": [
    "from src.cfs import cfs, cfs1"
   ]
  },
  {
   "cell_type": "code",
   "execution_count": null,
   "metadata": {
    "collapsed": false
   },
   "outputs": [],
   "source": [
    "cfs1_features = cfs1(x_train, y_train, x_train.shape[1])"
   ]
  },
  {
   "cell_type": "code",
   "execution_count": null,
   "metadata": {
    "collapsed": false
   },
   "outputs": [],
   "source": [
    "_, cfs1_scores, cfs1_times = fset2scores(cfs1_features, x_train, x_test, y_train, y_test)"
   ]
  },
  {
   "cell_type": "code",
   "execution_count": null,
   "metadata": {
    "collapsed": true
   },
   "outputs": [],
   "source": [
    "cfs_features = cfs(x_train, y_train, x_train.shape[1])"
   ]
  },
  {
   "cell_type": "code",
   "execution_count": null,
   "metadata": {
    "collapsed": true
   },
   "outputs": [],
   "source": [
    "_, cfs_scores, cfs_times = fset2scores(cfs_features, x_train, x_test, y_train, y_test)"
   ]
  },
  {
   "cell_type": "code",
   "execution_count": null,
   "metadata": {
    "collapsed": true
   },
   "outputs": [],
   "source": []
  },
  {
   "cell_type": "code",
   "execution_count": null,
   "metadata": {
    "collapsed": false
   },
   "outputs": [],
   "source": [
    "plt.figure(figsize=(15, 15))\n",
    "# plt.plot(range(len(wrapper_features)), wrapper_scores, 'g', label=\"wrapper\")\n",
    "# plt.plot(range(len(embedded_features)), embedded_scores, 'b', label=\"embedded\")\n",
    "plt.plot(range(len(cfs_features)), cfs_scores, 'r', label=\"cfs\")\n",
    "plt.plot(range(len(cfs1_features)), cfs1_scores, 'y', label=\"cfs1\")\n",
    "\n",
    "plt.title('Methods Score')\n",
    "\n",
    "plt.xlabel('n_features')\n",
    "plt.ylabel('mse')\n",
    "plt.legend(loc='lower right')"
   ]
  },
  {
   "cell_type": "code",
   "execution_count": null,
   "metadata": {
    "collapsed": false
   },
   "outputs": [],
   "source": [
    "from src.my_composition import MyComposition\n",
    "my = MyComposition().fit(x_train[:, [34]], y_train, x_train2[:, [34]], y_train2)"
   ]
  },
  {
   "cell_type": "code",
   "execution_count": null,
   "metadata": {
    "collapsed": false
   },
   "outputs": [],
   "source": [
    "my.predict(x_test[:, [34]])"
   ]
  },
  {
   "cell_type": "code",
   "execution_count": null,
   "metadata": {
    "collapsed": true
   },
   "outputs": [],
   "source": []
  }
 ],
 "metadata": {
  "kernelspec": {
   "display_name": "Python 2",
   "language": "python",
   "name": "python2"
  },
  "language_info": {
   "codemirror_mode": {
    "name": "ipython",
    "version": 2
   },
   "file_extension": ".py",
   "mimetype": "text/x-python",
   "name": "python",
   "nbconvert_exporter": "python",
   "pygments_lexer": "ipython2",
   "version": "2.7.10"
  }
 },
 "nbformat": 4,
 "nbformat_minor": 0
}
