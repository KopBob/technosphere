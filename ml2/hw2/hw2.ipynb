{
 "cells": [
  {
   "cell_type": "code",
   "execution_count": 1,
   "metadata": {
    "collapsed": false
   },
   "outputs": [],
   "source": [
    "%load_ext autoreload\n",
    "%autoreload 2\n",
    "%matplotlib inline"
   ]
  },
  {
   "cell_type": "code",
   "execution_count": 2,
   "metadata": {
    "collapsed": true
   },
   "outputs": [],
   "source": [
    "import pandas as pd\n",
    "import numpy as np\n",
    "from matplotlib import pyplot as plt\n",
    "from sklearn import cross_validation as cv\n"
   ]
  },
  {
   "cell_type": "code",
   "execution_count": 3,
   "metadata": {
    "collapsed": false
   },
   "outputs": [],
   "source": [
    "df = pd.read_csv(\"./../hw1/spam.train.txt\", delim_whitespace=True, header=None)\n",
    "x_data = df.ix[:, 1:].as_matrix(); y_data = df.ix[:, 0].as_matrix()\n",
    "y_data[y_data == 0] = -1\n",
    "x_train, x_test, y_train, y_test = cv.train_test_split(x_data, y_data,\n",
    "                                                       test_size=0.25, random_state=288)\n"
   ]
  },
  {
   "cell_type": "markdown",
   "metadata": {},
   "source": [
    "# CFS"
   ]
  },
  {
   "cell_type": "code",
   "execution_count": 4,
   "metadata": {
    "collapsed": false
   },
   "outputs": [],
   "source": [
    "from src.cfs import cfs"
   ]
  },
  {
   "cell_type": "code",
   "execution_count": 25,
   "metadata": {
    "collapsed": false
   },
   "outputs": [],
   "source": [
    "cfs_features = cfs(x_train, y_train, 1000)"
   ]
  },
  {
   "cell_type": "code",
   "execution_count": 26,
   "metadata": {
    "collapsed": false
   },
   "outputs": [
    {
     "data": {
      "text/plain": [
       "[48,\n",
       " 8,\n",
       " 70,\n",
       " 10,\n",
       " 49,\n",
       " 101,\n",
       " 53,\n",
       " 52,\n",
       " 76,\n",
       " 32,\n",
       " 31,\n",
       " 75,\n",
       " 73,\n",
       " 19,\n",
       " 56,\n",
       " 4,\n",
       " 80,\n",
       " 9,\n",
       " 100,\n",
       " 35,\n",
       " 71,\n",
       " 86,\n",
       " 61,\n",
       " 41,\n",
       " 72]"
      ]
     },
     "execution_count": 26,
     "metadata": {},
     "output_type": "execute_result"
    }
   ],
   "source": [
    "cfs_features"
   ]
  },
  {
   "cell_type": "markdown",
   "metadata": {},
   "source": [
    "# Wrapper"
   ]
  },
  {
   "cell_type": "code",
   "execution_count": 5,
   "metadata": {
    "collapsed": true
   },
   "outputs": [],
   "source": [
    "from sklearn.metrics import f1_score"
   ]
  },
  {
   "cell_type": "code",
   "execution_count": 6,
   "metadata": {
    "collapsed": true
   },
   "outputs": [],
   "source": [
    "from sklearn.ensemble import AdaBoostClassifier"
   ]
  },
  {
   "cell_type": "code",
   "execution_count": 7,
   "metadata": {
    "collapsed": false
   },
   "outputs": [
    {
     "data": {
      "text/plain": [
       "AdaBoostClassifier(algorithm='SAMME.R', base_estimator=None,\n",
       "          learning_rate=0.2, n_estimators=50, random_state=None)"
      ]
     },
     "execution_count": 7,
     "metadata": {},
     "output_type": "execute_result"
    }
   ],
   "source": [
    "abc = AdaBoostClassifier(n_estimators=50, learning_rate=0.2)\n",
    "abc.fit(x_train, y_train)"
   ]
  },
  {
   "cell_type": "code",
   "execution_count": 8,
   "metadata": {
    "collapsed": false
   },
   "outputs": [
    {
     "data": {
      "text/plain": [
       "0.95656417764763302"
      ]
     },
     "execution_count": 8,
     "metadata": {},
     "output_type": "execute_result"
    }
   ],
   "source": [
    "f1_score(y_test, abc.predict(x_test))"
   ]
  },
  {
   "cell_type": "code",
   "execution_count": 19,
   "metadata": {
    "collapsed": true
   },
   "outputs": [],
   "source": [
    "from joblib import Parallel, delayed"
   ]
  },
  {
   "cell_type": "code",
   "execution_count": 20,
   "metadata": {
    "collapsed": true
   },
   "outputs": [],
   "source": [
    "def pred_(x_train, y_train):\n",
    "    abc = AdaBoostClassifier(n_estimators=50, learning_rate=0.2)\n",
    "    abc.fit(x_train, y_train)\n",
    "    return abc"
   ]
  },
  {
   "cell_type": "code",
   "execution_count": 23,
   "metadata": {
    "collapsed": false
   },
   "outputs": [
    {
     "name": "stdout",
     "output_type": "stream",
     "text": [
      "[48]\n",
      "[48, 53]\n",
      "[48, 53, 35]\n",
      "[48, 53, 35, 41]\n",
      "[48, 53, 35, 41, 71]\n",
      "[48, 53, 35, 41, 71, 4]\n",
      "[48, 53, 35, 41, 71, 4, 83]\n",
      "[48, 53, 35, 41, 71, 4, 83, 70]\n",
      "[48, 53, 35, 41, 71, 4, 83, 70, 56]\n",
      "[48, 53, 35, 41, 71, 4, 83, 70, 56, 52]\n",
      "[48, 53, 35, 41, 71, 4, 83, 70, 56, 52, 73]\n",
      "[48, 53, 35, 41, 71, 4, 83, 70, 56, 52, 73, 31]\n",
      "[48, 53, 35, 41, 71, 4, 83, 70, 56, 52, 73, 31, 100]\n",
      "[48, 53, 35, 41, 71, 4, 83, 70, 56, 52, 73, 31, 100, 77]\n",
      "[48, 53, 35, 41, 71, 4, 83, 70, 56, 52, 73, 31, 100, 77, 91]\n",
      "[48, 53, 35, 41, 71, 4, 83, 70, 56, 52, 73, 31, 100, 77, 91, 0]\n",
      "[48, 53, 35, 41, 71, 4, 83, 70, 56, 52, 73, 31, 100, 77, 91, 0, 1]\n",
      "[48, 53, 35, 41, 71, 4, 83, 70, 56, 52, 73, 31, 100, 77, 91, 0, 1, 2]\n",
      "[48, 53, 35, 41, 71, 4, 83, 70, 56, 52, 73, 31, 100, 77, 91, 0, 1, 2, 5]\n",
      "[48, 53, 35, 41, 71, 4, 83, 70, 56, 52, 73, 31, 100, 77, 91, 0, 1, 2, 5, 6]\n",
      "[48, 53, 35, 41, 71, 4, 83, 70, 56, 52, 73, 31, 100, 77, 91, 0, 1, 2, 5, 6, 7]\n",
      "[48, 53, 35, 41, 71, 4, 83, 70, 56, 52, 73, 31, 100, 77, 91, 0, 1, 2, 5, 6, 7, 12]\n",
      "[48, 53, 35, 41, 71, 4, 83, 70, 56, 52, 73, 31, 100, 77, 91, 0, 1, 2, 5, 6, 7, 12, 13]\n",
      "[48, 53, 35, 41, 71, 4, 83, 70, 56, 52, 73, 31, 100, 77, 91, 0, 1, 2, 5, 6, 7, 12, 13, 18]\n",
      "[48, 53, 35, 41, 71, 4, 83, 70, 56, 52, 73, 31, 100, 77, 91, 0, 1, 2, 5, 6, 7, 12, 13, 18, 20]\n",
      "[48, 53, 35, 41, 71, 4, 83, 70, 56, 52, 73, 31, 100, 77, 91, 0, 1, 2, 5, 6, 7, 12, 13, 18, 20, 21]\n",
      "[48, 53, 35, 41, 71, 4, 83, 70, 56, 52, 73, 31, 100, 77, 91, 0, 1, 2, 5, 6, 7, 12, 13, 18, 20, 21, 22]\n",
      "[48, 53, 35, 41, 71, 4, 83, 70, 56, 52, 73, 31, 100, 77, 91, 0, 1, 2, 5, 6, 7, 12, 13, 18, 20, 21, 22, 23]\n",
      "[48, 53, 35, 41, 71, 4, 83, 70, 56, 52, 73, 31, 100, 77, 91, 0, 1, 2, 5, 6, 7, 12, 13, 18, 20, 21, 22, 23, 24]\n",
      "[48, 53, 35, 41, 71, 4, 83, 70, 56, 52, 73, 31, 100, 77, 91, 0, 1, 2, 5, 6, 7, 12, 13, 18, 20, 21, 22, 23, 24, 25]\n",
      "[48, 53, 35, 41, 71, 4, 83, 70, 56, 52, 73, 31, 100, 77, 91, 0, 1, 2, 5, 6, 7, 12, 13, 18, 20, 21, 22, 23, 24, 25, 26]\n",
      "[48, 53, 35, 41, 71, 4, 83, 70, 56, 52, 73, 31, 100, 77, 91, 0, 1, 2, 5, 6, 7, 12, 13, 18, 20, 21, 22, 23, 24, 25, 26, 27]\n",
      "[48, 53, 35, 41, 71, 4, 83, 70, 56, 52, 73, 31, 100, 77, 91, 0, 1, 2, 5, 6, 7, 12, 13, 18, 20, 21, 22, 23, 24, 25, 26, 27, 28]\n",
      "[48, 53, 35, 41, 71, 4, 83, 70, 56, 52, 73, 31, 100, 77, 91, 0, 1, 2, 5, 6, 7, 12, 13, 18, 20, 21, 22, 23, 24, 25, 26, 27, 28, 30]\n",
      "[48, 53, 35, 41, 71, 4, 83, 70, 56, 52, 73, 31, 100, 77, 91, 0, 1, 2, 5, 6, 7, 12, 13, 18, 20, 21, 22, 23, 24, 25, 26, 27, 28, 30, 33]\n",
      "[48, 53, 35, 41, 71, 4, 83, 70, 56, 52, 73, 31, 100, 77, 91, 0, 1, 2, 5, 6, 7, 12, 13, 18, 20, 21, 22, 23, 24, 25, 26, 27, 28, 30, 33, 34]\n",
      "[48, 53, 35, 41, 71, 4, 83, 70, 56, 52, 73, 31, 100, 77, 91, 0, 1, 2, 5, 6, 7, 12, 13, 18, 20, 21, 22, 23, 24, 25, 26, 27, 28, 30, 33, 34, 36]\n",
      "[48, 53, 35, 41, 71, 4, 83, 70, 56, 52, 73, 31, 100, 77, 91, 0, 1, 2, 5, 6, 7, 12, 13, 18, 20, 21, 22, 23, 24, 25, 26, 27, 28, 30, 33, 34, 36, 38]\n",
      "[48, 53, 35, 41, 71, 4, 83, 70, 56, 52, 73, 31, 100, 77, 91, 0, 1, 2, 5, 6, 7, 12, 13, 18, 20, 21, 22, 23, 24, 25, 26, 27, 28, 30, 33, 34, 36, 38, 40]\n",
      "[48, 53, 35, 41, 71, 4, 83, 70, 56, 52, 73, 31, 100, 77, 91, 0, 1, 2, 5, 6, 7, 12, 13, 18, 20, 21, 22, 23, 24, 25, 26, 27, 28, 30, 33, 34, 36, 38, 40, 43]\n",
      "[48, 53, 35, 41, 71, 4, 83, 70, 56, 52, 73, 31, 100, 77, 91, 0, 1, 2, 5, 6, 7, 12, 13, 18, 20, 21, 22, 23, 24, 25, 26, 27, 28, 30, 33, 34, 36, 38, 40, 43, 44]\n",
      "[48, 53, 35, 41, 71, 4, 83, 70, 56, 52, 73, 31, 100, 77, 91, 0, 1, 2, 5, 6, 7, 12, 13, 18, 20, 21, 22, 23, 24, 25, 26, 27, 28, 30, 33, 34, 36, 38, 40, 43, 44, 45]\n",
      "[48, 53, 35, 41, 71, 4, 83, 70, 56, 52, 73, 31, 100, 77, 91, 0, 1, 2, 5, 6, 7, 12, 13, 18, 20, 21, 22, 23, 24, 25, 26, 27, 28, 30, 33, 34, 36, 38, 40, 43, 44, 45, 46]\n",
      "[48, 53, 35, 41, 71, 4, 83, 70, 56, 52, 73, 31, 100, 77, 91, 0, 1, 2, 5, 6, 7, 12, 13, 18, 20, 21, 22, 23, 24, 25, 26, 27, 28, 30, 33, 34, 36, 38, 40, 43, 44, 45, 46, 50]\n",
      "[48, 53, 35, 41, 71, 4, 83, 70, 56, 52, 73, 31, 100, 77, 91, 0, 1, 2, 5, 6, 7, 12, 13, 18, 20, 21, 22, 23, 24, 25, 26, 27, 28, 30, 33, 34, 36, 38, 40, 43, 44, 45, 46, 50, 54]\n",
      "[48, 53, 35, 41, 71, 4, 83, 70, 56, 52, 73, 31, 100, 77, 91, 0, 1, 2, 5, 6, 7, 12, 13, 18, 20, 21, 22, 23, 24, 25, 26, 27, 28, 30, 33, 34, 36, 38, 40, 43, 44, 45, 46, 50, 54, 57]\n",
      "[48, 53, 35, 41, 71, 4, 83, 70, 56, 52, 73, 31, 100, 77, 91, 0, 1, 2, 5, 6, 7, 12, 13, 18, 20, 21, 22, 23, 24, 25, 26, 27, 28, 30, 33, 34, 36, 38, 40, 43, 44, 45, 46, 50, 54, 57, 58]\n",
      "[48, 53, 35, 41, 71, 4, 83, 70, 56, 52, 73, 31, 100, 77, 91, 0, 1, 2, 5, 6, 7, 12, 13, 18, 20, 21, 22, 23, 24, 25, 26, 27, 28, 30, 33, 34, 36, 38, 40, 43, 44, 45, 46, 50, 54, 57, 58, 59]\n",
      "[48, 53, 35, 41, 71, 4, 83, 70, 56, 52, 73, 31, 100, 77, 91, 0, 1, 2, 5, 6, 7, 12, 13, 18, 20, 21, 22, 23, 24, 25, 26, 27, 28, 30, 33, 34, 36, 38, 40, 43, 44, 45, 46, 50, 54, 57, 58, 59, 60]\n",
      "[48, 53, 35, 41, 71, 4, 83, 70, 56, 52, 73, 31, 100, 77, 91, 0, 1, 2, 5, 6, 7, 12, 13, 18, 20, 21, 22, 23, 24, 25, 26, 27, 28, 30, 33, 34, 36, 38, 40, 43, 44, 45, 46, 50, 54, 57, 58, 59, 60, 61]\n",
      "[48, 53, 35, 41, 71, 4, 83, 70, 56, 52, 73, 31, 100, 77, 91, 0, 1, 2, 5, 6, 7, 12, 13, 18, 20, 21, 22, 23, 24, 25, 26, 27, 28, 30, 33, 34, 36, 38, 40, 43, 44, 45, 46, 50, 54, 57, 58, 59, 60, 61, 62]\n",
      "[48, 53, 35, 41, 71, 4, 83, 70, 56, 52, 73, 31, 100, 77, 91, 0, 1, 2, 5, 6, 7, 12, 13, 18, 20, 21, 22, 23, 24, 25, 26, 27, 28, 30, 33, 34, 36, 38, 40, 43, 44, 45, 46, 50, 54, 57, 58, 59, 60, 61, 62, 63]\n",
      "[48, 53, 35, 41, 71, 4, 83, 70, 56, 52, 73, 31, 100, 77, 91, 0, 1, 2, 5, 6, 7, 12, 13, 18, 20, 21, 22, 23, 24, 25, 26, 27, 28, 30, 33, 34, 36, 38, 40, 43, 44, 45, 46, 50, 54, 57, 58, 59, 60, 61, 62, 63, 64]\n",
      "[48, 53, 35, 41, 71, 4, 83, 70, 56, 52, 73, 31, 100, 77, 91, 0, 1, 2, 5, 6, 7, 12, 13, 18, 20, 21, 22, 23, 24, 25, 26, 27, 28, 30, 33, 34, 36, 38, 40, 43, 44, 45, 46, 50, 54, 57, 58, 59, 60, 61, 62, 63, 64, 65]\n",
      "[48, 53, 35, 41, 71, 4, 83, 70, 56, 52, 73, 31, 100, 77, 91, 0, 1, 2, 5, 6, 7, 12, 13, 18, 20, 21, 22, 23, 24, 25, 26, 27, 28, 30, 33, 34, 36, 38, 40, 43, 44, 45, 46, 50, 54, 57, 58, 59, 60, 61, 62, 63, 64, 65, 66]\n",
      "[48, 53, 35, 41, 71, 4, 83, 70, 56, 52, 73, 31, 100, 77, 91, 0, 1, 2, 5, 6, 7, 12, 13, 18, 20, 21, 22, 23, 24, 25, 26, 27, 28, 30, 33, 34, 36, 38, 40, 43, 44, 45, 46, 50, 54, 57, 58, 59, 60, 61, 62, 63, 64, 65, 66, 67]\n",
      "[48, 53, 35, 41, 71, 4, 83, 70, 56, 52, 73, 31, 100, 77, 91, 0, 1, 2, 5, 6, 7, 12, 13, 18, 20, 21, 22, 23, 24, 25, 26, 27, 28, 30, 33, 34, 36, 38, 40, 43, 44, 45, 46, 50, 54, 57, 58, 59, 60, 61, 62, 63, 64, 65, 66, 67, 68]\n",
      "[48, 53, 35, 41, 71, 4, 83, 70, 56, 52, 73, 31, 100, 77, 91, 0, 1, 2, 5, 6, 7, 12, 13, 18, 20, 21, 22, 23, 24, 25, 26, 27, 28, 30, 33, 34, 36, 38, 40, 43, 44, 45, 46, 50, 54, 57, 58, 59, 60, 61, 62, 63, 64, 65, 66, 67, 68, 69]\n",
      "[48, 53, 35, 41, 71, 4, 83, 70, 56, 52, 73, 31, 100, 77, 91, 0, 1, 2, 5, 6, 7, 12, 13, 18, 20, 21, 22, 23, 24, 25, 26, 27, 28, 30, 33, 34, 36, 38, 40, 43, 44, 45, 46, 50, 54, 57, 58, 59, 60, 61, 62, 63, 64, 65, 66, 67, 68, 69, 80]\n",
      "[48, 53, 35, 41, 71, 4, 83, 70, 56, 52, 73, 31, 100, 77, 91, 0, 1, 2, 5, 6, 7, 12, 13, 18, 20, 21, 22, 23, 24, 25, 26, 27, 28, 30, 33, 34, 36, 38, 40, 43, 44, 45, 46, 50, 54, 57, 58, 59, 60, 61, 62, 63, 64, 65, 66, 67, 68, 69, 80, 81]\n",
      "[48, 53, 35, 41, 71, 4, 83, 70, 56, 52, 73, 31, 100, 77, 91, 0, 1, 2, 5, 6, 7, 12, 13, 18, 20, 21, 22, 23, 24, 25, 26, 27, 28, 30, 33, 34, 36, 38, 40, 43, 44, 45, 46, 50, 54, 57, 58, 59, 60, 61, 62, 63, 64, 65, 66, 67, 68, 69, 80, 81, 82]\n"
     ]
    }
   ],
   "source": [
    "def wrapper(expected_features, x_train, y_train, x_test, y_test):\n",
    "    initial_fset = set(np.arange(x_train.shape[1]))\n",
    "    target_flist = list()\n",
    "\n",
    "    for i in range(expected_features+1):\n",
    "        target_fset = set(target_flist)\n",
    "        rest_fset = list(initial_fset - target_fset)\n",
    "        \n",
    "        unbound_fset = [list(target_fset|set([f])) for f in rest_fset]\n",
    "        clfs = Parallel(n_jobs=8)(delayed(pred_)(x_train[:, fset], y_train) for fset in unbound_fset)\n",
    "\n",
    "        clfs_scores = [f1_score(y_test, clf.predict(x_test[:, unbound_fset[i]])) for i, clf in enumerate(clfs)]\n",
    "        best_f_ind = np.argmax(clfs_scores)\n",
    "\n",
    "        best_f = rest_fset[best_f_ind]\n",
    "        target_flist.append(best_f)\n",
    "        print target_flist\n",
    "\n",
    "    return target_fset\n",
    "\n",
    "wrapper_features = wrapper(60, x_train, y_train, x_test, y_test)"
   ]
  },
  {
   "cell_type": "code",
   "execution_count": null,
   "metadata": {
    "collapsed": true
   },
   "outputs": [],
   "source": []
  },
  {
   "cell_type": "code",
   "execution_count": null,
   "metadata": {
    "collapsed": true
   },
   "outputs": [],
   "source": []
  },
  {
   "cell_type": "markdown",
   "metadata": {},
   "source": [
    "# Embedded"
   ]
  },
  {
   "cell_type": "code",
   "execution_count": null,
   "metadata": {
    "collapsed": true
   },
   "outputs": [],
   "source": [
    "f_w = np.zeros(x_train.shape[1])\n",
    "\n",
    "def wide_walk(tree, feature_weigths):\n",
    "    if tree.split_feature is None:\n",
    "        return feature_weigths\n",
    "    \n",
    "    feature_weigths[tree.split_feature] += tree.score\n",
    "    \n",
    "    feature_weigths = wide_walk(tree.fb, feature_weigths)\n",
    "    feature_weigths = wide_walk(tree.tb, feature_weigths)\n",
    "    \n",
    "    return feature_weigths\n",
    "wide_walk(gboost.ensembles[3].tree, f_w)\n",
    "#np.sum(np.array([wide_walk(p.tree, np.zeros(x_train.shape[1])) for p in predictors[0].ensembles]), axis=0)"
   ]
  },
  {
   "cell_type": "code",
   "execution_count": null,
   "metadata": {
    "collapsed": true
   },
   "outputs": [],
   "source": []
  }
 ],
 "metadata": {
  "kernelspec": {
   "display_name": "Python 2",
   "language": "python",
   "name": "python2"
  },
  "language_info": {
   "codemirror_mode": {
    "name": "ipython",
    "version": 2
   },
   "file_extension": ".py",
   "mimetype": "text/x-python",
   "name": "python",
   "nbconvert_exporter": "python",
   "pygments_lexer": "ipython2",
   "version": "2.7.10"
  }
 },
 "nbformat": 4,
 "nbformat_minor": 0
}
