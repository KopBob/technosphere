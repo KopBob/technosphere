{
 "cells": [
  {
   "cell_type": "code",
   "execution_count": 1,
   "metadata": {
    "collapsed": true
   },
   "outputs": [],
   "source": [
    "%load_ext autoreload\n",
    "%autoreload 2\n",
    "%matplotlib inline"
   ]
  },
  {
   "cell_type": "code",
   "execution_count": 5,
   "metadata": {
    "collapsed": true
   },
   "outputs": [],
   "source": [
    "import pandas as pd\n",
    "import numpy as np\n",
    "from matplotlib import pyplot as plt\n",
    "from sklearn import cross_validation as cv\n"
   ]
  },
  {
   "cell_type": "code",
   "execution_count": 6,
   "metadata": {
    "collapsed": false
   },
   "outputs": [],
   "source": [
    "df = pd.read_csv(\"./spam.train.txt\", delim_whitespace=True, header=None)\n",
    "x_data = df.ix[:, 1:].as_matrix(); y_data = df.ix[:, 0].as_matrix()\n",
    "y_data[y_data == 0] = -1\n",
    "x_train, x_test, y_train, y_test = cv.train_test_split(x_data, y_data,\n",
    "                                                       test_size=0.25, random_state=288)\n"
   ]
  },
  {
   "cell_type": "code",
   "execution_count": 113,
   "metadata": {
    "collapsed": false
   },
   "outputs": [],
   "source": [
    "yX = np.vstack((y_train, x_train.T)).T\n",
    "target_corr = np.abs(np.corrcoef(yX.T)[0,:][1:])\n",
    "feature_corr = np.abs(np.corrcoef(x_train.T))"
   ]
  },
  {
   "cell_type": "code",
   "execution_count": 114,
   "metadata": {
    "collapsed": false
   },
   "outputs": [
    {
     "name": "stdout",
     "output_type": "stream",
     "text": [
      "0.567853175112\n",
      "0.652688146355\n",
      "0.69713700795\n",
      "0.732131857348\n",
      "0.758540685588\n",
      "0.778607562568\n",
      "0.788107539005\n",
      "0.795303467956\n",
      "0.800026837952\n",
      "0.805262094184\n",
      "0.808611222209\n",
      "0.813333688833\n",
      "0.81482478568\n",
      "0.816699094464\n",
      "0.818223314284\n",
      "0.82059796036\n",
      "0.82189477257\n",
      "0.82286914779\n",
      "0.823822444068\n",
      "0.823940607255\n",
      "0.824757773586\n",
      "0.824821223605\n",
      "0.824978377414\n",
      "0.825416499912\n",
      "0.82590114701\n"
     ]
    },
    {
     "data": {
      "text/plain": [
       "[48,\n",
       " 8,\n",
       " 70,\n",
       " 10,\n",
       " 49,\n",
       " 101,\n",
       " 53,\n",
       " 52,\n",
       " 76,\n",
       " 32,\n",
       " 31,\n",
       " 75,\n",
       " 73,\n",
       " 19,\n",
       " 56,\n",
       " 4,\n",
       " 80,\n",
       " 9,\n",
       " 100,\n",
       " 35,\n",
       " 71,\n",
       " 86,\n",
       " 61,\n",
       " 41,\n",
       " 72]"
      ]
     },
     "execution_count": 114,
     "metadata": {},
     "output_type": "execute_result"
    }
   ],
   "source": [
    "def cfs(expected_features):\n",
    "    feature_set = []\n",
    "\n",
    "    numerator = 0\n",
    "    denominator = 0\n",
    "    total_score = -np.inf\n",
    "\n",
    "    for _ in range(expected_features):    \n",
    "        best_score = total_score\n",
    "        best_pos = -1\n",
    "        best_feature_numerator_invest = 0\n",
    "        best_feature_denominator_invest = 0\n",
    "\n",
    "        for feature in range(x_train.shape[1]):\n",
    "            if feature not in feature_set:\n",
    "                numerator_invest = target_corr[feature]\n",
    "                denominator_invest = 1 + 2*np.sum(feature_corr[feature, feature_set])\n",
    "\n",
    "                tmp_numerator = numerator + numerator_invest\n",
    "                tmp_denominator = denominator + denominator_invest\n",
    "\n",
    "                tmp_score = tmp_numerator/np.sqrt(tmp_denominator)\n",
    "\n",
    "                if tmp_score > best_score:\n",
    "                    best_feature_numerator_invest = numerator_invest\n",
    "                    best_feature_denominator_invest = denominator_invest\n",
    "                    best_pos = feature\n",
    "                    best_score = tmp_score\n",
    "\n",
    "        if best_pos == -1:\n",
    "            continue\n",
    "            \n",
    "        numerator += best_feature_numerator_invest\n",
    "        denominator += best_feature_denominator_invest\n",
    "        total_score = numerator/np.sqrt(denominator)\n",
    "        feature_set.append(best_pos)\n",
    "        print total_score\n",
    "        \n",
    "    return feature_set\n",
    "\n",
    "cfs(1000)"
   ]
  },
  {
   "cell_type": "code",
   "execution_count": 97,
   "metadata": {
    "collapsed": false
   },
   "outputs": [
    {
     "data": {
      "text/plain": [
       "[48, 101, 56, 10, 14, 52, 71, 51, 15, 75, 89, 73, 11, 85, 16]"
      ]
     },
     "execution_count": 97,
     "metadata": {},
     "output_type": "execute_result"
    }
   ],
   "source": [
    "feature_set"
   ]
  },
  {
   "cell_type": "code",
   "execution_count": null,
   "metadata": {
    "collapsed": true
   },
   "outputs": [],
   "source": []
  }
 ],
 "metadata": {
  "kernelspec": {
   "display_name": "Python 2",
   "language": "python",
   "name": "python2"
  },
  "language_info": {
   "codemirror_mode": {
    "name": "ipython",
    "version": 2
   },
   "file_extension": ".py",
   "mimetype": "text/x-python",
   "name": "python",
   "nbconvert_exporter": "python",
   "pygments_lexer": "ipython2",
   "version": "2.7.10"
  }
 },
 "nbformat": 4,
 "nbformat_minor": 0
}
