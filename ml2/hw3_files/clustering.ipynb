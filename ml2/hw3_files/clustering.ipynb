{
 "cells": [
  {
   "cell_type": "code",
   "execution_count": 1,
   "metadata": {
    "collapsed": false
   },
   "outputs": [],
   "source": [
    "%load_ext autoreload\n",
    "%autoreload 2\n",
    "%matplotlib inline"
   ]
  },
  {
   "cell_type": "code",
   "execution_count": 2,
   "metadata": {
    "collapsed": true
   },
   "outputs": [],
   "source": [
    "import random\n",
    "import commands\n",
    "import pandas as pd\n",
    "import numpy as np\n",
    "\n",
    "from matplotlib import pyplot as plt\n",
    "\n",
    "from sklearn.ensemble import BaggingRegressor\n",
    "from sklearn.linear_model import ElasticNet\n",
    "from sklearn.metrics import mean_squared_error\n",
    "\n",
    "from joblib import Parallel as P\n",
    "from joblib import delayed as dl"
   ]
  },
  {
   "cell_type": "code",
   "execution_count": 3,
   "metadata": {
    "collapsed": true
   },
   "outputs": [],
   "source": [
    "import os\n",
    "\n",
    "dfs = []\n",
    "for file in os.listdir(\"./private/\"):\n",
    "    if file.endswith(\".csv\"):\n",
    "        dfs.append(pd.read_csv(\"./private/\"+file, header=None, index_col=0))"
   ]
  },
  {
   "cell_type": "code",
   "execution_count": 4,
   "metadata": {
    "collapsed": true
   },
   "outputs": [],
   "source": [
    "df_y = pd.concat(dfs).drop_duplicates()\n",
    "df_y.index.name = 'id'\n",
    "df_y.columns = [\"y\"]"
   ]
  },
  {
   "cell_type": "code",
   "execution_count": 5,
   "metadata": {
    "collapsed": true
   },
   "outputs": [],
   "source": [
    "df_X = pd.read_csv(\"./X_private.csv\", index_col=0)"
   ]
  },
  {
   "cell_type": "code",
   "execution_count": 45,
   "metadata": {
    "collapsed": true
   },
   "outputs": [],
   "source": [
    "SIZE = 7000"
   ]
  },
  {
   "cell_type": "code",
   "execution_count": 46,
   "metadata": {
    "collapsed": true
   },
   "outputs": [],
   "source": [
    "y_train_df = df_y.iloc[:SIZE]\n",
    "x_train_df = df_X.loc[y_train_df.index]\n",
    "\n",
    "train_df = pd.concat([y_train_df, x_train_df], axis=1)"
   ]
  },
  {
   "cell_type": "code",
   "execution_count": 47,
   "metadata": {
    "collapsed": true
   },
   "outputs": [],
   "source": [
    "y_test_df = df_y.iloc[SIZE:SIZE + 7000]\n",
    "x_test_df = df_X.loc[y_test_df.index]\n",
    "\n",
    "test_df = pd.concat([y_test_df, x_test_df], axis=1)"
   ]
  },
  {
   "cell_type": "code",
   "execution_count": 48,
   "metadata": {
    "collapsed": true
   },
   "outputs": [],
   "source": [
    "pool_df = df_X.drop(y_train_df.index)"
   ]
  },
  {
   "cell_type": "code",
   "execution_count": 49,
   "metadata": {
    "collapsed": true
   },
   "outputs": [],
   "source": [
    "from sklearn.cluster import Birch\n",
    "from sklearn.cluster import KMeans, MiniBatchKMeans\n",
    "from sklearn.ensemble import GradientBoostingRegressor"
   ]
  },
  {
   "cell_type": "code",
   "execution_count": 50,
   "metadata": {
    "collapsed": false
   },
   "outputs": [
    {
     "data": {
      "text/plain": [
       "GradientBoostingRegressor(alpha=0.9, init=None, learning_rate=0.2, loss='ls',\n",
       "             max_depth=5, max_features=None, max_leaf_nodes=None,\n",
       "             min_samples_leaf=1, min_samples_split=2,\n",
       "             min_weight_fraction_leaf=0.0, n_estimators=2800,\n",
       "             random_state=300, subsample=1.0, verbose=0, warm_start=False)"
      ]
     },
     "execution_count": 50,
     "metadata": {},
     "output_type": "execute_result"
    }
   ],
   "source": [
    "regr = GradientBoostingRegressor(n_estimators=2800, max_depth=5, learning_rate=0.2, random_state=300)\n",
    "x_train = train_df.iloc[:,1:]\n",
    "y_train = train_df.iloc[:,0]\n",
    "regr.fit(x_train, y_train)\n",
    "# score = rmse(y_test, regr.predict(x_test))\n",
    "# scores.append(score)\n",
    "\n",
    "## error predictor\n",
    "y_error = np.abs(y_train - regr.predict(x_train))\n",
    "regr.fit(x_train, y_error)"
   ]
  },
  {
   "cell_type": "code",
   "execution_count": 151,
   "metadata": {
    "collapsed": true
   },
   "outputs": [],
   "source": [
    "x_pool = pool_df.sample(100000)\n",
    "y_pool_error = regr.predict(x_pool)"
   ]
  },
  {
   "cell_type": "code",
   "execution_count": 152,
   "metadata": {
    "collapsed": false
   },
   "outputs": [],
   "source": [
    "# sorted_idx = np.argsort(y_pool_error)\n",
    "arange = np.arange(len(y_pool_error))\n",
    "thresh_idx = y_pool_error > np.mean(y_pool_error) + 2*np.std(y_pool_error)\n",
    "target_idx = arange[thresh_idx]\n",
    "target_pool_x = x_pool.iloc[target_idx]\n",
    "target_pool_y_error = y_pool_error[thresh_idx]"
   ]
  },
  {
   "cell_type": "code",
   "execution_count": 153,
   "metadata": {
    "collapsed": false
   },
   "outputs": [
    {
     "data": {
      "text/plain": [
       "[<matplotlib.lines.Line2D at 0x11b923410>]"
      ]
     },
     "execution_count": 153,
     "metadata": {},
     "output_type": "execute_result"
    },
    {
     "data": {
      "image/png": "[encoded data removed]",
      "text/plain": [
       "<matplotlib.figure.Figure at 0x11bbbb690>"
      ]
     },
     "metadata": {},
     "output_type": "display_data"
    }
   ],
   "source": [
    "plt.plot(np.sort(target_pool_y_error))"
   ]
  },
  {
   "cell_type": "code",
   "execution_count": 154,
   "metadata": {
    "collapsed": true
   },
   "outputs": [],
   "source": [
    "minibatch = MiniBatchKMeans(n_clusters=300, batch_size=600)"
   ]
  },
  {
   "cell_type": "code",
   "execution_count": 155,
   "metadata": {
    "collapsed": false
   },
   "outputs": [],
   "source": [
    "minibatch.fit(target_pool_x)\n",
    "uniq,inverse,counts = np.unique(minibatch.labels_, return_inverse=True, return_counts=True)\n",
    "density = counts/float(len(target_x))\n",
    "target_pool_density = density[minibatch.labels_]\n",
    "\n",
    "fi = target_pool_density*target_pool_y_error\n",
    "max300 = np.argsort(fi)[-200:]\n",
    "\n",
    "target_x = target_pool_x.iloc[max300]"
   ]
  },
  {
   "cell_type": "code",
   "execution_count": 172,
   "metadata": {
    "collapsed": false
   },
   "outputs": [],
   "source": [
    "targed_index = []\n",
    "for i in np.argsort(counts)[-20:]:\n",
    "    targed_index += list(((target_pool_x[uniq[i] == minibatch.labels_]).index))"
   ]
  },
  {
   "cell_type": "code",
   "execution_count": 174,
   "metadata": {
    "collapsed": false
   },
   "outputs": [
    {
     "data": {
      "text/plain": [
       "288"
      ]
     },
     "execution_count": 174,
     "metadata": {},
     "output_type": "execute_result"
    }
   ],
   "source": [
    "len(targed_index)"
   ]
  },
  {
   "cell_type": "code",
   "execution_count": 189,
   "metadata": {
    "collapsed": true
   },
   "outputs": [],
   "source": [
    "from sklearn.cross_validation import cross_val_score"
   ]
  },
  {
   "cell_type": "code",
   "execution_count": null,
   "metadata": {
    "collapsed": true
   },
   "outputs": [],
   "source": [
    "cross_val_score()"
   ]
  },
  {
   "cell_type": "code",
   "execution_count": null,
   "metadata": {
    "collapsed": true
   },
   "outputs": [],
   "source": [
    "def cv_score(estimator, x, y):\n",
    "    ind = KFold(len(x), n_folds = 3, shuffle = True)\n",
    "    \n",
    "    score = 0\n",
    "\n",
    "    for train_ind, test_ind in KFold(len(x), n_folds = 3, shuffle = True):\n",
    "        x_train, x_test = x[train_ind], x[test_ind]\n",
    "        y_train, y_test = y[train_ind], y[test_ind]\n",
    "        estimator.fit(x_train, y_train)\n",
    "        \n",
    "        y_pred = estimator.predict(x_test)\n",
    "        score += mean_squared_error(y_test, y_pred)\n",
    "    \n",
    "    return np.sqrt(score / 3.0)\n"
   ]
  },
  {
   "cell_type": "code",
   "execution_count": null,
   "metadata": {
    "collapsed": true
   },
   "outputs": [],
   "source": [
    "ind = KFold(len(x), n_folds = 3, shuffle = True)\n",
    "\n",
    "for train_ind, test_ind in KFold(len(x), n_folds = 3, shuffle = True):\n",
    "    x_train, x_test = x[train_ind], x[test_ind]\n",
    "    y_train, y_test = y[train_ind], y[test_ind]\n",
    "    gb.fit(x_train, y_train)\n",
    "    y_gb = gb.predict(x_test)\n",
    "    gb_mse += mean_squared_error(y_gb, y_test)\n",
    "score = np.sqrt(gb_mse / 3.0)\n"
   ]
  },
  {
   "cell_type": "code",
   "execution_count": null,
   "metadata": {
    "collapsed": true
   },
   "outputs": [],
   "source": []
  },
  {
   "cell_type": "code",
   "execution_count": 150,
   "metadata": {
    "collapsed": false
   },
   "outputs": [],
   "source": [
    "import random"
   ]
  },
  {
   "cell_type": "code",
   "execution_count": 178,
   "metadata": {
    "collapsed": false
   },
   "outputs": [
    {
     "ename": "AttributeError",
     "evalue": "'numpy.ndarray' object has no attribute 'sample'",
     "output_type": "error",
     "traceback": [
      "\u001b[0;31m---------------------------------------------------------------------------\u001b[0m",
      "\u001b[0;31mAttributeError\u001b[0m                            Traceback (most recent call last)",
      "\u001b[0;32m<ipython-input-178-ab37c67aee2a>\u001b[0m in \u001b[0;36m<module>\u001b[0;34m()\u001b[0m\n\u001b[0;32m----> 1\u001b[0;31m \u001b[0mnp\u001b[0m\u001b[0;34m.\u001b[0m\u001b[0marray\u001b[0m\u001b[0;34m(\u001b[0m\u001b[0mrange\u001b[0m\u001b[0;34m(\u001b[0m\u001b[0;36m100\u001b[0m\u001b[0;34m)\u001b[0m\u001b[0;34m)\u001b[0m\u001b[0;34m.\u001b[0m\u001b[0msample\u001b[0m\u001b[0;34m(\u001b[0m\u001b[0;36m10\u001b[0m\u001b[0;34m)\u001b[0m\u001b[0;34m\u001b[0m\u001b[0m\n\u001b[0m",
      "\u001b[0;31mAttributeError\u001b[0m: 'numpy.ndarray' object has no attribute 'sample'"
     ]
    }
   ],
   "source": [
    "np.array(range(100)).sample(10)"
   ]
  },
  {
   "cell_type": "code",
   "execution_count": 180,
   "metadata": {
    "collapsed": false
   },
   "outputs": [
    {
     "data": {
      "text/plain": [
       "array([ 0.82800188,  0.56074288,  0.66606751,  0.7467582 ,  0.78481349,\n",
       "        0.70412856,  0.0888286 ,  0.91579899,  0.91100164,  0.94479108])"
      ]
     },
     "execution_count": 180,
     "metadata": {},
     "output_type": "execute_result"
    }
   ],
   "source": [
    "np.random.sample(10)"
   ]
  },
  {
   "cell_type": "code",
   "execution_count": 187,
   "metadata": {
    "collapsed": false
   },
   "outputs": [
    {
     "data": {
      "text/plain": [
       "array([2, 3])"
      ]
     },
     "execution_count": 187,
     "metadata": {},
     "output_type": "execute_result"
    }
   ],
   "source": [
    "np.random.choice([1,2,3], 2, replace=False)"
   ]
  },
  {
   "cell_type": "code",
   "execution_count": 188,
   "metadata": {
    "collapsed": false
   },
   "outputs": [
    {
     "ename": "ValueError",
     "evalue": "sample larger than population",
     "output_type": "error",
     "traceback": [
      "\u001b[0;31m---------------------------------------------------------------------------\u001b[0m",
      "\u001b[0;31mValueError\u001b[0m                                Traceback (most recent call last)",
      "\u001b[0;32m<ipython-input-188-b57a1fd92124>\u001b[0m in \u001b[0;36m<module>\u001b[0;34m()\u001b[0m\n\u001b[0;32m----> 1\u001b[0;31m \u001b[0mrandom\u001b[0m\u001b[0;34m.\u001b[0m\u001b[0msample\u001b[0m\u001b[0;34m(\u001b[0m\u001b[0;34m[\u001b[0m\u001b[0;36m1\u001b[0m\u001b[0;34m,\u001b[0m\u001b[0;36m2\u001b[0m\u001b[0;34m,\u001b[0m\u001b[0;36m3\u001b[0m\u001b[0;34m]\u001b[0m\u001b[0;34m,\u001b[0m \u001b[0;36m4\u001b[0m\u001b[0;34m)\u001b[0m\u001b[0;34m\u001b[0m\u001b[0m\n\u001b[0m",
      "\u001b[0;32m/Users/kopbob/.pyenv/versions/2.7.10/lib/python2.7/random.pyc\u001b[0m in \u001b[0;36msample\u001b[0;34m(self, population, k)\u001b[0m\n\u001b[1;32m    321\u001b[0m         \u001b[0mn\u001b[0m \u001b[0;34m=\u001b[0m \u001b[0mlen\u001b[0m\u001b[0;34m(\u001b[0m\u001b[0mpopulation\u001b[0m\u001b[0;34m)\u001b[0m\u001b[0;34m\u001b[0m\u001b[0m\n\u001b[1;32m    322\u001b[0m         \u001b[0;32mif\u001b[0m \u001b[0;32mnot\u001b[0m \u001b[0;36m0\u001b[0m \u001b[0;34m<=\u001b[0m \u001b[0mk\u001b[0m \u001b[0;34m<=\u001b[0m \u001b[0mn\u001b[0m\u001b[0;34m:\u001b[0m\u001b[0;34m\u001b[0m\u001b[0m\n\u001b[0;32m--> 323\u001b[0;31m             \u001b[0;32mraise\u001b[0m \u001b[0mValueError\u001b[0m\u001b[0;34m(\u001b[0m\u001b[0;34m\"sample larger than population\"\u001b[0m\u001b[0;34m)\u001b[0m\u001b[0;34m\u001b[0m\u001b[0m\n\u001b[0m\u001b[1;32m    324\u001b[0m         \u001b[0mrandom\u001b[0m \u001b[0;34m=\u001b[0m \u001b[0mself\u001b[0m\u001b[0;34m.\u001b[0m\u001b[0mrandom\u001b[0m\u001b[0;34m\u001b[0m\u001b[0m\n\u001b[1;32m    325\u001b[0m         \u001b[0m_int\u001b[0m \u001b[0;34m=\u001b[0m \u001b[0mint\u001b[0m\u001b[0;34m\u001b[0m\u001b[0m\n",
      "\u001b[0;31mValueError\u001b[0m: sample larger than population"
     ]
    }
   ],
   "source": [
    "random.sample([1,2,3], 4)"
   ]
  },
  {
   "cell_type": "code",
   "execution_count": 126,
   "metadata": {
    "collapsed": false
   },
   "outputs": [],
   "source": [
    "# target_pool_x\n",
    "# target_pool_density\n",
    "# target_pool_y_error"
   ]
  },
  {
   "cell_type": "code",
   "execution_count": 138,
   "metadata": {
    "collapsed": false
   },
   "outputs": [],
   "source": [
    "fi = target_pool_density*target_pool_y_error\n",
    "max300 = np.argsort(fi)[-200:]"
   ]
  },
  {
   "cell_type": "code",
   "execution_count": 139,
   "metadata": {
    "collapsed": false
   },
   "outputs": [],
   "source": [
    "target_x = target_pool_x.iloc[max300]"
   ]
  },
  {
   "cell_type": "code",
   "execution_count": 140,
   "metadata": {
    "collapsed": false
   },
   "outputs": [
    {
     "data": {
      "text/html": [
       "<div>\n",
       "<table border=\"1\" class=\"dataframe\">\n",
       "  <thead>\n",
       "    <tr style=\"text-align: right;\">\n",
       "      <th></th>\n",
       "      <th>x_0</th>\n",
       "      <th>x_1</th>\n",
       "      <th>x_2</th>\n",
       "      <th>x_3</th>\n",
       "      <th>x_4</th>\n",
       "      <th>x_5</th>\n",
       "      <th>x_6</th>\n",
       "      <th>x_7</th>\n",
       "      <th>x_8</th>\n",
       "      <th>x_9</th>\n",
       "    </tr>\n",
       "    <tr>\n",
       "      <th>id</th>\n",
       "      <th></th>\n",
       "      <th></th>\n",
       "      <th></th>\n",
       "      <th></th>\n",
       "      <th></th>\n",
       "      <th></th>\n",
       "      <th></th>\n",
       "      <th></th>\n",
       "      <th></th>\n",
       "      <th></th>\n",
       "    </tr>\n",
       "  </thead>\n",
       "  <tbody>\n",
       "    <tr>\n",
       "      <th>275062</th>\n",
       "      <td>4.031688</td>\n",
       "      <td>4.336272</td>\n",
       "      <td>1.186491</td>\n",
       "      <td>1.389873</td>\n",
       "      <td>2.520061</td>\n",
       "      <td>3.289914</td>\n",
       "      <td>2.052517</td>\n",
       "      <td>2.286284</td>\n",
       "      <td>2.953854</td>\n",
       "      <td>0.907174</td>\n",
       "    </tr>\n",
       "    <tr>\n",
       "      <th>18083</th>\n",
       "      <td>1.855344</td>\n",
       "      <td>2.905103</td>\n",
       "      <td>1.049499</td>\n",
       "      <td>2.450065</td>\n",
       "      <td>3.102677</td>\n",
       "      <td>1.851105</td>\n",
       "      <td>3.816700</td>\n",
       "      <td>2.826285</td>\n",
       "      <td>4.188971</td>\n",
       "      <td>2.158486</td>\n",
       "    </tr>\n",
       "    <tr>\n",
       "      <th>988277</th>\n",
       "      <td>4.100818</td>\n",
       "      <td>4.479436</td>\n",
       "      <td>3.195098</td>\n",
       "      <td>4.727710</td>\n",
       "      <td>3.954484</td>\n",
       "      <td>4.636168</td>\n",
       "      <td>3.051225</td>\n",
       "      <td>3.708196</td>\n",
       "      <td>1.451083</td>\n",
       "      <td>1.570977</td>\n",
       "    </tr>\n",
       "    <tr>\n",
       "      <th>839547</th>\n",
       "      <td>4.127689</td>\n",
       "      <td>4.263057</td>\n",
       "      <td>3.437074</td>\n",
       "      <td>3.527570</td>\n",
       "      <td>2.794823</td>\n",
       "      <td>2.913432</td>\n",
       "      <td>3.216707</td>\n",
       "      <td>3.036106</td>\n",
       "      <td>3.336881</td>\n",
       "      <td>3.219157</td>\n",
       "    </tr>\n",
       "    <tr>\n",
       "      <th>72492</th>\n",
       "      <td>2.861672</td>\n",
       "      <td>3.096226</td>\n",
       "      <td>0.950809</td>\n",
       "      <td>3.315071</td>\n",
       "      <td>3.036742</td>\n",
       "      <td>2.333655</td>\n",
       "      <td>2.212129</td>\n",
       "      <td>1.275586</td>\n",
       "      <td>2.050158</td>\n",
       "      <td>3.695409</td>\n",
       "    </tr>\n",
       "    <tr>\n",
       "      <th>16826</th>\n",
       "      <td>2.960978</td>\n",
       "      <td>4.709596</td>\n",
       "      <td>1.414252</td>\n",
       "      <td>4.412884</td>\n",
       "      <td>3.783606</td>\n",
       "      <td>0.218571</td>\n",
       "      <td>4.352095</td>\n",
       "      <td>1.011921</td>\n",
       "      <td>0.600149</td>\n",
       "      <td>1.793956</td>\n",
       "    </tr>\n",
       "    <tr>\n",
       "      <th>341277</th>\n",
       "      <td>2.272226</td>\n",
       "      <td>1.500254</td>\n",
       "      <td>1.235395</td>\n",
       "      <td>0.916075</td>\n",
       "      <td>2.170392</td>\n",
       "      <td>1.402976</td>\n",
       "      <td>3.598486</td>\n",
       "      <td>1.528519</td>\n",
       "      <td>2.692344</td>\n",
       "      <td>3.026489</td>\n",
       "    </tr>\n",
       "    <tr>\n",
       "      <th>859145</th>\n",
       "      <td>4.327741</td>\n",
       "      <td>3.342099</td>\n",
       "      <td>2.017657</td>\n",
       "      <td>4.302191</td>\n",
       "      <td>2.488933</td>\n",
       "      <td>2.813314</td>\n",
       "      <td>3.995887</td>\n",
       "      <td>2.559024</td>\n",
       "      <td>2.835812</td>\n",
       "      <td>2.919200</td>\n",
       "    </tr>\n",
       "    <tr>\n",
       "      <th>579555</th>\n",
       "      <td>1.705156</td>\n",
       "      <td>4.433527</td>\n",
       "      <td>1.180599</td>\n",
       "      <td>2.796052</td>\n",
       "      <td>3.184135</td>\n",
       "      <td>1.990399</td>\n",
       "      <td>1.857481</td>\n",
       "      <td>3.894472</td>\n",
       "      <td>3.814858</td>\n",
       "      <td>1.340796</td>\n",
       "    </tr>\n",
       "    <tr>\n",
       "      <th>196661</th>\n",
       "      <td>4.898904</td>\n",
       "      <td>4.536144</td>\n",
       "      <td>3.173619</td>\n",
       "      <td>3.852723</td>\n",
       "      <td>1.960762</td>\n",
       "      <td>0.876802</td>\n",
       "      <td>3.821218</td>\n",
       "      <td>3.987863</td>\n",
       "      <td>2.637386</td>\n",
       "      <td>2.566167</td>\n",
       "    </tr>\n",
       "    <tr>\n",
       "      <th>17240</th>\n",
       "      <td>3.419119</td>\n",
       "      <td>1.947548</td>\n",
       "      <td>1.240952</td>\n",
       "      <td>1.819966</td>\n",
       "      <td>3.000649</td>\n",
       "      <td>0.862816</td>\n",
       "      <td>3.154101</td>\n",
       "      <td>2.873160</td>\n",
       "      <td>2.195406</td>\n",
       "      <td>2.786052</td>\n",
       "    </tr>\n",
       "    <tr>\n",
       "      <th>338594</th>\n",
       "      <td>4.429079</td>\n",
       "      <td>3.205945</td>\n",
       "      <td>2.626601</td>\n",
       "      <td>3.877023</td>\n",
       "      <td>2.594463</td>\n",
       "      <td>2.779090</td>\n",
       "      <td>3.796219</td>\n",
       "      <td>2.853312</td>\n",
       "      <td>2.619613</td>\n",
       "      <td>2.125226</td>\n",
       "    </tr>\n",
       "    <tr>\n",
       "      <th>942870</th>\n",
       "      <td>3.567271</td>\n",
       "      <td>1.210413</td>\n",
       "      <td>1.106115</td>\n",
       "      <td>2.023192</td>\n",
       "      <td>1.188638</td>\n",
       "      <td>2.902676</td>\n",
       "      <td>3.047636</td>\n",
       "      <td>2.912661</td>\n",
       "      <td>1.078962</td>\n",
       "      <td>3.272305</td>\n",
       "    </tr>\n",
       "    <tr>\n",
       "      <th>940441</th>\n",
       "      <td>4.168807</td>\n",
       "      <td>4.431986</td>\n",
       "      <td>0.737729</td>\n",
       "      <td>3.340413</td>\n",
       "      <td>0.811247</td>\n",
       "      <td>1.375555</td>\n",
       "      <td>2.829359</td>\n",
       "      <td>2.052853</td>\n",
       "      <td>2.640165</td>\n",
       "      <td>1.920635</td>\n",
       "    </tr>\n",
       "    <tr>\n",
       "      <th>839664</th>\n",
       "      <td>4.144440</td>\n",
       "      <td>4.370267</td>\n",
       "      <td>1.460566</td>\n",
       "      <td>2.777414</td>\n",
       "      <td>2.194768</td>\n",
       "      <td>1.656460</td>\n",
       "      <td>2.340849</td>\n",
       "      <td>1.338588</td>\n",
       "      <td>4.245691</td>\n",
       "      <td>1.013099</td>\n",
       "    </tr>\n",
       "    <tr>\n",
       "      <th>695738</th>\n",
       "      <td>4.089660</td>\n",
       "      <td>4.042791</td>\n",
       "      <td>1.536795</td>\n",
       "      <td>2.140105</td>\n",
       "      <td>4.721145</td>\n",
       "      <td>2.186805</td>\n",
       "      <td>2.746267</td>\n",
       "      <td>1.546802</td>\n",
       "      <td>1.274574</td>\n",
       "      <td>1.480014</td>\n",
       "    </tr>\n",
       "    <tr>\n",
       "      <th>894283</th>\n",
       "      <td>4.422409</td>\n",
       "      <td>4.701585</td>\n",
       "      <td>3.287824</td>\n",
       "      <td>1.678456</td>\n",
       "      <td>2.599643</td>\n",
       "      <td>2.289055</td>\n",
       "      <td>3.885077</td>\n",
       "      <td>2.298309</td>\n",
       "      <td>2.570123</td>\n",
       "      <td>1.626540</td>\n",
       "    </tr>\n",
       "    <tr>\n",
       "      <th>396060</th>\n",
       "      <td>0.659026</td>\n",
       "      <td>1.491604</td>\n",
       "      <td>3.305055</td>\n",
       "      <td>1.437419</td>\n",
       "      <td>3.519851</td>\n",
       "      <td>2.485371</td>\n",
       "      <td>3.264072</td>\n",
       "      <td>3.498651</td>\n",
       "      <td>3.019026</td>\n",
       "      <td>1.422684</td>\n",
       "    </tr>\n",
       "    <tr>\n",
       "      <th>790365</th>\n",
       "      <td>1.814328</td>\n",
       "      <td>4.334964</td>\n",
       "      <td>0.814905</td>\n",
       "      <td>1.358450</td>\n",
       "      <td>3.789510</td>\n",
       "      <td>1.230863</td>\n",
       "      <td>3.447847</td>\n",
       "      <td>3.094796</td>\n",
       "      <td>2.869040</td>\n",
       "      <td>0.934748</td>\n",
       "    </tr>\n",
       "    <tr>\n",
       "      <th>474650</th>\n",
       "      <td>4.099796</td>\n",
       "      <td>4.300284</td>\n",
       "      <td>2.041893</td>\n",
       "      <td>3.209553</td>\n",
       "      <td>2.283258</td>\n",
       "      <td>3.024931</td>\n",
       "      <td>1.883590</td>\n",
       "      <td>3.104745</td>\n",
       "      <td>3.687970</td>\n",
       "      <td>3.237623</td>\n",
       "    </tr>\n",
       "    <tr>\n",
       "      <th>357221</th>\n",
       "      <td>4.253569</td>\n",
       "      <td>2.291871</td>\n",
       "      <td>1.051183</td>\n",
       "      <td>2.005503</td>\n",
       "      <td>1.263814</td>\n",
       "      <td>2.189338</td>\n",
       "      <td>2.840475</td>\n",
       "      <td>2.755021</td>\n",
       "      <td>2.621342</td>\n",
       "      <td>2.203700</td>\n",
       "    </tr>\n",
       "    <tr>\n",
       "      <th>837443</th>\n",
       "      <td>2.363857</td>\n",
       "      <td>4.753026</td>\n",
       "      <td>2.018900</td>\n",
       "      <td>2.855699</td>\n",
       "      <td>4.004046</td>\n",
       "      <td>1.809359</td>\n",
       "      <td>3.714190</td>\n",
       "      <td>1.553483</td>\n",
       "      <td>2.407176</td>\n",
       "      <td>3.417869</td>\n",
       "    </tr>\n",
       "    <tr>\n",
       "      <th>537251</th>\n",
       "      <td>4.451110</td>\n",
       "      <td>1.324184</td>\n",
       "      <td>0.630618</td>\n",
       "      <td>4.083183</td>\n",
       "      <td>1.532136</td>\n",
       "      <td>1.782424</td>\n",
       "      <td>2.439059</td>\n",
       "      <td>3.333406</td>\n",
       "      <td>2.738331</td>\n",
       "      <td>2.291335</td>\n",
       "    </tr>\n",
       "    <tr>\n",
       "      <th>462886</th>\n",
       "      <td>0.125010</td>\n",
       "      <td>1.634317</td>\n",
       "      <td>2.826291</td>\n",
       "      <td>3.410578</td>\n",
       "      <td>2.071872</td>\n",
       "      <td>1.383243</td>\n",
       "      <td>2.126394</td>\n",
       "      <td>2.228655</td>\n",
       "      <td>4.308107</td>\n",
       "      <td>2.839823</td>\n",
       "    </tr>\n",
       "    <tr>\n",
       "      <th>846104</th>\n",
       "      <td>0.558227</td>\n",
       "      <td>3.842231</td>\n",
       "      <td>0.897234</td>\n",
       "      <td>1.067510</td>\n",
       "      <td>2.378135</td>\n",
       "      <td>2.444122</td>\n",
       "      <td>3.376491</td>\n",
       "      <td>3.350643</td>\n",
       "      <td>2.591357</td>\n",
       "      <td>1.989547</td>\n",
       "    </tr>\n",
       "    <tr>\n",
       "      <th>931500</th>\n",
       "      <td>4.309909</td>\n",
       "      <td>4.304817</td>\n",
       "      <td>2.349444</td>\n",
       "      <td>3.051077</td>\n",
       "      <td>3.584898</td>\n",
       "      <td>3.103470</td>\n",
       "      <td>1.885429</td>\n",
       "      <td>2.766935</td>\n",
       "      <td>4.152674</td>\n",
       "      <td>2.376572</td>\n",
       "    </tr>\n",
       "    <tr>\n",
       "      <th>896244</th>\n",
       "      <td>2.862572</td>\n",
       "      <td>3.988814</td>\n",
       "      <td>3.071822</td>\n",
       "      <td>3.771833</td>\n",
       "      <td>1.592172</td>\n",
       "      <td>0.302447</td>\n",
       "      <td>3.235694</td>\n",
       "      <td>3.611286</td>\n",
       "      <td>3.232572</td>\n",
       "      <td>2.854045</td>\n",
       "    </tr>\n",
       "    <tr>\n",
       "      <th>382386</th>\n",
       "      <td>4.268489</td>\n",
       "      <td>4.426177</td>\n",
       "      <td>3.606233</td>\n",
       "      <td>4.200856</td>\n",
       "      <td>3.118551</td>\n",
       "      <td>1.572837</td>\n",
       "      <td>1.965091</td>\n",
       "      <td>0.834885</td>\n",
       "      <td>0.909870</td>\n",
       "      <td>3.049813</td>\n",
       "    </tr>\n",
       "    <tr>\n",
       "      <th>975065</th>\n",
       "      <td>3.861613</td>\n",
       "      <td>2.721972</td>\n",
       "      <td>1.172441</td>\n",
       "      <td>3.028240</td>\n",
       "      <td>1.832440</td>\n",
       "      <td>1.454939</td>\n",
       "      <td>3.840244</td>\n",
       "      <td>3.078652</td>\n",
       "      <td>2.575072</td>\n",
       "      <td>2.689913</td>\n",
       "    </tr>\n",
       "    <tr>\n",
       "      <th>475850</th>\n",
       "      <td>4.259645</td>\n",
       "      <td>3.650790</td>\n",
       "      <td>3.650886</td>\n",
       "      <td>3.653619</td>\n",
       "      <td>1.146337</td>\n",
       "      <td>0.284672</td>\n",
       "      <td>3.155404</td>\n",
       "      <td>2.262397</td>\n",
       "      <td>3.064668</td>\n",
       "      <td>4.234599</td>\n",
       "    </tr>\n",
       "    <tr>\n",
       "      <th>...</th>\n",
       "      <td>...</td>\n",
       "      <td>...</td>\n",
       "      <td>...</td>\n",
       "      <td>...</td>\n",
       "      <td>...</td>\n",
       "      <td>...</td>\n",
       "      <td>...</td>\n",
       "      <td>...</td>\n",
       "      <td>...</td>\n",
       "      <td>...</td>\n",
       "    </tr>\n",
       "    <tr>\n",
       "      <th>75723</th>\n",
       "      <td>1.471312</td>\n",
       "      <td>3.800999</td>\n",
       "      <td>1.295248</td>\n",
       "      <td>1.795262</td>\n",
       "      <td>1.553294</td>\n",
       "      <td>2.533070</td>\n",
       "      <td>3.832976</td>\n",
       "      <td>3.394446</td>\n",
       "      <td>2.975539</td>\n",
       "      <td>2.635677</td>\n",
       "    </tr>\n",
       "    <tr>\n",
       "      <th>142943</th>\n",
       "      <td>3.185743</td>\n",
       "      <td>4.031954</td>\n",
       "      <td>2.039933</td>\n",
       "      <td>3.166395</td>\n",
       "      <td>2.719713</td>\n",
       "      <td>2.181795</td>\n",
       "      <td>1.693471</td>\n",
       "      <td>1.793674</td>\n",
       "      <td>0.803202</td>\n",
       "      <td>2.645017</td>\n",
       "    </tr>\n",
       "    <tr>\n",
       "      <th>576932</th>\n",
       "      <td>0.867635</td>\n",
       "      <td>4.502099</td>\n",
       "      <td>1.390345</td>\n",
       "      <td>3.768148</td>\n",
       "      <td>1.412685</td>\n",
       "      <td>1.744389</td>\n",
       "      <td>1.720466</td>\n",
       "      <td>4.060361</td>\n",
       "      <td>0.908570</td>\n",
       "      <td>3.020273</td>\n",
       "    </tr>\n",
       "    <tr>\n",
       "      <th>581932</th>\n",
       "      <td>3.421956</td>\n",
       "      <td>4.142315</td>\n",
       "      <td>0.871381</td>\n",
       "      <td>2.866589</td>\n",
       "      <td>3.026255</td>\n",
       "      <td>1.801658</td>\n",
       "      <td>1.241607</td>\n",
       "      <td>1.125782</td>\n",
       "      <td>4.242639</td>\n",
       "      <td>2.741609</td>\n",
       "    </tr>\n",
       "    <tr>\n",
       "      <th>737983</th>\n",
       "      <td>3.559747</td>\n",
       "      <td>4.545330</td>\n",
       "      <td>4.945144</td>\n",
       "      <td>3.330753</td>\n",
       "      <td>1.872493</td>\n",
       "      <td>1.469648</td>\n",
       "      <td>4.737089</td>\n",
       "      <td>2.245025</td>\n",
       "      <td>3.157420</td>\n",
       "      <td>4.397896</td>\n",
       "    </tr>\n",
       "    <tr>\n",
       "      <th>665364</th>\n",
       "      <td>3.647446</td>\n",
       "      <td>0.515517</td>\n",
       "      <td>3.573802</td>\n",
       "      <td>3.656412</td>\n",
       "      <td>1.787382</td>\n",
       "      <td>4.330457</td>\n",
       "      <td>2.749154</td>\n",
       "      <td>1.981513</td>\n",
       "      <td>1.453034</td>\n",
       "      <td>3.231700</td>\n",
       "    </tr>\n",
       "    <tr>\n",
       "      <th>915276</th>\n",
       "      <td>4.496977</td>\n",
       "      <td>4.157016</td>\n",
       "      <td>1.182450</td>\n",
       "      <td>2.978309</td>\n",
       "      <td>1.491339</td>\n",
       "      <td>2.122965</td>\n",
       "      <td>4.733888</td>\n",
       "      <td>3.043303</td>\n",
       "      <td>2.523777</td>\n",
       "      <td>2.520407</td>\n",
       "    </tr>\n",
       "    <tr>\n",
       "      <th>99617</th>\n",
       "      <td>1.353662</td>\n",
       "      <td>3.815119</td>\n",
       "      <td>1.202447</td>\n",
       "      <td>4.045907</td>\n",
       "      <td>3.190302</td>\n",
       "      <td>1.165200</td>\n",
       "      <td>3.190883</td>\n",
       "      <td>2.899254</td>\n",
       "      <td>0.921833</td>\n",
       "      <td>3.277066</td>\n",
       "    </tr>\n",
       "    <tr>\n",
       "      <th>820991</th>\n",
       "      <td>1.942862</td>\n",
       "      <td>4.535194</td>\n",
       "      <td>0.719846</td>\n",
       "      <td>3.897839</td>\n",
       "      <td>2.906832</td>\n",
       "      <td>2.392219</td>\n",
       "      <td>4.517038</td>\n",
       "      <td>3.015825</td>\n",
       "      <td>1.713258</td>\n",
       "      <td>2.482658</td>\n",
       "    </tr>\n",
       "    <tr>\n",
       "      <th>341238</th>\n",
       "      <td>3.139230</td>\n",
       "      <td>0.473063</td>\n",
       "      <td>1.104072</td>\n",
       "      <td>3.357975</td>\n",
       "      <td>1.641049</td>\n",
       "      <td>3.896538</td>\n",
       "      <td>1.128466</td>\n",
       "      <td>4.016107</td>\n",
       "      <td>1.636016</td>\n",
       "      <td>2.052339</td>\n",
       "    </tr>\n",
       "    <tr>\n",
       "      <th>921548</th>\n",
       "      <td>4.266302</td>\n",
       "      <td>3.662501</td>\n",
       "      <td>2.509078</td>\n",
       "      <td>3.752532</td>\n",
       "      <td>2.463619</td>\n",
       "      <td>2.529242</td>\n",
       "      <td>3.901994</td>\n",
       "      <td>3.641130</td>\n",
       "      <td>3.202910</td>\n",
       "      <td>2.026290</td>\n",
       "    </tr>\n",
       "    <tr>\n",
       "      <th>740171</th>\n",
       "      <td>0.849273</td>\n",
       "      <td>3.485844</td>\n",
       "      <td>2.011839</td>\n",
       "      <td>3.155466</td>\n",
       "      <td>0.756838</td>\n",
       "      <td>4.044857</td>\n",
       "      <td>1.791631</td>\n",
       "      <td>0.837901</td>\n",
       "      <td>1.096556</td>\n",
       "      <td>1.119104</td>\n",
       "    </tr>\n",
       "    <tr>\n",
       "      <th>969698</th>\n",
       "      <td>4.604361</td>\n",
       "      <td>4.094628</td>\n",
       "      <td>1.410179</td>\n",
       "      <td>2.680992</td>\n",
       "      <td>3.039628</td>\n",
       "      <td>1.686485</td>\n",
       "      <td>1.511234</td>\n",
       "      <td>3.101490</td>\n",
       "      <td>3.217766</td>\n",
       "      <td>1.858436</td>\n",
       "    </tr>\n",
       "    <tr>\n",
       "      <th>853515</th>\n",
       "      <td>4.324206</td>\n",
       "      <td>4.434348</td>\n",
       "      <td>1.580221</td>\n",
       "      <td>1.420506</td>\n",
       "      <td>1.804567</td>\n",
       "      <td>1.269527</td>\n",
       "      <td>1.058131</td>\n",
       "      <td>2.824954</td>\n",
       "      <td>3.618726</td>\n",
       "      <td>1.611790</td>\n",
       "    </tr>\n",
       "    <tr>\n",
       "      <th>495033</th>\n",
       "      <td>0.697490</td>\n",
       "      <td>4.457325</td>\n",
       "      <td>2.003673</td>\n",
       "      <td>2.606063</td>\n",
       "      <td>0.861352</td>\n",
       "      <td>2.202691</td>\n",
       "      <td>2.349249</td>\n",
       "      <td>1.871141</td>\n",
       "      <td>1.281304</td>\n",
       "      <td>1.899472</td>\n",
       "    </tr>\n",
       "    <tr>\n",
       "      <th>601480</th>\n",
       "      <td>4.340453</td>\n",
       "      <td>1.267159</td>\n",
       "      <td>0.202586</td>\n",
       "      <td>2.411927</td>\n",
       "      <td>1.692445</td>\n",
       "      <td>0.354431</td>\n",
       "      <td>4.380188</td>\n",
       "      <td>2.958969</td>\n",
       "      <td>2.247656</td>\n",
       "      <td>2.621534</td>\n",
       "    </tr>\n",
       "    <tr>\n",
       "      <th>94258</th>\n",
       "      <td>1.143723</td>\n",
       "      <td>1.628324</td>\n",
       "      <td>2.689361</td>\n",
       "      <td>2.842612</td>\n",
       "      <td>2.947632</td>\n",
       "      <td>1.404022</td>\n",
       "      <td>3.963759</td>\n",
       "      <td>2.776878</td>\n",
       "      <td>4.322569</td>\n",
       "      <td>2.258830</td>\n",
       "    </tr>\n",
       "    <tr>\n",
       "      <th>175</th>\n",
       "      <td>4.174930</td>\n",
       "      <td>3.959357</td>\n",
       "      <td>1.350538</td>\n",
       "      <td>1.967936</td>\n",
       "      <td>3.819459</td>\n",
       "      <td>1.005016</td>\n",
       "      <td>2.783472</td>\n",
       "      <td>1.442668</td>\n",
       "      <td>2.049653</td>\n",
       "      <td>1.923119</td>\n",
       "    </tr>\n",
       "    <tr>\n",
       "      <th>713458</th>\n",
       "      <td>1.771660</td>\n",
       "      <td>4.391050</td>\n",
       "      <td>0.996792</td>\n",
       "      <td>4.006732</td>\n",
       "      <td>3.244452</td>\n",
       "      <td>1.698907</td>\n",
       "      <td>2.248677</td>\n",
       "      <td>4.359592</td>\n",
       "      <td>1.888837</td>\n",
       "      <td>0.895199</td>\n",
       "    </tr>\n",
       "    <tr>\n",
       "      <th>12022</th>\n",
       "      <td>4.761176</td>\n",
       "      <td>3.447761</td>\n",
       "      <td>1.367457</td>\n",
       "      <td>3.881154</td>\n",
       "      <td>3.216106</td>\n",
       "      <td>2.116699</td>\n",
       "      <td>2.405376</td>\n",
       "      <td>2.080632</td>\n",
       "      <td>2.470617</td>\n",
       "      <td>2.612354</td>\n",
       "    </tr>\n",
       "    <tr>\n",
       "      <th>966556</th>\n",
       "      <td>4.546245</td>\n",
       "      <td>0.530111</td>\n",
       "      <td>1.070294</td>\n",
       "      <td>1.343062</td>\n",
       "      <td>2.059701</td>\n",
       "      <td>2.501092</td>\n",
       "      <td>1.980080</td>\n",
       "      <td>4.118636</td>\n",
       "      <td>2.629183</td>\n",
       "      <td>3.196190</td>\n",
       "    </tr>\n",
       "    <tr>\n",
       "      <th>791216</th>\n",
       "      <td>4.100238</td>\n",
       "      <td>4.214213</td>\n",
       "      <td>1.692025</td>\n",
       "      <td>1.767720</td>\n",
       "      <td>3.581700</td>\n",
       "      <td>1.026863</td>\n",
       "      <td>1.693782</td>\n",
       "      <td>3.500959</td>\n",
       "      <td>2.896452</td>\n",
       "      <td>1.468849</td>\n",
       "    </tr>\n",
       "    <tr>\n",
       "      <th>374145</th>\n",
       "      <td>1.090823</td>\n",
       "      <td>3.440692</td>\n",
       "      <td>2.049404</td>\n",
       "      <td>3.348635</td>\n",
       "      <td>2.764699</td>\n",
       "      <td>2.503919</td>\n",
       "      <td>3.332378</td>\n",
       "      <td>4.226436</td>\n",
       "      <td>2.185802</td>\n",
       "      <td>1.748727</td>\n",
       "    </tr>\n",
       "    <tr>\n",
       "      <th>299270</th>\n",
       "      <td>4.287672</td>\n",
       "      <td>1.813146</td>\n",
       "      <td>1.288106</td>\n",
       "      <td>1.125655</td>\n",
       "      <td>2.450565</td>\n",
       "      <td>1.118000</td>\n",
       "      <td>2.917394</td>\n",
       "      <td>1.057958</td>\n",
       "      <td>2.744140</td>\n",
       "      <td>1.466327</td>\n",
       "    </tr>\n",
       "    <tr>\n",
       "      <th>663982</th>\n",
       "      <td>1.775910</td>\n",
       "      <td>4.413042</td>\n",
       "      <td>1.875633</td>\n",
       "      <td>4.200832</td>\n",
       "      <td>3.766898</td>\n",
       "      <td>1.164399</td>\n",
       "      <td>3.403396</td>\n",
       "      <td>2.957243</td>\n",
       "      <td>2.426084</td>\n",
       "      <td>2.502219</td>\n",
       "    </tr>\n",
       "    <tr>\n",
       "      <th>274581</th>\n",
       "      <td>1.839367</td>\n",
       "      <td>1.775119</td>\n",
       "      <td>1.163568</td>\n",
       "      <td>2.080645</td>\n",
       "      <td>2.545908</td>\n",
       "      <td>1.415065</td>\n",
       "      <td>3.181162</td>\n",
       "      <td>1.916252</td>\n",
       "      <td>2.202487</td>\n",
       "      <td>2.210954</td>\n",
       "    </tr>\n",
       "    <tr>\n",
       "      <th>533975</th>\n",
       "      <td>4.528858</td>\n",
       "      <td>2.111399</td>\n",
       "      <td>3.318569</td>\n",
       "      <td>3.381959</td>\n",
       "      <td>2.548113</td>\n",
       "      <td>2.629317</td>\n",
       "      <td>4.181434</td>\n",
       "      <td>2.868153</td>\n",
       "      <td>2.351442</td>\n",
       "      <td>1.783794</td>\n",
       "    </tr>\n",
       "    <tr>\n",
       "      <th>42875</th>\n",
       "      <td>2.463615</td>\n",
       "      <td>4.422415</td>\n",
       "      <td>2.724370</td>\n",
       "      <td>4.025328</td>\n",
       "      <td>2.454009</td>\n",
       "      <td>0.823537</td>\n",
       "      <td>2.348786</td>\n",
       "      <td>2.510279</td>\n",
       "      <td>1.272454</td>\n",
       "      <td>3.099314</td>\n",
       "    </tr>\n",
       "    <tr>\n",
       "      <th>715004</th>\n",
       "      <td>4.221330</td>\n",
       "      <td>3.454374</td>\n",
       "      <td>2.169285</td>\n",
       "      <td>2.948619</td>\n",
       "      <td>3.858749</td>\n",
       "      <td>2.139523</td>\n",
       "      <td>3.251959</td>\n",
       "      <td>2.791567</td>\n",
       "      <td>0.821575</td>\n",
       "      <td>1.557139</td>\n",
       "    </tr>\n",
       "    <tr>\n",
       "      <th>20595</th>\n",
       "      <td>3.532773</td>\n",
       "      <td>4.273072</td>\n",
       "      <td>2.014152</td>\n",
       "      <td>3.731052</td>\n",
       "      <td>2.285810</td>\n",
       "      <td>2.360486</td>\n",
       "      <td>1.701170</td>\n",
       "      <td>3.397432</td>\n",
       "      <td>0.554983</td>\n",
       "      <td>1.663745</td>\n",
       "    </tr>\n",
       "  </tbody>\n",
       "</table>\n",
       "<p>200 rows × 10 columns</p>\n",
       "</div>"
      ],
      "text/plain": [
       "             x_0       x_1       x_2       x_3       x_4       x_5       x_6  \\\n",
       "id                                                                             \n",
       "275062  4.031688  4.336272  1.186491  1.389873  2.520061  3.289914  2.052517   \n",
       "18083   1.855344  2.905103  1.049499  2.450065  3.102677  1.851105  3.816700   \n",
       "988277  4.100818  4.479436  3.195098  4.727710  3.954484  4.636168  3.051225   \n",
       "839547  4.127689  4.263057  3.437074  3.527570  2.794823  2.913432  3.216707   \n",
       "72492   2.861672  3.096226  0.950809  3.315071  3.036742  2.333655  2.212129   \n",
       "16826   2.960978  4.709596  1.414252  4.412884  3.783606  0.218571  4.352095   \n",
       "341277  2.272226  1.500254  1.235395  0.916075  2.170392  1.402976  3.598486   \n",
       "859145  4.327741  3.342099  2.017657  4.302191  2.488933  2.813314  3.995887   \n",
       "579555  1.705156  4.433527  1.180599  2.796052  3.184135  1.990399  1.857481   \n",
       "196661  4.898904  4.536144  3.173619  3.852723  1.960762  0.876802  3.821218   \n",
       "17240   3.419119  1.947548  1.240952  1.819966  3.000649  0.862816  3.154101   \n",
       "338594  4.429079  3.205945  2.626601  3.877023  2.594463  2.779090  3.796219   \n",
       "942870  3.567271  1.210413  1.106115  2.023192  1.188638  2.902676  3.047636   \n",
       "940441  4.168807  4.431986  0.737729  3.340413  0.811247  1.375555  2.829359   \n",
       "839664  4.144440  4.370267  1.460566  2.777414  2.194768  1.656460  2.340849   \n",
       "695738  4.089660  4.042791  1.536795  2.140105  4.721145  2.186805  2.746267   \n",
       "894283  4.422409  4.701585  3.287824  1.678456  2.599643  2.289055  3.885077   \n",
       "396060  0.659026  1.491604  3.305055  1.437419  3.519851  2.485371  3.264072   \n",
       "790365  1.814328  4.334964  0.814905  1.358450  3.789510  1.230863  3.447847   \n",
       "474650  4.099796  4.300284  2.041893  3.209553  2.283258  3.024931  1.883590   \n",
       "357221  4.253569  2.291871  1.051183  2.005503  1.263814  2.189338  2.840475   \n",
       "837443  2.363857  4.753026  2.018900  2.855699  4.004046  1.809359  3.714190   \n",
       "537251  4.451110  1.324184  0.630618  4.083183  1.532136  1.782424  2.439059   \n",
       "462886  0.125010  1.634317  2.826291  3.410578  2.071872  1.383243  2.126394   \n",
       "846104  0.558227  3.842231  0.897234  1.067510  2.378135  2.444122  3.376491   \n",
       "931500  4.309909  4.304817  2.349444  3.051077  3.584898  3.103470  1.885429   \n",
       "896244  2.862572  3.988814  3.071822  3.771833  1.592172  0.302447  3.235694   \n",
       "382386  4.268489  4.426177  3.606233  4.200856  3.118551  1.572837  1.965091   \n",
       "975065  3.861613  2.721972  1.172441  3.028240  1.832440  1.454939  3.840244   \n",
       "475850  4.259645  3.650790  3.650886  3.653619  1.146337  0.284672  3.155404   \n",
       "...          ...       ...       ...       ...       ...       ...       ...   \n",
       "75723   1.471312  3.800999  1.295248  1.795262  1.553294  2.533070  3.832976   \n",
       "142943  3.185743  4.031954  2.039933  3.166395  2.719713  2.181795  1.693471   \n",
       "576932  0.867635  4.502099  1.390345  3.768148  1.412685  1.744389  1.720466   \n",
       "581932  3.421956  4.142315  0.871381  2.866589  3.026255  1.801658  1.241607   \n",
       "737983  3.559747  4.545330  4.945144  3.330753  1.872493  1.469648  4.737089   \n",
       "665364  3.647446  0.515517  3.573802  3.656412  1.787382  4.330457  2.749154   \n",
       "915276  4.496977  4.157016  1.182450  2.978309  1.491339  2.122965  4.733888   \n",
       "99617   1.353662  3.815119  1.202447  4.045907  3.190302  1.165200  3.190883   \n",
       "820991  1.942862  4.535194  0.719846  3.897839  2.906832  2.392219  4.517038   \n",
       "341238  3.139230  0.473063  1.104072  3.357975  1.641049  3.896538  1.128466   \n",
       "921548  4.266302  3.662501  2.509078  3.752532  2.463619  2.529242  3.901994   \n",
       "740171  0.849273  3.485844  2.011839  3.155466  0.756838  4.044857  1.791631   \n",
       "969698  4.604361  4.094628  1.410179  2.680992  3.039628  1.686485  1.511234   \n",
       "853515  4.324206  4.434348  1.580221  1.420506  1.804567  1.269527  1.058131   \n",
       "495033  0.697490  4.457325  2.003673  2.606063  0.861352  2.202691  2.349249   \n",
       "601480  4.340453  1.267159  0.202586  2.411927  1.692445  0.354431  4.380188   \n",
       "94258   1.143723  1.628324  2.689361  2.842612  2.947632  1.404022  3.963759   \n",
       "175     4.174930  3.959357  1.350538  1.967936  3.819459  1.005016  2.783472   \n",
       "713458  1.771660  4.391050  0.996792  4.006732  3.244452  1.698907  2.248677   \n",
       "12022   4.761176  3.447761  1.367457  3.881154  3.216106  2.116699  2.405376   \n",
       "966556  4.546245  0.530111  1.070294  1.343062  2.059701  2.501092  1.980080   \n",
       "791216  4.100238  4.214213  1.692025  1.767720  3.581700  1.026863  1.693782   \n",
       "374145  1.090823  3.440692  2.049404  3.348635  2.764699  2.503919  3.332378   \n",
       "299270  4.287672  1.813146  1.288106  1.125655  2.450565  1.118000  2.917394   \n",
       "663982  1.775910  4.413042  1.875633  4.200832  3.766898  1.164399  3.403396   \n",
       "274581  1.839367  1.775119  1.163568  2.080645  2.545908  1.415065  3.181162   \n",
       "533975  4.528858  2.111399  3.318569  3.381959  2.548113  2.629317  4.181434   \n",
       "42875   2.463615  4.422415  2.724370  4.025328  2.454009  0.823537  2.348786   \n",
       "715004  4.221330  3.454374  2.169285  2.948619  3.858749  2.139523  3.251959   \n",
       "20595   3.532773  4.273072  2.014152  3.731052  2.285810  2.360486  1.701170   \n",
       "\n",
       "             x_7       x_8       x_9  \n",
       "id                                    \n",
       "275062  2.286284  2.953854  0.907174  \n",
       "18083   2.826285  4.188971  2.158486  \n",
       "988277  3.708196  1.451083  1.570977  \n",
       "839547  3.036106  3.336881  3.219157  \n",
       "72492   1.275586  2.050158  3.695409  \n",
       "16826   1.011921  0.600149  1.793956  \n",
       "341277  1.528519  2.692344  3.026489  \n",
       "859145  2.559024  2.835812  2.919200  \n",
       "579555  3.894472  3.814858  1.340796  \n",
       "196661  3.987863  2.637386  2.566167  \n",
       "17240   2.873160  2.195406  2.786052  \n",
       "338594  2.853312  2.619613  2.125226  \n",
       "942870  2.912661  1.078962  3.272305  \n",
       "940441  2.052853  2.640165  1.920635  \n",
       "839664  1.338588  4.245691  1.013099  \n",
       "695738  1.546802  1.274574  1.480014  \n",
       "894283  2.298309  2.570123  1.626540  \n",
       "396060  3.498651  3.019026  1.422684  \n",
       "790365  3.094796  2.869040  0.934748  \n",
       "474650  3.104745  3.687970  3.237623  \n",
       "357221  2.755021  2.621342  2.203700  \n",
       "837443  1.553483  2.407176  3.417869  \n",
       "537251  3.333406  2.738331  2.291335  \n",
       "462886  2.228655  4.308107  2.839823  \n",
       "846104  3.350643  2.591357  1.989547  \n",
       "931500  2.766935  4.152674  2.376572  \n",
       "896244  3.611286  3.232572  2.854045  \n",
       "382386  0.834885  0.909870  3.049813  \n",
       "975065  3.078652  2.575072  2.689913  \n",
       "475850  2.262397  3.064668  4.234599  \n",
       "...          ...       ...       ...  \n",
       "75723   3.394446  2.975539  2.635677  \n",
       "142943  1.793674  0.803202  2.645017  \n",
       "576932  4.060361  0.908570  3.020273  \n",
       "581932  1.125782  4.242639  2.741609  \n",
       "737983  2.245025  3.157420  4.397896  \n",
       "665364  1.981513  1.453034  3.231700  \n",
       "915276  3.043303  2.523777  2.520407  \n",
       "99617   2.899254  0.921833  3.277066  \n",
       "820991  3.015825  1.713258  2.482658  \n",
       "341238  4.016107  1.636016  2.052339  \n",
       "921548  3.641130  3.202910  2.026290  \n",
       "740171  0.837901  1.096556  1.119104  \n",
       "969698  3.101490  3.217766  1.858436  \n",
       "853515  2.824954  3.618726  1.611790  \n",
       "495033  1.871141  1.281304  1.899472  \n",
       "601480  2.958969  2.247656  2.621534  \n",
       "94258   2.776878  4.322569  2.258830  \n",
       "175     1.442668  2.049653  1.923119  \n",
       "713458  4.359592  1.888837  0.895199  \n",
       "12022   2.080632  2.470617  2.612354  \n",
       "966556  4.118636  2.629183  3.196190  \n",
       "791216  3.500959  2.896452  1.468849  \n",
       "374145  4.226436  2.185802  1.748727  \n",
       "299270  1.057958  2.744140  1.466327  \n",
       "663982  2.957243  2.426084  2.502219  \n",
       "274581  1.916252  2.202487  2.210954  \n",
       "533975  2.868153  2.351442  1.783794  \n",
       "42875   2.510279  1.272454  3.099314  \n",
       "715004  2.791567  0.821575  1.557139  \n",
       "20595   3.397432  0.554983  1.663745  \n",
       "\n",
       "[200 rows x 10 columns]"
      ]
     },
     "execution_count": 140,
     "metadata": {},
     "output_type": "execute_result"
    }
   ],
   "source": [
    "target_x"
   ]
  },
  {
   "cell_type": "code",
   "execution_count": null,
   "metadata": {
    "collapsed": true
   },
   "outputs": [],
   "source": []
  },
  {
   "cell_type": "code",
   "execution_count": 130,
   "metadata": {
    "collapsed": false
   },
   "outputs": [
    {
     "data": {
      "text/plain": [
       "array([ 2626.23597222,  4472.86579604,  1708.58460956, ...,  2242.27145094,\n",
       "        1896.13682359,  4431.82537805])"
      ]
     },
     "execution_count": 130,
     "metadata": {},
     "output_type": "execute_result"
    }
   ],
   "source": []
  },
  {
   "cell_type": "code",
   "execution_count": 41,
   "metadata": {
    "collapsed": false
   },
   "outputs": [
    {
     "data": {
      "text/plain": [
       "980000"
      ]
     },
     "execution_count": 41,
     "metadata": {},
     "output_type": "execute_result"
    }
   ],
   "source": [
    "len(pool_df)"
   ]
  },
  {
   "cell_type": "code",
   "execution_count": 40,
   "metadata": {
    "collapsed": false
   },
   "outputs": [
    {
     "ename": "KeyboardInterrupt",
     "evalue": "",
     "output_type": "error",
     "traceback": [
      "\u001b[0;31m---------------------------------------------------------------------------\u001b[0m",
      "\u001b[0;31mKeyboardInterrupt\u001b[0m                         Traceback (most recent call last)",
      "\u001b[0;32m<ipython-input-40-733d97a55b3b>\u001b[0m in \u001b[0;36m<module>\u001b[0;34m()\u001b[0m\n\u001b[1;32m      1\u001b[0m \u001b[0mminibatch\u001b[0m \u001b[0;34m=\u001b[0m \u001b[0mMiniBatchKMeans\u001b[0m\u001b[0;34m(\u001b[0m\u001b[0mn_clusters\u001b[0m\u001b[0;34m=\u001b[0m\u001b[0;36m300\u001b[0m\u001b[0;34m,\u001b[0m \u001b[0mbatch_size\u001b[0m\u001b[0;34m=\u001b[0m\u001b[0;36m3000\u001b[0m\u001b[0;34m,\u001b[0m \u001b[0minit_size\u001b[0m\u001b[0;34m=\u001b[0m\u001b[0;36m6\u001b[0m\u001b[0;34m*\u001b[0m\u001b[0;36m1000\u001b[0m\u001b[0;34m)\u001b[0m\u001b[0;34m\u001b[0m\u001b[0m\n\u001b[0;32m----> 2\u001b[0;31m \u001b[0mminibatch\u001b[0m\u001b[0;34m.\u001b[0m\u001b[0mfit\u001b[0m\u001b[0;34m(\u001b[0m\u001b[0mpool_df\u001b[0m\u001b[0;34m)\u001b[0m\u001b[0;34m\u001b[0m\u001b[0m\n\u001b[0m\u001b[1;32m      3\u001b[0m \u001b[0;32mprint\u001b[0m \u001b[0mlen\u001b[0m\u001b[0;34m(\u001b[0m\u001b[0mnp\u001b[0m\u001b[0;34m.\u001b[0m\u001b[0munique\u001b[0m\u001b[0;34m(\u001b[0m\u001b[0mminibatch\u001b[0m\u001b[0;34m.\u001b[0m\u001b[0mlabels_\u001b[0m\u001b[0;34m)\u001b[0m\u001b[0;34m)\u001b[0m\u001b[0;34m\u001b[0m\u001b[0m\n\u001b[1;32m      4\u001b[0m \u001b[0muniq\u001b[0m\u001b[0;34m,\u001b[0m\u001b[0minverse\u001b[0m\u001b[0;34m,\u001b[0m\u001b[0mcounts\u001b[0m \u001b[0;34m=\u001b[0m \u001b[0mnp\u001b[0m\u001b[0;34m.\u001b[0m\u001b[0munique\u001b[0m\u001b[0;34m(\u001b[0m\u001b[0mminibatch\u001b[0m\u001b[0;34m.\u001b[0m\u001b[0mlabels_\u001b[0m\u001b[0;34m,\u001b[0m \u001b[0mreturn_inverse\u001b[0m\u001b[0;34m=\u001b[0m\u001b[0mTrue\u001b[0m\u001b[0;34m,\u001b[0m \u001b[0mreturn_counts\u001b[0m\u001b[0;34m=\u001b[0m\u001b[0mTrue\u001b[0m\u001b[0;34m)\u001b[0m\u001b[0;34m\u001b[0m\u001b[0m\n\u001b[1;32m      5\u001b[0m \u001b[0mplt\u001b[0m\u001b[0;34m.\u001b[0m\u001b[0mhist\u001b[0m\u001b[0;34m(\u001b[0m\u001b[0mcounts\u001b[0m\u001b[0;34m/\u001b[0m\u001b[0mfloat\u001b[0m\u001b[0;34m(\u001b[0m\u001b[0;36m70000\u001b[0m\u001b[0;34m)\u001b[0m\u001b[0;34m)\u001b[0m\u001b[0;34m\u001b[0m\u001b[0m\n",
      "\u001b[0;32m/Users/kopbob/.pyenv/versions/sphere-env-2.7.10/lib/python2.7/site-packages/sklearn/cluster/k_means_.pyc\u001b[0m in \u001b[0;36mfit\u001b[0;34m(self, X, y)\u001b[0m\n\u001b[1;32m   1327\u001b[0m \u001b[0;34m\u001b[0m\u001b[0m\n\u001b[1;32m   1328\u001b[0m         \u001b[0;32mif\u001b[0m \u001b[0mself\u001b[0m\u001b[0;34m.\u001b[0m\u001b[0mcompute_labels\u001b[0m\u001b[0;34m:\u001b[0m\u001b[0;34m\u001b[0m\u001b[0m\n\u001b[0;32m-> 1329\u001b[0;31m             \u001b[0mself\u001b[0m\u001b[0;34m.\u001b[0m\u001b[0mlabels_\u001b[0m\u001b[0;34m,\u001b[0m \u001b[0mself\u001b[0m\u001b[0;34m.\u001b[0m\u001b[0minertia_\u001b[0m \u001b[0;34m=\u001b[0m \u001b[0mself\u001b[0m\u001b[0;34m.\u001b[0m\u001b[0m_labels_inertia_minibatch\u001b[0m\u001b[0;34m(\u001b[0m\u001b[0mX\u001b[0m\u001b[0;34m)\u001b[0m\u001b[0;34m\u001b[0m\u001b[0m\n\u001b[0m\u001b[1;32m   1330\u001b[0m \u001b[0;34m\u001b[0m\u001b[0m\n\u001b[1;32m   1331\u001b[0m         \u001b[0;32mreturn\u001b[0m \u001b[0mself\u001b[0m\u001b[0;34m\u001b[0m\u001b[0m\n",
      "\u001b[0;32m/Users/kopbob/.pyenv/versions/sphere-env-2.7.10/lib/python2.7/site-packages/sklearn/cluster/k_means_.pyc\u001b[0m in \u001b[0;36m_labels_inertia_minibatch\u001b[0;34m(self, X)\u001b[0m\n\u001b[1;32m   1355\u001b[0m         \u001b[0mslices\u001b[0m \u001b[0;34m=\u001b[0m \u001b[0mgen_batches\u001b[0m\u001b[0;34m(\u001b[0m\u001b[0mX\u001b[0m\u001b[0;34m.\u001b[0m\u001b[0mshape\u001b[0m\u001b[0;34m[\u001b[0m\u001b[0;36m0\u001b[0m\u001b[0;34m]\u001b[0m\u001b[0;34m,\u001b[0m \u001b[0mself\u001b[0m\u001b[0;34m.\u001b[0m\u001b[0mbatch_size\u001b[0m\u001b[0;34m)\u001b[0m\u001b[0;34m\u001b[0m\u001b[0m\n\u001b[1;32m   1356\u001b[0m         results = [_labels_inertia(X[s], x_squared_norms[s],\n\u001b[0;32m-> 1357\u001b[0;31m                                    self.cluster_centers_) for s in slices]\n\u001b[0m\u001b[1;32m   1358\u001b[0m         \u001b[0mlabels\u001b[0m\u001b[0;34m,\u001b[0m \u001b[0minertia\u001b[0m \u001b[0;34m=\u001b[0m \u001b[0mzip\u001b[0m\u001b[0;34m(\u001b[0m\u001b[0;34m*\u001b[0m\u001b[0mresults\u001b[0m\u001b[0;34m)\u001b[0m\u001b[0;34m\u001b[0m\u001b[0m\n\u001b[1;32m   1359\u001b[0m         \u001b[0;32mreturn\u001b[0m \u001b[0mnp\u001b[0m\u001b[0;34m.\u001b[0m\u001b[0mhstack\u001b[0m\u001b[0;34m(\u001b[0m\u001b[0mlabels\u001b[0m\u001b[0;34m)\u001b[0m\u001b[0;34m,\u001b[0m \u001b[0mnp\u001b[0m\u001b[0;34m.\u001b[0m\u001b[0msum\u001b[0m\u001b[0;34m(\u001b[0m\u001b[0minertia\u001b[0m\u001b[0;34m)\u001b[0m\u001b[0;34m\u001b[0m\u001b[0m\n",
      "\u001b[0;32m/Users/kopbob/.pyenv/versions/sphere-env-2.7.10/lib/python2.7/site-packages/sklearn/cluster/k_means_.pyc\u001b[0m in \u001b[0;36m_labels_inertia\u001b[0;34m(X, x_squared_norms, centers, precompute_distances, distances)\u001b[0m\n\u001b[1;32m    540\u001b[0m         \u001b[0;32mif\u001b[0m \u001b[0mprecompute_distances\u001b[0m\u001b[0;34m:\u001b[0m\u001b[0;34m\u001b[0m\u001b[0m\n\u001b[1;32m    541\u001b[0m             return _labels_inertia_precompute_dense(X, x_squared_norms,\n\u001b[0;32m--> 542\u001b[0;31m                                                     centers, distances)\n\u001b[0m\u001b[1;32m    543\u001b[0m         inertia = _k_means._assign_labels_array(\n\u001b[1;32m    544\u001b[0m             X, x_squared_norms, centers, labels, distances=distances)\n",
      "\u001b[0;32m/Users/kopbob/.pyenv/versions/sphere-env-2.7.10/lib/python2.7/site-packages/sklearn/cluster/k_means_.pyc\u001b[0m in \u001b[0;36m_labels_inertia_precompute_dense\u001b[0;34m(X, x_squared_norms, centers, distances)\u001b[0m\n\u001b[1;32m    477\u001b[0m     \u001b[0mk\u001b[0m \u001b[0;34m=\u001b[0m \u001b[0mcenters\u001b[0m\u001b[0;34m.\u001b[0m\u001b[0mshape\u001b[0m\u001b[0;34m[\u001b[0m\u001b[0;36m0\u001b[0m\u001b[0;34m]\u001b[0m\u001b[0;34m\u001b[0m\u001b[0m\n\u001b[1;32m    478\u001b[0m     all_distances = euclidean_distances(centers, X, x_squared_norms,\n\u001b[0;32m--> 479\u001b[0;31m                                         squared=True)\n\u001b[0m\u001b[1;32m    480\u001b[0m     \u001b[0mlabels\u001b[0m \u001b[0;34m=\u001b[0m \u001b[0mnp\u001b[0m\u001b[0;34m.\u001b[0m\u001b[0mempty\u001b[0m\u001b[0;34m(\u001b[0m\u001b[0mn_samples\u001b[0m\u001b[0;34m,\u001b[0m \u001b[0mdtype\u001b[0m\u001b[0;34m=\u001b[0m\u001b[0mnp\u001b[0m\u001b[0;34m.\u001b[0m\u001b[0mint32\u001b[0m\u001b[0;34m)\u001b[0m\u001b[0;34m\u001b[0m\u001b[0m\n\u001b[1;32m    481\u001b[0m     \u001b[0mlabels\u001b[0m\u001b[0;34m.\u001b[0m\u001b[0mfill\u001b[0m\u001b[0;34m(\u001b[0m\u001b[0;34m-\u001b[0m\u001b[0;36m1\u001b[0m\u001b[0;34m)\u001b[0m\u001b[0;34m\u001b[0m\u001b[0m\n",
      "\u001b[0;32m/Users/kopbob/.pyenv/versions/sphere-env-2.7.10/lib/python2.7/site-packages/sklearn/metrics/pairwise.pyc\u001b[0m in \u001b[0;36meuclidean_distances\u001b[0;34m(X, Y, Y_norm_squared, squared)\u001b[0m\n\u001b[1;32m    207\u001b[0m     \u001b[0mdistances\u001b[0m \u001b[0;34m=\u001b[0m \u001b[0msafe_sparse_dot\u001b[0m\u001b[0;34m(\u001b[0m\u001b[0mX\u001b[0m\u001b[0;34m,\u001b[0m \u001b[0mY\u001b[0m\u001b[0;34m.\u001b[0m\u001b[0mT\u001b[0m\u001b[0;34m,\u001b[0m \u001b[0mdense_output\u001b[0m\u001b[0;34m=\u001b[0m\u001b[0mTrue\u001b[0m\u001b[0;34m)\u001b[0m\u001b[0;34m\u001b[0m\u001b[0m\n\u001b[1;32m    208\u001b[0m     \u001b[0mdistances\u001b[0m \u001b[0;34m*=\u001b[0m \u001b[0;34m-\u001b[0m\u001b[0;36m2\u001b[0m\u001b[0;34m\u001b[0m\u001b[0m\n\u001b[0;32m--> 209\u001b[0;31m     \u001b[0mdistances\u001b[0m \u001b[0;34m+=\u001b[0m \u001b[0mXX\u001b[0m\u001b[0;34m\u001b[0m\u001b[0m\n\u001b[0m\u001b[1;32m    210\u001b[0m     \u001b[0mdistances\u001b[0m \u001b[0;34m+=\u001b[0m \u001b[0mYY\u001b[0m\u001b[0;34m\u001b[0m\u001b[0m\n\u001b[1;32m    211\u001b[0m     \u001b[0mnp\u001b[0m\u001b[0;34m.\u001b[0m\u001b[0mmaximum\u001b[0m\u001b[0;34m(\u001b[0m\u001b[0mdistances\u001b[0m\u001b[0;34m,\u001b[0m \u001b[0;36m0\u001b[0m\u001b[0;34m,\u001b[0m \u001b[0mout\u001b[0m\u001b[0;34m=\u001b[0m\u001b[0mdistances\u001b[0m\u001b[0;34m)\u001b[0m\u001b[0;34m\u001b[0m\u001b[0m\n",
      "\u001b[0;31mKeyboardInterrupt\u001b[0m: "
     ]
    }
   ],
   "source": [
    "minibatch = MiniBatchKMeans(n_clusters=300, batch_size=3000, init_size=6*1000)\n",
    "minibatch.fit(pool_df)\n",
    "print len(np.unique(minibatch.labels_))\n",
    "uniq,inverse,counts = np.unique(minibatch.labels_, return_inverse=True, return_counts=True)\n",
    "plt.hist(counts/float(70000))"
   ]
  },
  {
   "cell_type": "code",
   "execution_count": 34,
   "metadata": {
    "collapsed": false
   },
   "outputs": [
    {
     "data": {
      "text/plain": [
       "300"
      ]
     },
     "execution_count": 34,
     "metadata": {},
     "output_type": "execute_result"
    }
   ],
   "source": [
    "#subcluster_labels_"
   ]
  },
  {
   "cell_type": "code",
   "execution_count": 35,
   "metadata": {
    "collapsed": false
   },
   "outputs": [],
   "source": []
  },
  {
   "cell_type": "code",
   "execution_count": 38,
   "metadata": {
    "collapsed": false
   },
   "outputs": [
    {
     "data": {
      "text/plain": [
       "(array([  5.,  16.,  25.,  42.,  48.,  67.,  42.,  27.,  21.,   7.]),\n",
       " array([ 0.00245714,  0.00262714,  0.00279714,  0.00296714,  0.00313714,\n",
       "         0.00330714,  0.00347714,  0.00364714,  0.00381714,  0.00398714,\n",
       "         0.00415714]),\n",
       " <a list of 10 Patch objects>)"
      ]
     },
     "execution_count": 38,
     "metadata": {},
     "output_type": "execute_result"
    },
    {
     "data": {
      "image/png": "[encoded data removed]",
      "text/plain": [
       "<matplotlib.figure.Figure at 0x111d9ea50>"
      ]
     },
     "metadata": {},
     "output_type": "display_data"
    }
   ],
   "source": []
  },
  {
   "cell_type": "code",
   "execution_count": null,
   "metadata": {
    "collapsed": true
   },
   "outputs": [],
   "source": []
  }
 ],
 "metadata": {
  "kernelspec": {
   "display_name": "Python 2",
   "language": "python",
   "name": "python2"
  },
  "language_info": {
   "codemirror_mode": {
    "name": "ipython",
    "version": 2
   },
   "file_extension": ".py",
   "mimetype": "text/x-python",
   "name": "python",
   "nbconvert_exporter": "python",
   "pygments_lexer": "ipython2",
   "version": "2.7.10"
  }
 },
 "nbformat": 4,
 "nbformat_minor": 0
}
