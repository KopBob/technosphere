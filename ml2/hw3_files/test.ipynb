{
 "cells": [
  {
   "cell_type": "code",
   "execution_count": 150,
   "metadata": {
    "collapsed": false
   },
   "outputs": [
    {
     "name": "stdout",
     "output_type": "stream",
     "text": [
      "The autoreload extension is already loaded. To reload it, use:\n",
      "  %reload_ext autoreload\n"
     ]
    }
   ],
   "source": [
    "%load_ext autoreload\n",
    "%autoreload 2\n",
    "%matplotlib inline"
   ]
  },
  {
   "cell_type": "code",
   "execution_count": 151,
   "metadata": {
    "collapsed": true
   },
   "outputs": [],
   "source": [
    "import random\n",
    "import commands\n",
    "import pandas as pd\n",
    "import numpy as np\n",
    "\n",
    "from matplotlib import pyplot as plt\n",
    "\n",
    "from sklearn.ensemble import BaggingRegressor\n",
    "from sklearn.linear_model import ElasticNet\n",
    "from sklearn.metrics import mean_squared_error\n",
    "\n",
    "from joblib import Parallel as P\n",
    "from joblib import delayed as dl"
   ]
  },
  {
   "cell_type": "code",
   "execution_count": 152,
   "metadata": {
    "collapsed": false
   },
   "outputs": [],
   "source": [
    "import os\n",
    "\n",
    "dfs = []\n",
    "for file in os.listdir(\"./private/\"):\n",
    "    if file.endswith(\".csv\"):\n",
    "        dfs.append(pd.read_csv(\"./private/\"+file, header=None, index_col=0))"
   ]
  },
  {
   "cell_type": "code",
   "execution_count": 153,
   "metadata": {
    "collapsed": false
   },
   "outputs": [
    {
     "data": {
      "text/plain": [
       "77040"
      ]
     },
     "execution_count": 153,
     "metadata": {},
     "output_type": "execute_result"
    }
   ],
   "source": [
    "len(pd.concat(dfs))"
   ]
  },
  {
   "cell_type": "code",
   "execution_count": 154,
   "metadata": {
    "collapsed": true
   },
   "outputs": [],
   "source": [
    "df_y = pd.concat(dfs).drop_duplicates()\n",
    "df_y.index.name = 'id'\n",
    "df_y.columns = [\"y\"]"
   ]
  },
  {
   "cell_type": "code",
   "execution_count": 155,
   "metadata": {
    "collapsed": false
   },
   "outputs": [
    {
     "data": {
      "text/plain": [
       "74193"
      ]
     },
     "execution_count": 155,
     "metadata": {},
     "output_type": "execute_result"
    }
   ],
   "source": [
    "len(df_y)"
   ]
  },
  {
   "cell_type": "code",
   "execution_count": 86,
   "metadata": {
    "collapsed": true
   },
   "outputs": [],
   "source": [
    "df_X = pd.read_csv(\"./X_private.csv\", index_col=0)"
   ]
  },
  {
   "cell_type": "code",
   "execution_count": 156,
   "metadata": {
    "collapsed": true
   },
   "outputs": [],
   "source": [
    "SIZE = None"
   ]
  },
  {
   "cell_type": "markdown",
   "metadata": {},
   "source": [
    "# Train"
   ]
  },
  {
   "cell_type": "code",
   "execution_count": 157,
   "metadata": {
    "collapsed": false
   },
   "outputs": [],
   "source": [
    "y_train_df = df_y.iloc[:SIZE]\n",
    "x_train_df = df_X.loc[y_train_df.index]\n",
    "\n",
    "train_df = pd.concat([y_train_df, x_train_df], axis=1)"
   ]
  },
  {
   "cell_type": "code",
   "execution_count": 158,
   "metadata": {
    "collapsed": true
   },
   "outputs": [],
   "source": [
    "train_df.to_csv(\"AL_train.csv\")"
   ]
  },
  {
   "cell_type": "code",
   "execution_count": 159,
   "metadata": {
    "collapsed": false
   },
   "outputs": [
    {
     "data": {
      "text/html": [
       "<div>\n",
       "<table border=\"1\" class=\"dataframe\">\n",
       "  <thead>\n",
       "    <tr style=\"text-align: right;\">\n",
       "      <th></th>\n",
       "      <th>y</th>\n",
       "      <th>x_0</th>\n",
       "      <th>x_1</th>\n",
       "      <th>x_2</th>\n",
       "      <th>x_3</th>\n",
       "      <th>x_4</th>\n",
       "      <th>x_5</th>\n",
       "      <th>x_6</th>\n",
       "      <th>x_7</th>\n",
       "      <th>x_8</th>\n",
       "      <th>x_9</th>\n",
       "    </tr>\n",
       "    <tr>\n",
       "      <th>id</th>\n",
       "      <th></th>\n",
       "      <th></th>\n",
       "      <th></th>\n",
       "      <th></th>\n",
       "      <th></th>\n",
       "      <th></th>\n",
       "      <th></th>\n",
       "      <th></th>\n",
       "      <th></th>\n",
       "      <th></th>\n",
       "      <th></th>\n",
       "    </tr>\n",
       "  </thead>\n",
       "  <tbody>\n",
       "    <tr>\n",
       "      <th>430315</th>\n",
       "      <td>12502.645552</td>\n",
       "      <td>1.778832</td>\n",
       "      <td>4.311835</td>\n",
       "      <td>1.850613</td>\n",
       "      <td>1.418496</td>\n",
       "      <td>3.416983</td>\n",
       "      <td>2.743196</td>\n",
       "      <td>1.629586</td>\n",
       "      <td>0.959515</td>\n",
       "      <td>4.665976</td>\n",
       "      <td>2.004976</td>\n",
       "    </tr>\n",
       "    <tr>\n",
       "      <th>403272</th>\n",
       "      <td>0.226654</td>\n",
       "      <td>0.832482</td>\n",
       "      <td>1.620109</td>\n",
       "      <td>0.337489</td>\n",
       "      <td>3.942828</td>\n",
       "      <td>1.176846</td>\n",
       "      <td>4.717888</td>\n",
       "      <td>2.000050</td>\n",
       "      <td>4.625717</td>\n",
       "      <td>3.459728</td>\n",
       "      <td>1.039898</td>\n",
       "    </tr>\n",
       "    <tr>\n",
       "      <th>636597</th>\n",
       "      <td>2.270737</td>\n",
       "      <td>0.933718</td>\n",
       "      <td>0.268308</td>\n",
       "      <td>2.545946</td>\n",
       "      <td>1.729691</td>\n",
       "      <td>1.842973</td>\n",
       "      <td>0.784398</td>\n",
       "      <td>2.640138</td>\n",
       "      <td>1.303771</td>\n",
       "      <td>0.892008</td>\n",
       "      <td>2.573662</td>\n",
       "    </tr>\n",
       "    <tr>\n",
       "      <th>381282</th>\n",
       "      <td>-0.735387</td>\n",
       "      <td>0.313082</td>\n",
       "      <td>3.382843</td>\n",
       "      <td>4.535195</td>\n",
       "      <td>2.178158</td>\n",
       "      <td>4.122853</td>\n",
       "      <td>2.334901</td>\n",
       "      <td>3.411877</td>\n",
       "      <td>3.053110</td>\n",
       "      <td>1.208748</td>\n",
       "      <td>4.949747</td>\n",
       "    </tr>\n",
       "    <tr>\n",
       "      <th>798109</th>\n",
       "      <td>1478.107721</td>\n",
       "      <td>2.835213</td>\n",
       "      <td>1.955161</td>\n",
       "      <td>3.396421</td>\n",
       "      <td>3.460902</td>\n",
       "      <td>4.958549</td>\n",
       "      <td>2.038920</td>\n",
       "      <td>3.319701</td>\n",
       "      <td>0.822986</td>\n",
       "      <td>2.419712</td>\n",
       "      <td>0.781027</td>\n",
       "    </tr>\n",
       "  </tbody>\n",
       "</table>\n",
       "</div>"
      ],
      "text/plain": [
       "                   y       x_0       x_1       x_2       x_3       x_4  \\\n",
       "id                                                                       \n",
       "430315  12502.645552  1.778832  4.311835  1.850613  1.418496  3.416983   \n",
       "403272      0.226654  0.832482  1.620109  0.337489  3.942828  1.176846   \n",
       "636597      2.270737  0.933718  0.268308  2.545946  1.729691  1.842973   \n",
       "381282     -0.735387  0.313082  3.382843  4.535195  2.178158  4.122853   \n",
       "798109   1478.107721  2.835213  1.955161  3.396421  3.460902  4.958549   \n",
       "\n",
       "             x_5       x_6       x_7       x_8       x_9  \n",
       "id                                                        \n",
       "430315  2.743196  1.629586  0.959515  4.665976  2.004976  \n",
       "403272  4.717888  2.000050  4.625717  3.459728  1.039898  \n",
       "636597  0.784398  2.640138  1.303771  0.892008  2.573662  \n",
       "381282  2.334901  3.411877  3.053110  1.208748  4.949747  \n",
       "798109  2.038920  3.319701  0.822986  2.419712  0.781027  "
      ]
     },
     "execution_count": 159,
     "metadata": {},
     "output_type": "execute_result"
    }
   ],
   "source": [
    "train_df.head()"
   ]
  },
  {
   "cell_type": "markdown",
   "metadata": {},
   "source": [
    "# Test"
   ]
  },
  {
   "cell_type": "code",
   "execution_count": 91,
   "metadata": {
    "collapsed": false
   },
   "outputs": [],
   "source": [
    "y_test_df = df_y.iloc[SIZE:SIZE + 7000]\n",
    "x_test_df = df_X.loc[y_test_df.index]\n",
    "\n",
    "test_df = pd.concat([y_test_df, x_test_df], axis=1)"
   ]
  },
  {
   "cell_type": "code",
   "execution_count": 92,
   "metadata": {
    "collapsed": false
   },
   "outputs": [
    {
     "data": {
      "text/html": [
       "<div>\n",
       "<table border=\"1\" class=\"dataframe\">\n",
       "  <thead>\n",
       "    <tr style=\"text-align: right;\">\n",
       "      <th></th>\n",
       "      <th>y</th>\n",
       "      <th>x_0</th>\n",
       "      <th>x_1</th>\n",
       "      <th>x_2</th>\n",
       "      <th>x_3</th>\n",
       "      <th>x_4</th>\n",
       "      <th>x_5</th>\n",
       "      <th>x_6</th>\n",
       "      <th>x_7</th>\n",
       "      <th>x_8</th>\n",
       "      <th>x_9</th>\n",
       "    </tr>\n",
       "    <tr>\n",
       "      <th>id</th>\n",
       "      <th></th>\n",
       "      <th></th>\n",
       "      <th></th>\n",
       "      <th></th>\n",
       "      <th></th>\n",
       "      <th></th>\n",
       "      <th></th>\n",
       "      <th></th>\n",
       "      <th></th>\n",
       "      <th></th>\n",
       "      <th></th>\n",
       "    </tr>\n",
       "  </thead>\n",
       "  <tbody>\n",
       "    <tr>\n",
       "      <th>982131</th>\n",
       "      <td>7.271697e+04</td>\n",
       "      <td>2.285693</td>\n",
       "      <td>3.928820</td>\n",
       "      <td>3.114667</td>\n",
       "      <td>4.737067</td>\n",
       "      <td>4.824219</td>\n",
       "      <td>2.071620</td>\n",
       "      <td>1.558371</td>\n",
       "      <td>2.092248</td>\n",
       "      <td>4.336391</td>\n",
       "      <td>2.173950</td>\n",
       "    </tr>\n",
       "    <tr>\n",
       "      <th>597060</th>\n",
       "      <td>8.088211e+11</td>\n",
       "      <td>4.988052</td>\n",
       "      <td>4.695802</td>\n",
       "      <td>1.679904</td>\n",
       "      <td>4.218511</td>\n",
       "      <td>1.381513</td>\n",
       "      <td>3.250289</td>\n",
       "      <td>2.742209</td>\n",
       "      <td>1.851296</td>\n",
       "      <td>0.540780</td>\n",
       "      <td>2.119696</td>\n",
       "    </tr>\n",
       "    <tr>\n",
       "      <th>793836</th>\n",
       "      <td>4.048583e+01</td>\n",
       "      <td>0.358488</td>\n",
       "      <td>0.993442</td>\n",
       "      <td>3.064255</td>\n",
       "      <td>3.164780</td>\n",
       "      <td>2.045493</td>\n",
       "      <td>2.995903</td>\n",
       "      <td>3.229503</td>\n",
       "      <td>2.655513</td>\n",
       "      <td>2.701947</td>\n",
       "      <td>0.622211</td>\n",
       "    </tr>\n",
       "    <tr>\n",
       "      <th>514871</th>\n",
       "      <td>1.454237e+04</td>\n",
       "      <td>2.687625</td>\n",
       "      <td>2.988798</td>\n",
       "      <td>1.091445</td>\n",
       "      <td>1.986950</td>\n",
       "      <td>2.249763</td>\n",
       "      <td>3.703367</td>\n",
       "      <td>3.336235</td>\n",
       "      <td>0.789943</td>\n",
       "      <td>3.331181</td>\n",
       "      <td>2.655267</td>\n",
       "    </tr>\n",
       "    <tr>\n",
       "      <th>480409</th>\n",
       "      <td>2.520716e+08</td>\n",
       "      <td>4.279006</td>\n",
       "      <td>3.842328</td>\n",
       "      <td>1.426899</td>\n",
       "      <td>3.651216</td>\n",
       "      <td>2.195014</td>\n",
       "      <td>4.329777</td>\n",
       "      <td>1.109462</td>\n",
       "      <td>2.560970</td>\n",
       "      <td>0.247269</td>\n",
       "      <td>2.235597</td>\n",
       "    </tr>\n",
       "  </tbody>\n",
       "</table>\n",
       "</div>"
      ],
      "text/plain": [
       "                   y       x_0       x_1       x_2       x_3       x_4  \\\n",
       "id                                                                       \n",
       "982131  7.271697e+04  2.285693  3.928820  3.114667  4.737067  4.824219   \n",
       "597060  8.088211e+11  4.988052  4.695802  1.679904  4.218511  1.381513   \n",
       "793836  4.048583e+01  0.358488  0.993442  3.064255  3.164780  2.045493   \n",
       "514871  1.454237e+04  2.687625  2.988798  1.091445  1.986950  2.249763   \n",
       "480409  2.520716e+08  4.279006  3.842328  1.426899  3.651216  2.195014   \n",
       "\n",
       "             x_5       x_6       x_7       x_8       x_9  \n",
       "id                                                        \n",
       "982131  2.071620  1.558371  2.092248  4.336391  2.173950  \n",
       "597060  3.250289  2.742209  1.851296  0.540780  2.119696  \n",
       "793836  2.995903  3.229503  2.655513  2.701947  0.622211  \n",
       "514871  3.703367  3.336235  0.789943  3.331181  2.655267  \n",
       "480409  4.329777  1.109462  2.560970  0.247269  2.235597  "
      ]
     },
     "execution_count": 92,
     "metadata": {},
     "output_type": "execute_result"
    }
   ],
   "source": [
    "test_df.head()"
   ]
  },
  {
   "cell_type": "markdown",
   "metadata": {},
   "source": [
    "# Pool"
   ]
  },
  {
   "cell_type": "code",
   "execution_count": 93,
   "metadata": {
    "collapsed": true
   },
   "outputs": [],
   "source": [
    "pool_df = df_X.drop(y_train_df.index)"
   ]
  },
  {
   "cell_type": "code",
   "execution_count": 94,
   "metadata": {
    "collapsed": false
   },
   "outputs": [
    {
     "data": {
      "text/html": [
       "<div>\n",
       "<table border=\"1\" class=\"dataframe\">\n",
       "  <thead>\n",
       "    <tr style=\"text-align: right;\">\n",
       "      <th></th>\n",
       "      <th>x_0</th>\n",
       "      <th>x_1</th>\n",
       "      <th>x_2</th>\n",
       "      <th>x_3</th>\n",
       "      <th>x_4</th>\n",
       "      <th>x_5</th>\n",
       "      <th>x_6</th>\n",
       "      <th>x_7</th>\n",
       "      <th>x_8</th>\n",
       "      <th>x_9</th>\n",
       "    </tr>\n",
       "    <tr>\n",
       "      <th>id</th>\n",
       "      <th></th>\n",
       "      <th></th>\n",
       "      <th></th>\n",
       "      <th></th>\n",
       "      <th></th>\n",
       "      <th></th>\n",
       "      <th></th>\n",
       "      <th></th>\n",
       "      <th></th>\n",
       "      <th></th>\n",
       "    </tr>\n",
       "  </thead>\n",
       "  <tbody>\n",
       "    <tr>\n",
       "      <th>0</th>\n",
       "      <td>0.220902</td>\n",
       "      <td>1.704661</td>\n",
       "      <td>3.145539</td>\n",
       "      <td>2.069166</td>\n",
       "      <td>3.248110</td>\n",
       "      <td>1.655190</td>\n",
       "      <td>0.336612</td>\n",
       "      <td>1.794711</td>\n",
       "      <td>0.719335</td>\n",
       "      <td>2.405603</td>\n",
       "    </tr>\n",
       "    <tr>\n",
       "      <th>1</th>\n",
       "      <td>4.970893</td>\n",
       "      <td>2.728854</td>\n",
       "      <td>1.974131</td>\n",
       "      <td>1.230789</td>\n",
       "      <td>1.915259</td>\n",
       "      <td>3.573415</td>\n",
       "      <td>2.897298</td>\n",
       "      <td>4.279815</td>\n",
       "      <td>0.255498</td>\n",
       "      <td>0.682067</td>\n",
       "    </tr>\n",
       "    <tr>\n",
       "      <th>2</th>\n",
       "      <td>4.261701</td>\n",
       "      <td>0.055729</td>\n",
       "      <td>1.623474</td>\n",
       "      <td>2.224815</td>\n",
       "      <td>4.037181</td>\n",
       "      <td>2.625306</td>\n",
       "      <td>2.679721</td>\n",
       "      <td>4.849078</td>\n",
       "      <td>3.586963</td>\n",
       "      <td>3.269388</td>\n",
       "    </tr>\n",
       "    <tr>\n",
       "      <th>3</th>\n",
       "      <td>4.109848</td>\n",
       "      <td>2.355999</td>\n",
       "      <td>2.030721</td>\n",
       "      <td>0.741282</td>\n",
       "      <td>3.873136</td>\n",
       "      <td>0.900767</td>\n",
       "      <td>0.493190</td>\n",
       "      <td>2.479181</td>\n",
       "      <td>0.666730</td>\n",
       "      <td>2.686895</td>\n",
       "    </tr>\n",
       "    <tr>\n",
       "      <th>4</th>\n",
       "      <td>4.268486</td>\n",
       "      <td>4.547079</td>\n",
       "      <td>3.115409</td>\n",
       "      <td>4.988304</td>\n",
       "      <td>0.899760</td>\n",
       "      <td>4.486683</td>\n",
       "      <td>0.915195</td>\n",
       "      <td>1.881219</td>\n",
       "      <td>4.733739</td>\n",
       "      <td>4.261041</td>\n",
       "    </tr>\n",
       "  </tbody>\n",
       "</table>\n",
       "</div>"
      ],
      "text/plain": [
       "         x_0       x_1       x_2       x_3       x_4       x_5       x_6  \\\n",
       "id                                                                         \n",
       "0   0.220902  1.704661  3.145539  2.069166  3.248110  1.655190  0.336612   \n",
       "1   4.970893  2.728854  1.974131  1.230789  1.915259  3.573415  2.897298   \n",
       "2   4.261701  0.055729  1.623474  2.224815  4.037181  2.625306  2.679721   \n",
       "3   4.109848  2.355999  2.030721  0.741282  3.873136  0.900767  0.493190   \n",
       "4   4.268486  4.547079  3.115409  4.988304  0.899760  4.486683  0.915195   \n",
       "\n",
       "         x_7       x_8       x_9  \n",
       "id                                \n",
       "0   1.794711  0.719335  2.405603  \n",
       "1   4.279815  0.255498  0.682067  \n",
       "2   4.849078  3.586963  3.269388  \n",
       "3   2.479181  0.666730  2.686895  \n",
       "4   1.881219  4.733739  4.261041  "
      ]
     },
     "execution_count": 94,
     "metadata": {},
     "output_type": "execute_result"
    }
   ],
   "source": [
    "pool_df.head()"
   ]
  },
  {
   "cell_type": "code",
   "execution_count": 95,
   "metadata": {
    "collapsed": true
   },
   "outputs": [],
   "source": [
    "rmse = lambda y_true, y_pred: np.sqrt(mean_squared_error(y_true, y_pred))"
   ]
  },
  {
   "cell_type": "code",
   "execution_count": 130,
   "metadata": {
    "collapsed": true
   },
   "outputs": [],
   "source": [
    "def oracle(x):\n",
    "    query = \"java -cp ./OracleRegression.jar Oracle\"\n",
    "    for xi in x:\n",
    "        query += \" \" + str(xi)\n",
    "    return float(commands.getoutput(query))\n",
    "\n",
    "def call(i, objs, step):\n",
    "    pred = [oracle(o) for o in objs[i*step:i*step+step]]\n",
    "    return pred\n",
    "\n",
    "def oracle_predict(objects):\n",
    "    step = (objects.shape[0]/8)+1 if objects.shape[0]%8 else objects.shape[0]/8\n",
    "    result = np.array(P(n_jobs=8)(dl(call)(i, objects, step) for i in range(8))).ravel()\n",
    "#     return result\n",
    "    return np.concatenate(result)"
   ]
  },
  {
   "cell_type": "code",
   "execution_count": 138,
   "metadata": {
    "collapsed": true
   },
   "outputs": [],
   "source": [
    "def cv_score(estimator, x, y):\n",
    "    ind = KFold(len(x), n_folds = 3, shuffle = True)\n",
    "    \n",
    "    score = 0\n",
    "\n",
    "    for train_ind, test_ind in KFold(len(x), n_folds = 3, shuffle = True):\n",
    "        x_train, x_test = x[train_ind], x[test_ind]\n",
    "        y_train, y_test = y[train_ind], y[test_ind]\n",
    "        estimator.fit(x_train, y_train)\n",
    "        \n",
    "        y_pred = estimator.predict(x_test)\n",
    "        score += mean_squared_error(y_test, y_pred)\n",
    "    \n",
    "    return np.sqrt(score / 3.0)"
   ]
  },
  {
   "cell_type": "code",
   "execution_count": 139,
   "metadata": {
    "collapsed": true
   },
   "outputs": [],
   "source": [
    "from sklearn.ensemble import GradientBoostingRegressor"
   ]
  },
  {
   "cell_type": "code",
   "execution_count": 143,
   "metadata": {
    "collapsed": true
   },
   "outputs": [],
   "source": [
    "from sklearn.cross_validation import KFold"
   ]
  },
  {
   "cell_type": "code",
   "execution_count": 144,
   "metadata": {
    "collapsed": true
   },
   "outputs": [],
   "source": [
    "from sklearn.cluster import KMeans, MiniBatchKMeans"
   ]
  },
  {
   "cell_type": "code",
   "execution_count": 149,
   "metadata": {
    "collapsed": false
   },
   "outputs": [],
   "source": [
    "def active_learning(train_df, test_df, pool_df, max_train, pack_size=200):\n",
    "    minibatch = MiniBatchKMeans(n_clusters=300, batch_size=600)\n",
    "    \n",
    "    scores = []\n",
    "    \n",
    "    x_test = test_df.iloc[:,1:]\n",
    "    y_test = test_df.iloc[:,0]\n",
    "    \n",
    "    regr = None\n",
    "    \n",
    "    for j in range(4):\n",
    "        print j\n",
    "        if len(scores) > 0:\n",
    "            x_pool = pool_df.sample(10000)\n",
    "            y_pool_error = regr.predict(x_pool)\n",
    "            \n",
    "            ## threshold y_pool_error\n",
    "            arange = np.arange(len(y_pool_error))\n",
    "            thresh_idx = y_pool_error > np.mean(y_pool_error)\n",
    "            target_idx = arange[thresh_idx]\n",
    "            target_pool_x = x_pool.iloc[target_idx]\n",
    "            target_pool_y_error = y_pool_error[thresh_idx]\n",
    "            print np.mean(y_pool_error)\n",
    "            print \"target_pool len\", len(target_pool_x)\n",
    "            plt.clf()\n",
    "            plt.plot(np.sort(target_pool_y_error))\n",
    "            \n",
    "            ## cluster y_pool_error\n",
    "            minibatch.fit(target_pool_x)\n",
    "            uniq,_,counts = np.unique(minibatch.labels_, return_inverse=True, return_counts=True)\n",
    "#             density = counts/float(len(target_pool_x))\n",
    "#             target_pool_density = 1 - density[minibatch.labels_]\n",
    "\n",
    "#             fi = target_pool_density*target_pool_y_error\n",
    "#             targets = np.argsort(fi)[-pack_size:]\n",
    "            \n",
    "            targed_index = []\n",
    "            for i in np.argsort(counts)[-20:]:\n",
    "                targed_index += list(((target_pool_x[uniq[i] == minibatch.labels_]).index))\n",
    "            targed_index = np.array(targed_index)\n",
    "            \n",
    "            \n",
    "            print \"choice\", targed_index, len(targed_index)/3\n",
    "            target_x = target_pool_x.loc[np.random.choice(targed_index, len(targed_index)/3, replace=False)]\n",
    "            print \"to oracle \", len(target_x)\n",
    "            \n",
    "#             return target_x\n",
    "            target_y = oracle_predict(target_x.as_matrix())\n",
    "            \n",
    "            oracle_df = pd.concat([target_x, pd.Series(target_y, index=target_x.index, name=\"y\")], axis=1)\n",
    "            train_df = pd.concat([train_df, oracle_df])\n",
    "            pool_df = pool_df.drop(oracle_df.index)\n",
    "            \n",
    "        print \"  \", train_df.shape, test_df.shape, pool_df.shape\n",
    "        \n",
    "        regr = GradientBoostingRegressor(n_estimators=2800, max_depth=5, learning_rate=0.2, random_state=300)\n",
    "        \n",
    "        ## score\n",
    "        x_train = train_df.iloc[:,1:].as_matrix()\n",
    "        y_train = train_df.iloc[:,0].as_matrix()\n",
    "        regr.fit(x_train, y_train)\n",
    "\n",
    "#         score = rmse(y_test, regr.predict(x_test))\n",
    "        score = cv_score(regr, x_train, y_train)\n",
    "        scores.append(score)\n",
    "        print scores\n",
    "        \n",
    "        ## error predictor\n",
    "        y_error = np.abs(y_train - regr.predict(x_train))\n",
    "        regr.fit(x_train, y_error)\n",
    "\n",
    "    return train_df, scores"
   ]
  },
  {
   "cell_type": "code",
   "execution_count": 148,
   "metadata": {
    "collapsed": false,
    "scrolled": false
   },
   "outputs": [
    {
     "name": "stdout",
     "output_type": "stream",
     "text": [
      "0\n",
      "   (3000, 11) (7000, 11) (997000, 10)\n",
      "[91899550942.00856]\n",
      "1\n",
      "3355944537.94\n",
      "target_pool len 317\n",
      "choice [811143 485864 574280 251804 678417 736267 694282 888810 201065 910340\n",
      "  20282  52315 398300 811652 283901 699566 751625  40770 684121 517931\n",
      " 353339 131813 430416 948950 686094 463626 619635 724922 330417 627314\n",
      " 879594 552714 780543 402909 350213 877460 845272] 7\n",
      "to oracle  7\n",
      "   (3007, 11) (7000, 11) (996993, 10)\n",
      "[91899550942.00856, 0.48651380133463196]\n",
      "2\n",
      "0.10037962309\n",
      "target_pool len 2895\n",
      "choice [572226 485443 275448 955980 651920 818018 394516 805174  35451 788637\n",
      " 863319 586866 303665 958093 831081 358493 290705 223489 900170  66990\n",
      " 306392  80853 586573 673913 730453 915576 979860 567201 530023 258266\n",
      "  18717  95089 644871 359917 842636 751614 122518 373418 393892 155182\n",
      " 134333 142976  23864 110611  86518 174544 479632 117041 575857 677538\n",
      " 209716 392096    593  77294 406835 175130 269277 236576 514175 738361\n",
      " 747463  48440 464875  69913 396962  70689 766223 409417 539662 150765\n",
      " 689217 556596 398186  68942  65166 733836 773135 992467  83201 901783\n",
      " 457242 764942 187853 670442 218810 519894 117346 393090 367251 946363\n",
      " 969435 478219 721256 889533 488177 272680 587127 831433 234830 550840\n",
      "  82667 404231 189628  55225 173552 865338 377880 229806  10997 353045\n",
      " 579230 970530 466757 591197 273797  52586 566010 362657 109286 679216\n",
      " 181473 120992 473633 772644 828336 430735 903825 904022 335344 624030\n",
      "  72567 577480 887998 651998 108780 694021 792310 233280 275623 504797\n",
      " 425052 543724 740847 324079 954155 993044   4218 811298 468206 861293\n",
      " 328538   4126 922251 959302 600277 826986 561543 990313 739532 536103\n",
      "  87801 156756 865806 921174 305119 112292 402239 936750 359494 603369\n",
      " 604651 351595 860362 672885  31260 188787 454931 166924   5480 468641\n",
      " 575415 220478 960977 361394 253720 987033 567960 875309 785097 554620\n",
      " 973907 288303 429751  73320 648847 171077 742144 269921 695582 963954\n",
      " 615434 162246 557910  30770 341016 158078 637289 210117  94827 233325\n",
      " 818994 679827  16097  56180 906360 105590 389267 359319 845204 915911\n",
      " 670343 305592 954625  55004 900767 186711  76227 998862  53069 560284\n",
      " 608440 178476 666572 788377 555322 420235 637830 814942 957908 646527\n",
      " 954342 235324 384841 781565 264976 267012 158836 836734  33147 255482\n",
      " 652131 553854  66177 452751 151070 441077 412464 962660 996184 840251\n",
      " 537244 285160 828862 217693 725228 638465 836351 869766 451713 248343\n",
      " 958252 539405 470921 849129 224774 322466 801745 365387 650688 396300\n",
      " 570144 759618 323060 327950 722807 400898 258282 631560 587743 289672\n",
      " 564536 590968 357727 539124 718491 240273 192662 548369 555911  18509\n",
      " 191569 249341 567393 822619 506488 742123 251789 161658 156210 394005\n",
      " 477724 136585 248371 911499 812620 506613 644493 216854 135546 240706\n",
      " 394562 687999 118714 199814 406290 751908 864405 553090 227255 654891\n",
      " 162087 789521 726904 284225 787884 375711 580607 600504 876798  14730\n",
      " 902936 624125 103202 251368 905407 340185 895071 190918 365042 428156] 70\n",
      "to oracle  70\n",
      "   (3077, 11) (7000, 11) (996923, 10)\n",
      "[91899550942.00856, 0.48651380133463196, 0.47737156844750117]\n",
      "3\n",
      "0.0844384239114\n",
      "target_pool len 3191\n",
      "choice [153122 929106 956271 496051 972854 265382 130282 377828 460829 674764\n",
      " 342919 126475 774453 117924 737076 392999 864958 883339 236142 388093\n",
      " 413264 988775 985662 820418 929338 773547 892540 820523 480408  38541\n",
      " 538430 485794 538980 641086 165997  42756 452629 437544 788564 269710\n",
      " 492392 411492 135229 164545 961408 182240 321919 118069 677020 200106\n",
      " 857077 617896 759044 289292 560594 768267 795622  95641 580186 312391\n",
      " 175634 203478  57091 263604 983307   5210  33510 983173 774460 123865\n",
      "  80785 403962 270445 320030 666592  43276 159539 643774  10342  30785\n",
      " 598395 927276 580740 319031 116280 475136 323385 354742 561686 330328\n",
      " 173708 841032 795394 332355 531408  32623 211642 506837 447593 456614\n",
      " 350806 843714 120437 390711   2222 976799 646266 427112  70460 582906\n",
      " 185121 567752 336687  25078 830777 607317 292092 987456 717326 406188\n",
      "  73426 827599 770566 228008 283982 700675 607942 928838 972919 675705\n",
      " 975541 718116 269724 418096 957876 171976 363626 542093 131561 925941\n",
      " 227218 880775 690854 381508 474064 811250 297562 821113 969389 311449\n",
      " 641253  63957 460704 813600 978110 159377 151194 754686 222894 745957\n",
      " 836912 362152 896464 671154 439427 290805  96759 720350 212323 167416\n",
      "  59447 450790 277555 439295 252809 984121 223591 636125 505374 686548\n",
      " 837219 752292 556923 184750  30713 729796 225773 751561 595690 890335\n",
      " 381350 368448 602692 501381 301930 995925 741685 712414  46751 268503\n",
      " 866771 525840 528830 121302 366268 629595 974452 735089 211175 766087\n",
      " 806751 950256 465229 806919 914374 388776  88021 162723 721759 857672\n",
      " 369943 698827 889230 719518 523854 466717 671312 186729 696401  50014\n",
      " 679472  59290 545082  14064 343730 147672 262323 744178 351886 206290\n",
      "  29716 235769 258656 333163 377955 338365 193263 536631 817501 925890\n",
      " 822626 837397 360425  34754 141179 465253 412752 618608 681846 228964\n",
      "   6155 206357 923662 496622 344817 940942 669508 174157  70919 714686\n",
      " 749683 431005 866115 137474 158252  88346 861775 478479 665350 979451\n",
      "  17898 683397 660954 504557 520283 826003 166535 432007 524525 830677\n",
      " 140134 636476 378443 108670 635320 234343 708715 877209 358703 224830\n",
      " 790688 409621 859289 616136 217844 152664 449762 164053 258892 519066\n",
      " 268791 800396 257319 979117 624264 827369 466041  52395 219383  15114\n",
      " 640343  60150 712193 853102 935571 739600 292728 779452 747672 934575\n",
      " 665190 489023 681615 630938 426255  79059 748058 196350 873554 330954\n",
      " 455560 390797 388966 290657 740863 687072 857216  75254 453238 886289\n",
      " 876211 244287 246312 757078 339940 957807 613168 327137 516586 459223\n",
      " 260171 764404 313753 891624 766434 754422 910339 601460 870722 808127\n",
      " 165851] 74\n",
      "to oracle  74\n",
      "   (3151, 11) (7000, 11) (996849, 10)\n",
      "[91899550942.00856, 0.48651380133463196, 0.47737156844750117, 0.47849373543414775]\n"
     ]
    },
    {
     "data": {
      "image/png": "[encoded data removed]",
      "text/plain": [
       "<matplotlib.figure.Figure at 0x10dd026d0>"
      ]
     },
     "metadata": {},
     "output_type": "display_data"
    }
   ],
   "source": [
    "al_train_df, al_scores = active_learning(train_df, test_df, pool_df, 40000, 240)\n",
    "# active_learning(train_df, test_df, pool_df, 40000, 240)"
   ]
  },
  {
   "cell_type": "code",
   "execution_count": null,
   "metadata": {
    "collapsed": true
   },
   "outputs": [],
   "source": []
  },
  {
   "cell_type": "code",
   "execution_count": null,
   "metadata": {
    "collapsed": true
   },
   "outputs": [],
   "source": []
  },
  {
   "cell_type": "code",
   "execution_count": null,
   "metadata": {
    "collapsed": true
   },
   "outputs": [],
   "source": []
  },
  {
   "cell_type": "code",
   "execution_count": 124,
   "metadata": {
    "collapsed": false
   },
   "outputs": [
    {
     "data": {
      "text/plain": [
       "array([[26.181371925673748, 10.948754419061121],\n",
       "       [6.963157445563727, 1.3903902287806085],\n",
       "       [13.543951869849625, 14.621560003434485],\n",
       "       [0.6958972603987401, 64.01579330473115],\n",
       "       [544.3824765653862, 2.3815617486125937], [], [], []], dtype=object)"
      ]
     },
     "execution_count": 124,
     "metadata": {},
     "output_type": "execute_result"
    }
   ],
   "source": [
    "oracle_predict(temp.as_matrix()[:10])"
   ]
  },
  {
   "cell_type": "code",
   "execution_count": 129,
   "metadata": {
    "collapsed": false
   },
   "outputs": [
    {
     "data": {
      "text/plain": [
       "array([[26.181371925673748, 10.948754419061121],\n",
       "       [6.963157445563727, 1.3903902287806085],\n",
       "       [13.543951869849625, 14.621560003434485],\n",
       "       [0.6958972603987401, 64.01579330473115],\n",
       "       [544.3824765653862, 2.3815617486125937], [], [], []], dtype=object)"
      ]
     },
     "execution_count": 129,
     "metadata": {},
     "output_type": "execute_result"
    }
   ],
   "source": [
    "np.concatenate([temp1])"
   ]
  },
  {
   "cell_type": "code",
   "execution_count": null,
   "metadata": {
    "collapsed": true
   },
   "outputs": [],
   "source": []
  },
  {
   "cell_type": "code",
   "execution_count": null,
   "metadata": {
    "collapsed": true
   },
   "outputs": [],
   "source": []
  },
  {
   "cell_type": "code",
   "execution_count": null,
   "metadata": {
    "collapsed": true
   },
   "outputs": [],
   "source": []
  },
  {
   "cell_type": "code",
   "execution_count": null,
   "metadata": {
    "collapsed": true
   },
   "outputs": [],
   "source": []
  },
  {
   "cell_type": "code",
   "execution_count": null,
   "metadata": {
    "collapsed": true
   },
   "outputs": [],
   "source": []
  },
  {
   "cell_type": "code",
   "execution_count": null,
   "metadata": {
    "collapsed": true
   },
   "outputs": [],
   "source": []
  },
  {
   "cell_type": "code",
   "execution_count": null,
   "metadata": {
    "collapsed": true
   },
   "outputs": [],
   "source": []
  },
  {
   "cell_type": "code",
   "execution_count": null,
   "metadata": {
    "collapsed": true
   },
   "outputs": [],
   "source": []
  },
  {
   "cell_type": "code",
   "execution_count": null,
   "metadata": {
    "collapsed": true
   },
   "outputs": [],
   "source": []
  },
  {
   "cell_type": "code",
   "execution_count": null,
   "metadata": {
    "collapsed": true
   },
   "outputs": [],
   "source": []
  },
  {
   "cell_type": "code",
   "execution_count": 111,
   "metadata": {
    "collapsed": false
   },
   "outputs": [
    {
     "data": {
      "text/plain": [
       "False"
      ]
     },
     "execution_count": 111,
     "metadata": {},
     "output_type": "execute_result"
    }
   ],
   "source": [
    "70548921522.161743 > 122269859896.38976"
   ]
  },
  {
   "cell_type": "code",
   "execution_count": null,
   "metadata": {
    "collapsed": true
   },
   "outputs": [],
   "source": []
  },
  {
   "cell_type": "code",
   "execution_count": null,
   "metadata": {
    "collapsed": true
   },
   "outputs": [],
   "source": []
  },
  {
   "cell_type": "code",
   "execution_count": null,
   "metadata": {
    "collapsed": true
   },
   "outputs": [],
   "source": []
  },
  {
   "cell_type": "code",
   "execution_count": 44,
   "metadata": {
    "collapsed": true
   },
   "outputs": [],
   "source": [
    "def active_learning(train_df, test_df, pool_df, max_train, pack_size=80):\n",
    "    global committee\n",
    "    scores = []\n",
    "    \n",
    "#     while len(train_df) < max_train:\n",
    "    for j in range(4):\n",
    "        print j\n",
    "        if len(scores) > 0:\n",
    "            pool_sample_df = pool_df.sample(10000)\n",
    "            print \"   \", pool_sample_df.shape\n",
    "            c_pred = np.array([c.predict(pool_sample_df.as_matrix()) for c in committee])\n",
    "#             c_pred = P(n_jobs=8)(dl(pred_committee)(i, pool_sample_df.as_matrix()) for i in range(len(committee)))\n",
    "            c_pred_std = np.std(c_pred, axis=0)\n",
    "            interest_df = pool_sample_df.iloc[np.argsort(c_pred_std)[-pack_size-pack_size:-pack_size]]\n",
    "            y_pred = oracle_predict(interest_df.as_matrix())\n",
    "\n",
    "            oracle_df = pd.concat([interest_df, pd.Series(y_pred,\n",
    "                                                          index=interest_df.index,\n",
    "                                                          name=\"y\")], axis=1)\n",
    "            train_df = pd.concat([train_df, oracle_df])\n",
    "            pool_df = pool_df.drop(oracle_df.index)\n",
    "\n",
    "        print \"  \", train_df.shape, test_df.shape, pool_df.shape\n",
    "\n",
    "        committee = [c.fit(train_df.iloc[:,1:], train_df.iloc[:,0]) for c in committee]\n",
    "        y_committee = np.array([c.predict(test_df.iloc[:,1:]) for c in committee])\n",
    "        y_pred = np.mean(y_committee, axis=0)\n",
    "\n",
    "        scores.append(rmse(test_df.iloc[:,0], y_pred))\n",
    "        print scores\n",
    "        plt.plot(range(len(scores)), scores)\n",
    "        \n",
    "    return train_df, scores"
   ]
  },
  {
   "cell_type": "code",
   "execution_count": 45,
   "metadata": {
    "collapsed": false
   },
   "outputs": [
    {
     "name": "stdout",
     "output_type": "stream",
     "text": [
      "0\n",
      "   (20000, 11) (7000, 11) (980000, 10)\n",
      "[18454888487.776913]\n",
      "1\n",
      "    (10000, 10)\n"
     ]
    },
    {
     "ename": "ValueError",
     "evalue": "zero-dimensional arrays cannot be concatenated",
     "output_type": "error",
     "traceback": [
      "\u001b[0;31m---------------------------------------------------------------------------\u001b[0m",
      "\u001b[0;31mValueError\u001b[0m                                Traceback (most recent call last)",
      "\u001b[0;32m<ipython-input-45-5b3391794817>\u001b[0m in \u001b[0;36m<module>\u001b[0;34m()\u001b[0m\n\u001b[0;32m----> 1\u001b[0;31m \u001b[0mal_train_df\u001b[0m\u001b[0;34m,\u001b[0m \u001b[0mal_scores\u001b[0m \u001b[0;34m=\u001b[0m \u001b[0mactive_learning\u001b[0m\u001b[0;34m(\u001b[0m\u001b[0mtrain_df\u001b[0m\u001b[0;34m,\u001b[0m \u001b[0mtest_df\u001b[0m\u001b[0;34m,\u001b[0m \u001b[0mpool_df\u001b[0m\u001b[0;34m,\u001b[0m \u001b[0;36m40000\u001b[0m\u001b[0;34m,\u001b[0m \u001b[0;36m240\u001b[0m\u001b[0;34m)\u001b[0m\u001b[0;34m\u001b[0m\u001b[0m\n\u001b[0m",
      "\u001b[0;32m<ipython-input-44-343653e29b3e>\u001b[0m in \u001b[0;36mactive_learning\u001b[0;34m(train_df, test_df, pool_df, max_train, pack_size)\u001b[0m\n\u001b[1;32m     13\u001b[0m             \u001b[0mc_pred_std\u001b[0m \u001b[0;34m=\u001b[0m \u001b[0mnp\u001b[0m\u001b[0;34m.\u001b[0m\u001b[0mstd\u001b[0m\u001b[0;34m(\u001b[0m\u001b[0mc_pred\u001b[0m\u001b[0;34m,\u001b[0m \u001b[0maxis\u001b[0m\u001b[0;34m=\u001b[0m\u001b[0;36m0\u001b[0m\u001b[0;34m)\u001b[0m\u001b[0;34m\u001b[0m\u001b[0m\n\u001b[1;32m     14\u001b[0m             \u001b[0minterest_df\u001b[0m \u001b[0;34m=\u001b[0m \u001b[0mpool_sample_df\u001b[0m\u001b[0;34m.\u001b[0m\u001b[0miloc\u001b[0m\u001b[0;34m[\u001b[0m\u001b[0mnp\u001b[0m\u001b[0;34m.\u001b[0m\u001b[0margsort\u001b[0m\u001b[0;34m(\u001b[0m\u001b[0mc_pred_std\u001b[0m\u001b[0;34m)\u001b[0m\u001b[0;34m[\u001b[0m\u001b[0;34m-\u001b[0m\u001b[0mpack_size\u001b[0m\u001b[0;34m-\u001b[0m\u001b[0mpack_size\u001b[0m\u001b[0;34m:\u001b[0m\u001b[0;34m-\u001b[0m\u001b[0mpack_size\u001b[0m\u001b[0;34m]\u001b[0m\u001b[0;34m]\u001b[0m\u001b[0;34m\u001b[0m\u001b[0m\n\u001b[0;32m---> 15\u001b[0;31m             \u001b[0my_pred\u001b[0m \u001b[0;34m=\u001b[0m \u001b[0moracle_predict\u001b[0m\u001b[0;34m(\u001b[0m\u001b[0minterest_df\u001b[0m\u001b[0;34m.\u001b[0m\u001b[0mas_matrix\u001b[0m\u001b[0;34m(\u001b[0m\u001b[0;34m)\u001b[0m\u001b[0;34m)\u001b[0m\u001b[0;34m\u001b[0m\u001b[0m\n\u001b[0m\u001b[1;32m     16\u001b[0m \u001b[0;34m\u001b[0m\u001b[0m\n\u001b[1;32m     17\u001b[0m             oracle_df = pd.concat([interest_df, pd.Series(y_pred,\n",
      "\u001b[0;32m<ipython-input-22-8d8c928eeeff>\u001b[0m in \u001b[0;36moracle_predict\u001b[0;34m(objects)\u001b[0m\n\u001b[1;32m     12\u001b[0m     \u001b[0mstep\u001b[0m \u001b[0;34m=\u001b[0m \u001b[0;34m(\u001b[0m\u001b[0mobjects\u001b[0m\u001b[0;34m.\u001b[0m\u001b[0mshape\u001b[0m\u001b[0;34m[\u001b[0m\u001b[0;36m0\u001b[0m\u001b[0;34m]\u001b[0m\u001b[0;34m/\u001b[0m\u001b[0;36m8\u001b[0m\u001b[0;34m)\u001b[0m\u001b[0;34m+\u001b[0m\u001b[0;36m1\u001b[0m \u001b[0;32mif\u001b[0m \u001b[0mobjects\u001b[0m\u001b[0;34m.\u001b[0m\u001b[0mshape\u001b[0m\u001b[0;34m[\u001b[0m\u001b[0;36m0\u001b[0m\u001b[0;34m]\u001b[0m\u001b[0;34m%\u001b[0m\u001b[0;36m8\u001b[0m \u001b[0;32melse\u001b[0m \u001b[0mobjects\u001b[0m\u001b[0;34m.\u001b[0m\u001b[0mshape\u001b[0m\u001b[0;34m[\u001b[0m\u001b[0;36m0\u001b[0m\u001b[0;34m]\u001b[0m\u001b[0;34m/\u001b[0m\u001b[0;36m8\u001b[0m\u001b[0;34m\u001b[0m\u001b[0m\n\u001b[1;32m     13\u001b[0m     \u001b[0mresult\u001b[0m \u001b[0;34m=\u001b[0m \u001b[0mnp\u001b[0m\u001b[0;34m.\u001b[0m\u001b[0marray\u001b[0m\u001b[0;34m(\u001b[0m\u001b[0mP\u001b[0m\u001b[0;34m(\u001b[0m\u001b[0mn_jobs\u001b[0m\u001b[0;34m=\u001b[0m\u001b[0;36m8\u001b[0m\u001b[0;34m)\u001b[0m\u001b[0;34m(\u001b[0m\u001b[0mdl\u001b[0m\u001b[0;34m(\u001b[0m\u001b[0mcall\u001b[0m\u001b[0;34m)\u001b[0m\u001b[0;34m(\u001b[0m\u001b[0mi\u001b[0m\u001b[0;34m,\u001b[0m \u001b[0mobjects\u001b[0m\u001b[0;34m,\u001b[0m \u001b[0mstep\u001b[0m\u001b[0;34m)\u001b[0m \u001b[0;32mfor\u001b[0m \u001b[0mi\u001b[0m \u001b[0;32min\u001b[0m \u001b[0mrange\u001b[0m\u001b[0;34m(\u001b[0m\u001b[0;36m8\u001b[0m\u001b[0;34m)\u001b[0m\u001b[0;34m)\u001b[0m\u001b[0;34m)\u001b[0m\u001b[0;34m.\u001b[0m\u001b[0mravel\u001b[0m\u001b[0;34m(\u001b[0m\u001b[0;34m)\u001b[0m\u001b[0;34m\u001b[0m\u001b[0m\n\u001b[0;32m---> 14\u001b[0;31m     \u001b[0;32mreturn\u001b[0m \u001b[0mnp\u001b[0m\u001b[0;34m.\u001b[0m\u001b[0mconcatenate\u001b[0m\u001b[0;34m(\u001b[0m\u001b[0mresult\u001b[0m\u001b[0;34m)\u001b[0m\u001b[0;34m\u001b[0m\u001b[0m\n\u001b[0m",
      "\u001b[0;31mValueError\u001b[0m: zero-dimensional arrays cannot be concatenated"
     ]
    },
    {
     "data": {
      "image/png": "[encoded data removed]",
      "text/plain": [
       "<matplotlib.figure.Figure at 0x10d0e4c50>"
      ]
     },
     "metadata": {},
     "output_type": "display_data"
    }
   ],
   "source": [
    "al_train_df, al_scores = active_learning(train_df, test_df, pool_df, 40000, 240)"
   ]
  },
  {
   "cell_type": "code",
   "execution_count": 30,
   "metadata": {
    "collapsed": false
   },
   "outputs": [
    {
     "data": {
      "text/plain": [
       "array([ 0.01,  0.11,  0.21,  0.31,  0.41,  0.51,  0.61,  0.71,  0.81,  0.91])"
      ]
     },
     "execution_count": 30,
     "metadata": {},
     "output_type": "execute_result"
    }
   ],
   "source": [
    "np.arange(0.01, 1.0, 0.1)"
   ]
  },
  {
   "cell_type": "code",
   "execution_count": 31,
   "metadata": {
    "collapsed": false
   },
   "outputs": [
    {
     "name": "stdout",
     "output_type": "stream",
     "text": [
      "Best parameters set found on development set:\n",
      "()\n",
      "{'learning_rate': 0.21000000000000002}\n",
      "()\n",
      "Grid scores on development set:\n",
      "()\n",
      "-1106216723421570924544.000 (+/-1630128657211112030208.000) for {'learning_rate': 0.01}\n",
      "-1058063767085602832384.000 (+/-1500228326094929657856.000) for {'learning_rate': 0.21000000000000002}\n",
      "-1278200119220578287616.000 (+/-1934491812402613977088.000) for {'learning_rate': 0.41000000000000003}\n",
      "-1464297959947117002752.000 (+/-2132779931370038755328.000) for {'learning_rate': 0.6100000000000001}\n",
      "-1696885822736067723264.000 (+/-2327461831870418518016.000) for {'learning_rate': 0.81000000000000005}\n",
      "()\n"
     ]
    }
   ],
   "source": [
    "from sklearn.grid_search import GridSearchCV\n",
    "\n",
    "params = {'learning_rate': np.arange(0.01, 1.0, 0.2)}\n",
    "gsc = GridSearchCV(GradientBoostingRegressor(n_estimators=2800, max_depth=5), params,\n",
    "                       cv=5, scoring=\"mean_squared_error\", n_jobs=8)\n",
    "gsc.fit(train_df.iloc[:,1:], train_df.iloc[:,0])\n",
    "print(\"Best parameters set found on development set:\")\n",
    "print()\n",
    "print(gsc.best_params_)\n",
    "print()\n",
    "print(\"Grid scores on development set:\")\n",
    "print()\n",
    "for params, mean_score, scores in gsc.grid_scores_:\n",
    "    print(\"%0.3f (+/-%0.03f) for %r\"\n",
    "          % (mean_score, scores.std() * 2, params))\n",
    "print()"
   ]
  },
  {
   "cell_type": "markdown",
   "metadata": {},
   "source": [
    "# Обучаемся на ошибке"
   ]
  },
  {
   "cell_type": "code",
   "execution_count": 178,
   "metadata": {
    "collapsed": true
   },
   "outputs": [],
   "source": [
    "br = BaggingRegressor(n_estimators=300, n_jobs=8, random_state=300+i, oob_score=True, )"
   ]
  },
  {
   "cell_type": "code",
   "execution_count": 180,
   "metadata": {
    "collapsed": false
   },
   "outputs": [
    {
     "data": {
      "text/plain": [
       "BaggingRegressor(base_estimator=None, bootstrap=True,\n",
       "         bootstrap_features=False, max_features=1.0, max_samples=1.0,\n",
       "         n_estimators=300, n_jobs=8, oob_score=True, random_state=302,\n",
       "         verbose=0)"
      ]
     },
     "execution_count": 180,
     "metadata": {},
     "output_type": "execute_result"
    }
   ],
   "source": [
    "br.fit(train_df.iloc[:,1:], train_df.iloc[:,0])"
   ]
  },
  {
   "cell_type": "code",
   "execution_count": 182,
   "metadata": {
    "collapsed": false
   },
   "outputs": [
    {
     "name": "stdout",
     "output_type": "stream",
     "text": [
      "22407720907.7\n",
      "11851407552.6\n"
     ]
    }
   ],
   "source": [
    "test_pred = br.predict(test_df.iloc[:,1:])\n",
    "print rmse(test_df.iloc[:,0], test_pred)\n",
    "print rmse(train_df.iloc[:,0], br.predict(train_df.iloc[:,1:]))"
   ]
  },
  {
   "cell_type": "code",
   "execution_count": 183,
   "metadata": {
    "collapsed": true
   },
   "outputs": [],
   "source": [
    "abs_error = np.abs(test_pred - test_df.iloc[:,0])\n",
    "error = test_pred - test_df.iloc[:,0]"
   ]
  },
  {
   "cell_type": "code",
   "execution_count": 184,
   "metadata": {
    "collapsed": true
   },
   "outputs": [],
   "source": [
    "br_abs = br.fit(test_df.iloc[:,1:], abs_error)\n",
    "br_def = br.fit(test_df.iloc[:,1:], error)"
   ]
  },
  {
   "cell_type": "markdown",
   "metadata": {},
   "source": [
    "# br_abs"
   ]
  },
  {
   "cell_type": "code",
   "execution_count": null,
   "metadata": {
    "collapsed": true
   },
   "outputs": [],
   "source": []
  },
  {
   "cell_type": "code",
   "execution_count": 186,
   "metadata": {
    "collapsed": true
   },
   "outputs": [],
   "source": [
    "# br_abs\n",
    "abs_sample = df_X.sample(6000)\n",
    "abs_U_error = br_abs.predict(abs_sample) # предиктим ошибку"
   ]
  },
  {
   "cell_type": "code",
   "execution_count": 192,
   "metadata": {
    "collapsed": false
   },
   "outputs": [],
   "source": [
    "abs_inds = np.argsort(abs_U_error)[-50:]"
   ]
  },
  {
   "cell_type": "code",
   "execution_count": 213,
   "metadata": {
    "collapsed": false,
    "scrolled": true
   },
   "outputs": [
    {
     "name": "stdout",
     "output_type": "stream",
     "text": [
      "0 7\n",
      "7 14\n",
      "14 21\n",
      "21 28\n",
      "28 35\n",
      "35 42\n",
      "42 49\n",
      "49 56\n"
     ]
    }
   ],
   "source": [
    "abs_interest_x = abs_sample.iloc[abs_inds]\n",
    "abs_interest_y = oracle_predict(abs_interest_x.as_matrix())"
   ]
  },
  {
   "cell_type": "code",
   "execution_count": 217,
   "metadata": {
    "collapsed": false
   },
   "outputs": [],
   "source": [
    "abs_interest_df = pd.concat([abs_interest_x, pd.Series(abs_interest_y,\n",
    "                                                          index=abs_interest_x.index,\n",
    "                                                          name=\"y\")], axis=1)\n"
   ]
  },
  {
   "cell_type": "code",
   "execution_count": 220,
   "metadata": {
    "collapsed": false
   },
   "outputs": [
    {
     "data": {
      "text/plain": [
       "BaggingRegressor(base_estimator=None, bootstrap=True,\n",
       "         bootstrap_features=False, max_features=1.0, max_samples=1.0,\n",
       "         n_estimators=300, n_jobs=8, oob_score=True, random_state=302,\n",
       "         verbose=0)"
      ]
     },
     "execution_count": 220,
     "metadata": {},
     "output_type": "execute_result"
    }
   ],
   "source": [
    "abs_tmp_df = pd.concat([train_df, abs_interest_df])\n",
    "br.fit(abs_tmp_df.iloc[:,1:], abs_tmp_df.iloc[:,0])"
   ]
  },
  {
   "cell_type": "code",
   "execution_count": 221,
   "metadata": {
    "collapsed": false
   },
   "outputs": [
    {
     "name": "stdout",
     "output_type": "stream",
     "text": [
      "91516913732.4\n",
      "0.142982455205\n"
     ]
    }
   ],
   "source": [
    "print rmse(test_df.iloc[:,0], br.predict(test_df.iloc[:,1:]))\n",
    "print rmse(abs_tmp_df.iloc[:,0], br.predict(abs_tmp_df.iloc[:,1:]))"
   ]
  },
  {
   "cell_type": "code",
   "execution_count": null,
   "metadata": {
    "collapsed": true
   },
   "outputs": [],
   "source": [
    "22407720907.7 /"
   ]
  },
  {
   "cell_type": "code",
   "execution_count": null,
   "metadata": {
    "collapsed": true
   },
   "outputs": [],
   "source": []
  },
  {
   "cell_type": "code",
   "execution_count": 49,
   "metadata": {
    "collapsed": false
   },
   "outputs": [
    {
     "data": {
      "text/plain": [
       "True"
      ]
     },
     "execution_count": 49,
     "metadata": {},
     "output_type": "execute_result"
    }
   ],
   "source": [
    "28552625858.331615, 28552625858.331615"
   ]
  },
  {
   "cell_type": "code",
   "execution_count": 45,
   "metadata": {
    "collapsed": true
   },
   "outputs": [],
   "source": [
    "from sklearn.ensemble import GradientBoostingRegressor"
   ]
  },
  {
   "cell_type": "code",
   "execution_count": 60,
   "metadata": {
    "collapsed": false
   },
   "outputs": [
    {
     "data": {
      "text/plain": [
       "(46033, 10)"
      ]
     },
     "execution_count": 60,
     "metadata": {},
     "output_type": "execute_result"
    }
   ],
   "source": [
    "x_train_df.shape"
   ]
  },
  {
   "cell_type": "code",
   "execution_count": 128,
   "metadata": {
    "collapsed": false
   },
   "outputs": [],
   "source": [
    "gbr = BaggingRegressor(n_estimators=300,n_jobs=8,random_state=300+i,oob_score=True)\n",
    "gbr.fit(train_df.iloc[:,1:], train_df.iloc[:,0])"
   ]
  },
  {
   "cell_type": "code",
   "execution_count": 129,
   "metadata": {
    "collapsed": false
   },
   "outputs": [
    {
     "data": {
      "text/plain": [
       "BaggingRegressor(base_estimator=None, bootstrap=True,\n",
       "         bootstrap_features=False, max_features=1.0, max_samples=1.0,\n",
       "         n_estimators=300, n_jobs=8, oob_score=True, random_state=302,\n",
       "         verbose=0)"
      ]
     },
     "execution_count": 129,
     "metadata": {},
     "output_type": "execute_result"
    }
   ],
   "source": []
  },
  {
   "cell_type": "code",
   "execution_count": 85,
   "metadata": {
    "collapsed": true
   },
   "outputs": [],
   "source": [
    "train_pred = gbr.predict(train_df.iloc[:,1:]) # , train_df.iloc[:,0]"
   ]
  },
  {
   "cell_type": "code",
   "execution_count": 141,
   "metadata": {
    "collapsed": false
   },
   "outputs": [],
   "source": [
    "train_diff = train_pred - train_df.iloc[:,0]"
   ]
  },
  {
   "cell_type": "code",
   "execution_count": 142,
   "metadata": {
    "collapsed": false
   },
   "outputs": [
    {
     "data": {
      "text/plain": [
       "BaggingRegressor(base_estimator=None, bootstrap=True,\n",
       "         bootstrap_features=False, max_features=1.0, max_samples=1.0,\n",
       "         n_estimators=300, n_jobs=8, oob_score=True, random_state=302,\n",
       "         verbose=0)"
      ]
     },
     "execution_count": 142,
     "metadata": {},
     "output_type": "execute_result"
    }
   ],
   "source": [
    "gbr.fit(train_df.iloc[:,1:], train_diff)"
   ]
  },
  {
   "cell_type": "code",
   "execution_count": 147,
   "metadata": {
    "collapsed": false,
    "scrolled": true
   },
   "outputs": [
    {
     "name": "stdout",
     "output_type": "stream",
     "text": [
      "Int64Index([736978, 178742, 183606, 442154, 542105,  41258, 348942, 932473,\n",
      "            256895, 781563,\n",
      "            ...\n",
      "            889536, 624670, 249447, 705433, 827939, 473498, 668331, 970855,\n",
      "            742342, 169294],\n",
      "           dtype='int64', name=u'id', length=10000)\n"
     ]
    },
    {
     "data": {
      "text/plain": [
       "[<matplotlib.lines.Line2D at 0x11b20b810>]"
      ]
     },
     "execution_count": 147,
     "metadata": {},
     "output_type": "execute_result"
    },
    {
     "data": {
      "image/png": "[encoded data removed]",
      "text/plain": [
       "<matplotlib.figure.Figure at 0x1193d3090>"
      ]
     },
     "metadata": {},
     "output_type": "display_data"
    }
   ],
   "source": [
    "sample = train_df.iloc[:,1:].sample(10000)\n",
    "print sample.index\n",
    "error_pred = gbr.predict(sample)\n",
    "plt.plot(error_pred)"
   ]
  },
  {
   "cell_type": "code",
   "execution_count": 125,
   "metadata": {
    "collapsed": false
   },
   "outputs": [
    {
     "data": {
      "text/plain": [
       "array([ -3.19208853e-02,   1.69065358e+04,   4.28523018e+01,\n",
       "         6.79666473e+06,   1.08823268e+02,  -2.29566705e+01,\n",
       "        -1.42559157e+01,  -2.48976837e+05,   5.16621877e+03,\n",
       "         4.02904740e+05])"
      ]
     },
     "execution_count": 125,
     "metadata": {},
     "output_type": "execute_result"
    }
   ],
   "source": [
    "error_pred"
   ]
  },
  {
   "cell_type": "code",
   "execution_count": 116,
   "metadata": {
    "collapsed": false
   },
   "outputs": [
    {
     "data": {
      "text/plain": [
       "[<matplotlib.lines.Line2D at 0x112d5b490>]"
      ]
     },
     "execution_count": 116,
     "metadata": {},
     "output_type": "execute_result"
    },
    {
     "data": {
      "image/png": "[encoded data removed]",
      "text/plain": [
       "<matplotlib.figure.Figure at 0x112dd3a10>"
      ]
     },
     "metadata": {},
     "output_type": "display_data"
    }
   ],
   "source": [
    "plt.plot(np.sort(np.abs(error_pred)))"
   ]
  },
  {
   "cell_type": "markdown",
   "metadata": {},
   "source": [
    "# BRUTEFORCE"
   ]
  },
  {
   "cell_type": "code",
   "execution_count": 164,
   "metadata": {
    "collapsed": false
   },
   "outputs": [
    {
     "data": {
      "text/plain": [
       "GradientBoostingRegressor(alpha=0.9, init=None, learning_rate=0.02, loss='ls',\n",
       "             max_depth=5, max_features=None, max_leaf_nodes=None,\n",
       "             min_samples_leaf=1, min_samples_split=2,\n",
       "             min_weight_fraction_leaf=0.0, n_estimators=3000,\n",
       "             random_state=300, subsample=1.0, verbose=0, warm_start=False)"
      ]
     },
     "execution_count": 164,
     "metadata": {},
     "output_type": "execute_result"
    }
   ],
   "source": [
    "gbr = GradientBoostingRegressor(n_estimators=3000, max_depth=5, learning_rate=0.02, random_state=300)\n",
    "gbr.fit(train_df.iloc[:,1:], train_df.iloc[:,0])"
   ]
  },
  {
   "cell_type": "code",
   "execution_count": 165,
   "metadata": {
    "collapsed": false
   },
   "outputs": [],
   "source": [
    "Y = gbr.predict(df_X.as_matrix())"
   ]
  },
  {
   "cell_type": "code",
   "execution_count": 166,
   "metadata": {
    "collapsed": true
   },
   "outputs": [],
   "source": [
    "Y_df = pd.Series(Y, index=df_X.index, name=\"y\")"
   ]
  },
  {
   "cell_type": "code",
   "execution_count": 167,
   "metadata": {
    "collapsed": true
   },
   "outputs": [],
   "source": [
    "Y_df.to_csv(\"submission4.csv\", header=True)"
   ]
  },
  {
   "cell_type": "code",
   "execution_count": null,
   "metadata": {
    "collapsed": true
   },
   "outputs": [],
   "source": [
    "len(y_train_df), len(x_train_df)"
   ]
  },
  {
   "cell_type": "code",
   "execution_count": null,
   "metadata": {
    "collapsed": true
   },
   "outputs": [],
   "source": []
  },
  {
   "cell_type": "code",
   "execution_count": null,
   "metadata": {
    "collapsed": true
   },
   "outputs": [],
   "source": [
    "len(df_y)"
   ]
  },
  {
   "cell_type": "code",
   "execution_count": null,
   "metadata": {
    "collapsed": true
   },
   "outputs": [],
   "source": [
    "x_train_df = df_X.loc[df_y.index]\n",
    "y_train_df = df_y"
   ]
  },
  {
   "cell_type": "code",
   "execution_count": null,
   "metadata": {
    "collapsed": true
   },
   "outputs": [],
   "source": [
    "x_data = x_train_df.as_matrix()\n",
    "y_data = y_train_df.as_matrix().ravel()"
   ]
  },
  {
   "cell_type": "code",
   "execution_count": null,
   "metadata": {
    "collapsed": true
   },
   "outputs": [],
   "source": [
    "y_train_df.as_matrix().ravel()"
   ]
  },
  {
   "cell_type": "code",
   "execution_count": null,
   "metadata": {
    "collapsed": true
   },
   "outputs": [],
   "source": [
    "x_pool_df = df_X.drop(df_y.index)\n",
    "x_pool = x_pool_df.as_matrix()"
   ]
  },
  {
   "cell_type": "code",
   "execution_count": null,
   "metadata": {
    "collapsed": true
   },
   "outputs": [],
   "source": [
    "x_data = x_data[:10000]\n",
    "y_data = y_data[:10000]"
   ]
  },
  {
   "cell_type": "code",
   "execution_count": null,
   "metadata": {
    "collapsed": true
   },
   "outputs": [],
   "source": [
    "from sklearn import cross_validation as cv\n",
    "from sklearn.metrics import mean_squared_error"
   ]
  },
  {
   "cell_type": "code",
   "execution_count": null,
   "metadata": {
    "collapsed": true
   },
   "outputs": [],
   "source": [
    "x_train, x_test, y_train, y_test = cv.train_test_split(x_data, y_data,\n",
    "                                                           test_size=0.33, random_state=288)"
   ]
  },
  {
   "cell_type": "code",
   "execution_count": null,
   "metadata": {
    "collapsed": true
   },
   "outputs": [],
   "source": [
    "def oracle(x):\n",
    "    query = \"java -cp ./OracleRegression.jar Oracle\"\n",
    "    for xi in x:\n",
    "        query += \" \" + str(xi)\n",
    "    return float(commands.getoutput(query))"
   ]
  },
  {
   "cell_type": "markdown",
   "metadata": {},
   "source": [
    "# Pool-based sampling\n",
    "## Query by Committee\n",
    "### Max Variance"
   ]
  },
  {
   "cell_type": "code",
   "execution_count": null,
   "metadata": {
    "collapsed": true
   },
   "outputs": [],
   "source": [
    "from joblib import Parallel as P\n",
    "from joblib import delayed as dl"
   ]
  },
  {
   "cell_type": "code",
   "execution_count": null,
   "metadata": {
    "collapsed": true
   },
   "outputs": [],
   "source": [
    "from sklearn.ensemble import GradientBoostingRegressor\n",
    "from sklearn.ensemble import RandomForestRegressor\n",
    "from sklearn.ensemble import AdaBoostRegressor\n",
    "from sklearn.ensemble import BaggingRegressor\n",
    "from sklearn.linear_model import ElasticNet\n",
    "from sklearn.linear_model import LinearRegression\n",
    "from sklearn.svm import SVR"
   ]
  },
  {
   "cell_type": "markdown",
   "metadata": {},
   "source": [
    "![](http://take.ms/VoqnT)"
   ]
  },
  {
   "cell_type": "code",
   "execution_count": null,
   "metadata": {
    "collapsed": true
   },
   "outputs": [],
   "source": []
  },
  {
   "cell_type": "code",
   "execution_count": null,
   "metadata": {
    "collapsed": true
   },
   "outputs": [],
   "source": [
    "rmse = lambda y_true, y_pred: np.sqrt(mean_squared_error(y_true, y_pred))"
   ]
  },
  {
   "cell_type": "code",
   "execution_count": null,
   "metadata": {
    "collapsed": true
   },
   "outputs": [],
   "source": [
    "regressors_dict = {\n",
    "    0: {\n",
    "        'r': GradientBoostingRegressor,\n",
    "        'p': {\"n_estimators\":250}\n",
    "    },\n",
    "    1: {\n",
    "        'r': RandomForestRegressor,\n",
    "        'p': {\"n_estimators\":250}\n",
    "    },\n",
    "    2: {\n",
    "        'r': AdaBoostRegressor,\n",
    "        'p': {\"n_estimators\":250}\n",
    "    },\n",
    "    3: {\n",
    "        'r': ElasticNet,\n",
    "        'p': {}\n",
    "    },\n",
    "    4: {\n",
    "        'r': LinearRegression,\n",
    "        'p': {\"n_jobs\":8}\n",
    "    },\n",
    "    5: {\n",
    "        'r': SVR,\n",
    "        'p': {\"n_estimators\":250}\n",
    "    },\n",
    "}\n",
    "\n",
    "\n",
    "regressor1 = GradientBoostingRegressor(n_estimators=250, max_depth=10, random_state=270)\n",
    "regressor2 = RandomForestRegressor(n_estimators=250, max_depth=10, n_jobs=8, random_state=281)\n",
    "regressor3 = RandomForestRegressor(n_estimators=250, max_depth=10, n_jobs=8, random_state=280)\n",
    "regressor4 = BaggingRegressor(n_estimators=250, n_jobs=8, random_state=300, oob_score=True)\n",
    "regressor5 = BaggingRegressor(n_estimators=250, n_jobs=8, random_state=140, oob_score=True)\n",
    "regressor6 = BaggingRegressor(n_estimators=250, n_jobs=8, random_state=140, oob_score=True)\n",
    "regressor7 = BaggingRegressor(n_estimators=250, n_jobs=8, random_state=140, oob_score=True)\n",
    "# regressor3 = AdaBoostRegressor(n_estimators=250, )\n",
    "# regressor4 = ElasticNet()\n",
    "# regressor5 = LinearRegression(n_jobs=8)\n",
    "# regressor6 = SVR()\n",
    "regressors = [\n",
    "    regressor4,\n",
    "    regressor5,\n",
    "    regressor6,\n",
    "    regressor7,\n",
    "]"
   ]
  },
  {
   "cell_type": "code",
   "execution_count": null,
   "metadata": {
    "collapsed": true
   },
   "outputs": [],
   "source": [
    "from sklearn.grid_search import GridSearchCV"
   ]
  },
  {
   "cell_type": "code",
   "execution_count": null,
   "metadata": {
    "collapsed": true
   },
   "outputs": [],
   "source": [
    "import time\n",
    "s = time.time()\n",
    "[regressor.fit(x_train, y_train) for regressor in regressors]\n",
    "print time.time() - s"
   ]
  },
  {
   "cell_type": "code",
   "execution_count": null,
   "metadata": {
    "collapsed": true
   },
   "outputs": [],
   "source": [
    "scores = [rmse(y_test, regressor.predict(x_test)) for regressor in regressors]"
   ]
  },
  {
   "cell_type": "code",
   "execution_count": null,
   "metadata": {
    "collapsed": true
   },
   "outputs": [],
   "source": [
    "pool_pred = np.array([regressor.predict(x_pool) for regressor in regressors])"
   ]
  },
  {
   "cell_type": "code",
   "execution_count": null,
   "metadata": {
    "collapsed": true
   },
   "outputs": [],
   "source": [
    "pool_std = np.std(pool_pred, axis=0)"
   ]
  },
  {
   "cell_type": "code",
   "execution_count": null,
   "metadata": {
    "collapsed": true
   },
   "outputs": [],
   "source": [
    "worse80 = np.argsort(pool_std)[-80:]"
   ]
  },
  {
   "cell_type": "code",
   "execution_count": null,
   "metadata": {
    "collapsed": true
   },
   "outputs": [],
   "source": []
  },
  {
   "cell_type": "code",
   "execution_count": null,
   "metadata": {
    "collapsed": true
   },
   "outputs": [],
   "source": [
    "worse80_from_pool = x_pool_df.iloc[worse80].index"
   ]
  },
  {
   "cell_type": "code",
   "execution_count": null,
   "metadata": {
    "collapsed": true
   },
   "outputs": [],
   "source": [
    "def call_papa(i, indices):\n",
    "#     return P(n_jobs=8)(dl(oracle)(x_pool_df.loc[ind]) for ind in indices[i*10:i*10 + 10])\n",
    "    return [oracle(x_pool_df.loc[ind]) for ind in indices[i*10:i*10 + 10]]"
   ]
  },
  {
   "cell_type": "code",
   "execution_count": null,
   "metadata": {
    "collapsed": true
   },
   "outputs": [],
   "source": [
    "s = time.time()\n",
    "from_papa = np.array(P(n_jobs=8)(dl(call_papa)(i, worse80_from_pool) for i in range(8))).ravel()\n",
    "print time.time() - s"
   ]
  },
  {
   "cell_type": "code",
   "execution_count": null,
   "metadata": {
    "collapsed": true
   },
   "outputs": [],
   "source": [
    "x_pool_df.loc[worse80_from_pool]\n",
    "from_papa"
   ]
  },
  {
   "cell_type": "code",
   "execution_count": null,
   "metadata": {
    "collapsed": true
   },
   "outputs": [],
   "source": [
    "np.argmin(scores)"
   ]
  },
  {
   "cell_type": "code",
   "execution_count": null,
   "metadata": {
    "collapsed": true
   },
   "outputs": [],
   "source": [
    "scores"
   ]
  },
  {
   "cell_type": "code",
   "execution_count": null,
   "metadata": {
    "collapsed": true
   },
   "outputs": [],
   "source": [
    "def active_learning(train_df, test_df, pool_df, committee, max_train, pack_size=80):\n",
    "    scores = []\n",
    "    \n",
    "    for len(train_df) < max_train:\n",
    "        if len(scores) > 0:\n",
    "            c_pred = np.array([c.predict(pool_df.as_matrix()) for c in committeem])\n",
    "            c_pred_std = np.std(c_pred, axis=0)\n",
    "            interest_df = pool_df.iloc[np.argsort(c_pred_std)[-pack_size:]]\n",
    "            y_pred = oralce(interest_df.as_matrix())\n",
    "            \n",
    "            oracle_df = pd.concat([interest_df, pd.Series(y_pred,\n",
    "                                                          index=interest_df.index,\n",
    "                                                          name=\"y\")], axis=1)\n",
    "            train_df = pd.concat([train_df, oracle_df])\n",
    "            \n",
    "        pass"
   ]
  },
  {
   "cell_type": "code",
   "execution_count": null,
   "metadata": {
    "collapsed": true
   },
   "outputs": [],
   "source": []
  },
  {
   "cell_type": "code",
   "execution_count": null,
   "metadata": {
    "collapsed": true
   },
   "outputs": [],
   "source": [
    "x_train_df.index"
   ]
  },
  {
   "cell_type": "code",
   "execution_count": null,
   "metadata": {
    "collapsed": true
   },
   "outputs": [],
   "source": [
    "y_train_df.index"
   ]
  },
  {
   "cell_type": "code",
   "execution_count": null,
   "metadata": {
    "collapsed": true
   },
   "outputs": [],
   "source": [
    "oracle(x_train_df.iloc[0])"
   ]
  },
  {
   "cell_type": "code",
   "execution_count": null,
   "metadata": {
    "collapsed": true
   },
   "outputs": [],
   "source": [
    "df = pd.concat([y_train_df, x_train_df], axis=1)"
   ]
  },
  {
   "cell_type": "code",
   "execution_count": null,
   "metadata": {
    "collapsed": true
   },
   "outputs": [],
   "source": [
    "df.iloc[:, 1:]"
   ]
  },
  {
   "cell_type": "code",
   "execution_count": null,
   "metadata": {
    "collapsed": true
   },
   "outputs": [],
   "source": []
  },
  {
   "cell_type": "code",
   "execution_count": null,
   "metadata": {
    "collapsed": true
   },
   "outputs": [],
   "source": [
    "pd.concat([pd.DataFrame([1,2,3,4]), pd.Series([1,2,3,4], name=\"label\")], axis=1)"
   ]
  },
  {
   "cell_type": "code",
   "execution_count": null,
   "metadata": {
    "collapsed": true
   },
   "outputs": [],
   "source": []
  },
  {
   "cell_type": "code",
   "execution_count": 69,
   "metadata": {
    "collapsed": false
   },
   "outputs": [
    {
     "data": {
      "text/plain": [
       "110"
      ]
     },
     "execution_count": 69,
     "metadata": {},
     "output_type": "execute_result"
    }
   ],
   "source": [
    "df_X[100:].index[10]"
   ]
  },
  {
   "cell_type": "code",
   "execution_count": 74,
   "metadata": {
    "collapsed": false
   },
   "outputs": [
    {
     "data": {
      "text/plain": [
       "x_0    3.378987\n",
       "x_1    0.779177\n",
       "x_2    3.706624\n",
       "x_3    1.115239\n",
       "x_4    3.489957\n",
       "x_5    2.406349\n",
       "x_6    3.674683\n",
       "x_7    3.918399\n",
       "x_8    0.922906\n",
       "x_9    2.812284\n",
       "Name: 110, dtype: float64"
      ]
     },
     "execution_count": 74,
     "metadata": {},
     "output_type": "execute_result"
    }
   ],
   "source": [
    "df_X[100:].ix[110]"
   ]
  },
  {
   "cell_type": "code",
   "execution_count": null,
   "metadata": {
    "collapsed": true
   },
   "outputs": [],
   "source": [
    "874837,1408.5484951805192\n",
    "826466,6.297917259062075\n",
    "859199,4.516114511788225\n",
    "851128,1.1994851608453336E9\n",
    "818098,1.074580581110529E7\n",
    "853653,770550.38805992"
   ]
  },
  {
   "cell_type": "code",
   "execution_count": 95,
   "metadata": {
    "collapsed": false
   },
   "outputs": [
    {
     "data": {
      "text/plain": [
       "2.283685144992138"
      ]
     },
     "execution_count": 95,
     "metadata": {},
     "output_type": "execute_result"
    }
   ],
   "source": [
    "oracle(df_X.ix[770006])"
   ]
  },
  {
   "cell_type": "code",
   "execution_count": null,
   "metadata": {
    "collapsed": true
   },
   "outputs": [],
   "source": []
  }
 ],
 "metadata": {
  "kernelspec": {
   "display_name": "Python 2",
   "language": "python",
   "name": "python2"
  },
  "language_info": {
   "codemirror_mode": {
    "name": "ipython",
    "version": 2
   },
   "file_extension": ".py",
   "mimetype": "text/x-python",
   "name": "python",
   "nbconvert_exporter": "python",
   "pygments_lexer": "ipython2",
   "version": "2.7.10"
  }
 },
 "nbformat": 4,
 "nbformat_minor": 0
}
