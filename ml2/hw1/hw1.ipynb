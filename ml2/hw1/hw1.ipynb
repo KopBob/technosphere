{
 "cells": [
  {
   "cell_type": "code",
   "execution_count": 5,
   "metadata": {
    "collapsed": false
   },
   "outputs": [],
   "source": [
    "%load_ext autoreload\n",
    "%autoreload 2\n",
    "%matplotlib inline"
   ]
  },
  {
   "cell_type": "markdown",
   "metadata": {},
   "source": [
    "# HW2"
   ]
  },
  {
   "cell_type": "markdown",
   "metadata": {},
   "source": [
    "#### **Задание**: Реализовать взвешенное голосование между градиентным бустингом с логистической функцией потерь, AdaBoost и SVM. Реализацию SVM и AdaBoost взять из sklearn."
   ]
  },
  {
   "cell_type": "code",
   "execution_count": 33,
   "metadata": {
    "collapsed": true
   },
   "outputs": [],
   "source": [
    "import pandas as pd\n",
    "import numpy as np\n",
    "from sklearn import cross_validation as cv\n",
    "from sklearn.metrics import mean_squared_error, f1_score\n",
    "from sklearn.tree import DecisionTreeRegressor\n",
    "from sklearn import datasets\n",
    "from sklearn.cross_validation import KFold\n",
    "from matplotlib import pyplot as plt"
   ]
  },
  {
   "cell_type": "code",
   "execution_count": 7,
   "metadata": {
    "collapsed": false
   },
   "outputs": [],
   "source": [
    "df = pd.read_csv(\"./spam.train.txt\", delim_whitespace=True, header=None)\n",
    "x_data = df.ix[:, 1:].as_matrix(); y_data = df.ix[:, 0].as_matrix()\n",
    "y_data[y_data == 0] = -1\n",
    "x_train, x_test, y_train, y_test = cv.train_test_split(x_data, y_data,\n",
    "                                                       test_size=0.25, random_state=288)\n"
   ]
  },
  {
   "cell_type": "markdown",
   "metadata": {},
   "source": [
    "# CART Implementation "
   ]
  },
  {
   "cell_type": "code",
   "execution_count": 8,
   "metadata": {
    "collapsed": false
   },
   "outputs": [],
   "source": [
    "from src.CART import CART, best_split_mse\n",
    "from src.model_tree import best_split_mse_brute_force"
   ]
  },
  {
   "cell_type": "code",
   "execution_count": 9,
   "metadata": {
    "collapsed": false
   },
   "outputs": [
    {
     "name": "stdout",
     "output_type": "stream",
     "text": [
      "1 loops, best of 3: 3.3 s per loop\n"
     ]
    }
   ],
   "source": [
    "%timeit CART().fit(x_train, y_train)"
   ]
  },
  {
   "cell_type": "code",
   "execution_count": 10,
   "metadata": {
    "collapsed": false
   },
   "outputs": [
    {
     "name": "stdout",
     "output_type": "stream",
     "text": [
      "Cart : 0.339277251539\n",
      "SKlearn: 0.360369474479\n",
      "Cart : 0.332214001595\n",
      "SKlearn: 0.360647878265\n",
      "Cart : 0.300975971041\n",
      "SKlearn: 0.356802120599\n"
     ]
    }
   ],
   "source": [
    "def run_cv(X, y):\n",
    "    kf = KFold(len(y), n_folds=3)\n",
    "\n",
    "    for train_index, test_index in kf:\n",
    "        X_train, X_test = X[train_index], X[test_index]\n",
    "        y_train, y_test = y[train_index], y[test_index]\n",
    "\n",
    "        cart = CART()\n",
    "        cart.fit(X_train, y_train)\n",
    "        y_pred = cart.predict(X_test)\n",
    "        print \"Cart :\", mean_squared_error(y_test, y_pred)\n",
    "        \n",
    "        dtr = DecisionTreeRegressor(max_depth=4)\n",
    "        dtr.fit(X_train, y_train)\n",
    "        y_pred = dtr.predict(X_test)\n",
    "        print \"SKlearn:\", mean_squared_error(y_test, y_pred)\n",
    "        \n",
    "run_cv(x_train, y_train)"
   ]
  },
  {
   "cell_type": "markdown",
   "metadata": {},
   "source": [
    "# GBoost Implementation"
   ]
  },
  {
   "cell_type": "code",
   "execution_count": 11,
   "metadata": {
    "collapsed": false
   },
   "outputs": [],
   "source": [
    "from src.GBoost import GBoost"
   ]
  },
  {
   "cell_type": "code",
   "execution_count": 12,
   "metadata": {
    "collapsed": true
   },
   "outputs": [],
   "source": [
    "from sklearn.ensemble import GradientBoostingClassifier"
   ]
  },
  {
   "cell_type": "code",
   "execution_count": 13,
   "metadata": {
    "collapsed": false
   },
   "outputs": [
    {
     "name": "stdout",
     "output_type": "stream",
     "text": [
      "0 1 2 3 4 5 6 7 8 9\n"
     ]
    }
   ],
   "source": [
    "gboost = GBoost(10)\n",
    "gboost.fit(x_train, y_train)"
   ]
  },
  {
   "cell_type": "code",
   "execution_count": 31,
   "metadata": {
    "collapsed": false
   },
   "outputs": [
    {
     "name": "stdout",
     "output_type": "stream",
     "text": [
      "0 1 2 3 4 5 6 7 8 9\n"
     ]
    }
   ],
   "source": [
    "gboost.fit(x_train, y_train)"
   ]
  },
  {
   "cell_type": "code",
   "execution_count": 34,
   "metadata": {
    "collapsed": false
   },
   "outputs": [
    {
     "data": {
      "text/plain": [
       "0.95214602861371489"
      ]
     },
     "execution_count": 34,
     "metadata": {},
     "output_type": "execute_result"
    }
   ],
   "source": [
    "pred = gboost.predict(x_test)\n",
    "f1_score(y_test, pred)"
   ]
  },
  {
   "cell_type": "code",
   "execution_count": 32,
   "metadata": {
    "collapsed": false
   },
   "outputs": [
    {
     "data": {
      "text/plain": [
       "array([-1,  1,  1, ..., -1, -1,  1])"
      ]
     },
     "execution_count": 32,
     "metadata": {},
     "output_type": "execute_result"
    }
   ],
   "source": [
    "gboost.predict(x_test)"
   ]
  },
  {
   "cell_type": "code",
   "execution_count": 35,
   "metadata": {
    "collapsed": false
   },
   "outputs": [
    {
     "data": {
      "text/plain": [
       "0.95339805825242718"
      ]
     },
     "execution_count": 35,
     "metadata": {},
     "output_type": "execute_result"
    }
   ],
   "source": [
    "gbc = GradientBoostingClassifier(n_estimators=10, max_depth=4)\n",
    "gbc.fit(x_train, y_train)\n",
    "pred = gbc.predict(x_test)\n",
    "f1_score(y_test, pred)"
   ]
  },
  {
   "cell_type": "markdown",
   "metadata": {},
   "source": [
    "# Performance Graph"
   ]
  },
  {
   "cell_type": "code",
   "execution_count": 16,
   "metadata": {
    "collapsed": false
   },
   "outputs": [],
   "source": [
    "from src.benchmark import draw_graph_hw1"
   ]
  },
  {
   "cell_type": "code",
   "execution_count": 37,
   "metadata": {
    "collapsed": false,
    "scrolled": true
   },
   "outputs": [
    {
     "name": "stdout",
     "output_type": "stream",
     "text": [
      "0 1 2 3 4 5 6 7 8 9 10 11 12 13 14 15 16 17 18 19 20 21 22 23 24 25 26 27 28 29 30 31 32 33 34 35 36 37 38 39 40 41 42 43 44 45 46 47 48 49 50 51 52 53 54 55 56 57 58 59 60 61 62 63 64 65 66 67 68 69 70 71 72 73 74 75 76 77 78 79 80 81 82 83 84 85 86 87 88 89 90 91 92 93 94 95 96 97 98 99 100\n"
     ]
    },
    {
     "data": {
      "image/png": "[encoded data removed]",
      "text/plain": [
       "<matplotlib.figure.Figure at 0x1266e1d10>"
      ]
     },
     "metadata": {},
     "output_type": "display_data"
    }
   ],
   "source": [
    "# Tooo long\n",
    "gboost_scores, sklearn_scores = draw_graph_hw1(x_train, x_test, y_train, y_test, 100)\n"
   ]
  },
  {
   "cell_type": "code",
   "execution_count": 38,
   "metadata": {
    "collapsed": true
   },
   "outputs": [],
   "source": [
    "np.savez(\"scores100_f1.dat\", gboost_scores=gboost_scores, sklearn_scores=sklearn_scores)"
   ]
  },
  {
   "cell_type": "code",
   "execution_count": 39,
   "metadata": {
    "collapsed": true
   },
   "outputs": [],
   "source": [
    "scores = np.load('./scores100_f1.dat.npz')"
   ]
  },
  {
   "cell_type": "code",
   "execution_count": 47,
   "metadata": {
    "collapsed": false
   },
   "outputs": [
    {
     "data": {
      "text/plain": [
       "<matplotlib.legend.Legend at 0x12f9edf90>"
      ]
     },
     "execution_count": 47,
     "metadata": {},
     "output_type": "execute_result"
    },
    {
     "data": {
      "image/png": "[encoded data removed]",
      "text/plain": [
       "<matplotlib.figure.Figure at 0x17f0ec110>"
      ]
     },
     "metadata": {},
     "output_type": "display_data"
    }
   ],
   "source": [
    "plt.figure(figsize=(15, 10))\n",
    "\n",
    "plt.plot(range(len(scores[\"gboost_scores\"])), (scores[\"gboost_scores\"]), c=\"r\", label='My GBoost')\n",
    "plt.plot(range(len(scores[\"sklearn_scores\"])), (scores[\"sklearn_scores\"]), c=\"b\", label='sklearn gboost')\n",
    "plt.plot(range(len(scores[\"sklearn_scores\"])), (scores[\"sklearn_scores\"])*1.03, c=\"y\", label='3% threshold')\n",
    "plt.plot(range(len(scores[\"sklearn_scores\"])), (scores[\"sklearn_scores\"])*0.97, c=\"y\")\n",
    "\n",
    "plt.legend(loc='upper left')"
   ]
  },
  {
   "cell_type": "markdown",
   "metadata": {
    "collapsed": true
   },
   "source": [
    "# Weighted Majority"
   ]
  },
  {
   "cell_type": "markdown",
   "metadata": {},
   "source": [
    "![http://www.kddresearch.org/Courses/Fall-2003/CIS732/Lectures/Lecture-20-20021107.pdf](http://take.ms/HrNMf)"
   ]
  },
  {
   "cell_type": "code",
   "execution_count": null,
   "metadata": {
    "collapsed": true
   },
   "outputs": [],
   "source": []
  },
  {
   "cell_type": "markdown",
   "metadata": {},
   "source": [
    "### GBoost"
   ]
  },
  {
   "cell_type": "code",
   "execution_count": 48,
   "metadata": {
    "collapsed": false
   },
   "outputs": [
    {
     "name": "stdout",
     "output_type": "stream",
     "text": [
      "0 1 2 3 4 5 6 7 8 9 10 11 12 13 14 15 16 17 18 19 20 21 22 23 24 25 26 27 28 29 30 31 32 33 34 35 36 37 38 39 40 41 42 43 44 45 46 47 48 49 50 51 52 53 54 55 56 57 58 59 60 61 62 63 64 65 66 67 68 69 70 71 72 73 74 75 76 77 78 79 80 81 82 83 84 85 86 87 88 89 90 91 92 93 94 95 96 97 98 99\n"
     ]
    }
   ],
   "source": [
    "gboost = GBoost(100)\n",
    "gboost.fit(x_train, y_train)"
   ]
  },
  {
   "cell_type": "code",
   "execution_count": 49,
   "metadata": {
    "collapsed": false
   },
   "outputs": [
    {
     "data": {
      "text/plain": [
       "0.97053045186640463"
      ]
     },
     "execution_count": 49,
     "metadata": {},
     "output_type": "execute_result"
    }
   ],
   "source": [
    "y_pred = gboost.predict(x_test)\n",
    "f1_score(y_test, y_pred)"
   ]
  },
  {
   "cell_type": "markdown",
   "metadata": {},
   "source": [
    "### AdaBoost"
   ]
  },
  {
   "cell_type": "code",
   "execution_count": 52,
   "metadata": {
    "collapsed": false
   },
   "outputs": [
    {
     "data": {
      "text/plain": [
       "0.95656417764763302"
      ]
     },
     "execution_count": 52,
     "metadata": {},
     "output_type": "execute_result"
    }
   ],
   "source": [
    "from sklearn.ensemble import AdaBoostClassifier\n",
    "\n",
    "ada_Boost_clf = AdaBoostClassifier(n_estimators=100, learning_rate=0.1)\n",
    "ada_Boost_clf.fit(x_train, y_train)\n",
    "y_pred = ada_Boost_clf.predict(x_test)\n",
    "f1_score(y_test, y_pred)"
   ]
  },
  {
   "cell_type": "markdown",
   "metadata": {},
   "source": [
    "### SVM"
   ]
  },
  {
   "cell_type": "code",
   "execution_count": 53,
   "metadata": {
    "collapsed": false
   },
   "outputs": [
    {
     "data": {
      "text/plain": [
       "0.95412844036697242"
      ]
     },
     "execution_count": 53,
     "metadata": {},
     "output_type": "execute_result"
    }
   ],
   "source": [
    "from sklearn.svm import SVC\n",
    "\n",
    "svc = SVC()\n",
    "svc.fit(x_train, y_train)\n",
    "y_pred = svc.predict(x_test)\n",
    "f1_score(y_test, y_pred)"
   ]
  },
  {
   "cell_type": "code",
   "execution_count": null,
   "metadata": {
    "collapsed": true
   },
   "outputs": [],
   "source": []
  },
  {
   "cell_type": "code",
   "execution_count": 54,
   "metadata": {
    "collapsed": true
   },
   "outputs": [],
   "source": [
    "predictors = [gboost, ada_Boost_clf, svc]"
   ]
  },
  {
   "cell_type": "code",
   "execution_count": null,
   "metadata": {
    "collapsed": true
   },
   "outputs": [],
   "source": []
  },
  {
   "cell_type": "code",
   "execution_count": 55,
   "metadata": {
    "collapsed": false
   },
   "outputs": [],
   "source": [
    "def weighted_majority(predictors, x_train, y_train, betta = 0.65):\n",
    "    n_samples = x_train.shape[0]\n",
    "    m_predictors = len(predictors)\n",
    "    w = np.ones(m_predictors)\n",
    "    \n",
    "    prediction = np.zeros((n_samples, m_predictors))\n",
    "    \n",
    "    for n in range(n_samples):\n",
    "        qneg = 0; qpos = 0\n",
    "        \n",
    "        for m in range(m_predictors):\n",
    "            pred = predictors[m].predict([x_train[n,:]])[0]\n",
    "\n",
    "            qneg += w[m] if pred == -1 else 0\n",
    "            qpos += w[m] if pred == 1 else 0\n",
    "            \n",
    "            if qneg > qpos:\n",
    "                prediction[n, m] = -1\n",
    "            elif qneg == qpos:\n",
    "                prediction[n, m] = 1 if np.random.randint(0,2) else -1\n",
    "            else:\n",
    "                prediction[n, m] = 1\n",
    "\n",
    "            if prediction[n, m] != y_train[n]:\n",
    "                w[m] *= betta\n",
    "    return np.array(w)"
   ]
  },
  {
   "cell_type": "code",
   "execution_count": 56,
   "metadata": {
    "collapsed": true
   },
   "outputs": [],
   "source": [
    "def weighted_predictor(x, predictors, weights):\n",
    "    pred = np.array([p.predict(x) for p in predictors])\n",
    "    pos = np.sum(np.multiply(pred == 1, weights[:, np.newaxis]), axis=0)\n",
    "    neg = np.sum(np.multiply(pred == -1, weights[:, np.newaxis]), axis=0)\n",
    "    y_pred = np.argmax(np.vstack((neg, pos)), axis=0)\n",
    "    y_pred[y_pred == 0] = -1\n",
    "    return y_pred"
   ]
  },
  {
   "cell_type": "code",
   "execution_count": null,
   "metadata": {
    "collapsed": true
   },
   "outputs": [],
   "source": []
  },
  {
   "cell_type": "code",
   "execution_count": 57,
   "metadata": {
    "collapsed": false
   },
   "outputs": [],
   "source": [
    "weights = weighted_majority(predictors, x_train, y_train)"
   ]
  },
  {
   "cell_type": "code",
   "execution_count": 58,
   "metadata": {
    "collapsed": false
   },
   "outputs": [
    {
     "data": {
      "text/plain": [
       "array([ 1.      ,  0.65    ,  0.274625])"
      ]
     },
     "execution_count": 58,
     "metadata": {},
     "output_type": "execute_result"
    }
   ],
   "source": [
    "weights"
   ]
  },
  {
   "cell_type": "code",
   "execution_count": 59,
   "metadata": {
    "collapsed": false
   },
   "outputs": [
    {
     "data": {
      "text/plain": [
       "0.97053045186640463"
      ]
     },
     "execution_count": 59,
     "metadata": {},
     "output_type": "execute_result"
    }
   ],
   "source": [
    "y_pred = weighted_predictor(x_test, predictors, weights)\n",
    "f1_score(y_test, y_pred)"
   ]
  },
  {
   "cell_type": "code",
   "execution_count": null,
   "metadata": {
    "collapsed": true
   },
   "outputs": [],
   "source": []
  },
  {
   "cell_type": "code",
   "execution_count": 67,
   "metadata": {
    "collapsed": false
   },
   "outputs": [
    {
     "data": {
      "text/plain": [
       "array([ -0.93167144,  -1.76774211,   0.80308418,   2.39029448,\n",
       "         1.99632864,   0.6367214 ,   5.53737606,  -0.84847191,\n",
       "        -1.42840489,   2.238404  ,   4.7883663 ,   1.66166894,\n",
       "         1.54702573,   5.05257533,   4.58085727,   6.8458436 ,\n",
       "         6.50156812,   0.91878568,  -0.69997419,   0.52064264,\n",
       "        -0.43104113,   5.60869662,  -0.36384589,   3.06282199,\n",
       "         1.2979362 ,  -0.33907877,   0.24065955,  -0.11321198,\n",
       "         2.33706207,  -0.44923558,  -0.20013917,  -1.46466066,\n",
       "        -0.23870664,  -1.62774476,   0.12143967,   2.58570947,\n",
       "         0.        ,   0.70334645,   0.03013795,  -1.23084101,\n",
       "         1.42278211,  -0.86552376,   1.95736635,   5.92624753,\n",
       "        -0.4713084 ,   1.23755545,  -0.27510018,   1.1751044 ,\n",
       "         0.1298106 ,  -1.57178258,   0.0134421 ,   3.50498884,\n",
       "         4.41674942,   0.23184211,  -0.33355059,   1.81530819,\n",
       "        11.49964354,   1.46040915,  -0.34268439,   1.31256295,\n",
       "         0.        ,  -0.05947766,   0.        ,  -0.07835955,\n",
       "         0.        ,   0.        ,   0.        ,   0.        ,\n",
       "         0.        ,   0.        ,   3.08794851,   7.93725125,\n",
       "        -0.15089645,   2.77459445,  -0.29471106,   6.50350978,\n",
       "         0.76123163,   0.24878819,  -0.86501024,   0.85105212,\n",
       "         0.77053425,  -0.36746496,   0.27195182,   3.85609738,\n",
       "        -0.81840139,   0.66196696,  -0.28467756,   0.796836  ,\n",
       "         1.82873229,   0.01184802,   1.09303544,   1.46917254,\n",
       "         1.16113841,   0.16799183,   1.22763874,   0.29082053,\n",
       "         0.76787855,  -0.2039395 ,   0.32854071,  -0.20400142,\n",
       "        -0.35225286,  10.49234208])"
      ]
     },
     "execution_count": 67,
     "metadata": {},
     "output_type": "execute_result"
    }
   ],
   "source": [
    "f_w = np.zeros(x_train.shape[1])\n",
    "\n",
    "def wide_walk(tree, feature_weigths):\n",
    "    if tree.split_feature is None:\n",
    "        return feature_weigths\n",
    "    \n",
    "    feature_weigths[tree.split_feature] += tree.score\n",
    "    \n",
    "    feature_weigths = wide_walk(tree.fb, feature_weigths)\n",
    "    feature_weigths = wide_walk(tree.tb, feature_weigths)\n",
    "    \n",
    "    return feature_weigths\n",
    "np.sum(np.array([wide_walk(p.tree, np.zeros(x_train.shape[1])) for p in predictors[0].ensembles]), axis=0)"
   ]
  },
  {
   "cell_type": "code",
   "execution_count": null,
   "metadata": {
    "collapsed": false
   },
   "outputs": [],
   "source": [
    "predictors[0].ensembles[0].tree"
   ]
  },
  {
   "cell_type": "code",
   "execution_count": null,
   "metadata": {
    "collapsed": true
   },
   "outputs": [],
   "source": []
  }
 ],
 "metadata": {
  "kernelspec": {
   "display_name": "Python 2",
   "language": "python",
   "name": "python2"
  },
  "language_info": {
   "codemirror_mode": {
    "name": "ipython",
    "version": 2
   },
   "file_extension": ".py",
   "mimetype": "text/x-python",
   "name": "python",
   "nbconvert_exporter": "python",
   "pygments_lexer": "ipython2",
   "version": "2.7.10"
  }
 },
 "nbformat": 4,
 "nbformat_minor": 0
}
