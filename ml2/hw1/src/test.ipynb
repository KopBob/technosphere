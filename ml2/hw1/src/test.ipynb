{
 "cells": [
  {
   "cell_type": "code",
   "execution_count": 1,
   "metadata": {
    "collapsed": false
   },
   "outputs": [],
   "source": [
    "%load_ext autoreload\n",
    "%autoreload 2\n",
    "%matplotlib inline"
   ]
  },
  {
   "cell_type": "code",
   "execution_count": 25,
   "metadata": {
    "collapsed": true
   },
   "outputs": [],
   "source": [
    "import pandas as pd\n",
    "import numpy as np\n",
    "from sklearn import cross_validation as cv\n",
    "from sklearn.metrics import mean_squared_error\n",
    "from sklearn.tree import DecisionTreeRegressor\n"
   ]
  },
  {
   "cell_type": "code",
   "execution_count": 3,
   "metadata": {
    "collapsed": false
   },
   "outputs": [],
   "source": [
    "df = pd.read_csv(\"./../spam.train.txt\", delim_whitespace=True, header=None)\n",
    "x_data = df.ix[:, 1:]; y_data = df.ix[:, 0]\n",
    "\n",
    "x_train, x_test, y_train, y_test = cv.train_test_split(x_data.as_matrix(), y_data.as_matrix(),\n",
    "                                                       test_size=0.25, random_state=288)"
   ]
  },
  {
   "cell_type": "code",
   "execution_count": 4,
   "metadata": {
    "collapsed": false
   },
   "outputs": [
    {
     "name": "stdout",
     "output_type": "stream",
     "text": [
      "(5319, 102)\n"
     ]
    }
   ],
   "source": [
    "print x_train.shape"
   ]
  },
  {
   "cell_type": "code",
   "execution_count": null,
   "metadata": {
    "collapsed": true
   },
   "outputs": [],
   "source": []
  },
  {
   "cell_type": "code",
   "execution_count": 5,
   "metadata": {
    "collapsed": true
   },
   "outputs": [],
   "source": [
    "from model_tree import best_split, build_tree, tree_predict_one, tree_predict"
   ]
  },
  {
   "cell_type": "code",
   "execution_count": 6,
   "metadata": {
    "collapsed": false
   },
   "outputs": [],
   "source": [
    "def best_split_test1():\n",
    "    a = np.array([6,5,4,5,6,7,4,3,17,12,15,14,16,19,17])\n",
    "    b = np.array([0,0,0,0,0,0,0,0,1,1,1,1,1,1,1])\n",
    "    _,_,val,_ = best_split(a, b)\n",
    "    assert(val == 12)\n",
    "best_split_test1()"
   ]
  },
  {
   "cell_type": "code",
   "execution_count": 33,
   "metadata": {
    "collapsed": false
   },
   "outputs": [
    {
     "name": "stdout",
     "output_type": "stream",
     "text": [
      "(array([7, 2, 6, 1, 3, 0, 4, 5]), array([ 9, 11, 10, 12,  8, 14, 13]), 12, 14354.800079365081)\n"
     ]
    }
   ],
   "source": [
    "def best_split_test2():\n",
    "    a = np.array([6,5,4,5,6,7,4,3,17,12,15,14,16,19,17])\n",
    "    b = np.array([10,39,20,40,30,20,10,30,154,167,187,154,167,187,143])\n",
    "    print best_split(a, b)\n",
    "    _,_,val,_ = best_split(a, b)\n",
    "    assert(val == 12)\n",
    "best_split_test2()"
   ]
  },
  {
   "cell_type": "code",
   "execution_count": 44,
   "metadata": {
    "collapsed": false
   },
   "outputs": [
    {
     "name": "stdout",
     "output_type": "stream",
     "text": [
      "1\n",
      "2\n",
      "1\n"
     ]
    }
   ],
   "source": [
    "def build_tree_test1(min_samples_leaf=1):\n",
    "    f1 = np.array([6,5,4,5,6,7,4,3,17,12,15,14,16,19,17])\n",
    "    f2 = np.array([6,5,4,5,6,7,34,20,17,12,15,14,16,19,17])\n",
    "    y = np.array([0,0,0,0,0,0,0,0,1, 1, 1, 1, 1, 1, 1])\n",
    "    x = np.vstack((f1,f2)).T\n",
    "    tree = build_tree(x, y, min_samples_leaf=min_samples_leaf)\n",
    "    return tree\n",
    "\n",
    "build_tree_test1();"
   ]
  },
  {
   "cell_type": "code",
   "execution_count": 45,
   "metadata": {
    "collapsed": false
   },
   "outputs": [
    {
     "name": "stdout",
     "output_type": "stream",
     "text": [
      "1\n",
      "2\n",
      "1\n"
     ]
    },
    {
     "data": {
      "text/plain": [
       "0.0"
      ]
     },
     "execution_count": 45,
     "metadata": {},
     "output_type": "execute_result"
    }
   ],
   "source": [
    "def tree_predict_test1():\n",
    "    tree = build_tree_test1(1)\n",
    "\n",
    "    return tree_predict_one([3,3], tree)\n",
    "tree_predict_test1()"
   ]
  },
  {
   "cell_type": "code",
   "execution_count": 68,
   "metadata": {
    "collapsed": false,
    "scrolled": true
   },
   "outputs": [
    {
     "name": "stdout",
     "output_type": "stream",
     "text": [
      "0.0577094382259\n"
     ]
    }
   ],
   "source": [
    "def tree_test_on_data(x_train, x_test, y_train, y_test):\n",
    "    tree = build_tree(x_train, y_train, min_samples_leaf=4, max_depth=6)\n",
    "    y_pred = tree_predict(x_test, tree)\n",
    "    \n",
    "    print mean_squared_error(y_test, y_pred)\n",
    "    \n",
    "    return tree\n",
    "    \n",
    "t = tree_test_on_data(x_train, x_test, y_train, y_test)"
   ]
  },
  {
   "cell_type": "code",
   "execution_count": 57,
   "metadata": {
    "collapsed": false
   },
   "outputs": [
    {
     "data": {
      "text/plain": [
       "array([0, 0, 1, ..., 0, 0, 0])"
      ]
     },
     "execution_count": 57,
     "metadata": {},
     "output_type": "execute_result"
    }
   ],
   "source": [
    "t.fb.y"
   ]
  },
  {
   "cell_type": "code",
   "execution_count": 31,
   "metadata": {
    "collapsed": false
   },
   "outputs": [
    {
     "name": "stdout",
     "output_type": "stream",
     "text": [
      "0.0620255543029\n",
      "0.061783164224\n",
      "0.0595398033321\n",
      "0.0653748590755\n",
      "1 loops, best of 3: 329 ms per loop\n"
     ]
    }
   ],
   "source": [
    "def test_sklearn_tree(x_train, x_test, y_train, y_test):\n",
    "    dtr = DecisionTreeRegressor(min_samples_leaf=3)\n",
    "    dtr.fit(x_train, y_train)\n",
    "    y_pred = dtr.predict(x_test)\n",
    "    print mean_squared_error(y_test, y_pred)\n",
    "%timeit test_sklearn_tree(x_train, x_test, y_train, y_test)"
   ]
  },
  {
   "cell_type": "code",
   "execution_count": null,
   "metadata": {
    "collapsed": false
   },
   "outputs": [],
   "source": [
    "for x in x_test:\n",
    "    print x[:2]"
   ]
  },
  {
   "cell_type": "code",
   "execution_count": null,
   "metadata": {
    "collapsed": true
   },
   "outputs": [],
   "source": []
  }
 ],
 "metadata": {
  "kernelspec": {
   "display_name": "Python 2",
   "language": "python",
   "name": "python2"
  },
  "language_info": {
   "codemirror_mode": {
    "name": "ipython",
    "version": 2
   },
   "file_extension": ".py",
   "mimetype": "text/x-python",
   "name": "python",
   "nbconvert_exporter": "python",
   "pygments_lexer": "ipython2",
   "version": "2.7.10"
  }
 },
 "nbformat": 4,
 "nbformat_minor": 0
}
