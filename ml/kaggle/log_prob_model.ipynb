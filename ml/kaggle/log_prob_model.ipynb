{
 "cells": [
  {
   "cell_type": "code",
   "execution_count": 9,
   "metadata": {
    "collapsed": false
   },
   "outputs": [
    {
     "name": "stdout",
     "output_type": "stream",
     "text": [
      "The autoreload extension is already loaded. To reload it, use:\n",
      "  %reload_ext autoreload\n"
     ]
    }
   ],
   "source": [
    "%load_ext autoreload\n",
    "%autoreload 2\n",
    "\n",
    "import pandas as pd\n",
    "import numpy as np\n",
    "from collections import Counter\n",
    "\n",
    "from sklearn.feature_extraction.text import TfidfVectorizer\n",
    "\n",
    "import pymongo\n",
    "\n",
    "\n",
    "client = pymongo.MongoClient('mongodb://donkey:27017/')\n",
    "db = client.sphere_kaggle"
   ]
  },
  {
   "cell_type": "code",
   "execution_count": 6,
   "metadata": {
    "collapsed": false
   },
   "outputs": [
    {
     "data": {
      "text/plain": [
       "[u'debug',\n",
       " u'errors',\n",
       " u'results',\n",
       " u'system.indexes',\n",
       " u'test',\n",
       " u'test_hashtag_data',\n",
       " u'test_text_data',\n",
       " u'test_tweets',\n",
       " u'train_hashtag_data',\n",
       " u'train_text_data',\n",
       " u'train_tweets',\n",
       " u'train_tweets_tmp',\n",
       " u'tweets',\n",
       " u'unrecognized_locations',\n",
       " u'users',\n",
       " u'vocabulary',\n",
       " u'words_log_probs']"
      ]
     },
     "execution_count": 6,
     "metadata": {},
     "output_type": "execute_result"
    }
   ],
   "source": [
    "db.collection_names()"
   ]
  },
  {
   "cell_type": "code",
   "execution_count": null,
   "metadata": {
    "collapsed": true
   },
   "outputs": [],
   "source": []
  },
  {
   "cell_type": "code",
   "execution_count": 10,
   "metadata": {
    "collapsed": false
   },
   "outputs": [],
   "source": [
    "label_1_counter = Counter(db.results.find_one({'_id':'label_1_counter'})[\"data\"])\n",
    "label_2_counter = Counter(db.results.find_one({'_id':'label_2_counter'})[\"data\"])\n",
    "label_3_counter = Counter(db.results.find_one({'_id':'label_3_counter'})[\"data\"])"
   ]
  },
  {
   "cell_type": "code",
   "execution_count": null,
   "metadata": {
    "collapsed": true
   },
   "outputs": [],
   "source": []
  },
  {
   "cell_type": "code",
   "execution_count": null,
   "metadata": {
    "collapsed": true
   },
   "outputs": [],
   "source": []
  },
  {
   "cell_type": "code",
   "execution_count": null,
   "metadata": {
    "collapsed": true
   },
   "outputs": [],
   "source": [
    "uniq_1 = label_1_counter - (label_2_counter + label_3_counter)\n",
    "uniq_2 = label_2_counter - (label_1_counter + label_3_counter)\n",
    "uniq_3 = label_3_counter - (label_1_counter + label_2_counter)"
   ]
  },
  {
   "cell_type": "code",
   "execution_count": 17,
   "metadata": {
    "collapsed": true
   },
   "outputs": [],
   "source": [
    "def get_dataframe(class_log_prob, name):\n",
    "    d = pd.DataFrame(class_log_prob)\n",
    "    d.index = d[0]\n",
    "    d.index.name = \"words\"\n",
    "    d.drop(0, axis=1, inplace=True)\n",
    "    d.columns = [name]\n",
    "    \n",
    "    return d"
   ]
  },
  {
   "cell_type": "code",
   "execution_count": 18,
   "metadata": {
    "collapsed": true
   },
   "outputs": [],
   "source": [
    "def reduce_uniq_size(uniq, counter=20):\n",
    "    words, count = zip(*uniq.most_common())\n",
    "    count = np.array(count)\n",
    "    words = np.array(words)\n",
    "    \n",
    "    indicies = count > counter\n",
    "    \n",
    "    return zip(words[indicies], count[indicies])\n",
    "    "
   ]
  },
  {
   "cell_type": "code",
   "execution_count": null,
   "metadata": {
    "collapsed": true
   },
   "outputs": [],
   "source": [
    "fd1 = get_dataframe(reduce_uniq_size(uniq_1), \"class_log_prob_1\")\n",
    "fd2 = get_dataframe(reduce_uniq_size(uniq_2), \"class_log_prob_2\")\n",
    "fd3 = get_dataframe(reduce_uniq_size(uniq_3), \"class_log_prob_3\")\n"
   ]
  },
  {
   "cell_type": "code",
   "execution_count": null,
   "metadata": {
    "collapsed": false
   },
   "outputs": [],
   "source": []
  },
  {
   "cell_type": "code",
   "execution_count": null,
   "metadata": {
    "collapsed": true
   },
   "outputs": [],
   "source": []
  },
  {
   "cell_type": "code",
   "execution_count": 11,
   "metadata": {
    "collapsed": true
   },
   "outputs": [],
   "source": [
    "def get_log_prob_from_neg_counter(counter):\n",
    "    counts = np.array(zip(*counter.most_common())[1])\n",
    "    counts += np.abs(np.min(counts)) + 1\n",
    "    return zip(zip(*counter.most_common())[0], np.log(counts) - np.log(np.sum(counts)))"
   ]
  },
  {
   "cell_type": "code",
   "execution_count": 12,
   "metadata": {
    "collapsed": true
   },
   "outputs": [],
   "source": [
    "first_uniq = label_1_counter.copy()\n",
    "first_uniq.subtract(label_2_counter + label_3_counter)"
   ]
  },
  {
   "cell_type": "code",
   "execution_count": 13,
   "metadata": {
    "collapsed": true
   },
   "outputs": [],
   "source": [
    "second_uniq = label_2_counter.copy()\n",
    "second_uniq.subtract(label_1_counter + label_3_counter)"
   ]
  },
  {
   "cell_type": "code",
   "execution_count": 14,
   "metadata": {
    "collapsed": true
   },
   "outputs": [],
   "source": [
    "third_uniq = label_3_counter.copy()\n",
    "third_uniq.subtract(label_1_counter + label_2_counter)"
   ]
  },
  {
   "cell_type": "code",
   "execution_count": 15,
   "metadata": {
    "collapsed": true
   },
   "outputs": [],
   "source": [
    "class_1_log_prob = get_log_prob_from_neg_counter(first_uniq)\n",
    "class_2_log_prob = get_log_prob_from_neg_counter(second_uniq)\n",
    "class_3_log_prob = get_log_prob_from_neg_counter(third_uniq)"
   ]
  },
  {
   "cell_type": "code",
   "execution_count": 19,
   "metadata": {
    "collapsed": false
   },
   "outputs": [],
   "source": [
    "df1 = get_dataframe(class_1_log_prob, \"class_1_log_prob\")\n",
    "df2 = get_dataframe(class_2_log_prob, \"class_2_log_prob\")\n",
    "df3 = get_dataframe(class_3_log_prob, \"class_3_log_prob\")"
   ]
  },
  {
   "cell_type": "code",
   "execution_count": 20,
   "metadata": {
    "collapsed": true
   },
   "outputs": [],
   "source": [
    "words_df = pd.concat([df1, df2, df3], axis=1, join='inner')"
   ]
  },
  {
   "cell_type": "code",
   "execution_count": 21,
   "metadata": {
    "collapsed": false
   },
   "outputs": [
    {
     "data": {
      "text/html": [
       "<div>\n",
       "<table border=\"1\" class=\"dataframe\">\n",
       "  <thead>\n",
       "    <tr style=\"text-align: right;\">\n",
       "      <th></th>\n",
       "      <th>class_1_log_prob</th>\n",
       "      <th>class_2_log_prob</th>\n",
       "      <th>class_3_log_prob</th>\n",
       "    </tr>\n",
       "    <tr>\n",
       "      <th>words</th>\n",
       "      <th></th>\n",
       "      <th></th>\n",
       "      <th></th>\n",
       "    </tr>\n",
       "  </thead>\n",
       "  <tbody>\n",
       "    <tr>\n",
       "      <th>sheldon</th>\n",
       "      <td>-21.373426</td>\n",
       "      <td>-12.963560</td>\n",
       "      <td>-12.278134</td>\n",
       "    </tr>\n",
       "    <tr>\n",
       "      <th>bang</th>\n",
       "      <td>-13.329121</td>\n",
       "      <td>-12.879284</td>\n",
       "      <td>-12.562455</td>\n",
       "    </tr>\n",
       "    <tr>\n",
       "      <th>theori</th>\n",
       "      <td>-13.280881</td>\n",
       "      <td>-12.860424</td>\n",
       "      <td>-12.573130</td>\n",
       "    </tr>\n",
       "    <tr>\n",
       "      <th>follow</th>\n",
       "      <td>-14.542552</td>\n",
       "      <td>-13.399957</td>\n",
       "      <td>-12.579019</td>\n",
       "    </tr>\n",
       "    <tr>\n",
       "      <th>#bigbangtheori</th>\n",
       "      <td>-13.184737</td>\n",
       "      <td>-12.843587</td>\n",
       "      <td>-12.593587</td>\n",
       "    </tr>\n",
       "  </tbody>\n",
       "</table>\n",
       "</div>"
      ],
      "text/plain": [
       "                class_1_log_prob  class_2_log_prob  class_3_log_prob\n",
       "words                                                               \n",
       "sheldon               -21.373426        -12.963560        -12.278134\n",
       "bang                  -13.329121        -12.879284        -12.562455\n",
       "theori                -13.280881        -12.860424        -12.573130\n",
       "follow                -14.542552        -13.399957        -12.579019\n",
       "#bigbangtheori        -13.184737        -12.843587        -12.593587"
      ]
     },
     "execution_count": 21,
     "metadata": {},
     "output_type": "execute_result"
    }
   ],
   "source": [
    "words_df.head()"
   ]
  },
  {
   "cell_type": "code",
   "execution_count": 22,
   "metadata": {
    "collapsed": true
   },
   "outputs": [],
   "source": [
    "from sklearn.feature_extraction.text import CountVectorizer"
   ]
  },
  {
   "cell_type": "code",
   "execution_count": 24,
   "metadata": {
    "collapsed": false
   },
   "outputs": [],
   "source": [
    "cv = CountVectorizer(vocabulary=words_df.index.tolist())"
   ]
  },
  {
   "cell_type": "code",
   "execution_count": null,
   "metadata": {
    "collapsed": true
   },
   "outputs": [],
   "source": []
  },
  {
   "cell_type": "code",
   "execution_count": 33,
   "metadata": {
    "collapsed": false
   },
   "outputs": [
    {
     "data": {
      "text/plain": [
       "3"
      ]
     },
     "execution_count": 33,
     "metadata": {},
     "output_type": "execute_result"
    }
   ],
   "source": [
    "user_data = db.train_text_data.find()[2]\n",
    "user_data.get(\"label\")"
   ]
  },
  {
   "cell_type": "code",
   "execution_count": 34,
   "metadata": {
    "collapsed": false
   },
   "outputs": [],
   "source": [
    "d = cv.transform([user_data[\"text\"]]).dot(words_df.as_matrix())"
   ]
  },
  {
   "cell_type": "code",
   "execution_count": 36,
   "metadata": {
    "collapsed": false
   },
   "outputs": [
    {
     "data": {
      "text/plain": [
       "2"
      ]
     },
     "execution_count": 36,
     "metadata": {},
     "output_type": "execute_result"
    }
   ],
   "source": [
    "np.argmax(d)"
   ]
  },
  {
   "cell_type": "code",
   "execution_count": null,
   "metadata": {
    "collapsed": true
   },
   "outputs": [],
   "source": []
  }
 ],
 "metadata": {
  "kernelspec": {
   "display_name": "Python 2",
   "language": "python",
   "name": "python2"
  },
  "language_info": {
   "codemirror_mode": {
    "name": "ipython",
    "version": 2
   },
   "file_extension": ".py",
   "mimetype": "text/x-python",
   "name": "python",
   "nbconvert_exporter": "python",
   "pygments_lexer": "ipython2",
   "version": "2.7.10"
  }
 },
 "nbformat": 4,
 "nbformat_minor": 0
}
