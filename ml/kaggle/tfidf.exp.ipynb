{
 "cells": [
  {
   "cell_type": "code",
   "execution_count": 1,
   "metadata": {
    "collapsed": true
   },
   "outputs": [],
   "source": []
  },
  {
   "cell_type": "code",
   "execution_count": 2,
   "metadata": {
    "collapsed": false
   },
   "outputs": [],
   "source": [
    "%load_ext autoreload\n",
    "%autoreload 2\n",
    "\n",
    "import pandas as pd\n",
    "import numpy as np\n",
    "\n",
    "from sklearn.feature_extraction.text import TfidfVectorizer\n",
    "\n",
    "import pymongo\n",
    "\n",
    "\n",
    "client = pymongo.MongoClient('mongodb://donkey:27117/')\n",
    "db = client.sphere_kaggle"
   ]
  },
  {
   "cell_type": "code",
   "execution_count": 3,
   "metadata": {
    "collapsed": true
   },
   "outputs": [],
   "source": [
    "client = pymongo.MongoClient('mongodb://donkey:27117/')\n",
    "db = client.sphere_kaggle"
   ]
  },
  {
   "cell_type": "code",
   "execution_count": 4,
   "metadata": {
    "collapsed": false
   },
   "outputs": [
    {
     "data": {
      "text/plain": [
       "[u'debug',\n",
       " u'errors',\n",
       " u'results',\n",
       " u'system.indexes',\n",
       " u'test',\n",
       " u'test_hashtag_data',\n",
       " u'test_text_data',\n",
       " u'test_tweets',\n",
       " u'train_hashtag_data',\n",
       " u'train_text_data',\n",
       " u'train_tweets',\n",
       " u'tweets',\n",
       " u'unrecognized_locations',\n",
       " u'users']"
      ]
     },
     "execution_count": 4,
     "metadata": {},
     "output_type": "execute_result"
    }
   ],
   "source": [
    "db.collection_names()"
   ]
  },
  {
   "cell_type": "markdown",
   "metadata": {},
   "source": [
    "#### Training users"
   ]
  },
  {
   "cell_type": "code",
   "execution_count": 5,
   "metadata": {
    "collapsed": false
   },
   "outputs": [
    {
     "data": {
      "text/plain": [
       "2981"
      ]
     },
     "execution_count": 5,
     "metadata": {},
     "output_type": "execute_result"
    }
   ],
   "source": [
    "train_users_ids = db.users.distinct(\"id\", {\"label\": {\"$exists\": True}})\n",
    "len(train_users_ids)"
   ]
  },
  {
   "cell_type": "code",
   "execution_count": 6,
   "metadata": {
    "collapsed": false
   },
   "outputs": [
    {
     "data": {
      "text/plain": [
       "2684"
      ]
     },
     "execution_count": 6,
     "metadata": {},
     "output_type": "execute_result"
    }
   ],
   "source": [
    "train_users_ids_with_tweets = db.train_tweets.distinct(\"user.id\")\n",
    "len(train_users_ids_with_tweets)"
   ]
  },
  {
   "cell_type": "code",
   "execution_count": 7,
   "metadata": {
    "collapsed": false
   },
   "outputs": [
    {
     "data": {
      "text/plain": [
       "298"
      ]
     },
     "execution_count": 7,
     "metadata": {},
     "output_type": "execute_result"
    }
   ],
   "source": [
    "train_users_ids_without_tweets = set(train_users_ids) - set(train_users_ids_with_tweets)\n",
    "len(train_users_ids_without_tweets)"
   ]
  },
  {
   "cell_type": "code",
   "execution_count": null,
   "metadata": {
    "collapsed": true
   },
   "outputs": [],
   "source": []
  },
  {
   "cell_type": "markdown",
   "metadata": {},
   "source": [
    "#### Test users"
   ]
  },
  {
   "cell_type": "code",
   "execution_count": 8,
   "metadata": {
    "collapsed": false
   },
   "outputs": [
    {
     "data": {
      "text/plain": [
       "1993"
      ]
     },
     "execution_count": 8,
     "metadata": {},
     "output_type": "execute_result"
    }
   ],
   "source": [
    "test_users_ids = db.users.distinct(\"id\", {\"label\": {\"$exists\": False}})\n",
    "len(set(test_users_ids))"
   ]
  },
  {
   "cell_type": "code",
   "execution_count": 9,
   "metadata": {
    "collapsed": false
   },
   "outputs": [
    {
     "data": {
      "text/plain": [
       "1990"
      ]
     },
     "execution_count": 9,
     "metadata": {},
     "output_type": "execute_result"
    }
   ],
   "source": [
    "test_users_ids_with_tweets = db.test_tweets.distinct(\"user.id\")\n",
    "len(set(test_users_ids_with_tweets))"
   ]
  },
  {
   "cell_type": "code",
   "execution_count": 10,
   "metadata": {
    "collapsed": false
   },
   "outputs": [
    {
     "data": {
      "text/plain": [
       "30"
      ]
     },
     "execution_count": 10,
     "metadata": {},
     "output_type": "execute_result"
    }
   ],
   "source": [
    "test_users_ids_without_tweets = set(test_users_ids) - set(test_users_ids_with_tweets)\n",
    "len(set(test_users_ids_without_tweets))"
   ]
  },
  {
   "cell_type": "code",
   "execution_count": 11,
   "metadata": {
    "collapsed": false
   },
   "outputs": [],
   "source": [
    "from lib.downloaders import TweetsDownloader\n"
   ]
  },
  {
   "cell_type": "code",
   "execution_count": 21,
   "metadata": {
    "collapsed": false
   },
   "outputs": [],
   "source": [
    "twtDown = TweetsDownloader(tweets_collection=db.test_tweets,\n",
    "                 users_collection=db.users,\n",
    "                 errors_collection=db.errors)"
   ]
  },
  {
   "cell_type": "code",
   "execution_count": 22,
   "metadata": {
    "collapsed": false,
    "scrolled": false
   },
   "outputs": [
    {
     "name": "stderr",
     "output_type": "stream",
     "text": [
      "DEBUG:twitter_daemon.285438978:start loading user\n",
      "ERROR:log:Twitter error response: status code = 401\n",
      "DEBUG:twitter_daemon.473204360:start loading user\n",
      "ERROR:log:Twitter error response: status code = 401\n",
      "DEBUG:twitter_daemon.552233230:start loading user\n",
      "ERROR:log:Twitter error response: status code = 401\n",
      "DEBUG:twitter_daemon.249136400:start loading user\n",
      "ERROR:log:Twitter error response: status code = 401\n",
      "DEBUG:twitter_daemon.2586452886:start loading user\n",
      "ERROR:log:Twitter error response: status code = 401\n",
      "DEBUG:twitter_daemon.202331160:start loading user\n",
      "ERROR:log:Twitter error response: status code = 401\n",
      "DEBUG:twitter_daemon.286246563:start loading user\n",
      "ERROR:log:Twitter error response: status code = 401\n",
      "DEBUG:twitter_daemon.18092837:start loading user\n",
      "ERROR:log:Twitter error response: status code = 401\n",
      "DEBUG:twitter_daemon.166904878:start loading user\n",
      "ERROR:log:Twitter error response: status code = 401\n",
      "DEBUG:twitter_daemon.1667482549:start loading user\n",
      "ERROR:log:Twitter error response: status code = 401\n",
      "DEBUG:twitter_daemon.2467878330:start loading user\n",
      "ERROR:log:Twitter error response: status code = 401\n",
      "DEBUG:twitter_daemon.419698748:start loading user\n",
      "ERROR:log:Twitter error response: status code = 401\n",
      "DEBUG:twitter_daemon.194240959:start loading user\n",
      "ERROR:log:Twitter error response: status code = 401\n",
      "DEBUG:twitter_daemon.2348191040:start loading user\n",
      "ERROR:log:Twitter error response: status code = 401\n",
      "DEBUG:twitter_daemon.707695681:start loading user\n",
      "DEBUG:twitter_daemon.707695681:(15) |(132) 1/5\n",
      "DEBUG:twitter_daemon.707695681:(15) |(114) 2/5\n",
      "DEBUG:twitter_daemon.707695681:(15) |(124) 3/5\n",
      "DEBUG:twitter_daemon.707695681:(15) |(144) 4/5\n",
      "DEBUG:twitter_daemon.707695681:(15) |(157) 5/5\n",
      "DEBUG:twitter_daemon.272608335:start loading user\n",
      "DEBUG:twitter_daemon.272608335:(16) |(133) 1/5\n",
      "DEBUG:twitter_daemon.272608335:(16) |(140) 2/5\n",
      "DEBUG:twitter_daemon.272608335:(16) |(17) 3/5\n",
      "DEBUG:twitter_daemon.1526217042:start loading user\n",
      "ERROR:log:Twitter error response: status code = 401\n",
      "DEBUG:twitter_daemon.38031828:start loading user\n",
      "ERROR:log:Twitter error response: status code = 401\n",
      "DEBUG:twitter_daemon.1302941143:start loading user\n",
      "ERROR:log:Twitter error response: status code = 401\n",
      "DEBUG:twitter_daemon.2167538652:start loading user\n",
      "ERROR:log:Twitter error response: status code = 401\n",
      "DEBUG:twitter_daemon.3032157277:start loading user\n",
      "ERROR:log:Twitter error response: status code = 401\n",
      "DEBUG:twitter_daemon.486184926:start loading user\n",
      "ERROR:log:Twitter error response: status code = 401\n",
      "DEBUG:twitter_daemon.338635490:start loading user\n",
      "ERROR:log:Twitter error response: status code = 401\n",
      "DEBUG:twitter_daemon.193418470:start loading user\n",
      "ERROR:log:Twitter error response: status code = 401\n",
      "DEBUG:twitter_daemon.886919910:start loading user\n",
      "ERROR:log:Twitter error response: status code = 401\n",
      "DEBUG:twitter_daemon.842577524:start loading user\n",
      "ERROR:log:Twitter error response: status code = 401\n",
      "DEBUG:twitter_daemon.547335413:start loading user\n",
      "ERROR:log:Twitter error response: status code = 401\n",
      "DEBUG:twitter_daemon.1092937206:start loading user\n",
      "ERROR:log:Twitter error response: status code = 401\n",
      "DEBUG:twitter_daemon.254811604:start loading user\n",
      "ERROR:log:Twitter error response: status code = 401\n",
      "DEBUG:twitter_daemon.827933119:start loading user\n",
      "ERROR:log:Twitter error response: status code = 401\n"
     ]
    }
   ],
   "source": [
    "twtDown.download(test_users_ids_without_tweets)"
   ]
  },
  {
   "cell_type": "code",
   "execution_count": null,
   "metadata": {
    "collapsed": true
   },
   "outputs": [],
   "source": []
  },
  {
   "cell_type": "code",
   "execution_count": null,
   "metadata": {
    "collapsed": false
   },
   "outputs": [],
   "source": [
    "db.train_text_data.count()"
   ]
  },
  {
   "cell_type": "code",
   "execution_count": null,
   "metadata": {
    "collapsed": false
   },
   "outputs": [],
   "source": [
    "train_tweets_cursor = db.train_tweets.aggregate(\n",
    "    [{\"$group\": {\n",
    "        \"_id\": \"$user.id\",\n",
    "        \"count\": { \"$sum\": 1 }\n",
    "    }}]\n",
    ")"
   ]
  },
  {
   "cell_type": "code",
   "execution_count": null,
   "metadata": {
    "collapsed": true
   },
   "outputs": [],
   "source": [
    "train_tweets = list(train_tweets_cursor)"
   ]
  },
  {
   "cell_type": "code",
   "execution_count": null,
   "metadata": {
    "collapsed": false
   },
   "outputs": [],
   "source": [
    "users_ids_in_train_tweets = db.train_tweets.distinct(\"user.id\")"
   ]
  },
  {
   "cell_type": "code",
   "execution_count": null,
   "metadata": {
    "collapsed": false
   },
   "outputs": [],
   "source": [
    "set(train_users_ids) - set(users_ids_in_train_tweets)"
   ]
  },
  {
   "cell_type": "code",
   "execution_count": 16,
   "metadata": {
    "collapsed": false
   },
   "outputs": [
    {
     "data": {
      "text/plain": [
       "array([[ 0.        ,  0.44943642,  0.6316672 ,  0.6316672 ],\n",
       "       [ 0.81480247,  0.57973867,  0.        ,  0.        ]])"
      ]
     },
     "execution_count": 16,
     "metadata": {},
     "output_type": "execute_result"
    }
   ],
   "source": [
    "tf1 = TfidfVectorizer()\n",
    "tf1.fit_transform([\"snow sheldon fog\", \"fog dog\"]).toarray()"
   ]
  },
  {
   "cell_type": "code",
   "execution_count": null,
   "metadata": {
    "collapsed": true
   },
   "outputs": [],
   "source": [
    "tf2 = TfidfVectorizer()\n",
    "tf2.fit([\"snow sheldon\", \"saw\"]);"
   ]
  },
  {
   "cell_type": "code",
   "execution_count": null,
   "metadata": {
    "collapsed": false
   },
   "outputs": [],
   "source": [
    "print tf1.transform([\"dog fog saw\"]).toarray()\n",
    "print tf2.transform([\"dog fog saw\"]).toarray()"
   ]
  },
  {
   "cell_type": "code",
   "execution_count": null,
   "metadata": {
    "collapsed": false
   },
   "outputs": [],
   "source": [
    "print tf1.get_feature_names()#\tArray mapping from feature integer indices to feature name\n",
    "print tf2.get_feature_names()#\tArray mapping from feature integer indices to feature name"
   ]
  },
  {
   "cell_type": "code",
   "execution_count": 58,
   "metadata": {
    "collapsed": false
   },
   "outputs": [],
   "source": [
    "td1 = TfidfVectorizer(vocabulary=[\"word1\", \"word2\", \"word3\", \"word4\"], sublinear_tf=False, use_idf=False, norm=None)"
   ]
  },
  {
   "cell_type": "code",
   "execution_count": 59,
   "metadata": {
    "collapsed": false
   },
   "outputs": [
    {
     "data": {
      "text/plain": [
       "array([[ 1.,  2.,  3.,  0.],\n",
       "       [ 2.,  3.,  1.,  0.],\n",
       "       [ 1.,  3.,  2.,  0.],\n",
       "       [ 3.,  2.,  1.,  0.],\n",
       "       [ 1.,  2.,  0.,  3.],\n",
       "       [ 1.,  2.,  1.,  2.],\n",
       "       [ 1.,  2.,  0.,  3.],\n",
       "       [ 1.,  2.,  1.,  2.]])"
      ]
     },
     "execution_count": 59,
     "metadata": {},
     "output_type": "execute_result"
    }
   ],
   "source": [
    "td1.fit_transform([\n",
    "        \"word1 word3 word3 word2 word2 word3\", # 0\n",
    "        \"word1 word1 word3 word2 word2 word2\", # 0 \n",
    "        \"word1 word3 word3 word2 word2 word2\", # 0\n",
    "        \"word1 word1 word1 word2 word3 word2\", # 0\n",
    "        \"word4 word4 word1 word2 word2 word4\", # 1\n",
    "        \"word4 word4 word1 word2 word3 word2\", # 1\n",
    "        \"word4 word4 word1 word2 word4 word2\", # 1\n",
    "        \"word4 word4 word1 word3 word2 word2\", # 1\n",
    "    ]).toarray()"
   ]
  },
  {
   "cell_type": "code",
   "execution_count": 37,
   "metadata": {
    "collapsed": false
   },
   "outputs": [
    {
     "data": {
      "text/plain": [
       "['word1', 'word2', 'word3', 'word4']"
      ]
     },
     "execution_count": 37,
     "metadata": {},
     "output_type": "execute_result"
    }
   ],
   "source": [
    "td1.get_feature_names()"
   ]
  },
  {
   "cell_type": "code",
   "execution_count": null,
   "metadata": {
    "collapsed": true
   },
   "outputs": [],
   "source": [
    "d1 = [\"word1 is whery greate\"]\n",
    "d1 = []"
   ]
  },
  {
   "cell_type": "code",
   "execution_count": null,
   "metadata": {
    "collapsed": true
   },
   "outputs": [],
   "source": []
  },
  {
   "cell_type": "code",
   "execution_count": null,
   "metadata": {
    "collapsed": true
   },
   "outputs": [],
   "source": []
  }
 ],
 "metadata": {
  "kernelspec": {
   "display_name": "Python 2",
   "language": "python",
   "name": "python2"
  },
  "language_info": {
   "codemirror_mode": {
    "name": "ipython",
    "version": 2
   },
   "file_extension": ".py",
   "mimetype": "text/x-python",
   "name": "python",
   "nbconvert_exporter": "python",
   "pygments_lexer": "ipython2",
   "version": "2.7.10"
  }
 },
 "nbformat": 4,
 "nbformat_minor": 0
}
