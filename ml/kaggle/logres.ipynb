{
 "cells": [
  {
   "cell_type": "code",
   "execution_count": 248,
   "metadata": {
    "collapsed": false
   },
   "outputs": [
    {
     "name": "stdout",
     "output_type": "stream",
     "text": [
      "The autoreload extension is already loaded. To reload it, use:\n",
      "  %reload_ext autoreload\n"
     ]
    }
   ],
   "source": [
    "%load_ext autoreload\n",
    "%autoreload 2\n",
    "\n",
    "import pandas as pd\n",
    "import numpy as np\n",
    "\n",
    "import sklearn.cross_validation as cv\n",
    "import sklearn.feature_extraction as fe\n",
    "import sklearn.metrics as mert\n",
    "\n",
    "import pymongo\n",
    "\n",
    "import matplotlib.pyplot as plt\n",
    "%matplotlib inline\n",
    "\n",
    "\n",
    "client = pymongo.MongoClient('mongodb://donkey:27017/')\n",
    "db = client.sphere_kaggle"
   ]
  },
  {
   "cell_type": "code",
   "execution_count": null,
   "metadata": {
    "collapsed": false
   },
   "outputs": [],
   "source": []
  },
  {
   "cell_type": "code",
   "execution_count": 106,
   "metadata": {
    "collapsed": false,
    "scrolled": false
   },
   "outputs": [
    {
     "data": {
      "text/plain": [
       "[u'debug',\n",
       " u'errors',\n",
       " u'results',\n",
       " u'system.indexes',\n",
       " u'test',\n",
       " u'test_hashtag_data',\n",
       " u'test_text_data',\n",
       " u'test_tweets',\n",
       " u'train_hashtag_data',\n",
       " u'train_text_data',\n",
       " u'train_tweets',\n",
       " u'train_tweets_tmp',\n",
       " u'tweets',\n",
       " u'unrecognized_locations',\n",
       " u'users',\n",
       " u'vocabulary',\n",
       " u'words_log_probs']"
      ]
     },
     "execution_count": 106,
     "metadata": {},
     "output_type": "execute_result"
    }
   ],
   "source": [
    "db.collection_names()"
   ]
  },
  {
   "cell_type": "markdown",
   "metadata": {},
   "source": [
    "# 1. Подготовим данные"
   ]
  },
  {
   "cell_type": "code",
   "execution_count": 45,
   "metadata": {
    "collapsed": true
   },
   "outputs": [],
   "source": [
    "def twitter_mongo2pandas(collection):\n",
    "    db_df = pd.DataFrame(list(collection.find()))\n",
    "    db_df = db_df.drop('_id', axis=1)\n",
    "    db_df.index = db_df.twitter_id\n",
    "    \n",
    "    df = db_df.drop('twitter_id', axis=1)\n",
    "    return df"
   ]
  },
  {
   "cell_type": "markdown",
   "metadata": {},
   "source": [
    "#### Создадим православную training выборку из имеющихся данных\n",
    "#### twitter_id, label"
   ]
  },
  {
   "cell_type": "code",
   "execution_count": 46,
   "metadata": {
    "collapsed": false
   },
   "outputs": [],
   "source": [
    "train_users_ids_with_tweets = db.train_tweets.distinct(\"user.id\")\n",
    "labels = db.users.distinct(\"label\")"
   ]
  },
  {
   "cell_type": "code",
   "execution_count": 47,
   "metadata": {
    "collapsed": true
   },
   "outputs": [],
   "source": [
    "dfs = []\n",
    "\n",
    "for label in labels:\n",
    "    labeled_users_ids = db.users.distinct(\"id\", {\"id\": {\"$in\": train_users_ids_with_tweets},\n",
    "                                                 \"label\": label})\n",
    "    df = pd.DataFrame(index=labeled_users_ids)\n",
    "    df[\"label\"] = label\n",
    "    dfs.append(df)\n",
    "    \n",
    "train_df = pd.concat(dfs)\n",
    "train_df.index.name = \"twitter_id\""
   ]
  },
  {
   "cell_type": "code",
   "execution_count": 48,
   "metadata": {
    "collapsed": false
   },
   "outputs": [
    {
     "data": {
      "text/plain": [
       "1    1136\n",
       "3    1110\n",
       "2     437\n",
       "dtype: int64"
      ]
     },
     "execution_count": 48,
     "metadata": {},
     "output_type": "execute_result"
    }
   ],
   "source": [
    "train_df.label.value_counts()"
   ]
  },
  {
   "cell_type": "code",
   "execution_count": 64,
   "metadata": {
    "collapsed": false
   },
   "outputs": [
    {
     "data": {
      "text/html": [
       "<div>\n",
       "<table border=\"1\" class=\"dataframe\">\n",
       "  <thead>\n",
       "    <tr style=\"text-align: right;\">\n",
       "      <th></th>\n",
       "      <th>label</th>\n",
       "    </tr>\n",
       "    <tr>\n",
       "      <th>twitter_id</th>\n",
       "      <th></th>\n",
       "    </tr>\n",
       "  </thead>\n",
       "  <tbody>\n",
       "    <tr>\n",
       "      <th>2182641</th>\n",
       "      <td>1</td>\n",
       "    </tr>\n",
       "    <tr>\n",
       "      <th>9699312</th>\n",
       "      <td>1</td>\n",
       "    </tr>\n",
       "    <tr>\n",
       "      <th>10485842</th>\n",
       "      <td>1</td>\n",
       "    </tr>\n",
       "    <tr>\n",
       "      <th>10540152</th>\n",
       "      <td>1</td>\n",
       "    </tr>\n",
       "    <tr>\n",
       "      <th>10915772</th>\n",
       "      <td>1</td>\n",
       "    </tr>\n",
       "  </tbody>\n",
       "</table>\n",
       "</div>"
      ],
      "text/plain": [
       "            label\n",
       "twitter_id       \n",
       "2182641         1\n",
       "9699312         1\n",
       "10485842        1\n",
       "10540152        1\n",
       "10915772        1"
      ]
     },
     "execution_count": 64,
     "metadata": {},
     "output_type": "execute_result"
    }
   ],
   "source": [
    "train_df.head()"
   ]
  },
  {
   "cell_type": "markdown",
   "metadata": {},
   "source": [
    "Создадим два варианта данных:\n",
    "- просто текст\n",
    "- только теги"
   ]
  },
  {
   "cell_type": "markdown",
   "metadata": {},
   "source": [
    "**collection: train_text_data**"
   ]
  },
  {
   "cell_type": "code",
   "execution_count": 49,
   "metadata": {
    "collapsed": false
   },
   "outputs": [
    {
     "data": {
      "text/plain": [
       "{u'_id': ObjectId('56758a599443b074326c4941'),\n",
       " u'label': 1,\n",
       " u'text': u'grin devilish abrazenbeaut ladi whisper quick love baesprincess baesbonehead stab joffrey mother #newavi seen ravish ladi brienn baesprincess badkingslay chain ladi baesprincess think time baesprincess get season three warm #ff love twin twisted_twin_ #ff love twin twisted_twin_ #wcw twisted_twin_ #ff scari beauti twin twisted_twin_ #womancrushwednesday beauti twin twisted_twin_ #twintuesday happi one onli twisted_twin_ #ff love sister twisted_twin_ #writerwednesday meh look last week #womancrushwednesday better half twisted_twin_ #twintuesday happi wonder twin twisted_twin_ #seductivesunday love lioness twisted_twin_ stump #ff dear sweet sister twisted_twin_ #ff account word mother actual_cersei #ff nephew yes nephew jofftheillborn #ff better half sheroarsloud goodnight westero thank follow littl friend head ship multipl cersei new account new retweet would appreci',\n",
       " u'twitter_id': 2645443011L}"
      ]
     },
     "execution_count": 49,
     "metadata": {},
     "output_type": "execute_result"
    }
   ],
   "source": [
    "db.train_text_data.find_one()"
   ]
  },
  {
   "cell_type": "code",
   "execution_count": 50,
   "metadata": {
    "collapsed": false,
    "scrolled": true
   },
   "outputs": [
    {
     "data": {
      "text/plain": [
       "2684"
      ]
     },
     "execution_count": 50,
     "metadata": {},
     "output_type": "execute_result"
    }
   ],
   "source": [
    "len(db.train_text_data.distinct(\"twitter_id\"))"
   ]
  },
  {
   "cell_type": "code",
   "execution_count": 51,
   "metadata": {
    "collapsed": false
   },
   "outputs": [],
   "source": [
    "train_text_df = twitter_mongo2pandas(db.train_text_data) # get_train_text_df()"
   ]
  },
  {
   "cell_type": "code",
   "execution_count": 52,
   "metadata": {
    "collapsed": false
   },
   "outputs": [
    {
     "data": {
      "text/html": [
       "<div>\n",
       "<table border=\"1\" class=\"dataframe\">\n",
       "  <thead>\n",
       "    <tr style=\"text-align: right;\">\n",
       "      <th></th>\n",
       "      <th>label</th>\n",
       "      <th>text</th>\n",
       "    </tr>\n",
       "    <tr>\n",
       "      <th>twitter_id</th>\n",
       "      <th></th>\n",
       "      <th></th>\n",
       "    </tr>\n",
       "  </thead>\n",
       "  <tbody>\n",
       "    <tr>\n",
       "      <th>2645443011</th>\n",
       "      <td>1</td>\n",
       "      <td>grin devilish abrazenbeaut ladi whisper quick ...</td>\n",
       "    </tr>\n",
       "    <tr>\n",
       "      <th>312928916</th>\n",
       "      <td>2</td>\n",
       "      <td>#e3ong4 gearscan deliv time multiplay add hoar...</td>\n",
       "    </tr>\n",
       "  </tbody>\n",
       "</table>\n",
       "</div>"
      ],
      "text/plain": [
       "            label                                               text\n",
       "twitter_id                                                          \n",
       "2645443011      1  grin devilish abrazenbeaut ladi whisper quick ...\n",
       "312928916       2  #e3ong4 gearscan deliv time multiplay add hoar..."
      ]
     },
     "execution_count": 52,
     "metadata": {},
     "output_type": "execute_result"
    }
   ],
   "source": [
    "train_text_df[:2]"
   ]
  },
  {
   "cell_type": "code",
   "execution_count": 53,
   "metadata": {
    "collapsed": false
   },
   "outputs": [],
   "source": [
    "train_text_df = train_text_df[train_text_df.label.notnull()]"
   ]
  },
  {
   "cell_type": "markdown",
   "metadata": {},
   "source": [
    "**collection: test_text_data**"
   ]
  },
  {
   "cell_type": "code",
   "execution_count": 54,
   "metadata": {
    "collapsed": true
   },
   "outputs": [],
   "source": [
    "test_text_df = twitter_mongo2pandas(db.test_text_data)# get_test_text_df()"
   ]
  },
  {
   "cell_type": "code",
   "execution_count": 55,
   "metadata": {
    "collapsed": false
   },
   "outputs": [
    {
     "data": {
      "text/html": [
       "<div>\n",
       "<table border=\"1\" class=\"dataframe\">\n",
       "  <thead>\n",
       "    <tr style=\"text-align: right;\">\n",
       "      <th></th>\n",
       "      <th>text</th>\n",
       "    </tr>\n",
       "    <tr>\n",
       "      <th>twitter_id</th>\n",
       "      <th></th>\n",
       "    </tr>\n",
       "  </thead>\n",
       "  <tbody>\n",
       "    <tr>\n",
       "      <th>269247809</th>\n",
       "      <td>tweetdeck today real pain know show damn tweet...</td>\n",
       "    </tr>\n",
       "    <tr>\n",
       "      <th>156790994</th>\n",
       "      <td>aight gone foo yall easi need dalla emoji trip...</td>\n",
       "    </tr>\n",
       "  </tbody>\n",
       "</table>\n",
       "</div>"
      ],
      "text/plain": [
       "                                                         text\n",
       "twitter_id                                                   \n",
       "269247809   tweetdeck today real pain know show damn tweet...\n",
       "156790994   aight gone foo yall easi need dalla emoji trip..."
      ]
     },
     "execution_count": 55,
     "metadata": {},
     "output_type": "execute_result"
    }
   ],
   "source": [
    "test_text_df[:2]"
   ]
  },
  {
   "cell_type": "markdown",
   "metadata": {},
   "source": [
    "**collection: train_hashtag_data**"
   ]
  },
  {
   "cell_type": "code",
   "execution_count": 56,
   "metadata": {
    "collapsed": false
   },
   "outputs": [
    {
     "data": {
      "text/plain": [
       "{u'_id': ObjectId('567679189443b01291252289'),\n",
       " u'text': u'#finalsweek #h2p #h2p #goat #h2p #channel21 #h2p #channel21 #good #morning #h2p #h2p #teamrousey #ufc193 #h2p #4 #randomthought #madnessiscoming #tonight #10pm #madnessiscoming #wiz #nightcrawler #5god #rp #darknessisspreading #levels #words2liveby #words2die2 #words2liveby #yeezus2020 #glizzygang #newday #uncommonsense #rocketpower #tito #90skid #5god #channel21 #rp #wowwednesday #mustbethemoney #primetime #goat #weezywednesday #weezywednesdays #message #baddestwomanontheplanet #sexy #h2p #channel21 #tunein #back2back #waitaminute #backtoback #happybirthday2me #i #idareyou #idoubledare #channel21 #truth #heatnation #godmoneywar #dubnation #getiggywithit #theigniter #yeezusseason #dubnation #flyhighdai #dubnation #dubnation #h2p #freshprince #onrepeat #1stteam #teampacquiao #truth #truth #kdot #supahotfire #supahotfire #supahotfire #taan #wrestlemania #wrestlemania #psu #h2p #h2p #wweraw #piaa #empire #empire #h2p #10thseed #wweraw #ripbig #h2p #channel21 #tbt #bf #gameday #ourhouse #youvsthezoo #may2nd #goat #h2p #ourhouse #youvsthezoo #h2p #h2p #ifyourereading #gameday #h2p #channel21 #tunein #blackout #h2p #channel21 #tunein #hov #blackout #blackout #blackoutatthepete #gameday #blackout #channel21 #gameday #h2p #playmaker #h2p #top10upset #h2p #upsetalert #h2p #top10upset #h2p #h2p #h2p #ripstuartscott #h2p #channel21 #hudl',\n",
       " u'twitter_id': 230635591}"
      ]
     },
     "execution_count": 56,
     "metadata": {},
     "output_type": "execute_result"
    }
   ],
   "source": [
    "db.test_hashtag_data.find_one()"
   ]
  },
  {
   "cell_type": "code",
   "execution_count": 57,
   "metadata": {
    "collapsed": true
   },
   "outputs": [],
   "source": [
    "test_hashtag_df = twitter_mongo2pandas(db.test_hashtag_data) #get_test_hashtag_df()"
   ]
  },
  {
   "cell_type": "code",
   "execution_count": 58,
   "metadata": {
    "collapsed": false
   },
   "outputs": [
    {
     "data": {
      "text/html": [
       "<div>\n",
       "<table border=\"1\" class=\"dataframe\">\n",
       "  <thead>\n",
       "    <tr style=\"text-align: right;\">\n",
       "      <th></th>\n",
       "      <th>text</th>\n",
       "    </tr>\n",
       "    <tr>\n",
       "      <th>twitter_id</th>\n",
       "      <th></th>\n",
       "    </tr>\n",
       "  </thead>\n",
       "  <tbody>\n",
       "    <tr>\n",
       "      <th>230635591</th>\n",
       "      <td>#finalsweek #h2p #h2p #goat #h2p #channel21 #h...</td>\n",
       "    </tr>\n",
       "    <tr>\n",
       "      <th>2239578338</th>\n",
       "      <td>#growingupinasmalltown #growingupshy #wcw #fir...</td>\n",
       "    </tr>\n",
       "  </tbody>\n",
       "</table>\n",
       "</div>"
      ],
      "text/plain": [
       "                                                         text\n",
       "twitter_id                                                   \n",
       "230635591   #finalsweek #h2p #h2p #goat #h2p #channel21 #h...\n",
       "2239578338  #growingupinasmalltown #growingupshy #wcw #fir..."
      ]
     },
     "execution_count": 58,
     "metadata": {},
     "output_type": "execute_result"
    }
   ],
   "source": [
    "test_hashtag_df[:2]"
   ]
  },
  {
   "cell_type": "markdown",
   "metadata": {},
   "source": [
    "**collection: train_hashtag_data**"
   ]
  },
  {
   "cell_type": "code",
   "execution_count": 59,
   "metadata": {
    "collapsed": false
   },
   "outputs": [
    {
     "data": {
      "text/plain": [
       "{u'_id': ObjectId('567679089443b0126d4195cd'),\n",
       " u'label': 2,\n",
       " u'text': u'#livingthedream #gopack #marchmadness #physicsclass #np #gopack #wpn #dancing #oompaloompastatus #np #bookstacksfloor7 #terminatethetarheels #gopack #gottagetmeone #gopack #definitelyakeeper #packpride #champion #spent #gopack #omahabound #gopack #omahabound #gopack #wpn #gopack #bestgfever #ncpride #gopack #np #gopack #catsrock #fatheroftheyear #gobacktojersey #scrubs #apcalcexam #somanypeople #thanksbabe #awfulcall #stupid #ignorant #why #wolfpack #ncsu #beyondexcited #gopack #freedeangelo #prom #clutch #ninja #beatleesville #enloebaseball #sorawwelosealot #pissed #np #tarholes #gopack #gopack #bringitontarholes #gopack #omahabound #goaway #rainisagoodthing #np #soanxious #letmein #pleaseacceptme #seniors #pissed #joshturner #np #gopack #stop #mericamonday #merica #fuckanyothercountryincludingcanada #getouttahere #seniors #jealous #word #scrub #getouttahere #14 #classy #actlikeyouvebeenthere #seniors #whatareyoudoing #fuckthetarholes #gotohellcarolina #ourstate #anybodybutcarolina #gopack #fuckthefaps #nationalanthem #nationalchampionship #joshturner #np #anybodybutcarolina #zacbrownband #np #gopack #collegehurryup #winning #niu #orangebowl #ilikeit #newyearsplans #tradition #goaway #fucktoday #np #comeonpack #scrub #wolfpack #hellyes #thirsty #classy #dudeknowswhatsup #dumbfucks #np #oops #yesplease #strategy #shutthefugup #gopack #gopack #anatomy #somanychoices #wolfpacknation #stealth #memashouse #soblessed #grossbro #merica #killyourself #gopack #3 #accembarrassment #physics #blessed #butimnotaracist #word #saltlife #np #gopack #ourstate #foodsex #noshavenovember #shutup #tarholes #gopack #tarholes #tarholes #wolfpacknation #cardiacpack #gotohellcarolina #tarholes #wolfpack #terriblecall #terminatethetarholes #tarholes #fall #shhh #hungry #tbt #content #sochill #jesus2012 #politicsaredumb #gopack #wolfpacknation #ncstate #ncsu #wolfpack #ouch #gopack #terminatetheterps #gopack #tooclose #idontunderstandyou #greatestprezever #thatswhatsup #word #pouring #nolines #simplelife #pissed #feartheoveralls #seniors #ericformansweaterproblems #np #joshturner #merica #republican #southernpride #lifesaver #uglyaf #feelinthelove #sochill #seniors #spiritweek #goeagles #gopack #lovingit #gopack #wolfpacknation #cardiacpack #solucky #yolo #eaglepride #bryceandjasmyn2012 #swag #swanson2012 #cantsleep #eaglepride #truth #getcoldalready #weaksauce #crushthecaps #downtownraleighrivalry #sitdown #glennon #payton #creecy #palmer #thornton #crushthecanes #mykindofweather #thingsyouhearatenloe #seniors #freecalvin',\n",
       " u'twitter_id': 401845670}"
      ]
     },
     "execution_count": 59,
     "metadata": {},
     "output_type": "execute_result"
    }
   ],
   "source": [
    "db.train_hashtag_data.find_one()"
   ]
  },
  {
   "cell_type": "code",
   "execution_count": 60,
   "metadata": {
    "collapsed": true
   },
   "outputs": [],
   "source": [
    "train_hashtag_df = twitter_mongo2pandas(db.train_hashtag_data)"
   ]
  },
  {
   "cell_type": "code",
   "execution_count": 61,
   "metadata": {
    "collapsed": false,
    "scrolled": true
   },
   "outputs": [
    {
     "data": {
      "text/html": [
       "<div>\n",
       "<table border=\"1\" class=\"dataframe\">\n",
       "  <thead>\n",
       "    <tr style=\"text-align: right;\">\n",
       "      <th></th>\n",
       "      <th>label</th>\n",
       "      <th>text</th>\n",
       "    </tr>\n",
       "    <tr>\n",
       "      <th>twitter_id</th>\n",
       "      <th></th>\n",
       "      <th></th>\n",
       "    </tr>\n",
       "  </thead>\n",
       "  <tbody>\n",
       "    <tr>\n",
       "      <th>401845670</th>\n",
       "      <td>2</td>\n",
       "      <td>#livingthedream #gopack #marchmadness #physics...</td>\n",
       "    </tr>\n",
       "    <tr>\n",
       "      <th>29671057</th>\n",
       "      <td>3</td>\n",
       "      <td>#liesyoushouldntfallfor #wheniwasakid #onethin...</td>\n",
       "    </tr>\n",
       "  </tbody>\n",
       "</table>\n",
       "</div>"
      ],
      "text/plain": [
       "            label                                               text\n",
       "twitter_id                                                          \n",
       "401845670       2  #livingthedream #gopack #marchmadness #physics...\n",
       "29671057        3  #liesyoushouldntfallfor #wheniwasakid #onethin..."
      ]
     },
     "execution_count": 61,
     "metadata": {},
     "output_type": "execute_result"
    }
   ],
   "source": [
    "train_hashtag_df[:2]"
   ]
  },
  {
   "cell_type": "code",
   "execution_count": 62,
   "metadata": {
    "collapsed": false
   },
   "outputs": [],
   "source": [
    "train_hashtag_df = train_hashtag_df[train_hashtag_df.label.notnull()]"
   ]
  },
  {
   "cell_type": "markdown",
   "metadata": {
    "collapsed": true
   },
   "source": [
    "# На выходе:\n",
    "- train_text_df / test_text_df\n",
    "- train_hashtag_df / test_hashtag_df\n",
    "- train_df"
   ]
  },
  {
   "cell_type": "markdown",
   "metadata": {},
   "source": [
    "# 2. Эксперименты"
   ]
  },
  {
   "cell_type": "code",
   "execution_count": 207,
   "metadata": {
    "collapsed": true
   },
   "outputs": [],
   "source": [
    "from sklearn.feature_extraction.text import CountVectorizer\n",
    "from sklearn.feature_extraction.text import TfidfTransformer\n",
    "from sklearn import naive_bayes, linear_model"
   ]
  },
  {
   "cell_type": "code",
   "execution_count": 208,
   "metadata": {
    "collapsed": true
   },
   "outputs": [],
   "source": [
    "from sklearn.pipeline import Pipeline\n",
    "from sklearn.metrics import log_loss\n",
    "from sklearn.grid_search import GridSearchCV"
   ]
  },
  {
   "cell_type": "code",
   "execution_count": 209,
   "metadata": {
    "collapsed": false
   },
   "outputs": [
    {
     "data": {
      "text/plain": [
       "300"
      ]
     },
     "execution_count": 209,
     "metadata": {},
     "output_type": "execute_result"
    }
   ],
   "source": [
    "vocabulary = db.vocabulary.find_one({\"_id\": \"vocabulary\"})[\"vocabulary\"]\n",
    "len(vocabulary)"
   ]
  },
  {
   "cell_type": "code",
   "execution_count": 232,
   "metadata": {
    "collapsed": false
   },
   "outputs": [],
   "source": [
    "default_pipe = [\n",
    "    ('vect', CountVectorizer()),\n",
    "    ('tfidf', TfidfTransformer()),\n",
    "]\n",
    "\n",
    "default_params = {\n",
    "#     'vect__binary': (True, False),\n",
    "    'vect__max_features': (5000, 50000),\n",
    "#     'tfidf__norm': (None, 'l1', 'l2'),\n",
    "    'tfidf__use_idf': (True, False),\n",
    "    'tfidf__smooth_idf': (True, False),\n",
    "    'tfidf__sublinear_tf': (True),\n",
    "}\n",
    "\n",
    "\n",
    "model_MultinomialNB = {\n",
    "    'clf': Pipeline(default_pipe + [('clf', naive_bayes.MultinomialNB())]),\n",
    "    'params': dict(default_params, **{\n",
    "#             'clf__alpha': (1e-1, 1e-2, 1e-3),\n",
    "            'clf__fit_prior': (True, False),\n",
    "        })\n",
    "}\n",
    "\n",
    "\n",
    "model_SGDClassifier = {\n",
    "    'clf': Pipeline(default_pipe + [('clf', linear_model.SGDClassifier())]),\n",
    "    'params': dict(default_params, **{\n",
    "            'clf__loss': ('log'),\n",
    "            'clf__penalty': ('l1'),\n",
    "            'clf__alpha': (1e-2, 1e-4),\n",
    "            'clf__n_iter': (5),\n",
    "            'clf__random_state': (42),\n",
    "        })\n",
    "}\n",
    "\n",
    "\n",
    "model_LogisticRegression = {\n",
    "    'clf': Pipeline(default_pipe + [('clf', linear_model.LogisticRegression())]),\n",
    "    'params': dict(default_params, **{\n",
    "            'clf__solver': ('lbfgs'),\n",
    "            'clf__multi_class': ('ovr'),\n",
    "            'clf__class_weight': ('auto')\n",
    "        })\n",
    "}\n",
    "\n",
    "# http://scikit-learn.org/stable/modules/model_evaluation.html#log-loss\n",
    "# http://nlp.stanford.edu/IR-book/html/htmledition/sublinear-tf-scaling-1.html\n"
   ]
  },
  {
   "cell_type": "code",
   "execution_count": 233,
   "metadata": {
    "collapsed": false
   },
   "outputs": [],
   "source": [
    "def check_model(data_df, model):\n",
    "    X = data_df.text.as_matrix()\n",
    "    y = data_df.label.as_matrix().astype(np.int16)\n",
    "    \n",
    "    gs_clf = GridSearchCV(model.get(\"clf\"),\n",
    "                          model.get(\"params\"),\n",
    "                          cv=5,\n",
    "                          scoring=\"log_loss\",\n",
    "                          n_jobs=-1)\n",
    "    gs_clf = gs_clf.fit(X, y)\n",
    "    \n",
    "    return gs_clf"
   ]
  },
  {
   "cell_type": "code",
   "execution_count": null,
   "metadata": {
    "collapsed": true
   },
   "outputs": [],
   "source": []
  },
  {
   "cell_type": "code",
   "execution_count": 250,
   "metadata": {
    "collapsed": false
   },
   "outputs": [],
   "source": [
    "gs = check_model(train_text_df, model_MultinomialNB)"
   ]
  },
  {
   "cell_type": "code",
   "execution_count": 251,
   "metadata": {
    "collapsed": false
   },
   "outputs": [
    {
     "data": {
      "text/plain": [
       "(-2.8829289741097104, -0.79951716740389955)"
      ]
     },
     "execution_count": 251,
     "metadata": {},
     "output_type": "execute_result"
    },
    {
     "data": {
      "image/png": "[encoded data removed]",
      "text/plain": [
       "<matplotlib.figure.Figure at 0x111ff2810>"
      ]
     },
     "metadata": {},
     "output_type": "display_data"
    }
   ],
   "source": [
    "plt.figure(figsize=(16, 3))\n",
    "means = [gs.grid_scores_[i].mean_validation_score for i in range(len(gs.grid_scores_))]\n",
    "plt.scatter(range(len(gs.grid_scores_)), means)\n",
    "plt.xticks(range(1, len(gs.grid_scores_), 2), rotation='vertical');\n",
    "plt.ylim([min(means)-0.05, max(means)+0.05])"
   ]
  },
  {
   "cell_type": "code",
   "execution_count": 253,
   "metadata": {
    "collapsed": false
   },
   "outputs": [
    {
     "data": {
      "text/plain": [
       "-0.8495171674038996"
      ]
     },
     "execution_count": 253,
     "metadata": {},
     "output_type": "execute_result"
    }
   ],
   "source": [
    "gs.best_score_"
   ]
  },
  {
   "cell_type": "code",
   "execution_count": 244,
   "metadata": {
    "collapsed": false
   },
   "outputs": [
    {
     "data": {
      "text/plain": [
       "Pipeline(steps=[('vect', CountVectorizer(analyzer=u'word', binary=False, decode_error=u'strict',\n",
       "        dtype=<type 'numpy.int64'>, encoding=u'utf-8', input=u'content',\n",
       "        lowercase=True, max_df=1.0, max_features=None, min_df=1,\n",
       "        ngram_range=(1, 1), preprocessor=None, stop_words=None,\n",
       "        st...e,\n",
       "         use_idf=False)), ('clf', MultinomialNB(alpha=0.001, class_prior=None, fit_prior=False))])"
      ]
     },
     "execution_count": 244,
     "metadata": {},
     "output_type": "execute_result"
    }
   ],
   "source": [
    "gs.best_estimator_"
   ]
  },
  {
   "cell_type": "code",
   "execution_count": null,
   "metadata": {
    "collapsed": true
   },
   "outputs": [],
   "source": []
  },
  {
   "cell_type": "code",
   "execution_count": 246,
   "metadata": {
    "collapsed": true
   },
   "outputs": [],
   "source": [
    "def make_submission(test_df, clf):\n",
    "    X_test = test_df.text\n",
    "    y_pred = clf.predict_proba(X_test)\n",
    "    \n",
    "    test_final = pd.DataFrame(y_pred)\n",
    "    test_final.index = test_df.index\n",
    "    test_final.columns = [\"is_1\", \"is_2\", \"is_3\"]\n",
    "    \n",
    "    twitter_submission_df = pd.read_csv(\"./twitter_submission.csv\", index_col=\"twitter_id\")\n",
    "    \n",
    "    no_pred_ids = set(twitter_submission_df.index) - set(test_final.index)\n",
    "    \n",
    "    final_df = pd.concat([test_final, twitter_submission_df.loc[list(no_pred_ids)]])\n",
    "    \n",
    "    final_df.to_csv(\"./my_submission.csv\")\n",
    "    \n",
    "    return final_df"
   ]
  },
  {
   "cell_type": "code",
   "execution_count": 247,
   "metadata": {
    "collapsed": false
   },
   "outputs": [
    {
     "data": {
      "text/html": [
       "<div>\n",
       "<table border=\"1\" class=\"dataframe\">\n",
       "  <thead>\n",
       "    <tr style=\"text-align: right;\">\n",
       "      <th></th>\n",
       "      <th>is_1</th>\n",
       "      <th>is_2</th>\n",
       "      <th>is_3</th>\n",
       "    </tr>\n",
       "    <tr>\n",
       "      <th>twitter_id</th>\n",
       "      <th></th>\n",
       "      <th></th>\n",
       "      <th></th>\n",
       "    </tr>\n",
       "  </thead>\n",
       "  <tbody>\n",
       "    <tr>\n",
       "      <th>269247809</th>\n",
       "      <td>0.062920</td>\n",
       "      <td>0.038136</td>\n",
       "      <td>0.898944</td>\n",
       "    </tr>\n",
       "    <tr>\n",
       "      <th>156790994</th>\n",
       "      <td>0.562940</td>\n",
       "      <td>0.153247</td>\n",
       "      <td>0.283813</td>\n",
       "    </tr>\n",
       "    <tr>\n",
       "      <th>40366130</th>\n",
       "      <td>0.462563</td>\n",
       "      <td>0.114370</td>\n",
       "      <td>0.423067</td>\n",
       "    </tr>\n",
       "    <tr>\n",
       "      <th>362152133</th>\n",
       "      <td>0.982398</td>\n",
       "      <td>0.007588</td>\n",
       "      <td>0.010014</td>\n",
       "    </tr>\n",
       "    <tr>\n",
       "      <th>1011643310</th>\n",
       "      <td>0.428169</td>\n",
       "      <td>0.096263</td>\n",
       "      <td>0.475568</td>\n",
       "    </tr>\n",
       "    <tr>\n",
       "      <th>2543890665</th>\n",
       "      <td>0.535016</td>\n",
       "      <td>0.099074</td>\n",
       "      <td>0.365910</td>\n",
       "    </tr>\n",
       "    <tr>\n",
       "      <th>230635591</th>\n",
       "      <td>0.470697</td>\n",
       "      <td>0.299733</td>\n",
       "      <td>0.229570</td>\n",
       "    </tr>\n",
       "    <tr>\n",
       "      <th>2239578338</th>\n",
       "      <td>0.567725</td>\n",
       "      <td>0.148372</td>\n",
       "      <td>0.283902</td>\n",
       "    </tr>\n",
       "    <tr>\n",
       "      <th>1143641238</th>\n",
       "      <td>0.446639</td>\n",
       "      <td>0.379295</td>\n",
       "      <td>0.174066</td>\n",
       "    </tr>\n",
       "    <tr>\n",
       "      <th>1214184414</th>\n",
       "      <td>0.215102</td>\n",
       "      <td>0.487038</td>\n",
       "      <td>0.297861</td>\n",
       "    </tr>\n",
       "    <tr>\n",
       "      <th>2475040563</th>\n",
       "      <td>0.180073</td>\n",
       "      <td>0.376691</td>\n",
       "      <td>0.443237</td>\n",
       "    </tr>\n",
       "    <tr>\n",
       "      <th>1523666407</th>\n",
       "      <td>0.607588</td>\n",
       "      <td>0.098352</td>\n",
       "      <td>0.294061</td>\n",
       "    </tr>\n",
       "    <tr>\n",
       "      <th>56028813</th>\n",
       "      <td>0.359311</td>\n",
       "      <td>0.465725</td>\n",
       "      <td>0.174964</td>\n",
       "    </tr>\n",
       "    <tr>\n",
       "      <th>462914460</th>\n",
       "      <td>0.392528</td>\n",
       "      <td>0.040523</td>\n",
       "      <td>0.566949</td>\n",
       "    </tr>\n",
       "    <tr>\n",
       "      <th>218600304</th>\n",
       "      <td>0.352733</td>\n",
       "      <td>0.261602</td>\n",
       "      <td>0.385665</td>\n",
       "    </tr>\n",
       "    <tr>\n",
       "      <th>23896303</th>\n",
       "      <td>0.616952</td>\n",
       "      <td>0.099780</td>\n",
       "      <td>0.283268</td>\n",
       "    </tr>\n",
       "    <tr>\n",
       "      <th>140383662</th>\n",
       "      <td>0.105211</td>\n",
       "      <td>0.428199</td>\n",
       "      <td>0.466590</td>\n",
       "    </tr>\n",
       "    <tr>\n",
       "      <th>244271177</th>\n",
       "      <td>0.736926</td>\n",
       "      <td>0.070104</td>\n",
       "      <td>0.192970</td>\n",
       "    </tr>\n",
       "    <tr>\n",
       "      <th>2749882065</th>\n",
       "      <td>0.238093</td>\n",
       "      <td>0.381890</td>\n",
       "      <td>0.380017</td>\n",
       "    </tr>\n",
       "    <tr>\n",
       "      <th>546361206</th>\n",
       "      <td>0.635724</td>\n",
       "      <td>0.080527</td>\n",
       "      <td>0.283750</td>\n",
       "    </tr>\n",
       "    <tr>\n",
       "      <th>201919020</th>\n",
       "      <td>0.338240</td>\n",
       "      <td>0.215249</td>\n",
       "      <td>0.446511</td>\n",
       "    </tr>\n",
       "    <tr>\n",
       "      <th>584119358</th>\n",
       "      <td>0.365646</td>\n",
       "      <td>0.308846</td>\n",
       "      <td>0.325508</td>\n",
       "    </tr>\n",
       "    <tr>\n",
       "      <th>285428986</th>\n",
       "      <td>0.358741</td>\n",
       "      <td>0.092744</td>\n",
       "      <td>0.548515</td>\n",
       "    </tr>\n",
       "    <tr>\n",
       "      <th>2363987340</th>\n",
       "      <td>0.268589</td>\n",
       "      <td>0.495210</td>\n",
       "      <td>0.236201</td>\n",
       "    </tr>\n",
       "    <tr>\n",
       "      <th>43019230</th>\n",
       "      <td>0.046007</td>\n",
       "      <td>0.008610</td>\n",
       "      <td>0.945383</td>\n",
       "    </tr>\n",
       "    <tr>\n",
       "      <th>366095552</th>\n",
       "      <td>0.626261</td>\n",
       "      <td>0.051219</td>\n",
       "      <td>0.322519</td>\n",
       "    </tr>\n",
       "    <tr>\n",
       "      <th>77248701</th>\n",
       "      <td>0.662895</td>\n",
       "      <td>0.108901</td>\n",
       "      <td>0.228204</td>\n",
       "    </tr>\n",
       "    <tr>\n",
       "      <th>167642321</th>\n",
       "      <td>0.302412</td>\n",
       "      <td>0.478090</td>\n",
       "      <td>0.219498</td>\n",
       "    </tr>\n",
       "    <tr>\n",
       "      <th>3034591</th>\n",
       "      <td>0.418655</td>\n",
       "      <td>0.123542</td>\n",
       "      <td>0.457804</td>\n",
       "    </tr>\n",
       "    <tr>\n",
       "      <th>1089394580</th>\n",
       "      <td>0.612585</td>\n",
       "      <td>0.085916</td>\n",
       "      <td>0.301499</td>\n",
       "    </tr>\n",
       "    <tr>\n",
       "      <th>...</th>\n",
       "      <td>...</td>\n",
       "      <td>...</td>\n",
       "      <td>...</td>\n",
       "    </tr>\n",
       "    <tr>\n",
       "      <th>202331160</th>\n",
       "      <td>0.055917</td>\n",
       "      <td>0.906745</td>\n",
       "      <td>0.037338</td>\n",
       "    </tr>\n",
       "    <tr>\n",
       "      <th>2637677725</th>\n",
       "      <td>0.348801</td>\n",
       "      <td>0.180386</td>\n",
       "      <td>0.470812</td>\n",
       "    </tr>\n",
       "    <tr>\n",
       "      <th>286246563</th>\n",
       "      <td>0.042521</td>\n",
       "      <td>0.167821</td>\n",
       "      <td>0.789658</td>\n",
       "    </tr>\n",
       "    <tr>\n",
       "      <th>242108196</th>\n",
       "      <td>0.451687</td>\n",
       "      <td>0.430970</td>\n",
       "      <td>0.117343</td>\n",
       "    </tr>\n",
       "    <tr>\n",
       "      <th>18092837</th>\n",
       "      <td>0.500429</td>\n",
       "      <td>0.087578</td>\n",
       "      <td>0.411993</td>\n",
       "    </tr>\n",
       "    <tr>\n",
       "      <th>2731065511</th>\n",
       "      <td>0.170373</td>\n",
       "      <td>0.280733</td>\n",
       "      <td>0.548893</td>\n",
       "    </tr>\n",
       "    <tr>\n",
       "      <th>166904878</th>\n",
       "      <td>0.132154</td>\n",
       "      <td>0.090327</td>\n",
       "      <td>0.777519</td>\n",
       "    </tr>\n",
       "    <tr>\n",
       "      <th>1667482549</th>\n",
       "      <td>0.672295</td>\n",
       "      <td>0.017845</td>\n",
       "      <td>0.309860</td>\n",
       "    </tr>\n",
       "    <tr>\n",
       "      <th>75930868</th>\n",
       "      <td>0.330865</td>\n",
       "      <td>0.426482</td>\n",
       "      <td>0.242652</td>\n",
       "    </tr>\n",
       "    <tr>\n",
       "      <th>2467878330</th>\n",
       "      <td>0.143143</td>\n",
       "      <td>0.499226</td>\n",
       "      <td>0.357631</td>\n",
       "    </tr>\n",
       "    <tr>\n",
       "      <th>62623292</th>\n",
       "      <td>0.202903</td>\n",
       "      <td>0.259796</td>\n",
       "      <td>0.537300</td>\n",
       "    </tr>\n",
       "    <tr>\n",
       "      <th>827933119</th>\n",
       "      <td>0.001320</td>\n",
       "      <td>0.269486</td>\n",
       "      <td>0.729194</td>\n",
       "    </tr>\n",
       "    <tr>\n",
       "      <th>2348191040</th>\n",
       "      <td>0.086270</td>\n",
       "      <td>0.561807</td>\n",
       "      <td>0.351923</td>\n",
       "    </tr>\n",
       "    <tr>\n",
       "      <th>707695681</th>\n",
       "      <td>0.356067</td>\n",
       "      <td>0.398442</td>\n",
       "      <td>0.245491</td>\n",
       "    </tr>\n",
       "    <tr>\n",
       "      <th>1526217042</th>\n",
       "      <td>0.318882</td>\n",
       "      <td>0.119647</td>\n",
       "      <td>0.561471</td>\n",
       "    </tr>\n",
       "    <tr>\n",
       "      <th>38031828</th>\n",
       "      <td>0.025559</td>\n",
       "      <td>0.567028</td>\n",
       "      <td>0.407413</td>\n",
       "    </tr>\n",
       "    <tr>\n",
       "      <th>1302941143</th>\n",
       "      <td>0.624175</td>\n",
       "      <td>0.269657</td>\n",
       "      <td>0.106168</td>\n",
       "    </tr>\n",
       "    <tr>\n",
       "      <th>2167538652</th>\n",
       "      <td>0.355295</td>\n",
       "      <td>0.239894</td>\n",
       "      <td>0.404812</td>\n",
       "    </tr>\n",
       "    <tr>\n",
       "      <th>3032157277</th>\n",
       "      <td>0.110949</td>\n",
       "      <td>0.760368</td>\n",
       "      <td>0.128683</td>\n",
       "    </tr>\n",
       "    <tr>\n",
       "      <th>486184926</th>\n",
       "      <td>0.203467</td>\n",
       "      <td>0.162697</td>\n",
       "      <td>0.633836</td>\n",
       "    </tr>\n",
       "    <tr>\n",
       "      <th>338635490</th>\n",
       "      <td>0.078807</td>\n",
       "      <td>0.455883</td>\n",
       "      <td>0.465310</td>\n",
       "    </tr>\n",
       "    <tr>\n",
       "      <th>193418470</th>\n",
       "      <td>0.112477</td>\n",
       "      <td>0.735829</td>\n",
       "      <td>0.151693</td>\n",
       "    </tr>\n",
       "    <tr>\n",
       "      <th>886919910</th>\n",
       "      <td>0.068573</td>\n",
       "      <td>0.654868</td>\n",
       "      <td>0.276558</td>\n",
       "    </tr>\n",
       "    <tr>\n",
       "      <th>419698748</th>\n",
       "      <td>0.250328</td>\n",
       "      <td>0.314295</td>\n",
       "      <td>0.435376</td>\n",
       "    </tr>\n",
       "    <tr>\n",
       "      <th>842577524</th>\n",
       "      <td>0.069605</td>\n",
       "      <td>0.362520</td>\n",
       "      <td>0.567876</td>\n",
       "    </tr>\n",
       "    <tr>\n",
       "      <th>547335413</th>\n",
       "      <td>0.037168</td>\n",
       "      <td>0.149508</td>\n",
       "      <td>0.813325</td>\n",
       "    </tr>\n",
       "    <tr>\n",
       "      <th>1092937206</th>\n",
       "      <td>0.299720</td>\n",
       "      <td>0.615264</td>\n",
       "      <td>0.085016</td>\n",
       "    </tr>\n",
       "    <tr>\n",
       "      <th>291386744</th>\n",
       "      <td>0.204243</td>\n",
       "      <td>0.502865</td>\n",
       "      <td>0.292892</td>\n",
       "    </tr>\n",
       "    <tr>\n",
       "      <th>254811604</th>\n",
       "      <td>0.131612</td>\n",
       "      <td>0.387530</td>\n",
       "      <td>0.480858</td>\n",
       "    </tr>\n",
       "    <tr>\n",
       "      <th>194240959</th>\n",
       "      <td>0.106646</td>\n",
       "      <td>0.438068</td>\n",
       "      <td>0.455286</td>\n",
       "    </tr>\n",
       "  </tbody>\n",
       "</table>\n",
       "<p>2000 rows × 3 columns</p>\n",
       "</div>"
      ],
      "text/plain": [
       "                is_1      is_2      is_3\n",
       "twitter_id                              \n",
       "269247809   0.062920  0.038136  0.898944\n",
       "156790994   0.562940  0.153247  0.283813\n",
       "40366130    0.462563  0.114370  0.423067\n",
       "362152133   0.982398  0.007588  0.010014\n",
       "1011643310  0.428169  0.096263  0.475568\n",
       "2543890665  0.535016  0.099074  0.365910\n",
       "230635591   0.470697  0.299733  0.229570\n",
       "2239578338  0.567725  0.148372  0.283902\n",
       "1143641238  0.446639  0.379295  0.174066\n",
       "1214184414  0.215102  0.487038  0.297861\n",
       "2475040563  0.180073  0.376691  0.443237\n",
       "1523666407  0.607588  0.098352  0.294061\n",
       "56028813    0.359311  0.465725  0.174964\n",
       "462914460   0.392528  0.040523  0.566949\n",
       "218600304   0.352733  0.261602  0.385665\n",
       "23896303    0.616952  0.099780  0.283268\n",
       "140383662   0.105211  0.428199  0.466590\n",
       "244271177   0.736926  0.070104  0.192970\n",
       "2749882065  0.238093  0.381890  0.380017\n",
       "546361206   0.635724  0.080527  0.283750\n",
       "201919020   0.338240  0.215249  0.446511\n",
       "584119358   0.365646  0.308846  0.325508\n",
       "285428986   0.358741  0.092744  0.548515\n",
       "2363987340  0.268589  0.495210  0.236201\n",
       "43019230    0.046007  0.008610  0.945383\n",
       "366095552   0.626261  0.051219  0.322519\n",
       "77248701    0.662895  0.108901  0.228204\n",
       "167642321   0.302412  0.478090  0.219498\n",
       "3034591     0.418655  0.123542  0.457804\n",
       "1089394580  0.612585  0.085916  0.301499\n",
       "...              ...       ...       ...\n",
       "202331160   0.055917  0.906745  0.037338\n",
       "2637677725  0.348801  0.180386  0.470812\n",
       "286246563   0.042521  0.167821  0.789658\n",
       "242108196   0.451687  0.430970  0.117343\n",
       "18092837    0.500429  0.087578  0.411993\n",
       "2731065511  0.170373  0.280733  0.548893\n",
       "166904878   0.132154  0.090327  0.777519\n",
       "1667482549  0.672295  0.017845  0.309860\n",
       "75930868    0.330865  0.426482  0.242652\n",
       "2467878330  0.143143  0.499226  0.357631\n",
       "62623292    0.202903  0.259796  0.537300\n",
       "827933119   0.001320  0.269486  0.729194\n",
       "2348191040  0.086270  0.561807  0.351923\n",
       "707695681   0.356067  0.398442  0.245491\n",
       "1526217042  0.318882  0.119647  0.561471\n",
       "38031828    0.025559  0.567028  0.407413\n",
       "1302941143  0.624175  0.269657  0.106168\n",
       "2167538652  0.355295  0.239894  0.404812\n",
       "3032157277  0.110949  0.760368  0.128683\n",
       "486184926   0.203467  0.162697  0.633836\n",
       "338635490   0.078807  0.455883  0.465310\n",
       "193418470   0.112477  0.735829  0.151693\n",
       "886919910   0.068573  0.654868  0.276558\n",
       "419698748   0.250328  0.314295  0.435376\n",
       "842577524   0.069605  0.362520  0.567876\n",
       "547335413   0.037168  0.149508  0.813325\n",
       "1092937206  0.299720  0.615264  0.085016\n",
       "291386744   0.204243  0.502865  0.292892\n",
       "254811604   0.131612  0.387530  0.480858\n",
       "194240959   0.106646  0.438068  0.455286\n",
       "\n",
       "[2000 rows x 3 columns]"
      ]
     },
     "execution_count": 247,
     "metadata": {},
     "output_type": "execute_result"
    }
   ],
   "source": [
    "make_submission(test_text_df, gs.best_estimator_)"
   ]
  },
  {
   "cell_type": "code",
   "execution_count": null,
   "metadata": {
    "collapsed": true
   },
   "outputs": [],
   "source": [
    "ma"
   ]
  },
  {
   "cell_type": "code",
   "execution_count": null,
   "metadata": {
    "collapsed": true
   },
   "outputs": [],
   "source": []
  },
  {
   "cell_type": "code",
   "execution_count": null,
   "metadata": {
    "collapsed": true
   },
   "outputs": [],
   "source": []
  },
  {
   "cell_type": "code",
   "execution_count": null,
   "metadata": {
    "collapsed": true
   },
   "outputs": [],
   "source": []
  },
  {
   "cell_type": "code",
   "execution_count": null,
   "metadata": {
    "collapsed": true
   },
   "outputs": [],
   "source": []
  },
  {
   "cell_type": "code",
   "execution_count": null,
   "metadata": {
    "collapsed": true
   },
   "outputs": [],
   "source": []
  },
  {
   "cell_type": "code",
   "execution_count": null,
   "metadata": {
    "collapsed": true
   },
   "outputs": [],
   "source": []
  },
  {
   "cell_type": "code",
   "execution_count": null,
   "metadata": {
    "collapsed": true
   },
   "outputs": [],
   "source": []
  },
  {
   "cell_type": "code",
   "execution_count": null,
   "metadata": {
    "collapsed": true
   },
   "outputs": [],
   "source": []
  },
  {
   "cell_type": "code",
   "execution_count": 198,
   "metadata": {
    "collapsed": true
   },
   "outputs": [],
   "source": [
    "X_train = train_df.text.as_matrix()\n",
    "y_train = train_df.label.as_matrix().astype(np.int16)\n",
    "X_test = test_df.text.as_matrix()\n",
    "y_test = test_df.label.as_matrix().astype(np.int16)"
   ]
  },
  {
   "cell_type": "code",
   "execution_count": 199,
   "metadata": {
    "collapsed": true
   },
   "outputs": [],
   "source": [
    "gs_clf = GridSearchCV(text_clf, parameters,\n",
    "                      scoring=\"logloss\",\n",
    "                      n_jobs=-1)"
   ]
  },
  {
   "cell_type": "code",
   "execution_count": 201,
   "metadata": {
    "collapsed": true
   },
   "outputs": [],
   "source": [
    "gs_clf = gs_clf.fit(X, y)\n",
    "gs_clf.best_score_"
   ]
  },
  {
   "cell_type": "code",
   "execution_count": 203,
   "metadata": {
    "collapsed": false,
    "scrolled": false
   },
   "outputs": [
    {
     "data": {
      "text/plain": [
       "0.55124860231084605"
      ]
     },
     "execution_count": 203,
     "metadata": {},
     "output_type": "execute_result"
    }
   ],
   "source": []
  },
  {
   "cell_type": "code",
   "execution_count": 188,
   "metadata": {
    "collapsed": false
   },
   "outputs": [],
   "source": [
    "def experiment1(train_df, test_df, pipeline):\n",
    "#     train_df, test_df = cv.train_test_split(train_hashtag_df, test_size = 0.33)\n",
    "    print train_df.label.value_counts()\n",
    "    \n",
    "    X_train = train_df.text.as_matrix()\n",
    "    y_train = train_df.label.as_matrix().astype(np.int16)\n",
    "    X_test = test_df.text.as_matrix()\n",
    "    y_test = test_df.label.as_matrix().astype(np.int16)\n",
    "    \n",
    "    text_clf = pipeline.fit(X_train, y_train)\n",
    "    y_pred = pipeline.predict_proba(X_test)\n",
    "    return log_loss(y_test, y_pred)\n"
   ]
  },
  {
   "cell_type": "code",
   "execution_count": 189,
   "metadata": {
    "collapsed": false
   },
   "outputs": [
    {
     "name": "stdout",
     "output_type": "stream",
     "text": [
      "1    751\n",
      "3    741\n",
      "2    305\n",
      "dtype: int64\n"
     ]
    },
    {
     "ename": "NameError",
     "evalue": "global name 'log_loss' is not defined",
     "output_type": "error",
     "traceback": [
      "\u001b[0;31m---------------------------------------------------------------------------\u001b[0m",
      "\u001b[0;31mNameError\u001b[0m                                 Traceback (most recent call last)",
      "\u001b[0;32m<ipython-input-189-639ea76e25ad>\u001b[0m in \u001b[0;36m<module>\u001b[0;34m()\u001b[0m\n\u001b[0;32m----> 1\u001b[0;31m \u001b[0mexperiment1\u001b[0m\u001b[0;34m(\u001b[0m\u001b[0mtrain_df\u001b[0m\u001b[0;34m,\u001b[0m \u001b[0mtest_df\u001b[0m\u001b[0;34m,\u001b[0m \u001b[0mp\u001b[0m\u001b[0;34m)\u001b[0m\u001b[0;34m\u001b[0m\u001b[0m\n\u001b[0m",
      "\u001b[0;32m<ipython-input-188-1da9ca8b7887>\u001b[0m in \u001b[0;36mexperiment1\u001b[0;34m(train_df, test_df, pipeline)\u001b[0m\n\u001b[1;32m      9\u001b[0m     \u001b[0mtext_clf\u001b[0m \u001b[0;34m=\u001b[0m \u001b[0mpipeline\u001b[0m\u001b[0;34m.\u001b[0m\u001b[0mfit\u001b[0m\u001b[0;34m(\u001b[0m\u001b[0mX_train\u001b[0m\u001b[0;34m,\u001b[0m \u001b[0my_train\u001b[0m\u001b[0;34m)\u001b[0m\u001b[0;34m\u001b[0m\u001b[0m\n\u001b[1;32m     10\u001b[0m     \u001b[0my_pred\u001b[0m \u001b[0;34m=\u001b[0m \u001b[0mpipeline\u001b[0m\u001b[0;34m.\u001b[0m\u001b[0mpredict_proba\u001b[0m\u001b[0;34m(\u001b[0m\u001b[0mX_test\u001b[0m\u001b[0;34m)\u001b[0m\u001b[0;34m\u001b[0m\u001b[0m\n\u001b[0;32m---> 11\u001b[0;31m     \u001b[0;32mreturn\u001b[0m \u001b[0mlog_loss\u001b[0m\u001b[0;34m(\u001b[0m\u001b[0my_test\u001b[0m\u001b[0;34m,\u001b[0m \u001b[0my_pred\u001b[0m\u001b[0;34m)\u001b[0m\u001b[0;34m\u001b[0m\u001b[0m\n\u001b[0m",
      "\u001b[0;31mNameError\u001b[0m: global name 'log_loss' is not defined"
     ]
    }
   ],
   "source": [
    "experiment1(train_df, test_df, p)"
   ]
  },
  {
   "cell_type": "markdown",
   "metadata": {},
   "source": [
    "# TD-IFD для train_text_df"
   ]
  },
  {
   "cell_type": "code",
   "execution_count": 109,
   "metadata": {
    "collapsed": false
   },
   "outputs": [
    {
     "data": {
      "text/plain": [
       "twitter_id\n",
       "2645443011    grin devilish abrazenbeaut ladi whisper quick ...\n",
       "312928916     #e3ong4 gearscan deliv time multiplay add hoar...\n",
       "629509696     new fanfic black box formul secret rendezv bbt...\n",
       "2871001972    wait see master next seri #doctorwho satan pit...\n",
       "1028323638    ask question ask question home sick shouldn mu...\n",
       "3023454748    senior work need get seen josh teddi play veri...\n",
       "140086848     hope put collect neilhimself issu togeth reall...\n",
       "401845670     recent accept turfgrass scienc program north c...\n",
       "29671057      whi everyon bore day look peopl face rap price...\n",
       "1868456832    knew happiest pictur could also becom pain ive...\n",
       "Name: text, dtype: object"
      ]
     },
     "execution_count": 109,
     "metadata": {},
     "output_type": "execute_result"
    }
   ],
   "source": [
    "train_text_df.text[:10]"
   ]
  },
  {
   "cell_type": "code",
   "execution_count": 115,
   "metadata": {
    "collapsed": false
   },
   "outputs": [],
   "source": [
    "tf1 = fe.text.TfidfVectorizer()\n",
    "data = tf1.fit_transform(train_text_df.text)"
   ]
  },
  {
   "cell_type": "code",
   "execution_count": 121,
   "metadata": {
    "collapsed": false
   },
   "outputs": [
    {
     "data": {
      "text/plain": [
       "(2684, 333225)"
      ]
     },
     "execution_count": 121,
     "metadata": {},
     "output_type": "execute_result"
    }
   ],
   "source": [
    "data.toarray().shape"
   ]
  },
  {
   "cell_type": "code",
   "execution_count": 120,
   "metadata": {
    "collapsed": false
   },
   "outputs": [
    {
     "data": {
      "text/plain": [
       "260590"
      ]
     },
     "execution_count": 120,
     "metadata": {},
     "output_type": "execute_result"
    }
   ],
   "source": [
    "tf1.get_feature_names().index(\"sheldon\")"
   ]
  },
  {
   "cell_type": "code",
   "execution_count": 122,
   "metadata": {
    "collapsed": false
   },
   "outputs": [
    {
     "data": {
      "text/plain": [
       "array([ 0.        ,  0.        ,  0.26414847, ...,  0.        ,\n",
       "        0.        ,  0.00826463])"
      ]
     },
     "execution_count": 122,
     "metadata": {},
     "output_type": "execute_result"
    }
   ],
   "source": [
    "np.sum(data.toarray()"
   ]
  },
  {
   "cell_type": "code",
   "execution_count": 127,
   "metadata": {
    "collapsed": false
   },
   "outputs": [],
   "source": [
    "sum_over_data = np.sum(data.toarray(), axis=1)"
   ]
  },
  {
   "cell_type": "code",
   "execution_count": 142,
   "metadata": {
    "collapsed": false,
    "scrolled": true
   },
   "outputs": [
    {
     "data": {
      "text/plain": [
       "array([ 647, 1736,  448, 2331, 1372, 1324, 1966, 1356, 1403, 2368])"
      ]
     },
     "execution_count": 142,
     "metadata": {},
     "output_type": "execute_result"
    }
   ],
   "source": [
    "np.argsort(sum_over_data)[:10]"
   ]
  },
  {
   "cell_type": "code",
   "execution_count": null,
   "metadata": {
    "collapsed": true
   },
   "outputs": [],
   "source": []
  },
  {
   "cell_type": "code",
   "execution_count": null,
   "metadata": {
    "collapsed": true
   },
   "outputs": [],
   "source": []
  },
  {
   "cell_type": "markdown",
   "metadata": {},
   "source": [
    "# TD-IFD для train_hashtag_df"
   ]
  },
  {
   "cell_type": "code",
   "execution_count": 242,
   "metadata": {
    "collapsed": true
   },
   "outputs": [],
   "source": [
    "cv_train_hashtag_df, cv_test_hashtag_df = cv.train_test_split(train_hashtag_df, test_size = 0.33)"
   ]
  },
  {
   "cell_type": "code",
   "execution_count": 243,
   "metadata": {
    "collapsed": false
   },
   "outputs": [
    {
     "data": {
      "text/html": [
       "<div>\n",
       "<table border=\"1\" class=\"dataframe\">\n",
       "  <thead>\n",
       "    <tr style=\"text-align: right;\">\n",
       "      <th></th>\n",
       "      <th>label</th>\n",
       "      <th>text</th>\n",
       "    </tr>\n",
       "    <tr>\n",
       "      <th>twitter_id</th>\n",
       "      <th></th>\n",
       "      <th></th>\n",
       "    </tr>\n",
       "  </thead>\n",
       "  <tbody>\n",
       "    <tr>\n",
       "      <th>394169598</th>\n",
       "      <td>3</td>\n",
       "      <td>#thetruth #airmaxday #nosew95 #nrml #luckychar...</td>\n",
       "    </tr>\n",
       "    <tr>\n",
       "      <th>51119725</th>\n",
       "      <td>3</td>\n",
       "      <td>#fatclub #ouch #uxcampyeg #rage #undo #bbcf1 #...</td>\n",
       "    </tr>\n",
       "    <tr>\n",
       "      <th>2450140638</th>\n",
       "      <td>3</td>\n",
       "      <td>#bo #bobsburgers #genebelcher #eugenem #bobsbu...</td>\n",
       "    </tr>\n",
       "    <tr>\n",
       "      <th>730218384</th>\n",
       "      <td>2</td>\n",
       "      <td>#explainafilmplotbadly #13seconds #johnlewisdo...</td>\n",
       "    </tr>\n",
       "    <tr>\n",
       "      <th>83997957</th>\n",
       "      <td>3</td>\n",
       "      <td>#yelp #yelp #yelp #yelp #yelp #yelp #yelp #yel...</td>\n",
       "    </tr>\n",
       "  </tbody>\n",
       "</table>\n",
       "</div>"
      ],
      "text/plain": [
       "            label                                               text\n",
       "twitter_id                                                          \n",
       "394169598       3  #thetruth #airmaxday #nosew95 #nrml #luckychar...\n",
       "51119725        3  #fatclub #ouch #uxcampyeg #rage #undo #bbcf1 #...\n",
       "2450140638      3  #bo #bobsburgers #genebelcher #eugenem #bobsbu...\n",
       "730218384       2  #explainafilmplotbadly #13seconds #johnlewisdo...\n",
       "83997957        3  #yelp #yelp #yelp #yelp #yelp #yelp #yelp #yel..."
      ]
     },
     "execution_count": 243,
     "metadata": {},
     "output_type": "execute_result"
    }
   ],
   "source": [
    "cv_train_hashtag_df.head()"
   ]
  },
  {
   "cell_type": "code",
   "execution_count": 244,
   "metadata": {
    "collapsed": false
   },
   "outputs": [],
   "source": [
    "tfidf = fe.text.TfidfVectorizer(smooth_idf=True)\n",
    "X_train = tfidf.fit_transform(cv_train_hashtag_df.text).toarray()\n",
    "y_train = cv_train_hashtag_df.label.as_matrix()\n",
    "\n",
    "X_test = tfidf.transform(cv_test_hashtag_df.text).toarray()\n",
    "y_test = cv_test_hashtag_df.label.as_matrix()"
   ]
  },
  {
   "cell_type": "code",
   "execution_count": 245,
   "metadata": {
    "collapsed": true
   },
   "outputs": [],
   "source": []
  },
  {
   "cell_type": "code",
   "execution_count": 246,
   "metadata": {
    "collapsed": false
   },
   "outputs": [],
   "source": [
    "# from sklearn import svm\n",
    "from sklearn import naive_bayes #MultinomialNB"
   ]
  },
  {
   "cell_type": "code",
   "execution_count": 247,
   "metadata": {
    "collapsed": true
   },
   "outputs": [],
   "source": [
    "clf = naive_bayes.MultinomialNB()"
   ]
  },
  {
   "cell_type": "code",
   "execution_count": 248,
   "metadata": {
    "collapsed": false
   },
   "outputs": [
    {
     "data": {
      "text/plain": [
       "MultinomialNB(alpha=1.0, class_prior=None, fit_prior=True)"
      ]
     },
     "execution_count": 248,
     "metadata": {},
     "output_type": "execute_result"
    }
   ],
   "source": [
    "clf.fit(X_train, y_train)"
   ]
  },
  {
   "cell_type": "code",
   "execution_count": null,
   "metadata": {
    "collapsed": true
   },
   "outputs": [],
   "source": []
  },
  {
   "cell_type": "code",
   "execution_count": 261,
   "metadata": {
    "collapsed": true
   },
   "outputs": [],
   "source": [
    "from sklearn.feature_extraction.text import CountVectorizer\n",
    "from sklearn.feature_extraction.text import TfidfTransformer\n",
    "from sklearn.naive_bayes import MultinomialNB"
   ]
  },
  {
   "cell_type": "code",
   "execution_count": 262,
   "metadata": {
    "collapsed": true
   },
   "outputs": [],
   "source": [
    "from sklearn.pipeline import Pipeline\n"
   ]
  },
  {
   "cell_type": "code",
   "execution_count": 263,
   "metadata": {
    "collapsed": false
   },
   "outputs": [],
   "source": [
    "X_train = cv_train_hashtag_df.text.as_matrix()\n",
    "y_train = cv_train_hashtag_df.label.as_matrix().astype(np.int16)\n",
    "X_test = cv_test_hashtag_df.text.as_matrix()\n",
    "y_test = cv_test_hashtag_df.label.as_matrix().astype(np.int16)"
   ]
  },
  {
   "cell_type": "code",
   "execution_count": 264,
   "metadata": {
    "collapsed": true
   },
   "outputs": [],
   "source": [
    "hashtag_clf = Pipeline([('vect', CountVectorizer()),\n",
    "                     ('tfidf', TfidfTransformer()),\n",
    "                     ('clf', MultinomialNB()),\n",
    "])\n"
   ]
  },
  {
   "cell_type": "code",
   "execution_count": 265,
   "metadata": {
    "collapsed": false
   },
   "outputs": [],
   "source": [
    "hashtag_clf = text_clf.fit(X_train, y_train)"
   ]
  },
  {
   "cell_type": "code",
   "execution_count": 266,
   "metadata": {
    "collapsed": true
   },
   "outputs": [],
   "source": [
    "y_pred = hashtag_clf.predict(X_test)"
   ]
  },
  {
   "cell_type": "code",
   "execution_count": 267,
   "metadata": {
    "collapsed": false
   },
   "outputs": [],
   "source": [
    "from sklearn.metrics import classification_report"
   ]
  },
  {
   "cell_type": "code",
   "execution_count": 268,
   "metadata": {
    "collapsed": false
   },
   "outputs": [
    {
     "name": "stdout",
     "output_type": "stream",
     "text": [
      "             precision    recall  f1-score   support\n",
      "\n",
      "          1       0.51      0.75      0.60       377\n",
      "          2       1.00      0.02      0.04       137\n",
      "          3       0.60      0.53      0.56       372\n",
      "\n",
      "avg / total       0.62      0.54      0.50       886\n",
      "\n"
     ]
    }
   ],
   "source": [
    "print(classification_report(y_test, y_pred))"
   ]
  },
  {
   "cell_type": "markdown",
   "metadata": {},
   "source": [
    "# TD-IFD для train_text_df\n"
   ]
  },
  {
   "cell_type": "code",
   "execution_count": 74,
   "metadata": {
    "collapsed": true
   },
   "outputs": [],
   "source": [
    "vocabulary = db.vocabulary.find_one({\"_id\": \"vocabulary\"})[\"vocabulary\"]"
   ]
  },
  {
   "cell_type": "code",
   "execution_count": 962,
   "metadata": {
    "collapsed": false
   },
   "outputs": [
    {
     "data": {
      "text/plain": [
       "300"
      ]
     },
     "execution_count": 962,
     "metadata": {},
     "output_type": "execute_result"
    }
   ],
   "source": [
    "len(vocabulary)"
   ]
  },
  {
   "cell_type": "code",
   "execution_count": 963,
   "metadata": {
    "collapsed": false
   },
   "outputs": [],
   "source": [
    "cv_train_text_df, cv_test_text_df = cv.train_test_split(train_text_df, test_size = 0.33)"
   ]
  },
  {
   "cell_type": "code",
   "execution_count": 964,
   "metadata": {
    "collapsed": true
   },
   "outputs": [],
   "source": [
    "X_train = cv_train_text_df.text.as_matrix()\n",
    "y_train = cv_train_text_df.label.as_matrix().astype(np.int16)\n",
    "X_test = cv_test_text_df.text.as_matrix()\n",
    "y_test = cv_test_text_df.label.as_matrix().astype(np.int16)"
   ]
  },
  {
   "cell_type": "code",
   "execution_count": 965,
   "metadata": {
    "collapsed": false
   },
   "outputs": [
    {
     "data": {
      "text/plain": [
       "array([1, 2, 3], dtype=int16)"
      ]
     },
     "execution_count": 965,
     "metadata": {},
     "output_type": "execute_result"
    }
   ],
   "source": [
    "np.unique(y_train)"
   ]
  },
  {
   "cell_type": "code",
   "execution_count": 1025,
   "metadata": {
    "collapsed": true
   },
   "outputs": [],
   "source": [
    "from sklearn import naive_bayes\n",
    "from sklearn.metrics import log_loss"
   ]
  },
  {
   "cell_type": "code",
   "execution_count": 1039,
   "metadata": {
    "collapsed": false
   },
   "outputs": [
    {
     "name": "stdout",
     "output_type": "stream",
     "text": [
      "6000\n"
     ]
    },
    {
     "data": {
      "text/plain": [
       "0.70649526362613102"
      ]
     },
     "execution_count": 1039,
     "metadata": {},
     "output_type": "execute_result"
    }
   ],
   "source": [
    "vocabulary = db.vocabulary.find_one({\"_id\": \"vocabulary\"})[\"vocabulary\"]\n",
    "print len(vocabulary)\n",
    "text_clf = Pipeline([#('vect', CountVectorizer(vocabulary=vocabulary)),\n",
    "                     #('tfidf', TfidfTransformer()),\n",
    "                     ('tfidf', TfidfVectorizer(vocabulary=vocabulary, sublinear_tf=True)),\n",
    "                     ('clf', naive_bayes.MultinomialNB(alpha=0.1, fit_prior=True)),\n",
    "])\n",
    "\n",
    "text_clf1 = Pipeline([#('vect', CountVectorizer(vocabulary=vocabulary)),\n",
    "                     #('tfidf', TfidfTransformer()),\n",
    "                     ('tfidf', TfidfVectorizer(vocabulary=vocabulary, sublinear_tf=True)),\n",
    "                     ('clf', LogisticRegression(solver='lbfgs', multi_class='ovr', class_weight='auto')),\n",
    "])\n",
    "\n",
    "text_clf = Pipeline([#('vect', CountVectorizer(vocabulary=vocabulary)),\n",
    "                     #('tfidf', TfidfTransformer(sublinear_tf=True)),\n",
    "                     ('tfidf', TfidfVectorizer(vocabulary=vocabulary, sublinear_tf=True)),\n",
    "                     ('clf', SGDClassifier(loss='log', penalty='l1', \n",
    "                                           alpha=1e-4, n_iter=10, random_state=42)),\n",
    "])\n",
    "text_clf = text_clf.fit(X_train, y_train)\n",
    "y_pred = text_clf.predict_proba(X_test)\n",
    "log_loss(y_test, y_pred)"
   ]
  },
  {
   "cell_type": "code",
   "execution_count": 1022,
   "metadata": {
    "collapsed": false
   },
   "outputs": [],
   "source": []
  },
  {
   "cell_type": "code",
   "execution_count": 1023,
   "metadata": {
    "collapsed": true
   },
   "outputs": [],
   "source": []
  },
  {
   "cell_type": "code",
   "execution_count": 1024,
   "metadata": {
    "collapsed": false
   },
   "outputs": [
    {
     "data": {
      "text/plain": [
       "6.9098267156203068"
      ]
     },
     "execution_count": 1024,
     "metadata": {},
     "output_type": "execute_result"
    }
   ],
   "source": [
    "log_loss(y_test, y_pred)"
   ]
  },
  {
   "cell_type": "code",
   "execution_count": 544,
   "metadata": {
    "collapsed": false
   },
   "outputs": [
    {
     "data": {
      "text/plain": [
       "<bound method Pipeline.get_params of Pipeline(steps=[('vect', CountVectorizer(analyzer=u'word', binary=False, decode_error=u'strict',\n",
       "        dtype=<type 'numpy.int64'>, encoding=u'utf-8', input=u'content',\n",
       "        lowercase=True, max_df=1.0, max_features=None, min_df=1,\n",
       "        ngram_range=(1, 1), preprocessor=None, stop_words=None,\n",
       "        st...',\n",
       "          penalty='l2', random_state=None, solver='liblinear', tol=0.0001,\n",
       "          verbose=0))])>"
      ]
     },
     "execution_count": 544,
     "metadata": {},
     "output_type": "execute_result"
    }
   ],
   "source": []
  },
  {
   "cell_type": "code",
   "execution_count": 290,
   "metadata": {
    "collapsed": false
   },
   "outputs": [
    {
     "name": "stdout",
     "output_type": "stream",
     "text": [
      "             precision    recall  f1-score   support\n",
      "\n",
      "          1       0.43      1.00      0.60       357\n",
      "          2       0.00      0.00      0.00       142\n",
      "          3       0.95      0.14      0.25       387\n",
      "\n",
      "avg / total       0.59      0.46      0.35       886\n",
      "\n"
     ]
    }
   ],
   "source": [
    "print(classification_report(y_test, y_pred))"
   ]
  },
  {
   "cell_type": "code",
   "execution_count": 358,
   "metadata": {
    "collapsed": true
   },
   "outputs": [],
   "source": [
    "from sklearn.linear_model import SGDClassifier\n",
    "log_loss(y_test, y_pred)"
   ]
  },
  {
   "cell_type": "code",
   "execution_count": 359,
   "metadata": {
    "collapsed": false
   },
   "outputs": [
    {
     "data": {
      "text/plain": [
       "0.64785553047404065"
      ]
     },
     "execution_count": 359,
     "metadata": {},
     "output_type": "execute_result"
    }
   ],
   "source": [
    "text_clf = Pipeline([('vect', CountVectorizer(vocabulary=db.vocabulary.find_one({\"_id\": \"vocabulary\"})[\"vocabulary\"])),\n",
    "                     ('tfidf', TfidfTransformer()),\n",
    "                     ('clf', SGDClassifier(loss='hinge', penalty='l2',\n",
    "                                           alpha=1e-3, n_iter=5, random_state=42)),\n",
    "])\n",
    "_ = text_clf.fit(X_train, y_train)\n",
    "y_pred = text_clf.predict(X_test)\n",
    "np.mean(y_pred == y_test)    "
   ]
  },
  {
   "cell_type": "code",
   "execution_count": 279,
   "metadata": {
    "collapsed": false
   },
   "outputs": [
    {
     "name": "stdout",
     "output_type": "stream",
     "text": [
      "             precision    recall  f1-score   support\n",
      "\n",
      "          1       0.59      0.83      0.69       369\n",
      "          2       0.79      0.11      0.19       137\n",
      "          3       0.66      0.61      0.63       380\n",
      "\n",
      "avg / total       0.65      0.62      0.59       886\n",
      "\n"
     ]
    }
   ],
   "source": [
    "print(classification_report(y_test, y_pred))"
   ]
  },
  {
   "cell_type": "code",
   "execution_count": null,
   "metadata": {
    "collapsed": true
   },
   "outputs": [],
   "source": []
  },
  {
   "cell_type": "code",
   "execution_count": 69,
   "metadata": {
    "collapsed": false
   },
   "outputs": [],
   "source": [
    "train, test = cv.train_test_split(train_df, test_size = 0.33)"
   ]
  },
  {
   "cell_type": "code",
   "execution_count": 70,
   "metadata": {
    "collapsed": false
   },
   "outputs": [
    {
     "data": {
      "text/plain": [
       "1    759\n",
       "3    752\n",
       "2    286\n",
       "dtype: int64"
      ]
     },
     "execution_count": 70,
     "metadata": {},
     "output_type": "execute_result"
    }
   ],
   "source": [
    "train.label.value_counts()"
   ]
  },
  {
   "cell_type": "code",
   "execution_count": 71,
   "metadata": {
    "collapsed": false,
    "scrolled": true
   },
   "outputs": [
    {
     "data": {
      "text/plain": [
       "1    377\n",
       "3    358\n",
       "2    151\n",
       "dtype: int64"
      ]
     },
     "execution_count": 71,
     "metadata": {},
     "output_type": "execute_result"
    }
   ],
   "source": [
    "test.label.value_counts()"
   ]
  },
  {
   "cell_type": "markdown",
   "metadata": {},
   "source": [
    "## Теперь добавим в twitter_id, label"
   ]
  },
  {
   "cell_type": "code",
   "execution_count": null,
   "metadata": {
    "collapsed": true
   },
   "outputs": [],
   "source": []
  },
  {
   "cell_type": "markdown",
   "metadata": {},
   "source": [
    "# С моим словаряем"
   ]
  },
  {
   "cell_type": "code",
   "execution_count": 481,
   "metadata": {
    "collapsed": true
   },
   "outputs": [],
   "source": [
    "cv_train_text_df, cv_test_text_df = cv.train_test_split(train_text_df, test_size = 0.33)"
   ]
  },
  {
   "cell_type": "code",
   "execution_count": 482,
   "metadata": {
    "collapsed": false
   },
   "outputs": [],
   "source": [
    "vocabulary = db.vocabulary.find_one({\"_id\": \"vocabulary\"})[\"vocabulary\"]"
   ]
  },
  {
   "cell_type": "code",
   "execution_count": 491,
   "metadata": {
    "collapsed": false
   },
   "outputs": [
    {
     "data": {
      "text/plain": [
       "15000"
      ]
     },
     "execution_count": 491,
     "metadata": {},
     "output_type": "execute_result"
    }
   ],
   "source": [
    "len(vocabulary)"
   ]
  },
  {
   "cell_type": "code",
   "execution_count": 483,
   "metadata": {
    "collapsed": false
   },
   "outputs": [],
   "source": [
    "from sklearn.linear_model import LogisticRegression"
   ]
  },
  {
   "cell_type": "code",
   "execution_count": 484,
   "metadata": {
    "collapsed": false
   },
   "outputs": [],
   "source": [
    "vect = TfidfVectorizer(vocabulary=vocabulary, sublinear_tf=True)"
   ]
  },
  {
   "cell_type": "code",
   "execution_count": 485,
   "metadata": {
    "collapsed": true
   },
   "outputs": [],
   "source": [
    "X_train = vect.fit_transform(cv_train_text_df.text)\n",
    "y_train = cv_train_text_df.label.as_matrix()\n",
    "\n",
    "X_test = vect.fit_transform(cv_test_text_df.text)\n",
    "y_test = cv_test_text_df.label.as_matrix()"
   ]
  },
  {
   "cell_type": "code",
   "execution_count": 486,
   "metadata": {
    "collapsed": false
   },
   "outputs": [
    {
     "data": {
      "text/plain": [
       "LogisticRegression(C=1.0, class_weight='auto', dual=False, fit_intercept=True,\n",
       "          intercept_scaling=1, max_iter=100, multi_class='ovr',\n",
       "          penalty='l2', random_state=None, solver='lbfgs', tol=0.0001,\n",
       "          verbose=0)"
      ]
     },
     "execution_count": 486,
     "metadata": {},
     "output_type": "execute_result"
    }
   ],
   "source": [
    "# clf = MultinomialNB()\n",
    "clf = LogisticRegression(solver='lbfgs', multi_class='ovr', class_weight='auto')\n",
    "clf.fit(X_train, y_train)\n",
    "\n",
    "# newton-cg’ and ‘lbfgs’"
   ]
  },
  {
   "cell_type": "code",
   "execution_count": 487,
   "metadata": {
    "collapsed": false
   },
   "outputs": [],
   "source": [
    "y_pred = clf.predict_proba(X_test)"
   ]
  },
  {
   "cell_type": "code",
   "execution_count": 488,
   "metadata": {
    "collapsed": false
   },
   "outputs": [],
   "source": [
    "from sklearn.metrics import log_loss"
   ]
  },
  {
   "cell_type": "code",
   "execution_count": 489,
   "metadata": {
    "collapsed": false
   },
   "outputs": [
    {
     "data": {
      "text/plain": [
       "0.84505046820380458"
      ]
     },
     "execution_count": 489,
     "metadata": {},
     "output_type": "execute_result"
    }
   ],
   "source": [
    "log_loss(y_test, y_pred)"
   ]
  },
  {
   "cell_type": "markdown",
   "metadata": {},
   "source": [
    "# Final"
   ]
  },
  {
   "cell_type": "code",
   "execution_count": 851,
   "metadata": {
    "collapsed": true
   },
   "outputs": [],
   "source": [
    "X_train = vect.fit_transform(train_text_df.text)\n",
    "y_train = train_text_df.label.as_matrix()\n",
    "X_test = vect.fit_transform(test_text_df.text)"
   ]
  },
  {
   "cell_type": "code",
   "execution_count": 462,
   "metadata": {
    "collapsed": false
   },
   "outputs": [
    {
     "data": {
      "text/plain": [
       "LogisticRegression(C=1.0, class_weight='auto', dual=False, fit_intercept=True,\n",
       "          intercept_scaling=1, max_iter=100, multi_class='multinomial',\n",
       "          penalty='l2', random_state=None, solver='lbfgs', tol=0.0001,\n",
       "          verbose=0)"
      ]
     },
     "execution_count": 462,
     "metadata": {},
     "output_type": "execute_result"
    }
   ],
   "source": [
    "clf = LogisticRegression(solver='lbfgs', multi_class='multinomial', class_weight='auto')\n",
    "clf.fit(X_train, y_train)"
   ]
  },
  {
   "cell_type": "code",
   "execution_count": null,
   "metadata": {
    "collapsed": true
   },
   "outputs": [],
   "source": [
    "text_clf = Pipeline([#('vect', CountVectorizer(vocabulary=vocabulary)),\n",
    "                     #('tfidf', TfidfTransformer()),\n",
    "                     ('tfidf', TfidfVectorizer(vocabulary=vocabulary, sublinear_tf=True)),\n",
    "                     ('clf', LogisticRegression(solver='lbfgs', multi_class='ovr', class_weight='auto')),\n",
    "])"
   ]
  },
  {
   "cell_type": "code",
   "execution_count": null,
   "metadata": {
    "collapsed": true
   },
   "outputs": [],
   "source": [
    "text_clf.fit(X_train, y_train)"
   ]
  },
  {
   "cell_type": "code",
   "execution_count": 478,
   "metadata": {
    "collapsed": true
   },
   "outputs": [],
   "source": [
    "y_pred = text_clf.predict_proba(X_test)"
   ]
  },
  {
   "cell_type": "code",
   "execution_count": 479,
   "metadata": {
    "collapsed": false
   },
   "outputs": [
    {
     "data": {
      "text/plain": [
       "array([[ 0.12433036,  0.26249319,  0.61317645],\n",
       "       [ 0.31974375,  0.35231483,  0.32794142],\n",
       "       [ 0.29106244,  0.43561733,  0.27332024],\n",
       "       ..., \n",
       "       [ 0.29162049,  0.38952946,  0.31885005],\n",
       "       [ 0.39506118,  0.25557679,  0.34936203],\n",
       "       [ 0.37549014,  0.28674225,  0.33776762]])"
      ]
     },
     "execution_count": 479,
     "metadata": {},
     "output_type": "execute_result"
    }
   ],
   "source": [
    "y_pred"
   ]
  },
  {
   "cell_type": "code",
   "execution_count": 473,
   "metadata": {
    "collapsed": false
   },
   "outputs": [],
   "source": [
    "test_final = pd.DataFrame(y_pred)\n",
    "test_final.index = test_text_df.index"
   ]
  },
  {
   "cell_type": "code",
   "execution_count": 465,
   "metadata": {
    "collapsed": true
   },
   "outputs": [],
   "source": [
    "test_final.index = test_text_df.index"
   ]
  },
  {
   "cell_type": "code",
   "execution_count": 469,
   "metadata": {
    "collapsed": false
   },
   "outputs": [],
   "source": [
    "test_final.to_csv(\"./submission.csv\")"
   ]
  },
  {
   "cell_type": "code",
   "execution_count": 306,
   "metadata": {
    "collapsed": false
   },
   "outputs": [],
   "source": [
    "Tfidf_with_vocab = TfidfVectorizer(vocabulary=vocabulary)"
   ]
  },
  {
   "cell_type": "code",
   "execution_count": 470,
   "metadata": {
    "collapsed": true
   },
   "outputs": [],
   "source": []
  },
  {
   "cell_type": "code",
   "execution_count": null,
   "metadata": {
    "collapsed": true
   },
   "outputs": [],
   "source": []
  },
  {
   "cell_type": "code",
   "execution_count": null,
   "metadata": {
    "collapsed": true
   },
   "outputs": [],
   "source": []
  },
  {
   "cell_type": "code",
   "execution_count": 447,
   "metadata": {
    "collapsed": false
   },
   "outputs": [],
   "source": [
    "X_train = Tfidf_with_vocab.fit_transform(cv_train_text_df.text).toarray()\n",
    "y_train = cv_train_text_df.label.as_matrix()\n",
    "\n",
    "X_test = Tfidf_with_vocab.transform(cv_test_text_df.text).toarray()\n",
    "y_test = cv_test_text_df.label.as_matrix()"
   ]
  },
  {
   "cell_type": "code",
   "execution_count": 318,
   "metadata": {
    "collapsed": false
   },
   "outputs": [],
   "source": [
    "clf = MultinomialNB()"
   ]
  },
  {
   "cell_type": "code",
   "execution_count": 319,
   "metadata": {
    "collapsed": false
   },
   "outputs": [
    {
     "data": {
      "text/plain": [
       "MultinomialNB(alpha=1.0, class_prior=None, fit_prior=True)"
      ]
     },
     "execution_count": 319,
     "metadata": {},
     "output_type": "execute_result"
    }
   ],
   "source": [
    "clf.fit(X_train, y_train)"
   ]
  },
  {
   "cell_type": "code",
   "execution_count": 320,
   "metadata": {
    "collapsed": true
   },
   "outputs": [],
   "source": [
    "y_pred = clf.predict_proba(X_test)"
   ]
  },
  {
   "cell_type": "code",
   "execution_count": 321,
   "metadata": {
    "collapsed": false
   },
   "outputs": [
    {
     "name": "stderr",
     "output_type": "stream",
     "text": [
      "/Users/kopbob/.pyenv/versions/sphere-env-2.7.10/lib/python2.7/site-packages/ipykernel/__main__.py:1: DeprecationWarning: elementwise comparison failed; this will raise the error in the future.\n",
      "  if __name__ == '__main__':\n"
     ]
    },
    {
     "data": {
      "text/plain": [
       "0.0"
      ]
     },
     "execution_count": 321,
     "metadata": {},
     "output_type": "execute_result"
    }
   ],
   "source": [
    "np.mean(y_test == y_pred)"
   ]
  },
  {
   "cell_type": "code",
   "execution_count": 300,
   "metadata": {
    "collapsed": false
   },
   "outputs": [
    {
     "data": {
      "text/plain": [
       "(1797, 3000)"
      ]
     },
     "execution_count": 300,
     "metadata": {},
     "output_type": "execute_result"
    }
   ],
   "source": []
  },
  {
   "cell_type": "code",
   "execution_count": 439,
   "metadata": {
    "collapsed": false
   },
   "outputs": [
    {
     "data": {
      "text/plain": [
       "{u'_id': ObjectId('56758b239443b078aedf1944'),\n",
       " u'text': u'tweetdeck today real pain know show damn tweet ind timelin plea sheldon home think watch babylon train think plea see worri definet contact hundr fifti buck new glass thank god lactos intoler doesn cost ani money shop new glass mayb color instead usual black one cours consequ cours get email bed sheldon know happen yawn public three dimension chess game depend luck cheat win logic caus winner play right way wanna play tic tac toe care turn wopr still think might becom prototyp futur termin happen strike first weapon know italian night could forget keep remind seven year wonder closewil make way past kill sarah connor howard probabl pick raj sometim movement life like forget real boy yeah sometim wonder brain sometim find quit recov saidyear high school dure sheldon way return star war sheet yet year high school still nerd tabl exist record come guinea pig hand might even true misadventur everyhour right wait mean misadventur predict work fix date yet alreadi plan achiev nobel prize wait forget cours sheldon need sarcasm sign yeah see care much effect actual fuel would gonna put raj rocket well see swear hear one word sheldon gonna use next experiment rocket fuel good night sheldon want get chine food take class take class sheldon point give strike shouldn likestrik come strike thing real physicist would never tri fool mutter consequ would even wors alreadi know know damn thing quot often enough thought onli forbidden long hold sarcast sign get worri would never dare chang sheldonian calendar accept anyth come anywher near spot sheldon relentess narcassist drone back would someon plea turn sheldon commentari track',\n",
       " u'twitter_id': 269247809}"
      ]
     },
     "execution_count": 439,
     "metadata": {},
     "output_type": "execute_result"
    }
   ],
   "source": [
    "db.test_text_data.find_one()"
   ]
  },
  {
   "cell_type": "code",
   "execution_count": 441,
   "metadata": {
    "collapsed": false
   },
   "outputs": [],
   "source": [
    "test_df = pd.DataFrame(list(db.test_text_data.find()))"
   ]
  },
  {
   "cell_type": "code",
   "execution_count": 444,
   "metadata": {
    "collapsed": true
   },
   "outputs": [],
   "source": [
    "def get_test_text_df():\n",
    "    collection = db.test_text_data\n",
    "    \n",
    "    train_db_df = pd.DataFrame(list(collection.find()))\n",
    "    train_db_df = train_db_df.drop('_id', axis=1)\n",
    "    train_db_df.index = train_db_df.twitter_id\n",
    "    train_df = train_db_df.drop('twitter_id', axis=1)\n",
    "    \n",
    "    return train_df"
   ]
  },
  {
   "cell_type": "code",
   "execution_count": 445,
   "metadata": {
    "collapsed": false
   },
   "outputs": [],
   "source": [
    "test_df = get_test_text_df()"
   ]
  },
  {
   "cell_type": "code",
   "execution_count": 446,
   "metadata": {
    "collapsed": false
   },
   "outputs": [
    {
     "data": {
      "text/html": [
       "<div>\n",
       "<table border=\"1\" class=\"dataframe\">\n",
       "  <thead>\n",
       "    <tr style=\"text-align: right;\">\n",
       "      <th></th>\n",
       "      <th>text</th>\n",
       "    </tr>\n",
       "    <tr>\n",
       "      <th>twitter_id</th>\n",
       "      <th></th>\n",
       "    </tr>\n",
       "  </thead>\n",
       "  <tbody>\n",
       "    <tr>\n",
       "      <th>269247809</th>\n",
       "      <td>tweetdeck today real pain know show damn tweet...</td>\n",
       "    </tr>\n",
       "    <tr>\n",
       "      <th>156790994</th>\n",
       "      <td>aight gone foo yall easi need dalla emoji trip...</td>\n",
       "    </tr>\n",
       "    <tr>\n",
       "      <th>40366130</th>\n",
       "      <td>#identitycrisi told one #insomnia isnt insomni...</td>\n",
       "    </tr>\n",
       "    <tr>\n",
       "      <th>362152133</th>\n",
       "      <td>screen thronecast tonight #gameofthron #jonsno...</td>\n",
       "    </tr>\n",
       "    <tr>\n",
       "      <th>1011643310</th>\n",
       "      <td>plea retweet mean everyth ilysm justinbieb #gu...</td>\n",
       "    </tr>\n",
       "  </tbody>\n",
       "</table>\n",
       "</div>"
      ],
      "text/plain": [
       "                                                         text\n",
       "twitter_id                                                   \n",
       "269247809   tweetdeck today real pain know show damn tweet...\n",
       "156790994   aight gone foo yall easi need dalla emoji trip...\n",
       "40366130    #identitycrisi told one #insomnia isnt insomni...\n",
       "362152133   screen thronecast tonight #gameofthron #jonsno...\n",
       "1011643310  plea retweet mean everyth ilysm justinbieb #gu..."
      ]
     },
     "execution_count": 446,
     "metadata": {},
     "output_type": "execute_result"
    }
   ],
   "source": [
    "test_df.head()"
   ]
  },
  {
   "cell_type": "code",
   "execution_count": null,
   "metadata": {
    "collapsed": true
   },
   "outputs": [],
   "source": []
  },
  {
   "cell_type": "code",
   "execution_count": null,
   "metadata": {
    "collapsed": true
   },
   "outputs": [],
   "source": []
  },
  {
   "cell_type": "code",
   "execution_count": null,
   "metadata": {
    "collapsed": true
   },
   "outputs": [],
   "source": []
  },
  {
   "cell_type": "code",
   "execution_count": null,
   "metadata": {
    "collapsed": true
   },
   "outputs": [],
   "source": []
  },
  {
   "cell_type": "code",
   "execution_count": null,
   "metadata": {
    "collapsed": true
   },
   "outputs": [],
   "source": []
  },
  {
   "cell_type": "code",
   "execution_count": null,
   "metadata": {
    "collapsed": true
   },
   "outputs": [],
   "source": []
  },
  {
   "cell_type": "code",
   "execution_count": null,
   "metadata": {
    "collapsed": true
   },
   "outputs": [],
   "source": []
  },
  {
   "cell_type": "code",
   "execution_count": null,
   "metadata": {
    "collapsed": true
   },
   "outputs": [],
   "source": [
    "def make_submission(test_df, clf):\n",
    "    X_test = test_df.text\n",
    "    \n",
    "    y_pred = clf.predict_proba(X_test)\n",
    "    \n",
    "    test_final = pd.DataFrame(y_pred)\n",
    "    test_final.index = test_text_df.index\n",
    "    test_final.columns = [\"is_1\", \"is_2\", \"is_3\"]\n",
    "    \n",
    "    twitter_submission_df = pd.read_csv(\"./twitter_submission.csv\", index_col=\"twitter_id\")\n",
    "    \n",
    "    no_pred_ids = set(twitter_submission_df.index) - set(test_final.index)\n",
    "    \n",
    "    final_df = pd.concat([test_final, twitter_submission_df.loc[list(no_pred_ids)]])\n",
    "    \n",
    "    final_df.to_csv(\"./my_submission.csv\")\n",
    "    \n",
    "    return final_df\n",
    "    "
   ]
  },
  {
   "cell_type": "code",
   "execution_count": 1040,
   "metadata": {
    "collapsed": true
   },
   "outputs": [],
   "source": [
    "X_train = train_text_df.text\n",
    "y_train = train_text_df.label.as_matrix()\n",
    "X_test = test_text_df.text"
   ]
  },
  {
   "cell_type": "code",
   "execution_count": 1041,
   "metadata": {
    "collapsed": true
   },
   "outputs": [],
   "source": [
    "text_clf = Pipeline([#('vect', CountVectorizer(vocabulary=vocabulary)),\n",
    "                     #('tfidf', TfidfTransformer()),\n",
    "                     ('tfidf', TfidfVectorizer(vocabulary=vocabulary, sublinear_tf=True)),\n",
    "                     ('clf', naive_bayes.MultinomialNB(alpha=0.1, fit_prior=True)),\n",
    "])"
   ]
  },
  {
   "cell_type": "code",
   "execution_count": 1042,
   "metadata": {
    "collapsed": false
   },
   "outputs": [
    {
     "data": {
      "text/plain": [
       "Pipeline(steps=[('tfidf', TfidfVectorizer(analyzer=u'word', binary=False, decode_error=u'strict',\n",
       "        dtype=<type 'numpy.int64'>, encoding=u'utf-8', input=u'content',\n",
       "        lowercase=True, max_df=1.0, max_features=None, min_df=1,\n",
       "        ngram_range=(1, 1), norm=u'l2', preprocessor=None, smooth_idf=Tru...', u'satehui', u'#shoutout'])), ('clf', MultinomialNB(alpha=0.1, class_prior=None, fit_prior=True))])"
      ]
     },
     "execution_count": 1042,
     "metadata": {},
     "output_type": "execute_result"
    }
   ],
   "source": [
    "text_clf.fit(X_train, y_train)"
   ]
  },
  {
   "cell_type": "code",
   "execution_count": 1043,
   "metadata": {
    "collapsed": true
   },
   "outputs": [],
   "source": [
    "y_pred = text_clf.predict_proba(X_test)"
   ]
  },
  {
   "cell_type": "code",
   "execution_count": 1044,
   "metadata": {
    "collapsed": true
   },
   "outputs": [],
   "source": [
    "test_final = pd.DataFrame(y_pred)\n",
    "test_final.index = test_text_df.index"
   ]
  },
  {
   "cell_type": "code",
   "execution_count": 1045,
   "metadata": {
    "collapsed": false
   },
   "outputs": [],
   "source": [
    "test_final.columns = [\"is_1\", \"is_2\", \"is_3\"]"
   ]
  },
  {
   "cell_type": "code",
   "execution_count": 1046,
   "metadata": {
    "collapsed": false,
    "scrolled": true
   },
   "outputs": [
    {
     "data": {
      "text/html": [
       "<div>\n",
       "<table border=\"1\" class=\"dataframe\">\n",
       "  <thead>\n",
       "    <tr style=\"text-align: right;\">\n",
       "      <th></th>\n",
       "      <th>is_1</th>\n",
       "      <th>is_2</th>\n",
       "      <th>is_3</th>\n",
       "    </tr>\n",
       "    <tr>\n",
       "      <th>twitter_id</th>\n",
       "      <th></th>\n",
       "      <th></th>\n",
       "      <th></th>\n",
       "    </tr>\n",
       "  </thead>\n",
       "  <tbody>\n",
       "    <tr>\n",
       "      <th>269247809</th>\n",
       "      <td>0.006266</td>\n",
       "      <td>0.001769</td>\n",
       "      <td>0.991965</td>\n",
       "    </tr>\n",
       "    <tr>\n",
       "      <th>156790994</th>\n",
       "      <td>0.488516</td>\n",
       "      <td>0.063921</td>\n",
       "      <td>0.447563</td>\n",
       "    </tr>\n",
       "    <tr>\n",
       "      <th>40366130</th>\n",
       "      <td>0.605876</td>\n",
       "      <td>0.072793</td>\n",
       "      <td>0.321330</td>\n",
       "    </tr>\n",
       "    <tr>\n",
       "      <th>362152133</th>\n",
       "      <td>0.871774</td>\n",
       "      <td>0.031372</td>\n",
       "      <td>0.096854</td>\n",
       "    </tr>\n",
       "    <tr>\n",
       "      <th>1011643310</th>\n",
       "      <td>0.396848</td>\n",
       "      <td>0.094289</td>\n",
       "      <td>0.508862</td>\n",
       "    </tr>\n",
       "  </tbody>\n",
       "</table>\n",
       "</div>"
      ],
      "text/plain": [
       "                is_1      is_2      is_3\n",
       "twitter_id                              \n",
       "269247809   0.006266  0.001769  0.991965\n",
       "156790994   0.488516  0.063921  0.447563\n",
       "40366130    0.605876  0.072793  0.321330\n",
       "362152133   0.871774  0.031372  0.096854\n",
       "1011643310  0.396848  0.094289  0.508862"
      ]
     },
     "execution_count": 1046,
     "metadata": {},
     "output_type": "execute_result"
    }
   ],
   "source": [
    "test_final.head()"
   ]
  },
  {
   "cell_type": "code",
   "execution_count": null,
   "metadata": {
    "collapsed": true
   },
   "outputs": [],
   "source": []
  },
  {
   "cell_type": "code",
   "execution_count": null,
   "metadata": {
    "collapsed": true
   },
   "outputs": [],
   "source": []
  },
  {
   "cell_type": "code",
   "execution_count": 1047,
   "metadata": {
    "collapsed": false,
    "scrolled": true
   },
   "outputs": [
    {
     "data": {
      "text/html": [
       "<div>\n",
       "<table border=\"1\" class=\"dataframe\">\n",
       "  <thead>\n",
       "    <tr style=\"text-align: right;\">\n",
       "      <th></th>\n",
       "      <th>is_1</th>\n",
       "      <th>is_2</th>\n",
       "      <th>is_3</th>\n",
       "    </tr>\n",
       "    <tr>\n",
       "      <th>twitter_id</th>\n",
       "      <th></th>\n",
       "      <th></th>\n",
       "      <th></th>\n",
       "    </tr>\n",
       "  </thead>\n",
       "  <tbody>\n",
       "    <tr>\n",
       "      <th>242026007</th>\n",
       "      <td>0.050688</td>\n",
       "      <td>0.115360</td>\n",
       "      <td>0.833952</td>\n",
       "    </tr>\n",
       "    <tr>\n",
       "      <th>176604365</th>\n",
       "      <td>0.021045</td>\n",
       "      <td>0.185734</td>\n",
       "      <td>0.793221</td>\n",
       "    </tr>\n",
       "    <tr>\n",
       "      <th>14316217</th>\n",
       "      <td>0.714955</td>\n",
       "      <td>0.094490</td>\n",
       "      <td>0.190554</td>\n",
       "    </tr>\n",
       "    <tr>\n",
       "      <th>385041054</th>\n",
       "      <td>0.548441</td>\n",
       "      <td>0.058140</td>\n",
       "      <td>0.393419</td>\n",
       "    </tr>\n",
       "    <tr>\n",
       "      <th>56769915</th>\n",
       "      <td>0.245765</td>\n",
       "      <td>0.464193</td>\n",
       "      <td>0.290042</td>\n",
       "    </tr>\n",
       "  </tbody>\n",
       "</table>\n",
       "</div>"
      ],
      "text/plain": [
       "                is_1      is_2      is_3\n",
       "twitter_id                              \n",
       "242026007   0.050688  0.115360  0.833952\n",
       "176604365   0.021045  0.185734  0.793221\n",
       "14316217    0.714955  0.094490  0.190554\n",
       "385041054   0.548441  0.058140  0.393419\n",
       "56769915    0.245765  0.464193  0.290042"
      ]
     },
     "execution_count": 1047,
     "metadata": {},
     "output_type": "execute_result"
    }
   ],
   "source": [
    "twitter_submission_df = pd.read_csv(\"./twitter_submission.csv\", index_col=\"twitter_id\")\n",
    "twitter_submission_df.head()"
   ]
  },
  {
   "cell_type": "code",
   "execution_count": 1048,
   "metadata": {
    "collapsed": false
   },
   "outputs": [],
   "source": [
    "no_pred_ids = set(twitter_submission_df.index) - set(test_final.index)"
   ]
  },
  {
   "cell_type": "code",
   "execution_count": 1049,
   "metadata": {
    "collapsed": false
   },
   "outputs": [],
   "source": [
    "final_ddd = pd.concat([test_final, twitter_submission_df.loc[list(no_pred_ids)]])"
   ]
  },
  {
   "cell_type": "code",
   "execution_count": 1050,
   "metadata": {
    "collapsed": true
   },
   "outputs": [],
   "source": [
    "final_ddd.to_csv(\"./final_submission.csv\")"
   ]
  },
  {
   "cell_type": "code",
   "execution_count": 1051,
   "metadata": {
    "collapsed": true
   },
   "outputs": [],
   "source": [
    "!open ."
   ]
  },
  {
   "cell_type": "code",
   "execution_count": null,
   "metadata": {
    "collapsed": true
   },
   "outputs": [],
   "source": []
  }
 ],
 "metadata": {
  "kernelspec": {
   "display_name": "Python 2",
   "language": "python",
   "name": "python2"
  },
  "language_info": {
   "codemirror_mode": {
    "name": "ipython",
    "version": 2
   },
   "file_extension": ".py",
   "mimetype": "text/x-python",
   "name": "python",
   "nbconvert_exporter": "python",
   "pygments_lexer": "ipython2",
   "version": "2.7.10"
  }
 },
 "nbformat": 4,
 "nbformat_minor": 0
}
