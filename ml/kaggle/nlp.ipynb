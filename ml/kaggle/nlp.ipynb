{
 "cells": [
  {
   "cell_type": "code",
   "execution_count": null,
   "metadata": {
    "collapsed": true
   },
   "outputs": [],
   "source": []
  },
  {
   "cell_type": "code",
   "execution_count": null,
   "metadata": {
    "collapsed": true
   },
   "outputs": [],
   "source": [
    "import re\n",
    "from nltk.tokenize import TweetTokenizer, RegexpTokenizer\n",
    "\n",
    "\n",
    "try:\n",
    "    # Wide UCS-4 build\n",
    "    emoji_re = re.compile(u'['\n",
    "        u'\\U0001F300-\\U0001F64F'\n",
    "        u'\\U0001F680-\\U0001F6FF'\n",
    "        u'\\u2600-\\u26FF\\u2700-\\u27BF]+', \n",
    "        re.UNICODE)\n",
    "except re.error:\n",
    "    # Narrow UCS-2 build\n",
    "    emoji_re = re.compile(u'('\n",
    "        u'\\ud83c[\\udf00-\\udfff]|'\n",
    "        u'\\ud83d[\\udc00-\\ude4f\\ude80-\\udeff]|'\n",
    "        u'[\\u2600-\\u26FF\\u2700-\\u27BF])+', \n",
    "        re.UNICODE)\n",
    "\n",
    "\n",
    "tokenizer = RegexpTokenizer(r'\\w+')\n",
    "tweet_tokenizer = TweetTokenizer(preserve_case=True, reduce_len=True, strip_handles=False)\n",
    "hashtag_re = re.compile(r'(#[\\w]+)')\n",
    "url_re = re.compile(r'(?i)\\b((?:https?://|www\\d{0,3}[.]|[a-z0-9.\\-]+[.][a-z]{2,4}     /)(?:[^\\s()<>]+|\\(([^\\s()<>]+|(\\([^\\s()<>]+\\)))*\\))+(?:\\(([^\\s()<>]+|(\\([^\\s()<>]+\\)))*\\)|[^\\s`!()\\[\\]{};:\\'\".,<>?«»“”‘’]))')\n",
    "retweet_re = re.compile(r'(RT @(?:\\b\\w+)+)')\n",
    "numbers_re = re.compile(r\"[ \\n\\r][-\\d.]+[ \\n\\r!\\\\\\\"#$%&'()*+,\\-./:;<=>?@[\\\\\\]^_`{|}~]\")\n",
    "\n",
    "def get_words(text):\n",
    "    \"\"\"returns list of words\"\"\"\n",
    "#     print repr(text)\n",
    "    text = url_re.sub('', text)\n",
    "    \n",
    "    emojis = emoji_re.findall(text)\n",
    "    text = emoji_re.sub('', text)\n",
    "    \n",
    "    hashtags = hashtag_re.findall(text)\n",
    "    text = hashtag_re.sub('', text)\n",
    "    \n",
    "    retweets = [w.replace(\" \", '') for w in retweet_re.findall(text)]\n",
    "    text = retweet_re.sub('', text)\n",
    "    \n",
    "    numbers = numbers_re.findall(text)\n",
    "    text = numbers_re.sub('', text)\n",
    "    \n",
    "    words = [word.lower() for word in tokenizer.tokenize(text)]\n",
    "    \n",
    "    return emojis + hashtags + retweets + words"
   ]
  }
 ],
 "metadata": {
  "kernelspec": {
   "display_name": "Python 2",
   "language": "python",
   "name": "python2"
  },
  "language_info": {
   "codemirror_mode": {
    "name": "ipython",
    "version": 2
   },
   "file_extension": ".py",
   "mimetype": "text/x-python",
   "name": "python",
   "nbconvert_exporter": "python",
   "pygments_lexer": "ipython2",
   "version": "2.7.10"
  }
 },
 "nbformat": 4,
 "nbformat_minor": 0
}
