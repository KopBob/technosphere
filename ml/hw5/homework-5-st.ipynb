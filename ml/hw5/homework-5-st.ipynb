{
 "cells": [
  {
   "cell_type": "markdown",
   "metadata": {},
   "source": [
    "# Домашнее задание 5. Линейные модели"
   ]
  },
  {
   "cell_type": "code",
   "execution_count": 88,
   "metadata": {
    "collapsed": true
   },
   "outputs": [],
   "source": [
    "%matplotlib inline"
   ]
  },
  {
   "cell_type": "code",
   "execution_count": 89,
   "metadata": {
    "collapsed": false
   },
   "outputs": [],
   "source": [
    "import sys\n",
    "\n",
    "import random as pr\n",
    "import numpy as np\n",
    "import pandas as pd\n",
    "import matplotlib.pyplot as plt\n",
    "import sklearn.cross_validation as cv\n",
    "import sklearn.metrics as sm\n",
    "import sklearn.linear_model as lm"
   ]
  },
  {
   "cell_type": "markdown",
   "metadata": {},
   "source": [
    "Зачитываем результат 4 домашки"
   ]
  },
  {
   "cell_type": "code",
   "execution_count": 90,
   "metadata": {
    "collapsed": false,
    "scrolled": true
   },
   "outputs": [],
   "source": [
    "hw4_results = np.load(\"../hw4/files/out_4.dat.npz\")\n",
    "users = hw4_results[\"users\"]\n",
    "users_tokens = hw4_results[\"users_tokens\"]"
   ]
  },
  {
   "cell_type": "code",
   "execution_count": 91,
   "metadata": {
    "collapsed": false
   },
   "outputs": [],
   "source": [
    "from sklearn.feature_extraction import DictVectorizer\n",
    "\n",
    "v = DictVectorizer()\n",
    "x_raw = v.fit_transform(users_tokens)"
   ]
  },
  {
   "cell_type": "markdown",
   "metadata": {},
   "source": [
    "Зачитываем категории пользователей"
   ]
  },
  {
   "cell_type": "code",
   "execution_count": 92,
   "metadata": {
    "collapsed": false
   },
   "outputs": [],
   "source": [
    "TRAINING_SET_URL = \"../hw1/twitter_train.csv\"\n",
    "\n",
    "df_users = pd.read_csv(TRAINING_SET_URL,\n",
    "                       sep=\",\",\n",
    "                       header=0,\n",
    "                       names=[\"twitter_id\", \"is_1\", \"is_2\", \"is_3\"],\n",
    "                       dtype={\"twitter_id\": str, \"is_1\": int, 'is_2': int, \"is_3\": int})\n",
    "df_users.set_index(\"twitter_id\", inplace=True)"
   ]
  },
  {
   "cell_type": "markdown",
   "metadata": {},
   "source": [
    "Формируем целевую переменную: Делаем join списка пользователей из ДЗ4 с обучающей выборкой."
   ]
  },
  {
   "cell_type": "code",
   "execution_count": 93,
   "metadata": {
    "collapsed": false
   },
   "outputs": [
    {
     "name": "stdout",
     "output_type": "stream",
     "text": [
      "Resulting training set: (3000x271102) feature matrix, 3000 target vector\n"
     ]
    }
   ],
   "source": [
    "def f(x):\n",
    "    if x[0] == 1:\n",
    "        return 1\n",
    "    if x[1] == 1:\n",
    "        return 2\n",
    "    if x[2] == 1:\n",
    "        return 3\n",
    "\n",
    "y_cleaned = df_users[['is_1', 'is_2', 'is_3']].apply(f, axis=1).values\n",
    "print \"Resulting training set: (%dx%d) feature matrix, %d target vector\" % (x_raw.shape[0], x_raw.shape[1], y_cleaned.shape[0])"
   ]
  },
  {
   "cell_type": "markdown",
   "metadata": {},
   "source": [
    "Чтобы исследовать, как ведут себя признаки, построим распределение количества ненулевых признаков у пользователей, чтобы убедиться, что он удовлетворяет закону Ципфа. Для этого построим гистограмму в логарифмических осях. [Подсказка](http://anokhin.github.io/img/sf1.png)"
   ]
  },
  {
   "cell_type": "code",
   "execution_count": 94,
   "metadata": {
    "collapsed": false,
    "scrolled": false
   },
   "outputs": [
    {
     "data": {
      "image/png": "[encoded data removed]",
      "text/plain": [
       "<matplotlib.figure.Figure at 0x1166b05d0>"
      ]
     },
     "metadata": {},
     "output_type": "display_data"
    }
   ],
   "source": [
    "def draw_log_hist(data):\n",
    "    \"\"\"\n",
    "    Draw tokens histogram in log scales\n",
    "    \"\"\"\n",
    "    features_counts = np.asarray(data.astype(int).sum(axis=0)).ravel()\n",
    "\n",
    "    y = np.bincount(features_counts)\n",
    "    x = np.arange(1, len(y) + 1)\n",
    "    \n",
    "    plt.figure(figsize=(15,7))\n",
    "    plt.xscale(\"log\", nonposx='clip')\n",
    "    plt.yscale(\"log\", nonposy='clip')\n",
    "    \n",
    "#     plt.plot(x, np.sort(y)[::-1], \"rv\")\n",
    "    plt.plot(x, y, \"rv\")\n",
    "    \n",
    "    return features_counts\n",
    "\n",
    "features_counts = draw_log_hist(x_raw)"
   ]
  },
  {
   "cell_type": "code",
   "execution_count": null,
   "metadata": {
    "collapsed": false
   },
   "outputs": [],
   "source": []
  },
  {
   "cell_type": "markdown",
   "metadata": {},
   "source": [
    "Проведем отбор признаков. В самом простом случае просто удаляем признаки, имеющие ненулевое значение у менее, чем 100 пользователей."
   ]
  },
  {
   "cell_type": "code",
   "execution_count": 95,
   "metadata": {
    "collapsed": true
   },
   "outputs": [],
   "source": [
    "x_cleaned = x_raw.tocsc()[:, features_counts > 100].toarray()"
   ]
  },
  {
   "cell_type": "markdown",
   "metadata": {},
   "source": [
    "Вариант задания генерируется на основании вашего ника в техносфере."
   ]
  },
  {
   "cell_type": "code",
   "execution_count": 96,
   "metadata": {
    "collapsed": false
   },
   "outputs": [
    {
     "name": "stdout",
     "output_type": "stream",
     "text": [
      "My homework 5 algorithm is: Logistic regression with L1 regularization optimized by stochastic gradient descent\n"
     ]
    }
   ],
   "source": [
    "USER_NAME = \"b.kopin\"\n",
    "OPTIMIZATION_ALGORITHMS = [\"stochastic gradient descent\", \"Newton method\"]\n",
    "REGULARIZATIONS = [\"L1\", \"L2\"]\n",
    "\n",
    "print \"My homework 5 algorithm is: Logistic regression with %s regularization optimized by %s\" % (\n",
    "    REGULARIZATIONS[hash(USER_NAME) % 2],\n",
    "    OPTIMIZATION_ALGORITHMS[hash(USER_NAME[::-1]) % 2]\n",
    ")"
   ]
  },
  {
   "cell_type": "markdown",
   "metadata": {},
   "source": [
    "Реализуем выбранный алгоритм"
   ]
  },
  {
   "cell_type": "code",
   "execution_count": 97,
   "metadata": {
    "collapsed": true
   },
   "outputs": [],
   "source": [
    "def _sigmoid(z):\n",
    "        \"\"\"\n",
    "        Return Sigmoid of z\n",
    "        Args:\n",
    "            z : ndarray or scalar\n",
    "        \"\"\"\n",
    "        return 1.0 / (1.0 + np.exp(-z))\n",
    "\n",
    "def _logistic_grad(w, X, y, C):\n",
    "    grad = (_sigmoid(X.dot(w)) - y).T.dot(X) / X.shape[0]\n",
    "    grad[1:] += C / X.shape[0]\n",
    "\n",
    "    return grad"
   ]
  },
  {
   "cell_type": "code",
   "execution_count": 98,
   "metadata": {
    "collapsed": false
   },
   "outputs": [],
   "source": [
    "class LogisticRegression():\n",
    "    def __init__(self, tol=0.001, C=1.0, B=0.8, max_iter=100, fit_intercept=True, verbose=True):\n",
    "        self.tol = tol\n",
    "        self.C = C\n",
    "        self.B = B\n",
    "        self.max_iter = max_iter\n",
    "        self.fit_intercept = fit_intercept\n",
    "        self.verbose = verbose\n",
    "        \n",
    "    def fit(self, X, y):\n",
    "        if self.fit_intercept:\n",
    "            X = np.hstack((np.ones((X.shape[0], 1), dtype=X.dtype), X))\n",
    "        n_samples, n_features = X.shape\n",
    "        m_classes = len(np.unique(y))\n",
    "        \n",
    "        if m_classes > 2:\n",
    "            labels = [y == label for label in np.unique(y)]\n",
    "        else:\n",
    "            labels = [y]\n",
    "            \n",
    "        self.coefs_ = np.zeros((m_classes, n_features))\n",
    "        self.max_iters_ = np.zeros(m_classes)\n",
    "        self.convergeds_ = np.zeros(m_classes, dtype=np.bool)\n",
    "        \n",
    "        for j, curr_y in enumerate(labels):\n",
    "            if self.verbose:\n",
    "                print \"Fit coefs for %d\" % (j + 1)\n",
    "\n",
    "            for i in range(self.max_iter):                \n",
    "                grad = _logistic_grad(self.coefs_[j], X, curr_y, self.C)\n",
    "\n",
    "                eta = (i + 1) ** (-self.B)\n",
    "                self.coefs_[j] -= eta * grad\n",
    "                \n",
    "                if self.verbose:\n",
    "                    sys.stdout.write(\"\\r Iter = %i grad = %f\" % (i, np.sum(np.abs(eta * grad))))\n",
    "                    sys.stdout.flush()\n",
    "\n",
    "                if np.all(np.abs(eta * grad) < self.tol):\n",
    "                    self.convergeds_[j] = True\n",
    "                    self.max_iters_[j] = i + 1\n",
    "                    \n",
    "                    if self.verbose:\n",
    "                        sys.stdout.write(\"\\n\")\n",
    "                        sys.stdout.flush()\n",
    "                    break\n",
    "        return self\n",
    "\n",
    "    def load_metadata(self, coefs, max_iters, convergeds):\n",
    "        self.coefs_ = coefs\n",
    "        self.max_iters_ = max_iters\n",
    "        self.convergeds_ = convergeds\n",
    "\n",
    "    def predict_proba(self, X):\n",
    "        if self.fit_intercept:\n",
    "            X = np.hstack((np.ones((X.shape[0], 1), dtype=X.dtype), X))\n",
    "        \n",
    "        proba = np.asarray([_sigmoid(X.dot(coef)) for coef in self.coefs_])\n",
    "        proba = proba / np.sum(proba, axis=0)\n",
    "            \n",
    "        return proba.T\n",
    "\n",
    "    def predict(self, X):\n",
    "        return np.argmax(self.predict_proba(X), axis=1) + 1"
   ]
  },
  {
   "cell_type": "code",
   "execution_count": null,
   "metadata": {
    "collapsed": false
   },
   "outputs": [],
   "source": []
  },
  {
   "cell_type": "markdown",
   "metadata": {},
   "source": [
    "Реализуем метрику качества, используемую в соревновании: площадь под ROC кривой"
   ]
  },
  {
   "cell_type": "code",
   "execution_count": 99,
   "metadata": {
    "collapsed": false
   },
   "outputs": [],
   "source": [
    "x_train, x_test, y_train, y_test = cv.train_test_split(x_cleaned, y_cleaned, test_size=0.33)\n"
   ]
  },
  {
   "cell_type": "code",
   "execution_count": 100,
   "metadata": {
    "collapsed": false
   },
   "outputs": [],
   "source": [
    "from sklearn.preprocessing import label_binarize\n",
    "\n",
    "def auroc(y_true, y_pred):\n",
    "    \"\"\"\n",
    "    Compute auc-roc for multilabel data\n",
    "    \"\"\"\n",
    "    return sm.roc_auc_score(label_binarize(y_true, classes=np.unique(y_cleaned)),\n",
    "                            label_binarize(y_pred, classes=np.unique(y_cleaned)))"
   ]
  },
  {
   "cell_type": "code",
   "execution_count": 101,
   "metadata": {
    "collapsed": true
   },
   "outputs": [],
   "source": [
    "def my_logistic_regression(x_train, y_train, x_test, y_test, max_iter=10000, B=0.5, C=1):\n",
    "    print \"My LogisticRegresion\"\n",
    "    clf = LogisticRegression(max_iter=max_iter, B=B, C=C)\n",
    "    clf.fit(x_train, y_train)\n",
    "    y_pred = clf.predict(x_test)\n",
    "    \n",
    "    auc = auroc(y_test, y_pred)\n",
    "    print \"AUC: %f\" % auc\n",
    "    return auc, y_pred"
   ]
  },
  {
   "cell_type": "code",
   "execution_count": 102,
   "metadata": {
    "collapsed": true
   },
   "outputs": [],
   "source": [
    "def sk_logistic_regression(x_train, y_train, x_test, y_test):\n",
    "    print \"Sklearn LogisticRegresion\"\n",
    "    clf = lm.LogisticRegression()\n",
    "    clf.fit(x_train, y_train);\n",
    "    y_pred = clf.predict(x_test)\n",
    "    \n",
    "    auc = auroc(y_test, y_pred)\n",
    "    print \"AUC: %f\" % auc\n",
    "    return auc, y_pred"
   ]
  },
  {
   "cell_type": "code",
   "execution_count": 103,
   "metadata": {
    "collapsed": false,
    "scrolled": true
   },
   "outputs": [
    {
     "name": "stdout",
     "output_type": "stream",
     "text": [
      "My LogisticRegresion\n",
      "Fit coefs for 1\n",
      " Iter = 289 grad = 0.225367\n",
      "Fit coefs for 2\n",
      " Iter = 184 grad = 0.187006\n",
      "Fit coefs for 3\n",
      " Iter = 320 grad = 0.177595\n",
      "AUC: 0.656315\n"
     ]
    }
   ],
   "source": [
    "my_logistic_regression(x_train, y_train, x_test, y_test);"
   ]
  },
  {
   "cell_type": "code",
   "execution_count": 104,
   "metadata": {
    "collapsed": false,
    "scrolled": true
   },
   "outputs": [
    {
     "name": "stdout",
     "output_type": "stream",
     "text": [
      "Sklearn LogisticRegresion\n",
      "AUC: 0.648617\n"
     ]
    }
   ],
   "source": [
    "sk_logistic_regression(x_train, y_train, x_test, y_test);"
   ]
  },
  {
   "cell_type": "markdown",
   "metadata": {},
   "source": [
    "Разделим выборку с помощью методики кросс-валидации для того, чтобы настроить параметр регуляризации $C$"
   ]
  },
  {
   "cell_type": "code",
   "execution_count": 105,
   "metadata": {
    "collapsed": false,
    "scrolled": false
   },
   "outputs": [
    {
     "name": "stdout",
     "output_type": "stream",
     "text": [
      "==========\n",
      "C = 0.000000\n",
      "Fold = 1\n",
      "0.615927874764\n",
      "Fold = 2\n",
      "0.617900426026\n",
      "Fold = 3\n",
      "0.64462337517\n",
      "==========\n",
      "C = 0.010000\n",
      "Fold = 1\n",
      "0.615927874764\n",
      "Fold = 2\n",
      "0.617900426026\n",
      "Fold = 3\n",
      "0.645523380514\n",
      "==========\n",
      "C = 0.100000\n",
      "Fold = 1\n",
      "0.615927874764\n",
      "Fold = 2\n",
      "0.617900426026\n",
      "Fold = 3\n",
      "0.645523380514\n",
      "==========\n",
      "C = 1.000000\n",
      "Fold = 1\n",
      "0.615927874764\n",
      "Fold = 2\n",
      "0.617900426026\n",
      "Fold = 3\n",
      "0.64462337517\n",
      "==========\n",
      "C = 10.000000\n",
      "Fold = 1\n",
      "0.615927874764\n",
      "Fold = 2\n",
      "0.617900426026\n",
      "Fold = 3\n",
      "0.64462337517\n",
      "==========\n",
      "C = 100.000000\n",
      "Fold = 1\n",
      "0.615927874764\n",
      "Fold = 2\n",
      "0.617900426026\n",
      "Fold = 3\n",
      "0.64462337517\n",
      "==========\n",
      "C = 1000.000000\n",
      "Fold = 1\n",
      "0.615927874764\n",
      "Fold = 2\n",
      "0.617900426026\n",
      "Fold = 3\n",
      "0.64462337517\n",
      "==========\n",
      "C = 10000.000000\n",
      "Fold = 1\n",
      "0.5\n",
      "Fold = 2\n",
      "0.5\n",
      "Fold = 3\n",
      "0.502384234255\n",
      "[ 0.61790043  0.61790043  0.61790043  0.61790043  0.61790043  0.61790043\n",
      "  0.61790043  0.5       ]\n",
      "0\n",
      "0\n"
     ]
    }
   ],
   "source": [
    "from sklearn.cross_validation import KFold\n",
    "\n",
    "C = [0.0, 0.01, 0.1, 1, 10, 100, 1000, 10000]\n",
    "\n",
    "def select_reg_parameter(C, X, Y):\n",
    "    scores = []\n",
    "    \n",
    "    n_samples, n_features = X.shape\n",
    "    kf = KFold(n_samples)\n",
    "    \n",
    "    for c in C:\n",
    "        print \"=\"*10\n",
    "        print \"C = %f\" % c\n",
    "        clf = LogisticRegression(C=c, max_iter=1000,  B=0.8, verbose=False)\n",
    "        c_scores = []\n",
    "        \n",
    "        for k, indices in enumerate(kf):\n",
    "            print \"Fold = %d\" % (k + 1)\n",
    "            train_f, test_f = indices\n",
    "            clf.fit(X[train_f], Y[train_f])\n",
    "            \n",
    "            y_pred = clf.predict(X[test_f])\n",
    "            auc = auroc(Y[test_f], y_pred)\n",
    "            \n",
    "            c_scores.append(auc)\n",
    "            print auc\n",
    "        scores.append(c_scores)\n",
    "    scores = np.asarray(scores)\n",
    "    \n",
    "    print np.median(scores, axis=1)\n",
    "    best_auc = np.argmax(np.median(scores, axis=1))\n",
    "    \n",
    "    print best_auc\n",
    "        \n",
    "    return best_auc\n",
    "\n",
    "index = select_reg_parameter(C, x_train, y_train)\n",
    "print index\n"
   ]
  },
  {
   "cell_type": "markdown",
   "metadata": {},
   "source": [
    "Выбираем наилучшее значение $C$, и классифицируем неизвестных пользователей и строим ROC-кривую"
   ]
  },
  {
   "cell_type": "code",
   "execution_count": 106,
   "metadata": {
    "collapsed": false
   },
   "outputs": [
    {
     "name": "stdout",
     "output_type": "stream",
     "text": [
      "Area under the ROC curve : 0.699203\n"
     ]
    },
    {
     "data": {
      "image/png": "[encoded data removed]",
      "text/plain": [
       "<matplotlib.figure.Figure at 0x10d408250>"
      ]
     },
     "metadata": {},
     "output_type": "display_data"
    },
    {
     "name": "stdout",
     "output_type": "stream",
     "text": [
      "Area under the ROC curve : 0.544175\n"
     ]
    },
    {
     "data": {
      "image/png": "[encoded data removed]",
      "text/plain": [
       "<matplotlib.figure.Figure at 0x11da3b190>"
      ]
     },
     "metadata": {},
     "output_type": "display_data"
    },
    {
     "name": "stdout",
     "output_type": "stream",
     "text": [
      "Area under the ROC curve : 0.685907\n"
     ]
    },
    {
     "data": {
      "image/png": "[encoded data removed]",
      "text/plain": [
       "<matplotlib.figure.Figure at 0x110948310>"
      ]
     },
     "metadata": {},
     "output_type": "display_data"
    }
   ],
   "source": [
    "def predict(X, Y, test_size, C):\n",
    "    x_train, x_test, y_train, y_test = cv.train_test_split(X, Y, test_size=test_size)\n",
    "    \n",
    "    clf = LogisticRegression(verbose=False)\n",
    "    clf.fit(x_train, y_train)\n",
    "    \n",
    "    y_prob = clf.predict_proba(x_test)\n",
    "    return y_test, y_prob\n",
    "\n",
    "def roc(y_test, y_prob, y_prob_ind, pos_label):\n",
    "    y_bin = np.zeros(y_test.size)\n",
    "    \n",
    "    y_bin[y_test == pos_label] = 1\n",
    "    y_bin_p = 1 * (y_prob[:, y_prob_ind] > 0.5)\n",
    "    \n",
    "    fpr, tpr, _ = sm.roc_curve(y_bin, y_bin_p)\n",
    "    roc_auc = sm.roc_auc_score(y_bin, y_bin_p)\n",
    "\n",
    "    return tpr, fpr, roc_auc\n",
    "    \n",
    "def plot_roc_curve(tpr, fpr, roc_auc):\n",
    "    \"\"\"Plot ROC curve\"\"\"\n",
    "    plt.title(\"ROC curve\")\n",
    "    plt.xlabel(\"FPR\")\n",
    "    plt.ylabel(\"TPR\")\n",
    "    \n",
    "    plt.plot(fpr, tpr, c='r')\n",
    "    plt.show()\n",
    "\n",
    "y_test, y_prob = predict(x_cleaned, y_cleaned, 0.3, C[index])\n",
    "\n",
    "np.asarray(y_prob)\n",
    "\n",
    "tpr, fpr, roc_auc = roc(y_test, y_prob, 0, 1)\n",
    "print \"Area under the ROC curve : %f\" % roc_auc\n",
    "plot_roc_curve(tpr, fpr, roc_auc)\n",
    "\n",
    "tpr, fpr, roc_auc = roc(y_test, y_prob, 1, 2)\n",
    "print \"Area under the ROC curve : %f\" % roc_auc\n",
    "plot_roc_curve(tpr, fpr, roc_auc)\n",
    "\n",
    "tpr, fpr, roc_auc = roc(y_test, y_prob, 2, 3)\n",
    "print \"Area under the ROC curve : %f\" % roc_auc\n",
    "plot_roc_curve(tpr, fpr, roc_auc)"
   ]
  },
  {
   "cell_type": "markdown",
   "metadata": {},
   "source": [
    "С помощью полученной модели предсказываем категории для неизвестных пользователей из соревнования и загружаем на kaggle в нужном формате."
   ]
  }
 ],
 "metadata": {
  "kernelspec": {
   "display_name": "Python 2",
   "language": "python",
   "name": "python2"
  },
  "language_info": {
   "codemirror_mode": {
    "name": "ipython",
    "version": 2
   },
   "file_extension": ".py",
   "mimetype": "text/x-python",
   "name": "python",
   "nbconvert_exporter": "python",
   "pygments_lexer": "ipython2",
   "version": "2.7.10"
  }
 },
 "nbformat": 4,
 "nbformat_minor": 0
}
