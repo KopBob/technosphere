{
 "cells": [
  {
   "cell_type": "markdown",
   "metadata": {},
   "source": [
    "# Домашнее задание 5. Линейные модели"
   ]
  },
  {
   "cell_type": "code",
   "execution_count": 37,
   "metadata": {
    "collapsed": true
   },
   "outputs": [],
   "source": [
    "%matplotlib inline"
   ]
  },
  {
   "cell_type": "code",
   "execution_count": 38,
   "metadata": {
    "collapsed": false
   },
   "outputs": [],
   "source": [
    "import sys\n",
    "\n",
    "import random as pr\n",
    "import numpy as np\n",
    "import pandas as pd\n",
    "import matplotlib.pyplot as plt\n",
    "import sklearn.cross_validation as cv\n",
    "import sklearn.metrics as sm"
   ]
  },
  {
   "cell_type": "markdown",
   "metadata": {},
   "source": [
    "Зачитываем результат 4 домашки"
   ]
  },
  {
   "cell_type": "code",
   "execution_count": 39,
   "metadata": {
    "collapsed": false,
    "scrolled": true
   },
   "outputs": [],
   "source": [
    "data = np.load(\"../hw4/files/out_4.dat.npz\")\n",
    "users = data[\"users\"]\n",
    "X = data[\"data\"].reshape(1,)[0]"
   ]
  },
  {
   "cell_type": "code",
   "execution_count": null,
   "metadata": {
    "collapsed": false
   },
   "outputs": [],
   "source": []
  },
  {
   "cell_type": "markdown",
   "metadata": {},
   "source": [
    "Зачитываем категории пользователей"
   ]
  },
  {
   "cell_type": "code",
   "execution_count": 40,
   "metadata": {
    "collapsed": false
   },
   "outputs": [],
   "source": [
    "TRAINING_SET_URL = \"../hw1/twitter_train.csv\"\n",
    "df_users = pd.read_csv(TRAINING_SET_URL, sep=\",\", header=0, names=[\"twitter_id\", \"is_1\", \"is_2\", \"is_3\"], dtype={\"twitter_id\": str, \"is_1\": int, 'is_2': int, \"is_3\": int})\n",
    "df_users.set_index(\"twitter_id\", inplace=True)"
   ]
  },
  {
   "cell_type": "markdown",
   "metadata": {},
   "source": [
    "Формируем целевую переменную: Делаем join списка пользователей из ДЗ4 с обучающей выборкой."
   ]
  },
  {
   "cell_type": "code",
   "execution_count": 41,
   "metadata": {
    "collapsed": false
   },
   "outputs": [
    {
     "name": "stdout",
     "output_type": "stream",
     "text": [
      "Resulting training set: (3000x364911) feature matrix, 3000 target vector\n"
     ]
    }
   ],
   "source": [
    "def f(x):\n",
    "    if x[0] == 1:\n",
    "        return 1\n",
    "    if x[1] == 1:\n",
    "        return 2\n",
    "    if x[2] == 1:\n",
    "        return 3\n",
    "\n",
    "Y = df_users[['is_1', 'is_2', 'is_3']].apply(f, axis=1).values\n",
    "print \"Resulting training set: (%dx%d) feature matrix, %d target vector\" % (X.shape[0], X.shape[1], Y.shape[0])"
   ]
  },
  {
   "cell_type": "markdown",
   "metadata": {},
   "source": [
    "Чтобы исследовать, как ведут себя признаки, построим распределение количества ненулевых признаков у пользователей, чтобы убедиться, что он удовлетворяет закону Ципфа. Для этого построим гистограмму в логарифмических осях. [Подсказка](http://anokhin.github.io/img/sf1.png)"
   ]
  },
  {
   "cell_type": "code",
   "execution_count": 42,
   "metadata": {
    "collapsed": false
   },
   "outputs": [
    {
     "data": {
      "image/png": "[encoded data removed]",
      "text/plain": [
       "<matplotlib.figure.Figure at 0x10cd13490>"
      ]
     },
     "metadata": {},
     "output_type": "display_data"
    }
   ],
   "source": [
    "def draw_log_hist(X):\n",
    "    \"\"\"\n",
    "    Draw tokens histogram in log scales\n",
    "    \"\"\"\n",
    "    y = np.array(X.sum(axis=0), dtype=np.int).ravel()\n",
    "    x = np.arange(y.size)\n",
    "    \n",
    "    plt.figure(figsize=(16, 7))\n",
    "    plt.xscale(\"log\", nonposx='clip')\n",
    "    plt.yscale(\"log\", nonposy='clip')\n",
    "    \n",
    "    plt.plot(x, np.sort(y)[::-1], \"rx\")\n",
    "    \n",
    "    return y\n",
    "\n",
    "features_counts = draw_log_hist(X)"
   ]
  },
  {
   "cell_type": "markdown",
   "metadata": {},
   "source": [
    "Проведем отбор признаков. В самом простом случае просто удаляем признаки, имеющие ненулевое значение у менее, чем 100 пользователей."
   ]
  },
  {
   "cell_type": "code",
   "execution_count": 43,
   "metadata": {
    "collapsed": false
   },
   "outputs": [],
   "source": [
    "X1 = X.tocsc()[:, features_counts > 100].toarray()"
   ]
  },
  {
   "cell_type": "markdown",
   "metadata": {},
   "source": [
    "Вариант задания генерируется на основании вашего ника в техносфере."
   ]
  },
  {
   "cell_type": "code",
   "execution_count": 44,
   "metadata": {
    "collapsed": false
   },
   "outputs": [
    {
     "name": "stdout",
     "output_type": "stream",
     "text": [
      "My homework 5 algorithm is: Logistic regression with L1 regularization optimized by stochastic gradient descent\n"
     ]
    }
   ],
   "source": [
    "USER_NAME = \"b.kopin\"\n",
    "OPTIMIZATION_ALGORITHMS = [\"stochastic gradient descent\", \"Newton method\"]\n",
    "REGULARIZATIONS = [\"L1\", \"L2\"]\n",
    "\n",
    "print \"My homework 5 algorithm is: Logistic regression with %s regularization optimized by %s\" % (\n",
    "    REGULARIZATIONS[hash(USER_NAME) % 2],\n",
    "    OPTIMIZATION_ALGORITHMS[hash(USER_NAME[::-1]) % 2]\n",
    ")"
   ]
  },
  {
   "cell_type": "markdown",
   "metadata": {},
   "source": [
    "Реализуем выбранный алгоритм"
   ]
  },
  {
   "cell_type": "code",
   "execution_count": 45,
   "metadata": {
    "collapsed": true
   },
   "outputs": [],
   "source": [
    "def log_logistic(X, out=None):\n",
    "    \"\"\"Compute the log of the logistic function, ``log(1 / (1 + e ** -x))``.\n",
    "\n",
    "    This implementation is numerically stable because it splits positive and\n",
    "    negative values::\n",
    "\n",
    "        -log(1 + exp(-x_i))     if x_i > 0\n",
    "        x_i - log(1 + exp(x_i)) if x_i <= 0\n",
    "\n",
    "    For the ordinary logistic function, use ``sklearn.utils.fixes.expit``.\n",
    "\n",
    "    Parameters\n",
    "    ----------\n",
    "    X: array-like, shape (M, N) or (M, )\n",
    "        Argument to the logistic function\n",
    "\n",
    "    out: array-like, shape: (M, N) or (M, ), optional:\n",
    "        Preallocated output array.\n",
    "\n",
    "    Returns\n",
    "    -------\n",
    "    out: array, shape (M, N) or (M, )\n",
    "        Log of the logistic function evaluated at every point in x\n",
    "\n",
    "    Notes\n",
    "    -----\n",
    "    See the blog post describing this implementation:\n",
    "    http://fa.bianp.net/blog/2013/numerical-optimizers-for-logistic-regression/\n",
    "    \"\"\"\n",
    "    is_1d = X.ndim == 1\n",
    "    X = np.atleast_2d(X)\n",
    "\n",
    "    n_samples, n_features = X.shape\n",
    "\n",
    "    if out is None:\n",
    "        out = np.empty_like(X)\n",
    "    \n",
    "    out = np.log(1 / (1 + np.e ** -X))\n",
    "\n",
    "    if is_1d:\n",
    "        return np.squeeze(out)\n",
    "    return out"
   ]
  },
  {
   "cell_type": "code",
   "execution_count": 46,
   "metadata": {
    "collapsed": true
   },
   "outputs": [],
   "source": [
    "def _logistic_loss_and_grad(w, X, y, alpha):\n",
    "    \"\"\"Computes the logistic loss and gradient.\n",
    "\n",
    "    Parameters\n",
    "    ----------\n",
    "    w : ndarray, shape (n_features,) or (n_features + 1,)\n",
    "        Coefficient vector.\n",
    "\n",
    "    X : {array-like, sparse matrix}, shape (n_samples, n_features)\n",
    "        Training data.\n",
    "\n",
    "    y : ndarray, shape (n_samples,)\n",
    "        Array of labels.\n",
    "\n",
    "    alpha : float\n",
    "        Regularization parameter. alpha is equal to 1 / C.\n",
    "\n",
    "    sample_weight : array-like, shape (n_samples,) optional\n",
    "        Array of weights that are assigned to individual samples.\n",
    "        If not provided, then each sample is given unit weight.\n",
    "\n",
    "    Returns\n",
    "    -------\n",
    "    out : float\n",
    "        Logistic loss.\n",
    "\n",
    "    grad : ndarray, shape (n_features,) or (n_features + 1,)\n",
    "        Logistic gradient.\n",
    "    \"\"\"\n",
    "    _, n_features = X.shape\n",
    "    grad = np.empty_like(w)\n",
    "\n",
    "    yz = y * X.dot(w)\n",
    "\n",
    "    # Logistic loss is the negative of the log of the logistic function.\n",
    "    out = -np.sum(log_logistic(yz)) + .5 * alpha * np.dot(w, w)\n",
    "\n",
    "    z = 1.0 / (1.0 + np.exp(-yz))\n",
    "    z0 = (z - 1) * y\n",
    "\n",
    "    grad[:n_features] = X.T.dot(z0) + alpha * w\n",
    "\n",
    "    # Case where we fit the intercept.\n",
    "    if grad.shape[0] > n_features:\n",
    "        grad[-1] = z0.sum()\n",
    "    return out, grad"
   ]
  },
  {
   "cell_type": "code",
   "execution_count": 47,
   "metadata": {
    "collapsed": true
   },
   "outputs": [],
   "source": [
    "def _sigmoid(z):\n",
    "        \"\"\"\n",
    "        Return Sigmoid of z\n",
    "        Args:\n",
    "            z : ndarray or scalar\n",
    "        \"\"\"\n",
    "        return 1.0 / (1.0 + np.exp(-z))"
   ]
  },
  {
   "cell_type": "code",
   "execution_count": 48,
   "metadata": {
    "collapsed": false
   },
   "outputs": [],
   "source": [
    "class LogisticRegression():\n",
    "    \"\"\"Logistic Regression (aka logit, MaxEnt) classifier.\n",
    "\n",
    "    In the multiclass case, the training algorithm uses the one-vs-rest (OvR)\n",
    "    scheme if the 'multi_class' option is set to 'ovr' and uses the\n",
    "    cross-entropy loss, if the 'multi_class' option is set to 'multinomial'.\n",
    "    (Currently the 'multinomial' option is supported only by the 'lbfgs' and\n",
    "    'newton-cg' solvers.)\n",
    "\n",
    "    This class implements regularized logistic regression using the\n",
    "    `liblinear` library, newton-cg and lbfgs solvers. It can handle both\n",
    "    dense and sparse input. Use C-ordered arrays or CSR matrices containing\n",
    "    64-bit floats for optimal performance; any other input format will be\n",
    "    converted (and copied).\n",
    "\n",
    "    The newton-cg and lbfgs solvers support only L2 regularization with primal\n",
    "    formulation. The liblinear solver supports both L1 and L2 regularization,\n",
    "    with a dual formulation only for the L2 penalty.\n",
    "\n",
    "    Read more in the :ref:`User Guide <logistic_regression>`.\n",
    "\n",
    "    Parameters\n",
    "    ----------\n",
    "    penalty : str, 'l1' or 'l2'\n",
    "        Used to specify the norm used in the penalization. The newton-cg and\n",
    "        lbfgs solvers support only l2 penalties.\n",
    "\n",
    "    C : float, optional (default=1.0)\n",
    "        Inverse of regularization strength; must be a positive float.\n",
    "        Like in support vector machines, smaller values specify stronger\n",
    "        regularization.\n",
    "\n",
    "    fit_intercept : bool, default: True\n",
    "        Specifies if a constant (a.k.a. bias or intercept) should be\n",
    "        added to the decision function.\n",
    "\n",
    "    class_weight : dict or 'balanced', optional\n",
    "        Weights associated with classes in the form ``{class_label: weight}``.\n",
    "        If not given, all classes are supposed to have weight one.\n",
    "\n",
    "        The \"balanced\" mode uses the values of y to automatically adjust\n",
    "        weights inversely proportional to class frequencies in the input data\n",
    "        as ``n_samples / (n_classes * np.bincount(y))``\n",
    "\n",
    "        Note that these weights will be multiplied with sample_weight (passed\n",
    "        through the fit method) if sample_weight is specified.\n",
    "\n",
    "        .. versionadded:: 0.17\n",
    "           *class_weight='balanced'* instead of deprecated *class_weight='auto'*.\n",
    "\n",
    "    max_iter : int\n",
    "        Useful only for the newton-cg, sag and lbfgs solvers.\n",
    "        Maximum number of iterations taken for the solvers to converge.\n",
    "\n",
    "    multi_class : str, {'ovr', 'multinomial'}\n",
    "        Multiclass option can be either 'ovr' or 'multinomial'. If the option\n",
    "        chosen is 'ovr', then a binary problem is fit for each label. Else\n",
    "        the loss minimised is the multinomial loss fit across\n",
    "        the entire probability distribution. Works only for the 'lbfgs'\n",
    "        solver.\n",
    "\n",
    "    Attributes\n",
    "    ----------\n",
    "    coef_ : array, shape (n_classes, n_features)\n",
    "        Coefficient of the features in the decision function.\n",
    "\n",
    "    intercept_ : array, shape (n_classes,)\n",
    "        Intercept (a.k.a. bias) added to the decision function.\n",
    "        If `fit_intercept` is set to False, the intercept is set to zero.\n",
    "\n",
    "    n_iter_ : array, shape (n_classes,) or (1, )\n",
    "        Actual number of iterations for all classes. If binary or multinomial,\n",
    "        it returns only 1 element. For liblinear solver, only the maximum\n",
    "        number of iteration across all classes is given.\n",
    "    \"\"\"\n",
    "    \n",
    "    def __init__(self, penalty='l1', tol=1e-4, C=1.0, B=0.5,\n",
    "                 fit_intercept=True, class_weight=None,\n",
    "                 max_iter=100, multi_class='ovr'):\n",
    "\n",
    "        self.penalty = penalty\n",
    "        self.tol = tol\n",
    "        self.C = C\n",
    "        self.B = B\n",
    "        self.fit_intercept = fit_intercept\n",
    "        self.class_weight = class_weight\n",
    "        self.max_iter = max_iter\n",
    "        self.multi_class = multi_class\n",
    "        \n",
    "    def _bin_fit(self, X, y=None):\n",
    "        n_samples, n_features = X.shape\n",
    "\n",
    "        current_log_likelihood = None\n",
    "        self.converged_ = False\n",
    "       \n",
    "        coef_ = np.zeros(n_features)\n",
    "        \n",
    "        for i in range(self.max_iter):\n",
    "            sys.stdout.write(\"\\r Iter = %i\" % (i))\n",
    "            sys.stdout.flush()\n",
    "\n",
    "            prev_log_likelihood = current_log_likelihood\n",
    "            \n",
    "            current_log_likelihood, grad = _logistic_loss_and_grad(coef_, X, y, 1.0 / self.C)\n",
    "\n",
    "            eta = (i + 1) ** (-self.B)\n",
    "            coef_ -= eta * grad\n",
    "            \n",
    "            # Check for convergence.\n",
    "            if np.all(np.abs(eta * grad) < self.tol):\n",
    "                self.converged_ = True\n",
    "                sys.stdout.flush()\n",
    "                break\n",
    "        \n",
    "        return coef_\n",
    "    \n",
    "    def fit(self, X, y=None):\n",
    "        if self.fit_intercept:\n",
    "            X = np.hstack((np.ones((X.shape[0], 1), dtype=X.dtype), X))\n",
    "            \n",
    "        n_samples, n_features = X.shape\n",
    "        \n",
    "        self.classes_ = np.unique(y)\n",
    "        m_classes = self.classes_.shape[0]\n",
    "        \n",
    "        self.coef_ = np.zeros((m_classes, n_features))\n",
    "        \n",
    "        for i, class_label in enumerate(self.classes_):\n",
    "            sys.stdout.write(\"\\r Class = %i \\n\" % (class_label))\n",
    "            \n",
    "            y_i = np.empty_like(y)[y == class_label] = 1\n",
    "            self.coef_[i, :] = self._bin_fit(X, y_i)\n",
    "        \n",
    "            sys.stdout.flush()\n",
    "\n",
    "        return self\n",
    "    \n",
    "    def predict_proba(self, X):\n",
    "        if self.fit_intercept:\n",
    "            X = np.hstack((np.ones((X.shape[0], 1), dtype=X.dtype), X))\n",
    "\n",
    "        n_samples, n_features = X.shape\n",
    "        m_classes = self.classes_.shape[0]\n",
    "        \n",
    "        multi_y = np.zeros((m_classes, n_samples))\n",
    "        \n",
    "        for i, class_label in enumerate(self.classes_):\n",
    "            multi_y[0, :] = (1.0 / (1.0 + np.exp(-X.dot(self.coef_[i]))))\n",
    "            \n",
    "        print multi_y\n",
    "        \n"
   ]
  },
  {
   "cell_type": "markdown",
   "metadata": {},
   "source": [
    "Реализуем метрику качества, используемую в соревновании: площадь под ROC кривой"
   ]
  },
  {
   "cell_type": "code",
   "execution_count": 49,
   "metadata": {
    "collapsed": false
   },
   "outputs": [
    {
     "name": "stdout",
     "output_type": "stream",
     "text": [
      " Class = 1 \n",
      " Class = 2 \n",
      " Class = 3 \n",
      " Iter = 57"
     ]
    },
    {
     "data": {
      "text/plain": [
       "<__main__.LogisticRegression instance at 0x11eba2cb0>"
      ]
     },
     "execution_count": 49,
     "metadata": {},
     "output_type": "execute_result"
    }
   ],
   "source": [
    "lg = LogisticRegression(max_iter=1000)\n",
    "lg.fit(X1, Y)\n"
   ]
  },
  {
   "cell_type": "code",
   "execution_count": 50,
   "metadata": {
    "collapsed": false
   },
   "outputs": [
    {
     "data": {
      "text/plain": [
       "True"
      ]
     },
     "execution_count": 50,
     "metadata": {},
     "output_type": "execute_result"
    }
   ],
   "source": [
    "lg.converged_"
   ]
  },
  {
   "cell_type": "code",
   "execution_count": 51,
   "metadata": {
    "collapsed": false
   },
   "outputs": [],
   "source": [
    "x_train, x_test, y_train, y_test = cv.train_test_split(X1, Y, test_size=0.33)\n"
   ]
  },
  {
   "cell_type": "code",
   "execution_count": 52,
   "metadata": {
    "collapsed": false
   },
   "outputs": [
    {
     "data": {
      "text/plain": [
       "array([[  2.83701910e+00,   1.44242074e-02,   6.46645923e-03, ...,\n",
       "          3.92202744e-05,   3.13064453e-03,   2.53970323e-05],\n",
       "       [  2.83701910e+00,   1.44242074e-02,   6.46645923e-03, ...,\n",
       "          3.92202744e-05,   3.13064453e-03,   2.53970323e-05],\n",
       "       [  2.83701910e+00,   1.44242074e-02,   6.46645923e-03, ...,\n",
       "          3.92202744e-05,   3.13064453e-03,   2.53970323e-05]])"
      ]
     },
     "execution_count": 52,
     "metadata": {},
     "output_type": "execute_result"
    }
   ],
   "source": [
    "lg.coef_"
   ]
  },
  {
   "cell_type": "code",
   "execution_count": 53,
   "metadata": {
    "collapsed": false
   },
   "outputs": [
    {
     "name": "stdout",
     "output_type": "stream",
     "text": [
      "[[ 1.  1.  1.  1.  1.  1.  1.  1.  1.  1.]\n",
      " [ 0.  0.  0.  0.  0.  0.  0.  0.  0.  0.]\n",
      " [ 0.  0.  0.  0.  0.  0.  0.  0.  0.  0.]]\n"
     ]
    }
   ],
   "source": [
    "lg.predict_proba(x_test[:10])"
   ]
  },
  {
   "cell_type": "code",
   "execution_count": 54,
   "metadata": {
    "collapsed": true
   },
   "outputs": [],
   "source": [
    "def auroc(y_prob, y_true):\n",
    "    return 0.5"
   ]
  },
  {
   "cell_type": "markdown",
   "metadata": {},
   "source": [
    "Разделим выборку с помощью методики кросс-валидации для того, чтобы настроить параметр регуляризации $C$"
   ]
  },
  {
   "cell_type": "code",
   "execution_count": 55,
   "metadata": {
    "collapsed": false
   },
   "outputs": [
    {
     "name": "stdout",
     "output_type": "stream",
     "text": [
      "7\n"
     ]
    }
   ],
   "source": [
    "C = [0.0, 0.01, 0.1, 1, 10, 100, 1000, 10000]\n",
    "\n",
    "def select_reg_parameter(C, X, Y):\n",
    "    return C.index(max(C))\n",
    "\n",
    "index = select_reg_parameter(C, X1, Y)\n",
    "print index\n"
   ]
  },
  {
   "cell_type": "markdown",
   "metadata": {},
   "source": [
    "Выбираем наилучшее значение $C$, и классифицируем неизвестных пользователей и строим ROC-кривую"
   ]
  },
  {
   "cell_type": "code",
   "execution_count": null,
   "metadata": {
    "collapsed": false
   },
   "outputs": [],
   "source": [
    "def predict(X, Y, test_size, C):\n",
    "    Y_test = [1,2,3]*300\n",
    "    Y_prob = [[0.1,0.2,0.7]]*900\n",
    "    return Y_test, Y_prob\n",
    "\n",
    "def roc(Y_test, Y_prob, y_prob_ind, pos_label):\n",
    "    tpr = [1] * 2400\n",
    "    fpr = [0.01] * 2400\n",
    "    roc_auc = 0.51\n",
    "    \n",
    "    return tpr, fpr, roc_auc\n",
    "\n",
    "def plot_roc_curve(tpr, fpr, roc_auc):\n",
    "    \"\"\"Plot ROC curve\"\"\"\n",
    "    # Your code here\n",
    "    return\n",
    "\n",
    "Y_test, Y_prob = predict(X1, Y, 0.3, C[index1])\n",
    "\n",
    "tpr, fpr, roc_auc = roc(Y_test, Y_prob, 0, 1)\n",
    "print \"Area under the ROC curve : %f\" % roc_auc\n",
    "plot_roc_curve(tpr, fpr, roc_auc)\n",
    "\n",
    "tpr, fpr, roc_auc = roc(Y_test, Y_prob, 1, 2)\n",
    "print \"Area under the ROC curve : %f\" % roc_auc\n",
    "plot_roc_curve(tpr, fpr, roc_auc)\n",
    "\n",
    "tpr, fpr, roc_auc = roc(Y_test, Y_prob, 2, 3)\n",
    "print \"Area under the ROC curve : %f\" % roc_auc\n",
    "plot_roc_curve(tpr, fpr, roc_auc)"
   ]
  },
  {
   "cell_type": "markdown",
   "metadata": {},
   "source": [
    "С помощью полученной модели предсказываем категории для неизвестных пользователей из соревнования и загружаем на kaggle в нужном формате."
   ]
  }
 ],
 "metadata": {
  "kernelspec": {
   "display_name": "Python 2",
   "language": "python",
   "name": "python2"
  },
  "language_info": {
   "codemirror_mode": {
    "name": "ipython",
    "version": 2
   },
   "file_extension": ".py",
   "mimetype": "text/x-python",
   "name": "python",
   "nbconvert_exporter": "python",
   "pygments_lexer": "ipython2",
   "version": "2.7.10"
  }
 },
 "nbformat": 4,
 "nbformat_minor": 0
}
