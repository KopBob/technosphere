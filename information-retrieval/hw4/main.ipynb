{
 "cells": [
  {
   "cell_type": "code",
   "execution_count": 1,
   "metadata": {},
   "outputs": [],
   "source": [
    "%load_ext autoreload\n",
    "%autoreload 2\n",
    "%matplotlib inline"
   ]
  },
  {
   "cell_type": "code",
   "execution_count": 5,
   "metadata": {},
   "outputs": [],
   "source": [
    "import time\n",
    "from os import listdir\n",
    "from os.path import isfile, join"
   ]
  },
  {
   "cell_type": "code",
   "execution_count": 7,
   "metadata": {},
   "outputs": [],
   "source": [
    "PATH_TO_DATABASE = \"./dataset/\""
   ]
  },
  {
   "cell_type": "code",
   "execution_count": 8,
   "metadata": {},
   "outputs": [
    {
     "data": {
      "text/plain": [
       "['lenta.ru_159b9f4b-972b-48b1-8ec3-44fbd6be33c4_01.gz',\n",
       " 'lenta.ru_4deb864d-3c46-45e6-85f4-a7ff7544a3fb_01.gz',\n",
       " 'lenta.ru_6398c7e2-16da-40d2-8923-95f65aaaeb07_01.gz',\n",
       " 'lenta.ru_80e74243-83da-4367-8ae3-fe38d333f283_01.gz',\n",
       " 'lenta.ru_aa5a1ef9-6ca4-4dc7-890f-308d4d62db59_01.gz',\n",
       " 'lenta.ru_b6838708-1aa9-496f-bf88-e277374f93a8_01.gz',\n",
       " 'lenta.ru_b81aa623-ba55-43dc-b3c5-47ae2253ad27_01.gz',\n",
       " 'lenta.ru_d1f7e910-b5f1-4719-b724-090093e143fe_01.gz']"
      ]
     },
     "execution_count": 8,
     "output_type": "execute_result",
     "metadata": {}
    }
   ],
   "source": [
    "data_files = []\n",
    "\n",
    "for f in listdir(PATH_TO_DATABASE):\n",
    "    if f.endswith(\".gz\"):\n",
    "        data_files.append(f)\n",
    "    \n",
    "data_files"
   ]
  },
  {
   "cell_type": "code",
   "execution_count": null,
   "metadata": {},
   "outputs": [],
   "source": [
    ""
   ]
  },
  {
   "cell_type": "code",
   "execution_count": 9,
   "metadata": {},
   "outputs": [],
   "source": [
    "from src.indexer import Indexer\n",
    "from src.ts_idx.docreader import DocumentStreamReader"
   ]
  },
  {
   "cell_type": "code",
   "execution_count": 10,
   "metadata": {},
   "outputs": [
    {
     "name": "stdout",
     "output_type": "stream",
     "text": [
      "flush_threshold -  1048576.0\n"
     ]
    }
   ],
   "source": [
    "indexer = Indexer(\"./storage/\", flush_threshold=8)"
   ]
  },
  {
   "cell_type": "code",
   "execution_count": 11,
   "metadata": {},
   "outputs": [
    {
     "name": "stdout",
     "output_type": "stream",
     "text": [
      "10001 2354657 35397116.0071549416\n"
     ]
    }
   ],
   "source": [
    "import time\n",
    "start = time.time()\n",
    "\n",
    "for data_file in data_files:\n",
    "    documents_stream = DocumentStreamReader(PATH_TO_DATABASE + data_file)\n",
    "    indexer.index(documents_stream)\n",
    "\n",
    "end = time.time()\n",
    "print end - start"
   ]
  },
  {
   "cell_type": "code",
   "execution_count": 12,
   "metadata": {},
   "outputs": [
    {
     "data": {
      "text/plain": [
       "['./storage/tmp/1459842679.txt',\n",
       " './storage/tmp/1459842681.txt',\n",
       " './storage/tmp/1459842683.txt',\n",
       " './storage/tmp/1459842685.txt',\n",
       " './storage/tmp/1459842687.txt',\n",
       " './storage/tmp/1459842689.txt',\n",
       " './storage/tmp/1459842691.txt',\n",
       " './storage/tmp/1459842693.txt']"
      ]
     },
     "execution_count": 12,
     "output_type": "execute_result",
     "metadata": {}
    }
   ],
   "source": [
    "indexer.tmp_files"
   ]
  },
  {
   "cell_type": "code",
   "execution_count": 13,
   "metadata": {},
   "outputs": [
    {
     "name": "stdout",
     "output_type": "stream",
     "text": [
      "input  ['./storage/tmp/1459842679.txt', './storage/tmp/1459842681.txt', './storage/tmp/1459842683.txt', './storage/tmp/1459842685.txt', './storage/tmp/1459842687.txt', './storage/tmp/1459842689.txt', './storage/tmp/1459842691.txt', './storage/tmp/1459842693.txt']\n",
      "   merging  ./storage/tmp/1459842679.txt ./storage/tmp/1459842681.txt\n",
      "   merging  ./storage/tmp/1459842683.txt ./storage/tmp/1459842685.txt\n",
      "   merging  ./storage/tmp/1459842687.txt ./storage/tmp/1459842689.txt\n",
      "   merging  ./storage/tmp/1459842691.txt ./storage/tmp/1459842693.txt\n",
      "input  ['./storage/tmp/1459842792.txt', './storage/tmp/1459842794.txt', './storage/tmp/1459842797.txt', './storage/tmp/1459842799.txt']\n",
      "   merging  ./storage/tmp/1459842792.txt ./storage/tmp/1459842794.txt\n",
      "   merging  ./storage/tmp/1459842797.txt ./storage/tmp/1459842799.txt\n",
      "input  ['./storage/tmp/1459842802.txt', './storage/tmp/1459842806.txt']\n",
      "   merging  ./storage/tmp/1459842802.txt ./storage/tmp/1459842806.txt\n"
     ]
    },
    {
     "data": {
      "text/plain": [
       "'./storage/tmp/1459842810.txt'"
      ]
     },
     "execution_count": 13,
     "output_type": "execute_result",
     "metadata": {}
    }
   ],
   "source": [
    "indexer.merge()"
   ]
  },
  {
   "cell_type": "code",
   "execution_count": null,
   "metadata": {},
   "outputs": [],
   "source": [
    ""
   ]
  },
  {
   "cell_type": "code",
   "execution_count": 14,
   "metadata": {},
   "outputs": [],
   "source": [
    "from src.indexer import IndexEncoder"
   ]
  },
  {
   "cell_type": "code",
   "execution_count": 15,
   "metadata": {},
   "outputs": [],
   "source": [
    "index_encoder = IndexEncoder(\"./storage/inverted_index.bin\", \"./storage/term_dictionary.bin\")"
   ]
  },
  {
   "cell_type": "code",
   "execution_count": 16,
   "metadata": {},
   "outputs": [],
   "source": [
    "index_encoder.encode('./storage/tmp/1459842810.txt')"
   ]
  },
  {
   "cell_type": "code",
   "execution_count": null,
   "metadata": {},
   "outputs": [],
   "source": [
    ""
   ]
  },
  {
   "cell_type": "code",
   "execution_count": 107,
   "metadata": {},
   "outputs": [],
   "source": [
    "from src.searcher import Searcher"
   ]
  },
  {
   "cell_type": "code",
   "execution_count": 108,
   "metadata": {},
   "outputs": [],
   "source": [
    "searcher = Searcher(path_to_inverted_index=\"./storage/inverted_index.bin\",\n",
    "                    path_to_term_dictionary=\"./storage/term_dictionary.bin\",\n",
    "                   path_to_documents_registry=\"./storage/documents_registry.txt\")"
   ]
  },
  {
   "cell_type": "code",
   "execution_count": null,
   "metadata": {},
   "outputs": [],
   "source": [
    ""
   ]
  },
  {
   "cell_type": "code",
   "execution_count": 53,
   "metadata": {},
   "outputs": [
    {
     "data": {
      "text/plain": [
       "{-1713006339: {'offset': 230,\n",
       "  'pos': 716748,\n",
       "  'token': u'\\u0434\\u043e\\u0433\\u043e\\u0432\\u043e\\u0440'},\n",
       " 131558889: {'offset': 2706, 'pos': 988723, 'token': u'\\u0438\\u043b\\u0438'},\n",
       " 1189356009: {'offset': 1, 'pos': 578, 'token': u'aa+'}}"
      ]
     },
     "execution_count": 53,
     "output_type": "execute_result",
     "metadata": {}
    }
   ],
   "source": [
    "query_meta = searcher.get_terms_meta([u\"или\", u\"договор\", u\"aa+\"])\n",
    "query_meta"
   ]
  },
  {
   "cell_type": "code",
   "execution_count": 59,
   "metadata": {},
   "outputs": [],
   "source": [
    "# searcher.get_term_documents(**query_meta[131558889])"
   ]
  },
  {
   "cell_type": "code",
   "execution_count": 110,
   "metadata": {},
   "outputs": [
    {
     "name": "stdout",
     "output_type": "stream",
     "text": [
      "Getting docs for  пунит\n"
     ]
    },
    {
     "data": {
      "text/plain": [
       "set()"
      ]
     },
     "execution_count": 110,
     "output_type": "execute_result",
     "metadata": {}
    }
   ],
   "source": [
    "searcher.get_documents(u\"пунит\")"
   ]
  },
  {
   "cell_type": "code",
   "execution_count": 122,
   "metadata": {},
   "outputs": [
    {
     "name": "stdout",
     "output_type": "stream",
     "text": [
      "Сиськи\n",
      "2\n",
      "http://lenta.ru/articles/2008/12/31/finalblogs/\n",
      "http://lenta.ru/news/2010/03/18/monstration/\n"
     ]
    }
   ],
   "source": [
    "searcher.search(u\"Сиськи\")"
   ]
  },
  {
   "cell_type": "code",
   "execution_count": 37,
   "metadata": {},
   "outputs": [],
   "source": [
    "from src.bool_parser import BoolQueryParser"
   ]
  },
  {
   "cell_type": "code",
   "execution_count": 38,
   "metadata": {},
   "outputs": [],
   "source": [
    "query = \"!True & False | !(False | True) & True\""
   ]
  },
  {
   "cell_type": "code",
   "execution_count": 39,
   "metadata": {},
   "outputs": [
    {
     "name": "stdout",
     "output_type": "stream",
     "text": [
      "!(True)\n",
      "!(True) & False\n",
      "False | True\n",
      "!(False | True)\n",
      "!(False | True) & True\n",
      "!(True) & False | !(False | True) & True\n"
     ]
    }
   ],
   "source": [
    "BoolQueryParser.parse_query(query)"
   ]
  },
  {
   "cell_type": "code",
   "execution_count": null,
   "metadata": {},
   "outputs": [],
   "source": [
    "searcher = Searcher()"
   ]
  }
 ],
 "metadata": {
  "kernelspec": {
   "display_name": "Python 2",
   "language": "python",
   "name": "python2"
  },
  "language_info": {
   "codemirror_mode": {
    "name": "ipython",
    "version": 2.0
   },
   "file_extension": ".py",
   "mimetype": "text/x-python",
   "name": "python",
   "nbconvert_exporter": "python",
   "pygments_lexer": "ipython2",
   "version": "2.7.10"
  }
 },
 "nbformat": 4,
 "nbformat_minor": 0
}