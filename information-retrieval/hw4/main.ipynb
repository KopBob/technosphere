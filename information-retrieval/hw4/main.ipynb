{
 "cells": [
  {
   "cell_type": "code",
   "execution_count": 11,
   "metadata": {
    "collapsed": false
   },
   "outputs": [
    {
     "name": "stdout",
     "output_type": "stream",
     "text": [
      "The autoreload extension is already loaded. To reload it, use:\n",
      "  %reload_ext autoreload\n"
     ]
    }
   ],
   "source": [
    "%load_ext autoreload\n",
    "%autoreload 2\n",
    "%matplotlib inline"
   ]
  },
  {
   "cell_type": "code",
   "execution_count": 18,
   "metadata": {
    "collapsed": true
   },
   "outputs": [],
   "source": [
    "import time\n",
    "from os import listdir\n",
    "from os.path import isfile, join"
   ]
  },
  {
   "cell_type": "code",
   "execution_count": 23,
   "metadata": {
    "collapsed": true
   },
   "outputs": [],
   "source": [
    "from src.constants import PATH_TO_DATABASE, PATH_TO_DOC_IDS_FILE, PATH_TO_INDEX_STORAGE"
   ]
  },
  {
   "cell_type": "code",
   "execution_count": 24,
   "metadata": {
    "collapsed": false
   },
   "outputs": [
    {
     "data": {
      "text/plain": [
       "['lenta.ru_159b9f4b-972b-48b1-8ec3-44fbd6be33c4_01.gz',\n",
       " 'lenta.ru_4deb864d-3c46-45e6-85f4-a7ff7544a3fb_01.gz',\n",
       " 'lenta.ru_6398c7e2-16da-40d2-8923-95f65aaaeb07_01.gz',\n",
       " 'lenta.ru_80e74243-83da-4367-8ae3-fe38d333f283_01.gz',\n",
       " 'lenta.ru_aa5a1ef9-6ca4-4dc7-890f-308d4d62db59_01.gz',\n",
       " 'lenta.ru_b6838708-1aa9-496f-bf88-e277374f93a8_01.gz',\n",
       " 'lenta.ru_b81aa623-ba55-43dc-b3c5-47ae2253ad27_01.gz',\n",
       " 'lenta.ru_d1f7e910-b5f1-4719-b724-090093e143fe_01.gz']"
      ]
     },
     "execution_count": 24,
     "metadata": {},
     "output_type": "execute_result"
    }
   ],
   "source": [
    "data_files = []\n",
    "\n",
    "for f in listdir(PATH_TO_DATABASE):\n",
    "    if f.endswith(\".gz\"):\n",
    "        data_files.append(f)\n",
    "    \n",
    "data_files"
   ]
  },
  {
   "cell_type": "code",
   "execution_count": 25,
   "metadata": {
    "collapsed": false
   },
   "outputs": [],
   "source": [
    "from src.index import create_inverted_index_from_file"
   ]
  },
  {
   "cell_type": "code",
   "execution_count": 26,
   "metadata": {
    "collapsed": true
   },
   "outputs": [],
   "source": [
    "!mkdir -p $PATH_TO_INDEX_STORAGE\n",
    "!touch $PATH_TO_DOC_IDS_FILE"
   ]
  },
  {
   "cell_type": "code",
   "execution_count": 27,
   "metadata": {
    "collapsed": false,
    "scrolled": true
   },
   "outputs": [
    {
     "name": "stdout",
     "output_type": "stream",
     "text": [
      "Preparing lenta.ru_159b9f4b-972b-48b1-8ec3-44fbd6be33c4_01.gz ...\n",
      "Preparing lenta.ru_4deb864d-3c46-45e6-85f4-a7ff7544a3fb_01.gz ...\n",
      "Preparing lenta.ru_6398c7e2-16da-40d2-8923-95f65aaaeb07_01.gz ...\n",
      "Preparing lenta.ru_80e74243-83da-4367-8ae3-fe38d333f283_01.gz ...\n",
      "Preparing lenta.ru_aa5a1ef9-6ca4-4dc7-890f-308d4d62db59_01.gz ...\n",
      "Preparing lenta.ru_b6838708-1aa9-496f-bf88-e277374f93a8_01.gz ...\n",
      "Preparing lenta.ru_b81aa623-ba55-43dc-b3c5-47ae2253ad27_01.gz ...\n",
      "Preparing lenta.ru_d1f7e910-b5f1-4719-b724-090093e143fe_01.gz ...\n",
      "206.02449584\n"
     ]
    }
   ],
   "source": [
    "start = time.time()\n",
    "\n",
    "for f in data_files:\n",
    "    create_inverted_index_from_file(f)\n",
    "\n",
    "end = time.time()\n",
    "print end - start"
   ]
  },
  {
   "cell_type": "code",
   "execution_count": 28,
   "metadata": {
    "collapsed": false
   },
   "outputs": [
    {
     "data": {
      "text/plain": [
       "['10275128158989575799.txt',\n",
       " '11252247355928680928.txt',\n",
       " '1522589032090566813.txt',\n",
       " '16772773246965908897.txt',\n",
       " '5161210371219951366.txt',\n",
       " '6433137482221171074.txt',\n",
       " '7382094479573323610.txt',\n",
       " '7500047264952590923.txt']"
      ]
     },
     "execution_count": 28,
     "metadata": {},
     "output_type": "execute_result"
    }
   ],
   "source": [
    "index_files = []\n",
    "\n",
    "for f in listdir(PATH_TO_INDEX_STORAGE):\n",
    "    if f.endswith(\".txt\"):\n",
    "        index_files.append(f)\n",
    "    \n",
    "index_files"
   ]
  },
  {
   "cell_type": "code",
   "execution_count": 29,
   "metadata": {
    "collapsed": true
   },
   "outputs": [],
   "source": [
    "from src.index import merge_indexes"
   ]
  },
  {
   "cell_type": "code",
   "execution_count": 30,
   "metadata": {
    "collapsed": false
   },
   "outputs": [
    {
     "name": "stdout",
     "output_type": "stream",
     "text": [
      "Intut:  ['10275128158989575799.txt', '11252247355928680928.txt', '1522589032090566813.txt', '16772773246965908897.txt', '5161210371219951366.txt', '6433137482221171074.txt', '7382094479573323610.txt', '7500047264952590923.txt']\n",
      "  Merging:  ['10275128158989575799.txt', '11252247355928680928.txt']\n",
      "  Merging:  ['1522589032090566813.txt', '16772773246965908897.txt']\n",
      "  Merging:  ['5161210371219951366.txt', '6433137482221171074.txt']\n",
      "  Merging:  ['7382094479573323610.txt', '7500047264952590923.txt']\n",
      "Intut:  ['3458410167981068881.txt', '16922164564802556205.txt', '5231825839976661879.txt', '16307719453075671150.txt']\n",
      "  Merging:  ['3458410167981068881.txt', '16922164564802556205.txt']\n",
      "  Merging:  ['5231825839976661879.txt', '16307719453075671150.txt']\n",
      "Intut:  ['6073342758672786496.txt', '5561412077486106114.txt']\n",
      "  Merging:  ['6073342758672786496.txt', '5561412077486106114.txt']\n",
      "Intut:  ['8177361788591210157.txt']\n"
     ]
    },
    {
     "data": {
      "text/plain": [
       "'8177361788591210157.txt'"
      ]
     },
     "execution_count": 30,
     "metadata": {},
     "output_type": "execute_result"
    }
   ],
   "source": [
    "merge_indexes(index_files)"
   ]
  },
  {
   "cell_type": "code",
   "execution_count": null,
   "metadata": {
    "collapsed": true
   },
   "outputs": [],
   "source": [
    "# Encode index"
   ]
  },
  {
   "cell_type": "code",
   "execution_count": null,
   "metadata": {
    "collapsed": true
   },
   "outputs": [],
   "source": [
    "import numpy"
   ]
  },
  {
   "cell_type": "code",
   "execution_count": 32,
   "metadata": {
    "collapsed": true
   },
   "outputs": [],
   "source": [
    "from src.misc import readfile\n",
    "from src.encoders import VarByte"
   ]
  },
  {
   "cell_type": "code",
   "execution_count": 33,
   "metadata": {
    "collapsed": false
   },
   "outputs": [
    {
     "ename": "NameError",
     "evalue": "name 'cumdiff' is not defined",
     "output_type": "error",
     "traceback": [
      "\u001b[0;31m---------------------------------------------------------------------------\u001b[0m",
      "\u001b[0;31mNameError\u001b[0m                                 Traceback (most recent call last)",
      "\u001b[0;32m<ipython-input-33-e60e7443bcf5>\u001b[0m in \u001b[0;36m<module>\u001b[0;34m()\u001b[0m\n\u001b[1;32m      8\u001b[0m     \u001b[0mcurr_pos\u001b[0m \u001b[0;34m=\u001b[0m \u001b[0;36m0\u001b[0m\u001b[0;34m\u001b[0m\u001b[0m\n\u001b[1;32m      9\u001b[0m     \u001b[0;32mfor\u001b[0m \u001b[0mi\u001b[0m\u001b[0;34m,\u001b[0m \u001b[0mterm\u001b[0m \u001b[0;32min\u001b[0m \u001b[0menumerate\u001b[0m\u001b[0;34m(\u001b[0m\u001b[0midx\u001b[0m\u001b[0;34m)\u001b[0m\u001b[0;34m:\u001b[0m\u001b[0;34m\u001b[0m\u001b[0m\n\u001b[0;32m---> 10\u001b[0;31m         \u001b[0mbytestream\u001b[0m \u001b[0;34m=\u001b[0m \u001b[0mbytearray\u001b[0m\u001b[0;34m(\u001b[0m\u001b[0mvb\u001b[0m\u001b[0;34m.\u001b[0m\u001b[0mencode\u001b[0m\u001b[0;34m(\u001b[0m\u001b[0mcumdiff\u001b[0m\u001b[0;34m(\u001b[0m\u001b[0mterm\u001b[0m\u001b[0;34m[\u001b[0m\u001b[0;36m1\u001b[0m\u001b[0;34m]\u001b[0m\u001b[0;34m)\u001b[0m\u001b[0;34m)\u001b[0m\u001b[0;34m)\u001b[0m\u001b[0;34m\u001b[0m\u001b[0m\n\u001b[0m\u001b[1;32m     11\u001b[0m \u001b[0;34m\u001b[0m\u001b[0m\n\u001b[1;32m     12\u001b[0m         dictionary[term[0]] = {\n",
      "\u001b[0;31mNameError\u001b[0m: name 'cumdiff' is not defined"
     ]
    }
   ],
   "source": [
    "idx = readfile(PATH_TO_INDEX_STORAGE + \"8177361788591210157.txt\", with_none=False)\n",
    "\n",
    "vb = VarByte()\n",
    "\n",
    "dictionary = {}\n",
    "\n",
    "with open(\"data/index.bin\", 'wb') as output:\n",
    "    curr_pos = 0\n",
    "    for i, term in enumerate(idx):\n",
    "        bytestream = bytearray(vb.encode(cumdiff(term[1])))\n",
    "        \n",
    "        dictionary[term[0]] = {\n",
    "            \"from\": curr_pos,\n",
    "            \"size\": len(bytestream)\n",
    "        }\n",
    "\n",
    "        curr_pos += len(bytestream)\n",
    "        output.write(bytestream)"
   ]
  },
  {
   "cell_type": "code",
   "execution_count": null,
   "metadata": {
    "collapsed": true
   },
   "outputs": [],
   "source": []
  }
 ],
 "metadata": {
  "kernelspec": {
   "display_name": "Python 2",
   "language": "python",
   "name": "python2"
  },
  "language_info": {
   "codemirror_mode": {
    "name": "ipython",
    "version": 2
   },
   "file_extension": ".py",
   "mimetype": "text/x-python",
   "name": "python",
   "nbconvert_exporter": "python",
   "pygments_lexer": "ipython2",
   "version": "2.7.10"
  }
 },
 "nbformat": 4,
 "nbformat_minor": 0
}
