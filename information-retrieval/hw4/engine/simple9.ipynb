{
 "cells": [
  {
   "cell_type": "code",
   "execution_count": 1,
   "metadata": {
    "collapsed": false
   },
   "outputs": [],
   "source": [
    "%load_ext autoreload\n",
    "%autoreload 2\n",
    "%matplotlib inline"
   ]
  },
  {
   "cell_type": "code",
   "execution_count": 2,
   "metadata": {
    "collapsed": false
   },
   "outputs": [],
   "source": [
    "from src.misc import cumdiff"
   ]
  },
  {
   "cell_type": "code",
   "execution_count": 258,
   "metadata": {
    "collapsed": false
   },
   "outputs": [],
   "source": [
    "to_encode = list(cumdiff([10, 100, 123, 144, 3123, 3423, 10000, 14050, 100000]))"
   ]
  },
  {
   "cell_type": "code",
   "execution_count": 259,
   "metadata": {
    "collapsed": false
   },
   "outputs": [],
   "source": [
    "import math"
   ]
  },
  {
   "cell_type": "code",
   "execution_count": 260,
   "metadata": {
    "collapsed": false
   },
   "outputs": [
    {
     "data": {
      "text/plain": [
       "[('1010', 4),\n",
       " ('1011010', 7),\n",
       " ('10111', 5),\n",
       " ('10101', 5),\n",
       " ('101110100011', 12),\n",
       " ('100101100', 9),\n",
       " ('1100110110001', 13),\n",
       " ('111111010010', 12),\n",
       " ('10100111110111110', 17)]"
      ]
     },
     "execution_count": 260,
     "metadata": {},
     "output_type": "execute_result"
    }
   ],
   "source": [
    "[(bin(c)[2:], len(bin(c)[2:])) for c in to_encode]"
   ]
  },
  {
   "cell_type": "code",
   "execution_count": 261,
   "metadata": {
    "collapsed": true
   },
   "outputs": [],
   "source": [
    "simple9 = [\n",
    "    (28, 1),\n",
    "    (14, 2),\n",
    "    (9, 3),\n",
    "    (7, 4),\n",
    "    (5, 5),\n",
    "    (4, 7),\n",
    "    (3, 9),\n",
    "    (2, 14),\n",
    "    (1, 28),\n",
    "]"
   ]
  },
  {
   "cell_type": "code",
   "execution_count": 262,
   "metadata": {
    "collapsed": false
   },
   "outputs": [
    {
     "data": {
      "text/plain": [
       "'0b1001'"
      ]
     },
     "execution_count": 262,
     "metadata": {},
     "output_type": "execute_result"
    }
   ],
   "source": [
    "bin(9)"
   ]
  },
  {
   "cell_type": "code",
   "execution_count": null,
   "metadata": {
    "collapsed": true
   },
   "outputs": [],
   "source": []
  },
  {
   "cell_type": "code",
   "execution_count": 263,
   "metadata": {
    "collapsed": false
   },
   "outputs": [],
   "source": [
    "def simple9_encode(scheme, arr):\n",
    "    _, bits = simple9[scheme]\n",
    "    s = format(scheme, '04b')\n",
    "    for a in arr:\n",
    "        s += format(a, '0%ib' % bits)\n",
    "    return struct.pack('I', int(s, 2))\n",
    "    \n",
    "\n",
    "def encode_partial(arr):\n",
    "    count = 0\n",
    "    is_fitted = False\n",
    "    \n",
    "    for scheme, (amount, bits) in enumerate(simple9):\n",
    "        k = amount\n",
    "        for c in arr:\n",
    "            if len(bin(c)[2:]) <= bits:\n",
    "                k -= 1\n",
    "            else:\n",
    "                break\n",
    "            count += 1\n",
    "            if k == 0:\n",
    "                is_fitted = True\n",
    "                break\n",
    "        if is_fitted:\n",
    "            return simple9_encode(scheme, arr[:count]), arr[count:]\n",
    "        else:\n",
    "            count = 0\n",
    "            \n",
    "def encode(arr):\n",
    "    while True:\n",
    "        code, arr = encode_partial(arr)\n",
    "        yield code\n",
    "        if len(arr) == 0:\n",
    "            break"
   ]
  },
  {
   "cell_type": "code",
   "execution_count": 264,
   "metadata": {
    "collapsed": true
   },
   "outputs": [],
   "source": [
    "import textwrap"
   ]
  },
  {
   "cell_type": "code",
   "execution_count": 265,
   "metadata": {
    "collapsed": false
   },
   "outputs": [],
   "source": [
    "def decode(codes):\n",
    "    for c in codes:\n",
    "        c = format(struct.unpack('I', c)[0], '032b')\n",
    "        amount, bits = simple9[int(c[:4], 2)]\n",
    "        parts = textwrap.wrap(c[4:], bits)\n",
    "        assert amount == len(parts)\n",
    "        for p in parts:\n",
    "            yield int(p, 2)"
   ]
  },
  {
   "cell_type": "code",
   "execution_count": null,
   "metadata": {
    "collapsed": true
   },
   "outputs": [],
   "source": []
  },
  {
   "cell_type": "code",
   "execution_count": 267,
   "metadata": {
    "collapsed": false
   },
   "outputs": [
    {
     "data": {
      "text/plain": [
       "[10, 90, 23, 21, 2979, 300, 6577, 4050, 85950]"
      ]
     },
     "execution_count": 267,
     "metadata": {},
     "output_type": "execute_result"
    }
   ],
   "source": [
    "to_encode"
   ]
  },
  {
   "cell_type": "code",
   "execution_count": 268,
   "metadata": {
    "collapsed": false
   },
   "outputs": [
    {
     "data": {
      "text/plain": [
       "['\\x95\\x8bVQ', ',\\xc1\\xe8r', '\\xd2Olv', '\\xbeO\\x01\\x80']"
      ]
     },
     "execution_count": 268,
     "metadata": {},
     "output_type": "execute_result"
    }
   ],
   "source": [
    "list(encode(to_encode))"
   ]
  },
  {
   "cell_type": "code",
   "execution_count": 269,
   "metadata": {
    "collapsed": false
   },
   "outputs": [
    {
     "data": {
      "text/plain": [
       "[10, 90, 23, 21, 2979, 300, 6577, 4050, 85950]"
      ]
     },
     "execution_count": 269,
     "metadata": {},
     "output_type": "execute_result"
    }
   ],
   "source": [
    "list(decode(list(encode(to_encode))))"
   ]
  },
  {
   "cell_type": "code",
   "execution_count": null,
   "metadata": {
    "collapsed": true
   },
   "outputs": [],
   "source": []
  },
  {
   "cell_type": "code",
   "execution_count": 86,
   "metadata": {
    "collapsed": false
   },
   "outputs": [
    {
     "data": {
      "text/plain": [
       "(4, 7, [3122977, 1000000])"
      ]
     },
     "execution_count": 86,
     "metadata": {},
     "output_type": "execute_result"
    }
   ],
   "source": [
    "encode_partial(to_encode)"
   ]
  },
  {
   "cell_type": "code",
   "execution_count": null,
   "metadata": {
    "collapsed": true
   },
   "outputs": [],
   "source": [
    "def encode(arr):\n",
    "    count = 0\n",
    "    is_fitted = False\n",
    "    \n",
    "    while(1):\n",
    "        for amount, bits in simple9:\n",
    "            for c in to_encode:\n",
    "                if len(bin(c)[2:]) <= bits:\n",
    "                    amount -= 1\n",
    "                else:\n",
    "                    break\n",
    "\n",
    "                count += 1\n",
    "\n",
    "                if amount == 0:\n",
    "                    is_fitted = True\n",
    "                    break\n",
    "\n",
    "            if is_fitted:\n",
    "                yield count\n",
    "\n",
    "            else:\n",
    "                count = 0\n",
    "\n",
    "    "
   ]
  },
  {
   "cell_type": "code",
   "execution_count": 78,
   "metadata": {
    "collapsed": false
   },
   "outputs": [
    {
     "name": "stdout",
     "output_type": "stream",
     "text": [
      "7\n",
      "6\n",
      "4\n",
      "3\n",
      "22\n",
      "20\n"
     ]
    }
   ],
   "source": [
    "count = 0\n",
    "is_fitted = False\n",
    "\n",
    "for amount, bits in simple9:\n",
    "    for c in to_encode:\n",
    "        if len(bin(c)[2:]) <= bits:\n",
    "            amount -= 1\n",
    "        else:\n",
    "            break\n",
    "            \n",
    "        count += 1\n",
    "        \n",
    "        if amount == 0:\n",
    "            is_fitted = True\n",
    "            break\n",
    "            \n",
    "    if is_fitted:\n",
    "        print \"GOOD\"\n",
    "    else:\n",
    "        count = 0\n"
   ]
  },
  {
   "cell_type": "code",
   "execution_count": 43,
   "metadata": {
    "collapsed": false
   },
   "outputs": [
    {
     "data": {
      "text/plain": [
       "4"
      ]
     },
     "execution_count": 43,
     "metadata": {},
     "output_type": "execute_result"
    }
   ],
   "source": [
    "len(bin(10)[2:])"
   ]
  },
  {
   "cell_type": "code",
   "execution_count": 257,
   "metadata": {
    "collapsed": false,
    "scrolled": true
   },
   "outputs": [
    {
     "name": "stdout",
     "output_type": "stream",
     "text": [
      "10111101000100011110000101010110\n",
      "32\n",
      "3172065622\n",
      "10111101000100011110000101010110\n",
      "10111101000100011110000101010110\n"
     ]
    }
   ],
   "source": [
    "import random\n",
    "import struct\n",
    "\n",
    "bits = \"\".join([str(random.randint(0, 1)) for _ in range(32)])\n",
    "print bits\n",
    "print len(bits)\n",
    "print int(bits, 2)\n",
    "packed = struct.pack('I', int(bits, 2))\n",
    "print bits\n",
    "print format(struct.unpack('I', packed)[0], '032b')"
   ]
  },
  {
   "cell_type": "code",
   "execution_count": null,
   "metadata": {
    "collapsed": true
   },
   "outputs": [],
   "source": []
  },
  {
   "cell_type": "code",
   "execution_count": 181,
   "metadata": {
    "collapsed": true
   },
   "outputs": [],
   "source": [
    "# VarByte testing"
   ]
  },
  {
   "cell_type": "code",
   "execution_count": 308,
   "metadata": {
    "collapsed": true
   },
   "outputs": [],
   "source": [
    "from src.encoders import VarByte, Simple9\n",
    "\n",
    "from src.generators import gen_cumdiff, gen_cumsum"
   ]
  },
  {
   "cell_type": "code",
   "execution_count": 309,
   "metadata": {
    "collapsed": true
   },
   "outputs": [],
   "source": [
    "arr = [10, 100, 123, 144, 3123, 3423, 10000, 14050, 100000]"
   ]
  },
  {
   "cell_type": "code",
   "execution_count": 310,
   "metadata": {
    "collapsed": false
   },
   "outputs": [],
   "source": [
    "vb = VarByte()\n",
    "assert arr == list(gen_cumsum(vb.decode(vb.encode(gen_cumdiff(arr)))))"
   ]
  },
  {
   "cell_type": "code",
   "execution_count": 311,
   "metadata": {
    "collapsed": false
   },
   "outputs": [
    {
     "data": {
      "text/plain": [
       "['\\x95',\n",
       " '\\x8b',\n",
       " 'V',\n",
       " 'Q',\n",
       " ',',\n",
       " '\\xc1',\n",
       " '\\xe8',\n",
       " 'r',\n",
       " '\\xd2',\n",
       " 'O',\n",
       " 'l',\n",
       " 'v',\n",
       " '\\xbe',\n",
       " 'O',\n",
       " '\\x01',\n",
       " '\\x80']"
      ]
     },
     "execution_count": 311,
     "metadata": {},
     "output_type": "execute_result"
    }
   ],
   "source": [
    "list(s9.encode(gen_cumdiff(arr)))"
   ]
  },
  {
   "cell_type": "code",
   "execution_count": 312,
   "metadata": {
    "collapsed": false
   },
   "outputs": [],
   "source": [
    "s9 = Simple9()\n",
    "assert arr == list(gen_cumsum(s9.decode(s9.encode(gen_cumdiff(arr)))))"
   ]
  },
  {
   "cell_type": "code",
   "execution_count": 294,
   "metadata": {
    "collapsed": true
   },
   "outputs": [],
   "source": [
    "import itertools"
   ]
  },
  {
   "cell_type": "code",
   "execution_count": 300,
   "metadata": {
    "collapsed": false
   },
   "outputs": [],
   "source": [
    "gen = (i for i in range(12))"
   ]
  },
  {
   "cell_type": "code",
   "execution_count": 306,
   "metadata": {
    "collapsed": false
   },
   "outputs": [
    {
     "data": {
      "text/plain": [
       "[]"
      ]
     },
     "execution_count": 306,
     "metadata": {},
     "output_type": "execute_result"
    }
   ],
   "source": [
    "list(itertools.islice(gen, 0, 4))"
   ]
  },
  {
   "cell_type": "code",
   "execution_count": null,
   "metadata": {
    "collapsed": true
   },
   "outputs": [],
   "source": []
  },
  {
   "cell_type": "code",
   "execution_count": null,
   "metadata": {
    "collapsed": true
   },
   "outputs": [],
   "source": []
  }
 ],
 "metadata": {
  "kernelspec": {
   "display_name": "Python 2",
   "language": "python",
   "name": "python2"
  },
  "language_info": {
   "codemirror_mode": {
    "name": "ipython",
    "version": 2
   },
   "file_extension": ".py",
   "mimetype": "text/x-python",
   "name": "python",
   "nbconvert_exporter": "python",
   "pygments_lexer": "ipython2",
   "version": "2.7.10"
  }
 },
 "nbformat": 4,
 "nbformat_minor": 0
}
