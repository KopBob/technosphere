{
 "cells": [
  {
   "cell_type": "code",
   "execution_count": 102,
   "metadata": {
    "collapsed": false
   },
   "outputs": [
    {
     "name": "stdout",
     "output_type": "stream",
     "text": [
      "The autoreload extension is already loaded. To reload it, use:\n",
      "  %reload_ext autoreload\n"
     ]
    }
   ],
   "source": [
    "%load_ext autoreload\n",
    "%autoreload 2\n",
    "%matplotlib inline"
   ]
  },
  {
   "cell_type": "code",
   "execution_count": 103,
   "metadata": {
    "collapsed": true
   },
   "outputs": [],
   "source": [
    "import time\n",
    "from os import listdir\n",
    "from os.path import isfile, join"
   ]
  },
  {
   "cell_type": "code",
   "execution_count": 104,
   "metadata": {
    "collapsed": true
   },
   "outputs": [],
   "source": [
    "PATH_TO_DATABASE = \"../dataset/\""
   ]
  },
  {
   "cell_type": "code",
   "execution_count": 105,
   "metadata": {
    "collapsed": false
   },
   "outputs": [
    {
     "data": {
      "text/plain": [
       "['lenta.ru_159b9f4b-972b-48b1-8ec3-44fbd6be33c4_01.gz',\n",
       " 'lenta.ru_4deb864d-3c46-45e6-85f4-a7ff7544a3fb_01.gz',\n",
       " 'lenta.ru_6398c7e2-16da-40d2-8923-95f65aaaeb07_01.gz',\n",
       " 'lenta.ru_80e74243-83da-4367-8ae3-fe38d333f283_01.gz',\n",
       " 'lenta.ru_aa5a1ef9-6ca4-4dc7-890f-308d4d62db59_01.gz',\n",
       " 'lenta.ru_b6838708-1aa9-496f-bf88-e277374f93a8_01.gz',\n",
       " 'lenta.ru_b81aa623-ba55-43dc-b3c5-47ae2253ad27_01.gz',\n",
       " 'lenta.ru_d1f7e910-b5f1-4719-b724-090093e143fe_01.gz']"
      ]
     },
     "execution_count": 105,
     "metadata": {},
     "output_type": "execute_result"
    }
   ],
   "source": [
    "data_files = []\n",
    "\n",
    "for f in listdir(PATH_TO_DATABASE):\n",
    "    if f.endswith(\".gz\"):\n",
    "        data_files.append(f)\n",
    "    \n",
    "data_files"
   ]
  },
  {
   "cell_type": "markdown",
   "metadata": {
    "collapsed": true
   },
   "source": [
    "# 1. Build Index "
   ]
  },
  {
   "cell_type": "code",
   "execution_count": 197,
   "metadata": {
    "collapsed": true
   },
   "outputs": [],
   "source": [
    "from src.indexer import Indexer\n",
    "from src.ts_idx.docreader import DocumentStreamReader"
   ]
  },
  {
   "cell_type": "code",
   "execution_count": null,
   "metadata": {
    "collapsed": false
   },
   "outputs": [],
   "source": []
  },
  {
   "cell_type": "code",
   "execution_count": 212,
   "metadata": {
    "collapsed": false
   },
   "outputs": [
    {
     "name": "stdout",
     "output_type": "stream",
     "text": [
      "6.83111000061\n"
     ]
    }
   ],
   "source": [
    "indexer = Indexer(\"../storage/\", flush_threshold=8)\n",
    "\n",
    "import time\n",
    "start = time.time()\n",
    "\n",
    "for data_file in data_files:\n",
    "    documents_stream = DocumentStreamReader(PATH_TO_DATABASE + data_file)\n",
    "    indexer.index(documents_stream)\n",
    "\n",
    "end = time.time()\n",
    "print end - start"
   ]
  },
  {
   "cell_type": "code",
   "execution_count": 213,
   "metadata": {
    "collapsed": false
   },
   "outputs": [
    {
     "data": {
      "text/plain": [
       "['../storage/tmp/187eb7a4-ffce-4590-9faf-16720e2a6f94.txt']"
      ]
     },
     "execution_count": 213,
     "metadata": {},
     "output_type": "execute_result"
    }
   ],
   "source": [
    "indexer.tmp_files"
   ]
  },
  {
   "cell_type": "code",
   "execution_count": 214,
   "metadata": {
    "collapsed": false
   },
   "outputs": [
    {
     "data": {
      "text/plain": [
       "'../storage/tmp/db6a81a8-2e73-4cb8-9c25-d686e9588091.txt'"
      ]
     },
     "execution_count": 214,
     "metadata": {},
     "output_type": "execute_result"
    }
   ],
   "source": [
    "indexer.merge()"
   ]
  },
  {
   "cell_type": "markdown",
   "metadata": {
    "collapsed": true
   },
   "source": [
    "# 2. Encoding Index"
   ]
  },
  {
   "cell_type": "code",
   "execution_count": 215,
   "metadata": {
    "collapsed": true
   },
   "outputs": [],
   "source": [
    "from src.indexer import IndexEncoder"
   ]
  },
  {
   "cell_type": "code",
   "execution_count": 216,
   "metadata": {
    "collapsed": true
   },
   "outputs": [],
   "source": [
    "index_encoder = IndexEncoder(\"../storage/inverted_index.bin\", \"../storage/term_dictionary.bin\")"
   ]
  },
  {
   "cell_type": "code",
   "execution_count": 218,
   "metadata": {
    "collapsed": false
   },
   "outputs": [],
   "source": [
    "index_encoder.encode('../storage/tmp/db6a81a8-2e73-4cb8-9c25-d686e9588091.txt')"
   ]
  },
  {
   "cell_type": "markdown",
   "metadata": {
    "collapsed": true
   },
   "source": [
    "# 3. Searching"
   ]
  },
  {
   "cell_type": "code",
   "execution_count": 163,
   "metadata": {
    "collapsed": true
   },
   "outputs": [],
   "source": [
    "from src.searcher import Searcher"
   ]
  },
  {
   "cell_type": "code",
   "execution_count": 165,
   "metadata": {
    "collapsed": false
   },
   "outputs": [],
   "source": [
    "searcher = Searcher(path_to_inverted_index=\"../storage/inverted_index.bin\",\n",
    "                    path_to_term_dictionary=\"../storage/term_dictionary.bin\",\n",
    "                    path_to_documents_registry=\"../storage/documents_registry.txt\")"
   ]
  },
  {
   "cell_type": "code",
   "execution_count": null,
   "metadata": {
    "collapsed": true
   },
   "outputs": [],
   "source": []
  },
  {
   "cell_type": "code",
   "execution_count": null,
   "metadata": {
    "collapsed": true
   },
   "outputs": [],
   "source": []
  },
  {
   "cell_type": "code",
   "execution_count": 214,
   "metadata": {
    "collapsed": false
   },
   "outputs": [
    {
     "data": {
      "text/plain": [
       "{-1713006339: {'offset': 230,\n",
       "  'pos': 716748,\n",
       "  'token': u'\\u0434\\u043e\\u0433\\u043e\\u0432\\u043e\\u0440'},\n",
       " 131558889: {'offset': 2706, 'pos': 988723, 'token': u'\\u0438\\u043b\\u0438'},\n",
       " 1189356009: {'offset': 1, 'pos': 578, 'token': u'aa+'}}"
      ]
     },
     "execution_count": 214,
     "metadata": {},
     "output_type": "execute_result"
    }
   ],
   "source": [
    "query_meta = searcher.get_terms_meta([u\"или\", u\"договор\", u\"aa+\"])\n",
    "query_meta"
   ]
  },
  {
   "cell_type": "code",
   "execution_count": null,
   "metadata": {
    "collapsed": true
   },
   "outputs": [],
   "source": [
    "# searcher.get_term_documents(**query_meta[131558889])"
   ]
  },
  {
   "cell_type": "code",
   "execution_count": null,
   "metadata": {
    "collapsed": false
   },
   "outputs": [],
   "source": [
    "searcher.get_documents(u\"пунит\")"
   ]
  },
  {
   "cell_type": "code",
   "execution_count": null,
   "metadata": {
    "collapsed": false
   },
   "outputs": [],
   "source": [
    "searcher.search(u\"Сиськи\")"
   ]
  },
  {
   "cell_type": "code",
   "execution_count": null,
   "metadata": {
    "collapsed": true
   },
   "outputs": [],
   "source": [
    "from src.bool_parser import BoolQueryParser"
   ]
  },
  {
   "cell_type": "code",
   "execution_count": null,
   "metadata": {
    "collapsed": true
   },
   "outputs": [],
   "source": [
    "query = \"!True & False | !(False | True) & True\""
   ]
  },
  {
   "cell_type": "code",
   "execution_count": null,
   "metadata": {
    "collapsed": false
   },
   "outputs": [],
   "source": [
    "BoolQueryParser.parse_query(query)"
   ]
  },
  {
   "cell_type": "code",
   "execution_count": null,
   "metadata": {
    "collapsed": true
   },
   "outputs": [],
   "source": [
    "searcher = Searcher()"
   ]
  },
  {
   "cell_type": "code",
   "execution_count": null,
   "metadata": {
    "collapsed": false
   },
   "outputs": [],
   "source": [
    "import struct\n",
    "\n",
    "bits = \"10111111111111111011110\"\n",
    "\n",
    "\n",
    "packed = struct.pack('i', int(bits, 2))"
   ]
  },
  {
   "cell_type": "code",
   "execution_count": null,
   "metadata": {
    "collapsed": false
   },
   "outputs": [],
   "source": [
    "bin(struct.unpack('i', packed)[0])[2:]"
   ]
  },
  {
   "cell_type": "code",
   "execution_count": null,
   "metadata": {
    "collapsed": false
   },
   "outputs": [],
   "source": [
    "bin(16)"
   ]
  },
  {
   "cell_type": "code",
   "execution_count": null,
   "metadata": {
    "collapsed": true
   },
   "outputs": [],
   "source": [
    "arr = [bin(i)[2:] for i in range(100)]"
   ]
  },
  {
   "cell_type": "code",
   "execution_count": null,
   "metadata": {
    "collapsed": false
   },
   "outputs": [],
   "source": [
    "arr_sum = [len(i) for i in arr]\n",
    "print sum(arr_sum[0:28])\n",
    "print sum(arr_sum[0:14])\n",
    "print sum(arr_sum[0:9])"
   ]
  },
  {
   "cell_type": "code",
   "execution_count": null,
   "metadata": {
    "collapsed": false
   },
   "outputs": [],
   "source": [
    "for a in arr:\n",
    "    binary = bin(a)[2:]\n",
    "    if len(binary) + count > 28:\n",
    "        break\n",
    "    \n",
    "    pack.append(binary)\n",
    "    count += len(binary)\n",
    "len(\"\".join(pack))"
   ]
  },
  {
   "cell_type": "code",
   "execution_count": null,
   "metadata": {
    "collapsed": false
   },
   "outputs": [],
   "source": [
    "[(bin(i)[2:]) for i in [4, 6, 1, 1, 3, 5, 1, 7, 1, 13, 20, 1, 12, 20]]"
   ]
  },
  {
   "cell_type": "code",
   "execution_count": null,
   "metadata": {
    "collapsed": false
   },
   "outputs": [],
   "source": [
    "[len(bin(i)[2:]) for i in [4, 6, 1, 1, 3, 5, 1, 7, 1, 13, 20, 1, 12, 20]]"
   ]
  },
  {
   "cell_type": "code",
   "execution_count": null,
   "metadata": {
    "collapsed": false,
    "scrolled": true
   },
   "outputs": [],
   "source": [
    "format(6, '#010')"
   ]
  },
  {
   "cell_type": "code",
   "execution_count": null,
   "metadata": {
    "collapsed": true
   },
   "outputs": [],
   "source": []
  },
  {
   "cell_type": "code",
   "execution_count": 199,
   "metadata": {
    "collapsed": false
   },
   "outputs": [],
   "source": [
    "g_f = gen_struct_unpack(gen_bytes_from_file(\"../storage/term_dictionary.bin\", by=8), code='ii')"
   ]
  },
  {
   "cell_type": "code",
   "execution_count": 209,
   "metadata": {
    "collapsed": false
   },
   "outputs": [
    {
     "data": {
      "text/plain": [
       "(450942853, 15)"
      ]
     },
     "execution_count": 209,
     "metadata": {},
     "output_type": "execute_result"
    }
   ],
   "source": [
    "g_f.next()"
   ]
  },
  {
   "cell_type": "code",
   "execution_count": 194,
   "metadata": {
    "collapsed": false
   },
   "outputs": [
    {
     "name": "stdout",
     "output_type": "stream",
     "text": [
      "close file\n"
     ]
    },
    {
     "data": {
      "text/plain": [
       "166672"
      ]
     },
     "execution_count": 194,
     "metadata": {},
     "output_type": "execute_result"
    }
   ],
   "source": [
    "sum(1 for _ in g_f)"
   ]
  },
  {
   "cell_type": "code",
   "execution_count": 195,
   "metadata": {
    "collapsed": true
   },
   "outputs": [],
   "source": [
    "from src.misc import binary_file_reader"
   ]
  },
  {
   "cell_type": "code",
   "execution_count": 203,
   "metadata": {
    "collapsed": true
   },
   "outputs": [],
   "source": [
    "g_f2 = binary_file_reader(\"../storage/term_dictionary.bin\", \"ii\", 8)"
   ]
  },
  {
   "cell_type": "code",
   "execution_count": 207,
   "metadata": {
    "collapsed": false
   },
   "outputs": [
    {
     "data": {
      "text/plain": [
       "(450942853, 15)"
      ]
     },
     "execution_count": 207,
     "metadata": {},
     "output_type": "execute_result"
    }
   ],
   "source": [
    "g_f2.next()"
   ]
  },
  {
   "cell_type": "code",
   "execution_count": 197,
   "metadata": {
    "collapsed": false
   },
   "outputs": [
    {
     "data": {
      "text/plain": [
       "166672"
      ]
     },
     "execution_count": 197,
     "metadata": {},
     "output_type": "execute_result"
    }
   ],
   "source": [
    "sum(1 for _ in g_f2)"
   ]
  },
  {
   "cell_type": "code",
   "execution_count": null,
   "metadata": {
    "collapsed": false
   },
   "outputs": [],
   "source": [
    "\n",
    "from src.searcher import Searcher"
   ]
  },
  {
   "cell_type": "code",
   "execution_count": 166,
   "metadata": {
    "collapsed": false
   },
   "outputs": [],
   "source": [
    "searcher = Searcher(path_to_inverted_index=\"../storage/inverted_index.bin\",\n",
    "                    path_to_term_dictionary=\"../storage/term_dictionary.bin\",\n",
    "                   path_to_documents_registry=\"../storage/documents_registry.txt\")"
   ]
  },
  {
   "cell_type": "code",
   "execution_count": 167,
   "metadata": {
    "collapsed": false
   },
   "outputs": [
    {
     "data": {
      "text/plain": [
       "{'offset': 60, 'pos': 647391}"
      ]
     },
     "execution_count": 167,
     "metadata": {},
     "output_type": "execute_result"
    }
   ],
   "source": [
    "searcher.get_term_meta(u\"двери\")"
   ]
  },
  {
   "cell_type": "code",
   "execution_count": 168,
   "metadata": {
    "collapsed": false
   },
   "outputs": [
    {
     "data": {
      "text/plain": [
       "{29,\n",
       " 263,\n",
       " 518,\n",
       " 537,\n",
       " 1146,\n",
       " 1166,\n",
       " 1696,\n",
       " 2245,\n",
       " 2712,\n",
       " 2828,\n",
       " 2870,\n",
       " 3203,\n",
       " 3922,\n",
       " 3939,\n",
       " 3953,\n",
       " 4668,\n",
       " 4723,\n",
       " 5181,\n",
       " 5404,\n",
       " 5629,\n",
       " 6073,\n",
       " 6096,\n",
       " 6126,\n",
       " 6215,\n",
       " 6738,\n",
       " 7590,\n",
       " 8189,\n",
       " 8343,\n",
       " 8485,\n",
       " 8842,\n",
       " 8946,\n",
       " 9097,\n",
       " 9394,\n",
       " 9566,\n",
       " 9593}"
      ]
     },
     "execution_count": 168,
     "metadata": {},
     "output_type": "execute_result"
    }
   ],
   "source": [
    "searcher.get_documents(u\"двери\")"
   ]
  },
  {
   "cell_type": "code",
   "execution_count": null,
   "metadata": {
    "collapsed": true
   },
   "outputs": [],
   "source": [
    "import mmap"
   ]
  },
  {
   "cell_type": "code",
   "execution_count": null,
   "metadata": {
    "collapsed": true
   },
   "outputs": [],
   "source": [
    "from src.encoders import VarByte"
   ]
  },
  {
   "cell_type": "code",
   "execution_count": null,
   "metadata": {
    "collapsed": true
   },
   "outputs": [],
   "source": [
    "with open(\"../test.bin\", \"wb\") as f:\n",
    "    f.write(\"hello.\"*4)"
   ]
  },
  {
   "cell_type": "code",
   "execution_count": null,
   "metadata": {
    "collapsed": false
   },
   "outputs": [],
   "source": [
    "with open(\"../test.bin\", \"rb\") as f:\n",
    "    print f.read(819)"
   ]
  },
  {
   "cell_type": "code",
   "execution_count": 169,
   "metadata": {
    "collapsed": false
   },
   "outputs": [
    {
     "data": {
      "text/plain": [
       "<function src.misc.gen_bytes_from_file>"
      ]
     },
     "execution_count": 169,
     "metadata": {},
     "output_type": "execute_result"
    }
   ],
   "source": []
  },
  {
   "cell_type": "code",
   "execution_count": null,
   "metadata": {
    "collapsed": false
   },
   "outputs": [],
   "source": [
    "list(gen_bytes_from_file(\"../test.bin\", 0, 2))"
   ]
  },
  {
   "cell_type": "code",
   "execution_count": 2,
   "metadata": {
    "collapsed": false
   },
   "outputs": [],
   "source": [
    "from src.misc import gen_bytes_from_file, gen_struct_unpack\n",
    "from src.generators import gen_cumsum\n",
    "from src.encoders import VarByte"
   ]
  },
  {
   "cell_type": "code",
   "execution_count": 159,
   "metadata": {
    "collapsed": true
   },
   "outputs": [],
   "source": [
    "from src.searcher import gen_find_terms_in_terms_dict"
   ]
  },
  {
   "cell_type": "code",
   "execution_count": 370,
   "metadata": {
    "collapsed": false
   },
   "outputs": [
    {
     "name": "stdout",
     "output_type": "stream",
     "text": [
      "close file\n"
     ]
    }
   ],
   "source": [
    "dict_reader = gen_find_terms_in_terms_dict([u\"дверь\", u\"путин\", u\"медв1едев\", u\"aa+\"], \"../storage/term_dictionary.bin\")"
   ]
  },
  {
   "cell_type": "code",
   "execution_count": 371,
   "metadata": {
    "collapsed": false
   },
   "outputs": [
    {
     "data": {
      "text/plain": [
       "{u'aa+': {'seek_offset': 349, 'size': 1},\n",
       " u'\\u0434\\u0432\\u0435\\u0440\\u044c': {'seek_offset': 438709, 'size': 62},\n",
       " u'\\u043c\\u0435\\u0434\\u04321\\u0435\\u0434\\u0435\\u0432': {'seek_offset': None,\n",
       "  'size': None},\n",
       " u'\\u043f\\u0443\\u0442\\u0438\\u043d': {'seek_offset': 1595295, 'size': 377}}"
      ]
     },
     "execution_count": 371,
     "metadata": {},
     "output_type": "execute_result"
    }
   ],
   "source": [
    "dict_reader"
   ]
  },
  {
   "cell_type": "code",
   "execution_count": 20,
   "metadata": {
    "collapsed": false
   },
   "outputs": [],
   "source": [
    "def gen_read_inverted_index(path, pos, size, decoder):\n",
    "    bytestream = gen_bytes_from_file(path, pos, size)\n",
    "    numstream = gen_struct_unpack(bytestream, code='B')\n",
    "    decoded_bytes = decoder().gen_decode(numstream)\n",
    "    doc_ids = gen_cumsum(decoded_bytes)\n",
    "    \n",
    "    return doc_ids"
   ]
  },
  {
   "cell_type": "code",
   "execution_count": 155,
   "metadata": {
    "collapsed": false
   },
   "outputs": [
    {
     "data": {
      "text/plain": [
       "{'seek_offset': 647457, 'size': 67}"
      ]
     },
     "execution_count": 155,
     "metadata": {},
     "output_type": "execute_result"
    }
   ],
   "source": [
    "dict_reader[u\"дверь\"]"
   ]
  },
  {
   "cell_type": "code",
   "execution_count": 156,
   "metadata": {
    "collapsed": false
   },
   "outputs": [],
   "source": [
    "index_reader = gen_read_inverted_index(\"../storage/inverted_index.bin\", 647457, 67, VarByte)"
   ]
  },
  {
   "cell_type": "code",
   "execution_count": 158,
   "metadata": {
    "collapsed": false
   },
   "outputs": [
    {
     "name": "stdout",
     "output_type": "stream",
     "text": [
      "close file\n"
     ]
    },
    {
     "data": {
      "text/plain": [
       "[70,\n",
       " 187,\n",
       " 187,\n",
       " 433,\n",
       " 507,\n",
       " 895,\n",
       " 1591,\n",
       " 1629,\n",
       " 2025,\n",
       " 2140,\n",
       " 2331,\n",
       " 2522,\n",
       " 2974,\n",
       " 3015,\n",
       " 3015,\n",
       " 3089,\n",
       " 3089,\n",
       " 3551,\n",
       " 3621,\n",
       " 4208,\n",
       " 4280,\n",
       " 4328,\n",
       " 5157,\n",
       " 6096,\n",
       " 6190,\n",
       " 7233,\n",
       " 7498,\n",
       " 7506,\n",
       " 7554,\n",
       " 8217,\n",
       " 8380,\n",
       " 8602,\n",
       " 8785,\n",
       " 8940,\n",
       " 8946,\n",
       " 9203,\n",
       " 9394,\n",
       " 9566,\n",
       " 9577,\n",
       " 9785,\n",
       " 9986,\n",
       " 9990,\n",
       " 9990,\n",
       " 9990]"
      ]
     },
     "execution_count": 158,
     "metadata": {},
     "output_type": "execute_result"
    }
   ],
   "source": [
    "list(index_reader)"
   ]
  },
  {
   "cell_type": "code",
   "execution_count": null,
   "metadata": {
    "collapsed": true
   },
   "outputs": [],
   "source": [
    "gen_read_inverted_index(\"../storage/inverted_index.bin\", 647391, 60, VarByte)"
   ]
  },
  {
   "cell_type": "code",
   "execution_count": null,
   "metadata": {
    "collapsed": false
   },
   "outputs": [],
   "source": [
    "range(1, 10)"
   ]
  },
  {
   "cell_type": "code",
   "execution_count": null,
   "metadata": {
    "collapsed": false
   },
   "outputs": [],
   "source": [
    "diff = list(gen_cumdiff(gen_gen(range(1, 10))))\n",
    "diff"
   ]
  },
  {
   "cell_type": "code",
   "execution_count": null,
   "metadata": {
    "collapsed": false
   },
   "outputs": [],
   "source": [
    "list(gen_cumsum(gen_gen(diff)))"
   ]
  },
  {
   "cell_type": "code",
   "execution_count": null,
   "metadata": {
    "collapsed": true
   },
   "outputs": [],
   "source": []
  },
  {
   "cell_type": "code",
   "execution_count": null,
   "metadata": {
    "collapsed": true
   },
   "outputs": [],
   "source": []
  },
  {
   "cell_type": "code",
   "execution_count": null,
   "metadata": {
    "collapsed": true
   },
   "outputs": [],
   "source": []
  },
  {
   "cell_type": "code",
   "execution_count": 215,
   "metadata": {
    "collapsed": true
   },
   "outputs": [],
   "source": [
    "searcher = Searcher(path_to_inverted_index=\"../storage/inverted_index.bin\",\n",
    "                    path_to_term_dictionary=\"../storage/term_dictionary.bin\",\n",
    "                   path_to_documents_registry=\"../storage/documents_registry.txt\")"
   ]
  },
  {
   "cell_type": "code",
   "execution_count": 225,
   "metadata": {
    "collapsed": false
   },
   "outputs": [
    {
     "data": {
      "text/plain": [
       "{'offset': 2, 'pos': 24334}"
      ]
     },
     "execution_count": 225,
     "metadata": {},
     "output_type": "execute_result"
    }
   ],
   "source": [
    "searcher.get_term_meta(u\"ff\")"
   ]
  },
  {
   "cell_type": "code",
   "execution_count": 223,
   "metadata": {
    "collapsed": false
   },
   "outputs": [
    {
     "data": {
      "text/plain": [
       "{'offset': 937, 'pos': 2155680}"
      ]
     },
     "execution_count": 223,
     "metadata": {},
     "output_type": "execute_result"
    }
   ],
   "source": [
    "searcher.get_term_meta(u\"путин\")"
   ]
  },
  {
   "cell_type": "code",
   "execution_count": 235,
   "metadata": {
    "collapsed": true
   },
   "outputs": [],
   "source": [
    "from src.searcher import Searcher"
   ]
  },
  {
   "cell_type": "code",
   "execution_count": 236,
   "metadata": {
    "collapsed": false
   },
   "outputs": [],
   "source": [
    "searcher = Searcher(path_to_inverted_index=\"../storage/inverted_index.bin\",\n",
    "                    path_to_term_dictionary=\"../storage/term_dictionary.bin\",\n",
    "                   path_to_documents_registry=\"../storage/documents_registry.txt\")"
   ]
  },
  {
   "cell_type": "code",
   "execution_count": 237,
   "metadata": {
    "collapsed": true
   },
   "outputs": [],
   "source": [
    "from src.searcher import gen_term_documents, gen_find_terms_in_terms_dict"
   ]
  },
  {
   "cell_type": "code",
   "execution_count": 331,
   "metadata": {
    "collapsed": false
   },
   "outputs": [
    {
     "name": "stdout",
     "output_type": "stream",
     "text": [
      "close file\n"
     ]
    }
   ],
   "source": [
    "terms_dict = gen_find_terms_in_terms_dict([u\"медв1едев\", u\"путин\", u\"налоги\", u\"бюджет\"], \"../storage/term_dictionary.bin\")"
   ]
  },
  {
   "cell_type": "code",
   "execution_count": 351,
   "metadata": {
    "collapsed": false
   },
   "outputs": [],
   "source": [
    "put_docs = gen_term_documents(\"../storage/inverted_index.bin\", terms_dict[u'путин'], VarByte)\n",
    "med_docs = gen_term_documents(\"../storage/inverted_index.bin\", terms_dict[u'медв1едев'], VarByte)\n",
    "nalog_docs = gen_term_documents(\"../storage/inverted_index.bin\", terms_dict[u'налоги'], VarByte)\n",
    "budjet_docs = gen_term_documents(\"../storage/inverted_index.bin\", terms_dict[u'бюджет'], VarByte)"
   ]
  },
  {
   "cell_type": "code",
   "execution_count": 352,
   "metadata": {
    "collapsed": false
   },
   "outputs": [
    {
     "name": "stdout",
     "output_type": "stream",
     "text": [
      "close file\n"
     ]
    },
    {
     "data": {
      "text/plain": [
       "[150,\n",
       " 277,\n",
       " 333,\n",
       " 592,\n",
       " 1322,\n",
       " 1559,\n",
       " 2648,\n",
       " 2678,\n",
       " 2986,\n",
       " 3050,\n",
       " 3158,\n",
       " 3224,\n",
       " 3412,\n",
       " 3693,\n",
       " 4261,\n",
       " 4532,\n",
       " 4625,\n",
       " 4764,\n",
       " 4855,\n",
       " 5340,\n",
       " 6322,\n",
       " 6629,\n",
       " 6962,\n",
       " 7080,\n",
       " 7198,\n",
       " 7442,\n",
       " 7587,\n",
       " 7656,\n",
       " 7812,\n",
       " 8447,\n",
       " 8507,\n",
       " 8709,\n",
       " 8881,\n",
       " 8966,\n",
       " 9109,\n",
       " 9182,\n",
       " 9203,\n",
       " 9223,\n",
       " 9268,\n",
       " 9451,\n",
       " 9517,\n",
       " 9630,\n",
       " 9824]"
      ]
     },
     "execution_count": 352,
     "metadata": {},
     "output_type": "execute_result"
    }
   ],
   "source": [
    "list(gen_subtract(nalog_docs, med_docs))"
   ]
  },
  {
   "cell_type": "code",
   "execution_count": 341,
   "metadata": {
    "collapsed": false
   },
   "outputs": [
    {
     "data": {
      "text/plain": [
       "{'seek_offset': None, 'size': None}"
      ]
     },
     "execution_count": 341,
     "metadata": {},
     "output_type": "execute_result"
    }
   ],
   "source": [
    "terms_dict[u'медв1едев']"
   ]
  },
  {
   "cell_type": "code",
   "execution_count": 333,
   "metadata": {
    "collapsed": true
   },
   "outputs": [],
   "source": [
    "from src.generators import gen_intersect, gen_subtract"
   ]
  },
  {
   "cell_type": "code",
   "execution_count": 334,
   "metadata": {
    "collapsed": false
   },
   "outputs": [],
   "source": [
    "docs = gen_intersect(med_docs, put_docs)"
   ]
  },
  {
   "cell_type": "code",
   "execution_count": 335,
   "metadata": {
    "collapsed": true
   },
   "outputs": [],
   "source": [
    "docs = gen_intersect(docs, nalog_docs)"
   ]
  },
  {
   "cell_type": "code",
   "execution_count": 336,
   "metadata": {
    "collapsed": true
   },
   "outputs": [],
   "source": [
    "docs = gen_subtract(docs, budjet_docs)"
   ]
  },
  {
   "cell_type": "code",
   "execution_count": 337,
   "metadata": {
    "collapsed": false
   },
   "outputs": [],
   "source": [
    "from src.searcher import load_documents_registry\n",
    "dr = load_documents_registry(\"../storage/documents_registry.txt\")"
   ]
  },
  {
   "cell_type": "code",
   "execution_count": 338,
   "metadata": {
    "collapsed": false
   },
   "outputs": [
    {
     "name": "stdout",
     "output_type": "stream",
     "text": [
      "150 http://lenta.ru/news/2012/04/24/tax/\n",
      "277 http://lenta.ru/news/2012/06/12/sk/\n",
      "333 http://lenta.ru/columns/2015/01/20/budget/\n",
      "592 http://lenta.ru/economy/2004/10/01/nalog/\n",
      "1322 http://lenta.ru/news/2014/09/13/lagarde/\n",
      "1559 http://lenta.ru/articles/2014/08/08/sber/\n",
      "2648 http://lenta.ru/news/2006/07/05/paris\n",
      "2678 http://lenta.ru/articles/2014/11/29/jerusalem/\n",
      "2986 http://lenta.ru/oddly/2002/11/19/beerdrinker/\n",
      "3050 http://lenta.ru/articles/2008/08/04/celebrity/\n",
      "3158 http://lenta.ru/news/2010/11/25/gazpromneft/\n",
      "3224 http://lenta.ru/articles/2015/03/14/mishka/\n",
      "3412 http://lenta.ru/world/2004/10/14/debate/\n",
      "3693 http://lenta.ru/news/2012/04/23/joke/\n",
      "4261 http://lenta.ru/lib/14161216/full\n",
      "4532 http://lenta.ru/news/2011/10/26/double/\n",
      "4625 http://lenta.ru/articles/2008/12/04/putin/\n",
      "4764 http://lenta.ru/news/2007/11/12/rspp/\n",
      "4855 http://lenta.ru/articles/2005/09/20/cards/\n",
      "5340 http://lenta.ru/articles/2015/12/30/sotsialka/\n",
      "6322 http://lenta.ru/articles/2013/08/16/degtyarev/\n",
      "6629 http://lenta.ru/economy/2002/11/18/germany/\n",
      "6962 http://lenta.ru/lib/14193025/\n",
      "7080 http://lenta.ru/news/2010/12/07/taxes/\n",
      "7198 http://lenta.ru/news/2015/11/10/portugal\n",
      "7442 http://lenta.ru/news/2009/09/16/negative/\n",
      "7587 http://lenta.ru/russia/2001/01/25/nalogi/\n",
      "7656 http://lenta.ru/news/2007/07/12/grave/\n",
      "7812 http://lenta.ru/news/2009/12/09/hunger/\n",
      "8447 http://lenta.ru/news/2015/12/16/dolores/\n",
      "8507 http://lenta.ru/news/2006/10/15/clinton/\n",
      "8709 http://lenta.ru/articles/2011/09/15/poshlina/\n",
      "8881 http://lenta.ru/world/2003/04/16/clinton/\n",
      "8966 http://lenta.ru/news/2005/10/13/thatcher/\n",
      "9109 http://lenta.ru/world/2002/07/23/chigir/\n",
      "9182 http://lenta.ru/conf/shlegel/\n",
      "9203 http://lenta.ru/articles/2006/12/04/flat/\n",
      "9223 http://lenta.ru/conf/nzubarevich\n",
      "9268 http://lenta.ru/most/2001/05/29/liquidation/\n",
      "9451 http://lenta.ru/news/2008/08/26/budget/\n",
      "9517 http://lenta.ru/news/2005/10/29/tax/\n",
      "9630 http://lenta.ru/lib/14159417/full.htm\n",
      "9824 http://lenta.ru/conf/kupriyanov\n",
      "close file\n"
     ]
    }
   ],
   "source": [
    "for d in nalog_docs:\n",
    "    print d, dr[d]"
   ]
  },
  {
   "cell_type": "code",
   "execution_count": 239,
   "metadata": {
    "collapsed": false
   },
   "outputs": [
    {
     "name": "stdout",
     "output_type": "stream",
     "text": [
      "close file\n"
     ]
    },
    {
     "data": {
      "text/plain": [
       "[7574]"
      ]
     },
     "execution_count": 239,
     "metadata": {},
     "output_type": "execute_result"
    }
   ],
   "source": [
    "list(index_reader)"
   ]
  },
  {
   "cell_type": "code",
   "execution_count": 229,
   "metadata": {
    "collapsed": false
   },
   "outputs": [
    {
     "data": {
      "text/plain": [
       "{7574}"
      ]
     },
     "execution_count": 229,
     "metadata": {},
     "output_type": "execute_result"
    }
   ],
   "source": [
    "searcher.get_documents(u\"ff\")"
   ]
  },
  {
   "cell_type": "markdown",
   "metadata": {},
   "source": [
    "# Generators test"
   ]
  },
  {
   "cell_type": "code",
   "execution_count": 59,
   "metadata": {
    "collapsed": true
   },
   "outputs": [],
   "source": [
    "from src.encoders import VarByte\n",
    "from src.generators import gen_cumdiff, gen_trace, gen_cumsum\n",
    "from src.misc import gen_struct_unpack, gen_bytes_from_file\n",
    "\n",
    "import struct"
   ]
  },
  {
   "cell_type": "code",
   "execution_count": 35,
   "metadata": {
    "collapsed": true
   },
   "outputs": [],
   "source": [
    "vb = VarByte()"
   ]
  },
  {
   "cell_type": "code",
   "execution_count": 36,
   "metadata": {
    "collapsed": true
   },
   "outputs": [],
   "source": [
    "def gen_struct_pack(gen, code):\n",
    "    for val in gen:\n",
    "        yield struct.pack('B', val)[0]"
   ]
  },
  {
   "cell_type": "code",
   "execution_count": 68,
   "metadata": {
    "collapsed": false
   },
   "outputs": [],
   "source": [
    "arr = [1, 10, 40, 4000, 10000, 10001, 10004, 10010, 10040]\n",
    "diff = gen_cumdiff(arr)\n",
    "encoded = vb.encode(diff)\n",
    "packed = gen_struct_pack(encoded, code='B')\n",
    "\n",
    "with open(\"../gen_test.bin\", 'wb') as f:\n",
    "    for v in packed:\n",
    "        f.write(v)\n",
    "\n",
    "from_file = gen_bytes_from_file(\"../gen_test.bin\")\n",
    "unpacked = gen_struct_unpack(from_file, code='B')\n",
    "decoded = vb.decode(unpacked)\n",
    "ar = gen_cumsum(decoded)"
   ]
  },
  {
   "cell_type": "code",
   "execution_count": 69,
   "metadata": {
    "collapsed": false
   },
   "outputs": [
    {
     "name": "stdout",
     "output_type": "stream",
     "text": [
      "close file\n"
     ]
    },
    {
     "data": {
      "text/plain": [
       "[1, 10, 40, 4000, 10000, 10001, 10004, 10010, 10040]"
      ]
     },
     "execution_count": 69,
     "metadata": {},
     "output_type": "execute_result"
    }
   ],
   "source": [
    "list(ar)"
   ]
  },
  {
   "cell_type": "markdown",
   "metadata": {},
   "source": [
    "# Inverted index read test"
   ]
  },
  {
   "cell_type": "code",
   "execution_count": 66,
   "metadata": {
    "collapsed": false
   },
   "outputs": [
    {
     "name": "stdout",
     "output_type": "stream",
     "text": [
      "close file\n"
     ]
    },
    {
     "data": {
      "text/plain": [
       "[1, 10, 40, 4000, 10000, 10001, 10004, 10010, 10040]"
      ]
     },
     "execution_count": 66,
     "metadata": {},
     "output_type": "execute_result"
    }
   ],
   "source": []
  },
  {
   "cell_type": "code",
   "execution_count": 13,
   "metadata": {
    "collapsed": false
   },
   "outputs": [
    {
     "name": "stdout",
     "output_type": "stream",
     "text": [
      "1\n",
      "9\n",
      "30\n",
      "3960\n",
      "6000\n",
      "4\n",
      "6\n",
      "30\n"
     ]
    },
    {
     "data": {
      "text/plain": [
       "[129, 137, 158, 30, 248, 46, 240, 132, 134, 158]"
      ]
     },
     "execution_count": 13,
     "metadata": {},
     "output_type": "execute_result"
    }
   ],
   "source": [
    "list(encoded)"
   ]
  },
  {
   "cell_type": "code",
   "execution_count": null,
   "metadata": {
    "collapsed": true
   },
   "outputs": [],
   "source": []
  },
  {
   "cell_type": "code",
   "execution_count": 124,
   "metadata": {
    "collapsed": true
   },
   "outputs": [],
   "source": [
    "import tempfile"
   ]
  },
  {
   "cell_type": "code",
   "execution_count": 125,
   "metadata": {
    "collapsed": true
   },
   "outputs": [],
   "source": [
    "tf = tempfile.NamedTemporaryFile()"
   ]
  },
  {
   "cell_type": "code",
   "execution_count": 127,
   "metadata": {
    "collapsed": false
   },
   "outputs": [],
   "source": [
    "import uuid\n",
    "\n",
    "unique_filename = uuid.uuid4()"
   ]
  },
  {
   "cell_type": "code",
   "execution_count": null,
   "metadata": {
    "collapsed": true
   },
   "outputs": [],
   "source": [
    "unique_filename."
   ]
  },
  {
   "cell_type": "code",
   "execution_count": 131,
   "metadata": {
    "collapsed": false
   },
   "outputs": [
    {
     "data": {
      "text/plain": [
       "'9ecff14c-cea2-44ef-b310-10e4d37c6227'"
      ]
     },
     "execution_count": 131,
     "metadata": {},
     "output_type": "execute_result"
    }
   ],
   "source": [
    "\"%s\" % unique_filename"
   ]
  },
  {
   "cell_type": "code",
   "execution_count": 173,
   "metadata": {
    "collapsed": false
   },
   "outputs": [],
   "source": [
    "f = open(\"../t.txt\", \"w\")\n",
    "\n",
    "a = [\"a1\", \"a2\", \"a3\"]\n",
    "\n",
    "f.write(\"\\n\".join(a))\n",
    "f.close()"
   ]
  },
  {
   "cell_type": "code",
   "execution_count": 328,
   "metadata": {
    "collapsed": false
   },
   "outputs": [
    {
     "name": "stdout",
     "output_type": "stream",
     "text": [
      "[u'\\u043f\\u0443\\u0442\\u0438\\u043d', u'\\u0441\\u043e\\u0431\\u0430\\u043a\\u0430', u'\\u0435\\u0441\\u0442', u'\\u043a\\u0430\\u043a\\u0430\\u0445\\u0443']\n"
     ]
    }
   ],
   "source": [
    "\n",
    "import re\n",
    "rx = re.compile('([&!|])')\n",
    "print rx.sub(r'', u\"путин & собака | ест & !какаху\").split()\n",
    "\n"
   ]
  },
  {
   "cell_type": "code",
   "execution_count": null,
   "metadata": {
    "collapsed": true
   },
   "outputs": [],
   "source": []
  },
  {
   "cell_type": "code",
   "execution_count": 343,
   "metadata": {
    "collapsed": true
   },
   "outputs": [],
   "source": [
    "def gen_empty():\n",
    "    return\n",
    "    yield"
   ]
  },
  {
   "cell_type": "code",
   "execution_count": 345,
   "metadata": {
    "collapsed": false
   },
   "outputs": [
    {
     "ename": "StopIteration",
     "evalue": "",
     "output_type": "error",
     "traceback": [
      "\u001b[0;31m---------------------------------------------------------------------------\u001b[0m",
      "\u001b[0;31mStopIteration\u001b[0m                             Traceback (most recent call last)",
      "\u001b[0;32m<ipython-input-345-42730364457f>\u001b[0m in \u001b[0;36m<module>\u001b[0;34m()\u001b[0m\n\u001b[0;32m----> 1\u001b[0;31m \u001b[0mgen_empty\u001b[0m\u001b[0;34m(\u001b[0m\u001b[0;34m)\u001b[0m\u001b[0;34m.\u001b[0m\u001b[0mnext\u001b[0m\u001b[0;34m(\u001b[0m\u001b[0;34m)\u001b[0m\u001b[0;34m\u001b[0m\u001b[0m\n\u001b[0m",
      "\u001b[0;31mStopIteration\u001b[0m: "
     ]
    }
   ],
   "source": []
  },
  {
   "cell_type": "code",
   "execution_count": 388,
   "metadata": {
    "collapsed": true
   },
   "outputs": [],
   "source": [
    "from src.searcher import Searcher2"
   ]
  },
  {
   "cell_type": "code",
   "execution_count": 407,
   "metadata": {
    "collapsed": false
   },
   "outputs": [],
   "source": [
    "searcher2 = Searcher2(path_to_inverted_index=\"../storage/inverted_index.bin\",\n",
    "                    path_to_term_dictionary=\"../storage/term_dictionary.bin\",\n",
    "                   path_to_documents_registry=\"../storage/documents_registry.txt\")"
   ]
  },
  {
   "cell_type": "code",
   "execution_count": 408,
   "metadata": {
    "collapsed": false
   },
   "outputs": [
    {
     "name": "stdout",
     "output_type": "stream",
     "text": [
      "Путин & Медведев\n",
      "44\n",
      "http://lenta.ru/articles/2011/04/20/gryzlov/\n",
      "http://lenta.ru/news/2012/04/24/tax/\n",
      "http://lenta.ru/news/2013/12/03/serdukov1/\n",
      "http://lenta.ru/news/2013/05/28/livanov/\n",
      "http://lenta.ru/news/2013/10/10/sanctions/\n",
      "http://lenta.ru/articles/2013/01/17/oboronservis\n",
      "http://lenta.ru/news/2009/05/26/esn/\n",
      "http://lenta.ru/articles/2010/01/04/finalukraine/\n",
      "http://lenta.ru/articles/2013/09/10/tariffs/\n",
      "http://lenta.ru/online/2009/05/08/rususa/\n",
      "http://lenta.ru/news/2011/10/19/biggovt/\n",
      "http://lenta.ru/articles/2013/03/26/comingout\n",
      "http://lenta.ru/articles/2011/06/22/pns/\n",
      "http://lenta.ru/news/2015/10/15/otkaz/\n",
      "http://lenta.ru/articles/2008/12/31/finalblogs/\n",
      "http://lenta.ru/articles/2012/05/23/poet/\n",
      "http://lenta.ru/lib/14164283/full\n",
      "http://lenta.ru/articles/2008/06/03/baluevsky/\n",
      "http://lenta.ru/news/2014/04/01/minfin\n",
      "http://lenta.ru/news/2012/05/08/corrupt/\n",
      "http://lenta.ru/lib/14161216/full\n",
      "http://lenta.ru/news/2013/01/18/serdukov/\n",
      "http://lenta.ru/lib/14161450/\n",
      "http://lenta.ru/articles/2008/12/28/finalbusiness/\n",
      "http://lenta.ru/articles/2010/03/17/fsin/\n",
      "http://lenta.ru/news/2009/12/28/an124/\n",
      "http://lenta.ru/articles/2011/03/09/zoich/\n",
      "http://lenta.ru/articles/2010/03/30/review/\n",
      "http://lenta.ru/news/2013/12/06/yakemenko/\n",
      "http://lenta.ru/lib/14177192/\n",
      "http://lenta.ru/news/2009/11/17/badmedia/\n",
      "http://lenta.ru/articles/2012/09/12/doronina/\n",
      "http://lenta.ru/news/2010/11/01/firerecovery/\n",
      "http://lenta.ru/news/2007/12/10/support/\n",
      "http://lenta.ru/articles/2013/12/19/khodor/\n",
      "http://lenta.ru/news/2010/02/12/president1/\n",
      "http://lenta.ru/news/2010/12/17/luka/\n",
      "http://lenta.ru/articles/2009/03/24/gas/\n",
      "http://lenta.ru/conf/dkamyshev\n",
      "http://lenta.ru/lib/14179057/\n",
      "http://lenta.ru/articles/2012/05/18/menentzev/\n",
      "http://lenta.ru/news/2008/02/11/osce/\n",
      "http://lenta.ru/lib/14159417/full.htm\n",
      "http://lenta.ru/articles/2008/02/05/denomination/\n"
     ]
    }
   ],
   "source": [
    "g = searcher2.search(u\"Путин & Медведев\")"
   ]
  },
  {
   "cell_type": "code",
   "execution_count": 404,
   "metadata": {
    "collapsed": false
   },
   "outputs": [
    {
     "data": {
      "text/plain": [
       "2439"
      ]
     },
     "execution_count": 404,
     "metadata": {},
     "output_type": "execute_result"
    }
   ],
   "source": [
    "g.next()"
   ]
  },
  {
   "cell_type": "code",
   "execution_count": 372,
   "metadata": {
    "collapsed": false
   },
   "outputs": [
    {
     "name": "stdout",
     "output_type": "stream",
     "text": [
      "close file\n"
     ]
    }
   ],
   "source": [
    "m = searcher2.collect_terms_generators(u\"Путин & Медведев\")"
   ]
  },
  {
   "cell_type": "code",
   "execution_count": 374,
   "metadata": {
    "collapsed": false
   },
   "outputs": [
    {
     "data": {
      "text/plain": [
       "{u'\\u043c\\u0435\\u0434\\u0432\\u0435\\u0434\\u0435\\u0432': <generator object gen_cumsum at 0x10e27de60>,\n",
       " u'\\u043f\\u0443\\u0442\\u0438\\u043d': <generator object gen_cumsum at 0x10e27d5f0>}"
      ]
     },
     "execution_count": 374,
     "metadata": {},
     "output_type": "execute_result"
    }
   ],
   "source": [
    "m"
   ]
  },
  {
   "cell_type": "code",
   "execution_count": 375,
   "metadata": {
    "collapsed": false
   },
   "outputs": [],
   "source": [
    "g = m[u\"путин\"]"
   ]
  },
  {
   "cell_type": "code",
   "execution_count": 379,
   "metadata": {
    "collapsed": false
   },
   "outputs": [
    {
     "data": {
      "text/plain": [
       "115"
      ]
     },
     "execution_count": 379,
     "metadata": {},
     "output_type": "execute_result"
    }
   ],
   "source": [
    "g.next()"
   ]
  },
  {
   "cell_type": "code",
   "execution_count": 412,
   "metadata": {
    "collapsed": false
   },
   "outputs": [
    {
     "name": "stdout",
     "output_type": "stream",
     "text": [
      "гришин\n",
      "дуров\n",
      "дмитрий\n",
      "волож\n",
      "аркадий\n"
     ]
    }
   ],
   "source": [
    "rx = re.compile('([)(&!|])')\n",
    "for i in rx.sub(r'', u\"гришин) дуров ((дмитрий волож)) (аркадий\").split():\n",
    "    print i"
   ]
  },
  {
   "cell_type": "code",
   "execution_count": null,
   "metadata": {
    "collapsed": true
   },
   "outputs": [],
   "source": []
  }
 ],
 "metadata": {
  "kernelspec": {
   "display_name": "Python 2",
   "language": "python",
   "name": "python2"
  },
  "language_info": {
   "codemirror_mode": {
    "name": "ipython",
    "version": 2
   },
   "file_extension": ".py",
   "mimetype": "text/x-python",
   "name": "python",
   "nbconvert_exporter": "python",
   "pygments_lexer": "ipython2",
   "version": "2.7.10"
  }
 },
 "nbformat": 4,
 "nbformat_minor": 0
}
