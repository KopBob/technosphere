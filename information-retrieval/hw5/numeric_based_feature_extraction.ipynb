{
 "cells": [
  {
   "cell_type": "code",
   "execution_count": 1,
   "metadata": {
    "collapsed": false
   },
   "outputs": [],
   "source": [
    "%load_ext autoreload\n",
    "%autoreload 2\n",
    "%matplotlib inline"
   ]
  },
  {
   "cell_type": "code",
   "execution_count": null,
   "metadata": {
    "collapsed": true
   },
   "outputs": [],
   "source": []
  },
  {
   "cell_type": "code",
   "execution_count": 43,
   "metadata": {
    "collapsed": true
   },
   "outputs": [],
   "source": [
    "import sys\n",
    "import base64\n",
    "from collections import defaultdict"
   ]
  },
  {
   "cell_type": "code",
   "execution_count": 5,
   "metadata": {
    "collapsed": false
   },
   "outputs": [],
   "source": [
    "from antispam.html_parser import SpamHTMLParser\n",
    "from antispam.feature_extractor import HTMLDataExtractor, HTMLFeatureExtractor"
   ]
  },
  {
   "cell_type": "code",
   "execution_count": 6,
   "metadata": {
    "collapsed": true
   },
   "outputs": [],
   "source": [
    "DATA_FILE  = './data/train-set-ru-b64-utf-8.txt'"
   ]
  },
  {
   "cell_type": "code",
   "execution_count": null,
   "metadata": {
    "collapsed": true
   },
   "outputs": [],
   "source": [
    "# tags_global_stats - статистика об общем кол-ве использований тегов\n",
    "# tag_stats - статистикао о встречаемости тега"
   ]
  },
  {
   "cell_type": "code",
   "execution_count": null,
   "metadata": {
    "collapsed": true
   },
   "outputs": [],
   "source": [
    "\n",
    "\n",
    "tag_stats = {\n",
    "    \"0\": defaultdict(int),\n",
    "    \"1\": defaultdict(int)\n",
    "}\n",
    "\n",
    "def collect_tags_stats(label, data):\n",
    "    for key, items in data.iteritems():\n",
    "        tag_stats[str(label)][key] += 1"
   ]
  },
  {
   "cell_type": "code",
   "execution_count": null,
   "metadata": {
    "collapsed": true
   },
   "outputs": [],
   "source": [
    "tag_stats[\"0\"] = defaultdict(int)\n",
    "tag_stats[\"1\"] = defaultdict(int)"
   ]
  },
  {
   "cell_type": "code",
   "execution_count": 86,
   "metadata": {
    "collapsed": false
   },
   "outputs": [],
   "source": [
    "data = defaultdict(dict)"
   ]
  },
  {
   "cell_type": "code",
   "execution_count": 87,
   "metadata": {
    "collapsed": false,
    "scrolled": false
   },
   "outputs": [
    {
     "name": "stdout",
     "output_type": "stream",
     "text": [
      "7043"
     ]
    }
   ],
   "source": [
    "i_from=0\n",
    "\n",
    "with open(DATA_FILE) as df:\n",
    "    for i, line in enumerate(df):\n",
    "        if i < i_from:\n",
    "            continue\n",
    "            \n",
    "        line = line.strip()\n",
    "        parts = line.split()\n",
    "        \n",
    "        idx, mark, pageInb64, url = parts[0], int(parts[1]), parts[3], parts[2]\n",
    "        html = base64.b64decode(pageInb64).decode('utf-8')\n",
    "        \n",
    "#         print i, mark\n",
    "        \n",
    "        html_de = HTMLDataExtractor()\n",
    "        html_data = html_de.extract(html)\n",
    "        \n",
    "        html_fe = HTMLFeatureExtractor()\n",
    "        html_fe.extract(html_data)\n",
    "#         for key, value in html_fe.data.items(): \n",
    "#             print key\n",
    "#             for k, v in value.items():\n",
    "#                 if k == \"bodies\":\n",
    "#                     pass\n",
    "# #                     for b in v:\n",
    "# #                         print b\n",
    "#                 else:\n",
    "#                     print \"   \", k, v\n",
    "        data[i][\"features\"] = html_fe.features\n",
    "        data[i][\"url\"] = url\n",
    "        data[i][\"mark\"] = mark\n",
    "            \n",
    "        \n",
    "        \n",
    "        \n",
    "        \n",
    "#         collect_tags_stats(mark, html_fe.data)\n",
    "        \n",
    "        \n",
    "        sys.stdout.write('\\r' + \"%s\" % (i))\n",
    "        sys.stdout.flush()\n",
    "\n",
    "#         if i - i_from >= 10:\n",
    "#             break"
   ]
  },
  {
   "cell_type": "code",
   "execution_count": 88,
   "metadata": {
    "collapsed": true
   },
   "outputs": [],
   "source": [
    "import codecs"
   ]
  },
  {
   "cell_type": "code",
   "execution_count": 89,
   "metadata": {
    "collapsed": true
   },
   "outputs": [],
   "source": [
    "import json\n",
    "with codecs.open('result_without_stemming.json', 'w', 'utf-8') as fp:\n",
    "    json.dump(data, fp)"
   ]
  },
  {
   "cell_type": "code",
   "execution_count": 90,
   "metadata": {
    "collapsed": true
   },
   "outputs": [],
   "source": [
    "from sklearn.feature_extraction import DictVectorizer"
   ]
  },
  {
   "cell_type": "code",
   "execution_count": 91,
   "metadata": {
    "collapsed": false
   },
   "outputs": [],
   "source": [
    "Y = []\n",
    "D = []\n",
    "URLS = []\n",
    "for val in data.values():\n",
    "    D.append(val[\"features\"])\n",
    "    URLS.append(val[\"url\"])\n",
    "    Y.append(val[\"mark\"])"
   ]
  },
  {
   "cell_type": "code",
   "execution_count": 92,
   "metadata": {
    "collapsed": false
   },
   "outputs": [],
   "source": [
    "v = DictVectorizer(sparse=False)\n",
    "X = v.fit_transform(D)\n"
   ]
  },
  {
   "cell_type": "code",
   "execution_count": 93,
   "metadata": {
    "collapsed": false
   },
   "outputs": [],
   "source": [
    "import numpy as np"
   ]
  },
  {
   "cell_type": "code",
   "execution_count": 94,
   "metadata": {
    "collapsed": true
   },
   "outputs": [],
   "source": [
    "np.savez(\"extracted_features_without_stemming.file\", x = X, y=np.array(Y), f_names = np.array(v.feature_names_))"
   ]
  },
  {
   "cell_type": "code",
   "execution_count": null,
   "metadata": {
    "collapsed": true
   },
   "outputs": [],
   "source": []
  },
  {
   "cell_type": "code",
   "execution_count": 95,
   "metadata": {
    "collapsed": false
   },
   "outputs": [
    {
     "data": {
      "text/plain": [
       "[u'a_count',\n",
       " u'a_mean_words_count',\n",
       " u'a_ratio_of_total_text_to_compressed',\n",
       " u'a_ratio_of_total_to_unique_words_counts',\n",
       " u'abbr_count',\n",
       " u'abbr_mean_words_count',\n",
       " u'abbr_ratio_of_total_text_to_compressed',\n",
       " u'abbr_ratio_of_total_to_unique_words_counts',\n",
       " u'b_count',\n",
       " u'b_mean_words_count',\n",
       " u'b_ratio_of_total_text_to_compressed',\n",
       " u'b_ratio_of_total_to_unique_words_counts',\n",
       " u'big_count',\n",
       " u'big_mean_words_count',\n",
       " u'big_ratio_of_total_text_to_compressed',\n",
       " u'big_ratio_of_total_to_unique_words_counts',\n",
       " u'blockquote_count',\n",
       " u'blockquote_mean_words_count',\n",
       " u'blockquote_ratio_of_total_text_to_compressed',\n",
       " u'blockquote_ratio_of_total_to_unique_words_counts',\n",
       " u'cite_count',\n",
       " u'cite_mean_words_count',\n",
       " u'cite_ratio_of_total_text_to_compressed',\n",
       " u'cite_ratio_of_total_to_unique_words_counts',\n",
       " u'code_count',\n",
       " u'code_mean_words_count',\n",
       " u'code_ratio_of_total_text_to_compressed',\n",
       " u'code_ratio_of_total_to_unique_words_counts',\n",
       " u'dfn_count',\n",
       " u'dfn_mean_words_count',\n",
       " u'dfn_ratio_of_total_text_to_compressed',\n",
       " u'dfn_ratio_of_total_to_unique_words_counts',\n",
       " u'dt_count',\n",
       " u'dt_mean_words_count',\n",
       " u'dt_ratio_of_total_text_to_compressed',\n",
       " u'dt_ratio_of_total_to_unique_words_counts',\n",
       " u'em_count',\n",
       " u'em_mean_words_count',\n",
       " u'em_ratio_of_total_text_to_compressed',\n",
       " u'em_ratio_of_total_to_unique_words_counts',\n",
       " u'font_count',\n",
       " u'font_mean_words_count',\n",
       " u'font_ratio_of_total_text_to_compressed',\n",
       " u'font_ratio_of_total_to_unique_words_counts',\n",
       " u'h1_count',\n",
       " u'h1_mean_words_count',\n",
       " u'h1_ratio_of_total_text_to_compressed',\n",
       " u'h1_ratio_of_total_to_unique_words_counts',\n",
       " u'h2_count',\n",
       " u'h2_mean_words_count',\n",
       " u'h2_ratio_of_total_text_to_compressed',\n",
       " u'h2_ratio_of_total_to_unique_words_counts',\n",
       " u'h3_count',\n",
       " u'h3_mean_words_count',\n",
       " u'h3_ratio_of_total_text_to_compressed',\n",
       " u'h3_ratio_of_total_to_unique_words_counts',\n",
       " u'h4_count',\n",
       " u'h4_mean_words_count',\n",
       " u'h4_ratio_of_total_text_to_compressed',\n",
       " u'h4_ratio_of_total_to_unique_words_counts',\n",
       " u'h5_count',\n",
       " u'h5_mean_words_count',\n",
       " u'h5_ratio_of_total_text_to_compressed',\n",
       " u'h5_ratio_of_total_to_unique_words_counts',\n",
       " u'h6_count',\n",
       " u'h6_mean_words_count',\n",
       " u'h6_ratio_of_total_text_to_compressed',\n",
       " u'h6_ratio_of_total_to_unique_words_counts',\n",
       " u'header_count',\n",
       " u'header_mean_words_count',\n",
       " u'header_ratio_of_total_text_to_compressed',\n",
       " u'header_ratio_of_total_to_unique_words_counts',\n",
       " u'i_count',\n",
       " u'i_mean_words_count',\n",
       " u'i_ratio_of_total_text_to_compressed',\n",
       " u'i_ratio_of_total_to_unique_words_counts',\n",
       " u'ins_count',\n",
       " u'ins_mean_words_count',\n",
       " u'ins_ratio_of_total_text_to_compressed',\n",
       " u'ins_ratio_of_total_to_unique_words_counts',\n",
       " u'li_count',\n",
       " u'li_mean_words_count',\n",
       " u'li_ratio_of_total_text_to_compressed',\n",
       " u'li_ratio_of_total_to_unique_words_counts',\n",
       " u'ol_count',\n",
       " u'ol_mean_words_count',\n",
       " u'ol_ratio_of_total_text_to_compressed',\n",
       " u'ol_ratio_of_total_to_unique_words_counts',\n",
       " u'pre_count',\n",
       " u'pre_mean_words_count',\n",
       " u'pre_ratio_of_total_text_to_compressed',\n",
       " u'pre_ratio_of_total_to_unique_words_counts',\n",
       " 'ratio_of_ordinary_tags_count_to_special_tags',\n",
       " 'ratio_of_total_num_of_tags_to_empty_tags',\n",
       " 'ratio_of_total_text_to_compressed',\n",
       " 'ratio_of_words_count_in_tags_to_empty_tags',\n",
       " 'ratio_of_words_count_to_unique_words_count',\n",
       " u'section_count',\n",
       " u'section_mean_words_count',\n",
       " u'section_ratio_of_total_text_to_compressed',\n",
       " u'section_ratio_of_total_to_unique_words_counts',\n",
       " u'small_count',\n",
       " u'small_mean_words_count',\n",
       " u'small_ratio_of_total_text_to_compressed',\n",
       " u'small_ratio_of_total_to_unique_words_counts',\n",
       " u'strike_count',\n",
       " u'strike_mean_words_count',\n",
       " u'strike_ratio_of_total_text_to_compressed',\n",
       " u'strike_ratio_of_total_to_unique_words_counts',\n",
       " u'strong_count',\n",
       " u'strong_mean_words_count',\n",
       " u'strong_ratio_of_total_text_to_compressed',\n",
       " u'strong_ratio_of_total_to_unique_words_counts',\n",
       " u'style_count',\n",
       " u'style_mean_words_count',\n",
       " u'style_ratio_of_total_text_to_compressed',\n",
       " u'style_ratio_of_total_to_unique_words_counts',\n",
       " u'thead_count',\n",
       " u'thead_mean_words_count',\n",
       " u'thead_ratio_of_total_text_to_compressed',\n",
       " u'thead_ratio_of_total_to_unique_words_counts',\n",
       " u'title_count',\n",
       " u'title_mean_words_count',\n",
       " u'title_ratio_of_total_text_to_compressed',\n",
       " u'title_ratio_of_total_to_unique_words_counts',\n",
       " u'tt_count',\n",
       " u'tt_mean_words_count',\n",
       " u'tt_ratio_of_total_text_to_compressed',\n",
       " u'tt_ratio_of_total_to_unique_words_counts']"
      ]
     },
     "execution_count": 95,
     "metadata": {},
     "output_type": "execute_result"
    }
   ],
   "source": [
    "v.feature_names_"
   ]
  },
  {
   "cell_type": "code",
   "execution_count": null,
   "metadata": {
    "collapsed": true
   },
   "outputs": [],
   "source": []
  },
  {
   "cell_type": "code",
   "execution_count": null,
   "metadata": {
    "collapsed": true
   },
   "outputs": [],
   "source": []
  },
  {
   "cell_type": "code",
   "execution_count": null,
   "metadata": {
    "collapsed": true
   },
   "outputs": [],
   "source": [
    "import matplotlib.pyplot as plt"
   ]
  },
  {
   "cell_type": "code",
   "execution_count": null,
   "metadata": {
    "collapsed": true
   },
   "outputs": [],
   "source": [
    "import numpy as np"
   ]
  },
  {
   "cell_type": "code",
   "execution_count": null,
   "metadata": {
    "collapsed": false
   },
   "outputs": [],
   "source": [
    "common_tags = np.array(list(set(tag_stats[\"0\"].keys()) & set(tag_stats[\"1\"].keys())))"
   ]
  },
  {
   "cell_type": "code",
   "execution_count": null,
   "metadata": {
    "collapsed": false
   },
   "outputs": [],
   "source": [
    "common_tags"
   ]
  },
  {
   "cell_type": "code",
   "execution_count": null,
   "metadata": {
    "collapsed": true
   },
   "outputs": [],
   "source": [
    "spam = []\n",
    "nonspam = []\n",
    "for tag in common_tags:\n",
    "    spam.append(tag_stats[\"1\"][tag])\n",
    "    nonspam.append(tag_stats[\"0\"][tag])"
   ]
  },
  {
   "cell_type": "code",
   "execution_count": null,
   "metadata": {
    "collapsed": true
   },
   "outputs": [],
   "source": [
    "spam = np.array(spam)\n",
    "nonspam = np.array(nonspam)"
   ]
  },
  {
   "cell_type": "code",
   "execution_count": null,
   "metadata": {
    "collapsed": false
   },
   "outputs": [],
   "source": [
    "ratio = np.array(spam.astype(np.float) / (nonspam.astype(np.float) + 0.0001))"
   ]
  },
  {
   "cell_type": "code",
   "execution_count": null,
   "metadata": {
    "collapsed": true
   },
   "outputs": [],
   "source": [
    "sort_idx = np.argsort(ratio)"
   ]
  },
  {
   "cell_type": "code",
   "execution_count": null,
   "metadata": {
    "collapsed": false
   },
   "outputs": [],
   "source": []
  },
  {
   "cell_type": "code",
   "execution_count": null,
   "metadata": {
    "collapsed": false
   },
   "outputs": [],
   "source": [
    "plt.figure(figsize=(20, 20))\n",
    "\n",
    "ind = np.arange(len(common_tags))\n",
    "width = 1.0\n",
    "\n",
    "p1 = plt.barh(ind, spam[sort_idx], width, color='r')\n",
    "p2 = plt.barh(ind, nonspam[sort_idx], width, color='y', left=spam[sort_idx])\n",
    "\n",
    "\n",
    "plt.ylabel('Counts')\n",
    "plt.title('Tag counts')\n",
    "plt.yticks(ind + width/2., [\"%s(%2.2f)\" % (common_tags[sort_idx][i], ratio[sort_idx][i]) for i in range(len(common_tags))]);"
   ]
  },
  {
   "cell_type": "code",
   "execution_count": null,
   "metadata": {
    "collapsed": false
   },
   "outputs": [],
   "source": [
    "common_tags[sort_idx][ratio[sort_idx] >= 1.30]"
   ]
  },
  {
   "cell_type": "code",
   "execution_count": null,
   "metadata": {
    "collapsed": false
   },
   "outputs": [],
   "source": [
    "plt.figure(figsize=(20, 15))\n",
    "\n",
    "ind = np.arange(len(common_tags))\n",
    "width = 0.9\n",
    "\n",
    "p1 = plt.bar(ind, spam, width, color='r')\n",
    "p2 = plt.bar(ind, nonspam, width, color='y', bottom=spam)\n",
    "\n",
    "plt.ylabel('Counts')\n",
    "plt.title('Tag counts')\n",
    "plt.xticks(ind + width/2., common_tags,  rotation='vertical');"
   ]
  },
  {
   "cell_type": "code",
   "execution_count": null,
   "metadata": {
    "collapsed": true
   },
   "outputs": [],
   "source": []
  },
  {
   "cell_type": "code",
   "execution_count": null,
   "metadata": {
    "collapsed": false
   },
   "outputs": [],
   "source": []
  },
  {
   "cell_type": "code",
   "execution_count": null,
   "metadata": {
    "collapsed": false
   },
   "outputs": [],
   "source": [
    "for i, r in enumerate(ratio):\n",
    "    if r < 0.4:\n",
    "        print r, common_tags[i]"
   ]
  },
  {
   "cell_type": "code",
   "execution_count": null,
   "metadata": {
    "collapsed": false
   },
   "outputs": [],
   "source": [
    "for i, r in enumerate(ratio):\n",
    "    if r > 1.6:\n",
    "        print r, common_tags[i]"
   ]
  },
  {
   "cell_type": "code",
   "execution_count": null,
   "metadata": {
    "collapsed": true
   },
   "outputs": [],
   "source": []
  }
 ],
 "metadata": {
  "kernelspec": {
   "display_name": "Python 2",
   "language": "python",
   "name": "python2"
  },
  "language_info": {
   "codemirror_mode": {
    "name": "ipython",
    "version": 2
   },
   "file_extension": ".py",
   "mimetype": "text/x-python",
   "name": "python",
   "nbconvert_exporter": "python",
   "pygments_lexer": "ipython2",
   "version": "2.7.10"
  }
 },
 "nbformat": 4,
 "nbformat_minor": 0
}
