{
 "cells": [
  {
   "cell_type": "code",
   "execution_count": 119,
   "metadata": {
    "collapsed": false
   },
   "outputs": [
    {
     "name": "stdout",
     "output_type": "stream",
     "text": [
      "The autoreload extension is already loaded. To reload it, use:\n",
      "  %reload_ext autoreload\n"
     ]
    }
   ],
   "source": [
    "%load_ext autoreload\n",
    "%autoreload 2\n",
    "%matplotlib inline"
   ]
  },
  {
   "cell_type": "code",
   "execution_count": 120,
   "metadata": {
    "collapsed": true
   },
   "outputs": [],
   "source": [
    "import numpy as np\n",
    "from sklearn.ensemble import GradientBoostingClassifier, RandomForestClassifier\n",
    "from sklearn.cross_validation import train_test_split\n",
    "from sklearn.metrics import f1_score"
   ]
  },
  {
   "cell_type": "code",
   "execution_count": 133,
   "metadata": {
    "collapsed": true
   },
   "outputs": [],
   "source": [
    "data = np.load(\"./extracted_features_without_stemming.file.npz\")"
   ]
  },
  {
   "cell_type": "code",
   "execution_count": 134,
   "metadata": {
    "collapsed": true
   },
   "outputs": [],
   "source": [
    "X = data[\"x\"]\n",
    "y = data[\"y\"]"
   ]
  },
  {
   "cell_type": "code",
   "execution_count": 164,
   "metadata": {
    "collapsed": false
   },
   "outputs": [],
   "source": [
    "X_train, X_test, y_train, y_test = train_test_split(X, y,test_size=0.5, random_state=42)"
   ]
  },
  {
   "cell_type": "code",
   "execution_count": 165,
   "metadata": {
    "collapsed": false
   },
   "outputs": [
    {
     "data": {
      "text/plain": [
       "GradientBoostingClassifier(init=None, learning_rate=0.1, loss='deviance',\n",
       "              max_depth=5, max_features=None, max_leaf_nodes=None,\n",
       "              min_samples_leaf=1, min_samples_split=2,\n",
       "              min_weight_fraction_leaf=0.0, n_estimators=500,\n",
       "              random_state=None, subsample=1.0, verbose=0,\n",
       "              warm_start=False)"
      ]
     },
     "execution_count": 165,
     "metadata": {},
     "output_type": "execute_result"
    }
   ],
   "source": [
    "gbc = GradientBoostingClassifier(n_estimators=500, max_depth=5)\n",
    "gbc.fit(X_train, y_train)"
   ]
  },
  {
   "cell_type": "code",
   "execution_count": 166,
   "metadata": {
    "collapsed": false
   },
   "outputs": [
    {
     "data": {
      "text/plain": [
       "0.93339699212222482"
      ]
     },
     "execution_count": 166,
     "metadata": {},
     "output_type": "execute_result"
    }
   ],
   "source": [
    "y_pred = gbc.predict(X_test)\n",
    "f1_score(y_pred, y_test)"
   ]
  },
  {
   "cell_type": "code",
   "execution_count": 167,
   "metadata": {
    "collapsed": false
   },
   "outputs": [
    {
     "data": {
      "text/plain": [
       "['./antispam/models/gbc_model',\n",
       " './antispam/models/gbc_model_01.npy',\n",
       " './antispam/models/gbc_model_02.npy',\n",
       " './antispam/models/gbc_model_03.npy']"
      ]
     },
     "execution_count": 167,
     "metadata": {},
     "output_type": "execute_result"
    }
   ],
   "source": [
    "joblib.dump(gbc, \"./antispam/models/gbc_model\")"
   ]
  },
  {
   "cell_type": "code",
   "execution_count": 168,
   "metadata": {
    "collapsed": false
   },
   "outputs": [
    {
     "data": {
      "text/plain": [
       "RandomForestClassifier(bootstrap=True, class_weight=None, criterion='gini',\n",
       "            max_depth=None, max_features='auto', max_leaf_nodes=None,\n",
       "            min_samples_leaf=1, min_samples_split=2,\n",
       "            min_weight_fraction_leaf=0.0, n_estimators=100, n_jobs=1,\n",
       "            oob_score=False, random_state=None, verbose=0,\n",
       "            warm_start=False)"
      ]
     },
     "execution_count": 168,
     "metadata": {},
     "output_type": "execute_result"
    }
   ],
   "source": [
    "rfc = RandomForestClassifier(n_estimators=100)\n",
    "rfc.fit(X_train, y_train)"
   ]
  },
  {
   "cell_type": "code",
   "execution_count": 169,
   "metadata": {
    "collapsed": false
   },
   "outputs": [
    {
     "data": {
      "text/plain": [
       "0.93709638842382204"
      ]
     },
     "execution_count": 169,
     "metadata": {},
     "output_type": "execute_result"
    }
   ],
   "source": [
    "y_pred = rfc.predict(X_test)\n",
    "f1_score(y_pred, y_test)"
   ]
  },
  {
   "cell_type": "code",
   "execution_count": 170,
   "metadata": {
    "collapsed": false
   },
   "outputs": [
    {
     "data": {
      "text/plain": [
       "['./antispam/models/rfc_model',\n",
       " './antispam/models/rfc_model_01.npy',\n",
       " './antispam/models/rfc_model_02.npy',\n",
       " './antispam/models/rfc_model_03.npy',\n",
       " './antispam/models/rfc_model_04.npy',\n",
       " './antispam/models/rfc_model_05.npy',\n",
       " './antispam/models/rfc_model_06.npy',\n",
       " './antispam/models/rfc_model_07.npy',\n",
       " './antispam/models/rfc_model_08.npy',\n",
       " './antispam/models/rfc_model_09.npy',\n",
       " './antispam/models/rfc_model_10.npy',\n",
       " './antispam/models/rfc_model_11.npy',\n",
       " './antispam/models/rfc_model_12.npy',\n",
       " './antispam/models/rfc_model_13.npy',\n",
       " './antispam/models/rfc_model_14.npy',\n",
       " './antispam/models/rfc_model_15.npy',\n",
       " './antispam/models/rfc_model_16.npy',\n",
       " './antispam/models/rfc_model_17.npy',\n",
       " './antispam/models/rfc_model_18.npy',\n",
       " './antispam/models/rfc_model_19.npy',\n",
       " './antispam/models/rfc_model_20.npy',\n",
       " './antispam/models/rfc_model_21.npy',\n",
       " './antispam/models/rfc_model_22.npy',\n",
       " './antispam/models/rfc_model_23.npy',\n",
       " './antispam/models/rfc_model_24.npy',\n",
       " './antispam/models/rfc_model_25.npy',\n",
       " './antispam/models/rfc_model_26.npy',\n",
       " './antispam/models/rfc_model_27.npy',\n",
       " './antispam/models/rfc_model_28.npy',\n",
       " './antispam/models/rfc_model_29.npy',\n",
       " './antispam/models/rfc_model_30.npy',\n",
       " './antispam/models/rfc_model_31.npy',\n",
       " './antispam/models/rfc_model_32.npy',\n",
       " './antispam/models/rfc_model_33.npy',\n",
       " './antispam/models/rfc_model_34.npy',\n",
       " './antispam/models/rfc_model_35.npy',\n",
       " './antispam/models/rfc_model_36.npy',\n",
       " './antispam/models/rfc_model_37.npy',\n",
       " './antispam/models/rfc_model_38.npy',\n",
       " './antispam/models/rfc_model_39.npy',\n",
       " './antispam/models/rfc_model_40.npy',\n",
       " './antispam/models/rfc_model_41.npy',\n",
       " './antispam/models/rfc_model_42.npy',\n",
       " './antispam/models/rfc_model_43.npy',\n",
       " './antispam/models/rfc_model_44.npy',\n",
       " './antispam/models/rfc_model_45.npy',\n",
       " './antispam/models/rfc_model_46.npy',\n",
       " './antispam/models/rfc_model_47.npy',\n",
       " './antispam/models/rfc_model_48.npy',\n",
       " './antispam/models/rfc_model_49.npy',\n",
       " './antispam/models/rfc_model_50.npy',\n",
       " './antispam/models/rfc_model_51.npy',\n",
       " './antispam/models/rfc_model_52.npy',\n",
       " './antispam/models/rfc_model_53.npy',\n",
       " './antispam/models/rfc_model_54.npy',\n",
       " './antispam/models/rfc_model_55.npy',\n",
       " './antispam/models/rfc_model_56.npy',\n",
       " './antispam/models/rfc_model_57.npy',\n",
       " './antispam/models/rfc_model_58.npy',\n",
       " './antispam/models/rfc_model_59.npy',\n",
       " './antispam/models/rfc_model_60.npy',\n",
       " './antispam/models/rfc_model_61.npy',\n",
       " './antispam/models/rfc_model_62.npy',\n",
       " './antispam/models/rfc_model_63.npy',\n",
       " './antispam/models/rfc_model_64.npy',\n",
       " './antispam/models/rfc_model_65.npy',\n",
       " './antispam/models/rfc_model_66.npy',\n",
       " './antispam/models/rfc_model_67.npy',\n",
       " './antispam/models/rfc_model_68.npy',\n",
       " './antispam/models/rfc_model_69.npy',\n",
       " './antispam/models/rfc_model_70.npy',\n",
       " './antispam/models/rfc_model_71.npy',\n",
       " './antispam/models/rfc_model_72.npy',\n",
       " './antispam/models/rfc_model_73.npy',\n",
       " './antispam/models/rfc_model_74.npy',\n",
       " './antispam/models/rfc_model_75.npy',\n",
       " './antispam/models/rfc_model_76.npy',\n",
       " './antispam/models/rfc_model_77.npy',\n",
       " './antispam/models/rfc_model_78.npy',\n",
       " './antispam/models/rfc_model_79.npy',\n",
       " './antispam/models/rfc_model_80.npy',\n",
       " './antispam/models/rfc_model_81.npy',\n",
       " './antispam/models/rfc_model_82.npy',\n",
       " './antispam/models/rfc_model_83.npy',\n",
       " './antispam/models/rfc_model_84.npy',\n",
       " './antispam/models/rfc_model_85.npy',\n",
       " './antispam/models/rfc_model_86.npy',\n",
       " './antispam/models/rfc_model_87.npy',\n",
       " './antispam/models/rfc_model_88.npy',\n",
       " './antispam/models/rfc_model_89.npy',\n",
       " './antispam/models/rfc_model_90.npy',\n",
       " './antispam/models/rfc_model_91.npy',\n",
       " './antispam/models/rfc_model_92.npy',\n",
       " './antispam/models/rfc_model_93.npy',\n",
       " './antispam/models/rfc_model_94.npy',\n",
       " './antispam/models/rfc_model_95.npy',\n",
       " './antispam/models/rfc_model_96.npy',\n",
       " './antispam/models/rfc_model_97.npy',\n",
       " './antispam/models/rfc_model_98.npy',\n",
       " './antispam/models/rfc_model_99.npy',\n",
       " './antispam/models/rfc_model_100.npy',\n",
       " './antispam/models/rfc_model_101.npy',\n",
       " './antispam/models/rfc_model_102.npy',\n",
       " './antispam/models/rfc_model_103.npy',\n",
       " './antispam/models/rfc_model_104.npy',\n",
       " './antispam/models/rfc_model_105.npy',\n",
       " './antispam/models/rfc_model_106.npy',\n",
       " './antispam/models/rfc_model_107.npy',\n",
       " './antispam/models/rfc_model_108.npy',\n",
       " './antispam/models/rfc_model_109.npy',\n",
       " './antispam/models/rfc_model_110.npy',\n",
       " './antispam/models/rfc_model_111.npy',\n",
       " './antispam/models/rfc_model_112.npy',\n",
       " './antispam/models/rfc_model_113.npy',\n",
       " './antispam/models/rfc_model_114.npy',\n",
       " './antispam/models/rfc_model_115.npy',\n",
       " './antispam/models/rfc_model_116.npy',\n",
       " './antispam/models/rfc_model_117.npy',\n",
       " './antispam/models/rfc_model_118.npy',\n",
       " './antispam/models/rfc_model_119.npy',\n",
       " './antispam/models/rfc_model_120.npy',\n",
       " './antispam/models/rfc_model_121.npy',\n",
       " './antispam/models/rfc_model_122.npy',\n",
       " './antispam/models/rfc_model_123.npy',\n",
       " './antispam/models/rfc_model_124.npy',\n",
       " './antispam/models/rfc_model_125.npy',\n",
       " './antispam/models/rfc_model_126.npy',\n",
       " './antispam/models/rfc_model_127.npy',\n",
       " './antispam/models/rfc_model_128.npy',\n",
       " './antispam/models/rfc_model_129.npy',\n",
       " './antispam/models/rfc_model_130.npy',\n",
       " './antispam/models/rfc_model_131.npy',\n",
       " './antispam/models/rfc_model_132.npy',\n",
       " './antispam/models/rfc_model_133.npy',\n",
       " './antispam/models/rfc_model_134.npy',\n",
       " './antispam/models/rfc_model_135.npy',\n",
       " './antispam/models/rfc_model_136.npy',\n",
       " './antispam/models/rfc_model_137.npy',\n",
       " './antispam/models/rfc_model_138.npy',\n",
       " './antispam/models/rfc_model_139.npy',\n",
       " './antispam/models/rfc_model_140.npy',\n",
       " './antispam/models/rfc_model_141.npy',\n",
       " './antispam/models/rfc_model_142.npy',\n",
       " './antispam/models/rfc_model_143.npy',\n",
       " './antispam/models/rfc_model_144.npy',\n",
       " './antispam/models/rfc_model_145.npy',\n",
       " './antispam/models/rfc_model_146.npy',\n",
       " './antispam/models/rfc_model_147.npy',\n",
       " './antispam/models/rfc_model_148.npy',\n",
       " './antispam/models/rfc_model_149.npy',\n",
       " './antispam/models/rfc_model_150.npy',\n",
       " './antispam/models/rfc_model_151.npy',\n",
       " './antispam/models/rfc_model_152.npy',\n",
       " './antispam/models/rfc_model_153.npy',\n",
       " './antispam/models/rfc_model_154.npy',\n",
       " './antispam/models/rfc_model_155.npy',\n",
       " './antispam/models/rfc_model_156.npy',\n",
       " './antispam/models/rfc_model_157.npy',\n",
       " './antispam/models/rfc_model_158.npy',\n",
       " './antispam/models/rfc_model_159.npy',\n",
       " './antispam/models/rfc_model_160.npy',\n",
       " './antispam/models/rfc_model_161.npy',\n",
       " './antispam/models/rfc_model_162.npy',\n",
       " './antispam/models/rfc_model_163.npy',\n",
       " './antispam/models/rfc_model_164.npy',\n",
       " './antispam/models/rfc_model_165.npy',\n",
       " './antispam/models/rfc_model_166.npy',\n",
       " './antispam/models/rfc_model_167.npy',\n",
       " './antispam/models/rfc_model_168.npy',\n",
       " './antispam/models/rfc_model_169.npy',\n",
       " './antispam/models/rfc_model_170.npy',\n",
       " './antispam/models/rfc_model_171.npy',\n",
       " './antispam/models/rfc_model_172.npy',\n",
       " './antispam/models/rfc_model_173.npy',\n",
       " './antispam/models/rfc_model_174.npy',\n",
       " './antispam/models/rfc_model_175.npy',\n",
       " './antispam/models/rfc_model_176.npy',\n",
       " './antispam/models/rfc_model_177.npy',\n",
       " './antispam/models/rfc_model_178.npy',\n",
       " './antispam/models/rfc_model_179.npy',\n",
       " './antispam/models/rfc_model_180.npy',\n",
       " './antispam/models/rfc_model_181.npy',\n",
       " './antispam/models/rfc_model_182.npy',\n",
       " './antispam/models/rfc_model_183.npy',\n",
       " './antispam/models/rfc_model_184.npy',\n",
       " './antispam/models/rfc_model_185.npy',\n",
       " './antispam/models/rfc_model_186.npy',\n",
       " './antispam/models/rfc_model_187.npy',\n",
       " './antispam/models/rfc_model_188.npy',\n",
       " './antispam/models/rfc_model_189.npy',\n",
       " './antispam/models/rfc_model_190.npy',\n",
       " './antispam/models/rfc_model_191.npy',\n",
       " './antispam/models/rfc_model_192.npy',\n",
       " './antispam/models/rfc_model_193.npy',\n",
       " './antispam/models/rfc_model_194.npy',\n",
       " './antispam/models/rfc_model_195.npy',\n",
       " './antispam/models/rfc_model_196.npy',\n",
       " './antispam/models/rfc_model_197.npy',\n",
       " './antispam/models/rfc_model_198.npy',\n",
       " './antispam/models/rfc_model_199.npy',\n",
       " './antispam/models/rfc_model_200.npy',\n",
       " './antispam/models/rfc_model_201.npy',\n",
       " './antispam/models/rfc_model_202.npy',\n",
       " './antispam/models/rfc_model_203.npy',\n",
       " './antispam/models/rfc_model_204.npy',\n",
       " './antispam/models/rfc_model_205.npy',\n",
       " './antispam/models/rfc_model_206.npy',\n",
       " './antispam/models/rfc_model_207.npy',\n",
       " './antispam/models/rfc_model_208.npy',\n",
       " './antispam/models/rfc_model_209.npy',\n",
       " './antispam/models/rfc_model_210.npy',\n",
       " './antispam/models/rfc_model_211.npy',\n",
       " './antispam/models/rfc_model_212.npy',\n",
       " './antispam/models/rfc_model_213.npy',\n",
       " './antispam/models/rfc_model_214.npy',\n",
       " './antispam/models/rfc_model_215.npy',\n",
       " './antispam/models/rfc_model_216.npy',\n",
       " './antispam/models/rfc_model_217.npy',\n",
       " './antispam/models/rfc_model_218.npy',\n",
       " './antispam/models/rfc_model_219.npy',\n",
       " './antispam/models/rfc_model_220.npy',\n",
       " './antispam/models/rfc_model_221.npy',\n",
       " './antispam/models/rfc_model_222.npy',\n",
       " './antispam/models/rfc_model_223.npy',\n",
       " './antispam/models/rfc_model_224.npy',\n",
       " './antispam/models/rfc_model_225.npy',\n",
       " './antispam/models/rfc_model_226.npy',\n",
       " './antispam/models/rfc_model_227.npy',\n",
       " './antispam/models/rfc_model_228.npy',\n",
       " './antispam/models/rfc_model_229.npy',\n",
       " './antispam/models/rfc_model_230.npy',\n",
       " './antispam/models/rfc_model_231.npy',\n",
       " './antispam/models/rfc_model_232.npy',\n",
       " './antispam/models/rfc_model_233.npy',\n",
       " './antispam/models/rfc_model_234.npy',\n",
       " './antispam/models/rfc_model_235.npy',\n",
       " './antispam/models/rfc_model_236.npy',\n",
       " './antispam/models/rfc_model_237.npy',\n",
       " './antispam/models/rfc_model_238.npy',\n",
       " './antispam/models/rfc_model_239.npy',\n",
       " './antispam/models/rfc_model_240.npy',\n",
       " './antispam/models/rfc_model_241.npy',\n",
       " './antispam/models/rfc_model_242.npy',\n",
       " './antispam/models/rfc_model_243.npy',\n",
       " './antispam/models/rfc_model_244.npy',\n",
       " './antispam/models/rfc_model_245.npy',\n",
       " './antispam/models/rfc_model_246.npy',\n",
       " './antispam/models/rfc_model_247.npy',\n",
       " './antispam/models/rfc_model_248.npy',\n",
       " './antispam/models/rfc_model_249.npy',\n",
       " './antispam/models/rfc_model_250.npy',\n",
       " './antispam/models/rfc_model_251.npy',\n",
       " './antispam/models/rfc_model_252.npy',\n",
       " './antispam/models/rfc_model_253.npy',\n",
       " './antispam/models/rfc_model_254.npy',\n",
       " './antispam/models/rfc_model_255.npy',\n",
       " './antispam/models/rfc_model_256.npy',\n",
       " './antispam/models/rfc_model_257.npy',\n",
       " './antispam/models/rfc_model_258.npy',\n",
       " './antispam/models/rfc_model_259.npy',\n",
       " './antispam/models/rfc_model_260.npy',\n",
       " './antispam/models/rfc_model_261.npy',\n",
       " './antispam/models/rfc_model_262.npy',\n",
       " './antispam/models/rfc_model_263.npy',\n",
       " './antispam/models/rfc_model_264.npy',\n",
       " './antispam/models/rfc_model_265.npy',\n",
       " './antispam/models/rfc_model_266.npy',\n",
       " './antispam/models/rfc_model_267.npy',\n",
       " './antispam/models/rfc_model_268.npy',\n",
       " './antispam/models/rfc_model_269.npy',\n",
       " './antispam/models/rfc_model_270.npy',\n",
       " './antispam/models/rfc_model_271.npy',\n",
       " './antispam/models/rfc_model_272.npy',\n",
       " './antispam/models/rfc_model_273.npy',\n",
       " './antispam/models/rfc_model_274.npy',\n",
       " './antispam/models/rfc_model_275.npy',\n",
       " './antispam/models/rfc_model_276.npy',\n",
       " './antispam/models/rfc_model_277.npy',\n",
       " './antispam/models/rfc_model_278.npy',\n",
       " './antispam/models/rfc_model_279.npy',\n",
       " './antispam/models/rfc_model_280.npy',\n",
       " './antispam/models/rfc_model_281.npy',\n",
       " './antispam/models/rfc_model_282.npy',\n",
       " './antispam/models/rfc_model_283.npy',\n",
       " './antispam/models/rfc_model_284.npy',\n",
       " './antispam/models/rfc_model_285.npy',\n",
       " './antispam/models/rfc_model_286.npy',\n",
       " './antispam/models/rfc_model_287.npy',\n",
       " './antispam/models/rfc_model_288.npy',\n",
       " './antispam/models/rfc_model_289.npy',\n",
       " './antispam/models/rfc_model_290.npy',\n",
       " './antispam/models/rfc_model_291.npy',\n",
       " './antispam/models/rfc_model_292.npy',\n",
       " './antispam/models/rfc_model_293.npy',\n",
       " './antispam/models/rfc_model_294.npy',\n",
       " './antispam/models/rfc_model_295.npy',\n",
       " './antispam/models/rfc_model_296.npy',\n",
       " './antispam/models/rfc_model_297.npy',\n",
       " './antispam/models/rfc_model_298.npy',\n",
       " './antispam/models/rfc_model_299.npy',\n",
       " './antispam/models/rfc_model_300.npy',\n",
       " './antispam/models/rfc_model_301.npy',\n",
       " './antispam/models/rfc_model_302.npy',\n",
       " './antispam/models/rfc_model_303.npy',\n",
       " './antispam/models/rfc_model_304.npy',\n",
       " './antispam/models/rfc_model_305.npy',\n",
       " './antispam/models/rfc_model_306.npy',\n",
       " './antispam/models/rfc_model_307.npy',\n",
       " './antispam/models/rfc_model_308.npy',\n",
       " './antispam/models/rfc_model_309.npy',\n",
       " './antispam/models/rfc_model_310.npy',\n",
       " './antispam/models/rfc_model_311.npy',\n",
       " './antispam/models/rfc_model_312.npy',\n",
       " './antispam/models/rfc_model_313.npy',\n",
       " './antispam/models/rfc_model_314.npy',\n",
       " './antispam/models/rfc_model_315.npy',\n",
       " './antispam/models/rfc_model_316.npy',\n",
       " './antispam/models/rfc_model_317.npy',\n",
       " './antispam/models/rfc_model_318.npy',\n",
       " './antispam/models/rfc_model_319.npy',\n",
       " './antispam/models/rfc_model_320.npy',\n",
       " './antispam/models/rfc_model_321.npy',\n",
       " './antispam/models/rfc_model_322.npy',\n",
       " './antispam/models/rfc_model_323.npy',\n",
       " './antispam/models/rfc_model_324.npy',\n",
       " './antispam/models/rfc_model_325.npy',\n",
       " './antispam/models/rfc_model_326.npy',\n",
       " './antispam/models/rfc_model_327.npy',\n",
       " './antispam/models/rfc_model_328.npy',\n",
       " './antispam/models/rfc_model_329.npy',\n",
       " './antispam/models/rfc_model_330.npy',\n",
       " './antispam/models/rfc_model_331.npy',\n",
       " './antispam/models/rfc_model_332.npy',\n",
       " './antispam/models/rfc_model_333.npy',\n",
       " './antispam/models/rfc_model_334.npy',\n",
       " './antispam/models/rfc_model_335.npy',\n",
       " './antispam/models/rfc_model_336.npy',\n",
       " './antispam/models/rfc_model_337.npy',\n",
       " './antispam/models/rfc_model_338.npy',\n",
       " './antispam/models/rfc_model_339.npy',\n",
       " './antispam/models/rfc_model_340.npy',\n",
       " './antispam/models/rfc_model_341.npy',\n",
       " './antispam/models/rfc_model_342.npy',\n",
       " './antispam/models/rfc_model_343.npy',\n",
       " './antispam/models/rfc_model_344.npy',\n",
       " './antispam/models/rfc_model_345.npy',\n",
       " './antispam/models/rfc_model_346.npy',\n",
       " './antispam/models/rfc_model_347.npy',\n",
       " './antispam/models/rfc_model_348.npy',\n",
       " './antispam/models/rfc_model_349.npy',\n",
       " './antispam/models/rfc_model_350.npy',\n",
       " './antispam/models/rfc_model_351.npy',\n",
       " './antispam/models/rfc_model_352.npy',\n",
       " './antispam/models/rfc_model_353.npy',\n",
       " './antispam/models/rfc_model_354.npy',\n",
       " './antispam/models/rfc_model_355.npy',\n",
       " './antispam/models/rfc_model_356.npy',\n",
       " './antispam/models/rfc_model_357.npy',\n",
       " './antispam/models/rfc_model_358.npy',\n",
       " './antispam/models/rfc_model_359.npy',\n",
       " './antispam/models/rfc_model_360.npy',\n",
       " './antispam/models/rfc_model_361.npy',\n",
       " './antispam/models/rfc_model_362.npy',\n",
       " './antispam/models/rfc_model_363.npy',\n",
       " './antispam/models/rfc_model_364.npy',\n",
       " './antispam/models/rfc_model_365.npy',\n",
       " './antispam/models/rfc_model_366.npy',\n",
       " './antispam/models/rfc_model_367.npy',\n",
       " './antispam/models/rfc_model_368.npy',\n",
       " './antispam/models/rfc_model_369.npy',\n",
       " './antispam/models/rfc_model_370.npy',\n",
       " './antispam/models/rfc_model_371.npy',\n",
       " './antispam/models/rfc_model_372.npy',\n",
       " './antispam/models/rfc_model_373.npy',\n",
       " './antispam/models/rfc_model_374.npy',\n",
       " './antispam/models/rfc_model_375.npy',\n",
       " './antispam/models/rfc_model_376.npy',\n",
       " './antispam/models/rfc_model_377.npy',\n",
       " './antispam/models/rfc_model_378.npy',\n",
       " './antispam/models/rfc_model_379.npy',\n",
       " './antispam/models/rfc_model_380.npy',\n",
       " './antispam/models/rfc_model_381.npy',\n",
       " './antispam/models/rfc_model_382.npy',\n",
       " './antispam/models/rfc_model_383.npy',\n",
       " './antispam/models/rfc_model_384.npy',\n",
       " './antispam/models/rfc_model_385.npy',\n",
       " './antispam/models/rfc_model_386.npy',\n",
       " './antispam/models/rfc_model_387.npy',\n",
       " './antispam/models/rfc_model_388.npy',\n",
       " './antispam/models/rfc_model_389.npy',\n",
       " './antispam/models/rfc_model_390.npy',\n",
       " './antispam/models/rfc_model_391.npy',\n",
       " './antispam/models/rfc_model_392.npy',\n",
       " './antispam/models/rfc_model_393.npy',\n",
       " './antispam/models/rfc_model_394.npy',\n",
       " './antispam/models/rfc_model_395.npy',\n",
       " './antispam/models/rfc_model_396.npy',\n",
       " './antispam/models/rfc_model_397.npy',\n",
       " './antispam/models/rfc_model_398.npy',\n",
       " './antispam/models/rfc_model_399.npy',\n",
       " './antispam/models/rfc_model_400.npy',\n",
       " './antispam/models/rfc_model_401.npy',\n",
       " './antispam/models/rfc_model_402.npy',\n",
       " './antispam/models/rfc_model_403.npy',\n",
       " './antispam/models/rfc_model_404.npy',\n",
       " './antispam/models/rfc_model_405.npy',\n",
       " './antispam/models/rfc_model_406.npy',\n",
       " './antispam/models/rfc_model_407.npy',\n",
       " './antispam/models/rfc_model_408.npy',\n",
       " './antispam/models/rfc_model_409.npy',\n",
       " './antispam/models/rfc_model_410.npy',\n",
       " './antispam/models/rfc_model_411.npy',\n",
       " './antispam/models/rfc_model_412.npy',\n",
       " './antispam/models/rfc_model_413.npy',\n",
       " './antispam/models/rfc_model_414.npy',\n",
       " './antispam/models/rfc_model_415.npy',\n",
       " './antispam/models/rfc_model_416.npy',\n",
       " './antispam/models/rfc_model_417.npy',\n",
       " './antispam/models/rfc_model_418.npy',\n",
       " './antispam/models/rfc_model_419.npy',\n",
       " './antispam/models/rfc_model_420.npy',\n",
       " './antispam/models/rfc_model_421.npy',\n",
       " './antispam/models/rfc_model_422.npy',\n",
       " './antispam/models/rfc_model_423.npy',\n",
       " './antispam/models/rfc_model_424.npy',\n",
       " './antispam/models/rfc_model_425.npy',\n",
       " './antispam/models/rfc_model_426.npy',\n",
       " './antispam/models/rfc_model_427.npy',\n",
       " './antispam/models/rfc_model_428.npy',\n",
       " './antispam/models/rfc_model_429.npy',\n",
       " './antispam/models/rfc_model_430.npy',\n",
       " './antispam/models/rfc_model_431.npy',\n",
       " './antispam/models/rfc_model_432.npy',\n",
       " './antispam/models/rfc_model_433.npy',\n",
       " './antispam/models/rfc_model_434.npy',\n",
       " './antispam/models/rfc_model_435.npy',\n",
       " './antispam/models/rfc_model_436.npy',\n",
       " './antispam/models/rfc_model_437.npy',\n",
       " './antispam/models/rfc_model_438.npy',\n",
       " './antispam/models/rfc_model_439.npy',\n",
       " './antispam/models/rfc_model_440.npy',\n",
       " './antispam/models/rfc_model_441.npy',\n",
       " './antispam/models/rfc_model_442.npy',\n",
       " './antispam/models/rfc_model_443.npy',\n",
       " './antispam/models/rfc_model_444.npy',\n",
       " './antispam/models/rfc_model_445.npy',\n",
       " './antispam/models/rfc_model_446.npy',\n",
       " './antispam/models/rfc_model_447.npy',\n",
       " './antispam/models/rfc_model_448.npy',\n",
       " './antispam/models/rfc_model_449.npy',\n",
       " './antispam/models/rfc_model_450.npy',\n",
       " './antispam/models/rfc_model_451.npy',\n",
       " './antispam/models/rfc_model_452.npy',\n",
       " './antispam/models/rfc_model_453.npy',\n",
       " './antispam/models/rfc_model_454.npy',\n",
       " './antispam/models/rfc_model_455.npy',\n",
       " './antispam/models/rfc_model_456.npy',\n",
       " './antispam/models/rfc_model_457.npy',\n",
       " './antispam/models/rfc_model_458.npy',\n",
       " './antispam/models/rfc_model_459.npy',\n",
       " './antispam/models/rfc_model_460.npy',\n",
       " './antispam/models/rfc_model_461.npy',\n",
       " './antispam/models/rfc_model_462.npy',\n",
       " './antispam/models/rfc_model_463.npy',\n",
       " './antispam/models/rfc_model_464.npy',\n",
       " './antispam/models/rfc_model_465.npy',\n",
       " './antispam/models/rfc_model_466.npy',\n",
       " './antispam/models/rfc_model_467.npy',\n",
       " './antispam/models/rfc_model_468.npy',\n",
       " './antispam/models/rfc_model_469.npy',\n",
       " './antispam/models/rfc_model_470.npy',\n",
       " './antispam/models/rfc_model_471.npy',\n",
       " './antispam/models/rfc_model_472.npy',\n",
       " './antispam/models/rfc_model_473.npy',\n",
       " './antispam/models/rfc_model_474.npy',\n",
       " './antispam/models/rfc_model_475.npy',\n",
       " './antispam/models/rfc_model_476.npy',\n",
       " './antispam/models/rfc_model_477.npy',\n",
       " './antispam/models/rfc_model_478.npy',\n",
       " './antispam/models/rfc_model_479.npy',\n",
       " './antispam/models/rfc_model_480.npy',\n",
       " './antispam/models/rfc_model_481.npy',\n",
       " './antispam/models/rfc_model_482.npy',\n",
       " './antispam/models/rfc_model_483.npy',\n",
       " './antispam/models/rfc_model_484.npy',\n",
       " './antispam/models/rfc_model_485.npy',\n",
       " './antispam/models/rfc_model_486.npy',\n",
       " './antispam/models/rfc_model_487.npy',\n",
       " './antispam/models/rfc_model_488.npy',\n",
       " './antispam/models/rfc_model_489.npy',\n",
       " './antispam/models/rfc_model_490.npy',\n",
       " './antispam/models/rfc_model_491.npy',\n",
       " './antispam/models/rfc_model_492.npy',\n",
       " './antispam/models/rfc_model_493.npy',\n",
       " './antispam/models/rfc_model_494.npy',\n",
       " './antispam/models/rfc_model_495.npy',\n",
       " './antispam/models/rfc_model_496.npy',\n",
       " './antispam/models/rfc_model_497.npy',\n",
       " './antispam/models/rfc_model_498.npy',\n",
       " './antispam/models/rfc_model_499.npy',\n",
       " './antispam/models/rfc_model_500.npy',\n",
       " './antispam/models/rfc_model_501.npy']"
      ]
     },
     "execution_count": 170,
     "metadata": {},
     "output_type": "execute_result"
    }
   ],
   "source": [
    "joblib.dump(rfc, \"./antispam/models/rfc_model\")"
   ]
  },
  {
   "cell_type": "code",
   "execution_count": 78,
   "metadata": {
    "collapsed": false
   },
   "outputs": [],
   "source": [
    "from sklearn.externals import joblib\n",
    "\n",
    "# joblib.dump(rfc, \"./antispam/models/rfc_model\")"
   ]
  },
  {
   "cell_type": "code",
   "execution_count": 79,
   "metadata": {
    "collapsed": true
   },
   "outputs": [],
   "source": [
    "from sklearn.svm import SVC"
   ]
  },
  {
   "cell_type": "code",
   "execution_count": 102,
   "metadata": {
    "collapsed": false
   },
   "outputs": [
    {
     "data": {
      "text/plain": [
       "SVC(C=0.001, cache_size=200, class_weight=None, coef0=0.0, degree=3,\n",
       "  gamma=0.0, kernel='rbf', max_iter=-1, probability=False,\n",
       "  random_state=None, shrinking=True, tol=0.001, verbose=False)"
      ]
     },
     "execution_count": 102,
     "metadata": {},
     "output_type": "execute_result"
    }
   ],
   "source": [
    "svc = SVC(C=0.001, )\n",
    "svc.fit(normalize(X_train), y_train)"
   ]
  },
  {
   "cell_type": "code",
   "execution_count": 103,
   "metadata": {
    "collapsed": false
   },
   "outputs": [
    {
     "data": {
      "text/plain": [
       "0.74290348742903489"
      ]
     },
     "execution_count": 103,
     "metadata": {},
     "output_type": "execute_result"
    }
   ],
   "source": [
    "y_pred = svc.predict(normalize(X_test))\n",
    "f1_score(y_pred, y_test)"
   ]
  },
  {
   "cell_type": "code",
   "execution_count": null,
   "metadata": {
    "collapsed": true
   },
   "outputs": [],
   "source": []
  },
  {
   "cell_type": "code",
   "execution_count": 88,
   "metadata": {
    "collapsed": true
   },
   "outputs": [],
   "source": [
    "from sklearn.neighbors import KNeighborsClassifier"
   ]
  },
  {
   "cell_type": "code",
   "execution_count": 99,
   "metadata": {
    "collapsed": true
   },
   "outputs": [],
   "source": [
    "from sklearn.preprocessing import normalize"
   ]
  },
  {
   "cell_type": "code",
   "execution_count": 100,
   "metadata": {
    "collapsed": false
   },
   "outputs": [
    {
     "data": {
      "text/plain": [
       "KNeighborsClassifier(algorithm='auto', leaf_size=30, metric='minkowski',\n",
       "           metric_params=None, n_neighbors=200, p=2, weights='uniform')"
      ]
     },
     "execution_count": 100,
     "metadata": {},
     "output_type": "execute_result"
    }
   ],
   "source": [
    "knnc = KNeighborsClassifier(n_neighbors=200)\n",
    "knnc.fit(normalize(X_train), y_train)"
   ]
  },
  {
   "cell_type": "code",
   "execution_count": 101,
   "metadata": {
    "collapsed": false
   },
   "outputs": [
    {
     "data": {
      "text/plain": [
       "0.73478421246772407"
      ]
     },
     "execution_count": 101,
     "metadata": {},
     "output_type": "execute_result"
    }
   ],
   "source": [
    "y_pred = knnc.predict(normalize(X_test))\n",
    "f1_score(y_pred, y_test)"
   ]
  },
  {
   "cell_type": "code",
   "execution_count": null,
   "metadata": {
    "collapsed": true
   },
   "outputs": [],
   "source": []
  },
  {
   "cell_type": "code",
   "execution_count": 106,
   "metadata": {
    "collapsed": true
   },
   "outputs": [],
   "source": [
    "from sklearn.svm import LinearSVR"
   ]
  },
  {
   "cell_type": "code",
   "execution_count": null,
   "metadata": {
    "collapsed": true
   },
   "outputs": [],
   "source": []
  }
 ],
 "metadata": {
  "kernelspec": {
   "display_name": "Python 2",
   "language": "python",
   "name": "python2"
  },
  "language_info": {
   "codemirror_mode": {
    "name": "ipython",
    "version": 2
   },
   "file_extension": ".py",
   "mimetype": "text/x-python",
   "name": "python",
   "nbconvert_exporter": "python",
   "pygments_lexer": "ipython2",
   "version": "2.7.10"
  }
 },
 "nbformat": 4,
 "nbformat_minor": 0
}
