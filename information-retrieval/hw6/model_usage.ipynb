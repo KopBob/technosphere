{
 "cells": [
  {
   "cell_type": "code",
   "execution_count": 1,
   "metadata": {
    "collapsed": true
   },
   "outputs": [],
   "source": [
    "%load_ext autoreload\n",
    "%autoreload 2\n",
    "%matplotlib inline"
   ]
  },
  {
   "cell_type": "code",
   "execution_count": 2,
   "metadata": {
    "collapsed": true
   },
   "outputs": [],
   "source": [
    "texts = []\n",
    "with open(\"./gold/gold.txt\") as f:\n",
    "    for line in f.readlines():\n",
    "        texts.append(line[:-1])\n"
   ]
  },
  {
   "cell_type": "code",
   "execution_count": 9,
   "metadata": {
    "collapsed": false
   },
   "outputs": [
    {
     "name": "stdout",
     "output_type": "stream",
     "text": [
      "«Москва» (2001), реж. Александр Зельдович, сценарий Владимира Сорокина\n"
     ]
    }
   ],
   "source": [
    "print texts[5]"
   ]
  },
  {
   "cell_type": "markdown",
   "metadata": {},
   "source": [
    "### One-Hot-Encoding"
   ]
  },
  {
   "cell_type": "code",
   "execution_count": 6,
   "metadata": {
    "collapsed": false
   },
   "outputs": [],
   "source": [
    "from sklearn.externals import joblib\n",
    "\n",
    "from gold.feature_extraction import extract_features_from_unlabeled_data\n",
    "\n",
    "transformer = joblib.load(\"./gold/models/transformer\")\n",
    "model = joblib.load(\"./gold/models/model_1\")\n",
    "\n",
    "def splitParagraph(paragraph):\n",
    "    data_dict = extract_features_from_unlabeled_data(paragraph)\n",
    "    X = transformer.transform(data_dict)\n",
    "    y_pred = model.predict(X)\n",
    "\n",
    "    sentences = []\n",
    "    prev_pos = 0\n",
    "    for i, s in enumerate(data_dict):\n",
    "        if y_pred[i] == -1:\n",
    "            sentences.append(paragraph[prev_pos:s[\"_pos\"] + 2])\n",
    "            prev_pos = s[\"_pos\"] + 2\n",
    "\n",
    "    sentences.append(paragraph[prev_pos:])\n",
    "\n",
    "    return {'Paragraph': paragraph, 'Sentences': sentences}"
   ]
  },
  {
   "cell_type": "code",
   "execution_count": 15,
   "metadata": {
    "collapsed": false
   },
   "outputs": [
    {
     "data": {
      "text/plain": [
       "[{'_label': 0,\n",
       "  '_pos': 31,\n",
       "  '_text_num': None,\n",
       "  'dist_to_next': 93,\n",
       "  'dist_to_prev': 32,\n",
       "  'is_next_uppercase': 0,\n",
       "  'is_prev_uppercase': 0,\n",
       "  'len_of_next_word': 18,\n",
       "  'len_of_prev_word': 6,\n",
       "  'next_punctuation_kind': '.',\n",
       "  'prev_punctuation_kind': '|',\n",
       "  'punctuation_kind': '.'}]"
      ]
     },
     "execution_count": 15,
     "metadata": {},
     "output_type": "execute_result"
    }
   ],
   "source": [
    "extract_features_from_unlabeled_data(texts[5])"
   ]
  },
  {
   "cell_type": "code",
   "execution_count": 16,
   "metadata": {
    "collapsed": false
   },
   "outputs": [
    {
     "data": {
      "text/plain": [
       "{'Paragraph': '\\xc2\\xab\\xd0\\x9c\\xd0\\xbe\\xd1\\x81\\xd0\\xba\\xd0\\xb2\\xd0\\xb0\\xc2\\xbb (2001), \\xd1\\x80\\xd0\\xb5\\xd0\\xb6. \\xd0\\x90\\xd0\\xbb\\xd0\\xb5\\xd0\\xba\\xd1\\x81\\xd0\\xb0\\xd0\\xbd\\xd0\\xb4\\xd1\\x80 \\xd0\\x97\\xd0\\xb5\\xd0\\xbb\\xd1\\x8c\\xd0\\xb4\\xd0\\xbe\\xd0\\xb2\\xd0\\xb8\\xd1\\x87, \\xd1\\x81\\xd1\\x86\\xd0\\xb5\\xd0\\xbd\\xd0\\xb0\\xd1\\x80\\xd0\\xb8\\xd0\\xb9 \\xd0\\x92\\xd0\\xbb\\xd0\\xb0\\xd0\\xb4\\xd0\\xb8\\xd0\\xbc\\xd0\\xb8\\xd1\\x80\\xd0\\xb0 \\xd0\\xa1\\xd0\\xbe\\xd1\\x80\\xd0\\xbe\\xd0\\xba\\xd0\\xb8\\xd0\\xbd\\xd0\\xb0',\n",
       " 'Sentences': ['\\xc2\\xab\\xd0\\x9c\\xd0\\xbe\\xd1\\x81\\xd0\\xba\\xd0\\xb2\\xd0\\xb0\\xc2\\xbb (2001), \\xd1\\x80\\xd0\\xb5\\xd0\\xb6. \\xd0\\x90\\xd0\\xbb\\xd0\\xb5\\xd0\\xba\\xd1\\x81\\xd0\\xb0\\xd0\\xbd\\xd0\\xb4\\xd1\\x80 \\xd0\\x97\\xd0\\xb5\\xd0\\xbb\\xd1\\x8c\\xd0\\xb4\\xd0\\xbe\\xd0\\xb2\\xd0\\xb8\\xd1\\x87, \\xd1\\x81\\xd1\\x86\\xd0\\xb5\\xd0\\xbd\\xd0\\xb0\\xd1\\x80\\xd0\\xb8\\xd0\\xb9 \\xd0\\x92\\xd0\\xbb\\xd0\\xb0\\xd0\\xb4\\xd0\\xb8\\xd0\\xbc\\xd0\\xb8\\xd1\\x80\\xd0\\xb0 \\xd0\\xa1\\xd0\\xbe\\xd1\\x80\\xd0\\xbe\\xd0\\xba\\xd0\\xb8\\xd0\\xbd\\xd0\\xb0']}"
      ]
     },
     "execution_count": 16,
     "metadata": {},
     "output_type": "execute_result"
    }
   ],
   "source": [
    "splitParagraph(texts[5])"
   ]
  },
  {
   "cell_type": "code",
   "execution_count": null,
   "metadata": {
    "collapsed": true
   },
   "outputs": [],
   "source": []
  },
  {
   "cell_type": "code",
   "execution_count": null,
   "metadata": {
    "collapsed": true
   },
   "outputs": [],
   "source": []
  }
 ],
 "metadata": {
  "kernelspec": {
   "display_name": "Python 2",
   "language": "python",
   "name": "python2"
  },
  "language_info": {
   "codemirror_mode": {
    "name": "ipython",
    "version": 2
   },
   "file_extension": ".py",
   "mimetype": "text/x-python",
   "name": "python",
   "nbconvert_exporter": "python",
   "pygments_lexer": "ipython2",
   "version": "2.7.10"
  }
 },
 "nbformat": 4,
 "nbformat_minor": 0
}
