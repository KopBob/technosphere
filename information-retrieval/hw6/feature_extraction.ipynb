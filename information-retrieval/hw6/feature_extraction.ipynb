{
 "cells": [
  {
   "cell_type": "code",
   "execution_count": 1,
   "metadata": {
    "collapsed": false
   },
   "outputs": [],
   "source": [
    "%load_ext autoreload\n",
    "%autoreload 2\n",
    "%matplotlib inline"
   ]
  },
  {
   "cell_type": "code",
   "execution_count": 2,
   "metadata": {
    "collapsed": true
   },
   "outputs": [],
   "source": [
    "import sys\n",
    "import json\n",
    "import re"
   ]
  },
  {
   "cell_type": "code",
   "execution_count": 3,
   "metadata": {
    "collapsed": true
   },
   "outputs": [],
   "source": [
    "import pandas as pd"
   ]
  },
  {
   "cell_type": "code",
   "execution_count": 4,
   "metadata": {
    "collapsed": true
   },
   "outputs": [],
   "source": [
    "from itertools import chain\n",
    "from operator import itemgetter"
   ]
  },
  {
   "cell_type": "code",
   "execution_count": 5,
   "metadata": {
    "collapsed": true
   },
   "outputs": [],
   "source": [
    "texts = []"
   ]
  },
  {
   "cell_type": "code",
   "execution_count": 6,
   "metadata": {
    "collapsed": false
   },
   "outputs": [],
   "source": [
    "with open(\"./gold/gold.txt\") as f:\n",
    "    texts = f.readlines()"
   ]
  },
  {
   "cell_type": "code",
   "execution_count": 7,
   "metadata": {
    "collapsed": true
   },
   "outputs": [],
   "source": [
    "gold = None\n",
    "with open(\"./gold/gold.json\") as f:\n",
    "    gold = [json.loads(s) for s in f.readlines()]"
   ]
  },
  {
   "cell_type": "code",
   "execution_count": 8,
   "metadata": {
    "collapsed": false
   },
   "outputs": [],
   "source": [
    "paragraphs = list(map(itemgetter(\"Paragraph\"), gold))\n",
    "paragraph_sentences = list(map(itemgetter(\"Sentences\"), gold))"
   ]
  },
  {
   "cell_type": "code",
   "execution_count": null,
   "metadata": {
    "collapsed": true
   },
   "outputs": [],
   "source": []
  },
  {
   "cell_type": "markdown",
   "metadata": {},
   "source": [
    "### Features "
   ]
  },
  {
   "cell_type": "markdown",
   "metadata": {},
   "source": [
    "Задача классификации на два класса. -1 - разделитель предложений, 1 - обратно."
   ]
  },
  {
   "cell_type": "markdown",
   "metadata": {},
   "source": [
    "- если объект ! или ?, то скорее всего это разделитель.\n",
    "\n",
    "Фичи:\n",
    "- Factor: тип знака пунктуации (punctuation_kind: 0 - ., 1 - !, 2 - ?)\n",
    "- Factor: тип следующего знака пунктуации (next_punctuation_kind)\n",
    "- Factor: тип предыдущего знака пунктуации (prev_punctuation_kind)\n",
    "- Numeric: кол-во символов до предыдущего разделителя (dist_to_prev)\n",
    "- Numeric: кол-во символов до следующего разделителя (dist_to_next)\n",
    "- Numeric: кол-во слов у предыдущего слова (len_of_prev_word)\n",
    "- Numeric: кол-во слов у следующего слова (len_of_next_word)\n",
    "- Logic: индикатор прописной буквы у предыдущего слова(считаем цифры и любую другую пунктуацию как строчные) (is_prev_uppercase)\n",
    "- Logic: индикатор прописной буквы у следующего слова(считаем цифры и любую другую пунктуацию как пропиные) (is_next_uppercase)\n"
   ]
  },
  {
   "cell_type": "code",
   "execution_count": null,
   "metadata": {
    "collapsed": true
   },
   "outputs": [],
   "source": []
  },
  {
   "cell_type": "markdown",
   "metadata": {},
   "source": [
    "- 5 млн и 7 млн руб., а затем снова про\n",
    "- ить и боком. Честно-честно! X-Trail просто бе"
   ]
  },
  {
   "cell_type": "markdown",
   "metadata": {},
   "source": [
    "**Выборка состоит из [Номер текста, позиция в тексте, знак пунктуации, стоит ли в конце текста, метка(-1 - разделитель)]**"
   ]
  },
  {
   "cell_type": "code",
   "execution_count": 9,
   "metadata": {
    "collapsed": false
   },
   "outputs": [],
   "source": [
    "from gold.feature_extraction import extract_features_from_labeled_data"
   ]
  },
  {
   "cell_type": "code",
   "execution_count": 10,
   "metadata": {
    "collapsed": false
   },
   "outputs": [],
   "source": [
    "data = list(chain.from_iterable(extract_features_from_labeled_data(paragraphs, paragraph_sentences)))"
   ]
  },
  {
   "cell_type": "code",
   "execution_count": null,
   "metadata": {
    "collapsed": true
   },
   "outputs": [],
   "source": []
  },
  {
   "cell_type": "markdown",
   "metadata": {},
   "source": [
    "### Pandas"
   ]
  },
  {
   "cell_type": "code",
   "execution_count": 11,
   "metadata": {
    "collapsed": false
   },
   "outputs": [
    {
     "data": {
      "text/html": [
       "<div>\n",
       "<table border=\"1\" class=\"dataframe\">\n",
       "  <thead>\n",
       "    <tr style=\"text-align: right;\">\n",
       "      <th></th>\n",
       "      <th>_label</th>\n",
       "      <th>_pos</th>\n",
       "      <th>_text_num</th>\n",
       "      <th>dist_to_next</th>\n",
       "      <th>dist_to_prev</th>\n",
       "      <th>is_next_uppercase</th>\n",
       "      <th>is_prev_uppercase</th>\n",
       "      <th>len_of_next_word</th>\n",
       "      <th>len_of_prev_word</th>\n",
       "      <th>next_punctuation_kind</th>\n",
       "      <th>prev_punctuation_kind</th>\n",
       "      <th>punctuation_kind</th>\n",
       "    </tr>\n",
       "  </thead>\n",
       "  <tbody>\n",
       "    <tr>\n",
       "      <th>0</th>\n",
       "      <td>-1</td>\n",
       "      <td>218</td>\n",
       "      <td>0</td>\n",
       "      <td>62</td>\n",
       "      <td>219</td>\n",
       "      <td>1</td>\n",
       "      <td>1</td>\n",
       "      <td>2</td>\n",
       "      <td>8</td>\n",
       "      <td>.</td>\n",
       "      <td>|</td>\n",
       "      <td>.</td>\n",
       "    </tr>\n",
       "    <tr>\n",
       "      <th>1</th>\n",
       "      <td>1</td>\n",
       "      <td>280</td>\n",
       "      <td>0</td>\n",
       "      <td>9</td>\n",
       "      <td>62</td>\n",
       "      <td>1</td>\n",
       "      <td>1</td>\n",
       "      <td>7</td>\n",
       "      <td>1</td>\n",
       "      <td>.</td>\n",
       "      <td>.</td>\n",
       "      <td>.</td>\n",
       "    </tr>\n",
       "    <tr>\n",
       "      <th>2</th>\n",
       "      <td>-1</td>\n",
       "      <td>289</td>\n",
       "      <td>0</td>\n",
       "      <td>104</td>\n",
       "      <td>9</td>\n",
       "      <td>1</td>\n",
       "      <td>1</td>\n",
       "      <td>6</td>\n",
       "      <td>7</td>\n",
       "      <td>.</td>\n",
       "      <td>.</td>\n",
       "      <td>.</td>\n",
       "    </tr>\n",
       "    <tr>\n",
       "      <th>3</th>\n",
       "      <td>-1</td>\n",
       "      <td>393</td>\n",
       "      <td>0</td>\n",
       "      <td>10</td>\n",
       "      <td>104</td>\n",
       "      <td>1</td>\n",
       "      <td>0</td>\n",
       "      <td>1</td>\n",
       "      <td>6</td>\n",
       "      <td>.</td>\n",
       "      <td>.</td>\n",
       "      <td>.</td>\n",
       "    </tr>\n",
       "    <tr>\n",
       "      <th>4</th>\n",
       "      <td>1</td>\n",
       "      <td>403</td>\n",
       "      <td>0</td>\n",
       "      <td>3</td>\n",
       "      <td>10</td>\n",
       "      <td>0</td>\n",
       "      <td>0</td>\n",
       "      <td>1</td>\n",
       "      <td>1</td>\n",
       "      <td>.</td>\n",
       "      <td>.</td>\n",
       "      <td>.</td>\n",
       "    </tr>\n",
       "  </tbody>\n",
       "</table>\n",
       "</div>"
      ],
      "text/plain": [
       "   _label  _pos  _text_num  dist_to_next  dist_to_prev  is_next_uppercase  \\\n",
       "0      -1   218          0            62           219                  1   \n",
       "1       1   280          0             9            62                  1   \n",
       "2      -1   289          0           104             9                  1   \n",
       "3      -1   393          0            10           104                  1   \n",
       "4       1   403          0             3            10                  0   \n",
       "\n",
       "   is_prev_uppercase  len_of_next_word  len_of_prev_word  \\\n",
       "0                  1                 2                 8   \n",
       "1                  1                 7                 1   \n",
       "2                  1                 6                 7   \n",
       "3                  0                 1                 6   \n",
       "4                  0                 1                 1   \n",
       "\n",
       "  next_punctuation_kind prev_punctuation_kind punctuation_kind  \n",
       "0                     .                     |                .  \n",
       "1                     .                     .                .  \n",
       "2                     .                     .                .  \n",
       "3                     .                     .                .  \n",
       "4                     .                     .                .  "
      ]
     },
     "execution_count": 11,
     "metadata": {},
     "output_type": "execute_result"
    }
   ],
   "source": [
    "df = pd.DataFrame(data)\n",
    "df.head()"
   ]
  },
  {
   "cell_type": "code",
   "execution_count": 12,
   "metadata": {
    "collapsed": true
   },
   "outputs": [],
   "source": [
    "df.to_csv(\"./dataset2.csv\", index=False)"
   ]
  },
  {
   "cell_type": "code",
   "execution_count": null,
   "metadata": {
    "collapsed": true
   },
   "outputs": [],
   "source": []
  }
 ],
 "metadata": {
  "kernelspec": {
   "display_name": "Python 2",
   "language": "python",
   "name": "python2"
  },
  "language_info": {
   "codemirror_mode": {
    "name": "ipython",
    "version": 2
   },
   "file_extension": ".py",
   "mimetype": "text/x-python",
   "name": "python",
   "nbconvert_exporter": "python",
   "pygments_lexer": "ipython2",
   "version": "2.7.10"
  }
 },
 "nbformat": 4,
 "nbformat_minor": 0
}
